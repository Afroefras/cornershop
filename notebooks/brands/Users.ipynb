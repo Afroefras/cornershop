{
 "cells": [
  {
   "cell_type": "markdown",
   "id": "sealed-constraint",
   "metadata": {},
   "source": [
    "# Clustering users"
   ]
  },
  {
   "cell_type": "markdown",
   "id": "bottom-renaissance",
   "metadata": {
    "heading_collapsed": true
   },
   "source": [
    "## Import"
   ]
  },
  {
   "cell_type": "code",
   "execution_count": 16,
   "id": "architectural-classic",
   "metadata": {
    "ExecuteTime": {
     "end_time": "2021-04-20T22:11:08.872562Z",
     "start_time": "2021-04-20T22:11:08.866587Z"
    },
    "hidden": true
   },
   "outputs": [
    {
     "data": {
      "text/plain": [
       "['PG_985.csv']"
      ]
     },
     "execution_count": 16,
     "metadata": {},
     "output_type": "execute_result"
    }
   ],
   "source": [
    "# %load basic\n",
    "import os\n",
    "import numpy as np\n",
    "import pandas as pd\n",
    "import matplotlib.pyplot as plt\n",
    "pd.set_option('display.max_columns',200)\n",
    "pd.options.display.float_format = '{:.2f}'.format\n",
    "BASE_DIR = '/Users/efraflores/Desktop/EF/Corner/Clustering/data'\n",
    "sorted(os.listdir(BASE_DIR))"
   ]
  },
  {
   "cell_type": "code",
   "execution_count": 17,
   "id": "rural-freedom",
   "metadata": {
    "ExecuteTime": {
     "end_time": "2021-04-20T22:11:08.895253Z",
     "start_time": "2021-04-20T22:11:08.875373Z"
    },
    "hidden": true
   },
   "outputs": [
    {
     "data": {
      "text/html": [
       "<div>\n",
       "<style scoped>\n",
       "    .dataframe tbody tr th:only-of-type {\n",
       "        vertical-align: middle;\n",
       "    }\n",
       "\n",
       "    .dataframe tbody tr th {\n",
       "        vertical-align: top;\n",
       "    }\n",
       "\n",
       "    .dataframe thead th {\n",
       "        text-align: right;\n",
       "    }\n",
       "</style>\n",
       "<table border=\"1\" class=\"dataframe\">\n",
       "  <thead>\n",
       "    <tr style=\"text-align: right;\">\n",
       "      <th></th>\n",
       "      <th>user_id</th>\n",
       "      <th>membership</th>\n",
       "      <th>year_week</th>\n",
       "      <th>lat</th>\n",
       "      <th>lng</th>\n",
       "      <th>total_products</th>\n",
       "      <th>total_receipt</th>\n",
       "      <th>filtered_orders</th>\n",
       "      <th>filtered_products</th>\n",
       "      <th>filtered_receipt</th>\n",
       "    </tr>\n",
       "  </thead>\n",
       "  <tbody>\n",
       "    <tr>\n",
       "      <th>145</th>\n",
       "      <td>1996198</td>\n",
       "      <td>False</td>\n",
       "      <td>2021-16</td>\n",
       "      <td>19.41</td>\n",
       "      <td>-99.16</td>\n",
       "      <td>26</td>\n",
       "      <td>1570.86</td>\n",
       "      <td>1</td>\n",
       "      <td>1</td>\n",
       "      <td>48.90</td>\n",
       "    </tr>\n",
       "    <tr>\n",
       "      <th>0</th>\n",
       "      <td>4290</td>\n",
       "      <td>True</td>\n",
       "      <td>2021-16</td>\n",
       "      <td>19.39</td>\n",
       "      <td>-99.27</td>\n",
       "      <td>40</td>\n",
       "      <td>2836.37</td>\n",
       "      <td>1</td>\n",
       "      <td>1</td>\n",
       "      <td>29.90</td>\n",
       "    </tr>\n",
       "    <tr>\n",
       "      <th>48</th>\n",
       "      <td>249582</td>\n",
       "      <td>True</td>\n",
       "      <td>2021-16</td>\n",
       "      <td>19.43</td>\n",
       "      <td>-99.21</td>\n",
       "      <td>5</td>\n",
       "      <td>108.63</td>\n",
       "      <td>1</td>\n",
       "      <td>1</td>\n",
       "      <td>39.90</td>\n",
       "    </tr>\n",
       "    <tr>\n",
       "      <th>120</th>\n",
       "      <td>1120624</td>\n",
       "      <td>False</td>\n",
       "      <td>2021-16</td>\n",
       "      <td>19.41</td>\n",
       "      <td>-99.25</td>\n",
       "      <td>37</td>\n",
       "      <td>2389.05</td>\n",
       "      <td>1</td>\n",
       "      <td>1</td>\n",
       "      <td>37.90</td>\n",
       "    </tr>\n",
       "  </tbody>\n",
       "</table>\n",
       "</div>"
      ],
      "text/plain": [
       "     user_id  membership year_week   lat    lng  total_products  \\\n",
       "145  1996198       False   2021-16 19.41 -99.16              26   \n",
       "0       4290        True   2021-16 19.39 -99.27              40   \n",
       "48    249582        True   2021-16 19.43 -99.21               5   \n",
       "120  1120624       False   2021-16 19.41 -99.25              37   \n",
       "\n",
       "     total_receipt  filtered_orders  filtered_products  filtered_receipt  \n",
       "145        1570.86                1                  1             48.90  \n",
       "0          2836.37                1                  1             29.90  \n",
       "48          108.63                1                  1             39.90  \n",
       "120        2389.05                1                  1             37.90  "
      ]
     },
     "execution_count": 17,
     "metadata": {},
     "output_type": "execute_result"
    }
   ],
   "source": [
    "df = pd.read_csv(os.path.join(BASE_DIR,'PG_985.csv')).dropna()\n",
    "df.sample(4)"
   ]
  },
  {
   "cell_type": "markdown",
   "id": "secondary-april",
   "metadata": {
    "heading_collapsed": true
   },
   "source": [
    "## Functions"
   ]
  },
  {
   "cell_type": "code",
   "execution_count": 18,
   "id": "worse-yahoo",
   "metadata": {
    "ExecuteTime": {
     "end_time": "2021-04-20T22:11:08.902633Z",
     "start_time": "2021-04-20T22:11:08.897717Z"
    },
    "hidden": true
   },
   "outputs": [],
   "source": [
    "import time\n",
    "import numpy as np\n",
    "from IPython.lib.display import Audio\n",
    "\n",
    "start = time.time()\n",
    "def time_exp(x):\n",
    "    minutes, seconds = np.floor(x/60), 60*(x/60-np.floor(x/60))\n",
    "    print(f\"{'{:.0f}'.format(minutes)} minutos con {'{:.2f}'.format(seconds)} segundos\")\n",
    "    \n",
    "def tono(a = 1000, b = 700, play_time_seconds = 1, framerate = 4410):\n",
    "    t = np.linspace(0, play_time_seconds, framerate*play_time_seconds)*np.pi\n",
    "    return Audio(np.sin(a*t) + np.sin(b*t), rate = framerate, autoplay=True)"
   ]
  },
  {
   "cell_type": "code",
   "execution_count": 19,
   "id": "cordless-manor",
   "metadata": {
    "ExecuteTime": {
     "end_time": "2021-04-20T22:11:08.907598Z",
     "start_time": "2021-04-20T22:11:08.905122Z"
    },
    "hidden": true
   },
   "outputs": [],
   "source": [
    "def perc70(x):\n",
    "    return np.percentile(x,70)"
   ]
  },
  {
   "cell_type": "code",
   "execution_count": 20,
   "id": "collect-sacrifice",
   "metadata": {
    "ExecuteTime": {
     "end_time": "2021-04-20T22:11:08.912812Z",
     "start_time": "2021-04-20T22:11:08.909478Z"
    },
    "hidden": true
   },
   "outputs": [],
   "source": [
    "from sklearn.ensemble import IsolationForest\n",
    "\n",
    "def outliers(df,cols):\n",
    "    outlier = IsolationForest(contamination=.055,n_jobs=-1)\n",
    "    df['outlier'] = outlier.fit_predict(df[cols])\n",
    "    df = df[df['outlier']!=-1].drop(columns = 'outlier')\n",
    "    return df"
   ]
  },
  {
   "cell_type": "code",
   "execution_count": 21,
   "id": "stunning-nerve",
   "metadata": {
    "ExecuteTime": {
     "end_time": "2021-04-20T22:11:08.921905Z",
     "start_time": "2021-04-20T22:11:08.914765Z"
    },
    "hidden": true
   },
   "outputs": [],
   "source": [
    "import pygal\n",
    "from sklearn.cluster import KMeans\n",
    "from sklearn.metrics import davies_bouldin_score, silhouette_score, silhouette_samples\n",
    "\n",
    "def koptimo(df):\n",
    "    sse,db,slc = {}, {}, {}\n",
    "    for k in range(2, 16):\n",
    "        kmeans = KMeans(n_clusters = k, max_iter= 100, random_state = 22).fit(df)\n",
    "        if k == 3: labels = kmeans.labels_\n",
    "        clusters = kmeans.labels_\n",
    "        sse[k] = kmeans.inertia_ \n",
    "        db[k] = davies_bouldin_score(df, clusters)\n",
    "        slc[k] = silhouette_score(df, clusters)\n",
    "\n",
    "    dicts = [sse,db,slc]\n",
    "\n",
    "    for dicc in dicts:\n",
    "        min_value = min(list(dicc.values()))\n",
    "        max_value = max(list(dicc.values()))\n",
    "        for k in dicc.keys():\n",
    "            dicc[k] = (dicc[k] - min_value + 1)/(max_value - min_value + 1)\n",
    "\n",
    "    line_chart = pygal.Line()\n",
    "    line_chart.title = 'K-óptimo'\n",
    "    line_chart.x_labels = map(str, sse.keys())\n",
    "    for name, dicc in zip(['Inertia','DB','Silhouette'],dicts):\n",
    "        line_chart.add(name, list(map(lambda x: round(x,2), dicc.values())))\n",
    "    display(line_chart)"
   ]
  },
  {
   "cell_type": "code",
   "execution_count": 22,
   "id": "tropical-reaction",
   "metadata": {
    "ExecuteTime": {
     "end_time": "2021-04-20T22:11:08.938646Z",
     "start_time": "2021-04-20T22:11:08.925456Z"
    },
    "hidden": true
   },
   "outputs": [],
   "source": [
    "import string\n",
    "import warnings\n",
    "import seaborn as sns\n",
    "from sklearn.cluster import KMeans\n",
    "from sklearn.pipeline import Pipeline\n",
    "from sklearn.decomposition import PCA\n",
    "from sklearn.mixture import GaussianMixture\n",
    "from sklearn.preprocessing import MinMaxScaler\n",
    "\n",
    "warnings.filterwarnings('ignore')\n",
    "\n",
    "def clustering(df,\n",
    "               cols,\n",
    "               n_clusters=5,\n",
    "               #bubble_size=100,\n",
    "               kmeans=False):\n",
    "    df = df.copy()\n",
    "    mm_df = MinMaxScaler()\n",
    "    Xs = pd.DataFrame(mm_df.fit_transform(df[cols]), \n",
    "                      index = df.index,\n",
    "                      columns = cols)\n",
    "    \n",
    "    cluster = (KMeans(n_clusters, random_state=22) if kmeans \n",
    "               else GaussianMixture(n_clusters, random_state=22))\n",
    "    Xs['cluster'] = cluster.fit_predict(Xs)\n",
    "    \n",
    "    dict_cluster = dict(enumerate(string.ascii_uppercase[:n_clusters]))\n",
    "    df['cluster'] = Xs['cluster'].map(dict_cluster) \n",
    "    print(f'Distribución de registros en los {n_clusters} clústeres')\n",
    "    display(df['cluster'].value_counts(1).reset_index().sort_values(by='index'))\n",
    "\n",
    "    #Ahora con sólo dos componentes en PCA para apreciar gráficamente\n",
    "    pca = PCA(2)\n",
    "    pipe_pca = Pipeline(steps=[('MinMax', mm_df),('PCA', pca)])\n",
    "    Xg = pd.DataFrame(pipe_pca.fit_transform(df.iloc[:,:-1]), \n",
    "                      index = df.index,\n",
    "                      columns = ['p1','p2'])\n",
    "    Xg['cluster'] = df['cluster'].copy()\n",
    "    print(f'Varianza explicada con 2dim: {round(pca.explained_variance_ratio_.sum(),4)}')\n",
    "    \n",
    "    #Bubbleplot separando por color cada clúster\n",
    "    plt.figure(figsize=(10,6))\n",
    "    sns.scatterplot(data=Xg.sort_values(by='cluster'),\n",
    "                    x='p1',\n",
    "                    y='p2',\n",
    "                    #size=bubble_size,\n",
    "                    #sizes=(20,500),\n",
    "                    alpha=0.5,\n",
    "                    hue='cluster', \n",
    "                    palette = 'Paired')\n",
    "    #La leyenda estará fuera de la gráfica\n",
    "    plt.legend(bbox_to_anchor=(1.01, 1),borderaxespad=0)\n",
    "    plt.show();\n",
    "    \n",
    "    return df"
   ]
  },
  {
   "cell_type": "code",
   "execution_count": 23,
   "id": "narrow-envelope",
   "metadata": {
    "ExecuteTime": {
     "end_time": "2021-04-20T22:11:08.955882Z",
     "start_time": "2021-04-20T22:11:08.943612Z"
    },
    "hidden": true
   },
   "outputs": [],
   "source": [
    "import seaborn as sns\n",
    "\n",
    "def perfilamiento(df,cols='',cluster='cluster'):\n",
    "    n_clusters = len(set(df[cluster]))\n",
    "    \n",
    "    if cols=='':\n",
    "        cols=df.columns\n",
    "        aux = df[cols].groupby(cluster).mean()\n",
    "        for col in aux.columns:\n",
    "            aux[col] = aux[col]/aux[col].sum()\n",
    "\n",
    "        fig = plt.figure()\n",
    "        fig, ax = plt.subplots(figsize=(int(n_clusters/1.5),max(1,int(len(aux.columns)/5))))\n",
    "        fig.patch.set_facecolor('white')\n",
    "        fig.patch.set_alpha(0.9)\n",
    "        sns.heatmap(aux.transpose(), cmap = 'Blues')\n",
    "        plt.show();\n",
    "        \n",
    "    else:\n",
    "        for col in cols:\n",
    "            aux = df.copy()\n",
    "            aux['n'] = 1\n",
    "            aux = aux.pivot_table(index=cluster,\n",
    "                                  columns=col,\n",
    "                                  values='n',\n",
    "                                  aggfunc='count',\n",
    "                                  fill_value=0)\n",
    "            for columna in aux.columns:\n",
    "                aux[columna] = aux[columna]/aux[columna].sum()\n",
    "\n",
    "            fig = plt.figure()\n",
    "            fig, ax = plt.subplots(figsize=(int(n_clusters/1.5),max(1,int(len(set(df[col]))/4))))\n",
    "            fig.patch.set_facecolor('white')\n",
    "            fig.patch.set_alpha(0.9)\n",
    "            sns.heatmap(aux.transpose(), cmap = 'Blues')\n",
    "            plt.show();"
   ]
  },
  {
   "cell_type": "markdown",
   "id": "spread-present",
   "metadata": {
    "heading_collapsed": true
   },
   "source": [
    "## Transform"
   ]
  },
  {
   "cell_type": "code",
   "execution_count": 24,
   "id": "technical-farmer",
   "metadata": {
    "ExecuteTime": {
     "end_time": "2021-04-20T22:11:08.982125Z",
     "start_time": "2021-04-20T22:11:08.958578Z"
    },
    "hidden": true
   },
   "outputs": [
    {
     "data": {
      "text/html": [
       "<div>\n",
       "<style scoped>\n",
       "    .dataframe tbody tr th:only-of-type {\n",
       "        vertical-align: middle;\n",
       "    }\n",
       "\n",
       "    .dataframe tbody tr th {\n",
       "        vertical-align: top;\n",
       "    }\n",
       "\n",
       "    .dataframe thead th {\n",
       "        text-align: right;\n",
       "    }\n",
       "</style>\n",
       "<table border=\"1\" class=\"dataframe\">\n",
       "  <thead>\n",
       "    <tr style=\"text-align: right;\">\n",
       "      <th></th>\n",
       "      <th>user_id</th>\n",
       "      <th>membership</th>\n",
       "      <th>year_week</th>\n",
       "      <th>lat</th>\n",
       "      <th>lng</th>\n",
       "      <th>total_products</th>\n",
       "      <th>total_receipt</th>\n",
       "      <th>filtered_orders</th>\n",
       "      <th>filtered_products</th>\n",
       "      <th>filtered_receipt</th>\n",
       "      <th>total_ticket</th>\n",
       "      <th>filtered_ticket</th>\n",
       "    </tr>\n",
       "  </thead>\n",
       "  <tbody>\n",
       "    <tr>\n",
       "      <th>92</th>\n",
       "      <td>650310</td>\n",
       "      <td>True</td>\n",
       "      <td>2021-16</td>\n",
       "      <td>19.43</td>\n",
       "      <td>-99.18</td>\n",
       "      <td>24</td>\n",
       "      <td>1457.75</td>\n",
       "      <td>1</td>\n",
       "      <td>1</td>\n",
       "      <td>55.90</td>\n",
       "      <td>60.74</td>\n",
       "      <td>55.90</td>\n",
       "    </tr>\n",
       "    <tr>\n",
       "      <th>66</th>\n",
       "      <td>403880</td>\n",
       "      <td>False</td>\n",
       "      <td>2021-16</td>\n",
       "      <td>19.42</td>\n",
       "      <td>-99.26</td>\n",
       "      <td>50</td>\n",
       "      <td>2062.90</td>\n",
       "      <td>1</td>\n",
       "      <td>1</td>\n",
       "      <td>29.90</td>\n",
       "      <td>41.26</td>\n",
       "      <td>29.90</td>\n",
       "    </tr>\n",
       "    <tr>\n",
       "      <th>125</th>\n",
       "      <td>1311800</td>\n",
       "      <td>True</td>\n",
       "      <td>2021-16</td>\n",
       "      <td>19.37</td>\n",
       "      <td>-99.28</td>\n",
       "      <td>35</td>\n",
       "      <td>1130.86</td>\n",
       "      <td>1</td>\n",
       "      <td>1</td>\n",
       "      <td>37.90</td>\n",
       "      <td>32.31</td>\n",
       "      <td>37.90</td>\n",
       "    </tr>\n",
       "    <tr>\n",
       "      <th>70</th>\n",
       "      <td>464017</td>\n",
       "      <td>True</td>\n",
       "      <td>2021-16</td>\n",
       "      <td>19.49</td>\n",
       "      <td>-99.14</td>\n",
       "      <td>60</td>\n",
       "      <td>3478.31</td>\n",
       "      <td>1</td>\n",
       "      <td>1</td>\n",
       "      <td>39.00</td>\n",
       "      <td>57.97</td>\n",
       "      <td>39.00</td>\n",
       "    </tr>\n",
       "  </tbody>\n",
       "</table>\n",
       "</div>"
      ],
      "text/plain": [
       "     user_id  membership year_week   lat    lng  total_products  \\\n",
       "92    650310        True   2021-16 19.43 -99.18              24   \n",
       "66    403880       False   2021-16 19.42 -99.26              50   \n",
       "125  1311800        True   2021-16 19.37 -99.28              35   \n",
       "70    464017        True   2021-16 19.49 -99.14              60   \n",
       "\n",
       "     total_receipt  filtered_orders  filtered_products  filtered_receipt  \\\n",
       "92         1457.75                1                  1             55.90   \n",
       "66         2062.90                1                  1             29.90   \n",
       "125        1130.86                1                  1             37.90   \n",
       "70         3478.31                1                  1             39.00   \n",
       "\n",
       "     total_ticket  filtered_ticket  \n",
       "92          60.74            55.90  \n",
       "66          41.26            29.90  \n",
       "125         32.31            37.90  \n",
       "70          57.97            39.00  "
      ]
     },
     "execution_count": 24,
     "metadata": {},
     "output_type": "execute_result"
    }
   ],
   "source": [
    "for m in ['total','filtered']:\n",
    "    df[f'{m}_ticket'] = df[f'{m}_receipt'] / df[f'{m}_products']\n",
    "\n",
    "df.sample(4)"
   ]
  },
  {
   "cell_type": "code",
   "execution_count": 25,
   "id": "inclusive-booth",
   "metadata": {
    "ExecuteTime": {
     "end_time": "2021-04-20T22:11:09.330968Z",
     "start_time": "2021-04-20T22:11:08.984517Z"
    },
    "hidden": true
   },
   "outputs": [
    {
     "data": {
      "text/html": [
       "<div>\n",
       "<style scoped>\n",
       "    .dataframe tbody tr th:only-of-type {\n",
       "        vertical-align: middle;\n",
       "    }\n",
       "\n",
       "    .dataframe tbody tr th {\n",
       "        vertical-align: top;\n",
       "    }\n",
       "\n",
       "    .dataframe thead th {\n",
       "        text-align: right;\n",
       "    }\n",
       "</style>\n",
       "<table border=\"1\" class=\"dataframe\">\n",
       "  <thead>\n",
       "    <tr style=\"text-align: right;\">\n",
       "      <th></th>\n",
       "      <th>membership</th>\n",
       "      <th>lat</th>\n",
       "      <th>lng</th>\n",
       "      <th>filtered_orders_2021-16_mean</th>\n",
       "      <th>filtered_orders_2021-16_median</th>\n",
       "      <th>filtered_orders_2021-16_perc70</th>\n",
       "      <th>filtered_orders_2021-16_sum</th>\n",
       "      <th>filtered_products_2021-16_mean</th>\n",
       "      <th>filtered_products_2021-16_median</th>\n",
       "      <th>filtered_products_2021-16_perc70</th>\n",
       "      <th>filtered_products_2021-16_sum</th>\n",
       "      <th>filtered_receipt_2021-16_mean</th>\n",
       "      <th>filtered_receipt_2021-16_median</th>\n",
       "      <th>filtered_receipt_2021-16_perc70</th>\n",
       "      <th>filtered_receipt_2021-16_sum</th>\n",
       "      <th>filtered_ticket_2021-16_mean</th>\n",
       "      <th>filtered_ticket_2021-16_median</th>\n",
       "      <th>filtered_ticket_2021-16_perc70</th>\n",
       "      <th>filtered_ticket_2021-16_sum</th>\n",
       "      <th>total_products_2021-16_mean</th>\n",
       "      <th>total_products_2021-16_median</th>\n",
       "      <th>total_products_2021-16_perc70</th>\n",
       "      <th>total_products_2021-16_sum</th>\n",
       "      <th>total_receipt_2021-16_mean</th>\n",
       "      <th>total_receipt_2021-16_median</th>\n",
       "      <th>total_receipt_2021-16_perc70</th>\n",
       "      <th>total_receipt_2021-16_sum</th>\n",
       "      <th>total_ticket_2021-16_mean</th>\n",
       "      <th>total_ticket_2021-16_median</th>\n",
       "      <th>total_ticket_2021-16_perc70</th>\n",
       "      <th>total_ticket_2021-16_sum</th>\n",
       "    </tr>\n",
       "    <tr>\n",
       "      <th>user_id</th>\n",
       "      <th></th>\n",
       "      <th></th>\n",
       "      <th></th>\n",
       "      <th></th>\n",
       "      <th></th>\n",
       "      <th></th>\n",
       "      <th></th>\n",
       "      <th></th>\n",
       "      <th></th>\n",
       "      <th></th>\n",
       "      <th></th>\n",
       "      <th></th>\n",
       "      <th></th>\n",
       "      <th></th>\n",
       "      <th></th>\n",
       "      <th></th>\n",
       "      <th></th>\n",
       "      <th></th>\n",
       "      <th></th>\n",
       "      <th></th>\n",
       "      <th></th>\n",
       "      <th></th>\n",
       "      <th></th>\n",
       "      <th></th>\n",
       "      <th></th>\n",
       "      <th></th>\n",
       "      <th></th>\n",
       "      <th></th>\n",
       "      <th></th>\n",
       "      <th></th>\n",
       "      <th></th>\n",
       "    </tr>\n",
       "  </thead>\n",
       "  <tbody>\n",
       "    <tr>\n",
       "      <th>118698</th>\n",
       "      <td>False</td>\n",
       "      <td>19.43</td>\n",
       "      <td>-99.17</td>\n",
       "      <td>1</td>\n",
       "      <td>1</td>\n",
       "      <td>1</td>\n",
       "      <td>1</td>\n",
       "      <td>1</td>\n",
       "      <td>1</td>\n",
       "      <td>1</td>\n",
       "      <td>1</td>\n",
       "      <td>48.90</td>\n",
       "      <td>48.90</td>\n",
       "      <td>48.90</td>\n",
       "      <td>48.90</td>\n",
       "      <td>48.90</td>\n",
       "      <td>48.90</td>\n",
       "      <td>48.90</td>\n",
       "      <td>48.90</td>\n",
       "      <td>19</td>\n",
       "      <td>19</td>\n",
       "      <td>19</td>\n",
       "      <td>19</td>\n",
       "      <td>2307.16</td>\n",
       "      <td>2307.16</td>\n",
       "      <td>2307.16</td>\n",
       "      <td>2307.16</td>\n",
       "      <td>121.43</td>\n",
       "      <td>121.43</td>\n",
       "      <td>121.43</td>\n",
       "      <td>121.43</td>\n",
       "    </tr>\n",
       "    <tr>\n",
       "      <th>251614</th>\n",
       "      <td>True</td>\n",
       "      <td>19.33</td>\n",
       "      <td>-99.23</td>\n",
       "      <td>1</td>\n",
       "      <td>1</td>\n",
       "      <td>1</td>\n",
       "      <td>1</td>\n",
       "      <td>1</td>\n",
       "      <td>1</td>\n",
       "      <td>1</td>\n",
       "      <td>1</td>\n",
       "      <td>61.50</td>\n",
       "      <td>61.50</td>\n",
       "      <td>61.50</td>\n",
       "      <td>61.50</td>\n",
       "      <td>61.50</td>\n",
       "      <td>61.50</td>\n",
       "      <td>61.50</td>\n",
       "      <td>61.50</td>\n",
       "      <td>22</td>\n",
       "      <td>22</td>\n",
       "      <td>22</td>\n",
       "      <td>22</td>\n",
       "      <td>2325.73</td>\n",
       "      <td>2325.73</td>\n",
       "      <td>2325.73</td>\n",
       "      <td>2325.73</td>\n",
       "      <td>105.72</td>\n",
       "      <td>105.72</td>\n",
       "      <td>105.72</td>\n",
       "      <td>105.72</td>\n",
       "    </tr>\n",
       "    <tr>\n",
       "      <th>1749834</th>\n",
       "      <td>True</td>\n",
       "      <td>19.37</td>\n",
       "      <td>-99.16</td>\n",
       "      <td>1</td>\n",
       "      <td>1</td>\n",
       "      <td>1</td>\n",
       "      <td>1</td>\n",
       "      <td>1</td>\n",
       "      <td>1</td>\n",
       "      <td>1</td>\n",
       "      <td>1</td>\n",
       "      <td>37.90</td>\n",
       "      <td>37.90</td>\n",
       "      <td>37.90</td>\n",
       "      <td>37.90</td>\n",
       "      <td>37.90</td>\n",
       "      <td>37.90</td>\n",
       "      <td>37.90</td>\n",
       "      <td>37.90</td>\n",
       "      <td>15</td>\n",
       "      <td>15</td>\n",
       "      <td>15</td>\n",
       "      <td>15</td>\n",
       "      <td>1621.19</td>\n",
       "      <td>1621.19</td>\n",
       "      <td>1621.19</td>\n",
       "      <td>1621.19</td>\n",
       "      <td>108.08</td>\n",
       "      <td>108.08</td>\n",
       "      <td>108.08</td>\n",
       "      <td>108.08</td>\n",
       "    </tr>\n",
       "    <tr>\n",
       "      <th>294824</th>\n",
       "      <td>True</td>\n",
       "      <td>19.36</td>\n",
       "      <td>-99.19</td>\n",
       "      <td>1</td>\n",
       "      <td>1</td>\n",
       "      <td>1</td>\n",
       "      <td>1</td>\n",
       "      <td>1</td>\n",
       "      <td>1</td>\n",
       "      <td>1</td>\n",
       "      <td>1</td>\n",
       "      <td>48.90</td>\n",
       "      <td>48.90</td>\n",
       "      <td>48.90</td>\n",
       "      <td>48.90</td>\n",
       "      <td>48.90</td>\n",
       "      <td>48.90</td>\n",
       "      <td>48.90</td>\n",
       "      <td>48.90</td>\n",
       "      <td>18</td>\n",
       "      <td>18</td>\n",
       "      <td>18</td>\n",
       "      <td>18</td>\n",
       "      <td>2374.28</td>\n",
       "      <td>2374.28</td>\n",
       "      <td>2374.28</td>\n",
       "      <td>2374.28</td>\n",
       "      <td>131.90</td>\n",
       "      <td>131.90</td>\n",
       "      <td>131.90</td>\n",
       "      <td>131.90</td>\n",
       "    </tr>\n",
       "  </tbody>\n",
       "</table>\n",
       "</div>"
      ],
      "text/plain": [
       "         membership   lat    lng  filtered_orders_2021-16_mean  \\\n",
       "user_id                                                          \n",
       "118698        False 19.43 -99.17                             1   \n",
       "251614         True 19.33 -99.23                             1   \n",
       "1749834        True 19.37 -99.16                             1   \n",
       "294824         True 19.36 -99.19                             1   \n",
       "\n",
       "         filtered_orders_2021-16_median  filtered_orders_2021-16_perc70  \\\n",
       "user_id                                                                   \n",
       "118698                                1                               1   \n",
       "251614                                1                               1   \n",
       "1749834                               1                               1   \n",
       "294824                                1                               1   \n",
       "\n",
       "         filtered_orders_2021-16_sum  filtered_products_2021-16_mean  \\\n",
       "user_id                                                                \n",
       "118698                             1                               1   \n",
       "251614                             1                               1   \n",
       "1749834                            1                               1   \n",
       "294824                             1                               1   \n",
       "\n",
       "         filtered_products_2021-16_median  filtered_products_2021-16_perc70  \\\n",
       "user_id                                                                       \n",
       "118698                                  1                                 1   \n",
       "251614                                  1                                 1   \n",
       "1749834                                 1                                 1   \n",
       "294824                                  1                                 1   \n",
       "\n",
       "         filtered_products_2021-16_sum  filtered_receipt_2021-16_mean  \\\n",
       "user_id                                                                 \n",
       "118698                               1                          48.90   \n",
       "251614                               1                          61.50   \n",
       "1749834                              1                          37.90   \n",
       "294824                               1                          48.90   \n",
       "\n",
       "         filtered_receipt_2021-16_median  filtered_receipt_2021-16_perc70  \\\n",
       "user_id                                                                     \n",
       "118698                             48.90                            48.90   \n",
       "251614                             61.50                            61.50   \n",
       "1749834                            37.90                            37.90   \n",
       "294824                             48.90                            48.90   \n",
       "\n",
       "         filtered_receipt_2021-16_sum  filtered_ticket_2021-16_mean  \\\n",
       "user_id                                                               \n",
       "118698                          48.90                         48.90   \n",
       "251614                          61.50                         61.50   \n",
       "1749834                         37.90                         37.90   \n",
       "294824                          48.90                         48.90   \n",
       "\n",
       "         filtered_ticket_2021-16_median  filtered_ticket_2021-16_perc70  \\\n",
       "user_id                                                                   \n",
       "118698                            48.90                           48.90   \n",
       "251614                            61.50                           61.50   \n",
       "1749834                           37.90                           37.90   \n",
       "294824                            48.90                           48.90   \n",
       "\n",
       "         filtered_ticket_2021-16_sum  total_products_2021-16_mean  \\\n",
       "user_id                                                             \n",
       "118698                         48.90                           19   \n",
       "251614                         61.50                           22   \n",
       "1749834                        37.90                           15   \n",
       "294824                         48.90                           18   \n",
       "\n",
       "         total_products_2021-16_median  total_products_2021-16_perc70  \\\n",
       "user_id                                                                 \n",
       "118698                              19                             19   \n",
       "251614                              22                             22   \n",
       "1749834                             15                             15   \n",
       "294824                              18                             18   \n",
       "\n",
       "         total_products_2021-16_sum  total_receipt_2021-16_mean  \\\n",
       "user_id                                                           \n",
       "118698                           19                     2307.16   \n",
       "251614                           22                     2325.73   \n",
       "1749834                          15                     1621.19   \n",
       "294824                           18                     2374.28   \n",
       "\n",
       "         total_receipt_2021-16_median  total_receipt_2021-16_perc70  \\\n",
       "user_id                                                               \n",
       "118698                        2307.16                       2307.16   \n",
       "251614                        2325.73                       2325.73   \n",
       "1749834                       1621.19                       1621.19   \n",
       "294824                        2374.28                       2374.28   \n",
       "\n",
       "         total_receipt_2021-16_sum  total_ticket_2021-16_mean  \\\n",
       "user_id                                                         \n",
       "118698                     2307.16                     121.43   \n",
       "251614                     2325.73                     105.72   \n",
       "1749834                    1621.19                     108.08   \n",
       "294824                     2374.28                     131.90   \n",
       "\n",
       "         total_ticket_2021-16_median  total_ticket_2021-16_perc70  \\\n",
       "user_id                                                             \n",
       "118698                        121.43                       121.43   \n",
       "251614                        105.72                       105.72   \n",
       "1749834                       108.08                       108.08   \n",
       "294824                        131.90                       131.90   \n",
       "\n",
       "         total_ticket_2021-16_sum  \n",
       "user_id                            \n",
       "118698                     121.43  \n",
       "251614                     105.72  \n",
       "1749834                    108.08  \n",
       "294824                     131.90  "
      ]
     },
     "execution_count": 25,
     "metadata": {},
     "output_type": "execute_result"
    }
   ],
   "source": [
    "df = df.pivot_table(index=['user_id','membership','lat','lng'],columns='year_week',values=df.columns[5:],aggfunc=['sum','mean','median',perc70])\n",
    "df.columns = [y+'_'+z+'_'+x for x,y,z in df.columns]\n",
    "df = df[sorted(df.columns)].copy()\n",
    "df = df.reset_index().set_index('user_id')\n",
    "df.sample(4)"
   ]
  },
  {
   "cell_type": "code",
   "execution_count": 26,
   "id": "involved-edinburgh",
   "metadata": {
    "ExecuteTime": {
     "end_time": "2021-04-20T22:11:09.583856Z",
     "start_time": "2021-04-20T22:11:09.333498Z"
    },
    "hidden": true
   },
   "outputs": [],
   "source": [
    "df = outliers(df,df.columns)"
   ]
  },
  {
   "cell_type": "markdown",
   "id": "supreme-favorite",
   "metadata": {},
   "source": [
    "## Clustering"
   ]
  },
  {
   "cell_type": "code",
   "execution_count": 28,
   "id": "lesbian-proportion",
   "metadata": {
    "ExecuteTime": {
     "end_time": "2021-04-20T22:11:59.906424Z",
     "start_time": "2021-04-20T22:11:59.469531Z"
    }
   },
   "outputs": [
    {
     "name": "stdout",
     "output_type": "stream",
     "text": [
      "Distribución de registros en los 7 clústeres\n"
     ]
    },
    {
     "data": {
      "text/html": [
       "<div>\n",
       "<style scoped>\n",
       "    .dataframe tbody tr th:only-of-type {\n",
       "        vertical-align: middle;\n",
       "    }\n",
       "\n",
       "    .dataframe tbody tr th {\n",
       "        vertical-align: top;\n",
       "    }\n",
       "\n",
       "    .dataframe thead th {\n",
       "        text-align: right;\n",
       "    }\n",
       "</style>\n",
       "<table border=\"1\" class=\"dataframe\">\n",
       "  <thead>\n",
       "    <tr style=\"text-align: right;\">\n",
       "      <th></th>\n",
       "      <th>index</th>\n",
       "      <th>cluster</th>\n",
       "    </tr>\n",
       "  </thead>\n",
       "  <tbody>\n",
       "    <tr>\n",
       "      <th>0</th>\n",
       "      <td>A</td>\n",
       "      <td>0.24</td>\n",
       "    </tr>\n",
       "    <tr>\n",
       "      <th>2</th>\n",
       "      <td>B</td>\n",
       "      <td>0.16</td>\n",
       "    </tr>\n",
       "    <tr>\n",
       "      <th>3</th>\n",
       "      <td>C</td>\n",
       "      <td>0.13</td>\n",
       "    </tr>\n",
       "    <tr>\n",
       "      <th>5</th>\n",
       "      <td>D</td>\n",
       "      <td>0.12</td>\n",
       "    </tr>\n",
       "    <tr>\n",
       "      <th>6</th>\n",
       "      <td>E</td>\n",
       "      <td>0.02</td>\n",
       "    </tr>\n",
       "    <tr>\n",
       "      <th>4</th>\n",
       "      <td>F</td>\n",
       "      <td>0.13</td>\n",
       "    </tr>\n",
       "    <tr>\n",
       "      <th>1</th>\n",
       "      <td>G</td>\n",
       "      <td>0.21</td>\n",
       "    </tr>\n",
       "  </tbody>\n",
       "</table>\n",
       "</div>"
      ],
      "text/plain": [
       "  index  cluster\n",
       "0     A     0.24\n",
       "2     B     0.16\n",
       "3     C     0.13\n",
       "5     D     0.12\n",
       "6     E     0.02\n",
       "4     F     0.13\n",
       "1     G     0.21"
      ]
     },
     "metadata": {},
     "output_type": "display_data"
    },
    {
     "name": "stdout",
     "output_type": "stream",
     "text": [
      "Varianza explicada con 2dim: 0.5262\n"
     ]
    },
    {
     "data": {
      "image/png": "[encoded data removed]",
      "text/plain": [
       "<Figure size 720x432 with 1 Axes>"
      ]
     },
     "metadata": {
      "needs_background": "light"
     },
     "output_type": "display_data"
    }
   ],
   "source": [
    "df = clustering(df,df.columns,7,kmeans=True)"
   ]
  },
  {
   "cell_type": "code",
   "execution_count": 29,
   "id": "returning-snowboard",
   "metadata": {
    "ExecuteTime": {
     "end_time": "2021-04-20T22:12:07.244024Z",
     "start_time": "2021-04-20T22:12:06.726754Z"
    }
   },
   "outputs": [
    {
     "data": {
      "text/plain": [
       "<Figure size 432x288 with 0 Axes>"
      ]
     },
     "metadata": {},
     "output_type": "display_data"
    },
    {
     "data": {
      "image/png": "[encoded data removed]",
      "text/plain": [
       "<Figure size 288x432 with 2 Axes>"
      ]
     },
     "metadata": {},
     "output_type": "display_data"
    }
   ],
   "source": [
    "perfilamiento(df)"
   ]
  },
  {
   "cell_type": "markdown",
   "id": "patient-vienna",
   "metadata": {},
   "source": [
    "## Fin"
   ]
  },
  {
   "cell_type": "code",
   "execution_count": 14,
   "id": "integral-bones",
   "metadata": {
    "ExecuteTime": {
     "end_time": "2021-04-20T22:10:51.579457Z",
     "start_time": "2021-04-20T22:10:51.573055Z"
    }
   },
   "outputs": [
    {
     "name": "stdout",
     "output_type": "stream",
     "text": [
      "0 minutos con 2.06 segundos\n"
     ]
    },
    {
     "data": {
      "text/html": [
       "\n",
       "                <audio  controls=\"controls\" autoplay=\"autoplay\">\n",
       "                    <source src=\"data:audio/wav;base64,UklGRpgiAABXQVZFZm10IBAAAAABAAEAOhEAAHQiAAACABAAZGF0YXQiAAAAAMFIk3VMdgdNgQxRzyKsaKylyRzyThJvHiwXwAed/rAE+Bc/LL0xNx7S89DBdZ6ynH7CtQS9SqR4OHufUGAJXsHtk2qQYrTI7eEjhEJoQtYqWAx09zT0xP6iCnsKgviu2oPARLt21IcHLEKsa/lvb0lnBM+6X4ljg3uqIu4bM1NfumRKRjoVBOjOz0HR/uOT+IQBvPpu66nh4en/BkwvDlBzVmw5if+bvWSO2YZwrAXyAT2EcJR541apGO/Y6K/XqfTC7erNDd8dgRl1CkT/ZwL5E0ApbzKrI5r8Z8rFoguaDLmu9yc/N3NMfhhbIhcPzTyZ0o2mq/nibRtDP4pEIDCIEf35gfNY/A4JzQvz/E/gIcQTuq7NG/0pOINmcHI0UwcSDMdrj+2Ap6AC4d4nClq2ZsZNaR737jjSVc8C4G71GwHt/DfuXeLG5n0A/yeiS9dXL0FKC9zIaJTJhLOiOOR3MAhqZXvTX8YkUuPctFCowbyP46gInRx5G0wNaQCeABwQ2iVTMkso/gRV0xyoupirsPTq6zJrbNJ/eGSwJIDZ5p+cjMSjMdhFEvo6z0UVNfcWHf1V8w36IgeFDOkA8eVZyOK518cV87otM2Bzc9ZbUh/w09mWA4DrlxnU7ht+U29ng1SbJ4z2gdUSzi3c8vElAMH+GfGe42XkdvqTIG9GD1jlR58WlNSomz+EKJrI1k0jM2K0e7ZnrTBa7vS65qcrtx/c7AKjGgEdMRACAlz/eAwlInUxESzlDHncYq67mHKpsN40Jlhkx3+fbNwxiebap9KM3JyYzYUIrzUnRpk5jhzJALrz+vf0BKgMWAR66xLNpbr+wpXpByPYWAdzOmMdLE3hjp+qgGaQk8dwD79L2mZjWqwwr/6o2YjNmNgy7qj+KAD681rlveL79CcZj0AkV31NYiGZ4AekOoXqkuDJrhUdWX16bW41POT5JMKiqE2yvdSs/PAXBh4KEwEEpf4hCTwe5C/2LjUUruV4tQWadKML0y0ZG1ssfnJzez7/8wGxe44Ml1TDTv5rL4VFkD0zIvgEtvQz9pcCPww2B9DwMdJOvCq/uuA4GJFQMnFMaT04+O5vqeKCM4qcu44C4ULyZEhfdzlCB6jexs1d1UPqpfwWAcX2fufL4R3w2xEgOiVV61FxK8DsZK2zhw+Nq73HB+JOv3fdczVHygVZyo2qQq6Hzfv1gxR2HsEVVgZ6/igGNhq0Lfww2BrS7j69jJy+ninIAwzXUAh72nhiSrYBQLuVkW6Sjbm/8z0o4EPhQMsnmglO9sz0IwBWC3sJ3PWY18y+X7yd2HENgEcBbvxtjUPC/Fm0o4ZphVywc/X/OLNhGmPbQSwQduTYzpTSPeYm+oMBY/n06Yfh6evJCkIzIlIqVa803/ict56Lp4hSssf5o0OBc+93g1HmEX3Tqq0kq57G8u5jEEUeQBjuCNf+nAMuFvgqJjK9IMT3lMU+oFqbK77k/q5FZ3bHfGdVgQ92xh2WGI9nsPzoNyAzQXVDOS2dDoL41fOu/foJJAuK+izdCcKdulbR2wLJPYdpP3HpTX0KKMDiixqC/KVJ6DUuI13DZbNJTBkF68XQU9A24jn3ZwHA+6fs5uFp6A0EEywxTjdXAD3NBIrC6JC+hfin2+uFN85tknr7Wg8edt33sQepIsCq55cLZh1uGrULuP+LATwSyCd8MtQlYgBWzgWlS5kwtfrxyTlbcCp/Z18xHYHSCJwcjQioK95wF3w9N0VgMuwTT/td8037PQgyDMb+0eLvxd6598qY+JEz12MRczBX/Re1zI6SU4ChnDzboyJIVzFn3lCBIkPyktOvzkje6/O/AMr9fe/b4qDlwP20JGpJFFhNRGMQBc58l1uEwJ4x3q8qtma4e3djGSon6G63/acwukHgLQbTGzcclQ4RAf7/dg49JAcyFCqTCGHXyqqRmE+tb+VRLfto/38/aJkqO99Io4eMkqBz0wEOvzgURiY3cBmu/nDzGfkxBqcMgQJr6GTKG7qQxcnu/ygNXXBzR18UJdTZkZocgGuUec5wFjFQV2c9V6krGvo+17zNjNpP8I3/b/9i8lXkkuP090Ud5kPKV4VKfBvk2T+ff4TGlvjQSx1PXlp72WrcNW3zBL4UqOi01Ng0AIcZhh13EdoC+v7xCm0g1zB2LTkQkeBwsSWZoKZu2XEgYGBBf9JvjDd67MerYY0jmvvICAQEM/9FbzsRH5YCF/Ql9+wDigyxBeDtTs9HuyrBj+U7HkVVYnIXZpgxWefPo3WBeY0uwsAJ8EcrZrBcnzRyAsfbis0c13fs0/2hADz1QuY84r3y4xXDPWJWmk/zJf7lE6glhiOQWsSGD7NUdXkBcSxBJf+qxVepZbCB0b/5gRZLHkUUAQWB/sIHdBz9LvgvPxfC6dm4/pozoRvOVROqVvZ8B3beQxL6brWuj9iU6r6l+VYs6kQfP7Mk+gZY9Yb1gQHnC0wIGPOQ1FG9y70G3WoToEzxb45rYD0Y9SquXYTkh4O2wPybPqtjHmFBPTALJOElzhHUe+iX+1cB9feN6JjhKe6tDh437VOCU6gvJvLWsUSJ64qCuI4BAUoLdth14ksoC03OyavBrGrK5PLEEnUe5RZ2B5P++ARrGI0smzGPHdTy48AMnhKdmsMqBvtLKHnIemZP1wcfwGyTyZBmtfvuxSTQQh9COyrJCzX3T/QL/8gKTAr99w/aJsB2u0bVtQhBQytsnW9ISOACf7nKiMGDoquY70401V9uZGtFNhRK55jPgdFx5Ob4hwF5+iHrnuFE6r8HGDB+UDlWfzg1/mS8zY0sh5atkfNaPiZxSXnVVU8X09durxOqrcO861YO+B1DGSYKK/+iAmkUmylmMhojpfttyT2iRZoMuh75ekDjcwh++1mcFbjLk5gKjpSsLeRnHK0/WESOL/EQrvmP85v8PwmvC3r8rt+ywyi6ZM4//kw5JGc8cixShxCnxa2OH4GxoXXiJymxWo1m+kxjHSnu6NGEz3LgzPUtAbP85+1B4hXnMQHQKCpMvldgQAEKlcetk/CEuqO95eUx0mpEe+FebyMi4kC0bqhrvWLkQgnKHEYb+wxCAMoAiBA/JmAy0ycVBFTSeKfOmIuxWexOND1tun98YzIjFtgYn62MmaRi2VETgTu2RY00Wha9/FPzTPpdB3gMfwBR5drH27lxyCz05y70YGlz8FreHXrS9ZUJgNWYhNVJHUhUa2fOU5cmrfUY1S3Ol9xZ8kgAkv7G8HTjn+Qb+2YhDEcXWDRHYxVC08uaO4QLm0DYyiQiY7975GZeLxntObrjp8G389yWA+Ua3BzeD9ABef/cDJIiljGwKwwMdNulraqYMKoG4KInTWXcf8drbDAQ5emmuoyTncLOoQlSNilGHznuG1oAp/Mx+DUFqwz+A97qh8yEunvDnOo6JLVZJXN4YrkqzN+HnoSALJHxyNkQqkz8ZsdZrS/B/SfZjc362KDu2f4FAKnzI+Xj4o/1+Rk9QUxX7Ew4IEDfC6MLhaeTR8s2Fy9as3q+bfM6l/hKwX6ozbKN1WT9RhjwHboSxAOz/nsJrR4ZMK8ubROo5KW00JkOpE7UohowXG1+wXIdPXzy7685jqOXc8R2/ykwpEUnPZMhewSS9GH23AJSDOwGO/Cb0RS8ir+t4WsZh1F3cbBo7jZx7Uioj4LSiui8AATrQzllyl6COEoGEN61zbTVterk/AIBd/Y9593hn/CoEt06a1V8UV0qZutOrFuHo438vlUJE1AgeFNzBEZ0BGPJR6qqrlHOvvbuFHEedxUQBnj+dwapGvktzjAlGtDtWrw1nDOfVMl6DQdSdHtTeBlJLgAPuiuR4pKcuu70FCkcRItALScRCRn27vRpAHYLQglR9fzWe76hvHrZog6LSG1uiG1XQjr7F7Mlht+FkrHq9iQ6IGK7YvNALA/H46/O3dKw5nP6fQEb+avphuFY7I4LCTSEUtxUszOI93C2HYsRiYizVfvvRAx0jXdoUI0QbtJCrXCrXse+7+EQUx78F6IIxv7fA6AWTCsQMh8gyfahxMafqZs7v1cA9kb9dmp8OlT5DSzFipVmj2KxL+olIYxBNkOhLAoOO/jq8/P9Jgr9Cgr6jNylwcK6GtIEBOQ+Fmr1cM9M+QjOvjuLZYIXp77pci+1XYZl3EhHGELqg9CL0KfikfdxAYH7WOzU4cPoyATiLKxOC1cfPH0DTMFBkP6FEalk7eg4gm5aevlZthxR3G2xNqnUwHzoKAyIHTQaZQuZ/8ABqhIoKHwyTiVz/1nNcKR1mSG2ZfMjOxlx+n5ZXq4bIdFPm0ON7Khe33IY8z0QRdIxUhP4+mPzj/tzCBsMVP4x4nnF57mhy7f5uTSIZO9yN1aBFkjLv5FygJ2drNz1I/9XGGccUHshbfE309bOtd5N9NkAlP0s77ni5uVt/ocl+0kKWItDHw+5zLGWb4S3n7HfJCyRZ6t7lGLFKO/mxLYNqNK6FeHPBgkcCRxDDuUAIwDeDqUkHjKmKbAHXdYaqpWYIa7O5rku3Wn7f1NnISnK3WmihYxaoaLUFA9TOQdGpDbRGEf+ZvNV+W8GoQweAs3n38kIuh3G2u8vKttdeHNxXqYjWdidmQ6ARZXfz9EXClFjZ5NWpio0+cvWzs3z2rnwtv9G/w/yJeTD45L4GB6LROBX40lHGo/YVJ5ohJiXadLOHk5feHsWapI0JvI7vQOodbWm2eQA0hlnHSYRogIQ/1EL3CACMSEtZw+L36mwBZlPp7va4yFjYWp/DG8jNvzqxqo3jcyaIcopBbMzDUb8OnAeIAL981n3LgSUDF4FSO29zhq7msGO5m4fLlaScmZlPDDV5bmiO4EujoTDLgvpSF5mIVykM38BO9uGzXnX5+wK/oUA7PQG5lniSvOzFng+mFYYT9IkpOQLp+OFzpC4xRIR01W+eWJw8T/U/cTEJKnbsE/SfPrgFjwe9xPABIf+GAjnHDovvC+AFr7o/be6mr2hU8/LFMtXS31odYlCjfhOtFqPX5UCwNH6Hy0WRb4+EyR3Bi31sPXHAf8LCQiI8vfTDL0evu/dnRSgTUhwBGscPI/z9qz3g3GIxbc1/rI/A2SuYFE8MwqB4AnOYtTt6N37SQGq90joouGj7ncP4TdAVCJTny7N8Law2Yhti8i5HQM+S392YHW6StAJS810qx2tMMur8zcTeB6eFi0Hiv5CBd0Y2Sx4MeUc1fH4v6edd526xKAHNk2neVR6KU5PBuK+8JIskWy2LPCnJRlD00GgKTwL+PZs9FH/7goaCnf3cdnMv6y7F9bjCVREp2w7bx5HWQExuDmIJITMrA/xfjVTYB9kiUQzE5HmZM/D0eTkOPmJATX61eqV4arqgAjkMOtQ+1WQN+H8L7s7jYSHwK4e9bA/xHH6eMVU9RW61veuUqpnxIrs3A4OHgQZ1wkU/94C2hT0KVoyhiKu+nXIuKGEmg+7jvrKQYt0v33bWBYUZMrvl0eOha1h5V4dE0AjRPouWhBg+Z7z4PxvCY8LAPwO30XDQbocz2X/bTrDZwRyIVEGD0TE9I1Xgb+i6eNuKlNbYGYsTF0cXe2b0bXP4uAp9j4BePyW7SjiZufmAaIpsEyiV40/tghQxvaSHIXEpEPnUDOYax977V0YIvTgqLOPqBa+NOXaCfQcEhupDB0A+AD0EKMmazJXJysDU9HXpueYb7K/7a81C26ef3xisyGu1k6ewoxwpZTaXBQFPJtFBDS+FV/8U/OL+pYHaQwTALLkXcfXuQ7JRfUTMLJhWnMFWmgcBtEVlRSAwpnx1qIeDlViZxZTkiXQ9LPUSs4C3b/yaABi/nTwS+Pc5ML7OiKmRxxYf0YmFPHR8pk8hPObutlGJg1kxHsOZg8u2uuBueSnWrjG3T4EJBu1HIwPngGY/0EN/iK2MU0rMAtu2uqsnpjyql7hDyk+Zux/62r6Lpjj+6WmjE6e7c+7CvI2KUajOE4b7f+X82r4dQWtDKEDQur8y2W6+8Ok62wlkFo+c7JhUilN3oSdYoD1kVHKQRKRTRlnKVmtLtX8qdiVzV3ZDO8I/+P/V/Pu5AzjJvbMGupBcVdYTAwf6N0TouGEaJSwzL0YPFvkegptsDlK93PAXqhQs17WGv6aGNgdahKIA8L+1wkeH0swZS6jEqPj1LOgma2kktUXHEFdqX4Mcrw7+vDfrvyNPZiTxZsA5DC/Rbs88iAABHH0kfYgA2IMoAam7wbR3bvtv6Linxp7UrlxEWicNerrJadBgnWLNr5yBfFEfGVIXos3UgV63abNDNYm6yL97AAp9vzm8uEk8XYTmTuuVQlRRikL6jurBoc8jlDA4gpAUXx4xXLRRB8DcMgFqhWvHM+A91YVax4rFcsFd/7IBhwbPS6cMG8Zzex3u+GbrZ+CyvEONFPce8d3z0en/uK4xZBZk6y7HfbpKVRENECPJokI5vUS9a8AlAsICcT0YNYtvue8WdrUD5RJ1G4QbR5BsfnXsayFWYbKsmD4RjuJYlliCEArDhvjiM4n0yPnvvp2AdP4YumI4cnsVQzQNONSjFS1MjD2RrWgioGJwrTj/DhGk3Qnd0pPMw9h0d6swKsfyInwXRFeHrgXVgi3/iMEExeeK/cxfx/N9a/DUp/9m07AywE7SI93CXwKU3EM5MP8lLiPYLJj6xEi4kH0QgkseA339wH0Of5QCtMKifnt20LB6rrh0i8F/j+haqZwsktzB3e9mIq1gjWoNeutMENeRmUDSEIXgOlE0MbQGePo93kBQPsJ7MThIOmEBbEtJU/cVjw7LAIPwJ6PQoYtqu7uSDoybx169VhcGy7b6LBoqYjBTem2DKcd+hkUC3v/9gEZE4coejLFJIH+XMzfo6KZF7fS9Hw80nHFfkddKxrEz5qabo3SqZLgchlmPuZEQzG4EqL6bPPS+6cIAwzg/ZDhBMXzuU3M1/rfNTRlyXI6VQQV3cn0kJaAnZ4d3kUlsVj7ZldPdSCZ8N/S/s4k36/08ABe/drumeIu5hz/WiaLSv1XxULaDW7L6pWIhLKgMuGXLWhomHusYXEnueUdtiCodbvo4W4HPRzbG/ENugBKAEcPDSUyMjUpzAZa1W2pnZj2ri/oITC7avJ/Y2anJ1rcj6GIjCWi0dUmEOM5+EUhNjMY4v1f85H5qwaaDLkBL+dcyfm5rcbs8F4rpl57c5ddNiLf1q2YBYAjlkfRMhnfUWtn5lWjKVD4WtbizVvbIvHd/xv/vfH34/fjMfnrHi5F81c8SREZO9dsnVWEb5jc008gSWCRe09pRzPh8HW89qcFtnnakwEaGkcd1BBsAif/swtLISoxySyTDoXe5K/omAGoC9xUI2Nijn9Bbrg0f+nJqRGNeJtHy0kGXzQZRoc6zx2sAeXzjfdxBJ0MCAWu7C7O8LoNwo7noiAUV71ysWTfLlLkp6EGgeeO3cSbDN9Ji2aQW6cyjQCy2oTN2NdW7UD+ZwCb9MzleOLY84QXLD/KVpNOryNK4wempoV+kRjHnBLvVgJ6v2+0PoP84cP1qFSxHtM4+z0XLB6oE38Ej/5vCFkddS99L74Vueckt3qaS6KO0EIW6VibfcV0MkEH9zGzC4/qlRzB/PvmLT5FWz50I/YFA/Xa9Q0CFgzFB/bxX9PKvHS+297RFZ5OmnB2atQ6B/LGq5aDA4kKuan/xUBXZDpgXzs3CeHf8M201GDpIfw6AV73BOit4R/vQhCiOJBUvlKSLXPvmK9ziPSLEburBHhM73bjdJBJeAhNzCSrfK33y3L0qBN6HlUW5QaD/o0FUBkjLVExORzU8A2/RZ3gndzFFgluTiF623npTMYEqb14kpORdbde8YYmX0OFQQQprwq+9or0l/8SC+cJ7/bT2HW/5Lvs1hILZEUebdVu8UXS/+e2rYeMhPmthvKsNs1gy2OmQzAS2+UyzwfSV+WJ+YgB8PmJ6o/hEutCCa8xVlG5VZ02jPv8ua2M4Iftr6v2BEFdcqV4slOaFKPVhK6VqiPFWO1hDyMewxiJCf7+HANLFUwqSzLwIbb5fsc2oceaFbwA/BhDLnVxfbhXjxISyVCXiY55rpXmUx52QOxDZS7FDxT5rvMk/Z8JbguF+23e2cJcutfPigCNO11ox3ERUIQN48I/jZOB0KNe5bIr8lswZltLWBuT7FHR589T4YX2TQE8/EbtEOK655wCcyozTYJXtj5pBw3FQpJNhdGlyui5NFls9Xr1XMAgyN8Us7Sow74H5nEKHR3dGlcM+/8nAWARBidzMtkmPwJT0DmmBJlWsyfvDzfUbnx/eWE0IEfViJ3bjEumxttkFYU8fEV5MyIVAvxV88v6zwdZDKb/EuThxte5rslf9j4xbWJGcxdZ8BqUzzmUJICzml7Y+h/QVVZnW1KMJPTzUNRqzm7dJPOHADD+IvAk4xvlavwNIz9IHVjHRecSotAcmUGE3pw228An9WTFezVlviyd6sy46af0uJre5QRhG4wcOg9uAbj/pw1pI9Mx6CpTCmnZMqyVmLirt+J8Kitn938LaoYtIuIQpZeMDJ8Z0dQLjzclRiY4rxqB/4jzo/i0Ba0MQwOm6XPLSrp/xK/sniZnW1Nz6GDqJ87chJxGgMOSssunE3VOMmeIWKwt6/st2KDNwdl47zb/vv8F87rkNuO+9p4blUKSV8BL3h2R3B+hvIQulRvOQxpGXBB7U2xrOP/1oL9CqNazMNfP/usYvx0ZEk0D0/40Co4ffDAYLtcRneIGs3OZT6XZ1osdT17hflNxWTp579StxI3cmLTGwQGcMdhFTjxSIIYDUfTB9mUDcQxSBg/vctCou1PAmePTG2xT9nFtZ0g0ZOoFpviBHYyGv+IG9EW7ZcNdkzZbBObcms1l1pfrXv3VANr1veYI4qrxRBRTPO1VklAtKLHoK6q3htqOpsFvDGpS1HgzcpxDywGBx8epgq/oz0H4vBViHt8UhwV5/hoHjxt/LmgwthjK65W6kpsroLLLaBBeVD98NneBRiD9uLdjkNWTv7xL97oqikTaP/ElAwi09Tj19QCxC8sIN/TF1eG9ML072wURmko3b5Rs4T8p+JqwOIXYhgW01vlmPO5i9GEdPywNceJlznPTlecI+20Bivgb6YvhPO0cDZY1P1M3VLMx2PQetCiK9Yn/tXL+fkcVdbx2Kk7aDVjQfqwTrOLIU/HXEWgecxcLCKn+aQSFF+8r2zHcHtD0v8LinlWcZcFAA31JHHije9ZR6AqgwnKUD5Bgs5bs+iI1Qq9CcCvoDLT3GfR//noKqAoG+U3b4cAWu6rTWwYWQShrUnCSSu4FIrz5iQqDVqmr7OUxzV4CZSdHPhbB6AjQA9GM4z74fwH/+rvrteF/6UEGfy6bT6lWVjrbANS+/46Lhk2revCmO91v23ntVwIaDdpmsJ6pPcId6kMNxB2+GcQKX/8tAokT5Ch2Mjkkjv1hy1Cj1ZkQuED20j2Hcot+MVynGGjO6ZmejbuqxeFxGtY+uUSyMCAST/p28xT82wjpC2r97+CRxAG6/Mz4+wU33WWfcjlUhhN0yC6Qv4Cgn4/fkiZgWdtmkE5vH8fvitIpz5PfD/UGASb9ie564nnmzP8sJxhL7Ff8QZMMJMonlaaEsaG14ggvOmmBe8FgHCaE5Hu1NqgavLviDAhuHKsbng2RAHMAsQ90JUQywijmBVfUw6ipmM+vkOmHMZVr5H9vZSwm7Nq5oJCM86IB1zcRcDrlRZw1lRd//Vnzz/nnBpAMUgGQ5trI7LlBx//xjSxuX3lzuFzFIGfVwZcCgAWXr9KRGrFSb2c2VZ8obffs1fnNw9uK8QIA7/5r8cnjLeTT+b8f0EUDWJJI2Rfn1YmcSIRKmVHVzyFAYaV7hGj7MZ3vs7vsp5a2TNtAAmAaJR2DEDYCQf8VDLghUTFuLL0Nf90ir8+YuKhd3cQkX2Otf3JtSzMD6NCo74wpnG/MaAcJNSJGETovHToBzvPD97MEowyxBBTsoM3JuoTCkOjVIfhX5HL4Y38tz+KZoNaApY83xgYO0Eq1ZvtaqjGe/yzahM042MTtdf5IAEv0kuWa4mn0VhjeP/lWCU6KIvHhBaVuhTKSe8glFAhYQnoYb3Y9M/sAw8moz7Ht0/P7lxcaHlkTQASZ/scIyh2tLzsv+xS05k22PZrdosvRtxcEWuZ9HnTYP4P1F7LBjnmWN8Il/aouY0X3PdQidgXc9Ab2UgIrDH4HY/HH0ou8zb7J3wQXmU/ocONpijl/8JmqOYOZiVK6HAHVQaZkwl9sOjwIQ9/azQjV0ulk/CkBEvfA57vhne8OEWI53FRWUoMsGu59rhGIf4xdvDkGrk1Zd2J0ZEghB1HL1qrerb7MN/UXFHkeDBadBn3+2gXDGWwtKDGKG9TvJb7mnE2eAceNCqRPl3pdeadLPgNzvASS/5GAuI/yYyehQzRBaCgkCoX2qvTd/zQLsglm9jXYH78gvMPXQQxzRpJta27AREr+nrUmh/iEKa/989c3QmF0Y8JCLhEo5QTPTNLK5dj5hgGq+T/qiuF96wUKeTK+UXNVpzU2+su4I4xBiB6xOfhVQvFyTXicUkATj9QVrtuq4MUl7uMPNR6CGDsJ6v5bA70Voyo6MlghvviJxrigDpsfvXL9ZETNdR59kVYIEcPHtJbOjm+vyOdGH9ZAskPPLTAPyvjB82n9zQlKCwj7zd1wwnu6ldCyAaw89GiFcf9OAQyFwY6M1IHlpNPm9SyMXPtliEpSGsvrCtEc0MTh3/ZbAf/79uz64RDoVANDK7NNXlfcPRwGy8OTkYOF46ZS6iA2Fm3GevlbZx+e3oOy3Khxv9nmBQtDHaYaBgzY/1gBzhFoJ3gyWCZRAVTPnaUmmUG0kPBtOJpvVn9yYLMe49PGnPmMKKf53GsWAj1bRe4yhhSo+1jzDPsGCEYMN/9y42fG2blRynv3aDIkYy5zJlh3GSTOYZM5gKibzNlQIY5WRWeeUYcjG/Pv04vO292I86QA/v3P7//iXeUU/eEj1UgaWAxFphFTz0qYTITNnbPcOCnYZcF7WGRsK2HpG7jxp5G5bd+KBZsbYhznDj8B2/8ODtMj7jF/KnQJZdh9q5GYgqwS5OcrFWj9fydpECyu4CqkjYzNn0bS6wwpOB5GpzcPGhf/e/Pe+PMFqwzjAgnp68oxugbFu+3PJzxcZHMaYIAmUNuImy6AlZMVzQwVVU9GZ+RXqywC+7XXrc0m2uTvYv+X/7Tyh+Rj41j3cRw/Q7BXJEuuHDrbLaCbhPiVic/IG01dN3uYayQ3tvTRvimoXrQB2IP/OhmjHckREwPl/pIK/h+rMMgtCRGX4TqySpn2pSLY/h5ZXxN/lXD0OPntzKyQjX2Z18flAlIy7UXfO7EfDQMz9PL2qAN/DAMGeO7gz3a7vcCT5AcdWlQucsRm8TLe6OiktIHJjNnAUgj0RvVlO12ZNWYDVdyRzcDWB+yZ/bwAi/V/5iHiM/ITFQw9KVYYUBEnV+cdqWyGfI//wvsNkFMneZxxZUJ3AJTGjanyr7TQAfkfFlcekhREBXz+bQcCHL8uMjD8F8bqtrlGm62g5czeEYVVnXyhdjFFmfuRtgeQVJTUvXn4iiu8RH0/UiV+B4X1XvU8AcwLjAio8yrVmL18vR/cOBKeS5ZvE2yiPqD2Ya/IhFyHQ7VL+4I9TmOLYTA+LgzJ4UPOwdMI6FD7YwFA+NTokeGy7eQNWzaYU95TrzB/8/mytIltij+3AAA=\" type=\"audio/wav\" />\n",
       "                    Your browser does not support the audio element.\n",
       "                </audio>\n",
       "              "
      ],
      "text/plain": [
       "<IPython.lib.display.Audio object>"
      ]
     },
     "execution_count": 14,
     "metadata": {},
     "output_type": "execute_result"
    }
   ],
   "source": [
    "time_exp(time.time()-start)\n",
    "tono()"
   ]
  }
 ],
 "metadata": {
  "kernelspec": {
   "display_name": "Python 3",
   "language": "python",
   "name": "python3"
  },
  "language_info": {
   "codemirror_mode": {
    "name": "ipython",
    "version": 3
   },
   "file_extension": ".py",
   "mimetype": "text/x-python",
   "name": "python",
   "nbconvert_exporter": "python",
   "pygments_lexer": "ipython3",
   "version": "3.9.1"
  },
  "toc": {
   "base_numbering": 1,
   "nav_menu": {},
   "number_sections": true,
   "sideBar": true,
   "skip_h1_title": true,
   "title_cell": "Table of Contents",
   "title_sidebar": "Contents",
   "toc_cell": false,
   "toc_position": {},
   "toc_section_display": true,
   "toc_window_display": true
  },
  "varInspector": {
   "cols": {
    "lenName": 16,
    "lenType": 16,
    "lenVar": 40
   },
   "kernels_config": {
    "python": {
     "delete_cmd_postfix": "",
     "delete_cmd_prefix": "del ",
     "library": "var_list.py",
     "varRefreshCmd": "print(var_dic_list())"
    },
    "r": {
     "delete_cmd_postfix": ") ",
     "delete_cmd_prefix": "rm(",
     "library": "var_list.r",
     "varRefreshCmd": "cat(var_dic_list()) "
    }
   },
   "types_to_exclude": [
    "module",
    "function",
    "builtin_function_or_method",
    "instance",
    "_Feature"
   ],
   "window_display": false
  }
 },
 "nbformat": 4,
 "nbformat_minor": 5
}
