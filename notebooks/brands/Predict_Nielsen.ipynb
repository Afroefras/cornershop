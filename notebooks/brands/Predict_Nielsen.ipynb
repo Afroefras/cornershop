{
 "cells": [
  {
   "cell_type": "markdown",
   "id": "reflected-basis",
   "metadata": {},
   "source": [
    "# Performance by product --> SoM Dashboard"
   ]
  },
  {
   "cell_type": "code",
   "execution_count": 1,
   "id": "motivated-reset",
   "metadata": {
    "ExecuteTime": {
     "end_time": "2021-06-11T17:50:49.227608Z",
     "start_time": "2021-06-11T17:50:49.218925Z"
    }
   },
   "outputs": [],
   "source": [
    "BASE_DIR = '/Users/efraflores/Desktop/EF/Corner/Brands/data/'\n",
    "CPG = 'danone'"
   ]
  },
  {
   "cell_type": "markdown",
   "id": "systematic-settle",
   "metadata": {
    "heading_collapsed": true
   },
   "source": [
    "## Import"
   ]
  },
  {
   "cell_type": "code",
   "execution_count": 2,
   "id": "920baa51",
   "metadata": {
    "ExecuteTime": {
     "end_time": "2021-06-11T17:50:49.233497Z",
     "start_time": "2021-06-11T17:50:49.230258Z"
    },
    "hidden": true
   },
   "outputs": [],
   "source": [
    "import sys\n",
    "sys.path.append('/Users/efraflores/Desktop/hub/cornershop/venv/lib/python3.9/site-packages')"
   ]
  },
  {
   "cell_type": "code",
   "execution_count": 3,
   "id": "short-front",
   "metadata": {
    "ExecuteTime": {
     "end_time": "2021-06-11T17:50:49.751790Z",
     "start_time": "2021-06-11T17:50:49.237074Z"
    },
    "hidden": true
   },
   "outputs": [
    {
     "name": "stdout",
     "output_type": "stream",
     "text": [
      "['som_danone.csv', 'nielsen_danone.csv', 'products_danone.csv', 'nielsen_pred_danone.csv']\n"
     ]
    }
   ],
   "source": [
    "# %load basic\n",
    "import os\n",
    "import numpy as np\n",
    "import pandas as pd\n",
    "pd.options.display.float_format = '{:.2f}'.format\n",
    "print([x for x in os.listdir(BASE_DIR) if x.endswith(f'{CPG}.csv')])"
   ]
  },
  {
   "cell_type": "code",
   "execution_count": 4,
   "id": "changing-peripheral",
   "metadata": {
    "ExecuteTime": {
     "end_time": "2021-06-11T17:50:50.389082Z",
     "start_time": "2021-06-11T17:50:49.755070Z"
    },
    "hidden": true
   },
   "outputs": [
    {
     "data": {
      "text/html": [
       "<div>\n",
       "<style scoped>\n",
       "    .dataframe tbody tr th:only-of-type {\n",
       "        vertical-align: middle;\n",
       "    }\n",
       "\n",
       "    .dataframe tbody tr th {\n",
       "        vertical-align: top;\n",
       "    }\n",
       "\n",
       "    .dataframe thead th {\n",
       "        text-align: right;\n",
       "    }\n",
       "</style>\n",
       "<table border=\"1\" class=\"dataframe\">\n",
       "  <thead>\n",
       "    <tr style=\"text-align: right;\">\n",
       "      <th></th>\n",
       "      <th>city_name</th>\n",
       "      <th>store_name</th>\n",
       "      <th>category_en</th>\n",
       "      <th>category_id</th>\n",
       "      <th>product_id</th>\n",
       "      <th>product_name</th>\n",
       "      <th>barcodes</th>\n",
       "      <th>package</th>\n",
       "      <th>product_sku</th>\n",
       "      <th>brand_name</th>\n",
       "      <th>...</th>\n",
       "      <th>marca_detalle</th>\n",
       "      <th>marca_generica</th>\n",
       "      <th>gramaje</th>\n",
       "      <th>descripcion_nielsen</th>\n",
       "      <th>segmento</th>\n",
       "      <th>subsegmento_1</th>\n",
       "      <th>subsegmento_2</th>\n",
       "      <th>subsegmento_3</th>\n",
       "      <th>mes</th>\n",
       "      <th>anio</th>\n",
       "    </tr>\n",
       "  </thead>\n",
       "  <tbody>\n",
       "    <tr>\n",
       "      <th>15535</th>\n",
       "      <td>Cancún</td>\n",
       "      <td>Chedraui</td>\n",
       "      <td>Yogurt</td>\n",
       "      <td>24</td>\n",
       "      <td>321655</td>\n",
       "      <td>Alimento lácteo fermentado</td>\n",
       "      <td>7501025511005</td>\n",
       "      <td>5 x 80 ml</td>\n",
       "      <td>NaN</td>\n",
       "      <td>Yakult</td>\n",
       "      <td>...</td>\n",
       "      <td>YAKULT</td>\n",
       "      <td>YAKULT</td>\n",
       "      <td>0.4</td>\n",
       "      <td>YAKULT 5 PZAS. 80 ML C/U = 400 ML NAL.</td>\n",
       "      <td>LACTEOS FERMENTADOS</td>\n",
       "      <td>LACTEOS FERMENTADOS</td>\n",
       "      <td>NaN</td>\n",
       "      <td>NaN</td>\n",
       "      <td>4</td>\n",
       "      <td>2021</td>\n",
       "    </tr>\n",
       "    <tr>\n",
       "      <th>50982</th>\n",
       "      <td>Guadalajara</td>\n",
       "      <td>Chedraui</td>\n",
       "      <td>Plant-based Beverages</td>\n",
       "      <td>1516</td>\n",
       "      <td>1253775</td>\n",
       "      <td>Alimento líquido de avena y linaza sin azúcar</td>\n",
       "      <td>7502252484285</td>\n",
       "      <td>946 ml</td>\n",
       "      <td>NaN</td>\n",
       "      <td>Nature's Heart</td>\n",
       "      <td>...</td>\n",
       "      <td>NATURES HEART</td>\n",
       "      <td>NaN</td>\n",
       "      <td>0.946</td>\n",
       "      <td>NATURES HEART ALIM LIQ AVENA LINAZA  S/AZUCAR ...</td>\n",
       "      <td>PLANT BASED</td>\n",
       "      <td>PLANT BASED</td>\n",
       "      <td>AVENA-LINAZA</td>\n",
       "      <td>UHT</td>\n",
       "      <td>2</td>\n",
       "      <td>2021</td>\n",
       "    </tr>\n",
       "  </tbody>\n",
       "</table>\n",
       "<p>2 rows × 29 columns</p>\n",
       "</div>"
      ],
      "text/plain": [
       "         city_name store_name            category_en  category_id  product_id  \\\n",
       "15535       Cancún   Chedraui                 Yogurt           24      321655   \n",
       "50982  Guadalajara   Chedraui  Plant-based Beverages         1516     1253775   \n",
       "\n",
       "                                        product_name       barcodes  \\\n",
       "15535                     Alimento lácteo fermentado  7501025511005   \n",
       "50982  Alimento líquido de avena y linaza sin azúcar  7502252484285   \n",
       "\n",
       "         package product_sku      brand_name  ...  marca_detalle  \\\n",
       "15535  5 x 80 ml         NaN          Yakult  ...         YAKULT   \n",
       "50982     946 ml         NaN  Nature's Heart  ...  NATURES HEART   \n",
       "\n",
       "      marca_generica gramaje  \\\n",
       "15535         YAKULT     0.4   \n",
       "50982            NaN   0.946   \n",
       "\n",
       "                                     descripcion_nielsen             segmento  \\\n",
       "15535            YAKULT 5 PZAS. 80 ML C/U = 400 ML NAL.   LACTEOS FERMENTADOS   \n",
       "50982  NATURES HEART ALIM LIQ AVENA LINAZA  S/AZUCAR ...          PLANT BASED   \n",
       "\n",
       "             subsegmento_1 subsegmento_2 subsegmento_3 mes  anio  \n",
       "15535  LACTEOS FERMENTADOS           NaN           NaN   4  2021  \n",
       "50982          PLANT BASED  AVENA-LINAZA           UHT   2  2021  \n",
       "\n",
       "[2 rows x 29 columns]"
      ]
     },
     "execution_count": 4,
     "metadata": {},
     "output_type": "execute_result"
    }
   ],
   "source": [
    "som = pd.read_csv(os.path.join(BASE_DIR,f'som_{CPG}.csv'),low_memory=False,\n",
    "                 sep='\\t', encoding='UTF-16')\n",
    "som.sample(2)"
   ]
  },
  {
   "cell_type": "code",
   "execution_count": 5,
   "id": "948f1157",
   "metadata": {
    "ExecuteTime": {
     "end_time": "2021-06-11T17:50:50.413543Z",
     "start_time": "2021-06-11T17:50:50.390844Z"
    },
    "hidden": true
   },
   "outputs": [
    {
     "data": {
      "text/html": [
       "<div>\n",
       "<style scoped>\n",
       "    .dataframe tbody tr th:only-of-type {\n",
       "        vertical-align: middle;\n",
       "    }\n",
       "\n",
       "    .dataframe tbody tr th {\n",
       "        vertical-align: top;\n",
       "    }\n",
       "\n",
       "    .dataframe thead th {\n",
       "        text-align: right;\n",
       "    }\n",
       "</style>\n",
       "<table border=\"1\" class=\"dataframe\">\n",
       "  <thead>\n",
       "    <tr style=\"text-align: right;\">\n",
       "      <th></th>\n",
       "      <th>category_en</th>\n",
       "      <th>product_name</th>\n",
       "      <th>proveedor_general</th>\n",
       "      <th>marca_generica</th>\n",
       "      <th>descripcion_nielsen</th>\n",
       "      <th>segmento</th>\n",
       "    </tr>\n",
       "    <tr>\n",
       "      <th>product_id</th>\n",
       "      <th></th>\n",
       "      <th></th>\n",
       "      <th></th>\n",
       "      <th></th>\n",
       "      <th></th>\n",
       "      <th></th>\n",
       "    </tr>\n",
       "  </thead>\n",
       "  <tbody>\n",
       "    <tr>\n",
       "      <th>379443</th>\n",
       "      <td>Yogurt</td>\n",
       "      <td>Yoghurt griego sin azúcar añadida con mango</td>\n",
       "      <td>SIGMA</td>\n",
       "      <td>YOPLAIT GRIEGO</td>\n",
       "      <td>YOPLAIT GRIEGO S/AZUCAR MANGO 145GR</td>\n",
       "      <td>GRIEGO</td>\n",
       "    </tr>\n",
       "  </tbody>\n",
       "</table>\n",
       "</div>"
      ],
      "text/plain": [
       "           category_en                                 product_name  \\\n",
       "product_id                                                            \n",
       "379443          Yogurt  Yoghurt griego sin azúcar añadida con mango   \n",
       "\n",
       "           proveedor_general  marca_generica  \\\n",
       "product_id                                     \n",
       "379443                 SIGMA  YOPLAIT GRIEGO   \n",
       "\n",
       "                             descripcion_nielsen segmento  \n",
       "product_id                                                 \n",
       "379443      YOPLAIT GRIEGO S/AZUCAR MANGO 145GR    GRIEGO  "
      ]
     },
     "execution_count": 5,
     "metadata": {},
     "output_type": "execute_result"
    }
   ],
   "source": [
    "df = som[['product_id','category_en','product_name',\n",
    "          'proveedor_general', 'marca_generica', \n",
    "          'descripcion_nielsen','segmento']]\n",
    "df = df.drop_duplicates('product_id').set_index('product_id')\n",
    "df.sample()"
   ]
  },
  {
   "cell_type": "markdown",
   "id": "invalid-shock",
   "metadata": {
    "heading_collapsed": true
   },
   "source": [
    "## Functions"
   ]
  },
  {
   "cell_type": "markdown",
   "id": "d4377903",
   "metadata": {
    "heading_collapsed": true,
    "hidden": true
   },
   "source": [
    "### Timing and tone"
   ]
  },
  {
   "cell_type": "code",
   "execution_count": 6,
   "id": "particular-rotation",
   "metadata": {
    "ExecuteTime": {
     "end_time": "2021-06-11T17:50:50.419253Z",
     "start_time": "2021-06-11T17:50:50.415078Z"
    },
    "hidden": true
   },
   "outputs": [],
   "source": [
    "import time\n",
    "import numpy as np\n",
    "from IPython.lib.display import Audio\n",
    "\n",
    "start = time.time()\n",
    "def time_exp(x):\n",
    "    minutes, seconds = np.floor(x/60), 60*(x/60-np.floor(x/60))\n",
    "    print(f\"{'{:.0f}'.format(minutes)} minutos con {'{:.2f}'.format(seconds)} segundos\")\n",
    "    \n",
    "def tono(a = 1000, b = 700, play_time_seconds = 1, framerate = 4410):\n",
    "    t = np.linspace(0, play_time_seconds, framerate*play_time_seconds)*np.pi\n",
    "    return Audio(np.sin(a*t) + np.sin(b*t), rate = framerate, autoplay=True)"
   ]
  },
  {
   "cell_type": "markdown",
   "id": "ce849848",
   "metadata": {
    "heading_collapsed": true,
    "hidden": true
   },
   "source": [
    "### Clean text"
   ]
  },
  {
   "cell_type": "code",
   "execution_count": 7,
   "id": "wound-accessory",
   "metadata": {
    "ExecuteTime": {
     "end_time": "2021-06-11T17:50:50.425011Z",
     "start_time": "2021-06-11T17:50:50.421226Z"
    },
    "hidden": true
   },
   "outputs": [],
   "source": [
    "import re\n",
    "import unicodedata\n",
    "\n",
    "def clean_text(text):\n",
    "    text = unicodedata.normalize('NFD', text).encode('ascii', 'ignore')\n",
    "    text = re.sub(\"[^a-zA-Z\\s]\",'',text.decode('utf-8'),flags=re.UNICODE)\n",
    "    text = ' '.join(text.split())\n",
    "    return text.lower()"
   ]
  },
  {
   "cell_type": "markdown",
   "id": "a635004d",
   "metadata": {
    "heading_collapsed": true,
    "hidden": true
   },
   "source": [
    "### TAD"
   ]
  },
  {
   "cell_type": "code",
   "execution_count": 8,
   "id": "a3ab5532",
   "metadata": {
    "ExecuteTime": {
     "end_time": "2021-06-11T17:50:50.432073Z",
     "start_time": "2021-06-11T17:50:50.428632Z"
    },
    "hidden": true
   },
   "outputs": [],
   "source": [
    "def tad(data):\n",
    "    X_test = data.iloc[:,:-1].apply(lambda x:' '.join(x.dropna().astype(str)),\n",
    "                                    axis=1).apply(clean_text).values\n",
    "    y_test = data['segmento'].values\n",
    "    product_id_col = data.index\n",
    "    return X_test.astype(str),y_test,product_id_col"
   ]
  },
  {
   "cell_type": "markdown",
   "id": "tough-theta",
   "metadata": {
    "heading_collapsed": true
   },
   "source": [
    "## Model"
   ]
  },
  {
   "cell_type": "markdown",
   "id": "2f7718a5",
   "metadata": {
    "heading_collapsed": true,
    "hidden": true
   },
   "source": [
    "### Just nielsen categories"
   ]
  },
  {
   "cell_type": "code",
   "execution_count": 9,
   "id": "d3516dd5",
   "metadata": {
    "ExecuteTime": {
     "end_time": "2021-06-11T17:50:50.448021Z",
     "start_time": "2021-06-11T17:50:50.435228Z"
    },
    "hidden": true
   },
   "outputs": [
    {
     "data": {
      "text/plain": [
       "Water                             218\n",
       "Yogurt                            214\n",
       "Plant-based Beverages             106\n",
       "Desserts & Refrigerated Bakery     56\n",
       "Name: segmento, dtype: int64"
      ]
     },
     "execution_count": 9,
     "metadata": {},
     "output_type": "execute_result"
    }
   ],
   "source": [
    "df['nielsen_cat'] = df['segmento'].apply(lambda x: int(x==x.upper())) \n",
    "val = df[df['nielsen_cat']==0].copy()\n",
    "val['segmento'].value_counts()"
   ]
  },
  {
   "cell_type": "code",
   "execution_count": 10,
   "id": "2c8182a7",
   "metadata": {
    "ExecuteTime": {
     "end_time": "2021-06-11T17:50:50.459890Z",
     "start_time": "2021-06-11T17:50:50.450975Z"
    },
    "hidden": true
   },
   "outputs": [
    {
     "data": {
      "text/plain": [
       "AGUA NATURAL           210\n",
       "BB SOLIDO              176\n",
       "BEBIDAS SABORIZADAS    172\n",
       "PLANT BASED            129\n",
       "BB LIQUIDO             123\n",
       "GRIEGO                  97\n",
       "SALUD ACTIVA            96\n",
       "BEBIDAS INFANTILES      42\n",
       "GELATINAS               33\n",
       "SPECIALTIES             30\n",
       "LIGHT                   29\n",
       "LACTEOS FERMENTADOS     25\n",
       "INFANTIL SOLIDO         22\n",
       "POSTRES REGULARES       21\n",
       "INFANTIL LIQUIDO        18\n",
       "Name: segmento, dtype: int64"
      ]
     },
     "execution_count": 10,
     "metadata": {},
     "output_type": "execute_result"
    }
   ],
   "source": [
    "df = df[df['nielsen_cat']==1].copy()\n",
    "df['segmento'].value_counts()"
   ]
  },
  {
   "cell_type": "markdown",
   "id": "11f7102e",
   "metadata": {
    "heading_collapsed": true,
    "hidden": true
   },
   "source": [
    "### Train test split"
   ]
  },
  {
   "cell_type": "code",
   "execution_count": 11,
   "id": "78a33833",
   "metadata": {
    "ExecuteTime": {
     "end_time": "2021-06-11T17:50:51.092113Z",
     "start_time": "2021-06-11T17:50:50.462795Z"
    },
    "hidden": true
   },
   "outputs": [],
   "source": [
    "from sklearn.model_selection import train_test_split\n",
    "\n",
    "df_train, df_test = train_test_split(df,train_size=0.8,random_state=22)"
   ]
  },
  {
   "cell_type": "markdown",
   "id": "8a6eddd4",
   "metadata": {
    "heading_collapsed": true,
    "hidden": true
   },
   "source": [
    "### Preprocessing"
   ]
  },
  {
   "cell_type": "code",
   "execution_count": 12,
   "id": "b27fe516",
   "metadata": {
    "ExecuteTime": {
     "end_time": "2021-06-11T17:50:51.281263Z",
     "start_time": "2021-06-11T17:50:51.094262Z"
    },
    "hidden": true
   },
   "outputs": [],
   "source": [
    "X_train = df_train.iloc[:,:-1].apply(lambda x:' '.join(x.dropna().astype(str)),axis=1\n",
    "                              ).apply(clean_text).values\n",
    "y_train = df_train['segmento'].values"
   ]
  },
  {
   "cell_type": "markdown",
   "id": "79a25199",
   "metadata": {
    "heading_collapsed": true,
    "hidden": true
   },
   "source": [
    "### Test"
   ]
  },
  {
   "cell_type": "code",
   "execution_count": 13,
   "id": "ea3cc39d",
   "metadata": {
    "ExecuteTime": {
     "end_time": "2021-06-11T17:50:51.332392Z",
     "start_time": "2021-06-11T17:50:51.283740Z"
    },
    "hidden": true
   },
   "outputs": [],
   "source": [
    "X_test,y_test,_ = tad(df_test)"
   ]
  },
  {
   "cell_type": "markdown",
   "id": "be677a1e",
   "metadata": {
    "heading_collapsed": true,
    "hidden": true
   },
   "source": [
    "### Training"
   ]
  },
  {
   "cell_type": "code",
   "execution_count": 14,
   "id": "53aa2e55",
   "metadata": {
    "ExecuteTime": {
     "end_time": "2021-06-11T17:50:51.626581Z",
     "start_time": "2021-06-11T17:50:51.334408Z"
    },
    "hidden": true
   },
   "outputs": [
    {
     "name": "stdout",
     "output_type": "stream",
     "text": [
      "Accuracy score:  100.00%\n",
      "Training accuracy:  100.00%\n"
     ]
    }
   ],
   "source": [
    "from sklearn.pipeline import Pipeline\n",
    "from sklearn.metrics import roc_auc_score\n",
    "from sklearn.linear_model import LogisticRegression\n",
    "from sklearn.feature_extraction.text import TfidfVectorizer,CountVectorizer\n",
    "\n",
    "tv = CountVectorizer(ngram_range=(1,1),min_df=1, \n",
    "                     max_features=10000,lowercase=False)\n",
    "logreg = LogisticRegression()\n",
    "\n",
    "model_logreg = Pipeline(steps=[('vectorizer', tv),\n",
    "                               ('model',logreg)])\n",
    "\n",
    "print('Accuracy score: ','{:.2%}'.format(model_logreg.fit(X_train,y_train).score(X_test,y_test)))\n",
    "print('Training accuracy: ','{:.2%}'.format(model_logreg.score(X_train,y_train)))"
   ]
  },
  {
   "cell_type": "markdown",
   "id": "0a5ee558",
   "metadata": {
    "heading_collapsed": true,
    "hidden": true
   },
   "source": [
    "### Confussion matrix"
   ]
  },
  {
   "cell_type": "code",
   "execution_count": 15,
   "id": "d5ecaf7f",
   "metadata": {
    "ExecuteTime": {
     "end_time": "2021-06-11T17:50:52.092848Z",
     "start_time": "2021-06-11T17:50:51.628932Z"
    },
    "hidden": true
   },
   "outputs": [
    {
     "data": {
      "text/html": [
       "<style  type=\"text/css\" >\n",
       "#T_a88c9_row0_col0,#T_a88c9_row1_col1,#T_a88c9_row2_col2,#T_a88c9_row3_col3,#T_a88c9_row4_col4,#T_a88c9_row5_col5,#T_a88c9_row6_col6,#T_a88c9_row7_col7,#T_a88c9_row8_col8,#T_a88c9_row9_col9,#T_a88c9_row10_col10,#T_a88c9_row11_col11,#T_a88c9_row12_col12,#T_a88c9_row13_col13,#T_a88c9_row14_col14{\n",
       "            background-color:  #08306b;\n",
       "            color:  #f1f1f1;\n",
       "        }#T_a88c9_row0_col1,#T_a88c9_row0_col2,#T_a88c9_row0_col3,#T_a88c9_row0_col4,#T_a88c9_row0_col5,#T_a88c9_row0_col6,#T_a88c9_row0_col7,#T_a88c9_row0_col8,#T_a88c9_row0_col9,#T_a88c9_row0_col10,#T_a88c9_row0_col11,#T_a88c9_row0_col12,#T_a88c9_row0_col13,#T_a88c9_row0_col14,#T_a88c9_row1_col0,#T_a88c9_row1_col2,#T_a88c9_row1_col3,#T_a88c9_row1_col4,#T_a88c9_row1_col5,#T_a88c9_row1_col6,#T_a88c9_row1_col7,#T_a88c9_row1_col8,#T_a88c9_row1_col9,#T_a88c9_row1_col10,#T_a88c9_row1_col11,#T_a88c9_row1_col12,#T_a88c9_row1_col13,#T_a88c9_row1_col14,#T_a88c9_row2_col0,#T_a88c9_row2_col1,#T_a88c9_row2_col3,#T_a88c9_row2_col4,#T_a88c9_row2_col5,#T_a88c9_row2_col6,#T_a88c9_row2_col7,#T_a88c9_row2_col8,#T_a88c9_row2_col9,#T_a88c9_row2_col10,#T_a88c9_row2_col11,#T_a88c9_row2_col12,#T_a88c9_row2_col13,#T_a88c9_row2_col14,#T_a88c9_row3_col0,#T_a88c9_row3_col1,#T_a88c9_row3_col2,#T_a88c9_row3_col4,#T_a88c9_row3_col5,#T_a88c9_row3_col6,#T_a88c9_row3_col7,#T_a88c9_row3_col8,#T_a88c9_row3_col9,#T_a88c9_row3_col10,#T_a88c9_row3_col11,#T_a88c9_row3_col12,#T_a88c9_row3_col13,#T_a88c9_row3_col14,#T_a88c9_row4_col0,#T_a88c9_row4_col1,#T_a88c9_row4_col2,#T_a88c9_row4_col3,#T_a88c9_row4_col5,#T_a88c9_row4_col6,#T_a88c9_row4_col7,#T_a88c9_row4_col8,#T_a88c9_row4_col9,#T_a88c9_row4_col10,#T_a88c9_row4_col11,#T_a88c9_row4_col12,#T_a88c9_row4_col13,#T_a88c9_row4_col14,#T_a88c9_row5_col0,#T_a88c9_row5_col1,#T_a88c9_row5_col2,#T_a88c9_row5_col3,#T_a88c9_row5_col4,#T_a88c9_row5_col6,#T_a88c9_row5_col7,#T_a88c9_row5_col8,#T_a88c9_row5_col9,#T_a88c9_row5_col10,#T_a88c9_row5_col11,#T_a88c9_row5_col12,#T_a88c9_row5_col13,#T_a88c9_row5_col14,#T_a88c9_row6_col0,#T_a88c9_row6_col1,#T_a88c9_row6_col2,#T_a88c9_row6_col3,#T_a88c9_row6_col4,#T_a88c9_row6_col5,#T_a88c9_row6_col7,#T_a88c9_row6_col8,#T_a88c9_row6_col9,#T_a88c9_row6_col10,#T_a88c9_row6_col11,#T_a88c9_row6_col12,#T_a88c9_row6_col13,#T_a88c9_row6_col14,#T_a88c9_row7_col0,#T_a88c9_row7_col1,#T_a88c9_row7_col2,#T_a88c9_row7_col3,#T_a88c9_row7_col4,#T_a88c9_row7_col5,#T_a88c9_row7_col6,#T_a88c9_row7_col8,#T_a88c9_row7_col9,#T_a88c9_row7_col10,#T_a88c9_row7_col11,#T_a88c9_row7_col12,#T_a88c9_row7_col13,#T_a88c9_row7_col14,#T_a88c9_row8_col0,#T_a88c9_row8_col1,#T_a88c9_row8_col2,#T_a88c9_row8_col3,#T_a88c9_row8_col4,#T_a88c9_row8_col5,#T_a88c9_row8_col6,#T_a88c9_row8_col7,#T_a88c9_row8_col9,#T_a88c9_row8_col10,#T_a88c9_row8_col11,#T_a88c9_row8_col12,#T_a88c9_row8_col13,#T_a88c9_row8_col14,#T_a88c9_row9_col0,#T_a88c9_row9_col1,#T_a88c9_row9_col2,#T_a88c9_row9_col3,#T_a88c9_row9_col4,#T_a88c9_row9_col5,#T_a88c9_row9_col6,#T_a88c9_row9_col7,#T_a88c9_row9_col8,#T_a88c9_row9_col10,#T_a88c9_row9_col11,#T_a88c9_row9_col12,#T_a88c9_row9_col13,#T_a88c9_row9_col14,#T_a88c9_row10_col0,#T_a88c9_row10_col1,#T_a88c9_row10_col2,#T_a88c9_row10_col3,#T_a88c9_row10_col4,#T_a88c9_row10_col5,#T_a88c9_row10_col6,#T_a88c9_row10_col7,#T_a88c9_row10_col8,#T_a88c9_row10_col9,#T_a88c9_row10_col11,#T_a88c9_row10_col12,#T_a88c9_row10_col13,#T_a88c9_row10_col14,#T_a88c9_row11_col0,#T_a88c9_row11_col1,#T_a88c9_row11_col2,#T_a88c9_row11_col3,#T_a88c9_row11_col4,#T_a88c9_row11_col5,#T_a88c9_row11_col6,#T_a88c9_row11_col7,#T_a88c9_row11_col8,#T_a88c9_row11_col9,#T_a88c9_row11_col10,#T_a88c9_row11_col12,#T_a88c9_row11_col13,#T_a88c9_row11_col14,#T_a88c9_row12_col0,#T_a88c9_row12_col1,#T_a88c9_row12_col2,#T_a88c9_row12_col3,#T_a88c9_row12_col4,#T_a88c9_row12_col5,#T_a88c9_row12_col6,#T_a88c9_row12_col7,#T_a88c9_row12_col8,#T_a88c9_row12_col9,#T_a88c9_row12_col10,#T_a88c9_row12_col11,#T_a88c9_row12_col13,#T_a88c9_row12_col14,#T_a88c9_row13_col0,#T_a88c9_row13_col1,#T_a88c9_row13_col2,#T_a88c9_row13_col3,#T_a88c9_row13_col4,#T_a88c9_row13_col5,#T_a88c9_row13_col6,#T_a88c9_row13_col7,#T_a88c9_row13_col8,#T_a88c9_row13_col9,#T_a88c9_row13_col10,#T_a88c9_row13_col11,#T_a88c9_row13_col12,#T_a88c9_row13_col14,#T_a88c9_row14_col0,#T_a88c9_row14_col1,#T_a88c9_row14_col2,#T_a88c9_row14_col3,#T_a88c9_row14_col4,#T_a88c9_row14_col5,#T_a88c9_row14_col6,#T_a88c9_row14_col7,#T_a88c9_row14_col8,#T_a88c9_row14_col9,#T_a88c9_row14_col10,#T_a88c9_row14_col11,#T_a88c9_row14_col12,#T_a88c9_row14_col13{\n",
       "            background-color:  #f7fbff;\n",
       "            color:  #000000;\n",
       "        }</style><table id=\"T_a88c9_\" ><thead>    <tr>        <th class=\"blank level0\" ></th>        <th class=\"col_heading level0 col0\" >AGUA NATURAL</th>        <th class=\"col_heading level0 col1\" >BB LIQUIDO</th>        <th class=\"col_heading level0 col2\" >BB SOLIDO</th>        <th class=\"col_heading level0 col3\" >BEBIDAS INFANTILES</th>        <th class=\"col_heading level0 col4\" >BEBIDAS SABORIZADAS</th>        <th class=\"col_heading level0 col5\" >GELATINAS</th>        <th class=\"col_heading level0 col6\" >GRIEGO</th>        <th class=\"col_heading level0 col7\" >INFANTIL LIQUIDO</th>        <th class=\"col_heading level0 col8\" >INFANTIL SOLIDO</th>        <th class=\"col_heading level0 col9\" >LACTEOS FERMENTADOS</th>        <th class=\"col_heading level0 col10\" >LIGHT</th>        <th class=\"col_heading level0 col11\" >PLANT BASED</th>        <th class=\"col_heading level0 col12\" >POSTRES REGULARES</th>        <th class=\"col_heading level0 col13\" >SALUD ACTIVA</th>        <th class=\"col_heading level0 col14\" >SPECIALTIES</th>    </tr></thead><tbody>\n",
       "                <tr>\n",
       "                        <th id=\"T_a88c9_level0_row0\" class=\"row_heading level0 row0\" >AGUA NATURAL</th>\n",
       "                        <td id=\"T_a88c9_row0_col0\" class=\"data row0 col0\" >43</td>\n",
       "                        <td id=\"T_a88c9_row0_col1\" class=\"data row0 col1\" >0</td>\n",
       "                        <td id=\"T_a88c9_row0_col2\" class=\"data row0 col2\" >0</td>\n",
       "                        <td id=\"T_a88c9_row0_col3\" class=\"data row0 col3\" >0</td>\n",
       "                        <td id=\"T_a88c9_row0_col4\" class=\"data row0 col4\" >0</td>\n",
       "                        <td id=\"T_a88c9_row0_col5\" class=\"data row0 col5\" >0</td>\n",
       "                        <td id=\"T_a88c9_row0_col6\" class=\"data row0 col6\" >0</td>\n",
       "                        <td id=\"T_a88c9_row0_col7\" class=\"data row0 col7\" >0</td>\n",
       "                        <td id=\"T_a88c9_row0_col8\" class=\"data row0 col8\" >0</td>\n",
       "                        <td id=\"T_a88c9_row0_col9\" class=\"data row0 col9\" >0</td>\n",
       "                        <td id=\"T_a88c9_row0_col10\" class=\"data row0 col10\" >0</td>\n",
       "                        <td id=\"T_a88c9_row0_col11\" class=\"data row0 col11\" >0</td>\n",
       "                        <td id=\"T_a88c9_row0_col12\" class=\"data row0 col12\" >0</td>\n",
       "                        <td id=\"T_a88c9_row0_col13\" class=\"data row0 col13\" >0</td>\n",
       "                        <td id=\"T_a88c9_row0_col14\" class=\"data row0 col14\" >0</td>\n",
       "            </tr>\n",
       "            <tr>\n",
       "                        <th id=\"T_a88c9_level0_row1\" class=\"row_heading level0 row1\" >BB LIQUIDO</th>\n",
       "                        <td id=\"T_a88c9_row1_col0\" class=\"data row1 col0\" >0</td>\n",
       "                        <td id=\"T_a88c9_row1_col1\" class=\"data row1 col1\" >22</td>\n",
       "                        <td id=\"T_a88c9_row1_col2\" class=\"data row1 col2\" >0</td>\n",
       "                        <td id=\"T_a88c9_row1_col3\" class=\"data row1 col3\" >0</td>\n",
       "                        <td id=\"T_a88c9_row1_col4\" class=\"data row1 col4\" >0</td>\n",
       "                        <td id=\"T_a88c9_row1_col5\" class=\"data row1 col5\" >0</td>\n",
       "                        <td id=\"T_a88c9_row1_col6\" class=\"data row1 col6\" >0</td>\n",
       "                        <td id=\"T_a88c9_row1_col7\" class=\"data row1 col7\" >0</td>\n",
       "                        <td id=\"T_a88c9_row1_col8\" class=\"data row1 col8\" >0</td>\n",
       "                        <td id=\"T_a88c9_row1_col9\" class=\"data row1 col9\" >0</td>\n",
       "                        <td id=\"T_a88c9_row1_col10\" class=\"data row1 col10\" >0</td>\n",
       "                        <td id=\"T_a88c9_row1_col11\" class=\"data row1 col11\" >0</td>\n",
       "                        <td id=\"T_a88c9_row1_col12\" class=\"data row1 col12\" >0</td>\n",
       "                        <td id=\"T_a88c9_row1_col13\" class=\"data row1 col13\" >0</td>\n",
       "                        <td id=\"T_a88c9_row1_col14\" class=\"data row1 col14\" >0</td>\n",
       "            </tr>\n",
       "            <tr>\n",
       "                        <th id=\"T_a88c9_level0_row2\" class=\"row_heading level0 row2\" >BB SOLIDO</th>\n",
       "                        <td id=\"T_a88c9_row2_col0\" class=\"data row2 col0\" >0</td>\n",
       "                        <td id=\"T_a88c9_row2_col1\" class=\"data row2 col1\" >0</td>\n",
       "                        <td id=\"T_a88c9_row2_col2\" class=\"data row2 col2\" >36</td>\n",
       "                        <td id=\"T_a88c9_row2_col3\" class=\"data row2 col3\" >0</td>\n",
       "                        <td id=\"T_a88c9_row2_col4\" class=\"data row2 col4\" >0</td>\n",
       "                        <td id=\"T_a88c9_row2_col5\" class=\"data row2 col5\" >0</td>\n",
       "                        <td id=\"T_a88c9_row2_col6\" class=\"data row2 col6\" >0</td>\n",
       "                        <td id=\"T_a88c9_row2_col7\" class=\"data row2 col7\" >0</td>\n",
       "                        <td id=\"T_a88c9_row2_col8\" class=\"data row2 col8\" >0</td>\n",
       "                        <td id=\"T_a88c9_row2_col9\" class=\"data row2 col9\" >0</td>\n",
       "                        <td id=\"T_a88c9_row2_col10\" class=\"data row2 col10\" >0</td>\n",
       "                        <td id=\"T_a88c9_row2_col11\" class=\"data row2 col11\" >0</td>\n",
       "                        <td id=\"T_a88c9_row2_col12\" class=\"data row2 col12\" >0</td>\n",
       "                        <td id=\"T_a88c9_row2_col13\" class=\"data row2 col13\" >0</td>\n",
       "                        <td id=\"T_a88c9_row2_col14\" class=\"data row2 col14\" >0</td>\n",
       "            </tr>\n",
       "            <tr>\n",
       "                        <th id=\"T_a88c9_level0_row3\" class=\"row_heading level0 row3\" >BEBIDAS INFANTILES</th>\n",
       "                        <td id=\"T_a88c9_row3_col0\" class=\"data row3 col0\" >0</td>\n",
       "                        <td id=\"T_a88c9_row3_col1\" class=\"data row3 col1\" >0</td>\n",
       "                        <td id=\"T_a88c9_row3_col2\" class=\"data row3 col2\" >0</td>\n",
       "                        <td id=\"T_a88c9_row3_col3\" class=\"data row3 col3\" >7</td>\n",
       "                        <td id=\"T_a88c9_row3_col4\" class=\"data row3 col4\" >0</td>\n",
       "                        <td id=\"T_a88c9_row3_col5\" class=\"data row3 col5\" >0</td>\n",
       "                        <td id=\"T_a88c9_row3_col6\" class=\"data row3 col6\" >0</td>\n",
       "                        <td id=\"T_a88c9_row3_col7\" class=\"data row3 col7\" >0</td>\n",
       "                        <td id=\"T_a88c9_row3_col8\" class=\"data row3 col8\" >0</td>\n",
       "                        <td id=\"T_a88c9_row3_col9\" class=\"data row3 col9\" >0</td>\n",
       "                        <td id=\"T_a88c9_row3_col10\" class=\"data row3 col10\" >0</td>\n",
       "                        <td id=\"T_a88c9_row3_col11\" class=\"data row3 col11\" >0</td>\n",
       "                        <td id=\"T_a88c9_row3_col12\" class=\"data row3 col12\" >0</td>\n",
       "                        <td id=\"T_a88c9_row3_col13\" class=\"data row3 col13\" >0</td>\n",
       "                        <td id=\"T_a88c9_row3_col14\" class=\"data row3 col14\" >0</td>\n",
       "            </tr>\n",
       "            <tr>\n",
       "                        <th id=\"T_a88c9_level0_row4\" class=\"row_heading level0 row4\" >BEBIDAS SABORIZADAS</th>\n",
       "                        <td id=\"T_a88c9_row4_col0\" class=\"data row4 col0\" >0</td>\n",
       "                        <td id=\"T_a88c9_row4_col1\" class=\"data row4 col1\" >0</td>\n",
       "                        <td id=\"T_a88c9_row4_col2\" class=\"data row4 col2\" >0</td>\n",
       "                        <td id=\"T_a88c9_row4_col3\" class=\"data row4 col3\" >0</td>\n",
       "                        <td id=\"T_a88c9_row4_col4\" class=\"data row4 col4\" >34</td>\n",
       "                        <td id=\"T_a88c9_row4_col5\" class=\"data row4 col5\" >0</td>\n",
       "                        <td id=\"T_a88c9_row4_col6\" class=\"data row4 col6\" >0</td>\n",
       "                        <td id=\"T_a88c9_row4_col7\" class=\"data row4 col7\" >0</td>\n",
       "                        <td id=\"T_a88c9_row4_col8\" class=\"data row4 col8\" >0</td>\n",
       "                        <td id=\"T_a88c9_row4_col9\" class=\"data row4 col9\" >0</td>\n",
       "                        <td id=\"T_a88c9_row4_col10\" class=\"data row4 col10\" >0</td>\n",
       "                        <td id=\"T_a88c9_row4_col11\" class=\"data row4 col11\" >0</td>\n",
       "                        <td id=\"T_a88c9_row4_col12\" class=\"data row4 col12\" >0</td>\n",
       "                        <td id=\"T_a88c9_row4_col13\" class=\"data row4 col13\" >0</td>\n",
       "                        <td id=\"T_a88c9_row4_col14\" class=\"data row4 col14\" >0</td>\n",
       "            </tr>\n",
       "            <tr>\n",
       "                        <th id=\"T_a88c9_level0_row5\" class=\"row_heading level0 row5\" >GELATINAS</th>\n",
       "                        <td id=\"T_a88c9_row5_col0\" class=\"data row5 col0\" >0</td>\n",
       "                        <td id=\"T_a88c9_row5_col1\" class=\"data row5 col1\" >0</td>\n",
       "                        <td id=\"T_a88c9_row5_col2\" class=\"data row5 col2\" >0</td>\n",
       "                        <td id=\"T_a88c9_row5_col3\" class=\"data row5 col3\" >0</td>\n",
       "                        <td id=\"T_a88c9_row5_col4\" class=\"data row5 col4\" >0</td>\n",
       "                        <td id=\"T_a88c9_row5_col5\" class=\"data row5 col5\" >8</td>\n",
       "                        <td id=\"T_a88c9_row5_col6\" class=\"data row5 col6\" >0</td>\n",
       "                        <td id=\"T_a88c9_row5_col7\" class=\"data row5 col7\" >0</td>\n",
       "                        <td id=\"T_a88c9_row5_col8\" class=\"data row5 col8\" >0</td>\n",
       "                        <td id=\"T_a88c9_row5_col9\" class=\"data row5 col9\" >0</td>\n",
       "                        <td id=\"T_a88c9_row5_col10\" class=\"data row5 col10\" >0</td>\n",
       "                        <td id=\"T_a88c9_row5_col11\" class=\"data row5 col11\" >0</td>\n",
       "                        <td id=\"T_a88c9_row5_col12\" class=\"data row5 col12\" >0</td>\n",
       "                        <td id=\"T_a88c9_row5_col13\" class=\"data row5 col13\" >0</td>\n",
       "                        <td id=\"T_a88c9_row5_col14\" class=\"data row5 col14\" >0</td>\n",
       "            </tr>\n",
       "            <tr>\n",
       "                        <th id=\"T_a88c9_level0_row6\" class=\"row_heading level0 row6\" >GRIEGO</th>\n",
       "                        <td id=\"T_a88c9_row6_col0\" class=\"data row6 col0\" >0</td>\n",
       "                        <td id=\"T_a88c9_row6_col1\" class=\"data row6 col1\" >0</td>\n",
       "                        <td id=\"T_a88c9_row6_col2\" class=\"data row6 col2\" >0</td>\n",
       "                        <td id=\"T_a88c9_row6_col3\" class=\"data row6 col3\" >0</td>\n",
       "                        <td id=\"T_a88c9_row6_col4\" class=\"data row6 col4\" >0</td>\n",
       "                        <td id=\"T_a88c9_row6_col5\" class=\"data row6 col5\" >0</td>\n",
       "                        <td id=\"T_a88c9_row6_col6\" class=\"data row6 col6\" >15</td>\n",
       "                        <td id=\"T_a88c9_row6_col7\" class=\"data row6 col7\" >0</td>\n",
       "                        <td id=\"T_a88c9_row6_col8\" class=\"data row6 col8\" >0</td>\n",
       "                        <td id=\"T_a88c9_row6_col9\" class=\"data row6 col9\" >0</td>\n",
       "                        <td id=\"T_a88c9_row6_col10\" class=\"data row6 col10\" >0</td>\n",
       "                        <td id=\"T_a88c9_row6_col11\" class=\"data row6 col11\" >0</td>\n",
       "                        <td id=\"T_a88c9_row6_col12\" class=\"data row6 col12\" >0</td>\n",
       "                        <td id=\"T_a88c9_row6_col13\" class=\"data row6 col13\" >0</td>\n",
       "                        <td id=\"T_a88c9_row6_col14\" class=\"data row6 col14\" >0</td>\n",
       "            </tr>\n",
       "            <tr>\n",
       "                        <th id=\"T_a88c9_level0_row7\" class=\"row_heading level0 row7\" >INFANTIL LIQUIDO</th>\n",
       "                        <td id=\"T_a88c9_row7_col0\" class=\"data row7 col0\" >0</td>\n",
       "                        <td id=\"T_a88c9_row7_col1\" class=\"data row7 col1\" >0</td>\n",
       "                        <td id=\"T_a88c9_row7_col2\" class=\"data row7 col2\" >0</td>\n",
       "                        <td id=\"T_a88c9_row7_col3\" class=\"data row7 col3\" >0</td>\n",
       "                        <td id=\"T_a88c9_row7_col4\" class=\"data row7 col4\" >0</td>\n",
       "                        <td id=\"T_a88c9_row7_col5\" class=\"data row7 col5\" >0</td>\n",
       "                        <td id=\"T_a88c9_row7_col6\" class=\"data row7 col6\" >0</td>\n",
       "                        <td id=\"T_a88c9_row7_col7\" class=\"data row7 col7\" >3</td>\n",
       "                        <td id=\"T_a88c9_row7_col8\" class=\"data row7 col8\" >0</td>\n",
       "                        <td id=\"T_a88c9_row7_col9\" class=\"data row7 col9\" >0</td>\n",
       "                        <td id=\"T_a88c9_row7_col10\" class=\"data row7 col10\" >0</td>\n",
       "                        <td id=\"T_a88c9_row7_col11\" class=\"data row7 col11\" >0</td>\n",
       "                        <td id=\"T_a88c9_row7_col12\" class=\"data row7 col12\" >0</td>\n",
       "                        <td id=\"T_a88c9_row7_col13\" class=\"data row7 col13\" >0</td>\n",
       "                        <td id=\"T_a88c9_row7_col14\" class=\"data row7 col14\" >0</td>\n",
       "            </tr>\n",
       "            <tr>\n",
       "                        <th id=\"T_a88c9_level0_row8\" class=\"row_heading level0 row8\" >INFANTIL SOLIDO</th>\n",
       "                        <td id=\"T_a88c9_row8_col0\" class=\"data row8 col0\" >0</td>\n",
       "                        <td id=\"T_a88c9_row8_col1\" class=\"data row8 col1\" >0</td>\n",
       "                        <td id=\"T_a88c9_row8_col2\" class=\"data row8 col2\" >0</td>\n",
       "                        <td id=\"T_a88c9_row8_col3\" class=\"data row8 col3\" >0</td>\n",
       "                        <td id=\"T_a88c9_row8_col4\" class=\"data row8 col4\" >0</td>\n",
       "                        <td id=\"T_a88c9_row8_col5\" class=\"data row8 col5\" >0</td>\n",
       "                        <td id=\"T_a88c9_row8_col6\" class=\"data row8 col6\" >0</td>\n",
       "                        <td id=\"T_a88c9_row8_col7\" class=\"data row8 col7\" >0</td>\n",
       "                        <td id=\"T_a88c9_row8_col8\" class=\"data row8 col8\" >6</td>\n",
       "                        <td id=\"T_a88c9_row8_col9\" class=\"data row8 col9\" >0</td>\n",
       "                        <td id=\"T_a88c9_row8_col10\" class=\"data row8 col10\" >0</td>\n",
       "                        <td id=\"T_a88c9_row8_col11\" class=\"data row8 col11\" >0</td>\n",
       "                        <td id=\"T_a88c9_row8_col12\" class=\"data row8 col12\" >0</td>\n",
       "                        <td id=\"T_a88c9_row8_col13\" class=\"data row8 col13\" >0</td>\n",
       "                        <td id=\"T_a88c9_row8_col14\" class=\"data row8 col14\" >0</td>\n",
       "            </tr>\n",
       "            <tr>\n",
       "                        <th id=\"T_a88c9_level0_row9\" class=\"row_heading level0 row9\" >LACTEOS FERMENTADOS</th>\n",
       "                        <td id=\"T_a88c9_row9_col0\" class=\"data row9 col0\" >0</td>\n",
       "                        <td id=\"T_a88c9_row9_col1\" class=\"data row9 col1\" >0</td>\n",
       "                        <td id=\"T_a88c9_row9_col2\" class=\"data row9 col2\" >0</td>\n",
       "                        <td id=\"T_a88c9_row9_col3\" class=\"data row9 col3\" >0</td>\n",
       "                        <td id=\"T_a88c9_row9_col4\" class=\"data row9 col4\" >0</td>\n",
       "                        <td id=\"T_a88c9_row9_col5\" class=\"data row9 col5\" >0</td>\n",
       "                        <td id=\"T_a88c9_row9_col6\" class=\"data row9 col6\" >0</td>\n",
       "                        <td id=\"T_a88c9_row9_col7\" class=\"data row9 col7\" >0</td>\n",
       "                        <td id=\"T_a88c9_row9_col8\" class=\"data row9 col8\" >0</td>\n",
       "                        <td id=\"T_a88c9_row9_col9\" class=\"data row9 col9\" >6</td>\n",
       "                        <td id=\"T_a88c9_row9_col10\" class=\"data row9 col10\" >0</td>\n",
       "                        <td id=\"T_a88c9_row9_col11\" class=\"data row9 col11\" >0</td>\n",
       "                        <td id=\"T_a88c9_row9_col12\" class=\"data row9 col12\" >0</td>\n",
       "                        <td id=\"T_a88c9_row9_col13\" class=\"data row9 col13\" >0</td>\n",
       "                        <td id=\"T_a88c9_row9_col14\" class=\"data row9 col14\" >0</td>\n",
       "            </tr>\n",
       "            <tr>\n",
       "                        <th id=\"T_a88c9_level0_row10\" class=\"row_heading level0 row10\" >LIGHT</th>\n",
       "                        <td id=\"T_a88c9_row10_col0\" class=\"data row10 col0\" >0</td>\n",
       "                        <td id=\"T_a88c9_row10_col1\" class=\"data row10 col1\" >0</td>\n",
       "                        <td id=\"T_a88c9_row10_col2\" class=\"data row10 col2\" >0</td>\n",
       "                        <td id=\"T_a88c9_row10_col3\" class=\"data row10 col3\" >0</td>\n",
       "                        <td id=\"T_a88c9_row10_col4\" class=\"data row10 col4\" >0</td>\n",
       "                        <td id=\"T_a88c9_row10_col5\" class=\"data row10 col5\" >0</td>\n",
       "                        <td id=\"T_a88c9_row10_col6\" class=\"data row10 col6\" >0</td>\n",
       "                        <td id=\"T_a88c9_row10_col7\" class=\"data row10 col7\" >0</td>\n",
       "                        <td id=\"T_a88c9_row10_col8\" class=\"data row10 col8\" >0</td>\n",
       "                        <td id=\"T_a88c9_row10_col9\" class=\"data row10 col9\" >0</td>\n",
       "                        <td id=\"T_a88c9_row10_col10\" class=\"data row10 col10\" >5</td>\n",
       "                        <td id=\"T_a88c9_row10_col11\" class=\"data row10 col11\" >0</td>\n",
       "                        <td id=\"T_a88c9_row10_col12\" class=\"data row10 col12\" >0</td>\n",
       "                        <td id=\"T_a88c9_row10_col13\" class=\"data row10 col13\" >0</td>\n",
       "                        <td id=\"T_a88c9_row10_col14\" class=\"data row10 col14\" >0</td>\n",
       "            </tr>\n",
       "            <tr>\n",
       "                        <th id=\"T_a88c9_level0_row11\" class=\"row_heading level0 row11\" >PLANT BASED</th>\n",
       "                        <td id=\"T_a88c9_row11_col0\" class=\"data row11 col0\" >0</td>\n",
       "                        <td id=\"T_a88c9_row11_col1\" class=\"data row11 col1\" >0</td>\n",
       "                        <td id=\"T_a88c9_row11_col2\" class=\"data row11 col2\" >0</td>\n",
       "                        <td id=\"T_a88c9_row11_col3\" class=\"data row11 col3\" >0</td>\n",
       "                        <td id=\"T_a88c9_row11_col4\" class=\"data row11 col4\" >0</td>\n",
       "                        <td id=\"T_a88c9_row11_col5\" class=\"data row11 col5\" >0</td>\n",
       "                        <td id=\"T_a88c9_row11_col6\" class=\"data row11 col6\" >0</td>\n",
       "                        <td id=\"T_a88c9_row11_col7\" class=\"data row11 col7\" >0</td>\n",
       "                        <td id=\"T_a88c9_row11_col8\" class=\"data row11 col8\" >0</td>\n",
       "                        <td id=\"T_a88c9_row11_col9\" class=\"data row11 col9\" >0</td>\n",
       "                        <td id=\"T_a88c9_row11_col10\" class=\"data row11 col10\" >0</td>\n",
       "                        <td id=\"T_a88c9_row11_col11\" class=\"data row11 col11\" >27</td>\n",
       "                        <td id=\"T_a88c9_row11_col12\" class=\"data row11 col12\" >0</td>\n",
       "                        <td id=\"T_a88c9_row11_col13\" class=\"data row11 col13\" >0</td>\n",
       "                        <td id=\"T_a88c9_row11_col14\" class=\"data row11 col14\" >0</td>\n",
       "            </tr>\n",
       "            <tr>\n",
       "                        <th id=\"T_a88c9_level0_row12\" class=\"row_heading level0 row12\" >POSTRES REGULARES</th>\n",
       "                        <td id=\"T_a88c9_row12_col0\" class=\"data row12 col0\" >0</td>\n",
       "                        <td id=\"T_a88c9_row12_col1\" class=\"data row12 col1\" >0</td>\n",
       "                        <td id=\"T_a88c9_row12_col2\" class=\"data row12 col2\" >0</td>\n",
       "                        <td id=\"T_a88c9_row12_col3\" class=\"data row12 col3\" >0</td>\n",
       "                        <td id=\"T_a88c9_row12_col4\" class=\"data row12 col4\" >0</td>\n",
       "                        <td id=\"T_a88c9_row12_col5\" class=\"data row12 col5\" >0</td>\n",
       "                        <td id=\"T_a88c9_row12_col6\" class=\"data row12 col6\" >0</td>\n",
       "                        <td id=\"T_a88c9_row12_col7\" class=\"data row12 col7\" >0</td>\n",
       "                        <td id=\"T_a88c9_row12_col8\" class=\"data row12 col8\" >0</td>\n",
       "                        <td id=\"T_a88c9_row12_col9\" class=\"data row12 col9\" >0</td>\n",
       "                        <td id=\"T_a88c9_row12_col10\" class=\"data row12 col10\" >0</td>\n",
       "                        <td id=\"T_a88c9_row12_col11\" class=\"data row12 col11\" >0</td>\n",
       "                        <td id=\"T_a88c9_row12_col12\" class=\"data row12 col12\" >2</td>\n",
       "                        <td id=\"T_a88c9_row12_col13\" class=\"data row12 col13\" >0</td>\n",
       "                        <td id=\"T_a88c9_row12_col14\" class=\"data row12 col14\" >0</td>\n",
       "            </tr>\n",
       "            <tr>\n",
       "                        <th id=\"T_a88c9_level0_row13\" class=\"row_heading level0 row13\" >SALUD ACTIVA</th>\n",
       "                        <td id=\"T_a88c9_row13_col0\" class=\"data row13 col0\" >0</td>\n",
       "                        <td id=\"T_a88c9_row13_col1\" class=\"data row13 col1\" >0</td>\n",
       "                        <td id=\"T_a88c9_row13_col2\" class=\"data row13 col2\" >0</td>\n",
       "                        <td id=\"T_a88c9_row13_col3\" class=\"data row13 col3\" >0</td>\n",
       "                        <td id=\"T_a88c9_row13_col4\" class=\"data row13 col4\" >0</td>\n",
       "                        <td id=\"T_a88c9_row13_col5\" class=\"data row13 col5\" >0</td>\n",
       "                        <td id=\"T_a88c9_row13_col6\" class=\"data row13 col6\" >0</td>\n",
       "                        <td id=\"T_a88c9_row13_col7\" class=\"data row13 col7\" >0</td>\n",
       "                        <td id=\"T_a88c9_row13_col8\" class=\"data row13 col8\" >0</td>\n",
       "                        <td id=\"T_a88c9_row13_col9\" class=\"data row13 col9\" >0</td>\n",
       "                        <td id=\"T_a88c9_row13_col10\" class=\"data row13 col10\" >0</td>\n",
       "                        <td id=\"T_a88c9_row13_col11\" class=\"data row13 col11\" >0</td>\n",
       "                        <td id=\"T_a88c9_row13_col12\" class=\"data row13 col12\" >0</td>\n",
       "                        <td id=\"T_a88c9_row13_col13\" class=\"data row13 col13\" >24</td>\n",
       "                        <td id=\"T_a88c9_row13_col14\" class=\"data row13 col14\" >0</td>\n",
       "            </tr>\n",
       "            <tr>\n",
       "                        <th id=\"T_a88c9_level0_row14\" class=\"row_heading level0 row14\" >SPECIALTIES</th>\n",
       "                        <td id=\"T_a88c9_row14_col0\" class=\"data row14 col0\" >0</td>\n",
       "                        <td id=\"T_a88c9_row14_col1\" class=\"data row14 col1\" >0</td>\n",
       "                        <td id=\"T_a88c9_row14_col2\" class=\"data row14 col2\" >0</td>\n",
       "                        <td id=\"T_a88c9_row14_col3\" class=\"data row14 col3\" >0</td>\n",
       "                        <td id=\"T_a88c9_row14_col4\" class=\"data row14 col4\" >0</td>\n",
       "                        <td id=\"T_a88c9_row14_col5\" class=\"data row14 col5\" >0</td>\n",
       "                        <td id=\"T_a88c9_row14_col6\" class=\"data row14 col6\" >0</td>\n",
       "                        <td id=\"T_a88c9_row14_col7\" class=\"data row14 col7\" >0</td>\n",
       "                        <td id=\"T_a88c9_row14_col8\" class=\"data row14 col8\" >0</td>\n",
       "                        <td id=\"T_a88c9_row14_col9\" class=\"data row14 col9\" >0</td>\n",
       "                        <td id=\"T_a88c9_row14_col10\" class=\"data row14 col10\" >0</td>\n",
       "                        <td id=\"T_a88c9_row14_col11\" class=\"data row14 col11\" >0</td>\n",
       "                        <td id=\"T_a88c9_row14_col12\" class=\"data row14 col12\" >0</td>\n",
       "                        <td id=\"T_a88c9_row14_col13\" class=\"data row14 col13\" >0</td>\n",
       "                        <td id=\"T_a88c9_row14_col14\" class=\"data row14 col14\" >7</td>\n",
       "            </tr>\n",
       "    </tbody></table>"
      ],
      "text/plain": [
       "<pandas.io.formats.style.Styler at 0x7fd8940dcd90>"
      ]
     },
     "execution_count": 15,
     "metadata": {},
     "output_type": "execute_result"
    }
   ],
   "source": [
    "from sklearn.metrics import confusion_matrix\n",
    "model = model_logreg\n",
    "pd.DataFrame(confusion_matrix(y_test,model.predict(X_test)),\n",
    "             index=model_logreg[1].classes_,columns=model_logreg[1].classes_\n",
    "            ).style.background_gradient(cmap='Blues')"
   ]
  },
  {
   "cell_type": "markdown",
   "id": "65fa341a",
   "metadata": {
    "heading_collapsed": true,
    "hidden": true
   },
   "source": [
    "### Predict"
   ]
  },
  {
   "cell_type": "code",
   "execution_count": 16,
   "id": "952db2b1",
   "metadata": {
    "ExecuteTime": {
     "end_time": "2021-06-11T17:50:52.202894Z",
     "start_time": "2021-06-11T17:50:52.094802Z"
    },
    "hidden": true
   },
   "outputs": [],
   "source": [
    "X_val,cs_cat,product_id_col = tad(val)"
   ]
  },
  {
   "cell_type": "code",
   "execution_count": 17,
   "id": "2626d9ba",
   "metadata": {
    "ExecuteTime": {
     "end_time": "2021-06-11T17:50:52.224671Z",
     "start_time": "2021-06-11T17:50:52.204665Z"
    },
    "hidden": true
   },
   "outputs": [
    {
     "data": {
      "text/html": [
       "<div>\n",
       "<style scoped>\n",
       "    .dataframe tbody tr th:only-of-type {\n",
       "        vertical-align: middle;\n",
       "    }\n",
       "\n",
       "    .dataframe tbody tr th {\n",
       "        vertical-align: top;\n",
       "    }\n",
       "\n",
       "    .dataframe thead th {\n",
       "        text-align: right;\n",
       "    }\n",
       "</style>\n",
       "<table border=\"1\" class=\"dataframe\">\n",
       "  <thead>\n",
       "    <tr style=\"text-align: right;\">\n",
       "      <th></th>\n",
       "      <th>category_en</th>\n",
       "      <th>product_name</th>\n",
       "      <th>proveedor_general</th>\n",
       "      <th>marca_generica</th>\n",
       "      <th>descripcion_nielsen</th>\n",
       "      <th>segmento</th>\n",
       "      <th>Nielsen_pred</th>\n",
       "    </tr>\n",
       "    <tr>\n",
       "      <th>product_id</th>\n",
       "      <th></th>\n",
       "      <th></th>\n",
       "      <th></th>\n",
       "      <th></th>\n",
       "      <th></th>\n",
       "      <th></th>\n",
       "      <th></th>\n",
       "    </tr>\n",
       "  </thead>\n",
       "  <tbody>\n",
       "    <tr>\n",
       "      <th>313847</th>\n",
       "      <td>Yogurt</td>\n",
       "      <td>Yoghurt bebible vitalínea sabor guayaba</td>\n",
       "      <td>Danone</td>\n",
       "      <td>Vitalínea</td>\n",
       "      <td>Yoghurt bebible vitalínea sabor guayaba</td>\n",
       "      <td>Yogurt</td>\n",
       "      <td>LIGHT</td>\n",
       "    </tr>\n",
       "    <tr>\n",
       "      <th>1014858</th>\n",
       "      <td>Yogurt</td>\n",
       "      <td>Yogurt para beber con mango 250ml</td>\n",
       "      <td>without CPG</td>\n",
       "      <td>Villa de Patos</td>\n",
       "      <td>Yogurt para beber con mango 250ml</td>\n",
       "      <td>Yogurt</td>\n",
       "      <td>SALUD ACTIVA</td>\n",
       "    </tr>\n",
       "    <tr>\n",
       "      <th>2805783</th>\n",
       "      <td>Water</td>\n",
       "      <td>Agua</td>\n",
       "      <td>without CPG</td>\n",
       "      <td>Ougaku</td>\n",
       "      <td>Agua</td>\n",
       "      <td>Water</td>\n",
       "      <td>AGUA NATURAL</td>\n",
       "    </tr>\n",
       "    <tr>\n",
       "      <th>3465268</th>\n",
       "      <td>Yogurt</td>\n",
       "      <td>Yogurt griego</td>\n",
       "      <td>Fage</td>\n",
       "      <td>Fage</td>\n",
       "      <td>Yogurt griego</td>\n",
       "      <td>Yogurt</td>\n",
       "      <td>GRIEGO</td>\n",
       "    </tr>\n",
       "  </tbody>\n",
       "</table>\n",
       "</div>"
      ],
      "text/plain": [
       "           category_en                              product_name  \\\n",
       "product_id                                                         \n",
       "313847          Yogurt  Yoghurt bebible vitalínea sabor guayaba    \n",
       "1014858         Yogurt         Yogurt para beber con mango 250ml   \n",
       "2805783          Water                                      Agua   \n",
       "3465268         Yogurt                             Yogurt griego   \n",
       "\n",
       "           proveedor_general  marca_generica  \\\n",
       "product_id                                     \n",
       "313847                Danone       Vitalínea   \n",
       "1014858          without CPG  Villa de Patos   \n",
       "2805783          without CPG          Ougaku   \n",
       "3465268                 Fage            Fage   \n",
       "\n",
       "                                 descripcion_nielsen segmento  Nielsen_pred  \n",
       "product_id                                                                   \n",
       "313847      Yoghurt bebible vitalínea sabor guayaba    Yogurt         LIGHT  \n",
       "1014858            Yogurt para beber con mango 250ml   Yogurt  SALUD ACTIVA  \n",
       "2805783                                         Agua    Water  AGUA NATURAL  \n",
       "3465268                                Yogurt griego   Yogurt        GRIEGO  "
      ]
     },
     "execution_count": 17,
     "metadata": {},
     "output_type": "execute_result"
    }
   ],
   "source": [
    "resultado = val.iloc[:,:-1].join(pd.DataFrame(model_logreg.predict(X_val),\n",
    "                                              index=product_id_col,\n",
    "                                              columns=['Nielsen_pred']))\n",
    "resultado.sample(4)"
   ]
  },
  {
   "cell_type": "markdown",
   "id": "fleet-joining",
   "metadata": {
    "heading_collapsed": true
   },
   "source": [
    "## Export"
   ]
  },
  {
   "cell_type": "code",
   "execution_count": 18,
   "id": "59a54e6c",
   "metadata": {
    "ExecuteTime": {
     "end_time": "2021-06-11T17:50:52.235295Z",
     "start_time": "2021-06-11T17:50:52.226466Z"
    },
    "hidden": true
   },
   "outputs": [],
   "source": [
    "resultado.to_csv(os.path.join(BASE_DIR,f'nielsen_pred_{CPG}.csv'),\n",
    "                 sep='\\t',encoding='utf-16')"
   ]
  },
  {
   "cell_type": "markdown",
   "id": "turkish-projector",
   "metadata": {},
   "source": [
    "## Fin"
   ]
  },
  {
   "cell_type": "code",
   "execution_count": 19,
   "id": "88315daf",
   "metadata": {
    "ExecuteTime": {
     "end_time": "2021-06-11T17:50:52.470273Z",
     "start_time": "2021-06-11T17:50:52.237120Z"
    }
   },
   "outputs": [
    {
     "name": "stdout",
     "output_type": "stream",
     "text": [
      "Accuracy score:  100.00%\n",
      "Training accuracy:  100.00%\n"
     ]
    }
   ],
   "source": [
    "print('Accuracy score: ','{:.2%}'.format(model_logreg.fit(X_train,y_train).score(X_test,y_test)))\n",
    "print('Training accuracy: ','{:.2%}'.format(model_logreg.score(X_train,y_train)))"
   ]
  },
  {
   "cell_type": "code",
   "execution_count": 20,
   "id": "advance-removal",
   "metadata": {
    "ExecuteTime": {
     "end_time": "2021-06-11T17:50:52.482407Z",
     "start_time": "2021-06-11T17:50:52.472229Z"
    }
   },
   "outputs": [
    {
     "name": "stdout",
     "output_type": "stream",
     "text": [
      "0 minutos con 2.06 segundos\n"
     ]
    },
    {
     "data": {
      "text/html": [
       "\n",
       "                <audio  controls=\"controls\" autoplay=\"autoplay\">\n",
       "                    <source src=\"data:audio/wav;base64,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\" type=\"audio/wav\" />\n",
       "                    Your browser does not support the audio element.\n",
       "                </audio>\n",
       "              "
      ],
      "text/plain": [
       "<IPython.lib.display.Audio object>"
      ]
     },
     "execution_count": 20,
     "metadata": {},
     "output_type": "execute_result"
    }
   ],
   "source": [
    "time_exp(time.time() - start)\n",
    "tono()"
   ]
  }
 ],
 "metadata": {
  "kernelspec": {
   "display_name": "Python 3",
   "language": "python",
   "name": "python3"
  },
  "language_info": {
   "codemirror_mode": {
    "name": "ipython",
    "version": 3
   },
   "file_extension": ".py",
   "mimetype": "text/x-python",
   "name": "python",
   "nbconvert_exporter": "python",
   "pygments_lexer": "ipython3",
   "version": "3.9.1"
  },
  "toc": {
   "base_numbering": 1,
   "nav_menu": {},
   "number_sections": true,
   "sideBar": true,
   "skip_h1_title": true,
   "title_cell": "Table of Contents",
   "title_sidebar": "Contents",
   "toc_cell": false,
   "toc_position": {
    "height": "calc(100% - 180px)",
    "left": "10px",
    "top": "150px",
    "width": "353.583px"
   },
   "toc_section_display": true,
   "toc_window_display": true
  },
  "varInspector": {
   "cols": {
    "lenName": 16,
    "lenType": 16,
    "lenVar": 40
   },
   "kernels_config": {
    "python": {
     "delete_cmd_postfix": "",
     "delete_cmd_prefix": "del ",
     "library": "var_list.py",
     "varRefreshCmd": "print(var_dic_list())"
    },
    "r": {
     "delete_cmd_postfix": ") ",
     "delete_cmd_prefix": "rm(",
     "library": "var_list.r",
     "varRefreshCmd": "cat(var_dic_list()) "
    }
   },
   "types_to_exclude": [
    "module",
    "function",
    "builtin_function_or_method",
    "instance",
    "_Feature"
   ],
   "window_display": false
  }
 },
 "nbformat": 4,
 "nbformat_minor": 5
}
