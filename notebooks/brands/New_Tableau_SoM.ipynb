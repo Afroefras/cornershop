{
 "cells": [
  {
   "cell_type": "markdown",
   "source": [
    "# Performance by product --> SoM Dashboard"
   ],
   "metadata": {}
  },
  {
   "cell_type": "code",
   "execution_count": 1,
   "source": [
    "BASE_DIR = '/Users/efraflores/Desktop/EF/Corner/Brands/data/'\n",
    "CPG = 'colgate' \n",
    "nielsen_cat = False #True JUST FOR RB_HYHO, DANONE, UNILEVER SO FAR!!!\n",
    "past = False\n",
    "SOM_CPG = CPG.title()"
   ],
   "outputs": [],
   "metadata": {
    "ExecuteTime": {
     "end_time": "2021-07-13T15:43:35.979494Z",
     "start_time": "2021-07-13T15:43:35.968928Z"
    }
   }
  },
  {
   "cell_type": "markdown",
   "source": [
    "## Import"
   ],
   "metadata": {
    "heading_collapsed": true
   }
  },
  {
   "cell_type": "code",
   "execution_count": 2,
   "source": [
    "import sys\n",
    "sys.path.append('/Users/efraflores/Desktop/hub/cornershop/venv/lib/python3.9/site-packages')"
   ],
   "outputs": [],
   "metadata": {
    "ExecuteTime": {
     "end_time": "2021-07-13T15:43:35.984709Z",
     "start_time": "2021-07-13T15:43:35.982325Z"
    },
    "hidden": true
   }
  },
  {
   "cell_type": "code",
   "execution_count": 3,
   "source": [
    "import os\n",
    "import numpy as np\n",
    "import pandas as pd\n",
    "pd.options.display.float_format = '{:.2f}'.format\n",
    "print([x for x in os.listdir(BASE_DIR) if x.endswith(f'{CPG}.csv')])"
   ],
   "outputs": [
    {
     "output_type": "stream",
     "name": "stdout",
     "text": [
      "['nielsen_hills_science.csv', 'products_hills_science.csv', 'pasillos_hills_science.csv']\n"
     ]
    }
   ],
   "metadata": {
    "ExecuteTime": {
     "end_time": "2021-07-13T15:43:36.574546Z",
     "start_time": "2021-07-13T15:43:35.988681Z"
    },
    "hidden": true
   }
  },
  {
   "cell_type": "code",
   "execution_count": 4,
   "source": [
    "df = pd.read_csv(os.path.join(BASE_DIR,f'products_{CPG}.csv'),\n",
    "                 sep='\\t', encoding='UTF-16')\n",
    "df.sample(2)"
   ],
   "outputs": [
    {
     "output_type": "stream",
     "name": "stderr",
     "text": [
      "/Users/efraflores/Desktop/hub/cornershop/venv/lib/python3.9/site-packages/IPython/core/interactiveshell.py:3169: DtypeWarning: Columns (13,15) have mixed types.Specify dtype option on import or set low_memory=False.\n",
      "  has_raised = await self.run_ast_nodes(code_ast.body, cell_name,\n"
     ]
    },
    {
     "output_type": "execute_result",
     "data": {
      "text/plain": [
       "          month   country          city name store_name category en  \\\n",
       "68877  abril 2021       MX            Toluca      Petco        Food   \n",
       "71671  marzo 2021       MX  Ciudad de México   Chedraui    Wet food   \n",
       "\n",
       "       category_id  product id                   product name  \\\n",
       "68877          614      347008      Erizos e Insectivoros 1kg   \n",
       "71671          226     1001644  Alimento húmedo sabor sardina   \n",
       "\n",
       "              barcodes package  ...  sales orders avg ticket users  \\\n",
       "68877  {7501846401097}     1KG  ...    345      1        345     1   \n",
       "71671  {7501072209832}    85 g  ...  1,000     25         40    25   \n",
       "\n",
       "      units found units replaced units requested  found rate fulfillment  \\\n",
       "68877           1              0               1      100.0%      100.0%   \n",
       "71671          84              0              84      100.0%      100.0%   \n",
       "\n",
       "      frequency  \n",
       "68877      1.00  \n",
       "71671      1.00  \n",
       "\n",
       "[2 rows x 22 columns]"
      ],
      "text/html": [
       "<div>\n",
       "<style scoped>\n",
       "    .dataframe tbody tr th:only-of-type {\n",
       "        vertical-align: middle;\n",
       "    }\n",
       "\n",
       "    .dataframe tbody tr th {\n",
       "        vertical-align: top;\n",
       "    }\n",
       "\n",
       "    .dataframe thead th {\n",
       "        text-align: right;\n",
       "    }\n",
       "</style>\n",
       "<table border=\"1\" class=\"dataframe\">\n",
       "  <thead>\n",
       "    <tr style=\"text-align: right;\">\n",
       "      <th></th>\n",
       "      <th>month</th>\n",
       "      <th>country</th>\n",
       "      <th>city name</th>\n",
       "      <th>store_name</th>\n",
       "      <th>category en</th>\n",
       "      <th>category_id</th>\n",
       "      <th>product id</th>\n",
       "      <th>product name</th>\n",
       "      <th>barcodes</th>\n",
       "      <th>package</th>\n",
       "      <th>...</th>\n",
       "      <th>sales</th>\n",
       "      <th>orders</th>\n",
       "      <th>avg ticket</th>\n",
       "      <th>users</th>\n",
       "      <th>units found</th>\n",
       "      <th>units replaced</th>\n",
       "      <th>units requested</th>\n",
       "      <th>found rate</th>\n",
       "      <th>fulfillment</th>\n",
       "      <th>frequency</th>\n",
       "    </tr>\n",
       "  </thead>\n",
       "  <tbody>\n",
       "    <tr>\n",
       "      <th>68877</th>\n",
       "      <td>abril 2021</td>\n",
       "      <td>MX</td>\n",
       "      <td>Toluca</td>\n",
       "      <td>Petco</td>\n",
       "      <td>Food</td>\n",
       "      <td>614</td>\n",
       "      <td>347008</td>\n",
       "      <td>Erizos e Insectivoros 1kg</td>\n",
       "      <td>{7501846401097}</td>\n",
       "      <td>1KG</td>\n",
       "      <td>...</td>\n",
       "      <td>345</td>\n",
       "      <td>1</td>\n",
       "      <td>345</td>\n",
       "      <td>1</td>\n",
       "      <td>1</td>\n",
       "      <td>0</td>\n",
       "      <td>1</td>\n",
       "      <td>100.0%</td>\n",
       "      <td>100.0%</td>\n",
       "      <td>1.00</td>\n",
       "    </tr>\n",
       "    <tr>\n",
       "      <th>71671</th>\n",
       "      <td>marzo 2021</td>\n",
       "      <td>MX</td>\n",
       "      <td>Ciudad de México</td>\n",
       "      <td>Chedraui</td>\n",
       "      <td>Wet food</td>\n",
       "      <td>226</td>\n",
       "      <td>1001644</td>\n",
       "      <td>Alimento húmedo sabor sardina</td>\n",
       "      <td>{7501072209832}</td>\n",
       "      <td>85 g</td>\n",
       "      <td>...</td>\n",
       "      <td>1,000</td>\n",
       "      <td>25</td>\n",
       "      <td>40</td>\n",
       "      <td>25</td>\n",
       "      <td>84</td>\n",
       "      <td>0</td>\n",
       "      <td>84</td>\n",
       "      <td>100.0%</td>\n",
       "      <td>100.0%</td>\n",
       "      <td>1.00</td>\n",
       "    </tr>\n",
       "  </tbody>\n",
       "</table>\n",
       "<p>2 rows × 22 columns</p>\n",
       "</div>"
      ]
     },
     "metadata": {},
     "execution_count": 4
    }
   ],
   "metadata": {
    "ExecuteTime": {
     "end_time": "2021-07-13T15:43:36.677023Z",
     "start_time": "2021-07-13T15:43:36.577330Z"
    },
    "hidden": true
   }
  },
  {
   "cell_type": "code",
   "execution_count": 5,
   "source": [
    "aux_ini = df.copy()\n",
    "aux_ini['sales'] = aux_ini['sales'].astype(str).str.replace(',','').astype(float)\n",
    "aux_ini = aux_ini.groupby('month  ')['sales'].sum().reset_index()\n",
    "aux_ini"
   ],
   "outputs": [
    {
     "output_type": "execute_result",
     "data": {
      "text/plain": [
       "      month         sales\n",
       "0  abril 2021 21299124.00\n",
       "1  julio 2021 21920943.00\n",
       "2  junio 2021 21063065.00\n",
       "3  marzo 2021 23183508.00\n",
       "4   mayo 2021 21695710.00"
      ],
      "text/html": [
       "<div>\n",
       "<style scoped>\n",
       "    .dataframe tbody tr th:only-of-type {\n",
       "        vertical-align: middle;\n",
       "    }\n",
       "\n",
       "    .dataframe tbody tr th {\n",
       "        vertical-align: top;\n",
       "    }\n",
       "\n",
       "    .dataframe thead th {\n",
       "        text-align: right;\n",
       "    }\n",
       "</style>\n",
       "<table border=\"1\" class=\"dataframe\">\n",
       "  <thead>\n",
       "    <tr style=\"text-align: right;\">\n",
       "      <th></th>\n",
       "      <th>month</th>\n",
       "      <th>sales</th>\n",
       "    </tr>\n",
       "  </thead>\n",
       "  <tbody>\n",
       "    <tr>\n",
       "      <th>0</th>\n",
       "      <td>abril 2021</td>\n",
       "      <td>21299124.00</td>\n",
       "    </tr>\n",
       "    <tr>\n",
       "      <th>1</th>\n",
       "      <td>julio 2021</td>\n",
       "      <td>21920943.00</td>\n",
       "    </tr>\n",
       "    <tr>\n",
       "      <th>2</th>\n",
       "      <td>junio 2021</td>\n",
       "      <td>21063065.00</td>\n",
       "    </tr>\n",
       "    <tr>\n",
       "      <th>3</th>\n",
       "      <td>marzo 2021</td>\n",
       "      <td>23183508.00</td>\n",
       "    </tr>\n",
       "    <tr>\n",
       "      <th>4</th>\n",
       "      <td>mayo 2021</td>\n",
       "      <td>21695710.00</td>\n",
       "    </tr>\n",
       "  </tbody>\n",
       "</table>\n",
       "</div>"
      ]
     },
     "metadata": {},
     "execution_count": 5
    }
   ],
   "metadata": {
    "ExecuteTime": {
     "end_time": "2021-07-13T15:43:36.701452Z",
     "start_time": "2021-07-13T15:43:36.678694Z"
    },
    "hidden": true
   }
  },
  {
   "cell_type": "code",
   "execution_count": 6,
   "source": [
    "import re\n",
    "nielsen = pd.read_csv(BASE_DIR + f'nielsen_{CPG}.csv',\n",
    "                      sep='\\t',encoding='utf-16'\n",
    "                     ).drop_duplicates(subset=['UPC','PRODUCT ID'])\n",
    "display(nielsen['UPC'].head())\n",
    "nielsen['UPC'] = nielsen['UPC'].apply(lambda x: re.sub('[^\\d]','',str(x)))\n",
    "nielsen['UPC'] = nielsen['UPC'].astype(str).str.strip().str.split().str[0].fillna(0).astype(int)\n",
    "display(nielsen['UPC'].head())\n",
    "display(nielsen['UPC'].head())\n",
    "nielsen.sample(2)"
   ],
   "outputs": [
    {
     "output_type": "display_data",
     "data": {
      "text/plain": [
       "0    7502281121649\n",
       "1    7501072200723\n",
       "2    7501777001151\n",
       "3    7501072200730\n",
       "4    7501072207098\n",
       "Name: UPC, dtype: object"
      ]
     },
     "metadata": {}
    },
    {
     "output_type": "display_data",
     "data": {
      "text/plain": [
       "0    7502281121649\n",
       "1    7501072200723\n",
       "2    7501777001151\n",
       "3    7501072200730\n",
       "4    7501072207098\n",
       "Name: UPC, dtype: int64"
      ]
     },
     "metadata": {}
    },
    {
     "output_type": "display_data",
     "data": {
      "text/plain": [
       "0    7502281121649\n",
       "1    7501072200723\n",
       "2    7501777001151\n",
       "3    7501072200730\n",
       "4    7501072207098\n",
       "Name: UPC, dtype: int64"
      ]
     },
     "metadata": {}
    },
    {
     "output_type": "execute_result",
     "data": {
      "text/plain": [
       "               UPC  FORMATO PROVEEDOR GENERAL  PROVEEDOR ABIERTO  \\\n",
       "777  7502002870399      NaN               ADM                NaN   \n",
       "246  7501253626427      NaN          Chedraui                NaN   \n",
       "\n",
       "     MARCA DETALLE MARCA GENERICA GRAMAJE     DESCRIPCION NIELSEN  PRODUCT ID  \\\n",
       "777            NaN     Full-trust   20 kg  FullTrust Adulto 20 kg      391735   \n",
       "246            NaN       Chedraui   454 g       Cacahuate tostado      168334   \n",
       "\n",
       "                         SEGMENTO  SUBSEGMENTO 1  SUBSEGMENTO 2  SUBSEGMENTO 3  \n",
       "777                      Dry food            NaN            NaN            NaN  \n",
       "246  Nuts, Seeds and Dried Fruits            NaN            NaN            NaN  "
      ],
      "text/html": [
       "<div>\n",
       "<style scoped>\n",
       "    .dataframe tbody tr th:only-of-type {\n",
       "        vertical-align: middle;\n",
       "    }\n",
       "\n",
       "    .dataframe tbody tr th {\n",
       "        vertical-align: top;\n",
       "    }\n",
       "\n",
       "    .dataframe thead th {\n",
       "        text-align: right;\n",
       "    }\n",
       "</style>\n",
       "<table border=\"1\" class=\"dataframe\">\n",
       "  <thead>\n",
       "    <tr style=\"text-align: right;\">\n",
       "      <th></th>\n",
       "      <th>UPC</th>\n",
       "      <th>FORMATO</th>\n",
       "      <th>PROVEEDOR GENERAL</th>\n",
       "      <th>PROVEEDOR ABIERTO</th>\n",
       "      <th>MARCA DETALLE</th>\n",
       "      <th>MARCA GENERICA</th>\n",
       "      <th>GRAMAJE</th>\n",
       "      <th>DESCRIPCION NIELSEN</th>\n",
       "      <th>PRODUCT ID</th>\n",
       "      <th>SEGMENTO</th>\n",
       "      <th>SUBSEGMENTO 1</th>\n",
       "      <th>SUBSEGMENTO 2</th>\n",
       "      <th>SUBSEGMENTO 3</th>\n",
       "    </tr>\n",
       "  </thead>\n",
       "  <tbody>\n",
       "    <tr>\n",
       "      <th>777</th>\n",
       "      <td>7502002870399</td>\n",
       "      <td>NaN</td>\n",
       "      <td>ADM</td>\n",
       "      <td>NaN</td>\n",
       "      <td>NaN</td>\n",
       "      <td>Full-trust</td>\n",
       "      <td>20 kg</td>\n",
       "      <td>FullTrust Adulto 20 kg</td>\n",
       "      <td>391735</td>\n",
       "      <td>Dry food</td>\n",
       "      <td>NaN</td>\n",
       "      <td>NaN</td>\n",
       "      <td>NaN</td>\n",
       "    </tr>\n",
       "    <tr>\n",
       "      <th>246</th>\n",
       "      <td>7501253626427</td>\n",
       "      <td>NaN</td>\n",
       "      <td>Chedraui</td>\n",
       "      <td>NaN</td>\n",
       "      <td>NaN</td>\n",
       "      <td>Chedraui</td>\n",
       "      <td>454 g</td>\n",
       "      <td>Cacahuate tostado</td>\n",
       "      <td>168334</td>\n",
       "      <td>Nuts, Seeds and Dried Fruits</td>\n",
       "      <td>NaN</td>\n",
       "      <td>NaN</td>\n",
       "      <td>NaN</td>\n",
       "    </tr>\n",
       "  </tbody>\n",
       "</table>\n",
       "</div>"
      ]
     },
     "metadata": {},
     "execution_count": 6
    }
   ],
   "metadata": {
    "ExecuteTime": {
     "end_time": "2021-07-13T15:43:36.783426Z",
     "start_time": "2021-07-13T15:43:36.703951Z"
    },
    "hidden": true
   }
  },
  {
   "cell_type": "markdown",
   "source": [
    "## Functions"
   ],
   "metadata": {
    "heading_collapsed": true
   }
  },
  {
   "cell_type": "code",
   "execution_count": 7,
   "source": [
    "import time\n",
    "import numpy as np\n",
    "from IPython.lib.display import Audio\n",
    "\n",
    "start = time.time()\n",
    "def time_exp(x):\n",
    "    minutes, seconds = np.floor(x/60), 60*(x/60-np.floor(x/60))\n",
    "    print(f\"{'{:.0f}'.format(minutes)} minutos con {'{:.2f}'.format(seconds)} segundos\")\n",
    "    \n",
    "def tono(a = 1000, b = 700, play_time_seconds = 1, framerate = 4410):\n",
    "    t = np.linspace(0, play_time_seconds, framerate*play_time_seconds)*np.pi\n",
    "    return Audio(np.sin(a*t) + np.sin(b*t), rate = framerate, autoplay=True)"
   ],
   "outputs": [],
   "metadata": {
    "ExecuteTime": {
     "end_time": "2021-07-13T15:43:36.789553Z",
     "start_time": "2021-07-13T15:43:36.785374Z"
    },
    "hidden": true
   }
  },
  {
   "cell_type": "code",
   "execution_count": 8,
   "source": [
    "def limpio(data,month_col,to_drop):\n",
    "    df = data.copy()\n",
    "    df[['mes','anio']] = df[month_col].str.split(expand=True)\n",
    "    meses = dict(zip(['enero','febrero','marzo','abril','mayo','junio','julio',\n",
    "                      'agosto','septiembre','octubre','noviembre','diciembre'],range(1,13)))\n",
    "    df['mes'] = df['mes'].replace(meses)\n",
    "    df.drop(columns=to_drop,inplace=True)\n",
    "    df.columns = [str(x).replace('.','').replace(' ','_').lower() for x in df.columns]\n",
    "    for col in ['brand_filter','cpg_filter']:\n",
    "        df[f'{col[:-7]}_id'] = df[col].apply(lambda x: ','.join(re.findall('\\s\\((\\d+)\\)',str(x))))\n",
    "        df[f'{col[:-7]}_name'] = df[col].apply(lambda x: re.sub('\\s\\(\\d+\\)','',str(x)))\n",
    "    return df"
   ],
   "outputs": [],
   "metadata": {
    "ExecuteTime": {
     "end_time": "2021-07-13T15:43:36.803197Z",
     "start_time": "2021-07-13T15:43:36.794124Z"
    },
    "hidden": true
   }
  },
  {
   "cell_type": "markdown",
   "source": [
    "## Transform"
   ],
   "metadata": {
    "heading_collapsed": true
   }
  },
  {
   "cell_type": "markdown",
   "source": [
    "### Barcodes"
   ],
   "metadata": {
    "heading_collapsed": true,
    "hidden": true
   }
  },
  {
   "cell_type": "code",
   "execution_count": 9,
   "source": [
    "df['barcodes'] = df['barcodes'].str.replace('{','').str.replace('}','')\n",
    "df['barcodes'] = df['barcodes'].str.split(',',n=1).fillna('.').apply(lambda x:x[0])\n",
    "df['barcodes'].sample(4)"
   ],
   "outputs": [
    {
     "output_type": "stream",
     "name": "stderr",
     "text": [
      "/var/folders/j4/1p33_bh96yn8pdz3b_5t80hm0000gn/T/ipykernel_5164/2845833164.py:1: FutureWarning: The default value of regex will change from True to False in a future version. In addition, single character regular expressions will*not* be treated as literal strings when regex=True.\n",
      "  df['barcodes'] = df['barcodes'].str.replace('{','').str.replace('}','')\n"
     ]
    },
    {
     "output_type": "execute_result",
     "data": {
      "text/plain": [
       "51457    7503008553040\n",
       "10868    7500525079800\n",
       "3913     7502268920678\n",
       "20832      96619184736\n",
       "Name: barcodes, dtype: object"
      ]
     },
     "metadata": {},
     "execution_count": 9
    }
   ],
   "metadata": {
    "ExecuteTime": {
     "end_time": "2021-07-13T15:43:36.892682Z",
     "start_time": "2021-07-13T15:43:36.806132Z"
    },
    "hidden": true
   }
  },
  {
   "cell_type": "markdown",
   "source": [
    "### Merge"
   ],
   "metadata": {
    "heading_collapsed": true,
    "hidden": true
   }
  },
  {
   "cell_type": "code",
   "execution_count": 10,
   "source": [
    "df = df.astype(str).merge(nielsen.astype(str).rename(columns={'UPC':'barcodes',\n",
    "                                                              'PRODUCT ID':'product id'}),\n",
    "                          on=['barcodes'] if nielsen_cat else ['barcodes','product id'],\n",
    "                          how='left' if nielsen_cat else 'left')\n",
    "if nielsen_cat:\n",
    "    df = df.rename(columns={'product id_x':'product_id'}).drop(columns='product id_y')\n",
    "\n",
    "df.sample(2)"
   ],
   "outputs": [
    {
     "output_type": "execute_result",
     "data": {
      "text/plain": [
       "          month   country          city name store_name  \\\n",
       "10271  julio 2021       MX            Mérida   Chedraui   \n",
       "20896  junio 2021       MX  Ciudad de México    Dogland   \n",
       "\n",
       "                        category en category_id product id  \\\n",
       "10271  Nuts, Seeds and Dried Fruits        1004    2133238   \n",
       "20896                      Dry food         230    1003019   \n",
       "\n",
       "                    product name       barcodes package  ...  \\\n",
       "10271  Cacahuates estilo japonés  7500366003316   150 g  ...   \n",
       "20896        Adulto raza pequeña  7503008553279     8kg  ...   \n",
       "\n",
       "      PROVEEDOR GENERAL PROVEEDOR ABIERTO MARCA DETALLE MARCA GENERICA  \\\n",
       "10271               NaN               NaN           NaN            NaN   \n",
       "20896          Nupec MX               nan           nan          Nupec   \n",
       "\n",
       "      GRAMAJE  DESCRIPCION NIELSEN  SEGMENTO SUBSEGMENTO 1 SUBSEGMENTO 2  \\\n",
       "10271     NaN                  NaN       NaN           NaN           NaN   \n",
       "20896     8kg  Adulto raza pequeña  Dry food           nan           nan   \n",
       "\n",
       "      SUBSEGMENTO 3  \n",
       "10271           NaN  \n",
       "20896           nan  \n",
       "\n",
       "[2 rows x 33 columns]"
      ],
      "text/html": [
       "<div>\n",
       "<style scoped>\n",
       "    .dataframe tbody tr th:only-of-type {\n",
       "        vertical-align: middle;\n",
       "    }\n",
       "\n",
       "    .dataframe tbody tr th {\n",
       "        vertical-align: top;\n",
       "    }\n",
       "\n",
       "    .dataframe thead th {\n",
       "        text-align: right;\n",
       "    }\n",
       "</style>\n",
       "<table border=\"1\" class=\"dataframe\">\n",
       "  <thead>\n",
       "    <tr style=\"text-align: right;\">\n",
       "      <th></th>\n",
       "      <th>month</th>\n",
       "      <th>country</th>\n",
       "      <th>city name</th>\n",
       "      <th>store_name</th>\n",
       "      <th>category en</th>\n",
       "      <th>category_id</th>\n",
       "      <th>product id</th>\n",
       "      <th>product name</th>\n",
       "      <th>barcodes</th>\n",
       "      <th>package</th>\n",
       "      <th>...</th>\n",
       "      <th>PROVEEDOR GENERAL</th>\n",
       "      <th>PROVEEDOR ABIERTO</th>\n",
       "      <th>MARCA DETALLE</th>\n",
       "      <th>MARCA GENERICA</th>\n",
       "      <th>GRAMAJE</th>\n",
       "      <th>DESCRIPCION NIELSEN</th>\n",
       "      <th>SEGMENTO</th>\n",
       "      <th>SUBSEGMENTO 1</th>\n",
       "      <th>SUBSEGMENTO 2</th>\n",
       "      <th>SUBSEGMENTO 3</th>\n",
       "    </tr>\n",
       "  </thead>\n",
       "  <tbody>\n",
       "    <tr>\n",
       "      <th>10271</th>\n",
       "      <td>julio 2021</td>\n",
       "      <td>MX</td>\n",
       "      <td>Mérida</td>\n",
       "      <td>Chedraui</td>\n",
       "      <td>Nuts, Seeds and Dried Fruits</td>\n",
       "      <td>1004</td>\n",
       "      <td>2133238</td>\n",
       "      <td>Cacahuates estilo japonés</td>\n",
       "      <td>7500366003316</td>\n",
       "      <td>150 g</td>\n",
       "      <td>...</td>\n",
       "      <td>NaN</td>\n",
       "      <td>NaN</td>\n",
       "      <td>NaN</td>\n",
       "      <td>NaN</td>\n",
       "      <td>NaN</td>\n",
       "      <td>NaN</td>\n",
       "      <td>NaN</td>\n",
       "      <td>NaN</td>\n",
       "      <td>NaN</td>\n",
       "      <td>NaN</td>\n",
       "    </tr>\n",
       "    <tr>\n",
       "      <th>20896</th>\n",
       "      <td>junio 2021</td>\n",
       "      <td>MX</td>\n",
       "      <td>Ciudad de México</td>\n",
       "      <td>Dogland</td>\n",
       "      <td>Dry food</td>\n",
       "      <td>230</td>\n",
       "      <td>1003019</td>\n",
       "      <td>Adulto raza pequeña</td>\n",
       "      <td>7503008553279</td>\n",
       "      <td>8kg</td>\n",
       "      <td>...</td>\n",
       "      <td>Nupec MX</td>\n",
       "      <td>nan</td>\n",
       "      <td>nan</td>\n",
       "      <td>Nupec</td>\n",
       "      <td>8kg</td>\n",
       "      <td>Adulto raza pequeña</td>\n",
       "      <td>Dry food</td>\n",
       "      <td>nan</td>\n",
       "      <td>nan</td>\n",
       "      <td>nan</td>\n",
       "    </tr>\n",
       "  </tbody>\n",
       "</table>\n",
       "<p>2 rows × 33 columns</p>\n",
       "</div>"
      ]
     },
     "metadata": {},
     "execution_count": 10
    }
   ],
   "metadata": {
    "ExecuteTime": {
     "end_time": "2021-07-13T15:43:37.039437Z",
     "start_time": "2021-07-13T15:43:36.895191Z"
    },
    "hidden": true
   }
  },
  {
   "cell_type": "markdown",
   "source": [
    "### CPG"
   ],
   "metadata": {
    "heading_collapsed": true,
    "hidden": true
   }
  },
  {
   "cell_type": "code",
   "execution_count": 11,
   "source": [
    "aux_fin = df.copy()\n",
    "aux_fin['sales'] = aux_fin['sales'].astype(str).str.replace(',','').astype(float)\n",
    "aux_fin = aux_fin.groupby('month  ')['sales'].sum().reset_index()\n",
    "aux = aux_ini.copy()\n",
    "aux = aux.set_index('month  ').join(aux_fin.set_index('month  '),rsuffix='_fin')\n",
    "aux['dif'] = aux['sales_fin'] - aux['sales']\n",
    "aux['dif_p'] = aux['sales_fin'] / (aux['sales']+1e-10) - 1\n",
    "aux"
   ],
   "outputs": [
    {
     "output_type": "execute_result",
     "data": {
      "text/plain": [
       "                 sales   sales_fin  dif  dif_p\n",
       "month                                         \n",
       "abril 2021 21299124.00 21299124.00 0.00   0.00\n",
       "julio 2021 21920943.00 21920943.00 0.00   0.00\n",
       "junio 2021 21063065.00 21063065.00 0.00   0.00\n",
       "marzo 2021 23183508.00 23183508.00 0.00   0.00\n",
       "mayo 2021  21695710.00 21695710.00 0.00   0.00"
      ],
      "text/html": [
       "<div>\n",
       "<style scoped>\n",
       "    .dataframe tbody tr th:only-of-type {\n",
       "        vertical-align: middle;\n",
       "    }\n",
       "\n",
       "    .dataframe tbody tr th {\n",
       "        vertical-align: top;\n",
       "    }\n",
       "\n",
       "    .dataframe thead th {\n",
       "        text-align: right;\n",
       "    }\n",
       "</style>\n",
       "<table border=\"1\" class=\"dataframe\">\n",
       "  <thead>\n",
       "    <tr style=\"text-align: right;\">\n",
       "      <th></th>\n",
       "      <th>sales</th>\n",
       "      <th>sales_fin</th>\n",
       "      <th>dif</th>\n",
       "      <th>dif_p</th>\n",
       "    </tr>\n",
       "    <tr>\n",
       "      <th>month</th>\n",
       "      <th></th>\n",
       "      <th></th>\n",
       "      <th></th>\n",
       "      <th></th>\n",
       "    </tr>\n",
       "  </thead>\n",
       "  <tbody>\n",
       "    <tr>\n",
       "      <th>abril 2021</th>\n",
       "      <td>21299124.00</td>\n",
       "      <td>21299124.00</td>\n",
       "      <td>0.00</td>\n",
       "      <td>0.00</td>\n",
       "    </tr>\n",
       "    <tr>\n",
       "      <th>julio 2021</th>\n",
       "      <td>21920943.00</td>\n",
       "      <td>21920943.00</td>\n",
       "      <td>0.00</td>\n",
       "      <td>0.00</td>\n",
       "    </tr>\n",
       "    <tr>\n",
       "      <th>junio 2021</th>\n",
       "      <td>21063065.00</td>\n",
       "      <td>21063065.00</td>\n",
       "      <td>0.00</td>\n",
       "      <td>0.00</td>\n",
       "    </tr>\n",
       "    <tr>\n",
       "      <th>marzo 2021</th>\n",
       "      <td>23183508.00</td>\n",
       "      <td>23183508.00</td>\n",
       "      <td>0.00</td>\n",
       "      <td>0.00</td>\n",
       "    </tr>\n",
       "    <tr>\n",
       "      <th>mayo 2021</th>\n",
       "      <td>21695710.00</td>\n",
       "      <td>21695710.00</td>\n",
       "      <td>0.00</td>\n",
       "      <td>0.00</td>\n",
       "    </tr>\n",
       "  </tbody>\n",
       "</table>\n",
       "</div>"
      ]
     },
     "metadata": {},
     "execution_count": 11
    }
   ],
   "metadata": {
    "ExecuteTime": {
     "end_time": "2021-07-13T15:43:37.126105Z",
     "start_time": "2021-07-13T15:43:37.041154Z"
    },
    "hidden": true
   }
  },
  {
   "cell_type": "code",
   "execution_count": 12,
   "source": [
    "prod_cpg = pd.read_csv(os.path.join(BASE_DIR,'pbbc.csv'),\n",
    "                       #sep='\\t',encoding='utf-16'\n",
    "                      )\n",
    "prod_cpg.sample(4)"
   ],
   "outputs": [
    {
     "output_type": "execute_result",
     "data": {
      "text/plain": [
       "        n  product_id       barcodes  category_id          category_name  \\\n",
       "100369  1     2676038    41220995172          979              Tortillas   \n",
       "79534   1     1214463  7501158411067           27                  Leche   \n",
       "44070   1      329552  7501059947870         1253       Ollas y sartenes   \n",
       "98929   1     2436193  7500435158619          985  Detergentes para loza   \n",
       "\n",
       "        brand_id  brand_name  cpg_id    cpg_name  \n",
       "100369      9992         HEB    1074         HEB  \n",
       "79534       5861  San Marcos    1042  San Marcos  \n",
       "44070       4534        Ekco     757    Vasconia  \n",
       "98929       5852      Salvo        1      P&G MX  "
      ],
      "text/html": [
       "<div>\n",
       "<style scoped>\n",
       "    .dataframe tbody tr th:only-of-type {\n",
       "        vertical-align: middle;\n",
       "    }\n",
       "\n",
       "    .dataframe tbody tr th {\n",
       "        vertical-align: top;\n",
       "    }\n",
       "\n",
       "    .dataframe thead th {\n",
       "        text-align: right;\n",
       "    }\n",
       "</style>\n",
       "<table border=\"1\" class=\"dataframe\">\n",
       "  <thead>\n",
       "    <tr style=\"text-align: right;\">\n",
       "      <th></th>\n",
       "      <th>n</th>\n",
       "      <th>product_id</th>\n",
       "      <th>barcodes</th>\n",
       "      <th>category_id</th>\n",
       "      <th>category_name</th>\n",
       "      <th>brand_id</th>\n",
       "      <th>brand_name</th>\n",
       "      <th>cpg_id</th>\n",
       "      <th>cpg_name</th>\n",
       "    </tr>\n",
       "  </thead>\n",
       "  <tbody>\n",
       "    <tr>\n",
       "      <th>100369</th>\n",
       "      <td>1</td>\n",
       "      <td>2676038</td>\n",
       "      <td>41220995172</td>\n",
       "      <td>979</td>\n",
       "      <td>Tortillas</td>\n",
       "      <td>9992</td>\n",
       "      <td>HEB</td>\n",
       "      <td>1074</td>\n",
       "      <td>HEB</td>\n",
       "    </tr>\n",
       "    <tr>\n",
       "      <th>79534</th>\n",
       "      <td>1</td>\n",
       "      <td>1214463</td>\n",
       "      <td>7501158411067</td>\n",
       "      <td>27</td>\n",
       "      <td>Leche</td>\n",
       "      <td>5861</td>\n",
       "      <td>San Marcos</td>\n",
       "      <td>1042</td>\n",
       "      <td>San Marcos</td>\n",
       "    </tr>\n",
       "    <tr>\n",
       "      <th>44070</th>\n",
       "      <td>1</td>\n",
       "      <td>329552</td>\n",
       "      <td>7501059947870</td>\n",
       "      <td>1253</td>\n",
       "      <td>Ollas y sartenes</td>\n",
       "      <td>4534</td>\n",
       "      <td>Ekco</td>\n",
       "      <td>757</td>\n",
       "      <td>Vasconia</td>\n",
       "    </tr>\n",
       "    <tr>\n",
       "      <th>98929</th>\n",
       "      <td>1</td>\n",
       "      <td>2436193</td>\n",
       "      <td>7500435158619</td>\n",
       "      <td>985</td>\n",
       "      <td>Detergentes para loza</td>\n",
       "      <td>5852</td>\n",
       "      <td>Salvo</td>\n",
       "      <td>1</td>\n",
       "      <td>P&amp;G MX</td>\n",
       "    </tr>\n",
       "  </tbody>\n",
       "</table>\n",
       "</div>"
      ]
     },
     "metadata": {},
     "execution_count": 12
    }
   ],
   "metadata": {
    "ExecuteTime": {
     "end_time": "2021-07-13T15:43:37.332428Z",
     "start_time": "2021-07-13T15:43:37.145908Z"
    },
    "hidden": true
   }
  },
  {
   "cell_type": "code",
   "execution_count": 13,
   "source": [
    "prod_cpg.drop_duplicates(('barcodes' if nielsen_cat else 'product_id'),inplace=True)\n",
    "prod_cpg = prod_cpg.astype(str).rename(columns={'product_id':'product id'})\n",
    "prod_cpg['cpg filter'] = prod_cpg['cpg_name']+\" (\"+prod_cpg['cpg_id'].astype(str)+\")\"\n",
    "prod_cpg.sample(4)"
   ],
   "outputs": [
    {
     "output_type": "execute_result",
     "data": {
      "text/plain": [
       "        n product id       barcodes category_id       category_name brand_id  \\\n",
       "81632   1    1235864  7501058617736         287           Chocolate       28   \n",
       "41761   1     320120  7500435011280         973            Afeitado      447   \n",
       "101927  1    2916362  8411845017764         455             Rodados    13404   \n",
       "61935   1     450518   735257000014        1242  Gelatinas y flanes    10721   \n",
       "\n",
       "       brand_name cpg_id   cpg_name     cpg filter  \n",
       "81632      Nestlé      3  Nestlé MX  Nestlé MX (3)  \n",
       "41761    Gillette      1     P&G MX     P&G MX (1)  \n",
       "101927     Famosa   1181     Famosa  Famosa (1181)  \n",
       "61935      D'Gari    402     D´Gari   D´Gari (402)  "
      ],
      "text/html": [
       "<div>\n",
       "<style scoped>\n",
       "    .dataframe tbody tr th:only-of-type {\n",
       "        vertical-align: middle;\n",
       "    }\n",
       "\n",
       "    .dataframe tbody tr th {\n",
       "        vertical-align: top;\n",
       "    }\n",
       "\n",
       "    .dataframe thead th {\n",
       "        text-align: right;\n",
       "    }\n",
       "</style>\n",
       "<table border=\"1\" class=\"dataframe\">\n",
       "  <thead>\n",
       "    <tr style=\"text-align: right;\">\n",
       "      <th></th>\n",
       "      <th>n</th>\n",
       "      <th>product id</th>\n",
       "      <th>barcodes</th>\n",
       "      <th>category_id</th>\n",
       "      <th>category_name</th>\n",
       "      <th>brand_id</th>\n",
       "      <th>brand_name</th>\n",
       "      <th>cpg_id</th>\n",
       "      <th>cpg_name</th>\n",
       "      <th>cpg filter</th>\n",
       "    </tr>\n",
       "  </thead>\n",
       "  <tbody>\n",
       "    <tr>\n",
       "      <th>81632</th>\n",
       "      <td>1</td>\n",
       "      <td>1235864</td>\n",
       "      <td>7501058617736</td>\n",
       "      <td>287</td>\n",
       "      <td>Chocolate</td>\n",
       "      <td>28</td>\n",
       "      <td>Nestlé</td>\n",
       "      <td>3</td>\n",
       "      <td>Nestlé MX</td>\n",
       "      <td>Nestlé MX (3)</td>\n",
       "    </tr>\n",
       "    <tr>\n",
       "      <th>41761</th>\n",
       "      <td>1</td>\n",
       "      <td>320120</td>\n",
       "      <td>7500435011280</td>\n",
       "      <td>973</td>\n",
       "      <td>Afeitado</td>\n",
       "      <td>447</td>\n",
       "      <td>Gillette</td>\n",
       "      <td>1</td>\n",
       "      <td>P&amp;G MX</td>\n",
       "      <td>P&amp;G MX (1)</td>\n",
       "    </tr>\n",
       "    <tr>\n",
       "      <th>101927</th>\n",
       "      <td>1</td>\n",
       "      <td>2916362</td>\n",
       "      <td>8411845017764</td>\n",
       "      <td>455</td>\n",
       "      <td>Rodados</td>\n",
       "      <td>13404</td>\n",
       "      <td>Famosa</td>\n",
       "      <td>1181</td>\n",
       "      <td>Famosa</td>\n",
       "      <td>Famosa (1181)</td>\n",
       "    </tr>\n",
       "    <tr>\n",
       "      <th>61935</th>\n",
       "      <td>1</td>\n",
       "      <td>450518</td>\n",
       "      <td>735257000014</td>\n",
       "      <td>1242</td>\n",
       "      <td>Gelatinas y flanes</td>\n",
       "      <td>10721</td>\n",
       "      <td>D'Gari</td>\n",
       "      <td>402</td>\n",
       "      <td>D´Gari</td>\n",
       "      <td>D´Gari (402)</td>\n",
       "    </tr>\n",
       "  </tbody>\n",
       "</table>\n",
       "</div>"
      ]
     },
     "metadata": {},
     "execution_count": 13
    }
   ],
   "metadata": {
    "ExecuteTime": {
     "end_time": "2021-07-13T15:43:37.690893Z",
     "start_time": "2021-07-13T15:43:37.334568Z"
    },
    "hidden": true
   }
  },
  {
   "cell_type": "code",
   "execution_count": 14,
   "source": [
    "df = df.merge(prod_cpg[[('barcodes' if nielsen_cat else 'product id'),'cpg filter']],\n",
    "              on=('barcodes' if nielsen_cat else 'product id'),how='left')"
   ],
   "outputs": [],
   "metadata": {
    "ExecuteTime": {
     "end_time": "2021-07-13T15:43:37.727933Z",
     "start_time": "2021-07-13T15:43:37.692574Z"
    },
    "hidden": true
   }
  },
  {
   "cell_type": "code",
   "execution_count": 15,
   "source": [
    "aux_fin = df.copy()\n",
    "aux_fin['sales'] = aux_fin['sales'].astype(str).str.replace(',','').astype(float)\n",
    "aux_fin = aux_fin.groupby('month  ')['sales'].sum().reset_index()\n",
    "aux = aux_ini.copy()\n",
    "aux = aux.set_index('month  ').join(aux_fin.set_index('month  '),rsuffix='_fin')\n",
    "aux['dif'] = aux['sales_fin'] - aux['sales']\n",
    "aux['dif_p'] = aux['sales_fin'] / (aux['sales']+1e-10) - 1\n",
    "aux"
   ],
   "outputs": [
    {
     "output_type": "execute_result",
     "data": {
      "text/plain": [
       "                 sales   sales_fin  dif  dif_p\n",
       "month                                         \n",
       "abril 2021 21299124.00 21299124.00 0.00   0.00\n",
       "julio 2021 21920943.00 21920943.00 0.00   0.00\n",
       "junio 2021 21063065.00 21063065.00 0.00   0.00\n",
       "marzo 2021 23183508.00 23183508.00 0.00   0.00\n",
       "mayo 2021  21695710.00 21695710.00 0.00   0.00"
      ],
      "text/html": [
       "<div>\n",
       "<style scoped>\n",
       "    .dataframe tbody tr th:only-of-type {\n",
       "        vertical-align: middle;\n",
       "    }\n",
       "\n",
       "    .dataframe tbody tr th {\n",
       "        vertical-align: top;\n",
       "    }\n",
       "\n",
       "    .dataframe thead th {\n",
       "        text-align: right;\n",
       "    }\n",
       "</style>\n",
       "<table border=\"1\" class=\"dataframe\">\n",
       "  <thead>\n",
       "    <tr style=\"text-align: right;\">\n",
       "      <th></th>\n",
       "      <th>sales</th>\n",
       "      <th>sales_fin</th>\n",
       "      <th>dif</th>\n",
       "      <th>dif_p</th>\n",
       "    </tr>\n",
       "    <tr>\n",
       "      <th>month</th>\n",
       "      <th></th>\n",
       "      <th></th>\n",
       "      <th></th>\n",
       "      <th></th>\n",
       "    </tr>\n",
       "  </thead>\n",
       "  <tbody>\n",
       "    <tr>\n",
       "      <th>abril 2021</th>\n",
       "      <td>21299124.00</td>\n",
       "      <td>21299124.00</td>\n",
       "      <td>0.00</td>\n",
       "      <td>0.00</td>\n",
       "    </tr>\n",
       "    <tr>\n",
       "      <th>julio 2021</th>\n",
       "      <td>21920943.00</td>\n",
       "      <td>21920943.00</td>\n",
       "      <td>0.00</td>\n",
       "      <td>0.00</td>\n",
       "    </tr>\n",
       "    <tr>\n",
       "      <th>junio 2021</th>\n",
       "      <td>21063065.00</td>\n",
       "      <td>21063065.00</td>\n",
       "      <td>0.00</td>\n",
       "      <td>0.00</td>\n",
       "    </tr>\n",
       "    <tr>\n",
       "      <th>marzo 2021</th>\n",
       "      <td>23183508.00</td>\n",
       "      <td>23183508.00</td>\n",
       "      <td>0.00</td>\n",
       "      <td>0.00</td>\n",
       "    </tr>\n",
       "    <tr>\n",
       "      <th>mayo 2021</th>\n",
       "      <td>21695710.00</td>\n",
       "      <td>21695710.00</td>\n",
       "      <td>0.00</td>\n",
       "      <td>0.00</td>\n",
       "    </tr>\n",
       "  </tbody>\n",
       "</table>\n",
       "</div>"
      ]
     },
     "metadata": {},
     "execution_count": 15
    }
   ],
   "metadata": {
    "ExecuteTime": {
     "end_time": "2021-07-13T15:43:37.763966Z",
     "start_time": "2021-07-13T15:43:37.730080Z"
    },
    "hidden": true
   }
  },
  {
   "cell_type": "markdown",
   "source": [
    "### Limpio"
   ],
   "metadata": {
    "heading_collapsed": true,
    "hidden": true
   }
  },
  {
   "cell_type": "code",
   "execution_count": 16,
   "source": [
    "df = limpio(df,'month  ',\n",
    "            ['month  ','country ','avg ticket','found rate','fulfillment','frequency'])\n",
    "df.sample(2)"
   ],
   "outputs": [
    {
     "output_type": "execute_result",
     "data": {
      "text/plain": [
       "      city_name store_name category_en category_id product_id  \\\n",
       "1132     Cancún    Soriana    Wet food         226     321662   \n",
       "51607    Toluca      Petco        Food         614     427418   \n",
       "\n",
       "                       product_name      barcodes package product_sku  \\\n",
       "1132           Alimento paté salmón   50000290482   156 g         nan   \n",
       "51607  Bandits premios hurón tocino  766501003826    85 g    MPFFD382   \n",
       "\n",
       "               brand_filter  ... subsegmento_1 subsegmento_2 subsegmento_3  \\\n",
       "1132           Felix (2785)  ...           nan           nan           nan   \n",
       "51607  Marshall Pet (15734)  ...           NaN           NaN           NaN   \n",
       "\n",
       "            cpg_filter mes  anio brand_id    brand_name cpg_id   cpg_name  \n",
       "1132   Purina MX (561)   7  2021     2785         Felix    561  Purina MX  \n",
       "51607              NaN   5  2021    15734  Marshall Pet               nan  \n",
       "\n",
       "[2 rows x 34 columns]"
      ],
      "text/html": [
       "<div>\n",
       "<style scoped>\n",
       "    .dataframe tbody tr th:only-of-type {\n",
       "        vertical-align: middle;\n",
       "    }\n",
       "\n",
       "    .dataframe tbody tr th {\n",
       "        vertical-align: top;\n",
       "    }\n",
       "\n",
       "    .dataframe thead th {\n",
       "        text-align: right;\n",
       "    }\n",
       "</style>\n",
       "<table border=\"1\" class=\"dataframe\">\n",
       "  <thead>\n",
       "    <tr style=\"text-align: right;\">\n",
       "      <th></th>\n",
       "      <th>city_name</th>\n",
       "      <th>store_name</th>\n",
       "      <th>category_en</th>\n",
       "      <th>category_id</th>\n",
       "      <th>product_id</th>\n",
       "      <th>product_name</th>\n",
       "      <th>barcodes</th>\n",
       "      <th>package</th>\n",
       "      <th>product_sku</th>\n",
       "      <th>brand_filter</th>\n",
       "      <th>...</th>\n",
       "      <th>subsegmento_1</th>\n",
       "      <th>subsegmento_2</th>\n",
       "      <th>subsegmento_3</th>\n",
       "      <th>cpg_filter</th>\n",
       "      <th>mes</th>\n",
       "      <th>anio</th>\n",
       "      <th>brand_id</th>\n",
       "      <th>brand_name</th>\n",
       "      <th>cpg_id</th>\n",
       "      <th>cpg_name</th>\n",
       "    </tr>\n",
       "  </thead>\n",
       "  <tbody>\n",
       "    <tr>\n",
       "      <th>1132</th>\n",
       "      <td>Cancún</td>\n",
       "      <td>Soriana</td>\n",
       "      <td>Wet food</td>\n",
       "      <td>226</td>\n",
       "      <td>321662</td>\n",
       "      <td>Alimento paté salmón</td>\n",
       "      <td>50000290482</td>\n",
       "      <td>156 g</td>\n",
       "      <td>nan</td>\n",
       "      <td>Felix (2785)</td>\n",
       "      <td>...</td>\n",
       "      <td>nan</td>\n",
       "      <td>nan</td>\n",
       "      <td>nan</td>\n",
       "      <td>Purina MX (561)</td>\n",
       "      <td>7</td>\n",
       "      <td>2021</td>\n",
       "      <td>2785</td>\n",
       "      <td>Felix</td>\n",
       "      <td>561</td>\n",
       "      <td>Purina MX</td>\n",
       "    </tr>\n",
       "    <tr>\n",
       "      <th>51607</th>\n",
       "      <td>Toluca</td>\n",
       "      <td>Petco</td>\n",
       "      <td>Food</td>\n",
       "      <td>614</td>\n",
       "      <td>427418</td>\n",
       "      <td>Bandits premios hurón tocino</td>\n",
       "      <td>766501003826</td>\n",
       "      <td>85 g</td>\n",
       "      <td>MPFFD382</td>\n",
       "      <td>Marshall Pet (15734)</td>\n",
       "      <td>...</td>\n",
       "      <td>NaN</td>\n",
       "      <td>NaN</td>\n",
       "      <td>NaN</td>\n",
       "      <td>NaN</td>\n",
       "      <td>5</td>\n",
       "      <td>2021</td>\n",
       "      <td>15734</td>\n",
       "      <td>Marshall Pet</td>\n",
       "      <td></td>\n",
       "      <td>nan</td>\n",
       "    </tr>\n",
       "  </tbody>\n",
       "</table>\n",
       "<p>2 rows × 34 columns</p>\n",
       "</div>"
      ]
     },
     "metadata": {},
     "execution_count": 16
    }
   ],
   "metadata": {
    "ExecuteTime": {
     "end_time": "2021-07-13T15:43:37.960829Z",
     "start_time": "2021-07-13T15:43:37.765697Z"
    },
    "hidden": true
   }
  },
  {
   "cell_type": "code",
   "execution_count": 17,
   "source": [
    "aux_fin = df.copy()\n",
    "aux_fin['sales'] = aux_fin['sales'].astype(str).str.replace(',','').astype(float)\n",
    "aux_fin = aux_fin.groupby('mes')['sales'].sum().reset_index()\n",
    "aux_fin['mes'] = aux_fin['mes'].astype(int).map(dict(zip(range(1,13),\n",
    "                                               ['ene','feb','mar','abr','may','jun',\n",
    "                                                'jul','ago','sep','oct','nov','dic'])))\n",
    "aux = aux_ini.copy()\n",
    "aux['month  '] = aux['month  '].str.split().str[0].str[:3]\n",
    "aux = aux.set_index('month  ').join(aux_fin.set_index('mes'),rsuffix='_fin')\n",
    "aux['dif'] = aux['sales_fin'] - aux['sales']\n",
    "aux['dif_p'] = aux['sales_fin'] / (aux['sales']+1e-10) - 1\n",
    "aux"
   ],
   "outputs": [
    {
     "output_type": "execute_result",
     "data": {
      "text/plain": [
       "              sales   sales_fin  dif  dif_p\n",
       "month                                      \n",
       "abr     21299124.00 21299124.00 0.00   0.00\n",
       "jul     21920943.00 21920943.00 0.00   0.00\n",
       "jun     21063065.00 21063065.00 0.00   0.00\n",
       "mar     23183508.00 23183508.00 0.00   0.00\n",
       "may     21695710.00 21695710.00 0.00   0.00"
      ],
      "text/html": [
       "<div>\n",
       "<style scoped>\n",
       "    .dataframe tbody tr th:only-of-type {\n",
       "        vertical-align: middle;\n",
       "    }\n",
       "\n",
       "    .dataframe tbody tr th {\n",
       "        vertical-align: top;\n",
       "    }\n",
       "\n",
       "    .dataframe thead th {\n",
       "        text-align: right;\n",
       "    }\n",
       "</style>\n",
       "<table border=\"1\" class=\"dataframe\">\n",
       "  <thead>\n",
       "    <tr style=\"text-align: right;\">\n",
       "      <th></th>\n",
       "      <th>sales</th>\n",
       "      <th>sales_fin</th>\n",
       "      <th>dif</th>\n",
       "      <th>dif_p</th>\n",
       "    </tr>\n",
       "    <tr>\n",
       "      <th>month</th>\n",
       "      <th></th>\n",
       "      <th></th>\n",
       "      <th></th>\n",
       "      <th></th>\n",
       "    </tr>\n",
       "  </thead>\n",
       "  <tbody>\n",
       "    <tr>\n",
       "      <th>abr</th>\n",
       "      <td>21299124.00</td>\n",
       "      <td>21299124.00</td>\n",
       "      <td>0.00</td>\n",
       "      <td>0.00</td>\n",
       "    </tr>\n",
       "    <tr>\n",
       "      <th>jul</th>\n",
       "      <td>21920943.00</td>\n",
       "      <td>21920943.00</td>\n",
       "      <td>0.00</td>\n",
       "      <td>0.00</td>\n",
       "    </tr>\n",
       "    <tr>\n",
       "      <th>jun</th>\n",
       "      <td>21063065.00</td>\n",
       "      <td>21063065.00</td>\n",
       "      <td>0.00</td>\n",
       "      <td>0.00</td>\n",
       "    </tr>\n",
       "    <tr>\n",
       "      <th>mar</th>\n",
       "      <td>23183508.00</td>\n",
       "      <td>23183508.00</td>\n",
       "      <td>0.00</td>\n",
       "      <td>0.00</td>\n",
       "    </tr>\n",
       "    <tr>\n",
       "      <th>may</th>\n",
       "      <td>21695710.00</td>\n",
       "      <td>21695710.00</td>\n",
       "      <td>0.00</td>\n",
       "      <td>0.00</td>\n",
       "    </tr>\n",
       "  </tbody>\n",
       "</table>\n",
       "</div>"
      ]
     },
     "metadata": {},
     "execution_count": 17
    }
   ],
   "metadata": {
    "ExecuteTime": {
     "end_time": "2021-07-13T15:43:37.996519Z",
     "start_time": "2021-07-13T15:43:37.962660Z"
    },
    "hidden": true
   }
  },
  {
   "cell_type": "code",
   "execution_count": 18,
   "source": [
    "aux = df[df['formato'].astype(str)=='nan'].copy()\n",
    "df = df[~(df['formato'].astype(str)=='nan')].copy()\n",
    "null_fill = {'proveedor_general':'cpg_name',\n",
    "             'proveedor_abierto':'cpg_name',\n",
    "             'marca_detalle':'brand_name',\n",
    "             'marca_generica':'brand_name',\n",
    "             'gramaje':'package',\n",
    "             'descripcion_nielsen':'product_name',\n",
    "             'segmento':'category_en'}\n",
    "for x,y in null_fill.items():\n",
    "    aux.loc[:,x] = aux.loc[:,y]\n",
    "    \n",
    "df = df.append(aux,ignore_index=True)"
   ],
   "outputs": [],
   "metadata": {
    "ExecuteTime": {
     "end_time": "2021-07-13T15:43:38.034150Z",
     "start_time": "2021-07-13T15:43:37.998506Z"
    },
    "hidden": true
   }
  },
  {
   "cell_type": "code",
   "execution_count": 19,
   "source": [
    "for col in df.columns:\n",
    "    df[col] = df[col].astype(str).str.replace('nan','')\n",
    "    \n",
    "df = df.drop(columns='cpg_name').fillna('')\n",
    "df.sample()"
   ],
   "outputs": [
    {
     "output_type": "execute_result",
     "data": {
      "text/plain": [
       "       city_name store_name          category_en category_id product_id  \\\n",
       "15258  Querétaro        HEB  Pet care & grooming         228     199490   \n",
       "\n",
       "         product_name     barcodes package product_sku brand_filter  ...  \\\n",
       "15258  Cloro Mascotas  41220969746  3.75 l      364218  HCF (10001)  ...   \n",
       "\n",
       "                  segmento subsegmento_1 subsegmento_2 subsegmento_3  \\\n",
       "15258  Pet care & grooming                                             \n",
       "\n",
       "                     cpg_filter mes  anio brand_id brand_name cpg_id  \n",
       "15258  Hill Country Fare (1140)   7  2021    10001        HCF   1140  \n",
       "\n",
       "[1 rows x 33 columns]"
      ],
      "text/html": [
       "<div>\n",
       "<style scoped>\n",
       "    .dataframe tbody tr th:only-of-type {\n",
       "        vertical-align: middle;\n",
       "    }\n",
       "\n",
       "    .dataframe tbody tr th {\n",
       "        vertical-align: top;\n",
       "    }\n",
       "\n",
       "    .dataframe thead th {\n",
       "        text-align: right;\n",
       "    }\n",
       "</style>\n",
       "<table border=\"1\" class=\"dataframe\">\n",
       "  <thead>\n",
       "    <tr style=\"text-align: right;\">\n",
       "      <th></th>\n",
       "      <th>city_name</th>\n",
       "      <th>store_name</th>\n",
       "      <th>category_en</th>\n",
       "      <th>category_id</th>\n",
       "      <th>product_id</th>\n",
       "      <th>product_name</th>\n",
       "      <th>barcodes</th>\n",
       "      <th>package</th>\n",
       "      <th>product_sku</th>\n",
       "      <th>brand_filter</th>\n",
       "      <th>...</th>\n",
       "      <th>segmento</th>\n",
       "      <th>subsegmento_1</th>\n",
       "      <th>subsegmento_2</th>\n",
       "      <th>subsegmento_3</th>\n",
       "      <th>cpg_filter</th>\n",
       "      <th>mes</th>\n",
       "      <th>anio</th>\n",
       "      <th>brand_id</th>\n",
       "      <th>brand_name</th>\n",
       "      <th>cpg_id</th>\n",
       "    </tr>\n",
       "  </thead>\n",
       "  <tbody>\n",
       "    <tr>\n",
       "      <th>15258</th>\n",
       "      <td>Querétaro</td>\n",
       "      <td>HEB</td>\n",
       "      <td>Pet care &amp; grooming</td>\n",
       "      <td>228</td>\n",
       "      <td>199490</td>\n",
       "      <td>Cloro Mascotas</td>\n",
       "      <td>41220969746</td>\n",
       "      <td>3.75 l</td>\n",
       "      <td>364218</td>\n",
       "      <td>HCF (10001)</td>\n",
       "      <td>...</td>\n",
       "      <td>Pet care &amp; grooming</td>\n",
       "      <td></td>\n",
       "      <td></td>\n",
       "      <td></td>\n",
       "      <td>Hill Country Fare (1140)</td>\n",
       "      <td>7</td>\n",
       "      <td>2021</td>\n",
       "      <td>10001</td>\n",
       "      <td>HCF</td>\n",
       "      <td>1140</td>\n",
       "    </tr>\n",
       "  </tbody>\n",
       "</table>\n",
       "<p>1 rows × 33 columns</p>\n",
       "</div>"
      ]
     },
     "metadata": {},
     "execution_count": 19
    }
   ],
   "metadata": {
    "ExecuteTime": {
     "end_time": "2021-07-13T15:43:38.493036Z",
     "start_time": "2021-07-13T15:43:38.035928Z"
    },
    "hidden": true
   }
  },
  {
   "cell_type": "code",
   "execution_count": 20,
   "source": [
    "brand_cols = ['formato','proveedor_general','proveedor_abierto','marca_detalle','marca_generica','gramaje','descripcion_nielsen','segmento','subsegmento_1','subsegmento_2','subsegmento_3']\n",
    "display(df[brand_cols].sample())\n",
    "\n",
    "for col in brand_cols:\n",
    "    df[col] = df[col].str.strip().str.title()\n",
    "\n",
    "display(df[brand_cols].sample())"
   ],
   "outputs": [
    {
     "output_type": "display_data",
     "data": {
      "text/plain": [
       "      formato proveedor_general proveedor_abierto      marca_detalle  \\\n",
       "76422                                              Wet food  (C-226)   \n",
       "\n",
       "          marca_generica gramaje              descripcion_nielsen  segmento  \\\n",
       "76422  Wet food  (C-226)   100gr  Stuzzy Pouch Para Gato De Jamón  Wet food   \n",
       "\n",
       "      subsegmento_1 subsegmento_2 subsegmento_3  \n",
       "76422                                            "
      ],
      "text/html": [
       "<div>\n",
       "<style scoped>\n",
       "    .dataframe tbody tr th:only-of-type {\n",
       "        vertical-align: middle;\n",
       "    }\n",
       "\n",
       "    .dataframe tbody tr th {\n",
       "        vertical-align: top;\n",
       "    }\n",
       "\n",
       "    .dataframe thead th {\n",
       "        text-align: right;\n",
       "    }\n",
       "</style>\n",
       "<table border=\"1\" class=\"dataframe\">\n",
       "  <thead>\n",
       "    <tr style=\"text-align: right;\">\n",
       "      <th></th>\n",
       "      <th>formato</th>\n",
       "      <th>proveedor_general</th>\n",
       "      <th>proveedor_abierto</th>\n",
       "      <th>marca_detalle</th>\n",
       "      <th>marca_generica</th>\n",
       "      <th>gramaje</th>\n",
       "      <th>descripcion_nielsen</th>\n",
       "      <th>segmento</th>\n",
       "      <th>subsegmento_1</th>\n",
       "      <th>subsegmento_2</th>\n",
       "      <th>subsegmento_3</th>\n",
       "    </tr>\n",
       "  </thead>\n",
       "  <tbody>\n",
       "    <tr>\n",
       "      <th>76422</th>\n",
       "      <td></td>\n",
       "      <td></td>\n",
       "      <td></td>\n",
       "      <td>Wet food  (C-226)</td>\n",
       "      <td>Wet food  (C-226)</td>\n",
       "      <td>100gr</td>\n",
       "      <td>Stuzzy Pouch Para Gato De Jamón</td>\n",
       "      <td>Wet food</td>\n",
       "      <td></td>\n",
       "      <td></td>\n",
       "      <td></td>\n",
       "    </tr>\n",
       "  </tbody>\n",
       "</table>\n",
       "</div>"
      ]
     },
     "metadata": {}
    },
    {
     "output_type": "display_data",
     "data": {
      "text/plain": [
       "      formato proveedor_general proveedor_abierto marca_detalle  \\\n",
       "82733               Mars Mx Pet       Mars Mx Pet      Pedigree   \n",
       "\n",
       "      marca_generica gramaje    descripcion_nielsen  segmento subsegmento_1  \\\n",
       "82733       Pedigree   625 G  Alimento Húmedo Pollo  Wet Food                 \n",
       "\n",
       "      subsegmento_2 subsegmento_3  \n",
       "82733                              "
      ],
      "text/html": [
       "<div>\n",
       "<style scoped>\n",
       "    .dataframe tbody tr th:only-of-type {\n",
       "        vertical-align: middle;\n",
       "    }\n",
       "\n",
       "    .dataframe tbody tr th {\n",
       "        vertical-align: top;\n",
       "    }\n",
       "\n",
       "    .dataframe thead th {\n",
       "        text-align: right;\n",
       "    }\n",
       "</style>\n",
       "<table border=\"1\" class=\"dataframe\">\n",
       "  <thead>\n",
       "    <tr style=\"text-align: right;\">\n",
       "      <th></th>\n",
       "      <th>formato</th>\n",
       "      <th>proveedor_general</th>\n",
       "      <th>proveedor_abierto</th>\n",
       "      <th>marca_detalle</th>\n",
       "      <th>marca_generica</th>\n",
       "      <th>gramaje</th>\n",
       "      <th>descripcion_nielsen</th>\n",
       "      <th>segmento</th>\n",
       "      <th>subsegmento_1</th>\n",
       "      <th>subsegmento_2</th>\n",
       "      <th>subsegmento_3</th>\n",
       "    </tr>\n",
       "  </thead>\n",
       "  <tbody>\n",
       "    <tr>\n",
       "      <th>82733</th>\n",
       "      <td></td>\n",
       "      <td>Mars Mx Pet</td>\n",
       "      <td>Mars Mx Pet</td>\n",
       "      <td>Pedigree</td>\n",
       "      <td>Pedigree</td>\n",
       "      <td>625 G</td>\n",
       "      <td>Alimento Húmedo Pollo</td>\n",
       "      <td>Wet Food</td>\n",
       "      <td></td>\n",
       "      <td></td>\n",
       "      <td></td>\n",
       "    </tr>\n",
       "  </tbody>\n",
       "</table>\n",
       "</div>"
      ]
     },
     "metadata": {}
    }
   ],
   "metadata": {}
  },
  {
   "cell_type": "code",
   "execution_count": 21,
   "source": [
    "aux_fin = df.copy()\n",
    "aux_fin['sales'] = aux_fin['sales'].astype(str).str.replace(',','').astype(float)\n",
    "aux_fin = aux_fin.groupby('mes')['sales'].sum().reset_index()\n",
    "aux_fin['mes'] = aux_fin['mes'].astype(int).map(dict(zip(range(1,13),\n",
    "                                               ['ene','feb','mar','abr','may','jun',\n",
    "                                                'jul','ago','sep','oct','nov','dic'])))\n",
    "aux_fin"
   ],
   "outputs": [
    {
     "output_type": "execute_result",
     "data": {
      "text/plain": [
       "   mes       sales\n",
       "0  mar 23183508.00\n",
       "1  abr 21299124.00\n",
       "2  may 21695710.00\n",
       "3  jun 21063065.00\n",
       "4  jul 21920943.00"
      ],
      "text/html": [
       "<div>\n",
       "<style scoped>\n",
       "    .dataframe tbody tr th:only-of-type {\n",
       "        vertical-align: middle;\n",
       "    }\n",
       "\n",
       "    .dataframe tbody tr th {\n",
       "        vertical-align: top;\n",
       "    }\n",
       "\n",
       "    .dataframe thead th {\n",
       "        text-align: right;\n",
       "    }\n",
       "</style>\n",
       "<table border=\"1\" class=\"dataframe\">\n",
       "  <thead>\n",
       "    <tr style=\"text-align: right;\">\n",
       "      <th></th>\n",
       "      <th>mes</th>\n",
       "      <th>sales</th>\n",
       "    </tr>\n",
       "  </thead>\n",
       "  <tbody>\n",
       "    <tr>\n",
       "      <th>0</th>\n",
       "      <td>mar</td>\n",
       "      <td>23183508.00</td>\n",
       "    </tr>\n",
       "    <tr>\n",
       "      <th>1</th>\n",
       "      <td>abr</td>\n",
       "      <td>21299124.00</td>\n",
       "    </tr>\n",
       "    <tr>\n",
       "      <th>2</th>\n",
       "      <td>may</td>\n",
       "      <td>21695710.00</td>\n",
       "    </tr>\n",
       "    <tr>\n",
       "      <th>3</th>\n",
       "      <td>jun</td>\n",
       "      <td>21063065.00</td>\n",
       "    </tr>\n",
       "    <tr>\n",
       "      <th>4</th>\n",
       "      <td>jul</td>\n",
       "      <td>21920943.00</td>\n",
       "    </tr>\n",
       "  </tbody>\n",
       "</table>\n",
       "</div>"
      ]
     },
     "metadata": {},
     "execution_count": 21
    }
   ],
   "metadata": {
    "ExecuteTime": {
     "end_time": "2021-07-13T15:43:38.521871Z",
     "start_time": "2021-07-13T15:43:38.494486Z"
    },
    "hidden": true
   }
  },
  {
   "cell_type": "markdown",
   "source": [
    "## Export"
   ],
   "metadata": {
    "heading_collapsed": true
   }
  },
  {
   "cell_type": "markdown",
   "source": [
    "### Same product_id as past"
   ],
   "metadata": {
    "heading_collapsed": true,
    "hidden": true
   }
  },
  {
   "cell_type": "code",
   "execution_count": 22,
   "source": [
    "print(len(df))\n",
    "if past:\n",
    "    som = pd.ExcelFile(os.path.join('/'.join(BASE_DIR.split('/')[:-2]),\n",
    "                                    f'SoM_{SOM_CPG}.xlsx')).parse(sheet_name=0)\n",
    "    df = df.merge(som.drop_duplicates('product_id')[['product_id']].reset_index(drop=True).astype(str))\n",
    "    \n",
    "print(len(df))"
   ],
   "outputs": [
    {
     "output_type": "stream",
     "name": "stdout",
     "text": [
      "86317\n",
      "86317\n"
     ]
    }
   ],
   "metadata": {
    "ExecuteTime": {
     "end_time": "2021-07-13T15:43:38.527550Z",
     "start_time": "2021-07-13T15:43:38.523698Z"
    },
    "hidden": true
   }
  },
  {
   "cell_type": "code",
   "execution_count": 23,
   "source": [
    "aux_fin = df.copy()\n",
    "aux_fin['sales'] = aux_fin['sales'].astype(str).str.replace(',','').astype(float)\n",
    "aux_fin = aux_fin.groupby('mes')['sales'].sum().reset_index()\n",
    "aux_fin['mes'] = aux_fin['mes'].astype(int).map(dict(zip(range(1,13),\n",
    "                                               ['ene','feb','mar','abr','may','jun',\n",
    "                                                'jul','ago','sep','oct','nov','dic'])))"
   ],
   "outputs": [],
   "metadata": {
    "ExecuteTime": {
     "end_time": "2021-07-13T15:43:38.558812Z",
     "start_time": "2021-07-13T15:43:38.534231Z"
    },
    "hidden": true
   }
  },
  {
   "cell_type": "code",
   "execution_count": 24,
   "source": [
    "aux = aux_ini.copy()\n",
    "aux['month  '] = aux['month  '].str.split().str[0].str[:3]\n",
    "aux = aux.set_index('month  ').join(aux_fin.set_index('mes'),rsuffix='_fin')\n",
    "aux['dif'] = aux['sales_fin'] - aux['sales']\n",
    "aux['dif_p'] = aux['sales_fin'] / (aux['sales']+1e-10) - 1"
   ],
   "outputs": [],
   "metadata": {
    "ExecuteTime": {
     "end_time": "2021-07-13T15:43:38.571022Z",
     "start_time": "2021-07-13T15:43:38.562800Z"
    },
    "hidden": true
   }
  },
  {
   "cell_type": "markdown",
   "source": [
    "### Ordered columns"
   ],
   "metadata": {
    "heading_collapsed": true,
    "hidden": true
   }
  },
  {
   "cell_type": "code",
   "execution_count": 25,
   "source": [
    "export = df[['city_name', 'store_name', 'category_en', 'category_id', 'product_id',\n",
    "             'product_name', 'barcodes', 'package', 'product_sku', 'brand_name',\n",
    "             'sales', 'orders', 'users', 'units_found', 'units_replaced',\n",
    "             'units_requested', 'formato', 'proveedor_general', 'proveedor_abierto',\n",
    "             'marca_detalle', 'marca_generica', 'gramaje', 'descripcion_nielsen',\n",
    "             'segmento', 'subsegmento_1', 'subsegmento_2', 'subsegmento_3',\n",
    "             'mes', 'anio']].copy()\n",
    "export.sort_values(['anio','mes'],inplace=True)\n",
    "export.sample(4)"
   ],
   "outputs": [
    {
     "output_type": "execute_result",
     "data": {
      "text/plain": [
       "              city_name   store_name                   category_en  \\\n",
       "24458  Ciudad de México       Sumesa  Nuts, Seeds and Dried Fruits   \n",
       "48951         Querétaro  City Market  Nuts, Seeds and Dried Fruits   \n",
       "30133         Monterrey        Petco                        Treats   \n",
       "66237         Querétaro       Costco  Nuts, Seeds and Dried Fruits   \n",
       "\n",
       "      category_id product_id                                   product_name  \\\n",
       "24458        1004     335228                     Cacahuate tostado sazonado   \n",
       "48951        1004     339396                          Arándano deshidratado   \n",
       "30133         229     391892  Un Dos Treats Premio Sabor Res Y Moras 155 Gr   \n",
       "66237        1004     152333                             Almendras tostadas   \n",
       "\n",
       "            barcodes              package product_sku           brand_name  \\\n",
       "24458  7501011185142                180 g                            Mafer   \n",
       "48951  7501071304477           Bolsa 75 g                      Verde Valle   \n",
       "30133   664697096809  Res y Moras  155 Gr      125395        Un dos treats   \n",
       "66237    96619723829              1.13 kg      812369  Kirkland Signature    \n",
       "\n",
       "       ...       marca_detalle      marca_generica              gramaje  \\\n",
       "24458  ...               Mafer               Mafer                180 G   \n",
       "48951  ...         Verde Valle         Verde Valle           Bolsa 75 G   \n",
       "30133  ...       Un Dos Treats       Un Dos Treats  Res Y Moras  155 Gr   \n",
       "66237  ...  Kirkland Signature  Kirkland Signature              1.13 Kg   \n",
       "\n",
       "                                 descripcion_nielsen  \\\n",
       "24458                     Cacahuate Tostado Sazonado   \n",
       "48951                          Arándano Deshidratado   \n",
       "30133  Un Dos Treats Premio Sabor Res Y Moras 155 Gr   \n",
       "66237                             Almendras Tostadas   \n",
       "\n",
       "                           segmento subsegmento_1 subsegmento_2 subsegmento_3  \\\n",
       "24458  Nuts, Seeds And Dried Fruits                                             \n",
       "48951  Nuts, Seeds And Dried Fruits                                             \n",
       "30133                        Treats                                             \n",
       "66237  Nuts, Seeds And Dried Fruits                                             \n",
       "\n",
       "      mes  anio  \n",
       "24458   6  2021  \n",
       "48951   5  2021  \n",
       "30133   6  2021  \n",
       "66237   4  2021  \n",
       "\n",
       "[4 rows x 29 columns]"
      ],
      "text/html": [
       "<div>\n",
       "<style scoped>\n",
       "    .dataframe tbody tr th:only-of-type {\n",
       "        vertical-align: middle;\n",
       "    }\n",
       "\n",
       "    .dataframe tbody tr th {\n",
       "        vertical-align: top;\n",
       "    }\n",
       "\n",
       "    .dataframe thead th {\n",
       "        text-align: right;\n",
       "    }\n",
       "</style>\n",
       "<table border=\"1\" class=\"dataframe\">\n",
       "  <thead>\n",
       "    <tr style=\"text-align: right;\">\n",
       "      <th></th>\n",
       "      <th>city_name</th>\n",
       "      <th>store_name</th>\n",
       "      <th>category_en</th>\n",
       "      <th>category_id</th>\n",
       "      <th>product_id</th>\n",
       "      <th>product_name</th>\n",
       "      <th>barcodes</th>\n",
       "      <th>package</th>\n",
       "      <th>product_sku</th>\n",
       "      <th>brand_name</th>\n",
       "      <th>...</th>\n",
       "      <th>marca_detalle</th>\n",
       "      <th>marca_generica</th>\n",
       "      <th>gramaje</th>\n",
       "      <th>descripcion_nielsen</th>\n",
       "      <th>segmento</th>\n",
       "      <th>subsegmento_1</th>\n",
       "      <th>subsegmento_2</th>\n",
       "      <th>subsegmento_3</th>\n",
       "      <th>mes</th>\n",
       "      <th>anio</th>\n",
       "    </tr>\n",
       "  </thead>\n",
       "  <tbody>\n",
       "    <tr>\n",
       "      <th>24458</th>\n",
       "      <td>Ciudad de México</td>\n",
       "      <td>Sumesa</td>\n",
       "      <td>Nuts, Seeds and Dried Fruits</td>\n",
       "      <td>1004</td>\n",
       "      <td>335228</td>\n",
       "      <td>Cacahuate tostado sazonado</td>\n",
       "      <td>7501011185142</td>\n",
       "      <td>180 g</td>\n",
       "      <td></td>\n",
       "      <td>Mafer</td>\n",
       "      <td>...</td>\n",
       "      <td>Mafer</td>\n",
       "      <td>Mafer</td>\n",
       "      <td>180 G</td>\n",
       "      <td>Cacahuate Tostado Sazonado</td>\n",
       "      <td>Nuts, Seeds And Dried Fruits</td>\n",
       "      <td></td>\n",
       "      <td></td>\n",
       "      <td></td>\n",
       "      <td>6</td>\n",
       "      <td>2021</td>\n",
       "    </tr>\n",
       "    <tr>\n",
       "      <th>48951</th>\n",
       "      <td>Querétaro</td>\n",
       "      <td>City Market</td>\n",
       "      <td>Nuts, Seeds and Dried Fruits</td>\n",
       "      <td>1004</td>\n",
       "      <td>339396</td>\n",
       "      <td>Arándano deshidratado</td>\n",
       "      <td>7501071304477</td>\n",
       "      <td>Bolsa 75 g</td>\n",
       "      <td></td>\n",
       "      <td>Verde Valle</td>\n",
       "      <td>...</td>\n",
       "      <td>Verde Valle</td>\n",
       "      <td>Verde Valle</td>\n",
       "      <td>Bolsa 75 G</td>\n",
       "      <td>Arándano Deshidratado</td>\n",
       "      <td>Nuts, Seeds And Dried Fruits</td>\n",
       "      <td></td>\n",
       "      <td></td>\n",
       "      <td></td>\n",
       "      <td>5</td>\n",
       "      <td>2021</td>\n",
       "    </tr>\n",
       "    <tr>\n",
       "      <th>30133</th>\n",
       "      <td>Monterrey</td>\n",
       "      <td>Petco</td>\n",
       "      <td>Treats</td>\n",
       "      <td>229</td>\n",
       "      <td>391892</td>\n",
       "      <td>Un Dos Treats Premio Sabor Res Y Moras 155 Gr</td>\n",
       "      <td>664697096809</td>\n",
       "      <td>Res y Moras  155 Gr</td>\n",
       "      <td>125395</td>\n",
       "      <td>Un dos treats</td>\n",
       "      <td>...</td>\n",
       "      <td>Un Dos Treats</td>\n",
       "      <td>Un Dos Treats</td>\n",
       "      <td>Res Y Moras  155 Gr</td>\n",
       "      <td>Un Dos Treats Premio Sabor Res Y Moras 155 Gr</td>\n",
       "      <td>Treats</td>\n",
       "      <td></td>\n",
       "      <td></td>\n",
       "      <td></td>\n",
       "      <td>6</td>\n",
       "      <td>2021</td>\n",
       "    </tr>\n",
       "    <tr>\n",
       "      <th>66237</th>\n",
       "      <td>Querétaro</td>\n",
       "      <td>Costco</td>\n",
       "      <td>Nuts, Seeds and Dried Fruits</td>\n",
       "      <td>1004</td>\n",
       "      <td>152333</td>\n",
       "      <td>Almendras tostadas</td>\n",
       "      <td>96619723829</td>\n",
       "      <td>1.13 kg</td>\n",
       "      <td>812369</td>\n",
       "      <td>Kirkland Signature</td>\n",
       "      <td>...</td>\n",
       "      <td>Kirkland Signature</td>\n",
       "      <td>Kirkland Signature</td>\n",
       "      <td>1.13 Kg</td>\n",
       "      <td>Almendras Tostadas</td>\n",
       "      <td>Nuts, Seeds And Dried Fruits</td>\n",
       "      <td></td>\n",
       "      <td></td>\n",
       "      <td></td>\n",
       "      <td>4</td>\n",
       "      <td>2021</td>\n",
       "    </tr>\n",
       "  </tbody>\n",
       "</table>\n",
       "<p>4 rows × 29 columns</p>\n",
       "</div>"
      ]
     },
     "metadata": {},
     "execution_count": 25
    }
   ],
   "metadata": {
    "ExecuteTime": {
     "end_time": "2021-07-13T15:43:38.605441Z",
     "start_time": "2021-07-13T15:43:38.572625Z"
    },
    "hidden": true
   }
  },
  {
   "cell_type": "code",
   "execution_count": 26,
   "source": [
    "export.to_csv(os.path.join(BASE_DIR,f'som_{CPG}.csv'),index=False,sep='\\t',encoding='utf-16')"
   ],
   "outputs": [],
   "metadata": {
    "ExecuteTime": {
     "end_time": "2021-07-13T15:43:38.766783Z",
     "start_time": "2021-07-13T15:43:38.607302Z"
    },
    "hidden": true
   }
  },
  {
   "cell_type": "markdown",
   "source": [
    "## Fin"
   ],
   "metadata": {}
  },
  {
   "cell_type": "code",
   "execution_count": 27,
   "source": [
    "aux"
   ],
   "outputs": [
    {
     "output_type": "execute_result",
     "data": {
      "text/plain": [
       "              sales   sales_fin  dif  dif_p\n",
       "month                                      \n",
       "abr     21299124.00 21299124.00 0.00   0.00\n",
       "jul     21920943.00 21920943.00 0.00   0.00\n",
       "jun     21063065.00 21063065.00 0.00   0.00\n",
       "mar     23183508.00 23183508.00 0.00   0.00\n",
       "may     21695710.00 21695710.00 0.00   0.00"
      ],
      "text/html": [
       "<div>\n",
       "<style scoped>\n",
       "    .dataframe tbody tr th:only-of-type {\n",
       "        vertical-align: middle;\n",
       "    }\n",
       "\n",
       "    .dataframe tbody tr th {\n",
       "        vertical-align: top;\n",
       "    }\n",
       "\n",
       "    .dataframe thead th {\n",
       "        text-align: right;\n",
       "    }\n",
       "</style>\n",
       "<table border=\"1\" class=\"dataframe\">\n",
       "  <thead>\n",
       "    <tr style=\"text-align: right;\">\n",
       "      <th></th>\n",
       "      <th>sales</th>\n",
       "      <th>sales_fin</th>\n",
       "      <th>dif</th>\n",
       "      <th>dif_p</th>\n",
       "    </tr>\n",
       "    <tr>\n",
       "      <th>month</th>\n",
       "      <th></th>\n",
       "      <th></th>\n",
       "      <th></th>\n",
       "      <th></th>\n",
       "    </tr>\n",
       "  </thead>\n",
       "  <tbody>\n",
       "    <tr>\n",
       "      <th>abr</th>\n",
       "      <td>21299124.00</td>\n",
       "      <td>21299124.00</td>\n",
       "      <td>0.00</td>\n",
       "      <td>0.00</td>\n",
       "    </tr>\n",
       "    <tr>\n",
       "      <th>jul</th>\n",
       "      <td>21920943.00</td>\n",
       "      <td>21920943.00</td>\n",
       "      <td>0.00</td>\n",
       "      <td>0.00</td>\n",
       "    </tr>\n",
       "    <tr>\n",
       "      <th>jun</th>\n",
       "      <td>21063065.00</td>\n",
       "      <td>21063065.00</td>\n",
       "      <td>0.00</td>\n",
       "      <td>0.00</td>\n",
       "    </tr>\n",
       "    <tr>\n",
       "      <th>mar</th>\n",
       "      <td>23183508.00</td>\n",
       "      <td>23183508.00</td>\n",
       "      <td>0.00</td>\n",
       "      <td>0.00</td>\n",
       "    </tr>\n",
       "    <tr>\n",
       "      <th>may</th>\n",
       "      <td>21695710.00</td>\n",
       "      <td>21695710.00</td>\n",
       "      <td>0.00</td>\n",
       "      <td>0.00</td>\n",
       "    </tr>\n",
       "  </tbody>\n",
       "</table>\n",
       "</div>"
      ]
     },
     "metadata": {},
     "execution_count": 27
    }
   ],
   "metadata": {
    "ExecuteTime": {
     "end_time": "2021-07-13T15:43:38.774471Z",
     "start_time": "2021-07-13T15:43:38.768438Z"
    }
   }
  },
  {
   "cell_type": "code",
   "execution_count": 28,
   "source": [
    "time_exp(time.time() - start)\n",
    "tono()"
   ],
   "outputs": [
    {
     "output_type": "stream",
     "name": "stdout",
     "text": [
      "0 minutos con 8.03 segundos\n"
     ]
    },
    {
     "output_type": "execute_result",
     "data": {
      "text/plain": [
       "<IPython.lib.display.Audio object>"
      ],
      "text/html": [
       "\n",
       "                <audio  controls=\"controls\" autoplay=\"autoplay\">\n",
       "                    <source src=\"data:audio/wav;base64,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\" type=\"audio/wav\" />\n",
       "                    Your browser does not support the audio element.\n",
       "                </audio>\n",
       "              "
      ]
     },
     "metadata": {},
     "execution_count": 28
    }
   ],
   "metadata": {
    "ExecuteTime": {
     "end_time": "2021-07-13T15:43:38.785306Z",
     "start_time": "2021-07-13T15:43:38.776552Z"
    }
   }
  }
 ],
 "metadata": {
  "kernelspec": {
   "name": "python3",
   "display_name": "Python 3.9.1 64-bit ('venv': venv)"
  },
  "language_info": {
   "codemirror_mode": {
    "name": "ipython",
    "version": 3
   },
   "file_extension": ".py",
   "mimetype": "text/x-python",
   "name": "python",
   "nbconvert_exporter": "python",
   "pygments_lexer": "ipython3",
   "version": "3.9.1"
  },
  "toc": {
   "base_numbering": 1,
   "nav_menu": {},
   "number_sections": true,
   "sideBar": true,
   "skip_h1_title": true,
   "title_cell": "Table of Contents",
   "title_sidebar": "Contents",
   "toc_cell": false,
   "toc_position": {
    "height": "calc(100% - 180px)",
    "left": "10px",
    "top": "150px",
    "width": "353.583px"
   },
   "toc_section_display": true,
   "toc_window_display": false
  },
  "varInspector": {
   "cols": {
    "lenName": 16,
    "lenType": 16,
    "lenVar": 40
   },
   "kernels_config": {
    "python": {
     "delete_cmd_postfix": "",
     "delete_cmd_prefix": "del ",
     "library": "var_list.py",
     "varRefreshCmd": "print(var_dic_list())"
    },
    "r": {
     "delete_cmd_postfix": ") ",
     "delete_cmd_prefix": "rm(",
     "library": "var_list.r",
     "varRefreshCmd": "cat(var_dic_list()) "
    }
   },
   "types_to_exclude": [
    "module",
    "function",
    "builtin_function_or_method",
    "instance",
    "_Feature"
   ],
   "window_display": false
  },
  "interpreter": {
   "hash": "43c7e786f83339f88293178a498b997755bb834764969670e358492d0c4260ad"
  }
 },
 "nbformat": 4,
 "nbformat_minor": 5
}