{
 "cells": [
  {
   "cell_type": "markdown",
   "metadata": {},
   "source": [
    "# Performance by product --> SoM Dashboard"
   ]
  },
  {
   "cell_type": "code",
   "execution_count": 1,
   "metadata": {
    "ExecuteTime": {
     "end_time": "2021-07-13T15:43:35.979494Z",
     "start_time": "2021-07-13T15:43:35.968928Z"
    }
   },
   "outputs": [],
   "source": [
    "BASE_DIR = '/Users/efraflores/Desktop/EF/Corner/Brands/SoM/data/'\n",
    "CPG = 'rb_hyho' \n",
    "nielsen_cat = False #True JUST FOR RB_HYHO, DANONE, UNILEVER SO FAR!!!\n",
    "past = True\n",
    "SOM_CPG = CPG.title()"
   ]
  },
  {
   "cell_type": "markdown",
   "metadata": {
    "heading_collapsed": true
   },
   "source": [
    "## Import"
   ]
  },
  {
   "cell_type": "code",
   "execution_count": 2,
   "metadata": {
    "ExecuteTime": {
     "end_time": "2021-07-13T15:43:36.574546Z",
     "start_time": "2021-07-13T15:43:35.988681Z"
    },
    "hidden": true
   },
   "outputs": [
    {
     "name": "stdout",
     "output_type": "stream",
     "text": [
      "['nielsen_rb_hyho.csv', 'products_rb_hyho.csv', 'som_rb_hyho.csv']\n"
     ]
    }
   ],
   "source": [
    "import os\n",
    "import numpy as np\n",
    "import pandas as pd\n",
    "from IPython.display import display\n",
    "\n",
    "pd.options.display.float_format = '{:.2f}'.format\n",
    "print([x for x in os.listdir(BASE_DIR) if x.endswith(f'{CPG}.csv')])"
   ]
  },
  {
   "cell_type": "code",
   "execution_count": 3,
   "metadata": {
    "ExecuteTime": {
     "end_time": "2021-07-13T15:43:36.677023Z",
     "start_time": "2021-07-13T15:43:36.577330Z"
    },
    "hidden": true
   },
   "outputs": [
    {
     "data": {
      "text/html": [
       "<div>\n",
       "<style scoped>\n",
       "    .dataframe tbody tr th:only-of-type {\n",
       "        vertical-align: middle;\n",
       "    }\n",
       "\n",
       "    .dataframe tbody tr th {\n",
       "        vertical-align: top;\n",
       "    }\n",
       "\n",
       "    .dataframe thead th {\n",
       "        text-align: right;\n",
       "    }\n",
       "</style>\n",
       "<table border=\"1\" class=\"dataframe\">\n",
       "  <thead>\n",
       "    <tr style=\"text-align: right;\">\n",
       "      <th></th>\n",
       "      <th>month</th>\n",
       "      <th>country</th>\n",
       "      <th>city name</th>\n",
       "      <th>store_name</th>\n",
       "      <th>category en</th>\n",
       "      <th>category_id</th>\n",
       "      <th>product id</th>\n",
       "      <th>product name</th>\n",
       "      <th>barcodes</th>\n",
       "      <th>package</th>\n",
       "      <th>...</th>\n",
       "      <th>sales</th>\n",
       "      <th>orders</th>\n",
       "      <th>avg ticket</th>\n",
       "      <th>users</th>\n",
       "      <th>units found</th>\n",
       "      <th>units replaced</th>\n",
       "      <th>units requested</th>\n",
       "      <th>found rate</th>\n",
       "      <th>fulfillment</th>\n",
       "      <th>frequency</th>\n",
       "    </tr>\n",
       "  </thead>\n",
       "  <tbody>\n",
       "    <tr>\n",
       "      <th>28674</th>\n",
       "      <td>septiembre 2021</td>\n",
       "      <td>MX</td>\n",
       "      <td>Monterrey</td>\n",
       "      <td>HEB</td>\n",
       "      <td>Oral care</td>\n",
       "      <td>967</td>\n",
       "      <td>178292</td>\n",
       "      <td>Pasta dental Max White complete clean</td>\n",
       "      <td>{7460192001743}</td>\n",
       "      <td>2 x 75 ml</td>\n",
       "      <td>...</td>\n",
       "      <td>0</td>\n",
       "      <td>0</td>\n",
       "      <td>NaN</td>\n",
       "      <td>0</td>\n",
       "      <td>0</td>\n",
       "      <td>2</td>\n",
       "      <td>2</td>\n",
       "      <td>0.0%</td>\n",
       "      <td>100.0%</td>\n",
       "      <td>NaN</td>\n",
       "    </tr>\n",
       "    <tr>\n",
       "      <th>22185</th>\n",
       "      <td>septiembre 2021</td>\n",
       "      <td>MX</td>\n",
       "      <td>León</td>\n",
       "      <td>HEB</td>\n",
       "      <td>Cleaning accessories</td>\n",
       "      <td>987</td>\n",
       "      <td>1986567</td>\n",
       "      <td>Guantes baño y lavandería grandes</td>\n",
       "      <td>{51135814215}</td>\n",
       "      <td>1 par</td>\n",
       "      <td>...</td>\n",
       "      <td>57</td>\n",
       "      <td>1</td>\n",
       "      <td>57</td>\n",
       "      <td>1</td>\n",
       "      <td>1</td>\n",
       "      <td>0</td>\n",
       "      <td>1</td>\n",
       "      <td>100.0%</td>\n",
       "      <td>100.0%</td>\n",
       "      <td>1.00</td>\n",
       "    </tr>\n",
       "  </tbody>\n",
       "</table>\n",
       "<p>2 rows × 22 columns</p>\n",
       "</div>"
      ],
      "text/plain": [
       "               month   country   city name store_name           category en  \\\n",
       "28674  septiembre 2021       MX  Monterrey        HEB             Oral care   \n",
       "22185  septiembre 2021       MX       León        HEB  Cleaning accessories   \n",
       "\n",
       "       category_id  product id                           product name  \\\n",
       "28674          967      178292  Pasta dental Max White complete clean   \n",
       "22185          987     1986567      Guantes baño y lavandería grandes   \n",
       "\n",
       "              barcodes    package  ... sales orders avg ticket users  \\\n",
       "28674  {7460192001743}  2 x 75 ml  ...     0      0        NaN     0   \n",
       "22185    {51135814215}      1 par  ...    57      1         57     1   \n",
       "\n",
       "      units found units replaced units requested  found rate fulfillment  \\\n",
       "28674           0              2               2        0.0%      100.0%   \n",
       "22185           1              0               1      100.0%      100.0%   \n",
       "\n",
       "      frequency  \n",
       "28674       NaN  \n",
       "22185      1.00  \n",
       "\n",
       "[2 rows x 22 columns]"
      ]
     },
     "execution_count": 3,
     "metadata": {},
     "output_type": "execute_result"
    }
   ],
   "source": [
    "df = pd.read_csv(os.path.join(BASE_DIR,f'products_{CPG}.csv'),\n",
    "                 sep='\\t', encoding='UTF-16', low_memory=False)\n",
    "df.sample(2)"
   ]
  },
  {
   "cell_type": "code",
   "execution_count": 4,
   "metadata": {},
   "outputs": [],
   "source": [
    "# df.rename(columns={'month  / year':'month  ','sales [currency]':'sales'}, inplace=True)"
   ]
  },
  {
   "cell_type": "code",
   "execution_count": 5,
   "metadata": {
    "ExecuteTime": {
     "end_time": "2021-07-13T15:43:36.701452Z",
     "start_time": "2021-07-13T15:43:36.678694Z"
    },
    "hidden": true
   },
   "outputs": [
    {
     "data": {
      "text/html": [
       "<div>\n",
       "<style scoped>\n",
       "    .dataframe tbody tr th:only-of-type {\n",
       "        vertical-align: middle;\n",
       "    }\n",
       "\n",
       "    .dataframe tbody tr th {\n",
       "        vertical-align: top;\n",
       "    }\n",
       "\n",
       "    .dataframe thead th {\n",
       "        text-align: right;\n",
       "    }\n",
       "</style>\n",
       "<table border=\"1\" class=\"dataframe\">\n",
       "  <thead>\n",
       "    <tr style=\"text-align: right;\">\n",
       "      <th></th>\n",
       "      <th>month</th>\n",
       "      <th>sales</th>\n",
       "    </tr>\n",
       "  </thead>\n",
       "  <tbody>\n",
       "    <tr>\n",
       "      <th>0</th>\n",
       "      <td>septiembre 2021</td>\n",
       "      <td>32192485.00</td>\n",
       "    </tr>\n",
       "  </tbody>\n",
       "</table>\n",
       "</div>"
      ],
      "text/plain": [
       "           month         sales\n",
       "0  septiembre 2021 32192485.00"
      ]
     },
     "execution_count": 5,
     "metadata": {},
     "output_type": "execute_result"
    }
   ],
   "source": [
    "aux_ini = df.copy()\n",
    "aux_ini['sales'] = aux_ini['sales'].astype(str).str.replace(',','').astype(float)\n",
    "aux_ini = aux_ini.groupby('month  ')['sales'].sum().reset_index()\n",
    "aux_ini"
   ]
  },
  {
   "cell_type": "code",
   "execution_count": 6,
   "metadata": {
    "ExecuteTime": {
     "end_time": "2021-07-13T15:43:36.783426Z",
     "start_time": "2021-07-13T15:43:36.703951Z"
    },
    "hidden": true
   },
   "outputs": [
    {
     "data": {
      "text/plain": [
       "0    7501032908331\n",
       "1    7501058767226\n",
       "2      19200858397\n",
       "3    7501032906337\n",
       "4    7501032924003\n",
       "Name: UPC, dtype: object"
      ]
     },
     "metadata": {},
     "output_type": "display_data"
    },
    {
     "data": {
      "text/plain": [
       "0    7501032908331\n",
       "1    7501058767226\n",
       "2      19200858397\n",
       "3    7501032906337\n",
       "4    7501032924003\n",
       "Name: UPC, dtype: int64"
      ]
     },
     "metadata": {},
     "output_type": "display_data"
    },
    {
     "data": {
      "text/plain": [
       "0    7501032908331\n",
       "1    7501058767226\n",
       "2      19200858397\n",
       "3    7501032906337\n",
       "4    7501032924003\n",
       "Name: UPC, dtype: int64"
      ]
     },
     "metadata": {},
     "output_type": "display_data"
    },
    {
     "data": {
      "text/html": [
       "<div>\n",
       "<style scoped>\n",
       "    .dataframe tbody tr th:only-of-type {\n",
       "        vertical-align: middle;\n",
       "    }\n",
       "\n",
       "    .dataframe tbody tr th {\n",
       "        vertical-align: top;\n",
       "    }\n",
       "\n",
       "    .dataframe thead th {\n",
       "        text-align: right;\n",
       "    }\n",
       "</style>\n",
       "<table border=\"1\" class=\"dataframe\">\n",
       "  <thead>\n",
       "    <tr style=\"text-align: right;\">\n",
       "      <th></th>\n",
       "      <th>UPC</th>\n",
       "      <th>FORMATO</th>\n",
       "      <th>PROVEEDOR GENERAL</th>\n",
       "      <th>PROVEEDOR ABIERTO</th>\n",
       "      <th>MARCA DETALLE</th>\n",
       "      <th>MARCA GENERICA</th>\n",
       "      <th>GRAMAJE</th>\n",
       "      <th>DESCRIPCION NIELSEN</th>\n",
       "      <th>PRODUCT ID</th>\n",
       "      <th>SEGMENTO</th>\n",
       "      <th>SUBSEGMENTO 1</th>\n",
       "      <th>SUBSEGMENTO 2</th>\n",
       "      <th>SUBSEGMENTO 3</th>\n",
       "    </tr>\n",
       "  </thead>\n",
       "  <tbody>\n",
       "    <tr>\n",
       "      <th>1724</th>\n",
       "      <td>870748005106</td>\n",
       "      <td>NaN</td>\n",
       "      <td>OTHERS FABRICANTE UNIF.</td>\n",
       "      <td>OTHERS FABRICANTE UNIF.</td>\n",
       "      <td>OTHER MARCA UNIF.</td>\n",
       "      <td>OTHER MARCA UNIF.</td>\n",
       "      <td>NaN</td>\n",
       "      <td>SMELLS AROMA REED DIFUSER VANILLA VELVET FRSCO...</td>\n",
       "      <td>NaN</td>\n",
       "      <td>AIR CARE</td>\n",
       "      <td>AIRFRESHENERS</td>\n",
       "      <td>LIQUIDS BASIC</td>\n",
       "      <td>NaN</td>\n",
       "    </tr>\n",
       "    <tr>\n",
       "      <th>3519</th>\n",
       "      <td>7501032909826</td>\n",
       "      <td>NaN</td>\n",
       "      <td>SC JOHNSON</td>\n",
       "      <td>SC JOHNSON</td>\n",
       "      <td>GLADE</td>\n",
       "      <td>GLADE</td>\n",
       "      <td>NaN</td>\n",
       "      <td>GLADE SENSATIONS HAWAIIAN BREEZE  APARATO 8GR ...</td>\n",
       "      <td>NaN</td>\n",
       "      <td>AIR CARE</td>\n",
       "      <td>AIRFRESHENERS</td>\n",
       "      <td>OTROS(RMN)</td>\n",
       "      <td>NaN</td>\n",
       "    </tr>\n",
       "  </tbody>\n",
       "</table>\n",
       "</div>"
      ],
      "text/plain": [
       "                UPC FORMATO        PROVEEDOR GENERAL        PROVEEDOR ABIERTO  \\\n",
       "1724   870748005106     NaN  OTHERS FABRICANTE UNIF.  OTHERS FABRICANTE UNIF.   \n",
       "3519  7501032909826     NaN               SC JOHNSON               SC JOHNSON   \n",
       "\n",
       "          MARCA DETALLE     MARCA GENERICA  GRAMAJE  \\\n",
       "1724  OTHER MARCA UNIF.  OTHER MARCA UNIF.      NaN   \n",
       "3519              GLADE              GLADE      NaN   \n",
       "\n",
       "                                    DESCRIPCION NIELSEN  PRODUCT ID  SEGMENTO  \\\n",
       "1724  SMELLS AROMA REED DIFUSER VANILLA VELVET FRSCO...         NaN  AIR CARE   \n",
       "3519  GLADE SENSATIONS HAWAIIAN BREEZE  APARATO 8GR ...         NaN  AIR CARE   \n",
       "\n",
       "      SUBSEGMENTO 1  SUBSEGMENTO 2  SUBSEGMENTO 3  \n",
       "1724  AIRFRESHENERS  LIQUIDS BASIC            NaN  \n",
       "3519  AIRFRESHENERS     OTROS(RMN)            NaN  "
      ]
     },
     "execution_count": 6,
     "metadata": {},
     "output_type": "execute_result"
    }
   ],
   "source": [
    "import re\n",
    "nielsen = pd.read_csv(BASE_DIR + f'nielsen_{CPG}.csv',\n",
    "                      sep='\\t',encoding='utf-16'\n",
    "                     ).drop_duplicates(subset=['UPC','PRODUCT ID'])\n",
    "display(nielsen['UPC'].head())\n",
    "nielsen['UPC'] = nielsen['UPC'].apply(lambda x: re.sub('[^\\d]','',str(x)))\n",
    "nielsen['UPC'] = nielsen['UPC'].astype(str).str.strip().str.split().str[0].fillna(0).astype(int)\n",
    "display(nielsen['UPC'].head())\n",
    "display(nielsen['UPC'].head())\n",
    "nielsen.sample(2)"
   ]
  },
  {
   "cell_type": "markdown",
   "metadata": {
    "heading_collapsed": true
   },
   "source": [
    "## Functions"
   ]
  },
  {
   "cell_type": "code",
   "execution_count": 7,
   "metadata": {
    "ExecuteTime": {
     "end_time": "2021-07-13T15:43:36.789553Z",
     "start_time": "2021-07-13T15:43:36.785374Z"
    },
    "hidden": true
   },
   "outputs": [],
   "source": [
    "import time\n",
    "import numpy as np\n",
    "from IPython.lib.display import Audio\n",
    "\n",
    "start = time.time()\n",
    "def time_exp(x):\n",
    "    minutes, seconds = np.floor(x/60), 60*(x/60-np.floor(x/60))\n",
    "    print(f\"{'{:.0f}'.format(minutes)} minutos con {'{:.2f}'.format(seconds)} segundos\")\n",
    "    \n",
    "def tono(a = 1000, b = 700, play_time_seconds = 1, framerate = 4410):\n",
    "    t = np.linspace(0, play_time_seconds, framerate*play_time_seconds)*np.pi\n",
    "    return Audio(np.sin(a*t) + np.sin(b*t), rate = framerate, autoplay=True)"
   ]
  },
  {
   "cell_type": "code",
   "execution_count": 8,
   "metadata": {
    "ExecuteTime": {
     "end_time": "2021-07-13T15:43:36.803197Z",
     "start_time": "2021-07-13T15:43:36.794124Z"
    },
    "hidden": true
   },
   "outputs": [],
   "source": [
    "def limpio(data,month_col,to_drop):\n",
    "    df = data.copy()\n",
    "    df[['mes','anio']] = df[month_col].str.split(expand=True)\n",
    "    meses = dict(zip(['enero','febrero','marzo','abril','mayo','junio','julio',\n",
    "                      'agosto','septiembre','octubre','noviembre','diciembre'],range(1,13)))\n",
    "    df['mes'] = df['mes'].replace(meses)\n",
    "    df.drop(columns=to_drop,inplace=True)\n",
    "    df.columns = [str(x).replace('.','').replace(' ','_').lower() for x in df.columns]\n",
    "    for col in ['brand_filter','cpg_filter']:\n",
    "        df[f'{col[:-7]}_id'] = df[col].apply(lambda x: ','.join(re.findall('\\s\\((\\d+)\\)',str(x))))\n",
    "        df[f'{col[:-7]}_name'] = df[col].apply(lambda x: re.sub('\\s\\(\\d+\\)','',str(x)))\n",
    "    return df"
   ]
  },
  {
   "cell_type": "markdown",
   "metadata": {
    "heading_collapsed": true
   },
   "source": [
    "## Transform"
   ]
  },
  {
   "cell_type": "markdown",
   "metadata": {
    "heading_collapsed": true,
    "hidden": true
   },
   "source": [
    "### Barcodes"
   ]
  },
  {
   "cell_type": "code",
   "execution_count": 9,
   "metadata": {
    "ExecuteTime": {
     "end_time": "2021-07-13T15:43:36.892682Z",
     "start_time": "2021-07-13T15:43:36.806132Z"
    },
    "hidden": true
   },
   "outputs": [
    {
     "name": "stderr",
     "output_type": "stream",
     "text": [
      "/var/folders/j4/1p33_bh96yn8pdz3b_5t80hm0000gn/T/ipykernel_1430/2845833164.py:1: FutureWarning: The default value of regex will change from True to False in a future version. In addition, single character regular expressions will*not* be treated as literal strings when regex=True.\n",
      "  df['barcodes'] = df['barcodes'].str.replace('{','').str.replace('}','')\n"
     ]
    },
    {
     "data": {
      "text/plain": [
       "20319    7501022150801\n",
       "7096     7501025400842\n",
       "11913    4973513134639\n",
       "23267    7706800227007\n",
       "Name: barcodes, dtype: object"
      ]
     },
     "execution_count": 9,
     "metadata": {},
     "output_type": "execute_result"
    }
   ],
   "source": [
    "df['barcodes'] = df['barcodes'].str.replace('{','').str.replace('}','')\n",
    "df['barcodes'] = df['barcodes'].str.split(',',n=1).fillna('.').apply(lambda x:x[0])\n",
    "df['barcodes'].sample(4)"
   ]
  },
  {
   "cell_type": "markdown",
   "metadata": {
    "heading_collapsed": true,
    "hidden": true
   },
   "source": [
    "### Merge"
   ]
  },
  {
   "cell_type": "code",
   "execution_count": 10,
   "metadata": {
    "ExecuteTime": {
     "end_time": "2021-07-13T15:43:37.039437Z",
     "start_time": "2021-07-13T15:43:36.895191Z"
    },
    "hidden": true
   },
   "outputs": [
    {
     "data": {
      "text/html": [
       "<div>\n",
       "<style scoped>\n",
       "    .dataframe tbody tr th:only-of-type {\n",
       "        vertical-align: middle;\n",
       "    }\n",
       "\n",
       "    .dataframe tbody tr th {\n",
       "        vertical-align: top;\n",
       "    }\n",
       "\n",
       "    .dataframe thead th {\n",
       "        text-align: right;\n",
       "    }\n",
       "</style>\n",
       "<table border=\"1\" class=\"dataframe\">\n",
       "  <thead>\n",
       "    <tr style=\"text-align: right;\">\n",
       "      <th></th>\n",
       "      <th>month</th>\n",
       "      <th>country</th>\n",
       "      <th>city name</th>\n",
       "      <th>store_name</th>\n",
       "      <th>category en</th>\n",
       "      <th>category_id</th>\n",
       "      <th>product id</th>\n",
       "      <th>product name</th>\n",
       "      <th>barcodes</th>\n",
       "      <th>package</th>\n",
       "      <th>...</th>\n",
       "      <th>PROVEEDOR GENERAL</th>\n",
       "      <th>PROVEEDOR ABIERTO</th>\n",
       "      <th>MARCA DETALLE</th>\n",
       "      <th>MARCA GENERICA</th>\n",
       "      <th>GRAMAJE</th>\n",
       "      <th>DESCRIPCION NIELSEN</th>\n",
       "      <th>SEGMENTO</th>\n",
       "      <th>SUBSEGMENTO 1</th>\n",
       "      <th>SUBSEGMENTO 2</th>\n",
       "      <th>SUBSEGMENTO 3</th>\n",
       "    </tr>\n",
       "  </thead>\n",
       "  <tbody>\n",
       "    <tr>\n",
       "      <th>11468</th>\n",
       "      <td>septiembre 2021</td>\n",
       "      <td>MX</td>\n",
       "      <td>Ciudad de México</td>\n",
       "      <td>La Comer</td>\n",
       "      <td>Bathroom and kitchen cleaning</td>\n",
       "      <td>988</td>\n",
       "      <td>121465</td>\n",
       "      <td>Deshumificador ambiental aroma primavera 400 g</td>\n",
       "      <td>7501454344007</td>\n",
       "      <td>nan</td>\n",
       "      <td>...</td>\n",
       "      <td>NaN</td>\n",
       "      <td>NaN</td>\n",
       "      <td>NaN</td>\n",
       "      <td>NaN</td>\n",
       "      <td>NaN</td>\n",
       "      <td>NaN</td>\n",
       "      <td>NaN</td>\n",
       "      <td>NaN</td>\n",
       "      <td>NaN</td>\n",
       "      <td>NaN</td>\n",
       "    </tr>\n",
       "    <tr>\n",
       "      <th>10660</th>\n",
       "      <td>septiembre 2021</td>\n",
       "      <td>MX</td>\n",
       "      <td>Ciudad de México</td>\n",
       "      <td>Fresko</td>\n",
       "      <td>Laundry Detergent</td>\n",
       "      <td>984</td>\n",
       "      <td>1106701</td>\n",
       "      <td>Quitamanchas crystal white sin cloro</td>\n",
       "      <td>7501058715890</td>\n",
       "      <td>1.8 kg</td>\n",
       "      <td>...</td>\n",
       "      <td>NaN</td>\n",
       "      <td>NaN</td>\n",
       "      <td>NaN</td>\n",
       "      <td>NaN</td>\n",
       "      <td>NaN</td>\n",
       "      <td>NaN</td>\n",
       "      <td>NaN</td>\n",
       "      <td>NaN</td>\n",
       "      <td>NaN</td>\n",
       "      <td>NaN</td>\n",
       "    </tr>\n",
       "  </tbody>\n",
       "</table>\n",
       "<p>2 rows × 33 columns</p>\n",
       "</div>"
      ],
      "text/plain": [
       "               month   country          city name store_name  \\\n",
       "11468  septiembre 2021       MX  Ciudad de México   La Comer   \n",
       "10660  septiembre 2021       MX  Ciudad de México     Fresko   \n",
       "\n",
       "                         category en category_id product id  \\\n",
       "11468  Bathroom and kitchen cleaning         988     121465   \n",
       "10660              Laundry Detergent         984    1106701   \n",
       "\n",
       "                                         product name       barcodes package  \\\n",
       "11468  Deshumificador ambiental aroma primavera 400 g  7501454344007     nan   \n",
       "10660            Quitamanchas crystal white sin cloro  7501058715890  1.8 kg   \n",
       "\n",
       "       ... PROVEEDOR GENERAL PROVEEDOR ABIERTO MARCA DETALLE MARCA GENERICA  \\\n",
       "11468  ...               NaN               NaN           NaN            NaN   \n",
       "10660  ...               NaN               NaN           NaN            NaN   \n",
       "\n",
       "      GRAMAJE DESCRIPCION NIELSEN SEGMENTO SUBSEGMENTO 1 SUBSEGMENTO 2  \\\n",
       "11468     NaN                 NaN      NaN           NaN           NaN   \n",
       "10660     NaN                 NaN      NaN           NaN           NaN   \n",
       "\n",
       "      SUBSEGMENTO 3  \n",
       "11468           NaN  \n",
       "10660           NaN  \n",
       "\n",
       "[2 rows x 33 columns]"
      ]
     },
     "execution_count": 10,
     "metadata": {},
     "output_type": "execute_result"
    }
   ],
   "source": [
    "df = df.astype(str).merge(nielsen.astype(str).rename(columns={'UPC':'barcodes',\n",
    "                                                              'PRODUCT ID':'product id'}),\n",
    "                          on=['barcodes'] if nielsen_cat else ['barcodes','product id'],\n",
    "                          how='left' if nielsen_cat else 'left')\n",
    "if nielsen_cat:\n",
    "    df = df.rename(columns={'product id_x':'product_id'}).drop(columns='product id_y')\n",
    "\n",
    "df.sample(2)"
   ]
  },
  {
   "cell_type": "markdown",
   "metadata": {
    "heading_collapsed": true,
    "hidden": true
   },
   "source": [
    "### CPG"
   ]
  },
  {
   "cell_type": "code",
   "execution_count": 11,
   "metadata": {
    "ExecuteTime": {
     "end_time": "2021-07-13T15:43:37.126105Z",
     "start_time": "2021-07-13T15:43:37.041154Z"
    },
    "hidden": true
   },
   "outputs": [
    {
     "data": {
      "text/html": [
       "<div>\n",
       "<style scoped>\n",
       "    .dataframe tbody tr th:only-of-type {\n",
       "        vertical-align: middle;\n",
       "    }\n",
       "\n",
       "    .dataframe tbody tr th {\n",
       "        vertical-align: top;\n",
       "    }\n",
       "\n",
       "    .dataframe thead th {\n",
       "        text-align: right;\n",
       "    }\n",
       "</style>\n",
       "<table border=\"1\" class=\"dataframe\">\n",
       "  <thead>\n",
       "    <tr style=\"text-align: right;\">\n",
       "      <th></th>\n",
       "      <th>sales</th>\n",
       "      <th>sales_fin</th>\n",
       "      <th>dif</th>\n",
       "      <th>dif_p</th>\n",
       "    </tr>\n",
       "    <tr>\n",
       "      <th>month</th>\n",
       "      <th></th>\n",
       "      <th></th>\n",
       "      <th></th>\n",
       "      <th></th>\n",
       "    </tr>\n",
       "  </thead>\n",
       "  <tbody>\n",
       "    <tr>\n",
       "      <th>septiembre 2021</th>\n",
       "      <td>32192485.00</td>\n",
       "      <td>32192485.00</td>\n",
       "      <td>0.00</td>\n",
       "      <td>0.00</td>\n",
       "    </tr>\n",
       "  </tbody>\n",
       "</table>\n",
       "</div>"
      ],
      "text/plain": [
       "                      sales   sales_fin  dif  dif_p\n",
       "month                                              \n",
       "septiembre 2021 32192485.00 32192485.00 0.00   0.00"
      ]
     },
     "execution_count": 11,
     "metadata": {},
     "output_type": "execute_result"
    }
   ],
   "source": [
    "aux_fin = df.copy()\n",
    "aux_fin['sales'] = aux_fin['sales'].astype(str).str.replace(',','').astype(float)\n",
    "aux_fin = aux_fin.groupby('month  ')['sales'].sum().reset_index()\n",
    "aux = aux_ini.copy()\n",
    "aux = aux.set_index('month  ').join(aux_fin.set_index('month  '),rsuffix='_fin')\n",
    "aux['dif'] = aux['sales_fin'] - aux['sales']\n",
    "aux['dif_p'] = aux['sales_fin'] / (aux['sales']+1e-10) - 1\n",
    "aux"
   ]
  },
  {
   "cell_type": "code",
   "execution_count": 12,
   "metadata": {
    "ExecuteTime": {
     "end_time": "2021-07-13T15:43:37.332428Z",
     "start_time": "2021-07-13T15:43:37.145908Z"
    },
    "hidden": true
   },
   "outputs": [
    {
     "data": {
      "text/html": [
       "<div>\n",
       "<style scoped>\n",
       "    .dataframe tbody tr th:only-of-type {\n",
       "        vertical-align: middle;\n",
       "    }\n",
       "\n",
       "    .dataframe tbody tr th {\n",
       "        vertical-align: top;\n",
       "    }\n",
       "\n",
       "    .dataframe thead th {\n",
       "        text-align: right;\n",
       "    }\n",
       "</style>\n",
       "<table border=\"1\" class=\"dataframe\">\n",
       "  <thead>\n",
       "    <tr style=\"text-align: right;\">\n",
       "      <th></th>\n",
       "      <th>n</th>\n",
       "      <th>product_id</th>\n",
       "      <th>barcodes</th>\n",
       "      <th>category_id</th>\n",
       "      <th>category_name</th>\n",
       "      <th>brand_id</th>\n",
       "      <th>brand_name</th>\n",
       "      <th>cpg_id</th>\n",
       "      <th>cpg_name</th>\n",
       "    </tr>\n",
       "  </thead>\n",
       "  <tbody>\n",
       "    <tr>\n",
       "      <th>116208</th>\n",
       "      <td>1</td>\n",
       "      <td>3838767</td>\n",
       "      <td>41457161326</td>\n",
       "      <td>1498</td>\n",
       "      <td>Accesorios para cabello</td>\n",
       "      <td>466</td>\n",
       "      <td>Goody</td>\n",
       "      <td>349</td>\n",
       "      <td>Biologic Group OGX</td>\n",
       "    </tr>\n",
       "    <tr>\n",
       "      <th>28886</th>\n",
       "      <td>1</td>\n",
       "      <td>212909</td>\n",
       "      <td>7501056359119</td>\n",
       "      <td>978</td>\n",
       "      <td>Accesorios de belleza</td>\n",
       "      <td>878</td>\n",
       "      <td>Pond's</td>\n",
       "      <td>44</td>\n",
       "      <td>Unilever</td>\n",
       "    </tr>\n",
       "    <tr>\n",
       "      <th>39366</th>\n",
       "      <td>1</td>\n",
       "      <td>313287</td>\n",
       "      <td>22000018489</td>\n",
       "      <td>750</td>\n",
       "      <td>Dulces</td>\n",
       "      <td>509</td>\n",
       "      <td>Skittles</td>\n",
       "      <td>53</td>\n",
       "      <td>Mars MX Candy</td>\n",
       "    </tr>\n",
       "    <tr>\n",
       "      <th>13866</th>\n",
       "      <td>1</td>\n",
       "      <td>143670</td>\n",
       "      <td>7501299307526</td>\n",
       "      <td>107</td>\n",
       "      <td>Músculos, articulaciones y alivio del dolor</td>\n",
       "      <td>8561</td>\n",
       "      <td>Liomont</td>\n",
       "      <td>1110</td>\n",
       "      <td>Liomont</td>\n",
       "    </tr>\n",
       "  </tbody>\n",
       "</table>\n",
       "</div>"
      ],
      "text/plain": [
       "        n  product_id       barcodes  category_id  \\\n",
       "116208  1     3838767    41457161326         1498   \n",
       "28886   1      212909  7501056359119          978   \n",
       "39366   1      313287    22000018489          750   \n",
       "13866   1      143670  7501299307526          107   \n",
       "\n",
       "                                      category_name  brand_id brand_name  \\\n",
       "116208                      Accesorios para cabello       466      Goody   \n",
       "28886                         Accesorios de belleza       878     Pond's   \n",
       "39366                                        Dulces       509   Skittles   \n",
       "13866   Músculos, articulaciones y alivio del dolor      8561    Liomont   \n",
       "\n",
       "        cpg_id            cpg_name  \n",
       "116208     349  Biologic Group OGX  \n",
       "28886       44            Unilever  \n",
       "39366       53       Mars MX Candy  \n",
       "13866     1110             Liomont  "
      ]
     },
     "execution_count": 12,
     "metadata": {},
     "output_type": "execute_result"
    }
   ],
   "source": [
    "prod_cpg = pd.read_csv(os.path.join(BASE_DIR,'pbbc.csv'),\n",
    "                       #sep='\\t',encoding='utf-16'\n",
    "                      )\n",
    "prod_cpg.sample(4)"
   ]
  },
  {
   "cell_type": "code",
   "execution_count": 13,
   "metadata": {
    "ExecuteTime": {
     "end_time": "2021-07-13T15:43:37.690893Z",
     "start_time": "2021-07-13T15:43:37.334568Z"
    },
    "hidden": true
   },
   "outputs": [
    {
     "data": {
      "text/html": [
       "<div>\n",
       "<style scoped>\n",
       "    .dataframe tbody tr th:only-of-type {\n",
       "        vertical-align: middle;\n",
       "    }\n",
       "\n",
       "    .dataframe tbody tr th {\n",
       "        vertical-align: top;\n",
       "    }\n",
       "\n",
       "    .dataframe thead th {\n",
       "        text-align: right;\n",
       "    }\n",
       "</style>\n",
       "<table border=\"1\" class=\"dataframe\">\n",
       "  <thead>\n",
       "    <tr style=\"text-align: right;\">\n",
       "      <th></th>\n",
       "      <th>n</th>\n",
       "      <th>product id</th>\n",
       "      <th>barcodes</th>\n",
       "      <th>category_id</th>\n",
       "      <th>category_name</th>\n",
       "      <th>brand_id</th>\n",
       "      <th>brand_name</th>\n",
       "      <th>cpg_id</th>\n",
       "      <th>cpg_name</th>\n",
       "      <th>cpg filter</th>\n",
       "    </tr>\n",
       "  </thead>\n",
       "  <tbody>\n",
       "    <tr>\n",
       "      <th>34838</th>\n",
       "      <td>1</td>\n",
       "      <td>275078</td>\n",
       "      <td>8410010272526</td>\n",
       "      <td>1338</td>\n",
       "      <td>Aceites de oliva</td>\n",
       "      <td>796</td>\n",
       "      <td>Carbonell</td>\n",
       "      <td>394</td>\n",
       "      <td>Deoleo</td>\n",
       "      <td>Deoleo (394)</td>\n",
       "    </tr>\n",
       "    <tr>\n",
       "      <th>48555</th>\n",
       "      <td>1</td>\n",
       "      <td>337914</td>\n",
       "      <td>7500435019880</td>\n",
       "      <td>1496</td>\n",
       "      <td>Limpieza y cuidado del cabello</td>\n",
       "      <td>273</td>\n",
       "      <td>Head &amp; Shoulders</td>\n",
       "      <td>1</td>\n",
       "      <td>P&amp;G MX</td>\n",
       "      <td>P&amp;G MX (1)</td>\n",
       "    </tr>\n",
       "    <tr>\n",
       "      <th>1256</th>\n",
       "      <td>1</td>\n",
       "      <td>93047</td>\n",
       "      <td>7501017363735</td>\n",
       "      <td>974</td>\n",
       "      <td>Cuidado femenino</td>\n",
       "      <td>538</td>\n",
       "      <td>Kotex</td>\n",
       "      <td>50</td>\n",
       "      <td>Kimberly Clark</td>\n",
       "      <td>Kimberly Clark (50)</td>\n",
       "    </tr>\n",
       "    <tr>\n",
       "      <th>97901</th>\n",
       "      <td>1</td>\n",
       "      <td>2177503</td>\n",
       "      <td>71691532026</td>\n",
       "      <td>1539</td>\n",
       "      <td>Basureros</td>\n",
       "      <td>3078</td>\n",
       "      <td>Rubbermaid</td>\n",
       "      <td>975</td>\n",
       "      <td>Newell Brands</td>\n",
       "      <td>Newell Brands (975)</td>\n",
       "    </tr>\n",
       "  </tbody>\n",
       "</table>\n",
       "</div>"
      ],
      "text/plain": [
       "       n product id       barcodes category_id  \\\n",
       "34838  1     275078  8410010272526        1338   \n",
       "48555  1     337914  7500435019880        1496   \n",
       "1256   1      93047  7501017363735         974   \n",
       "97901  1    2177503    71691532026        1539   \n",
       "\n",
       "                        category_name brand_id        brand_name cpg_id  \\\n",
       "34838                Aceites de oliva      796         Carbonell    394   \n",
       "48555  Limpieza y cuidado del cabello      273  Head & Shoulders      1   \n",
       "1256                 Cuidado femenino      538             Kotex     50   \n",
       "97901                       Basureros     3078        Rubbermaid    975   \n",
       "\n",
       "             cpg_name           cpg filter  \n",
       "34838          Deoleo         Deoleo (394)  \n",
       "48555          P&G MX           P&G MX (1)  \n",
       "1256   Kimberly Clark  Kimberly Clark (50)  \n",
       "97901   Newell Brands  Newell Brands (975)  "
      ]
     },
     "execution_count": 13,
     "metadata": {},
     "output_type": "execute_result"
    }
   ],
   "source": [
    "prod_cpg.drop_duplicates(('barcodes' if nielsen_cat else 'product_id'),inplace=True)\n",
    "prod_cpg = prod_cpg.astype(str).rename(columns={'product_id':'product id'})\n",
    "prod_cpg['cpg filter'] = prod_cpg['cpg_name']+\" (\"+prod_cpg['cpg_id'].astype(str)+\")\"\n",
    "prod_cpg.sample(4)"
   ]
  },
  {
   "cell_type": "code",
   "execution_count": 14,
   "metadata": {
    "ExecuteTime": {
     "end_time": "2021-07-13T15:43:37.727933Z",
     "start_time": "2021-07-13T15:43:37.692574Z"
    },
    "hidden": true
   },
   "outputs": [],
   "source": [
    "df = df.merge(prod_cpg[[('barcodes' if nielsen_cat else 'product id'),'cpg filter']],\n",
    "              on=('barcodes' if nielsen_cat else 'product id'),how='left')"
   ]
  },
  {
   "cell_type": "code",
   "execution_count": 15,
   "metadata": {
    "ExecuteTime": {
     "end_time": "2021-07-13T15:43:37.763966Z",
     "start_time": "2021-07-13T15:43:37.730080Z"
    },
    "hidden": true
   },
   "outputs": [
    {
     "data": {
      "text/html": [
       "<div>\n",
       "<style scoped>\n",
       "    .dataframe tbody tr th:only-of-type {\n",
       "        vertical-align: middle;\n",
       "    }\n",
       "\n",
       "    .dataframe tbody tr th {\n",
       "        vertical-align: top;\n",
       "    }\n",
       "\n",
       "    .dataframe thead th {\n",
       "        text-align: right;\n",
       "    }\n",
       "</style>\n",
       "<table border=\"1\" class=\"dataframe\">\n",
       "  <thead>\n",
       "    <tr style=\"text-align: right;\">\n",
       "      <th></th>\n",
       "      <th>sales</th>\n",
       "      <th>sales_fin</th>\n",
       "      <th>dif</th>\n",
       "      <th>dif_p</th>\n",
       "    </tr>\n",
       "    <tr>\n",
       "      <th>month</th>\n",
       "      <th></th>\n",
       "      <th></th>\n",
       "      <th></th>\n",
       "      <th></th>\n",
       "    </tr>\n",
       "  </thead>\n",
       "  <tbody>\n",
       "    <tr>\n",
       "      <th>septiembre 2021</th>\n",
       "      <td>32192485.00</td>\n",
       "      <td>32192485.00</td>\n",
       "      <td>0.00</td>\n",
       "      <td>0.00</td>\n",
       "    </tr>\n",
       "  </tbody>\n",
       "</table>\n",
       "</div>"
      ],
      "text/plain": [
       "                      sales   sales_fin  dif  dif_p\n",
       "month                                              \n",
       "septiembre 2021 32192485.00 32192485.00 0.00   0.00"
      ]
     },
     "execution_count": 15,
     "metadata": {},
     "output_type": "execute_result"
    }
   ],
   "source": [
    "aux_fin = df.copy()\n",
    "aux_fin['sales'] = aux_fin['sales'].astype(str).str.replace(',','').astype(float)\n",
    "aux_fin = aux_fin.groupby('month  ')['sales'].sum().reset_index()\n",
    "aux = aux_ini.copy()\n",
    "aux = aux.set_index('month  ').join(aux_fin.set_index('month  '),rsuffix='_fin')\n",
    "aux['dif'] = aux['sales_fin'] - aux['sales']\n",
    "aux['dif_p'] = aux['sales_fin'] / (aux['sales']+1e-10) - 1\n",
    "aux"
   ]
  },
  {
   "cell_type": "markdown",
   "metadata": {
    "heading_collapsed": true,
    "hidden": true
   },
   "source": [
    "### Limpio"
   ]
  },
  {
   "cell_type": "code",
   "execution_count": 16,
   "metadata": {
    "ExecuteTime": {
     "end_time": "2021-07-13T15:43:37.960829Z",
     "start_time": "2021-07-13T15:43:37.765697Z"
    },
    "hidden": true
   },
   "outputs": [
    {
     "data": {
      "text/html": [
       "<div>\n",
       "<style scoped>\n",
       "    .dataframe tbody tr th:only-of-type {\n",
       "        vertical-align: middle;\n",
       "    }\n",
       "\n",
       "    .dataframe tbody tr th {\n",
       "        vertical-align: top;\n",
       "    }\n",
       "\n",
       "    .dataframe thead th {\n",
       "        text-align: right;\n",
       "    }\n",
       "</style>\n",
       "<table border=\"1\" class=\"dataframe\">\n",
       "  <thead>\n",
       "    <tr style=\"text-align: right;\">\n",
       "      <th></th>\n",
       "      <th>city_name</th>\n",
       "      <th>store_name</th>\n",
       "      <th>category_en</th>\n",
       "      <th>category_id</th>\n",
       "      <th>product_id</th>\n",
       "      <th>product_name</th>\n",
       "      <th>barcodes</th>\n",
       "      <th>package</th>\n",
       "      <th>product_sku</th>\n",
       "      <th>brand_filter</th>\n",
       "      <th>...</th>\n",
       "      <th>subsegmento_1</th>\n",
       "      <th>subsegmento_2</th>\n",
       "      <th>subsegmento_3</th>\n",
       "      <th>cpg_filter</th>\n",
       "      <th>mes</th>\n",
       "      <th>anio</th>\n",
       "      <th>brand_id</th>\n",
       "      <th>brand_name</th>\n",
       "      <th>cpg_id</th>\n",
       "      <th>cpg_name</th>\n",
       "    </tr>\n",
       "  </thead>\n",
       "  <tbody>\n",
       "    <tr>\n",
       "      <th>36684</th>\n",
       "      <td>Querétaro</td>\n",
       "      <td>La Comer</td>\n",
       "      <td>Body lotion &amp; soaps</td>\n",
       "      <td>964</td>\n",
       "      <td>324710</td>\n",
       "      <td>Repuesto jabón líquido manos aroma kiwi</td>\n",
       "      <td>7506267907999</td>\n",
       "      <td>1050 ml</td>\n",
       "      <td>nan</td>\n",
       "      <td>Blumen (3990)</td>\n",
       "      <td>...</td>\n",
       "      <td>NaN</td>\n",
       "      <td>NaN</td>\n",
       "      <td>NaN</td>\n",
       "      <td>NaN</td>\n",
       "      <td>9</td>\n",
       "      <td>2021</td>\n",
       "      <td>3990</td>\n",
       "      <td>Blumen</td>\n",
       "      <td></td>\n",
       "      <td>nan</td>\n",
       "    </tr>\n",
       "    <tr>\n",
       "      <th>21027</th>\n",
       "      <td>Hermosillo</td>\n",
       "      <td>Soriana</td>\n",
       "      <td>Bathroom and kitchen cleaning</td>\n",
       "      <td>988</td>\n",
       "      <td>315408</td>\n",
       "      <td>Cloro aroma a lavanda</td>\n",
       "      <td>7501025402242</td>\n",
       "      <td>3.78 l</td>\n",
       "      <td>322224</td>\n",
       "      <td>Blancatel (6545)</td>\n",
       "      <td>...</td>\n",
       "      <td>NaN</td>\n",
       "      <td>NaN</td>\n",
       "      <td>NaN</td>\n",
       "      <td>Alen (20)</td>\n",
       "      <td>9</td>\n",
       "      <td>2021</td>\n",
       "      <td>6545</td>\n",
       "      <td>Blancatel</td>\n",
       "      <td>20</td>\n",
       "      <td>Alen</td>\n",
       "    </tr>\n",
       "  </tbody>\n",
       "</table>\n",
       "<p>2 rows × 34 columns</p>\n",
       "</div>"
      ],
      "text/plain": [
       "        city_name store_name                    category_en category_id  \\\n",
       "36684   Querétaro   La Comer            Body lotion & soaps         964   \n",
       "21027  Hermosillo    Soriana  Bathroom and kitchen cleaning         988   \n",
       "\n",
       "      product_id                             product_name       barcodes  \\\n",
       "36684     324710  Repuesto jabón líquido manos aroma kiwi  7506267907999   \n",
       "21027     315408                    Cloro aroma a lavanda  7501025402242   \n",
       "\n",
       "       package product_sku      brand_filter  ... subsegmento_1 subsegmento_2  \\\n",
       "36684  1050 ml         nan     Blumen (3990)  ...           NaN           NaN   \n",
       "21027   3.78 l      322224  Blancatel (6545)  ...           NaN           NaN   \n",
       "\n",
       "      subsegmento_3 cpg_filter mes  anio brand_id brand_name cpg_id cpg_name  \n",
       "36684           NaN        NaN   9  2021     3990     Blumen             nan  \n",
       "21027           NaN  Alen (20)   9  2021     6545  Blancatel     20     Alen  \n",
       "\n",
       "[2 rows x 34 columns]"
      ]
     },
     "execution_count": 16,
     "metadata": {},
     "output_type": "execute_result"
    }
   ],
   "source": [
    "df = limpio(df,'month  ',\n",
    "            ['month  ','country ','avg ticket','found rate','fulfillment','frequency'])\n",
    "df.sample(2)"
   ]
  },
  {
   "cell_type": "code",
   "execution_count": 17,
   "metadata": {
    "ExecuteTime": {
     "end_time": "2021-07-13T15:43:37.996519Z",
     "start_time": "2021-07-13T15:43:37.962660Z"
    },
    "hidden": true
   },
   "outputs": [
    {
     "data": {
      "text/html": [
       "<div>\n",
       "<style scoped>\n",
       "    .dataframe tbody tr th:only-of-type {\n",
       "        vertical-align: middle;\n",
       "    }\n",
       "\n",
       "    .dataframe tbody tr th {\n",
       "        vertical-align: top;\n",
       "    }\n",
       "\n",
       "    .dataframe thead th {\n",
       "        text-align: right;\n",
       "    }\n",
       "</style>\n",
       "<table border=\"1\" class=\"dataframe\">\n",
       "  <thead>\n",
       "    <tr style=\"text-align: right;\">\n",
       "      <th></th>\n",
       "      <th>sales</th>\n",
       "      <th>sales_fin</th>\n",
       "      <th>dif</th>\n",
       "      <th>dif_p</th>\n",
       "    </tr>\n",
       "    <tr>\n",
       "      <th>month</th>\n",
       "      <th></th>\n",
       "      <th></th>\n",
       "      <th></th>\n",
       "      <th></th>\n",
       "    </tr>\n",
       "  </thead>\n",
       "  <tbody>\n",
       "    <tr>\n",
       "      <th>sep</th>\n",
       "      <td>32192485.00</td>\n",
       "      <td>32192485.00</td>\n",
       "      <td>0.00</td>\n",
       "      <td>0.00</td>\n",
       "    </tr>\n",
       "  </tbody>\n",
       "</table>\n",
       "</div>"
      ],
      "text/plain": [
       "              sales   sales_fin  dif  dif_p\n",
       "month                                      \n",
       "sep     32192485.00 32192485.00 0.00   0.00"
      ]
     },
     "execution_count": 17,
     "metadata": {},
     "output_type": "execute_result"
    }
   ],
   "source": [
    "aux_fin = df.copy()\n",
    "aux_fin['sales'] = aux_fin['sales'].astype(str).str.replace(',','').astype(float)\n",
    "aux_fin = aux_fin.groupby('mes')['sales'].sum().reset_index()\n",
    "aux_fin['mes'] = aux_fin['mes'].astype(int).map(dict(zip(range(1,13),\n",
    "                                               ['ene','feb','mar','abr','may','jun',\n",
    "                                                'jul','ago','sep','oct','nov','dic'])))\n",
    "aux = aux_ini.copy()\n",
    "aux['month  '] = aux['month  '].str.split().str[0].str[:3]\n",
    "aux = aux.set_index('month  ').join(aux_fin.set_index('mes'),rsuffix='_fin')\n",
    "aux['dif'] = aux['sales_fin'] - aux['sales']\n",
    "aux['dif_p'] = aux['sales_fin'] / (aux['sales']+1e-10) - 1\n",
    "aux"
   ]
  },
  {
   "cell_type": "code",
   "execution_count": 18,
   "metadata": {
    "ExecuteTime": {
     "end_time": "2021-07-13T15:43:38.034150Z",
     "start_time": "2021-07-13T15:43:37.998506Z"
    },
    "hidden": true
   },
   "outputs": [],
   "source": [
    "aux = df[df['formato'].astype(str)=='nan'].copy()\n",
    "df = df[~(df['formato'].astype(str)=='nan')].copy()\n",
    "null_fill = {'proveedor_general':'cpg_name',\n",
    "             'proveedor_abierto':'cpg_name',\n",
    "             'marca_detalle':'brand_name',\n",
    "             'marca_generica':'brand_name',\n",
    "             'gramaje':'package',\n",
    "             'descripcion_nielsen':'product_name',\n",
    "             'segmento':'category_en'}\n",
    "for x,y in null_fill.items():\n",
    "    aux.loc[:,x] = aux.loc[:,y]\n",
    "    \n",
    "df = df.append(aux,ignore_index=True)"
   ]
  },
  {
   "cell_type": "code",
   "execution_count": 19,
   "metadata": {
    "ExecuteTime": {
     "end_time": "2021-07-13T15:43:38.493036Z",
     "start_time": "2021-07-13T15:43:38.035928Z"
    },
    "hidden": true
   },
   "outputs": [
    {
     "data": {
      "text/html": [
       "<div>\n",
       "<style scoped>\n",
       "    .dataframe tbody tr th:only-of-type {\n",
       "        vertical-align: middle;\n",
       "    }\n",
       "\n",
       "    .dataframe tbody tr th {\n",
       "        vertical-align: top;\n",
       "    }\n",
       "\n",
       "    .dataframe thead th {\n",
       "        text-align: right;\n",
       "    }\n",
       "</style>\n",
       "<table border=\"1\" class=\"dataframe\">\n",
       "  <thead>\n",
       "    <tr style=\"text-align: right;\">\n",
       "      <th></th>\n",
       "      <th>city_name</th>\n",
       "      <th>store_name</th>\n",
       "      <th>category_en</th>\n",
       "      <th>category_id</th>\n",
       "      <th>product_id</th>\n",
       "      <th>product_name</th>\n",
       "      <th>barcodes</th>\n",
       "      <th>package</th>\n",
       "      <th>product_sku</th>\n",
       "      <th>brand_filter</th>\n",
       "      <th>...</th>\n",
       "      <th>segmento</th>\n",
       "      <th>subsegmento_1</th>\n",
       "      <th>subsegmento_2</th>\n",
       "      <th>subsegmento_3</th>\n",
       "      <th>cpg_filter</th>\n",
       "      <th>mes</th>\n",
       "      <th>anio</th>\n",
       "      <th>brand_id</th>\n",
       "      <th>brand_name</th>\n",
       "      <th>cpg_id</th>\n",
       "    </tr>\n",
       "  </thead>\n",
       "  <tbody>\n",
       "    <tr>\n",
       "      <th>32890</th>\n",
       "      <td>Puebla</td>\n",
       "      <td>La Comer</td>\n",
       "      <td>Oral care</td>\n",
       "      <td>967</td>\n",
       "      <td>342252</td>\n",
       "      <td>Crema dental para la sensibilidad</td>\n",
       "      <td>7794640170133</td>\n",
       "      <td>Tubo 100 g</td>\n",
       "      <td></td>\n",
       "      <td>Sensodyne (853)</td>\n",
       "      <td>...</td>\n",
       "      <td>Oral care</td>\n",
       "      <td></td>\n",
       "      <td></td>\n",
       "      <td></td>\n",
       "      <td>GSK MX (276)</td>\n",
       "      <td>9</td>\n",
       "      <td>2021</td>\n",
       "      <td>853</td>\n",
       "      <td>Sensodyne</td>\n",
       "      <td>276</td>\n",
       "    </tr>\n",
       "  </tbody>\n",
       "</table>\n",
       "<p>1 rows × 33 columns</p>\n",
       "</div>"
      ],
      "text/plain": [
       "      city_name store_name category_en category_id product_id  \\\n",
       "32890    Puebla   La Comer   Oral care         967     342252   \n",
       "\n",
       "                            product_name       barcodes     package  \\\n",
       "32890  Crema dental para la sensibilidad  7794640170133  Tubo 100 g   \n",
       "\n",
       "      product_sku     brand_filter  ...   segmento subsegmento_1  \\\n",
       "32890              Sensodyne (853)  ...  Oral care                 \n",
       "\n",
       "      subsegmento_2 subsegmento_3    cpg_filter mes  anio brand_id brand_name  \\\n",
       "32890                              GSK MX (276)   9  2021      853  Sensodyne   \n",
       "\n",
       "      cpg_id  \n",
       "32890    276  \n",
       "\n",
       "[1 rows x 33 columns]"
      ]
     },
     "execution_count": 19,
     "metadata": {},
     "output_type": "execute_result"
    }
   ],
   "source": [
    "for col in df.columns:\n",
    "    df[col] = df[col].astype(str).str.replace('nan','')\n",
    "    \n",
    "df = df.drop(columns='cpg_name').fillna('')\n",
    "df.sample()"
   ]
  },
  {
   "cell_type": "code",
   "execution_count": 20,
   "metadata": {},
   "outputs": [
    {
     "data": {
      "text/html": [
       "<div>\n",
       "<style scoped>\n",
       "    .dataframe tbody tr th:only-of-type {\n",
       "        vertical-align: middle;\n",
       "    }\n",
       "\n",
       "    .dataframe tbody tr th {\n",
       "        vertical-align: top;\n",
       "    }\n",
       "\n",
       "    .dataframe thead th {\n",
       "        text-align: right;\n",
       "    }\n",
       "</style>\n",
       "<table border=\"1\" class=\"dataframe\">\n",
       "  <thead>\n",
       "    <tr style=\"text-align: right;\">\n",
       "      <th></th>\n",
       "      <th>formato</th>\n",
       "      <th>proveedor_general</th>\n",
       "      <th>proveedor_abierto</th>\n",
       "      <th>marca_detalle</th>\n",
       "      <th>marca_generica</th>\n",
       "      <th>gramaje</th>\n",
       "      <th>descripcion_nielsen</th>\n",
       "      <th>segmento</th>\n",
       "      <th>subsegmento_1</th>\n",
       "      <th>subsegmento_2</th>\n",
       "      <th>subsegmento_3</th>\n",
       "    </tr>\n",
       "  </thead>\n",
       "  <tbody>\n",
       "    <tr>\n",
       "      <th>39365</th>\n",
       "      <td></td>\n",
       "      <td>Genomma Lab</td>\n",
       "      <td>Genomma Lab</td>\n",
       "      <td>Nordiko</td>\n",
       "      <td>Nordiko</td>\n",
       "      <td>100 g</td>\n",
       "      <td>Jabón desodorante Nórdico</td>\n",
       "      <td>Body lotion &amp; soaps</td>\n",
       "      <td></td>\n",
       "      <td></td>\n",
       "      <td></td>\n",
       "    </tr>\n",
       "  </tbody>\n",
       "</table>\n",
       "</div>"
      ],
      "text/plain": [
       "      formato proveedor_general proveedor_abierto marca_detalle  \\\n",
       "39365               Genomma Lab       Genomma Lab       Nordiko   \n",
       "\n",
       "      marca_generica gramaje        descripcion_nielsen             segmento  \\\n",
       "39365        Nordiko   100 g  Jabón desodorante Nórdico  Body lotion & soaps   \n",
       "\n",
       "      subsegmento_1 subsegmento_2 subsegmento_3  \n",
       "39365                                            "
      ]
     },
     "metadata": {},
     "output_type": "display_data"
    },
    {
     "data": {
      "text/html": [
       "<div>\n",
       "<style scoped>\n",
       "    .dataframe tbody tr th:only-of-type {\n",
       "        vertical-align: middle;\n",
       "    }\n",
       "\n",
       "    .dataframe tbody tr th {\n",
       "        vertical-align: top;\n",
       "    }\n",
       "\n",
       "    .dataframe thead th {\n",
       "        text-align: right;\n",
       "    }\n",
       "</style>\n",
       "<table border=\"1\" class=\"dataframe\">\n",
       "  <thead>\n",
       "    <tr style=\"text-align: right;\">\n",
       "      <th></th>\n",
       "      <th>formato</th>\n",
       "      <th>proveedor_general</th>\n",
       "      <th>proveedor_abierto</th>\n",
       "      <th>marca_detalle</th>\n",
       "      <th>marca_generica</th>\n",
       "      <th>gramaje</th>\n",
       "      <th>descripcion_nielsen</th>\n",
       "      <th>segmento</th>\n",
       "      <th>subsegmento_1</th>\n",
       "      <th>subsegmento_2</th>\n",
       "      <th>subsegmento_3</th>\n",
       "    </tr>\n",
       "  </thead>\n",
       "  <tbody>\n",
       "    <tr>\n",
       "      <th>30195</th>\n",
       "      <td></td>\n",
       "      <td>Colgate Palmolive</td>\n",
       "      <td>Colgate Palmolive</td>\n",
       "      <td>Colgate</td>\n",
       "      <td>Colgate</td>\n",
       "      <td>75 Ml</td>\n",
       "      <td>Pasta Dental Liga De La Justicia</td>\n",
       "      <td>Oral Care</td>\n",
       "      <td></td>\n",
       "      <td></td>\n",
       "      <td></td>\n",
       "    </tr>\n",
       "  </tbody>\n",
       "</table>\n",
       "</div>"
      ],
      "text/plain": [
       "      formato  proveedor_general  proveedor_abierto marca_detalle  \\\n",
       "30195          Colgate Palmolive  Colgate Palmolive       Colgate   \n",
       "\n",
       "      marca_generica gramaje               descripcion_nielsen   segmento  \\\n",
       "30195        Colgate   75 Ml  Pasta Dental Liga De La Justicia  Oral Care   \n",
       "\n",
       "      subsegmento_1 subsegmento_2 subsegmento_3  \n",
       "30195                                            "
      ]
     },
     "metadata": {},
     "output_type": "display_data"
    }
   ],
   "source": [
    "brand_cols = ['formato','proveedor_general','proveedor_abierto','marca_detalle','marca_generica','gramaje','descripcion_nielsen','segmento','subsegmento_1','subsegmento_2','subsegmento_3']\n",
    "display(df[brand_cols].sample())\n",
    "\n",
    "for col in brand_cols:\n",
    "    df[col] = df[col].str.strip().str.title()\n",
    "\n",
    "display(df[brand_cols].sample())"
   ]
  },
  {
   "cell_type": "code",
   "execution_count": 21,
   "metadata": {
    "ExecuteTime": {
     "end_time": "2021-07-13T15:43:38.521871Z",
     "start_time": "2021-07-13T15:43:38.494486Z"
    },
    "hidden": true
   },
   "outputs": [
    {
     "data": {
      "text/html": [
       "<div>\n",
       "<style scoped>\n",
       "    .dataframe tbody tr th:only-of-type {\n",
       "        vertical-align: middle;\n",
       "    }\n",
       "\n",
       "    .dataframe tbody tr th {\n",
       "        vertical-align: top;\n",
       "    }\n",
       "\n",
       "    .dataframe thead th {\n",
       "        text-align: right;\n",
       "    }\n",
       "</style>\n",
       "<table border=\"1\" class=\"dataframe\">\n",
       "  <thead>\n",
       "    <tr style=\"text-align: right;\">\n",
       "      <th></th>\n",
       "      <th>mes</th>\n",
       "      <th>sales</th>\n",
       "    </tr>\n",
       "  </thead>\n",
       "  <tbody>\n",
       "    <tr>\n",
       "      <th>0</th>\n",
       "      <td>sep</td>\n",
       "      <td>32192485.00</td>\n",
       "    </tr>\n",
       "  </tbody>\n",
       "</table>\n",
       "</div>"
      ],
      "text/plain": [
       "   mes       sales\n",
       "0  sep 32192485.00"
      ]
     },
     "execution_count": 21,
     "metadata": {},
     "output_type": "execute_result"
    }
   ],
   "source": [
    "aux_fin = df.copy()\n",
    "aux_fin['sales'] = aux_fin['sales'].astype(str).str.replace(',','').astype(float)\n",
    "aux_fin = aux_fin.groupby('mes')['sales'].sum().reset_index()\n",
    "aux_fin['mes'] = aux_fin['mes'].astype(int).map(dict(zip(range(1,13),\n",
    "                                               ['ene','feb','mar','abr','may','jun',\n",
    "                                                'jul','ago','sep','oct','nov','dic'])))\n",
    "aux_fin"
   ]
  },
  {
   "cell_type": "markdown",
   "metadata": {},
   "source": [
    "### Marca genérica"
   ]
  },
  {
   "cell_type": "code",
   "execution_count": 22,
   "metadata": {},
   "outputs": [
    {
     "data": {
      "text/html": [
       "<div>\n",
       "<style scoped>\n",
       "    .dataframe tbody tr th:only-of-type {\n",
       "        vertical-align: middle;\n",
       "    }\n",
       "\n",
       "    .dataframe tbody tr th {\n",
       "        vertical-align: top;\n",
       "    }\n",
       "\n",
       "    .dataframe thead th {\n",
       "        text-align: right;\n",
       "    }\n",
       "</style>\n",
       "<table border=\"1\" class=\"dataframe\">\n",
       "  <thead>\n",
       "    <tr style=\"text-align: right;\">\n",
       "      <th></th>\n",
       "      <th>city_name</th>\n",
       "      <th>store_name</th>\n",
       "      <th>category_en</th>\n",
       "      <th>category_id</th>\n",
       "      <th>product_id</th>\n",
       "      <th>product_name</th>\n",
       "      <th>barcodes</th>\n",
       "      <th>package</th>\n",
       "      <th>product_sku</th>\n",
       "      <th>brand_filter</th>\n",
       "      <th>...</th>\n",
       "      <th>segmento</th>\n",
       "      <th>subsegmento_1</th>\n",
       "      <th>subsegmento_2</th>\n",
       "      <th>subsegmento_3</th>\n",
       "      <th>cpg_filter</th>\n",
       "      <th>mes</th>\n",
       "      <th>anio</th>\n",
       "      <th>brand_id</th>\n",
       "      <th>brand_name</th>\n",
       "      <th>cpg_id</th>\n",
       "    </tr>\n",
       "  </thead>\n",
       "  <tbody>\n",
       "  </tbody>\n",
       "</table>\n",
       "<p>0 rows × 33 columns</p>\n",
       "</div>"
      ],
      "text/plain": [
       "Empty DataFrame\n",
       "Columns: [city_name, store_name, category_en, category_id, product_id, product_name, barcodes, package, product_sku, brand_filter, sales, orders, users, units_found, units_replaced, units_requested, formato, proveedor_general, proveedor_abierto, marca_detalle, marca_generica, gramaje, descripcion_nielsen, segmento, subsegmento_1, subsegmento_2, subsegmento_3, cpg_filter, mes, anio, brand_id, brand_name, cpg_id]\n",
       "Index: []\n",
       "\n",
       "[0 rows x 33 columns]"
      ]
     },
     "execution_count": 22,
     "metadata": {},
     "output_type": "execute_result"
    }
   ],
   "source": [
    "df.loc[df[df['marca_generica']==''].index, 'marca_generica'] = df.loc[df[df['marca_generica']==''].index, 'marca_detalle']\n",
    "df[df['marca_generica']=='']"
   ]
  },
  {
   "cell_type": "markdown",
   "metadata": {
    "heading_collapsed": true
   },
   "source": [
    "## Export"
   ]
  },
  {
   "cell_type": "markdown",
   "metadata": {
    "heading_collapsed": true,
    "hidden": true
   },
   "source": [
    "### Same product_id as past"
   ]
  },
  {
   "cell_type": "code",
   "execution_count": 23,
   "metadata": {
    "ExecuteTime": {
     "end_time": "2021-07-13T15:43:38.527550Z",
     "start_time": "2021-07-13T15:43:38.523698Z"
    },
    "hidden": true
   },
   "outputs": [
    {
     "name": "stdout",
     "output_type": "stream",
     "text": [
      "41893\n",
      "34734\n"
     ]
    }
   ],
   "source": [
    "print(len(df))\n",
    "if past:\n",
    "    som = pd.ExcelFile(os.path.join('/'.join(BASE_DIR.split('/')[:-2]),\n",
    "                                    f'SoM_{SOM_CPG}.xlsx')).parse(sheet_name=0)\n",
    "    df = df.merge(som.drop_duplicates('product_id')[['product_id']].reset_index(drop=True).astype(str))\n",
    "    \n",
    "print(len(df))"
   ]
  },
  {
   "cell_type": "code",
   "execution_count": 24,
   "metadata": {
    "ExecuteTime": {
     "end_time": "2021-07-13T15:43:38.558812Z",
     "start_time": "2021-07-13T15:43:38.534231Z"
    },
    "hidden": true
   },
   "outputs": [],
   "source": [
    "aux_fin = df.copy()\n",
    "aux_fin['sales'] = aux_fin['sales'].astype(str).str.replace(',','').astype(float)\n",
    "aux_fin = aux_fin.groupby('mes')['sales'].sum().reset_index()\n",
    "aux_fin['mes'] = aux_fin['mes'].astype(int).map(dict(zip(range(1,13),\n",
    "                                               ['ene','feb','mar','abr','may','jun',\n",
    "                                                'jul','ago','sep','oct','nov','dic'])))"
   ]
  },
  {
   "cell_type": "code",
   "execution_count": 25,
   "metadata": {
    "ExecuteTime": {
     "end_time": "2021-07-13T15:43:38.571022Z",
     "start_time": "2021-07-13T15:43:38.562800Z"
    },
    "hidden": true
   },
   "outputs": [],
   "source": [
    "aux = aux_ini.copy()\n",
    "aux['month  '] = aux['month  '].str.split().str[0].str[:3]\n",
    "aux = aux.set_index('month  ').join(aux_fin.set_index('mes'),rsuffix='_fin')\n",
    "aux['dif'] = aux['sales_fin'] - aux['sales']\n",
    "aux['dif_p'] = aux['sales_fin'] / (aux['sales']+1e-10) - 1"
   ]
  },
  {
   "cell_type": "markdown",
   "metadata": {
    "heading_collapsed": true,
    "hidden": true
   },
   "source": [
    "### Ordered columns"
   ]
  },
  {
   "cell_type": "code",
   "execution_count": 26,
   "metadata": {
    "ExecuteTime": {
     "end_time": "2021-07-13T15:43:38.605441Z",
     "start_time": "2021-07-13T15:43:38.572625Z"
    },
    "hidden": true
   },
   "outputs": [
    {
     "data": {
      "text/html": [
       "<div>\n",
       "<style scoped>\n",
       "    .dataframe tbody tr th:only-of-type {\n",
       "        vertical-align: middle;\n",
       "    }\n",
       "\n",
       "    .dataframe tbody tr th {\n",
       "        vertical-align: top;\n",
       "    }\n",
       "\n",
       "    .dataframe thead th {\n",
       "        text-align: right;\n",
       "    }\n",
       "</style>\n",
       "<table border=\"1\" class=\"dataframe\">\n",
       "  <thead>\n",
       "    <tr style=\"text-align: right;\">\n",
       "      <th></th>\n",
       "      <th>city_name</th>\n",
       "      <th>store_name</th>\n",
       "      <th>category_en</th>\n",
       "      <th>category_id</th>\n",
       "      <th>product_id</th>\n",
       "      <th>product_name</th>\n",
       "      <th>barcodes</th>\n",
       "      <th>package</th>\n",
       "      <th>product_sku</th>\n",
       "      <th>brand_name</th>\n",
       "      <th>...</th>\n",
       "      <th>marca_detalle</th>\n",
       "      <th>marca_generica</th>\n",
       "      <th>gramaje</th>\n",
       "      <th>descripcion_nielsen</th>\n",
       "      <th>segmento</th>\n",
       "      <th>subsegmento_1</th>\n",
       "      <th>subsegmento_2</th>\n",
       "      <th>subsegmento_3</th>\n",
       "      <th>mes</th>\n",
       "      <th>anio</th>\n",
       "    </tr>\n",
       "  </thead>\n",
       "  <tbody>\n",
       "    <tr>\n",
       "      <th>10268</th>\n",
       "      <td>Ciudad de México</td>\n",
       "      <td>Soriana</td>\n",
       "      <td>Air Fresheners &amp; Candles</td>\n",
       "      <td>990</td>\n",
       "      <td>355837</td>\n",
       "      <td>Aromatizante en aerosol magnolia y cherry</td>\n",
       "      <td>7501058711670</td>\n",
       "      <td>226 g</td>\n",
       "      <td></td>\n",
       "      <td>Air Wick</td>\n",
       "      <td>...</td>\n",
       "      <td>Air Wick</td>\n",
       "      <td>Air Wick</td>\n",
       "      <td>226 G</td>\n",
       "      <td>Aromatizante En Aerosol Magnolia Y Cherry</td>\n",
       "      <td>Air Fresheners &amp; Candles</td>\n",
       "      <td></td>\n",
       "      <td></td>\n",
       "      <td></td>\n",
       "      <td>9</td>\n",
       "      <td>2021</td>\n",
       "    </tr>\n",
       "    <tr>\n",
       "      <th>20612</th>\n",
       "      <td>Querétaro</td>\n",
       "      <td>La Comer</td>\n",
       "      <td>Laundry Detergent</td>\n",
       "      <td>984</td>\n",
       "      <td>1153392</td>\n",
       "      <td>Detergente líquido concentrado</td>\n",
       "      <td>7500435139908</td>\n",
       "      <td>1.2 l</td>\n",
       "      <td>7500435139908</td>\n",
       "      <td>Ariel</td>\n",
       "      <td>...</td>\n",
       "      <td>Ariel</td>\n",
       "      <td>Ariel</td>\n",
       "      <td>1.2 L</td>\n",
       "      <td>Detergente Líquido Concentrado</td>\n",
       "      <td>Laundry Detergent</td>\n",
       "      <td></td>\n",
       "      <td></td>\n",
       "      <td></td>\n",
       "      <td>9</td>\n",
       "      <td>2021</td>\n",
       "    </tr>\n",
       "    <tr>\n",
       "      <th>27280</th>\n",
       "      <td>Ciudad de México</td>\n",
       "      <td>Chedraui</td>\n",
       "      <td>Air Fresheners &amp; Candles</td>\n",
       "      <td>990</td>\n",
       "      <td>3480859</td>\n",
       "      <td>Vela taco rústico rojo granat</td>\n",
       "      <td>8436551846422</td>\n",
       "      <td>1 pieza</td>\n",
       "      <td>000000000003601132</td>\n",
       "      <td>Ambientair</td>\n",
       "      <td>...</td>\n",
       "      <td>Ambientair</td>\n",
       "      <td>Ambientair</td>\n",
       "      <td>1 Pieza</td>\n",
       "      <td>Vela Taco Rústico Rojo Granat</td>\n",
       "      <td>Air Fresheners &amp; Candles</td>\n",
       "      <td></td>\n",
       "      <td></td>\n",
       "      <td></td>\n",
       "      <td>9</td>\n",
       "      <td>2021</td>\n",
       "    </tr>\n",
       "    <tr>\n",
       "      <th>33022</th>\n",
       "      <td>Guadalajara</td>\n",
       "      <td>Soriana</td>\n",
       "      <td>Floor and furniture cleaning</td>\n",
       "      <td>989</td>\n",
       "      <td>2265072</td>\n",
       "      <td>Limpiador multiusos limón</td>\n",
       "      <td>7500093751351</td>\n",
       "      <td>5 l</td>\n",
       "      <td></td>\n",
       "      <td>Precissimo</td>\n",
       "      <td>...</td>\n",
       "      <td>Precissimo</td>\n",
       "      <td>Precissimo</td>\n",
       "      <td>5 L</td>\n",
       "      <td>Limpiador Multiusos Limón</td>\n",
       "      <td>Floor And Furniture Cleaning</td>\n",
       "      <td></td>\n",
       "      <td></td>\n",
       "      <td></td>\n",
       "      <td>9</td>\n",
       "      <td>2021</td>\n",
       "    </tr>\n",
       "  </tbody>\n",
       "</table>\n",
       "<p>4 rows × 29 columns</p>\n",
       "</div>"
      ],
      "text/plain": [
       "              city_name store_name                   category_en category_id  \\\n",
       "10268  Ciudad de México    Soriana      Air Fresheners & Candles         990   \n",
       "20612         Querétaro   La Comer             Laundry Detergent         984   \n",
       "27280  Ciudad de México   Chedraui      Air Fresheners & Candles         990   \n",
       "33022       Guadalajara    Soriana  Floor and furniture cleaning         989   \n",
       "\n",
       "      product_id                               product_name       barcodes  \\\n",
       "10268     355837  Aromatizante en aerosol magnolia y cherry  7501058711670   \n",
       "20612    1153392             Detergente líquido concentrado  7500435139908   \n",
       "27280    3480859              Vela taco rústico rojo granat  8436551846422   \n",
       "33022    2265072                  Limpiador multiusos limón  7500093751351   \n",
       "\n",
       "       package         product_sku  brand_name  ... marca_detalle  \\\n",
       "10268    226 g                        Air Wick  ...      Air Wick   \n",
       "20612    1.2 l       7500435139908       Ariel  ...         Ariel   \n",
       "27280  1 pieza  000000000003601132  Ambientair  ...    Ambientair   \n",
       "33022      5 l                      Precissimo  ...    Precissimo   \n",
       "\n",
       "      marca_generica  gramaje                        descripcion_nielsen  \\\n",
       "10268       Air Wick    226 G  Aromatizante En Aerosol Magnolia Y Cherry   \n",
       "20612          Ariel    1.2 L             Detergente Líquido Concentrado   \n",
       "27280     Ambientair  1 Pieza              Vela Taco Rústico Rojo Granat   \n",
       "33022     Precissimo      5 L                  Limpiador Multiusos Limón   \n",
       "\n",
       "                           segmento subsegmento_1 subsegmento_2 subsegmento_3  \\\n",
       "10268      Air Fresheners & Candles                                             \n",
       "20612             Laundry Detergent                                             \n",
       "27280      Air Fresheners & Candles                                             \n",
       "33022  Floor And Furniture Cleaning                                             \n",
       "\n",
       "      mes  anio  \n",
       "10268   9  2021  \n",
       "20612   9  2021  \n",
       "27280   9  2021  \n",
       "33022   9  2021  \n",
       "\n",
       "[4 rows x 29 columns]"
      ]
     },
     "execution_count": 26,
     "metadata": {},
     "output_type": "execute_result"
    }
   ],
   "source": [
    "export = df[['city_name', 'store_name', 'category_en', 'category_id', 'product_id',\n",
    "             'product_name', 'barcodes', 'package', 'product_sku', 'brand_name',\n",
    "             'sales', 'orders', 'users', 'units_found', 'units_replaced',\n",
    "             'units_requested', 'formato', 'proveedor_general', 'proveedor_abierto',\n",
    "             'marca_detalle', 'marca_generica', 'gramaje', 'descripcion_nielsen',\n",
    "             'segmento', 'subsegmento_1', 'subsegmento_2', 'subsegmento_3',\n",
    "             'mes', 'anio']].copy()\n",
    "export.sort_values(['anio','mes'],inplace=True)\n",
    "export.sample(4)"
   ]
  },
  {
   "cell_type": "code",
   "execution_count": 27,
   "metadata": {
    "ExecuteTime": {
     "end_time": "2021-07-13T15:43:38.766783Z",
     "start_time": "2021-07-13T15:43:38.607302Z"
    },
    "hidden": true
   },
   "outputs": [],
   "source": [
    "export.to_csv(os.path.join(BASE_DIR,f'som_{CPG}.csv'),index=False,sep='\\t',encoding='utf-16')"
   ]
  },
  {
   "cell_type": "markdown",
   "metadata": {},
   "source": [
    "## Fin"
   ]
  },
  {
   "cell_type": "code",
   "execution_count": 28,
   "metadata": {
    "ExecuteTime": {
     "end_time": "2021-07-13T15:43:38.774471Z",
     "start_time": "2021-07-13T15:43:38.768438Z"
    }
   },
   "outputs": [
    {
     "data": {
      "text/html": [
       "<div>\n",
       "<style scoped>\n",
       "    .dataframe tbody tr th:only-of-type {\n",
       "        vertical-align: middle;\n",
       "    }\n",
       "\n",
       "    .dataframe tbody tr th {\n",
       "        vertical-align: top;\n",
       "    }\n",
       "\n",
       "    .dataframe thead th {\n",
       "        text-align: right;\n",
       "    }\n",
       "</style>\n",
       "<table border=\"1\" class=\"dataframe\">\n",
       "  <thead>\n",
       "    <tr style=\"text-align: right;\">\n",
       "      <th></th>\n",
       "      <th>sales</th>\n",
       "      <th>sales_fin</th>\n",
       "      <th>dif</th>\n",
       "      <th>dif_p</th>\n",
       "    </tr>\n",
       "    <tr>\n",
       "      <th>month</th>\n",
       "      <th></th>\n",
       "      <th></th>\n",
       "      <th></th>\n",
       "      <th></th>\n",
       "    </tr>\n",
       "  </thead>\n",
       "  <tbody>\n",
       "    <tr>\n",
       "      <th>sep</th>\n",
       "      <td>32192485.00</td>\n",
       "      <td>28774839.00</td>\n",
       "      <td>-3417646.00</td>\n",
       "      <td>-0.11</td>\n",
       "    </tr>\n",
       "  </tbody>\n",
       "</table>\n",
       "</div>"
      ],
      "text/plain": [
       "              sales   sales_fin         dif  dif_p\n",
       "month                                             \n",
       "sep     32192485.00 28774839.00 -3417646.00  -0.11"
      ]
     },
     "execution_count": 28,
     "metadata": {},
     "output_type": "execute_result"
    }
   ],
   "source": [
    "aux"
   ]
  },
  {
   "cell_type": "code",
   "execution_count": 29,
   "metadata": {
    "ExecuteTime": {
     "end_time": "2021-07-13T15:43:38.785306Z",
     "start_time": "2021-07-13T15:43:38.776552Z"
    }
   },
   "outputs": [
    {
     "name": "stdout",
     "output_type": "stream",
     "text": [
      "2 minutos con 8.58 segundos\n"
     ]
    },
    {
     "data": {
      "text/html": [
       "\n",
       "                <audio  controls=\"controls\" autoplay=\"autoplay\">\n",
       "                    <source src=\"data:audio/wav;base64,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\" type=\"audio/wav\" />\n",
       "                    Your browser does not support the audio element.\n",
       "                </audio>\n",
       "              "
      ],
      "text/plain": [
       "<IPython.lib.display.Audio object>"
      ]
     },
     "execution_count": 29,
     "metadata": {},
     "output_type": "execute_result"
    }
   ],
   "source": [
    "time_exp(time.time() - start)\n",
    "tono()"
   ]
  }
 ],
 "metadata": {
  "interpreter": {
   "hash": "cd073f3038b8337706d4c7d775204fb19bddc277721f52eb60f8c4b0892f2184"
  },
  "kernelspec": {
   "display_name": "Python 3.9.1 64-bit ('venv': venv)",
   "name": "python3"
  },
  "language_info": {
   "codemirror_mode": {
    "name": "ipython",
    "version": 3
   },
   "file_extension": ".py",
   "mimetype": "text/x-python",
   "name": "python",
   "nbconvert_exporter": "python",
   "pygments_lexer": "ipython3",
   "version": "3.9.1"
  },
  "toc": {
   "base_numbering": 1,
   "nav_menu": {},
   "number_sections": true,
   "sideBar": true,
   "skip_h1_title": true,
   "title_cell": "Table of Contents",
   "title_sidebar": "Contents",
   "toc_cell": false,
   "toc_position": {
    "height": "calc(100% - 180px)",
    "left": "10px",
    "top": "150px",
    "width": "353.583px"
   },
   "toc_section_display": true,
   "toc_window_display": false
  },
  "varInspector": {
   "cols": {
    "lenName": 16,
    "lenType": 16,
    "lenVar": 40
   },
   "kernels_config": {
    "python": {
     "delete_cmd_postfix": "",
     "delete_cmd_prefix": "del ",
     "library": "var_list.py",
     "varRefreshCmd": "print(var_dic_list())"
    },
    "r": {
     "delete_cmd_postfix": ") ",
     "delete_cmd_prefix": "rm(",
     "library": "var_list.r",
     "varRefreshCmd": "cat(var_dic_list()) "
    }
   },
   "types_to_exclude": [
    "module",
    "function",
    "builtin_function_or_method",
    "instance",
    "_Feature"
   ],
   "window_display": false
  }
 },
 "nbformat": 4,
 "nbformat_minor": 5
}
