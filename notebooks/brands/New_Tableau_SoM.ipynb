{
 "cells": [
  {
   "cell_type": "markdown",
   "metadata": {},
   "source": [
    "# Performance by product --> SoM Dashboard"
   ]
  },
  {
   "cell_type": "code",
   "execution_count": 1,
   "metadata": {
    "ExecuteTime": {
     "end_time": "2021-07-13T15:43:35.979494Z",
     "start_time": "2021-07-13T15:43:35.968928Z"
    }
   },
   "outputs": [],
   "source": [
    "BASE_DIR = '/Users/efraflores/Desktop/EF/Corner/Brands/SoM/data/'\n",
    "CPG = 'danone' \n",
    "nielsen_cat = True #True JUST FOR RB_HYHO, DANONE, UNILEVER SO FAR!!!\n",
    "past = False\n",
    "SOM_CPG = CPG.title()"
   ]
  },
  {
   "cell_type": "markdown",
   "metadata": {
    "heading_collapsed": true
   },
   "source": [
    "## Import"
   ]
  },
  {
   "cell_type": "code",
   "execution_count": 2,
   "metadata": {
    "ExecuteTime": {
     "end_time": "2021-07-13T15:43:36.574546Z",
     "start_time": "2021-07-13T15:43:35.988681Z"
    },
    "hidden": true
   },
   "outputs": [
    {
     "name": "stdout",
     "output_type": "stream",
     "text": [
      "['som_danone.csv', 'nielsen_danone.csv', 'products_danone.csv', 'nielsen_pred_danone.csv']\n"
     ]
    }
   ],
   "source": [
    "import os\n",
    "import numpy as np\n",
    "import pandas as pd\n",
    "pd.options.display.float_format = '{:.2f}'.format\n",
    "print([x for x in os.listdir(BASE_DIR) if x.endswith(f'{CPG}.csv')])"
   ]
  },
  {
   "cell_type": "code",
   "execution_count": 3,
   "metadata": {
    "ExecuteTime": {
     "end_time": "2021-07-13T15:43:36.677023Z",
     "start_time": "2021-07-13T15:43:36.577330Z"
    },
    "hidden": true
   },
   "outputs": [
    {
     "data": {
      "text/html": [
       "<div>\n",
       "<style scoped>\n",
       "    .dataframe tbody tr th:only-of-type {\n",
       "        vertical-align: middle;\n",
       "    }\n",
       "\n",
       "    .dataframe tbody tr th {\n",
       "        vertical-align: top;\n",
       "    }\n",
       "\n",
       "    .dataframe thead th {\n",
       "        text-align: right;\n",
       "    }\n",
       "</style>\n",
       "<table border=\"1\" class=\"dataframe\">\n",
       "  <thead>\n",
       "    <tr style=\"text-align: right;\">\n",
       "      <th></th>\n",
       "      <th>month</th>\n",
       "      <th>country</th>\n",
       "      <th>city name</th>\n",
       "      <th>store_name</th>\n",
       "      <th>category en</th>\n",
       "      <th>category_id</th>\n",
       "      <th>product id</th>\n",
       "      <th>product name</th>\n",
       "      <th>barcodes</th>\n",
       "      <th>package</th>\n",
       "      <th>...</th>\n",
       "      <th>sales</th>\n",
       "      <th>orders</th>\n",
       "      <th>avg ticket</th>\n",
       "      <th>users</th>\n",
       "      <th>units found</th>\n",
       "      <th>units replaced</th>\n",
       "      <th>units requested</th>\n",
       "      <th>found rate</th>\n",
       "      <th>fulfillment</th>\n",
       "      <th>frequency</th>\n",
       "    </tr>\n",
       "  </thead>\n",
       "  <tbody>\n",
       "    <tr>\n",
       "      <th>13319</th>\n",
       "      <td>septiembre 2021</td>\n",
       "      <td>MX</td>\n",
       "      <td>Puebla</td>\n",
       "      <td>La Comer</td>\n",
       "      <td>Yogurt</td>\n",
       "      <td>24</td>\n",
       "      <td>336249</td>\n",
       "      <td>Yoghurt bebible doble cero con durazno</td>\n",
       "      <td>{7501040091261}</td>\n",
       "      <td>242 g</td>\n",
       "      <td>...</td>\n",
       "      <td>34</td>\n",
       "      <td>1</td>\n",
       "      <td>34</td>\n",
       "      <td>1</td>\n",
       "      <td>3</td>\n",
       "      <td>0</td>\n",
       "      <td>3</td>\n",
       "      <td>100.0%</td>\n",
       "      <td>100.0%</td>\n",
       "      <td>1.00</td>\n",
       "    </tr>\n",
       "    <tr>\n",
       "      <th>1462</th>\n",
       "      <td>septiembre 2021</td>\n",
       "      <td>MX</td>\n",
       "      <td>Chihuahua</td>\n",
       "      <td>Alsuper Plus</td>\n",
       "      <td>Desserts &amp; Refrigerated Bakery</td>\n",
       "      <td>22</td>\n",
       "      <td>337122</td>\n",
       "      <td>Arroz con leche</td>\n",
       "      <td>{7501020540628}</td>\n",
       "      <td>4 x 125 g</td>\n",
       "      <td>...</td>\n",
       "      <td>896</td>\n",
       "      <td>30</td>\n",
       "      <td>30</td>\n",
       "      <td>29</td>\n",
       "      <td>36</td>\n",
       "      <td>0</td>\n",
       "      <td>36</td>\n",
       "      <td>100.0%</td>\n",
       "      <td>100.0%</td>\n",
       "      <td>1.03</td>\n",
       "    </tr>\n",
       "  </tbody>\n",
       "</table>\n",
       "<p>2 rows × 22 columns</p>\n",
       "</div>"
      ],
      "text/plain": [
       "               month   country   city name    store_name  \\\n",
       "13319  septiembre 2021       MX     Puebla      La Comer   \n",
       "1462   septiembre 2021       MX  Chihuahua  Alsuper Plus   \n",
       "\n",
       "                          category en  category_id  product id  \\\n",
       "13319                          Yogurt           24      336249   \n",
       "1462   Desserts & Refrigerated Bakery           22      337122   \n",
       "\n",
       "                                 product name         barcodes    package  \\\n",
       "13319  Yoghurt bebible doble cero con durazno  {7501040091261}      242 g   \n",
       "1462                          Arroz con leche  {7501020540628}  4 x 125 g   \n",
       "\n",
       "       ... sales orders avg ticket users units found units replaced  \\\n",
       "13319  ...    34      1         34     1           3              0   \n",
       "1462   ...   896     30         30    29          36              0   \n",
       "\n",
       "      units requested  found rate fulfillment frequency  \n",
       "13319               3      100.0%      100.0%      1.00  \n",
       "1462               36      100.0%      100.0%      1.03  \n",
       "\n",
       "[2 rows x 22 columns]"
      ]
     },
     "execution_count": 3,
     "metadata": {},
     "output_type": "execute_result"
    }
   ],
   "source": [
    "df = pd.read_csv(os.path.join(BASE_DIR,f'products_{CPG}.csv'),\n",
    "                 sep='\\t', encoding='UTF-16', low_memory=False)\n",
    "df.sample(2)"
   ]
  },
  {
   "cell_type": "code",
   "execution_count": 4,
   "metadata": {},
   "outputs": [],
   "source": [
    "# df.rename(columns={'month  / year':'month  ','sales [currency]':'sales'}, inplace=True)"
   ]
  },
  {
   "cell_type": "code",
   "execution_count": 5,
   "metadata": {
    "ExecuteTime": {
     "end_time": "2021-07-13T15:43:36.701452Z",
     "start_time": "2021-07-13T15:43:36.678694Z"
    },
    "hidden": true
   },
   "outputs": [
    {
     "data": {
      "text/html": [
       "<div>\n",
       "<style scoped>\n",
       "    .dataframe tbody tr th:only-of-type {\n",
       "        vertical-align: middle;\n",
       "    }\n",
       "\n",
       "    .dataframe tbody tr th {\n",
       "        vertical-align: top;\n",
       "    }\n",
       "\n",
       "    .dataframe thead th {\n",
       "        text-align: right;\n",
       "    }\n",
       "</style>\n",
       "<table border=\"1\" class=\"dataframe\">\n",
       "  <thead>\n",
       "    <tr style=\"text-align: right;\">\n",
       "      <th></th>\n",
       "      <th>month</th>\n",
       "      <th>sales</th>\n",
       "    </tr>\n",
       "  </thead>\n",
       "  <tbody>\n",
       "    <tr>\n",
       "      <th>0</th>\n",
       "      <td>septiembre 2021</td>\n",
       "      <td>17280317.00</td>\n",
       "    </tr>\n",
       "  </tbody>\n",
       "</table>\n",
       "</div>"
      ],
      "text/plain": [
       "           month         sales\n",
       "0  septiembre 2021 17280317.00"
      ]
     },
     "execution_count": 5,
     "metadata": {},
     "output_type": "execute_result"
    }
   ],
   "source": [
    "aux_ini = df.copy()\n",
    "aux_ini['sales'] = aux_ini['sales'].astype(str).str.replace(',','').astype(float)\n",
    "aux_ini = aux_ini.groupby('month  ')['sales'].sum().reset_index()\n",
    "aux_ini"
   ]
  },
  {
   "cell_type": "code",
   "execution_count": 6,
   "metadata": {
    "ExecuteTime": {
     "end_time": "2021-07-13T15:43:36.783426Z",
     "start_time": "2021-07-13T15:43:36.703951Z"
    },
    "hidden": true
   },
   "outputs": [
    {
     "data": {
      "text/plain": [
       "0    75009076\n",
       "1    75009083\n",
       "2    75009090\n",
       "3    75010065\n",
       "4    75010751\n",
       "Name: UPC, dtype: object"
      ]
     },
     "metadata": {},
     "output_type": "display_data"
    },
    {
     "data": {
      "text/plain": [
       "0    75009076\n",
       "1    75009083\n",
       "2    75009090\n",
       "3    75010065\n",
       "4    75010751\n",
       "Name: UPC, dtype: int64"
      ]
     },
     "metadata": {},
     "output_type": "display_data"
    },
    {
     "data": {
      "text/plain": [
       "0    75009076\n",
       "1    75009083\n",
       "2    75009090\n",
       "3    75010065\n",
       "4    75010751\n",
       "Name: UPC, dtype: int64"
      ]
     },
     "metadata": {},
     "output_type": "display_data"
    },
    {
     "data": {
      "text/html": [
       "<div>\n",
       "<style scoped>\n",
       "    .dataframe tbody tr th:only-of-type {\n",
       "        vertical-align: middle;\n",
       "    }\n",
       "\n",
       "    .dataframe tbody tr th {\n",
       "        vertical-align: top;\n",
       "    }\n",
       "\n",
       "    .dataframe thead th {\n",
       "        text-align: right;\n",
       "    }\n",
       "</style>\n",
       "<table border=\"1\" class=\"dataframe\">\n",
       "  <thead>\n",
       "    <tr style=\"text-align: right;\">\n",
       "      <th></th>\n",
       "      <th>UPC</th>\n",
       "      <th>FORMATO</th>\n",
       "      <th>PROVEEDOR GENERAL</th>\n",
       "      <th>PROVEEDOR ABIERTO</th>\n",
       "      <th>MARCA DETALLE</th>\n",
       "      <th>MARCA GENERICA</th>\n",
       "      <th>GRAMAJE</th>\n",
       "      <th>DESCRIPCION NIELSEN</th>\n",
       "      <th>PRODUCT ID</th>\n",
       "      <th>SEGMENTO</th>\n",
       "      <th>SUBSEGMENTO 1</th>\n",
       "      <th>SUBSEGMENTO 2</th>\n",
       "      <th>SUBSEGMENTO 3</th>\n",
       "    </tr>\n",
       "  </thead>\n",
       "  <tbody>\n",
       "    <tr>\n",
       "      <th>4831</th>\n",
       "      <td>400095797937</td>\n",
       "      <td>GARR</td>\n",
       "      <td>COCA COLA</td>\n",
       "      <td>COCA COLA</td>\n",
       "      <td>CIEL</td>\n",
       "      <td>CIEL</td>\n",
       "      <td>20.00</td>\n",
       "      <td>CIEL AGUA NATURAL NATURAL 20 LT GARR</td>\n",
       "      <td>NaN</td>\n",
       "      <td>AGUA NATURAL</td>\n",
       "      <td>AGUA NATURAL</td>\n",
       "      <td>NaN</td>\n",
       "      <td>NaN</td>\n",
       "    </tr>\n",
       "    <tr>\n",
       "      <th>3549</th>\n",
       "      <td>7075140005027</td>\n",
       "      <td>IND</td>\n",
       "      <td>DEMAS FABRICANTES</td>\n",
       "      <td>DEMAS FABRICANTES</td>\n",
       "      <td>CRYSTAL GEYSER</td>\n",
       "      <td>CRYSTAL GEYSER</td>\n",
       "      <td>0.50</td>\n",
       "      <td>AGUA CRYSTAL GEYSER ALPINE 500 ML 500 M</td>\n",
       "      <td>NaN</td>\n",
       "      <td>AGUA NATURAL</td>\n",
       "      <td>AGUA PREMIUM</td>\n",
       "      <td>NaN</td>\n",
       "      <td>NaN</td>\n",
       "    </tr>\n",
       "  </tbody>\n",
       "</table>\n",
       "</div>"
      ],
      "text/plain": [
       "                UPC FORMATO  PROVEEDOR GENERAL  PROVEEDOR ABIERTO  \\\n",
       "4831   400095797937    GARR          COCA COLA          COCA COLA   \n",
       "3549  7075140005027     IND  DEMAS FABRICANTES  DEMAS FABRICANTES   \n",
       "\n",
       "       MARCA DETALLE  MARCA GENERICA  GRAMAJE  \\\n",
       "4831            CIEL            CIEL    20.00   \n",
       "3549  CRYSTAL GEYSER  CRYSTAL GEYSER     0.50   \n",
       "\n",
       "                          DESCRIPCION NIELSEN  PRODUCT ID      SEGMENTO  \\\n",
       "4831     CIEL AGUA NATURAL NATURAL 20 LT GARR         NaN  AGUA NATURAL   \n",
       "3549  AGUA CRYSTAL GEYSER ALPINE 500 ML 500 M         NaN  AGUA NATURAL   \n",
       "\n",
       "     SUBSEGMENTO 1 SUBSEGMENTO 2 SUBSEGMENTO 3  \n",
       "4831  AGUA NATURAL           NaN           NaN  \n",
       "3549  AGUA PREMIUM           NaN           NaN  "
      ]
     },
     "execution_count": 6,
     "metadata": {},
     "output_type": "execute_result"
    }
   ],
   "source": [
    "import re\n",
    "nielsen = pd.read_csv(BASE_DIR + f'nielsen_{CPG}.csv',\n",
    "                      sep='\\t',encoding='utf-16'\n",
    "                     ).drop_duplicates(subset=['UPC','PRODUCT ID'])\n",
    "display(nielsen['UPC'].head())\n",
    "nielsen['UPC'] = nielsen['UPC'].apply(lambda x: re.sub('[^\\d]','',str(x)))\n",
    "nielsen['UPC'] = nielsen['UPC'].astype(str).str.strip().str.split().str[0].fillna(0).astype(int)\n",
    "display(nielsen['UPC'].head())\n",
    "display(nielsen['UPC'].head())\n",
    "nielsen.sample(2)"
   ]
  },
  {
   "cell_type": "markdown",
   "metadata": {
    "heading_collapsed": true
   },
   "source": [
    "## Functions"
   ]
  },
  {
   "cell_type": "code",
   "execution_count": 7,
   "metadata": {
    "ExecuteTime": {
     "end_time": "2021-07-13T15:43:36.789553Z",
     "start_time": "2021-07-13T15:43:36.785374Z"
    },
    "hidden": true
   },
   "outputs": [],
   "source": [
    "import time\n",
    "import numpy as np\n",
    "from IPython.lib.display import Audio\n",
    "\n",
    "start = time.time()\n",
    "def time_exp(x):\n",
    "    minutes, seconds = np.floor(x/60), 60*(x/60-np.floor(x/60))\n",
    "    print(f\"{'{:.0f}'.format(minutes)} minutos con {'{:.2f}'.format(seconds)} segundos\")\n",
    "    \n",
    "def tono(a = 1000, b = 700, play_time_seconds = 1, framerate = 4410):\n",
    "    t = np.linspace(0, play_time_seconds, framerate*play_time_seconds)*np.pi\n",
    "    return Audio(np.sin(a*t) + np.sin(b*t), rate = framerate, autoplay=True)"
   ]
  },
  {
   "cell_type": "code",
   "execution_count": 8,
   "metadata": {
    "ExecuteTime": {
     "end_time": "2021-07-13T15:43:36.803197Z",
     "start_time": "2021-07-13T15:43:36.794124Z"
    },
    "hidden": true
   },
   "outputs": [],
   "source": [
    "def limpio(data,month_col,to_drop):\n",
    "    df = data.copy()\n",
    "    df[['mes','anio']] = df[month_col].str.split(expand=True)\n",
    "    meses = dict(zip(['enero','febrero','marzo','abril','mayo','junio','julio',\n",
    "                      'agosto','septiembre','octubre','noviembre','diciembre'],range(1,13)))\n",
    "    df['mes'] = df['mes'].replace(meses)\n",
    "    df.drop(columns=to_drop,inplace=True)\n",
    "    df.columns = [str(x).replace('.','').replace(' ','_').lower() for x in df.columns]\n",
    "    for col in ['brand_filter','cpg_filter']:\n",
    "        df[f'{col[:-7]}_id'] = df[col].apply(lambda x: ','.join(re.findall('\\s\\((\\d+)\\)',str(x))))\n",
    "        df[f'{col[:-7]}_name'] = df[col].apply(lambda x: re.sub('\\s\\(\\d+\\)','',str(x)))\n",
    "    return df"
   ]
  },
  {
   "cell_type": "markdown",
   "metadata": {
    "heading_collapsed": true
   },
   "source": [
    "## Transform"
   ]
  },
  {
   "cell_type": "markdown",
   "metadata": {
    "heading_collapsed": true,
    "hidden": true
   },
   "source": [
    "### Barcodes"
   ]
  },
  {
   "cell_type": "code",
   "execution_count": 9,
   "metadata": {
    "ExecuteTime": {
     "end_time": "2021-07-13T15:43:36.892682Z",
     "start_time": "2021-07-13T15:43:36.806132Z"
    },
    "hidden": true
   },
   "outputs": [
    {
     "name": "stderr",
     "output_type": "stream",
     "text": [
      "/var/folders/j4/1p33_bh96yn8pdz3b_5t80hm0000gn/T/ipykernel_4594/2845833164.py:1: FutureWarning: The default value of regex will change from True to False in a future version. In addition, single character regular expressions will*not* be treated as literal strings when regex=True.\n",
      "  df['barcodes'] = df['barcodes'].str.replace('{','').str.replace('}','')\n"
     ]
    },
    {
     "data": {
      "text/plain": [
       "8168       25293003651\n",
       "2452     7502252481666\n",
       "12785     818290010391\n",
       "14806    7501055363346\n",
       "Name: barcodes, dtype: object"
      ]
     },
     "execution_count": 9,
     "metadata": {},
     "output_type": "execute_result"
    }
   ],
   "source": [
    "df['barcodes'] = df['barcodes'].str.replace('{','').str.replace('}','')\n",
    "df['barcodes'] = df['barcodes'].str.split(',',n=1).fillna('.').apply(lambda x:x[0])\n",
    "df['barcodes'].sample(4)"
   ]
  },
  {
   "cell_type": "markdown",
   "metadata": {
    "heading_collapsed": true,
    "hidden": true
   },
   "source": [
    "### Merge"
   ]
  },
  {
   "cell_type": "code",
   "execution_count": 10,
   "metadata": {
    "ExecuteTime": {
     "end_time": "2021-07-13T15:43:37.039437Z",
     "start_time": "2021-07-13T15:43:36.895191Z"
    },
    "hidden": true
   },
   "outputs": [
    {
     "data": {
      "text/html": [
       "<div>\n",
       "<style scoped>\n",
       "    .dataframe tbody tr th:only-of-type {\n",
       "        vertical-align: middle;\n",
       "    }\n",
       "\n",
       "    .dataframe tbody tr th {\n",
       "        vertical-align: top;\n",
       "    }\n",
       "\n",
       "    .dataframe thead th {\n",
       "        text-align: right;\n",
       "    }\n",
       "</style>\n",
       "<table border=\"1\" class=\"dataframe\">\n",
       "  <thead>\n",
       "    <tr style=\"text-align: right;\">\n",
       "      <th></th>\n",
       "      <th>month</th>\n",
       "      <th>country</th>\n",
       "      <th>city name</th>\n",
       "      <th>store_name</th>\n",
       "      <th>category en</th>\n",
       "      <th>category_id</th>\n",
       "      <th>product_id</th>\n",
       "      <th>product name</th>\n",
       "      <th>barcodes</th>\n",
       "      <th>package</th>\n",
       "      <th>...</th>\n",
       "      <th>PROVEEDOR GENERAL</th>\n",
       "      <th>PROVEEDOR ABIERTO</th>\n",
       "      <th>MARCA DETALLE</th>\n",
       "      <th>MARCA GENERICA</th>\n",
       "      <th>GRAMAJE</th>\n",
       "      <th>DESCRIPCION NIELSEN</th>\n",
       "      <th>SEGMENTO</th>\n",
       "      <th>SUBSEGMENTO 1</th>\n",
       "      <th>SUBSEGMENTO 2</th>\n",
       "      <th>SUBSEGMENTO 3</th>\n",
       "    </tr>\n",
       "  </thead>\n",
       "  <tbody>\n",
       "    <tr>\n",
       "      <th>16397</th>\n",
       "      <td>septiembre 2021</td>\n",
       "      <td>MX</td>\n",
       "      <td>Tijuana</td>\n",
       "      <td>Soriana</td>\n",
       "      <td>Yogurt</td>\n",
       "      <td>24</td>\n",
       "      <td>335504</td>\n",
       "      <td>Yoghurt doble cero natural</td>\n",
       "      <td>7501040090394</td>\n",
       "      <td>1 kg</td>\n",
       "      <td>...</td>\n",
       "      <td>SIGMA</td>\n",
       "      <td>SIGMA</td>\n",
       "      <td>YOPLAIT DOBLE CERO</td>\n",
       "      <td>YOPLAIT DOBLE CERO</td>\n",
       "      <td>1.0</td>\n",
       "      <td>YOPLAIT BATIDO NATURAL LIGHT 0% GRASA 1000GR. ...</td>\n",
       "      <td>LIGHT</td>\n",
       "      <td>LIGHT</td>\n",
       "      <td>nan</td>\n",
       "      <td>nan</td>\n",
       "    </tr>\n",
       "    <tr>\n",
       "      <th>4030</th>\n",
       "      <td>septiembre 2021</td>\n",
       "      <td>MX</td>\n",
       "      <td>Ciudad de México</td>\n",
       "      <td>Fresko</td>\n",
       "      <td>Yogurt</td>\n",
       "      <td>24</td>\n",
       "      <td>1256963</td>\n",
       "      <td>Yogurt batido con limón</td>\n",
       "      <td>7501055368440</td>\n",
       "      <td>125 g</td>\n",
       "      <td>...</td>\n",
       "      <td>SANTA CLARA</td>\n",
       "      <td>SANTA CLARA</td>\n",
       "      <td>SANTA CLARA</td>\n",
       "      <td>SANTA CLARA</td>\n",
       "      <td>0.125</td>\n",
       "      <td>SANTA CLARA YOGHURT SABOR LIMON SOLIDO VASO 12...</td>\n",
       "      <td>BB SOLIDO</td>\n",
       "      <td>BASE BUSINESS</td>\n",
       "      <td>nan</td>\n",
       "      <td>nan</td>\n",
       "    </tr>\n",
       "  </tbody>\n",
       "</table>\n",
       "<p>2 rows × 33 columns</p>\n",
       "</div>"
      ],
      "text/plain": [
       "               month   country          city name store_name category en  \\\n",
       "16397  septiembre 2021       MX           Tijuana    Soriana      Yogurt   \n",
       "4030   septiembre 2021       MX  Ciudad de México     Fresko      Yogurt   \n",
       "\n",
       "      category_id product_id                product name       barcodes  \\\n",
       "16397          24     335504  Yoghurt doble cero natural  7501040090394   \n",
       "4030           24    1256963     Yogurt batido con limón  7501055368440   \n",
       "\n",
       "      package  ... PROVEEDOR GENERAL PROVEEDOR ABIERTO       MARCA DETALLE  \\\n",
       "16397    1 kg  ...             SIGMA             SIGMA  YOPLAIT DOBLE CERO   \n",
       "4030    125 g  ...       SANTA CLARA       SANTA CLARA         SANTA CLARA   \n",
       "\n",
       "           MARCA GENERICA GRAMAJE  \\\n",
       "16397  YOPLAIT DOBLE CERO     1.0   \n",
       "4030          SANTA CLARA   0.125   \n",
       "\n",
       "                                     DESCRIPCION NIELSEN   SEGMENTO  \\\n",
       "16397  YOPLAIT BATIDO NATURAL LIGHT 0% GRASA 1000GR. ...      LIGHT   \n",
       "4030   SANTA CLARA YOGHURT SABOR LIMON SOLIDO VASO 12...  BB SOLIDO   \n",
       "\n",
       "       SUBSEGMENTO 1 SUBSEGMENTO 2 SUBSEGMENTO 3  \n",
       "16397          LIGHT           nan           nan  \n",
       "4030   BASE BUSINESS           nan           nan  \n",
       "\n",
       "[2 rows x 33 columns]"
      ]
     },
     "execution_count": 10,
     "metadata": {},
     "output_type": "execute_result"
    }
   ],
   "source": [
    "df = df.astype(str).merge(nielsen.astype(str).rename(columns={'UPC':'barcodes',\n",
    "                                                              'PRODUCT ID':'product id'}),\n",
    "                          on=['barcodes'] if nielsen_cat else ['barcodes','product id'],\n",
    "                          how='left' if nielsen_cat else 'left')\n",
    "if nielsen_cat:\n",
    "    df = df.rename(columns={'product id_x':'product_id'}).drop(columns='product id_y')\n",
    "\n",
    "df.sample(2)"
   ]
  },
  {
   "cell_type": "markdown",
   "metadata": {
    "heading_collapsed": true,
    "hidden": true
   },
   "source": [
    "### CPG"
   ]
  },
  {
   "cell_type": "code",
   "execution_count": 11,
   "metadata": {
    "ExecuteTime": {
     "end_time": "2021-07-13T15:43:37.126105Z",
     "start_time": "2021-07-13T15:43:37.041154Z"
    },
    "hidden": true
   },
   "outputs": [
    {
     "data": {
      "text/html": [
       "<div>\n",
       "<style scoped>\n",
       "    .dataframe tbody tr th:only-of-type {\n",
       "        vertical-align: middle;\n",
       "    }\n",
       "\n",
       "    .dataframe tbody tr th {\n",
       "        vertical-align: top;\n",
       "    }\n",
       "\n",
       "    .dataframe thead th {\n",
       "        text-align: right;\n",
       "    }\n",
       "</style>\n",
       "<table border=\"1\" class=\"dataframe\">\n",
       "  <thead>\n",
       "    <tr style=\"text-align: right;\">\n",
       "      <th></th>\n",
       "      <th>sales</th>\n",
       "      <th>sales_fin</th>\n",
       "      <th>dif</th>\n",
       "      <th>dif_p</th>\n",
       "    </tr>\n",
       "    <tr>\n",
       "      <th>month</th>\n",
       "      <th></th>\n",
       "      <th></th>\n",
       "      <th></th>\n",
       "      <th></th>\n",
       "    </tr>\n",
       "  </thead>\n",
       "  <tbody>\n",
       "    <tr>\n",
       "      <th>septiembre 2021</th>\n",
       "      <td>17280317.00</td>\n",
       "      <td>17280317.00</td>\n",
       "      <td>0.00</td>\n",
       "      <td>0.00</td>\n",
       "    </tr>\n",
       "  </tbody>\n",
       "</table>\n",
       "</div>"
      ],
      "text/plain": [
       "                      sales   sales_fin  dif  dif_p\n",
       "month                                              \n",
       "septiembre 2021 17280317.00 17280317.00 0.00   0.00"
      ]
     },
     "execution_count": 11,
     "metadata": {},
     "output_type": "execute_result"
    }
   ],
   "source": [
    "aux_fin = df.copy()\n",
    "aux_fin['sales'] = aux_fin['sales'].astype(str).str.replace(',','').astype(float)\n",
    "aux_fin = aux_fin.groupby('month  ')['sales'].sum().reset_index()\n",
    "aux = aux_ini.copy()\n",
    "aux = aux.set_index('month  ').join(aux_fin.set_index('month  '),rsuffix='_fin')\n",
    "aux['dif'] = aux['sales_fin'] - aux['sales']\n",
    "aux['dif_p'] = aux['sales_fin'] / (aux['sales']+1e-10) - 1\n",
    "aux"
   ]
  },
  {
   "cell_type": "code",
   "execution_count": 12,
   "metadata": {
    "ExecuteTime": {
     "end_time": "2021-07-13T15:43:37.332428Z",
     "start_time": "2021-07-13T15:43:37.145908Z"
    },
    "hidden": true
   },
   "outputs": [
    {
     "data": {
      "text/html": [
       "<div>\n",
       "<style scoped>\n",
       "    .dataframe tbody tr th:only-of-type {\n",
       "        vertical-align: middle;\n",
       "    }\n",
       "\n",
       "    .dataframe tbody tr th {\n",
       "        vertical-align: top;\n",
       "    }\n",
       "\n",
       "    .dataframe thead th {\n",
       "        text-align: right;\n",
       "    }\n",
       "</style>\n",
       "<table border=\"1\" class=\"dataframe\">\n",
       "  <thead>\n",
       "    <tr style=\"text-align: right;\">\n",
       "      <th></th>\n",
       "      <th>n</th>\n",
       "      <th>product_id</th>\n",
       "      <th>barcodes</th>\n",
       "      <th>category_id</th>\n",
       "      <th>category_name</th>\n",
       "      <th>brand_id</th>\n",
       "      <th>brand_name</th>\n",
       "      <th>cpg_id</th>\n",
       "      <th>cpg_name</th>\n",
       "    </tr>\n",
       "  </thead>\n",
       "  <tbody>\n",
       "    <tr>\n",
       "      <th>93823</th>\n",
       "      <td>1</td>\n",
       "      <td>2019393</td>\n",
       "      <td>40000656971</td>\n",
       "      <td>327</td>\n",
       "      <td>Tortas y pasteles</td>\n",
       "      <td>16792</td>\n",
       "      <td>Kirkland Signature</td>\n",
       "      <td>1089</td>\n",
       "      <td>Kirkland</td>\n",
       "    </tr>\n",
       "    <tr>\n",
       "      <th>11006</th>\n",
       "      <td>1</td>\n",
       "      <td>131139</td>\n",
       "      <td>11209003662</td>\n",
       "      <td>931</td>\n",
       "      <td>Salsas y aderezos</td>\n",
       "      <td>8701</td>\n",
       "      <td>Morehouse</td>\n",
       "      <td>781</td>\n",
       "      <td>Smart</td>\n",
       "    </tr>\n",
       "    <tr>\n",
       "      <th>53845</th>\n",
       "      <td>1</td>\n",
       "      <td>353409</td>\n",
       "      <td>96619107698</td>\n",
       "      <td>1004</td>\n",
       "      <td>Nueces, semillas y frutas secas</td>\n",
       "      <td>16792</td>\n",
       "      <td>Kirkland Signature</td>\n",
       "      <td>1089</td>\n",
       "      <td>Kirkland</td>\n",
       "    </tr>\n",
       "    <tr>\n",
       "      <th>15342</th>\n",
       "      <td>1</td>\n",
       "      <td>151734</td>\n",
       "      <td>40000505645</td>\n",
       "      <td>324</td>\n",
       "      <td>Pan rústico</td>\n",
       "      <td>16792</td>\n",
       "      <td>Kirkland Signature</td>\n",
       "      <td>1696</td>\n",
       "      <td>Imalinx</td>\n",
       "    </tr>\n",
       "  </tbody>\n",
       "</table>\n",
       "</div>"
      ],
      "text/plain": [
       "       n  product_id     barcodes  category_id  \\\n",
       "93823  1     2019393  40000656971          327   \n",
       "11006  1      131139  11209003662          931   \n",
       "53845  1      353409  96619107698         1004   \n",
       "15342  1      151734  40000505645          324   \n",
       "\n",
       "                         category_name  brand_id           brand_name  cpg_id  \\\n",
       "93823                Tortas y pasteles     16792  Kirkland Signature     1089   \n",
       "11006                Salsas y aderezos      8701            Morehouse     781   \n",
       "53845  Nueces, semillas y frutas secas     16792  Kirkland Signature     1089   \n",
       "15342                      Pan rústico     16792  Kirkland Signature     1696   \n",
       "\n",
       "       cpg_name  \n",
       "93823  Kirkland  \n",
       "11006     Smart  \n",
       "53845  Kirkland  \n",
       "15342   Imalinx  "
      ]
     },
     "execution_count": 12,
     "metadata": {},
     "output_type": "execute_result"
    }
   ],
   "source": [
    "prod_cpg = pd.read_csv(os.path.join(BASE_DIR,'pbbc.csv'),\n",
    "                       #sep='\\t',encoding='utf-16'\n",
    "                      )\n",
    "prod_cpg.sample(4)"
   ]
  },
  {
   "cell_type": "code",
   "execution_count": 13,
   "metadata": {
    "ExecuteTime": {
     "end_time": "2021-07-13T15:43:37.690893Z",
     "start_time": "2021-07-13T15:43:37.334568Z"
    },
    "hidden": true
   },
   "outputs": [
    {
     "data": {
      "text/html": [
       "<div>\n",
       "<style scoped>\n",
       "    .dataframe tbody tr th:only-of-type {\n",
       "        vertical-align: middle;\n",
       "    }\n",
       "\n",
       "    .dataframe tbody tr th {\n",
       "        vertical-align: top;\n",
       "    }\n",
       "\n",
       "    .dataframe thead th {\n",
       "        text-align: right;\n",
       "    }\n",
       "</style>\n",
       "<table border=\"1\" class=\"dataframe\">\n",
       "  <thead>\n",
       "    <tr style=\"text-align: right;\">\n",
       "      <th></th>\n",
       "      <th>n</th>\n",
       "      <th>product id</th>\n",
       "      <th>barcodes</th>\n",
       "      <th>category_id</th>\n",
       "      <th>category_name</th>\n",
       "      <th>brand_id</th>\n",
       "      <th>brand_name</th>\n",
       "      <th>cpg_id</th>\n",
       "      <th>cpg_name</th>\n",
       "      <th>cpg filter</th>\n",
       "    </tr>\n",
       "  </thead>\n",
       "  <tbody>\n",
       "    <tr>\n",
       "      <th>59556</th>\n",
       "      <td>1</td>\n",
       "      <td>383078</td>\n",
       "      <td>810990005738</td>\n",
       "      <td>35</td>\n",
       "      <td>Agua</td>\n",
       "      <td>4067</td>\n",
       "      <td>Calahua</td>\n",
       "      <td>343</td>\n",
       "      <td>Calahua</td>\n",
       "      <td>Calahua (343)</td>\n",
       "    </tr>\n",
       "    <tr>\n",
       "      <th>264</th>\n",
       "      <td>1</td>\n",
       "      <td>90318</td>\n",
       "      <td>7501032908720</td>\n",
       "      <td>928</td>\n",
       "      <td>Almacenamiento de cocina</td>\n",
       "      <td>662</td>\n",
       "      <td>Ziploc</td>\n",
       "      <td>10</td>\n",
       "      <td>SC Johnson</td>\n",
       "      <td>SC Johnson (10)</td>\n",
       "    </tr>\n",
       "    <tr>\n",
       "      <th>99607</th>\n",
       "      <td>1</td>\n",
       "      <td>2355690</td>\n",
       "      <td>3501179314969</td>\n",
       "      <td>277</td>\n",
       "      <td>Escritura</td>\n",
       "      <td>18041</td>\n",
       "      <td>Parker</td>\n",
       "      <td>975</td>\n",
       "      <td>Newell Brands</td>\n",
       "      <td>Newell Brands (975)</td>\n",
       "    </tr>\n",
       "    <tr>\n",
       "      <th>62392</th>\n",
       "      <td>1</td>\n",
       "      <td>439599</td>\n",
       "      <td>7501058639080</td>\n",
       "      <td>244</td>\n",
       "      <td>Electrodomésticos</td>\n",
       "      <td>65</td>\n",
       "      <td>Nescafé Dolce Gusto</td>\n",
       "      <td>3</td>\n",
       "      <td>Nestlé MX</td>\n",
       "      <td>Nestlé MX (3)</td>\n",
       "    </tr>\n",
       "  </tbody>\n",
       "</table>\n",
       "</div>"
      ],
      "text/plain": [
       "       n product id       barcodes category_id             category_name  \\\n",
       "59556  1     383078   810990005738          35                      Agua   \n",
       "264    1      90318  7501032908720         928  Almacenamiento de cocina   \n",
       "99607  1    2355690  3501179314969         277                 Escritura   \n",
       "62392  1     439599  7501058639080         244         Electrodomésticos   \n",
       "\n",
       "      brand_id           brand_name cpg_id       cpg_name           cpg filter  \n",
       "59556     4067              Calahua    343        Calahua        Calahua (343)  \n",
       "264        662               Ziploc     10     SC Johnson      SC Johnson (10)  \n",
       "99607    18041               Parker    975  Newell Brands  Newell Brands (975)  \n",
       "62392       65  Nescafé Dolce Gusto      3      Nestlé MX        Nestlé MX (3)  "
      ]
     },
     "execution_count": 13,
     "metadata": {},
     "output_type": "execute_result"
    }
   ],
   "source": [
    "prod_cpg.drop_duplicates(('barcodes' if nielsen_cat else 'product_id'),inplace=True)\n",
    "prod_cpg = prod_cpg.astype(str).rename(columns={'product_id':'product id'})\n",
    "prod_cpg['cpg filter'] = prod_cpg['cpg_name']+\" (\"+prod_cpg['cpg_id'].astype(str)+\")\"\n",
    "prod_cpg.sample(4)"
   ]
  },
  {
   "cell_type": "code",
   "execution_count": 14,
   "metadata": {
    "ExecuteTime": {
     "end_time": "2021-07-13T15:43:37.727933Z",
     "start_time": "2021-07-13T15:43:37.692574Z"
    },
    "hidden": true
   },
   "outputs": [],
   "source": [
    "df = df.merge(prod_cpg[[('barcodes' if nielsen_cat else 'product id'),'cpg filter']],\n",
    "              on=('barcodes' if nielsen_cat else 'product id'),how='left')"
   ]
  },
  {
   "cell_type": "code",
   "execution_count": 15,
   "metadata": {
    "ExecuteTime": {
     "end_time": "2021-07-13T15:43:37.763966Z",
     "start_time": "2021-07-13T15:43:37.730080Z"
    },
    "hidden": true
   },
   "outputs": [
    {
     "data": {
      "text/html": [
       "<div>\n",
       "<style scoped>\n",
       "    .dataframe tbody tr th:only-of-type {\n",
       "        vertical-align: middle;\n",
       "    }\n",
       "\n",
       "    .dataframe tbody tr th {\n",
       "        vertical-align: top;\n",
       "    }\n",
       "\n",
       "    .dataframe thead th {\n",
       "        text-align: right;\n",
       "    }\n",
       "</style>\n",
       "<table border=\"1\" class=\"dataframe\">\n",
       "  <thead>\n",
       "    <tr style=\"text-align: right;\">\n",
       "      <th></th>\n",
       "      <th>sales</th>\n",
       "      <th>sales_fin</th>\n",
       "      <th>dif</th>\n",
       "      <th>dif_p</th>\n",
       "    </tr>\n",
       "    <tr>\n",
       "      <th>month</th>\n",
       "      <th></th>\n",
       "      <th></th>\n",
       "      <th></th>\n",
       "      <th></th>\n",
       "    </tr>\n",
       "  </thead>\n",
       "  <tbody>\n",
       "    <tr>\n",
       "      <th>septiembre 2021</th>\n",
       "      <td>17280317.00</td>\n",
       "      <td>17280317.00</td>\n",
       "      <td>0.00</td>\n",
       "      <td>0.00</td>\n",
       "    </tr>\n",
       "  </tbody>\n",
       "</table>\n",
       "</div>"
      ],
      "text/plain": [
       "                      sales   sales_fin  dif  dif_p\n",
       "month                                              \n",
       "septiembre 2021 17280317.00 17280317.00 0.00   0.00"
      ]
     },
     "execution_count": 15,
     "metadata": {},
     "output_type": "execute_result"
    }
   ],
   "source": [
    "aux_fin = df.copy()\n",
    "aux_fin['sales'] = aux_fin['sales'].astype(str).str.replace(',','').astype(float)\n",
    "aux_fin = aux_fin.groupby('month  ')['sales'].sum().reset_index()\n",
    "aux = aux_ini.copy()\n",
    "aux = aux.set_index('month  ').join(aux_fin.set_index('month  '),rsuffix='_fin')\n",
    "aux['dif'] = aux['sales_fin'] - aux['sales']\n",
    "aux['dif_p'] = aux['sales_fin'] / (aux['sales']+1e-10) - 1\n",
    "aux"
   ]
  },
  {
   "cell_type": "markdown",
   "metadata": {
    "heading_collapsed": true,
    "hidden": true
   },
   "source": [
    "### Limpio"
   ]
  },
  {
   "cell_type": "code",
   "execution_count": 16,
   "metadata": {
    "ExecuteTime": {
     "end_time": "2021-07-13T15:43:37.960829Z",
     "start_time": "2021-07-13T15:43:37.765697Z"
    },
    "hidden": true
   },
   "outputs": [
    {
     "data": {
      "text/html": [
       "<div>\n",
       "<style scoped>\n",
       "    .dataframe tbody tr th:only-of-type {\n",
       "        vertical-align: middle;\n",
       "    }\n",
       "\n",
       "    .dataframe tbody tr th {\n",
       "        vertical-align: top;\n",
       "    }\n",
       "\n",
       "    .dataframe thead th {\n",
       "        text-align: right;\n",
       "    }\n",
       "</style>\n",
       "<table border=\"1\" class=\"dataframe\">\n",
       "  <thead>\n",
       "    <tr style=\"text-align: right;\">\n",
       "      <th></th>\n",
       "      <th>city_name</th>\n",
       "      <th>store_name</th>\n",
       "      <th>category_en</th>\n",
       "      <th>category_id</th>\n",
       "      <th>product_id</th>\n",
       "      <th>product_name</th>\n",
       "      <th>barcodes</th>\n",
       "      <th>package</th>\n",
       "      <th>product_sku</th>\n",
       "      <th>brand_filter</th>\n",
       "      <th>...</th>\n",
       "      <th>subsegmento_1</th>\n",
       "      <th>subsegmento_2</th>\n",
       "      <th>subsegmento_3</th>\n",
       "      <th>cpg_filter</th>\n",
       "      <th>mes</th>\n",
       "      <th>anio</th>\n",
       "      <th>brand_id</th>\n",
       "      <th>brand_name</th>\n",
       "      <th>cpg_id</th>\n",
       "      <th>cpg_name</th>\n",
       "    </tr>\n",
       "  </thead>\n",
       "  <tbody>\n",
       "    <tr>\n",
       "      <th>7278</th>\n",
       "      <td>Guadalajara</td>\n",
       "      <td>Chedraui</td>\n",
       "      <td>Yogurt</td>\n",
       "      <td>24</td>\n",
       "      <td>336476</td>\n",
       "      <td>Yoghurt doble cero sabor fresa</td>\n",
       "      <td>7501040090806</td>\n",
       "      <td>125 g</td>\n",
       "      <td>nan</td>\n",
       "      <td>Yoplait (6413)</td>\n",
       "      <td>...</td>\n",
       "      <td>LIGHT</td>\n",
       "      <td>nan</td>\n",
       "      <td>nan</td>\n",
       "      <td>Sigma Total (72)</td>\n",
       "      <td>9</td>\n",
       "      <td>2021</td>\n",
       "      <td>6413</td>\n",
       "      <td>Yoplait</td>\n",
       "      <td>72</td>\n",
       "      <td>Sigma Total</td>\n",
       "    </tr>\n",
       "    <tr>\n",
       "      <th>17359</th>\n",
       "      <td>Toluca</td>\n",
       "      <td>La Comer</td>\n",
       "      <td>Yogurt</td>\n",
       "      <td>24</td>\n",
       "      <td>3792813</td>\n",
       "      <td>Yoghurt griego blueberry</td>\n",
       "      <td>818290017659</td>\n",
       "      <td>150 g</td>\n",
       "      <td>nan</td>\n",
       "      <td>Chobani (14849)</td>\n",
       "      <td>...</td>\n",
       "      <td>NaN</td>\n",
       "      <td>NaN</td>\n",
       "      <td>NaN</td>\n",
       "      <td>Chobani (284)</td>\n",
       "      <td>9</td>\n",
       "      <td>2021</td>\n",
       "      <td>14849</td>\n",
       "      <td>Chobani</td>\n",
       "      <td>284</td>\n",
       "      <td>Chobani</td>\n",
       "    </tr>\n",
       "  </tbody>\n",
       "</table>\n",
       "<p>2 rows × 34 columns</p>\n",
       "</div>"
      ],
      "text/plain": [
       "         city_name store_name category_en category_id product_id  \\\n",
       "7278   Guadalajara   Chedraui      Yogurt          24     336476   \n",
       "17359       Toluca   La Comer      Yogurt          24    3792813   \n",
       "\n",
       "                         product_name       barcodes package product_sku  \\\n",
       "7278   Yoghurt doble cero sabor fresa  7501040090806   125 g         nan   \n",
       "17359        Yoghurt griego blueberry   818290017659   150 g         nan   \n",
       "\n",
       "          brand_filter  ... subsegmento_1 subsegmento_2 subsegmento_3  \\\n",
       "7278    Yoplait (6413)  ...         LIGHT           nan           nan   \n",
       "17359  Chobani (14849)  ...           NaN           NaN           NaN   \n",
       "\n",
       "             cpg_filter mes  anio brand_id brand_name cpg_id     cpg_name  \n",
       "7278   Sigma Total (72)   9  2021     6413    Yoplait     72  Sigma Total  \n",
       "17359     Chobani (284)   9  2021    14849    Chobani    284      Chobani  \n",
       "\n",
       "[2 rows x 34 columns]"
      ]
     },
     "execution_count": 16,
     "metadata": {},
     "output_type": "execute_result"
    }
   ],
   "source": [
    "df = limpio(df,'month  ',\n",
    "            ['month  ','country ','avg ticket','found rate','fulfillment','frequency'])\n",
    "df.sample(2)"
   ]
  },
  {
   "cell_type": "code",
   "execution_count": 17,
   "metadata": {
    "ExecuteTime": {
     "end_time": "2021-07-13T15:43:37.996519Z",
     "start_time": "2021-07-13T15:43:37.962660Z"
    },
    "hidden": true
   },
   "outputs": [
    {
     "data": {
      "text/html": [
       "<div>\n",
       "<style scoped>\n",
       "    .dataframe tbody tr th:only-of-type {\n",
       "        vertical-align: middle;\n",
       "    }\n",
       "\n",
       "    .dataframe tbody tr th {\n",
       "        vertical-align: top;\n",
       "    }\n",
       "\n",
       "    .dataframe thead th {\n",
       "        text-align: right;\n",
       "    }\n",
       "</style>\n",
       "<table border=\"1\" class=\"dataframe\">\n",
       "  <thead>\n",
       "    <tr style=\"text-align: right;\">\n",
       "      <th></th>\n",
       "      <th>sales</th>\n",
       "      <th>sales_fin</th>\n",
       "      <th>dif</th>\n",
       "      <th>dif_p</th>\n",
       "    </tr>\n",
       "    <tr>\n",
       "      <th>month</th>\n",
       "      <th></th>\n",
       "      <th></th>\n",
       "      <th></th>\n",
       "      <th></th>\n",
       "    </tr>\n",
       "  </thead>\n",
       "  <tbody>\n",
       "    <tr>\n",
       "      <th>sep</th>\n",
       "      <td>17280317.00</td>\n",
       "      <td>17280317.00</td>\n",
       "      <td>0.00</td>\n",
       "      <td>0.00</td>\n",
       "    </tr>\n",
       "  </tbody>\n",
       "</table>\n",
       "</div>"
      ],
      "text/plain": [
       "              sales   sales_fin  dif  dif_p\n",
       "month                                      \n",
       "sep     17280317.00 17280317.00 0.00   0.00"
      ]
     },
     "execution_count": 17,
     "metadata": {},
     "output_type": "execute_result"
    }
   ],
   "source": [
    "aux_fin = df.copy()\n",
    "aux_fin['sales'] = aux_fin['sales'].astype(str).str.replace(',','').astype(float)\n",
    "aux_fin = aux_fin.groupby('mes')['sales'].sum().reset_index()\n",
    "aux_fin['mes'] = aux_fin['mes'].astype(int).map(dict(zip(range(1,13),\n",
    "                                               ['ene','feb','mar','abr','may','jun',\n",
    "                                                'jul','ago','sep','oct','nov','dic'])))\n",
    "aux = aux_ini.copy()\n",
    "aux['month  '] = aux['month  '].str.split().str[0].str[:3]\n",
    "aux = aux.set_index('month  ').join(aux_fin.set_index('mes'),rsuffix='_fin')\n",
    "aux['dif'] = aux['sales_fin'] - aux['sales']\n",
    "aux['dif_p'] = aux['sales_fin'] / (aux['sales']+1e-10) - 1\n",
    "aux"
   ]
  },
  {
   "cell_type": "code",
   "execution_count": 18,
   "metadata": {
    "ExecuteTime": {
     "end_time": "2021-07-13T15:43:38.034150Z",
     "start_time": "2021-07-13T15:43:37.998506Z"
    },
    "hidden": true
   },
   "outputs": [],
   "source": [
    "aux = df[df['formato'].astype(str)=='nan'].copy()\n",
    "df = df[~(df['formato'].astype(str)=='nan')].copy()\n",
    "null_fill = {'proveedor_general':'cpg_name',\n",
    "             'proveedor_abierto':'cpg_name',\n",
    "             'marca_detalle':'brand_name',\n",
    "             'marca_generica':'brand_name',\n",
    "             'gramaje':'package',\n",
    "             'descripcion_nielsen':'product_name',\n",
    "             'segmento':'category_en'}\n",
    "for x,y in null_fill.items():\n",
    "    aux.loc[:,x] = aux.loc[:,y]\n",
    "    \n",
    "df = df.append(aux,ignore_index=True)"
   ]
  },
  {
   "cell_type": "code",
   "execution_count": 19,
   "metadata": {
    "ExecuteTime": {
     "end_time": "2021-07-13T15:43:38.493036Z",
     "start_time": "2021-07-13T15:43:38.035928Z"
    },
    "hidden": true
   },
   "outputs": [
    {
     "data": {
      "text/html": [
       "<div>\n",
       "<style scoped>\n",
       "    .dataframe tbody tr th:only-of-type {\n",
       "        vertical-align: middle;\n",
       "    }\n",
       "\n",
       "    .dataframe tbody tr th {\n",
       "        vertical-align: top;\n",
       "    }\n",
       "\n",
       "    .dataframe thead th {\n",
       "        text-align: right;\n",
       "    }\n",
       "</style>\n",
       "<table border=\"1\" class=\"dataframe\">\n",
       "  <thead>\n",
       "    <tr style=\"text-align: right;\">\n",
       "      <th></th>\n",
       "      <th>city_name</th>\n",
       "      <th>store_name</th>\n",
       "      <th>category_en</th>\n",
       "      <th>category_id</th>\n",
       "      <th>product_id</th>\n",
       "      <th>product_name</th>\n",
       "      <th>barcodes</th>\n",
       "      <th>package</th>\n",
       "      <th>product_sku</th>\n",
       "      <th>brand_filter</th>\n",
       "      <th>...</th>\n",
       "      <th>segmento</th>\n",
       "      <th>subsegmento_1</th>\n",
       "      <th>subsegmento_2</th>\n",
       "      <th>subsegmento_3</th>\n",
       "      <th>cpg_filter</th>\n",
       "      <th>mes</th>\n",
       "      <th>anio</th>\n",
       "      <th>brand_id</th>\n",
       "      <th>brand_name</th>\n",
       "      <th>cpg_id</th>\n",
       "    </tr>\n",
       "  </thead>\n",
       "  <tbody>\n",
       "    <tr>\n",
       "      <th>10570</th>\n",
       "      <td>Puebla</td>\n",
       "      <td>Chedraui</td>\n",
       "      <td>Plant-based Beverages</td>\n",
       "      <td>1516</td>\n",
       "      <td>344211</td>\n",
       "      <td>Bebida a base de soya sabor vainilla</td>\n",
       "      <td>7501005117777</td>\n",
       "      <td>946 ml</td>\n",
       "      <td></td>\n",
       "      <td>AdeS (38)</td>\n",
       "      <td>...</td>\n",
       "      <td>BEBIDAS SABORIZADAS</td>\n",
       "      <td>BEBIDAS REFRESCANTES</td>\n",
       "      <td></td>\n",
       "      <td></td>\n",
       "      <td>Coca Cola (52)</td>\n",
       "      <td>9</td>\n",
       "      <td>2021</td>\n",
       "      <td>38</td>\n",
       "      <td>AdeS</td>\n",
       "      <td>52</td>\n",
       "    </tr>\n",
       "  </tbody>\n",
       "</table>\n",
       "<p>1 rows × 33 columns</p>\n",
       "</div>"
      ],
      "text/plain": [
       "      city_name store_name            category_en category_id product_id  \\\n",
       "10570    Puebla   Chedraui  Plant-based Beverages        1516     344211   \n",
       "\n",
       "                               product_name       barcodes package  \\\n",
       "10570  Bebida a base de soya sabor vainilla  7501005117777  946 ml   \n",
       "\n",
       "      product_sku brand_filter  ...             segmento  \\\n",
       "10570                AdeS (38)  ...  BEBIDAS SABORIZADAS   \n",
       "\n",
       "              subsegmento_1 subsegmento_2 subsegmento_3      cpg_filter mes  \\\n",
       "10570  BEBIDAS REFRESCANTES                              Coca Cola (52)   9   \n",
       "\n",
       "       anio brand_id brand_name cpg_id  \n",
       "10570  2021       38       AdeS     52  \n",
       "\n",
       "[1 rows x 33 columns]"
      ]
     },
     "execution_count": 19,
     "metadata": {},
     "output_type": "execute_result"
    }
   ],
   "source": [
    "for col in df.columns:\n",
    "    df[col] = df[col].astype(str).str.replace('nan','')\n",
    "    \n",
    "df = df.drop(columns='cpg_name').fillna('')\n",
    "df.sample()"
   ]
  },
  {
   "cell_type": "code",
   "execution_count": 20,
   "metadata": {},
   "outputs": [
    {
     "data": {
      "text/html": [
       "<div>\n",
       "<style scoped>\n",
       "    .dataframe tbody tr th:only-of-type {\n",
       "        vertical-align: middle;\n",
       "    }\n",
       "\n",
       "    .dataframe tbody tr th {\n",
       "        vertical-align: top;\n",
       "    }\n",
       "\n",
       "    .dataframe thead th {\n",
       "        text-align: right;\n",
       "    }\n",
       "</style>\n",
       "<table border=\"1\" class=\"dataframe\">\n",
       "  <thead>\n",
       "    <tr style=\"text-align: right;\">\n",
       "      <th></th>\n",
       "      <th>formato</th>\n",
       "      <th>proveedor_general</th>\n",
       "      <th>proveedor_abierto</th>\n",
       "      <th>marca_detalle</th>\n",
       "      <th>marca_generica</th>\n",
       "      <th>gramaje</th>\n",
       "      <th>descripcion_nielsen</th>\n",
       "      <th>segmento</th>\n",
       "      <th>subsegmento_1</th>\n",
       "      <th>subsegmento_2</th>\n",
       "      <th>subsegmento_3</th>\n",
       "    </tr>\n",
       "  </thead>\n",
       "  <tbody>\n",
       "    <tr>\n",
       "      <th>8862</th>\n",
       "      <td>INDIVIDUAL</td>\n",
       "      <td>ALPURA</td>\n",
       "      <td>ALPURA</td>\n",
       "      <td>ALPURA</td>\n",
       "      <td>ALPURA</td>\n",
       "      <td>0.25</td>\n",
       "      <td>ALPURA P/BEBER FRESA 250GR NAL</td>\n",
       "      <td>BB LIQUIDO</td>\n",
       "      <td>BASE BUSINESS</td>\n",
       "      <td></td>\n",
       "      <td></td>\n",
       "    </tr>\n",
       "  </tbody>\n",
       "</table>\n",
       "</div>"
      ],
      "text/plain": [
       "         formato proveedor_general proveedor_abierto marca_detalle  \\\n",
       "8862  INDIVIDUAL            ALPURA            ALPURA        ALPURA   \n",
       "\n",
       "     marca_generica gramaje              descripcion_nielsen    segmento  \\\n",
       "8862         ALPURA    0.25  ALPURA P/BEBER FRESA 250GR NAL   BB LIQUIDO   \n",
       "\n",
       "      subsegmento_1 subsegmento_2 subsegmento_3  \n",
       "8862  BASE BUSINESS                              "
      ]
     },
     "metadata": {},
     "output_type": "display_data"
    },
    {
     "data": {
      "text/html": [
       "<div>\n",
       "<style scoped>\n",
       "    .dataframe tbody tr th:only-of-type {\n",
       "        vertical-align: middle;\n",
       "    }\n",
       "\n",
       "    .dataframe tbody tr th {\n",
       "        vertical-align: top;\n",
       "    }\n",
       "\n",
       "    .dataframe thead th {\n",
       "        text-align: right;\n",
       "    }\n",
       "</style>\n",
       "<table border=\"1\" class=\"dataframe\">\n",
       "  <thead>\n",
       "    <tr style=\"text-align: right;\">\n",
       "      <th></th>\n",
       "      <th>formato</th>\n",
       "      <th>proveedor_general</th>\n",
       "      <th>proveedor_abierto</th>\n",
       "      <th>marca_detalle</th>\n",
       "      <th>marca_generica</th>\n",
       "      <th>gramaje</th>\n",
       "      <th>descripcion_nielsen</th>\n",
       "      <th>segmento</th>\n",
       "      <th>subsegmento_1</th>\n",
       "      <th>subsegmento_2</th>\n",
       "      <th>subsegmento_3</th>\n",
       "    </tr>\n",
       "  </thead>\n",
       "  <tbody>\n",
       "    <tr>\n",
       "      <th>1618</th>\n",
       "      <td>Ind</td>\n",
       "      <td>Danone</td>\n",
       "      <td>Danone</td>\n",
       "      <td>Juizzy</td>\n",
       "      <td>Juizzy</td>\n",
       "      <td>1.0</td>\n",
       "      <td>Ag Sab Guaya Sabor Con Azuc Sin I Juizzy Guaya...</td>\n",
       "      <td>Bebidas Saborizadas</td>\n",
       "      <td>Agua Saborizada</td>\n",
       "      <td></td>\n",
       "      <td></td>\n",
       "    </tr>\n",
       "  </tbody>\n",
       "</table>\n",
       "</div>"
      ],
      "text/plain": [
       "     formato proveedor_general proveedor_abierto marca_detalle marca_generica  \\\n",
       "1618     Ind            Danone            Danone        Juizzy         Juizzy   \n",
       "\n",
       "     gramaje                                descripcion_nielsen  \\\n",
       "1618     1.0  Ag Sab Guaya Sabor Con Azuc Sin I Juizzy Guaya...   \n",
       "\n",
       "                 segmento    subsegmento_1 subsegmento_2 subsegmento_3  \n",
       "1618  Bebidas Saborizadas  Agua Saborizada                              "
      ]
     },
     "metadata": {},
     "output_type": "display_data"
    }
   ],
   "source": [
    "brand_cols = ['formato','proveedor_general','proveedor_abierto','marca_detalle','marca_generica','gramaje','descripcion_nielsen','segmento','subsegmento_1','subsegmento_2','subsegmento_3']\n",
    "display(df[brand_cols].sample())\n",
    "\n",
    "for col in brand_cols:\n",
    "    df[col] = df[col].str.strip().str.title()\n",
    "\n",
    "display(df[brand_cols].sample())"
   ]
  },
  {
   "cell_type": "code",
   "execution_count": 21,
   "metadata": {
    "ExecuteTime": {
     "end_time": "2021-07-13T15:43:38.521871Z",
     "start_time": "2021-07-13T15:43:38.494486Z"
    },
    "hidden": true
   },
   "outputs": [
    {
     "data": {
      "text/html": [
       "<div>\n",
       "<style scoped>\n",
       "    .dataframe tbody tr th:only-of-type {\n",
       "        vertical-align: middle;\n",
       "    }\n",
       "\n",
       "    .dataframe tbody tr th {\n",
       "        vertical-align: top;\n",
       "    }\n",
       "\n",
       "    .dataframe thead th {\n",
       "        text-align: right;\n",
       "    }\n",
       "</style>\n",
       "<table border=\"1\" class=\"dataframe\">\n",
       "  <thead>\n",
       "    <tr style=\"text-align: right;\">\n",
       "      <th></th>\n",
       "      <th>mes</th>\n",
       "      <th>sales</th>\n",
       "    </tr>\n",
       "  </thead>\n",
       "  <tbody>\n",
       "    <tr>\n",
       "      <th>0</th>\n",
       "      <td>sep</td>\n",
       "      <td>17280317.00</td>\n",
       "    </tr>\n",
       "  </tbody>\n",
       "</table>\n",
       "</div>"
      ],
      "text/plain": [
       "   mes       sales\n",
       "0  sep 17280317.00"
      ]
     },
     "execution_count": 21,
     "metadata": {},
     "output_type": "execute_result"
    }
   ],
   "source": [
    "aux_fin = df.copy()\n",
    "aux_fin['sales'] = aux_fin['sales'].astype(str).str.replace(',','').astype(float)\n",
    "aux_fin = aux_fin.groupby('mes')['sales'].sum().reset_index()\n",
    "aux_fin['mes'] = aux_fin['mes'].astype(int).map(dict(zip(range(1,13),\n",
    "                                               ['ene','feb','mar','abr','may','jun',\n",
    "                                                'jul','ago','sep','oct','nov','dic'])))\n",
    "aux_fin"
   ]
  },
  {
   "cell_type": "markdown",
   "metadata": {},
   "source": [
    "### Marca genérica"
   ]
  },
  {
   "cell_type": "code",
   "execution_count": 22,
   "metadata": {},
   "outputs": [
    {
     "data": {
      "text/html": [
       "<div>\n",
       "<style scoped>\n",
       "    .dataframe tbody tr th:only-of-type {\n",
       "        vertical-align: middle;\n",
       "    }\n",
       "\n",
       "    .dataframe tbody tr th {\n",
       "        vertical-align: top;\n",
       "    }\n",
       "\n",
       "    .dataframe thead th {\n",
       "        text-align: right;\n",
       "    }\n",
       "</style>\n",
       "<table border=\"1\" class=\"dataframe\">\n",
       "  <thead>\n",
       "    <tr style=\"text-align: right;\">\n",
       "      <th></th>\n",
       "      <th>city_name</th>\n",
       "      <th>store_name</th>\n",
       "      <th>category_en</th>\n",
       "      <th>category_id</th>\n",
       "      <th>product_id</th>\n",
       "      <th>product_name</th>\n",
       "      <th>barcodes</th>\n",
       "      <th>package</th>\n",
       "      <th>product_sku</th>\n",
       "      <th>brand_filter</th>\n",
       "      <th>...</th>\n",
       "      <th>segmento</th>\n",
       "      <th>subsegmento_1</th>\n",
       "      <th>subsegmento_2</th>\n",
       "      <th>subsegmento_3</th>\n",
       "      <th>cpg_filter</th>\n",
       "      <th>mes</th>\n",
       "      <th>anio</th>\n",
       "      <th>brand_id</th>\n",
       "      <th>brand_name</th>\n",
       "      <th>cpg_id</th>\n",
       "    </tr>\n",
       "  </thead>\n",
       "  <tbody>\n",
       "  </tbody>\n",
       "</table>\n",
       "<p>0 rows × 33 columns</p>\n",
       "</div>"
      ],
      "text/plain": [
       "Empty DataFrame\n",
       "Columns: [city_name, store_name, category_en, category_id, product_id, product_name, barcodes, package, product_sku, brand_filter, sales, orders, users, units_found, units_replaced, units_requested, formato, proveedor_general, proveedor_abierto, marca_detalle, marca_generica, gramaje, descripcion_nielsen, segmento, subsegmento_1, subsegmento_2, subsegmento_3, cpg_filter, mes, anio, brand_id, brand_name, cpg_id]\n",
       "Index: []\n",
       "\n",
       "[0 rows x 33 columns]"
      ]
     },
     "execution_count": 22,
     "metadata": {},
     "output_type": "execute_result"
    }
   ],
   "source": [
    "df.loc[df[df['marca_generica']==''].index, 'marca_generica'] = df.loc[df[df['marca_generica']==''].index, 'marca_detalle']\n",
    "df[df['marca_generica']=='']"
   ]
  },
  {
   "cell_type": "markdown",
   "metadata": {
    "heading_collapsed": true
   },
   "source": [
    "## Export"
   ]
  },
  {
   "cell_type": "markdown",
   "metadata": {
    "heading_collapsed": true,
    "hidden": true
   },
   "source": [
    "### Same product_id as past"
   ]
  },
  {
   "cell_type": "code",
   "execution_count": 23,
   "metadata": {
    "ExecuteTime": {
     "end_time": "2021-07-13T15:43:38.527550Z",
     "start_time": "2021-07-13T15:43:38.523698Z"
    },
    "hidden": true
   },
   "outputs": [
    {
     "name": "stdout",
     "output_type": "stream",
     "text": [
      "17606\n",
      "17606\n"
     ]
    }
   ],
   "source": [
    "print(len(df))\n",
    "if past:\n",
    "    som = pd.ExcelFile(os.path.join('/'.join(BASE_DIR.split('/')[:-2]),\n",
    "                                    f'SoM_{SOM_CPG}.xlsx')).parse(sheet_name=0)\n",
    "    df = df.merge(som.drop_duplicates('product_id')[['product_id']].reset_index(drop=True).astype(str))\n",
    "    \n",
    "print(len(df))"
   ]
  },
  {
   "cell_type": "code",
   "execution_count": 24,
   "metadata": {
    "ExecuteTime": {
     "end_time": "2021-07-13T15:43:38.558812Z",
     "start_time": "2021-07-13T15:43:38.534231Z"
    },
    "hidden": true
   },
   "outputs": [],
   "source": [
    "aux_fin = df.copy()\n",
    "aux_fin['sales'] = aux_fin['sales'].astype(str).str.replace(',','').astype(float)\n",
    "aux_fin = aux_fin.groupby('mes')['sales'].sum().reset_index()\n",
    "aux_fin['mes'] = aux_fin['mes'].astype(int).map(dict(zip(range(1,13),\n",
    "                                               ['ene','feb','mar','abr','may','jun',\n",
    "                                                'jul','ago','sep','oct','nov','dic'])))"
   ]
  },
  {
   "cell_type": "code",
   "execution_count": 25,
   "metadata": {
    "ExecuteTime": {
     "end_time": "2021-07-13T15:43:38.571022Z",
     "start_time": "2021-07-13T15:43:38.562800Z"
    },
    "hidden": true
   },
   "outputs": [],
   "source": [
    "aux = aux_ini.copy()\n",
    "aux['month  '] = aux['month  '].str.split().str[0].str[:3]\n",
    "aux = aux.set_index('month  ').join(aux_fin.set_index('mes'),rsuffix='_fin')\n",
    "aux['dif'] = aux['sales_fin'] - aux['sales']\n",
    "aux['dif_p'] = aux['sales_fin'] / (aux['sales']+1e-10) - 1"
   ]
  },
  {
   "cell_type": "markdown",
   "metadata": {
    "heading_collapsed": true,
    "hidden": true
   },
   "source": [
    "### Ordered columns"
   ]
  },
  {
   "cell_type": "code",
   "execution_count": 26,
   "metadata": {
    "ExecuteTime": {
     "end_time": "2021-07-13T15:43:38.605441Z",
     "start_time": "2021-07-13T15:43:38.572625Z"
    },
    "hidden": true
   },
   "outputs": [
    {
     "data": {
      "text/html": [
       "<div>\n",
       "<style scoped>\n",
       "    .dataframe tbody tr th:only-of-type {\n",
       "        vertical-align: middle;\n",
       "    }\n",
       "\n",
       "    .dataframe tbody tr th {\n",
       "        vertical-align: top;\n",
       "    }\n",
       "\n",
       "    .dataframe thead th {\n",
       "        text-align: right;\n",
       "    }\n",
       "</style>\n",
       "<table border=\"1\" class=\"dataframe\">\n",
       "  <thead>\n",
       "    <tr style=\"text-align: right;\">\n",
       "      <th></th>\n",
       "      <th>city_name</th>\n",
       "      <th>store_name</th>\n",
       "      <th>category_en</th>\n",
       "      <th>category_id</th>\n",
       "      <th>product_id</th>\n",
       "      <th>product_name</th>\n",
       "      <th>barcodes</th>\n",
       "      <th>package</th>\n",
       "      <th>product_sku</th>\n",
       "      <th>brand_name</th>\n",
       "      <th>...</th>\n",
       "      <th>marca_detalle</th>\n",
       "      <th>marca_generica</th>\n",
       "      <th>gramaje</th>\n",
       "      <th>descripcion_nielsen</th>\n",
       "      <th>segmento</th>\n",
       "      <th>subsegmento_1</th>\n",
       "      <th>subsegmento_2</th>\n",
       "      <th>subsegmento_3</th>\n",
       "      <th>mes</th>\n",
       "      <th>anio</th>\n",
       "    </tr>\n",
       "  </thead>\n",
       "  <tbody>\n",
       "    <tr>\n",
       "      <th>5076</th>\n",
       "      <td>Ciudad de México</td>\n",
       "      <td>Sumesa</td>\n",
       "      <td>Yogurt</td>\n",
       "      <td>24</td>\n",
       "      <td>336057</td>\n",
       "      <td>Yogurt bebible con mango</td>\n",
       "      <td>7501055361212</td>\n",
       "      <td>235 g</td>\n",
       "      <td></td>\n",
       "      <td>Santa Clara</td>\n",
       "      <td>...</td>\n",
       "      <td>Santa Clara</td>\n",
       "      <td>Santa Clara</td>\n",
       "      <td>0.235</td>\n",
       "      <td>Santa Clara Bebible Mango 235Gr</td>\n",
       "      <td>Bb Liquido</td>\n",
       "      <td>Base Business</td>\n",
       "      <td></td>\n",
       "      <td></td>\n",
       "      <td>9</td>\n",
       "      <td>2021</td>\n",
       "    </tr>\n",
       "    <tr>\n",
       "      <th>3744</th>\n",
       "      <td>Ciudad de México</td>\n",
       "      <td>La Comer</td>\n",
       "      <td>Plant-based Beverages</td>\n",
       "      <td>1516</td>\n",
       "      <td>869057</td>\n",
       "      <td>Leche de coco</td>\n",
       "      <td>8850781700055</td>\n",
       "      <td>400 ml</td>\n",
       "      <td></td>\n",
       "      <td>Thai Heritage</td>\n",
       "      <td>...</td>\n",
       "      <td>Thai</td>\n",
       "      <td>Thai</td>\n",
       "      <td>0.4</td>\n",
       "      <td>Thai Heritage Leche Sabor Coco Lata 400Ml 8850...</td>\n",
       "      <td>Plant Based</td>\n",
       "      <td>Plant Based</td>\n",
       "      <td>Coco</td>\n",
       "      <td>Lata</td>\n",
       "      <td>9</td>\n",
       "      <td>2021</td>\n",
       "    </tr>\n",
       "    <tr>\n",
       "      <th>11737</th>\n",
       "      <td>Querétaro</td>\n",
       "      <td>Chedraui</td>\n",
       "      <td>Water</td>\n",
       "      <td>35</td>\n",
       "      <td>339040</td>\n",
       "      <td>Agua natural</td>\n",
       "      <td>7501022009352</td>\n",
       "      <td>6 x 1 l</td>\n",
       "      <td></td>\n",
       "      <td>Epura</td>\n",
       "      <td>...</td>\n",
       "      <td>E Pura</td>\n",
       "      <td>E Pura</td>\n",
       "      <td>1.0</td>\n",
       "      <td>E-Pura Agua Natural 6Pack Bot Plast 1L C/U 6000Ml</td>\n",
       "      <td>Agua Natural</td>\n",
       "      <td>Agua Natural</td>\n",
       "      <td></td>\n",
       "      <td></td>\n",
       "      <td>9</td>\n",
       "      <td>2021</td>\n",
       "    </tr>\n",
       "    <tr>\n",
       "      <th>12652</th>\n",
       "      <td>Querétaro</td>\n",
       "      <td>HEB</td>\n",
       "      <td>Plant-based Beverages</td>\n",
       "      <td>1516</td>\n",
       "      <td>335002</td>\n",
       "      <td>Alimento líquido 3 nueces</td>\n",
       "      <td>7501020552935</td>\n",
       "      <td>Cartón 960 ml</td>\n",
       "      <td></td>\n",
       "      <td>Lala Vita</td>\n",
       "      <td>...</td>\n",
       "      <td>Lala Soy Vita</td>\n",
       "      <td>Lala Soy Vita</td>\n",
       "      <td>0.96</td>\n",
       "      <td>Lala Soy Vita 3 Nueces Carton 960Ml Nal 750102...</td>\n",
       "      <td>Plant Based</td>\n",
       "      <td>Plant Based</td>\n",
       "      <td>Nuez</td>\n",
       "      <td>Uht</td>\n",
       "      <td>9</td>\n",
       "      <td>2021</td>\n",
       "    </tr>\n",
       "  </tbody>\n",
       "</table>\n",
       "<p>4 rows × 29 columns</p>\n",
       "</div>"
      ],
      "text/plain": [
       "              city_name store_name            category_en category_id  \\\n",
       "5076   Ciudad de México     Sumesa                 Yogurt          24   \n",
       "3744   Ciudad de México   La Comer  Plant-based Beverages        1516   \n",
       "11737         Querétaro   Chedraui                  Water          35   \n",
       "12652         Querétaro        HEB  Plant-based Beverages        1516   \n",
       "\n",
       "      product_id               product_name       barcodes        package  \\\n",
       "5076      336057   Yogurt bebible con mango  7501055361212          235 g   \n",
       "3744      869057              Leche de coco  8850781700055         400 ml   \n",
       "11737     339040               Agua natural  7501022009352        6 x 1 l   \n",
       "12652     335002  Alimento líquido 3 nueces  7501020552935  Cartón 960 ml   \n",
       "\n",
       "      product_sku     brand_name  ...  marca_detalle marca_generica gramaje  \\\n",
       "5076                Santa Clara   ...    Santa Clara    Santa Clara   0.235   \n",
       "3744               Thai Heritage  ...           Thai           Thai     0.4   \n",
       "11737                      Epura  ...         E Pura         E Pura     1.0   \n",
       "12652                  Lala Vita  ...  Lala Soy Vita  Lala Soy Vita    0.96   \n",
       "\n",
       "                                     descripcion_nielsen      segmento  \\\n",
       "5076                     Santa Clara Bebible Mango 235Gr    Bb Liquido   \n",
       "3744   Thai Heritage Leche Sabor Coco Lata 400Ml 8850...   Plant Based   \n",
       "11737  E-Pura Agua Natural 6Pack Bot Plast 1L C/U 6000Ml  Agua Natural   \n",
       "12652  Lala Soy Vita 3 Nueces Carton 960Ml Nal 750102...   Plant Based   \n",
       "\n",
       "       subsegmento_1 subsegmento_2 subsegmento_3 mes  anio  \n",
       "5076   Base Business                               9  2021  \n",
       "3744     Plant Based          Coco          Lata   9  2021  \n",
       "11737   Agua Natural                               9  2021  \n",
       "12652    Plant Based          Nuez           Uht   9  2021  \n",
       "\n",
       "[4 rows x 29 columns]"
      ]
     },
     "execution_count": 26,
     "metadata": {},
     "output_type": "execute_result"
    }
   ],
   "source": [
    "export = df[['city_name', 'store_name', 'category_en', 'category_id', 'product_id',\n",
    "             'product_name', 'barcodes', 'package', 'product_sku', 'brand_name',\n",
    "             'sales', 'orders', 'users', 'units_found', 'units_replaced',\n",
    "             'units_requested', 'formato', 'proveedor_general', 'proveedor_abierto',\n",
    "             'marca_detalle', 'marca_generica', 'gramaje', 'descripcion_nielsen',\n",
    "             'segmento', 'subsegmento_1', 'subsegmento_2', 'subsegmento_3',\n",
    "             'mes', 'anio']].copy()\n",
    "export.sort_values(['anio','mes'],inplace=True)\n",
    "export.sample(4)"
   ]
  },
  {
   "cell_type": "code",
   "execution_count": 27,
   "metadata": {
    "ExecuteTime": {
     "end_time": "2021-07-13T15:43:38.766783Z",
     "start_time": "2021-07-13T15:43:38.607302Z"
    },
    "hidden": true
   },
   "outputs": [],
   "source": [
    "export.to_csv(os.path.join(BASE_DIR,f'som_{CPG}.csv'),index=False,sep='\\t',encoding='utf-16')"
   ]
  },
  {
   "cell_type": "markdown",
   "metadata": {},
   "source": [
    "## Fin"
   ]
  },
  {
   "cell_type": "code",
   "execution_count": 28,
   "metadata": {
    "ExecuteTime": {
     "end_time": "2021-07-13T15:43:38.774471Z",
     "start_time": "2021-07-13T15:43:38.768438Z"
    }
   },
   "outputs": [
    {
     "data": {
      "text/html": [
       "<div>\n",
       "<style scoped>\n",
       "    .dataframe tbody tr th:only-of-type {\n",
       "        vertical-align: middle;\n",
       "    }\n",
       "\n",
       "    .dataframe tbody tr th {\n",
       "        vertical-align: top;\n",
       "    }\n",
       "\n",
       "    .dataframe thead th {\n",
       "        text-align: right;\n",
       "    }\n",
       "</style>\n",
       "<table border=\"1\" class=\"dataframe\">\n",
       "  <thead>\n",
       "    <tr style=\"text-align: right;\">\n",
       "      <th></th>\n",
       "      <th>sales</th>\n",
       "      <th>sales_fin</th>\n",
       "      <th>dif</th>\n",
       "      <th>dif_p</th>\n",
       "    </tr>\n",
       "    <tr>\n",
       "      <th>month</th>\n",
       "      <th></th>\n",
       "      <th></th>\n",
       "      <th></th>\n",
       "      <th></th>\n",
       "    </tr>\n",
       "  </thead>\n",
       "  <tbody>\n",
       "    <tr>\n",
       "      <th>sep</th>\n",
       "      <td>17280317.00</td>\n",
       "      <td>17280317.00</td>\n",
       "      <td>0.00</td>\n",
       "      <td>0.00</td>\n",
       "    </tr>\n",
       "  </tbody>\n",
       "</table>\n",
       "</div>"
      ],
      "text/plain": [
       "              sales   sales_fin  dif  dif_p\n",
       "month                                      \n",
       "sep     17280317.00 17280317.00 0.00   0.00"
      ]
     },
     "execution_count": 28,
     "metadata": {},
     "output_type": "execute_result"
    }
   ],
   "source": [
    "aux"
   ]
  },
  {
   "cell_type": "code",
   "execution_count": 29,
   "metadata": {
    "ExecuteTime": {
     "end_time": "2021-07-13T15:43:38.785306Z",
     "start_time": "2021-07-13T15:43:38.776552Z"
    }
   },
   "outputs": [
    {
     "name": "stdout",
     "output_type": "stream",
     "text": [
      "0 minutos con 3.11 segundos\n"
     ]
    },
    {
     "data": {
      "text/html": [
       "\n",
       "                <audio  controls=\"controls\" autoplay=\"autoplay\">\n",
       "                    <source src=\"data:audio/wav;base64,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\" type=\"audio/wav\" />\n",
       "                    Your browser does not support the audio element.\n",
       "                </audio>\n",
       "              "
      ],
      "text/plain": [
       "<IPython.lib.display.Audio object>"
      ]
     },
     "execution_count": 29,
     "metadata": {},
     "output_type": "execute_result"
    }
   ],
   "source": [
    "time_exp(time.time() - start)\n",
    "tono()"
   ]
  }
 ],
 "metadata": {
  "interpreter": {
   "hash": "cd073f3038b8337706d4c7d775204fb19bddc277721f52eb60f8c4b0892f2184"
  },
  "kernelspec": {
   "display_name": "Python 3.9.1 64-bit ('venv': venv)",
   "name": "python3"
  },
  "language_info": {
   "codemirror_mode": {
    "name": "ipython",
    "version": 3
   },
   "file_extension": ".py",
   "mimetype": "text/x-python",
   "name": "python",
   "nbconvert_exporter": "python",
   "pygments_lexer": "ipython3",
   "version": "3.9.1"
  },
  "toc": {
   "base_numbering": 1,
   "nav_menu": {},
   "number_sections": true,
   "sideBar": true,
   "skip_h1_title": true,
   "title_cell": "Table of Contents",
   "title_sidebar": "Contents",
   "toc_cell": false,
   "toc_position": {
    "height": "calc(100% - 180px)",
    "left": "10px",
    "top": "150px",
    "width": "353.583px"
   },
   "toc_section_display": true,
   "toc_window_display": false
  },
  "varInspector": {
   "cols": {
    "lenName": 16,
    "lenType": 16,
    "lenVar": 40
   },
   "kernels_config": {
    "python": {
     "delete_cmd_postfix": "",
     "delete_cmd_prefix": "del ",
     "library": "var_list.py",
     "varRefreshCmd": "print(var_dic_list())"
    },
    "r": {
     "delete_cmd_postfix": ") ",
     "delete_cmd_prefix": "rm(",
     "library": "var_list.r",
     "varRefreshCmd": "cat(var_dic_list()) "
    }
   },
   "types_to_exclude": [
    "module",
    "function",
    "builtin_function_or_method",
    "instance",
    "_Feature"
   ],
   "window_display": false
  }
 },
 "nbformat": 4,
 "nbformat_minor": 5
}
