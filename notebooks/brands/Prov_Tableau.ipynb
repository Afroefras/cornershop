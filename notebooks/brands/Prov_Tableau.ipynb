{
 "cells": [
  {
   "cell_type": "markdown",
   "id": "silent-incidence",
   "metadata": {},
   "source": [
    "# Formato provisional --> anterior"
   ]
  },
  {
   "cell_type": "code",
   "execution_count": 1,
   "id": "voluntary-enterprise",
   "metadata": {
    "ExecuteTime": {
     "end_time": "2021-05-07T22:10:43.409208Z",
     "start_time": "2021-05-07T22:10:43.405558Z"
    }
   },
   "outputs": [],
   "source": [
    "CPG = 'yogurt'\n",
    "FILE_NAME = f'prov_{CPG}.csv'"
   ]
  },
  {
   "cell_type": "markdown",
   "id": "interesting-transmission",
   "metadata": {
    "heading_collapsed": true
   },
   "source": [
    "## Importar"
   ]
  },
  {
   "cell_type": "code",
   "execution_count": 2,
   "id": "engaged-polyester",
   "metadata": {
    "ExecuteTime": {
     "end_time": "2021-05-07T22:10:44.286892Z",
     "start_time": "2021-05-07T22:10:43.413263Z"
    },
    "hidden": true
   },
   "outputs": [
    {
     "data": {
      "text/plain": [
       "['.DS_Store',\n",
       " 'nielsen_coca.csv',\n",
       " 'nielsen_coca_v2.csv',\n",
       " 'nielsen_danone.csv',\n",
       " 'nielsen_essity.csv',\n",
       " 'nielsen_rb.csv',\n",
       " 'pbbc.csv',\n",
       " 'perf_prod_2005_2103.csv',\n",
       " 'pre_nielsen_sigma.csv',\n",
       " 'products_coca.csv',\n",
       " 'products_coca_correct.csv',\n",
       " 'products_danone.csv',\n",
       " 'products_danone_may20_mar21.csv',\n",
       " 'products_essity.csv',\n",
       " 'products_essity_correct.csv',\n",
       " 'products_rb.csv',\n",
       " 'products_rb_correct.csv',\n",
       " 'products_sigma.csv',\n",
       " 'products_sigma_correct.csv',\n",
       " 'prov_coca.csv',\n",
       " 'prov_essity.csv',\n",
       " 'prov_rb.csv',\n",
       " 'prov_sigma.csv',\n",
       " 'prov_yogurt.csv',\n",
       " 'som_coca.csv',\n",
       " 'som_danone.csv',\n",
       " 'som_essity.csv',\n",
       " 'som_rb.csv']"
      ]
     },
     "execution_count": 2,
     "metadata": {},
     "output_type": "execute_result"
    }
   ],
   "source": [
    "# %load basic\n",
    "import os\n",
    "import numpy as np\n",
    "import pandas as pd\n",
    "import matplotlib.pyplot as plt\n",
    "pd.set_option('display.max_columns',200)\n",
    "pd.options.display.float_format = '{:.2f}'.format\n",
    "BASE_DIR = '/Users/efraflores/Desktop/EF/Corner/Catalogo/data/'\n",
    "sorted(os.listdir(BASE_DIR))"
   ]
  },
  {
   "cell_type": "code",
   "execution_count": 3,
   "id": "south-police",
   "metadata": {
    "ExecuteTime": {
     "end_time": "2021-05-07T22:10:44.318871Z",
     "start_time": "2021-05-07T22:10:44.289632Z"
    },
    "hidden": true
   },
   "outputs": [
    {
     "name": "stdout",
     "output_type": "stream",
     "text": [
      "UTF-16\n"
     ]
    }
   ],
   "source": [
    "import chardet\n",
    "with open(os.path.join(BASE_DIR,FILE_NAME), 'rb') as rawdata:\n",
    "    encod = chardet.detect(rawdata.read(1000))['encoding']\n",
    "print(encod)"
   ]
  },
  {
   "cell_type": "code",
   "execution_count": 4,
   "id": "small-glenn",
   "metadata": {
    "ExecuteTime": {
     "end_time": "2021-05-07T22:10:44.444533Z",
     "start_time": "2021-05-07T22:10:44.321242Z"
    },
    "hidden": true
   },
   "outputs": [
    {
     "data": {
      "text/html": [
       "<div>\n",
       "<style scoped>\n",
       "    .dataframe tbody tr th:only-of-type {\n",
       "        vertical-align: middle;\n",
       "    }\n",
       "\n",
       "    .dataframe tbody tr th {\n",
       "        vertical-align: top;\n",
       "    }\n",
       "\n",
       "    .dataframe thead th {\n",
       "        text-align: right;\n",
       "    }\n",
       "</style>\n",
       "<table border=\"1\" class=\"dataframe\">\n",
       "  <thead>\n",
       "    <tr style=\"text-align: right;\">\n",
       "      <th></th>\n",
       "      <th>month</th>\n",
       "      <th>store</th>\n",
       "      <th>category id</th>\n",
       "      <th>product name</th>\n",
       "      <th>product id</th>\n",
       "      <th>barcodes</th>\n",
       "      <th>package</th>\n",
       "      <th>brand</th>\n",
       "      <th>sales pop</th>\n",
       "      <th>sales non pop</th>\n",
       "      <th>orders pop</th>\n",
       "      <th>orders non pop</th>\n",
       "      <th>units found pop</th>\n",
       "      <th>units found non pop</th>\n",
       "      <th>units requested pop</th>\n",
       "      <th>units requested non pop</th>\n",
       "      <th>found rate pop</th>\n",
       "      <th>found rate non pop</th>\n",
       "    </tr>\n",
       "  </thead>\n",
       "  <tbody>\n",
       "    <tr>\n",
       "      <th>1678</th>\n",
       "      <td>01/03/2021</td>\n",
       "      <td>Fresko</td>\n",
       "      <td>24</td>\n",
       "      <td>Yoghurt con manzana</td>\n",
       "      <td>2065145</td>\n",
       "      <td>{7501020563818}</td>\n",
       "      <td>120 g</td>\n",
       "      <td>Lala</td>\n",
       "      <td>0</td>\n",
       "      <td>49</td>\n",
       "      <td>0</td>\n",
       "      <td>2</td>\n",
       "      <td>0</td>\n",
       "      <td>10</td>\n",
       "      <td>0</td>\n",
       "      <td>10</td>\n",
       "      <td>NaN</td>\n",
       "      <td>100.0</td>\n",
       "    </tr>\n",
       "  </tbody>\n",
       "</table>\n",
       "</div>"
      ],
      "text/plain": [
       "           month   store category id         product name product id  \\\n",
       "1678  01/03/2021  Fresko          24  Yoghurt con manzana    2065145   \n",
       "\n",
       "             barcodes package brand  sales pop  sales non pop  orders pop  \\\n",
       "1678  {7501020563818}   120 g  Lala          0             49           0   \n",
       "\n",
       "      orders non pop  units found pop  units found non pop  \\\n",
       "1678               2                0                   10   \n",
       "\n",
       "      units requested pop  units requested non pop found rate pop  \\\n",
       "1678                    0                       10            NaN   \n",
       "\n",
       "     found rate non pop  \n",
       "1678              100.0  "
      ]
     },
     "execution_count": 4,
     "metadata": {},
     "output_type": "execute_result"
    }
   ],
   "source": [
    "df = pd.read_csv(os.path.join(BASE_DIR,FILE_NAME),encoding=encod,sep='\\t')\n",
    "df = df[df['month']!='Total general'].copy()\n",
    "for col in df.iloc[:,8:].columns:\n",
    "    df[col] = df[col].str.replace(',','').str.replace('%','').astype(int,errors='ignore')\n",
    "    \n",
    "backup = df.copy()\n",
    "df.sample()"
   ]
  },
  {
   "cell_type": "code",
   "execution_count": 5,
   "id": "orange-virginia",
   "metadata": {
    "ExecuteTime": {
     "end_time": "2021-05-07T22:10:45.177096Z",
     "start_time": "2021-05-07T22:10:44.446924Z"
    },
    "hidden": true
   },
   "outputs": [
    {
     "data": {
      "text/html": [
       "<div>\n",
       "<style scoped>\n",
       "    .dataframe tbody tr th:only-of-type {\n",
       "        vertical-align: middle;\n",
       "    }\n",
       "\n",
       "    .dataframe tbody tr th {\n",
       "        vertical-align: top;\n",
       "    }\n",
       "\n",
       "    .dataframe thead th {\n",
       "        text-align: right;\n",
       "    }\n",
       "</style>\n",
       "<table border=\"1\" class=\"dataframe\">\n",
       "  <thead>\n",
       "    <tr style=\"text-align: right;\">\n",
       "      <th></th>\n",
       "      <th>month</th>\n",
       "      <th>store</th>\n",
       "      <th>category id</th>\n",
       "      <th>product name</th>\n",
       "      <th>product id</th>\n",
       "      <th>barcodes</th>\n",
       "      <th>package</th>\n",
       "      <th>brand</th>\n",
       "      <th>sales pop</th>\n",
       "      <th>sales non pop</th>\n",
       "      <th>orders pop</th>\n",
       "      <th>orders non pop</th>\n",
       "      <th>units found pop</th>\n",
       "      <th>units found non pop</th>\n",
       "      <th>units requested pop</th>\n",
       "      <th>units requested non pop</th>\n",
       "      <th>found rate pop</th>\n",
       "      <th>found rate non pop</th>\n",
       "      <th>category_name</th>\n",
       "    </tr>\n",
       "  </thead>\n",
       "  <tbody>\n",
       "    <tr>\n",
       "      <th>5193</th>\n",
       "      <td>01/04/2021</td>\n",
       "      <td>HEB</td>\n",
       "      <td>24</td>\n",
       "      <td>Yoghurt batido estilo griego sabor natural mor...</td>\n",
       "      <td>548998</td>\n",
       "      <td>{75069247}</td>\n",
       "      <td>120 g</td>\n",
       "      <td>Lala</td>\n",
       "      <td>1052</td>\n",
       "      <td>1136</td>\n",
       "      <td>41</td>\n",
       "      <td>42</td>\n",
       "      <td>106</td>\n",
       "      <td>115</td>\n",
       "      <td>119</td>\n",
       "      <td>120</td>\n",
       "      <td>100.0</td>\n",
       "      <td>100.0</td>\n",
       "      <td>Yoghurt</td>\n",
       "    </tr>\n",
       "  </tbody>\n",
       "</table>\n",
       "</div>"
      ],
      "text/plain": [
       "           month store category id  \\\n",
       "5193  01/04/2021   HEB          24   \n",
       "\n",
       "                                           product name product id  \\\n",
       "5193  Yoghurt batido estilo griego sabor natural mor...     548998   \n",
       "\n",
       "        barcodes package brand  sales pop  sales non pop  orders pop  \\\n",
       "5193  {75069247}   120 g  Lala       1052           1136          41   \n",
       "\n",
       "      orders non pop  units found pop  units found non pop  \\\n",
       "5193              42              106                  115   \n",
       "\n",
       "      units requested pop  units requested non pop found rate pop  \\\n",
       "5193                  119                      120          100.0   \n",
       "\n",
       "     found rate non pop category_name  \n",
       "5193              100.0       Yoghurt  "
      ]
     },
     "execution_count": 5,
     "metadata": {},
     "output_type": "execute_result"
    }
   ],
   "source": [
    "import re\n",
    "\n",
    "cat = pd.read_csv(os.path.join(BASE_DIR,'pbbc.csv')).astype(str).drop_duplicates('product_id')\n",
    "df = df.merge(cat[['category_name','product_id']],how='left',\n",
    "              left_on='product id',\n",
    "              right_on='product_id').iloc[:,:-1]\n",
    "df.sample()"
   ]
  },
  {
   "cell_type": "markdown",
   "id": "scientific-preparation",
   "metadata": {
    "heading_collapsed": true
   },
   "source": [
    "## Funciones"
   ]
  },
  {
   "cell_type": "code",
   "execution_count": 6,
   "id": "useful-spank",
   "metadata": {
    "ExecuteTime": {
     "end_time": "2021-05-07T22:10:45.186859Z",
     "start_time": "2021-05-07T22:10:45.179238Z"
    },
    "hidden": true
   },
   "outputs": [],
   "source": [
    "import time\n",
    "import numpy as np\n",
    "from IPython.lib.display import Audio\n",
    "\n",
    "start = time.time()\n",
    "def time_exp(x):\n",
    "    minutes, seconds = np.floor(x/60), 60*(x/60-np.floor(x/60))\n",
    "    print(f\"{'{:.0f}'.format(minutes)} minutos con {'{:.2f}'.format(seconds)} segundos\")\n",
    "    \n",
    "def tono(a = 1000, b = 700, play_time_seconds = 1, framerate = 4410):\n",
    "    t = np.linspace(0, play_time_seconds, framerate*play_time_seconds)*np.pi\n",
    "    return Audio(np.sin(a*t) + np.sin(b*t), rate = framerate, autoplay=True)"
   ]
  },
  {
   "cell_type": "markdown",
   "id": "restricted-constant",
   "metadata": {
    "heading_collapsed": true
   },
   "source": [
    "## Transformar"
   ]
  },
  {
   "cell_type": "code",
   "execution_count": 7,
   "id": "english-secretariat",
   "metadata": {
    "ExecuteTime": {
     "end_time": "2021-05-07T22:10:45.216580Z",
     "start_time": "2021-05-07T22:10:45.192745Z"
    },
    "hidden": true
   },
   "outputs": [
    {
     "data": {
      "text/html": [
       "<div>\n",
       "<style scoped>\n",
       "    .dataframe tbody tr th:only-of-type {\n",
       "        vertical-align: middle;\n",
       "    }\n",
       "\n",
       "    .dataframe tbody tr th {\n",
       "        vertical-align: top;\n",
       "    }\n",
       "\n",
       "    .dataframe thead th {\n",
       "        text-align: right;\n",
       "    }\n",
       "</style>\n",
       "<table border=\"1\" class=\"dataframe\">\n",
       "  <thead>\n",
       "    <tr style=\"text-align: right;\">\n",
       "      <th></th>\n",
       "      <th>category</th>\n",
       "      <th>Mes de date</th>\n",
       "      <th>store</th>\n",
       "      <th>category_id</th>\n",
       "      <th>product name</th>\n",
       "      <th>product ID</th>\n",
       "      <th>product barcodes</th>\n",
       "      <th>product package</th>\n",
       "      <th>brand name</th>\n",
       "      <th>sales pop</th>\n",
       "      <th>sales non pop</th>\n",
       "      <th>orders pop</th>\n",
       "      <th>orders non pop</th>\n",
       "      <th>units found pop</th>\n",
       "      <th>units found non pop</th>\n",
       "      <th>units requested pop</th>\n",
       "      <th>units requested non pop</th>\n",
       "      <th>found rate pop</th>\n",
       "      <th>found rate non pop</th>\n",
       "    </tr>\n",
       "  </thead>\n",
       "  <tbody>\n",
       "    <tr>\n",
       "      <th>3126</th>\n",
       "      <td>Yoghurt</td>\n",
       "      <td>01/03/2021</td>\n",
       "      <td>Sumesa</td>\n",
       "      <td>24</td>\n",
       "      <td>Yoghurt bebible con guayaba de michoacán</td>\n",
       "      <td>1153154</td>\n",
       "      <td>{7506443101500}</td>\n",
       "      <td>240 g</td>\n",
       "      <td>Danone</td>\n",
       "      <td>0</td>\n",
       "      <td>29</td>\n",
       "      <td>0</td>\n",
       "      <td>1</td>\n",
       "      <td>0</td>\n",
       "      <td>2</td>\n",
       "      <td>0</td>\n",
       "      <td>2</td>\n",
       "      <td>NaN</td>\n",
       "      <td>100.0</td>\n",
       "    </tr>\n",
       "  </tbody>\n",
       "</table>\n",
       "</div>"
      ],
      "text/plain": [
       "     category Mes de date   store category_id  \\\n",
       "3126  Yoghurt  01/03/2021  Sumesa          24   \n",
       "\n",
       "                                  product name product ID product barcodes  \\\n",
       "3126  Yoghurt bebible con guayaba de michoacán    1153154  {7506443101500}   \n",
       "\n",
       "     product package brand name  sales pop  sales non pop  orders pop  \\\n",
       "3126           240 g     Danone          0             29           0   \n",
       "\n",
       "      orders non pop  units found pop  units found non pop  \\\n",
       "3126               1                0                    2   \n",
       "\n",
       "      units requested pop  units requested non pop found rate pop  \\\n",
       "3126                    0                        2            NaN   \n",
       "\n",
       "     found rate non pop  \n",
       "3126              100.0  "
      ]
     },
     "execution_count": 7,
     "metadata": {},
     "output_type": "execute_result"
    }
   ],
   "source": [
    "df = df[['category_name']+list(df.columns)[:-1]].copy()\n",
    "orden = {'month': 'Mes de date',\n",
    "         'store': 'store',\n",
    "         'category_name':'category',\n",
    "         'category id':'category_id',\n",
    "         'product name': 'product name',\n",
    "         'product id': 'product ID',\n",
    "         'barcodes': 'product barcodes',\n",
    "         'package': 'product package',\n",
    "         'brand': 'brand name'}\n",
    "df.rename(columns=orden,inplace=True)\n",
    "df.sample()"
   ]
  },
  {
   "cell_type": "code",
   "execution_count": 8,
   "id": "italic-bosnia",
   "metadata": {
    "ExecuteTime": {
     "end_time": "2021-05-07T22:10:45.528398Z",
     "start_time": "2021-05-07T22:10:45.220591Z"
    },
    "hidden": true
   },
   "outputs": [
    {
     "data": {
      "text/html": [
       "<div>\n",
       "<style scoped>\n",
       "    .dataframe tbody tr th:only-of-type {\n",
       "        vertical-align: middle;\n",
       "    }\n",
       "\n",
       "    .dataframe tbody tr th {\n",
       "        vertical-align: top;\n",
       "    }\n",
       "\n",
       "    .dataframe thead th {\n",
       "        text-align: right;\n",
       "    }\n",
       "</style>\n",
       "<table border=\"1\" class=\"dataframe\">\n",
       "  <thead>\n",
       "    <tr style=\"text-align: right;\">\n",
       "      <th></th>\n",
       "      <th>category</th>\n",
       "      <th>Mes de date</th>\n",
       "      <th>store</th>\n",
       "      <th>category_id</th>\n",
       "      <th>product name</th>\n",
       "      <th>product ID</th>\n",
       "      <th>product barcodes</th>\n",
       "      <th>product package</th>\n",
       "      <th>brand name</th>\n",
       "      <th>variable</th>\n",
       "      <th>value</th>\n",
       "      <th>test</th>\n",
       "      <th>metric</th>\n",
       "      <th>audience</th>\n",
       "    </tr>\n",
       "  </thead>\n",
       "  <tbody>\n",
       "    <tr>\n",
       "      <th>5353</th>\n",
       "      <td>Yoghurt</td>\n",
       "      <td>01/04/2021</td>\n",
       "      <td>HEB</td>\n",
       "      <td>24</td>\n",
       "      <td>Yoghurt natural sin azúcar</td>\n",
       "      <td>368938</td>\n",
       "      <td>{7501032398439}</td>\n",
       "      <td>900 g</td>\n",
       "      <td>Danone</td>\n",
       "      <td>found rate pop</td>\n",
       "      <td>100.00</td>\n",
       "      <td>[found rate , pop, ]</td>\n",
       "      <td>found rate</td>\n",
       "      <td>pop</td>\n",
       "    </tr>\n",
       "  </tbody>\n",
       "</table>\n",
       "</div>"
      ],
      "text/plain": [
       "     category Mes de date store category_id                product name  \\\n",
       "5353  Yoghurt  01/04/2021   HEB          24  Yoghurt natural sin azúcar   \n",
       "\n",
       "     product ID product barcodes product package brand name        variable  \\\n",
       "5353     368938  {7501032398439}           900 g     Danone  found rate pop   \n",
       "\n",
       "      value                  test       metric audience  \n",
       "5353 100.00  [found rate , pop, ]  found rate       pop  "
      ]
     },
     "execution_count": 8,
     "metadata": {},
     "output_type": "execute_result"
    }
   ],
   "source": [
    "df = df.iloc[:,:9].join(df.filter(like='pop').melt(ignore_index=False))\n",
    "df['value'] = df['value'].astype(float)\n",
    "df['test'] = df['variable'].apply(lambda x: re.split('(non|pop)',x,maxsplit=1))\n",
    "df['metric'] = [x[0] for x in df['test']]\n",
    "df['audience'] = [(x[1]+x[2]).strip() for x in df['test']]\n",
    "df.sample()"
   ]
  },
  {
   "cell_type": "code",
   "execution_count": 9,
   "id": "patient-stock",
   "metadata": {
    "ExecuteTime": {
     "end_time": "2021-05-07T22:10:51.884917Z",
     "start_time": "2021-05-07T22:10:45.531104Z"
    },
    "hidden": true
   },
   "outputs": [
    {
     "data": {
      "text/html": [
       "<div>\n",
       "<style scoped>\n",
       "    .dataframe tbody tr th:only-of-type {\n",
       "        vertical-align: middle;\n",
       "    }\n",
       "\n",
       "    .dataframe tbody tr th {\n",
       "        vertical-align: top;\n",
       "    }\n",
       "\n",
       "    .dataframe thead th {\n",
       "        text-align: right;\n",
       "    }\n",
       "</style>\n",
       "<table border=\"1\" class=\"dataframe\">\n",
       "  <thead>\n",
       "    <tr style=\"text-align: right;\">\n",
       "      <th></th>\n",
       "      <th>category</th>\n",
       "      <th>Mes de date</th>\n",
       "      <th>store</th>\n",
       "      <th>category_id</th>\n",
       "      <th>product name</th>\n",
       "      <th>product ID</th>\n",
       "      <th>product barcodes</th>\n",
       "      <th>product package</th>\n",
       "      <th>brand name</th>\n",
       "      <th>audience</th>\n",
       "      <th>found rate</th>\n",
       "      <th>orders</th>\n",
       "      <th>users</th>\n",
       "      <th>avg. ticket</th>\n",
       "      <th>sales</th>\n",
       "      <th>units found</th>\n",
       "      <th>units requested</th>\n",
       "    </tr>\n",
       "  </thead>\n",
       "  <tbody>\n",
       "    <tr>\n",
       "      <th>4900</th>\n",
       "      <td>Yoghurt</td>\n",
       "      <td>01/03/2021</td>\n",
       "      <td>HEB</td>\n",
       "      <td>24</td>\n",
       "      <td>Yoghurt triple cero manzana verde</td>\n",
       "      <td>313846</td>\n",
       "      <td>{7501032397548}</td>\n",
       "      <td>125 g</td>\n",
       "      <td>Vitalínea</td>\n",
       "      <td>non pop</td>\n",
       "      <td>100.0</td>\n",
       "      <td>19.0</td>\n",
       "      <td></td>\n",
       "      <td>35.55</td>\n",
       "      <td>710.0</td>\n",
       "      <td>116.0</td>\n",
       "      <td>116.0</td>\n",
       "    </tr>\n",
       "  </tbody>\n",
       "</table>\n",
       "</div>"
      ],
      "text/plain": [
       "     category Mes de date store category_id  \\\n",
       "4900  Yoghurt  01/03/2021   HEB          24   \n",
       "\n",
       "                           product name product ID product barcodes  \\\n",
       "4900  Yoghurt triple cero manzana verde     313846  {7501032397548}   \n",
       "\n",
       "     product package brand name audience found rate orders users avg. ticket  \\\n",
       "4900           125 g  Vitalínea  non pop      100.0   19.0             35.55   \n",
       "\n",
       "     sales units found units requested  \n",
       "4900 710.0       116.0           116.0  "
      ]
     },
     "execution_count": 9,
     "metadata": {},
     "output_type": "execute_result"
    }
   ],
   "source": [
    "df = df.fillna('').pivot_table(index=list(df.iloc[:,:9].columns)+['audience'],\n",
    "                               columns='metric',values='value',aggfunc='sum').reset_index()\n",
    "df.columns = [x.strip() for x in df.columns]\n",
    "df.insert(12,'users','')\n",
    "df.insert(13,'avg. ticket','')\n",
    "df['avg. ticket'] = (df['sales']+1) / (df['orders']+1)\n",
    "df.sample()"
   ]
  },
  {
   "cell_type": "code",
   "execution_count": 10,
   "id": "alleged-factor",
   "metadata": {
    "ExecuteTime": {
     "end_time": "2021-05-07T22:10:51.952593Z",
     "start_time": "2021-05-07T22:10:51.887047Z"
    },
    "hidden": true
   },
   "outputs": [
    {
     "data": {
      "text/html": [
       "<div>\n",
       "<style scoped>\n",
       "    .dataframe tbody tr th:only-of-type {\n",
       "        vertical-align: middle;\n",
       "    }\n",
       "\n",
       "    .dataframe tbody tr th {\n",
       "        vertical-align: top;\n",
       "    }\n",
       "\n",
       "    .dataframe thead th {\n",
       "        text-align: right;\n",
       "    }\n",
       "</style>\n",
       "<table border=\"1\" class=\"dataframe\">\n",
       "  <thead>\n",
       "    <tr style=\"text-align: right;\">\n",
       "      <th></th>\n",
       "      <th>Mes de date</th>\n",
       "      <th>store</th>\n",
       "      <th>category</th>\n",
       "      <th>category_id</th>\n",
       "      <th>product ID</th>\n",
       "      <th>product name</th>\n",
       "      <th>product barcodes</th>\n",
       "      <th>product package</th>\n",
       "      <th>brand name</th>\n",
       "      <th>audience</th>\n",
       "      <th>orders</th>\n",
       "      <th>sales</th>\n",
       "      <th>users</th>\n",
       "      <th>avg. ticket</th>\n",
       "      <th>units found</th>\n",
       "      <th>units requested</th>\n",
       "      <th>found rate</th>\n",
       "    </tr>\n",
       "  </thead>\n",
       "  <tbody>\n",
       "    <tr>\n",
       "      <th>10094</th>\n",
       "      <td>abril 2021</td>\n",
       "      <td>Fresko</td>\n",
       "      <td>Yoghurt</td>\n",
       "      <td>24</td>\n",
       "      <td>3036266</td>\n",
       "      <td>Yoghurt con fresa</td>\n",
       "      <td>{7501055914463}</td>\n",
       "      <td>900 g</td>\n",
       "      <td>Alpura</td>\n",
       "      <td>non pop</td>\n",
       "      <td>6.0</td>\n",
       "      <td>271.0</td>\n",
       "      <td></td>\n",
       "      <td>38.86</td>\n",
       "      <td>8.0</td>\n",
       "      <td>8.0</td>\n",
       "      <td>100.0</td>\n",
       "    </tr>\n",
       "    <tr>\n",
       "      <th>990</th>\n",
       "      <td>marzo 2021</td>\n",
       "      <td>Alsuper</td>\n",
       "      <td>Yoghurt</td>\n",
       "      <td>24</td>\n",
       "      <td>369325</td>\n",
       "      <td>Bebida láctea sabor fresa</td>\n",
       "      <td>{7501032398583}</td>\n",
       "      <td>220 g</td>\n",
       "      <td>Danup</td>\n",
       "      <td>non pop</td>\n",
       "      <td>5.0</td>\n",
       "      <td>284.0</td>\n",
       "      <td></td>\n",
       "      <td>47.5</td>\n",
       "      <td>36.0</td>\n",
       "      <td>36.0</td>\n",
       "      <td>100.0</td>\n",
       "    </tr>\n",
       "  </tbody>\n",
       "</table>\n",
       "</div>"
      ],
      "text/plain": [
       "      Mes de date    store category category_id product ID  \\\n",
       "10094  abril 2021   Fresko  Yoghurt          24    3036266   \n",
       "990    marzo 2021  Alsuper  Yoghurt          24     369325   \n",
       "\n",
       "                    product name product barcodes product package brand name  \\\n",
       "10094          Yoghurt con fresa  {7501055914463}           900 g     Alpura   \n",
       "990    Bebida láctea sabor fresa  {7501032398583}           220 g      Danup   \n",
       "\n",
       "      audience orders sales users avg. ticket units found units requested  \\\n",
       "10094  non pop    6.0 271.0             38.86         8.0             8.0   \n",
       "990    non pop    5.0 284.0              47.5        36.0            36.0   \n",
       "\n",
       "      found rate  \n",
       "10094      100.0  \n",
       "990        100.0  "
      ]
     },
     "execution_count": 10,
     "metadata": {},
     "output_type": "execute_result"
    }
   ],
   "source": [
    "df = df[['Mes de date', 'store', 'category', 'category_id', 'product ID',\n",
    "         'product name', 'product barcodes', 'product package', 'brand name',\n",
    "         'audience', 'orders', 'sales', 'users', 'avg. ticket', 'units found',\n",
    "         'units requested', 'found rate']].copy()\n",
    "meses = dict(zip(range(1,13),['enero','febrero','marzo','abril','mayo','junio','julio',\n",
    "                              'agosto','septiembre','octubre','noviembre','diciembre']))\n",
    "df['Mes de date'] = [meses[x.month]+' '+str(x.year) for x in pd.to_datetime(df['Mes de date'],\n",
    "                                                                            dayfirst=True)]\n",
    "df.sample(2)"
   ]
  },
  {
   "cell_type": "code",
   "execution_count": 11,
   "id": "rough-affiliation",
   "metadata": {
    "ExecuteTime": {
     "end_time": "2021-05-07T22:10:51.967387Z",
     "start_time": "2021-05-07T22:10:51.955726Z"
    },
    "hidden": true
   },
   "outputs": [
    {
     "data": {
      "text/plain": [
       "0.0"
      ]
     },
     "execution_count": 11,
     "metadata": {},
     "output_type": "execute_result"
    }
   ],
   "source": [
    "backup[['sales pop','sales non pop']].sum().sum() - df['sales'].sum()"
   ]
  },
  {
   "cell_type": "markdown",
   "id": "prime-upper",
   "metadata": {
    "heading_collapsed": true
   },
   "source": [
    "## Exportar"
   ]
  },
  {
   "cell_type": "code",
   "execution_count": 12,
   "id": "functioning-windsor",
   "metadata": {
    "ExecuteTime": {
     "end_time": "2021-05-07T22:10:52.066497Z",
     "start_time": "2021-05-07T22:10:51.970625Z"
    },
    "hidden": true
   },
   "outputs": [],
   "source": [
    "df.to_csv(os.path.join(BASE_DIR,f'products_{CPG}_correct.csv'),index=False)"
   ]
  },
  {
   "cell_type": "markdown",
   "id": "independent-sample",
   "metadata": {},
   "source": [
    "## Fin"
   ]
  },
  {
   "cell_type": "code",
   "execution_count": 13,
   "id": "distributed-project",
   "metadata": {
    "ExecuteTime": {
     "end_time": "2021-05-07T22:10:52.077847Z",
     "start_time": "2021-05-07T22:10:52.069035Z"
    }
   },
   "outputs": [
    {
     "name": "stdout",
     "output_type": "stream",
     "text": [
      "0 minutos con 6.89 segundos\n"
     ]
    },
    {
     "data": {
      "text/html": [
       "\n",
       "                <audio  controls=\"controls\" autoplay=\"autoplay\">\n",
       "                    <source src=\"data:audio/wav;base64,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\" type=\"audio/wav\" />\n",
       "                    Your browser does not support the audio element.\n",
       "                </audio>\n",
       "              "
      ],
      "text/plain": [
       "<IPython.lib.display.Audio object>"
      ]
     },
     "execution_count": 13,
     "metadata": {},
     "output_type": "execute_result"
    }
   ],
   "source": [
    "time_exp(time.time() - start)\n",
    "tono()"
   ]
  }
 ],
 "metadata": {
  "kernelspec": {
   "display_name": "Python 3",
   "language": "python",
   "name": "python3"
  },
  "language_info": {
   "codemirror_mode": {
    "name": "ipython",
    "version": 3
   },
   "file_extension": ".py",
   "mimetype": "text/x-python",
   "name": "python",
   "nbconvert_exporter": "python",
   "pygments_lexer": "ipython3",
   "version": "3.9.1"
  },
  "toc": {
   "base_numbering": 1,
   "nav_menu": {},
   "number_sections": true,
   "sideBar": true,
   "skip_h1_title": true,
   "title_cell": "Table of Contents",
   "title_sidebar": "Contents",
   "toc_cell": false,
   "toc_position": {},
   "toc_section_display": true,
   "toc_window_display": false
  },
  "varInspector": {
   "cols": {
    "lenName": 16,
    "lenType": 16,
    "lenVar": 40
   },
   "kernels_config": {
    "python": {
     "delete_cmd_postfix": "",
     "delete_cmd_prefix": "del ",
     "library": "var_list.py",
     "varRefreshCmd": "print(var_dic_list())"
    },
    "r": {
     "delete_cmd_postfix": ") ",
     "delete_cmd_prefix": "rm(",
     "library": "var_list.r",
     "varRefreshCmd": "cat(var_dic_list()) "
    }
   },
   "types_to_exclude": [
    "module",
    "function",
    "builtin_function_or_method",
    "instance",
    "_Feature"
   ],
   "window_display": false
  }
 },
 "nbformat": 4,
 "nbformat_minor": 5
}
