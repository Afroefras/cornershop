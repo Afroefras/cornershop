{
 "cells": [
  {
   "cell_type": "markdown",
   "source": [
    "# Performance by product --> SoM Dashboard"
   ],
   "metadata": {}
  },
  {
   "cell_type": "code",
   "execution_count": 1,
   "source": [
    "from pathlib import Path\n",
    "\n",
    "BASE_DIR = Path('/Users/efraflores/Desktop/EF/Corner/Brands')\n",
    "FILE_NAME = 'Nestle_marcas.csv'"
   ],
   "outputs": [],
   "metadata": {
    "ExecuteTime": {
     "end_time": "2021-07-13T15:43:35.979494Z",
     "start_time": "2021-07-13T15:43:35.968928Z"
    }
   }
  },
  {
   "cell_type": "markdown",
   "source": [
    "## Import"
   ],
   "metadata": {
    "heading_collapsed": true
   }
  },
  {
   "cell_type": "code",
   "execution_count": 2,
   "source": [
    "import pandas as pd\n",
    "\n",
    "df = pd.read_csv(BASE_DIR.joinpath(FILE_NAME))\n",
    "df.columns = ['categoria','comp','nestle']\n",
    "df.set_index('categoria', inplace=True)\n",
    "df.sample(2)"
   ],
   "outputs": [
    {
     "output_type": "execute_result",
     "data": {
      "text/plain": [
       "                                                             comp  \\\n",
       "categoria                                                           \n",
       "Tés             Davenport, Twinings, Alessa, La Pastora, Mc Co...   \n",
       "Chocolate Mesa  Don GUSTAVO, Selecto; La Suiza Chocolate Mesa;...   \n",
       "\n",
       "                        nestle  \n",
       "categoria                       \n",
       "Tés             Nature's Heart  \n",
       "Chocolate Mesa        Abuelita  "
      ],
      "text/html": [
       "<div>\n",
       "<style scoped>\n",
       "    .dataframe tbody tr th:only-of-type {\n",
       "        vertical-align: middle;\n",
       "    }\n",
       "\n",
       "    .dataframe tbody tr th {\n",
       "        vertical-align: top;\n",
       "    }\n",
       "\n",
       "    .dataframe thead th {\n",
       "        text-align: right;\n",
       "    }\n",
       "</style>\n",
       "<table border=\"1\" class=\"dataframe\">\n",
       "  <thead>\n",
       "    <tr style=\"text-align: right;\">\n",
       "      <th></th>\n",
       "      <th>comp</th>\n",
       "      <th>nestle</th>\n",
       "    </tr>\n",
       "    <tr>\n",
       "      <th>categoria</th>\n",
       "      <th></th>\n",
       "      <th></th>\n",
       "    </tr>\n",
       "  </thead>\n",
       "  <tbody>\n",
       "    <tr>\n",
       "      <th>Tés</th>\n",
       "      <td>Davenport, Twinings, Alessa, La Pastora, Mc Co...</td>\n",
       "      <td>Nature's Heart</td>\n",
       "    </tr>\n",
       "    <tr>\n",
       "      <th>Chocolate Mesa</th>\n",
       "      <td>Don GUSTAVO, Selecto; La Suiza Chocolate Mesa;...</td>\n",
       "      <td>Abuelita</td>\n",
       "    </tr>\n",
       "  </tbody>\n",
       "</table>\n",
       "</div>"
      ]
     },
     "metadata": {},
     "execution_count": 2
    }
   ],
   "metadata": {
    "ExecuteTime": {
     "end_time": "2021-07-13T15:43:36.677023Z",
     "start_time": "2021-07-13T15:43:36.577330Z"
    },
    "hidden": true
   }
  },
  {
   "cell_type": "markdown",
   "source": [
    "## Transform"
   ],
   "metadata": {}
  },
  {
   "cell_type": "code",
   "execution_count": 3,
   "source": [
    "total = pd.DataFrame()\n",
    "\n",
    "for col in df.columns:\n",
    "    df[col] = df[col].str.replace(',',';')\n",
    "    aux = df[col].str.split(';', expand=True).melt(ignore_index=False).dropna().iloc[:,-1:].rename({'value':'brand'},axis=1)\n",
    "    aux['CPG'] = col.title()\n",
    "    total = total.append(aux, ignore_index=False)\n",
    "\n",
    "total['brand'] = total['brand'].str.strip()\n",
    "total.sample(2)"
   ],
   "outputs": [
    {
     "output_type": "execute_result",
     "data": {
      "text/plain": [
       "                      brand     CPG\n",
       "categoria                          \n",
       "Café Soluble    Juan Valdez    Comp\n",
       "Culinarios    Maggi Inglesa  Nestle"
      ],
      "text/html": [
       "<div>\n",
       "<style scoped>\n",
       "    .dataframe tbody tr th:only-of-type {\n",
       "        vertical-align: middle;\n",
       "    }\n",
       "\n",
       "    .dataframe tbody tr th {\n",
       "        vertical-align: top;\n",
       "    }\n",
       "\n",
       "    .dataframe thead th {\n",
       "        text-align: right;\n",
       "    }\n",
       "</style>\n",
       "<table border=\"1\" class=\"dataframe\">\n",
       "  <thead>\n",
       "    <tr style=\"text-align: right;\">\n",
       "      <th></th>\n",
       "      <th>brand</th>\n",
       "      <th>CPG</th>\n",
       "    </tr>\n",
       "    <tr>\n",
       "      <th>categoria</th>\n",
       "      <th></th>\n",
       "      <th></th>\n",
       "    </tr>\n",
       "  </thead>\n",
       "  <tbody>\n",
       "    <tr>\n",
       "      <th>Café Soluble</th>\n",
       "      <td>Juan Valdez</td>\n",
       "      <td>Comp</td>\n",
       "    </tr>\n",
       "    <tr>\n",
       "      <th>Culinarios</th>\n",
       "      <td>Maggi Inglesa</td>\n",
       "      <td>Nestle</td>\n",
       "    </tr>\n",
       "  </tbody>\n",
       "</table>\n",
       "</div>"
      ]
     },
     "metadata": {},
     "execution_count": 3
    }
   ],
   "metadata": {}
  },
  {
   "cell_type": "code",
   "execution_count": 4,
   "source": [
    "import re\n",
    "\n",
    "total['to_search'] = total['brand'].apply(lambda x: '%'+re.sub(\"[^a-z0-9]\", '%', x.lower())+'%')\n",
    "total['to_search'] = total['to_search'].apply(lambda x: \"'\"+re.sub(\"%{2}\",'%',x)+\"',\")\n",
    "total = total[total['brand']!=''].copy()\n",
    "total.sample(4)"
   ],
   "outputs": [
    {
     "output_type": "execute_result",
     "data": {
      "text/plain": [
       "                                      brand     CPG  \\\n",
       "categoria                                             \n",
       "Fórmulas Infantiles               NAN 1 y 2  Nestle   \n",
       "Café Soluble                    Genomma Lab    Comp   \n",
       "Mascotas                           Friskies  Nestle   \n",
       "Alimentos Infantiles  Buddy Fruits Original    Comp   \n",
       "\n",
       "                                       to_search  \n",
       "categoria                                         \n",
       "Fórmulas Infantiles               '%nan%1%y%2%',  \n",
       "Café Soluble                    '%genomma%lab%',  \n",
       "Mascotas                           '%friskies%',  \n",
       "Alimentos Infantiles  '%buddy%fruits%original%',  "
      ],
      "text/html": [
       "<div>\n",
       "<style scoped>\n",
       "    .dataframe tbody tr th:only-of-type {\n",
       "        vertical-align: middle;\n",
       "    }\n",
       "\n",
       "    .dataframe tbody tr th {\n",
       "        vertical-align: top;\n",
       "    }\n",
       "\n",
       "    .dataframe thead th {\n",
       "        text-align: right;\n",
       "    }\n",
       "</style>\n",
       "<table border=\"1\" class=\"dataframe\">\n",
       "  <thead>\n",
       "    <tr style=\"text-align: right;\">\n",
       "      <th></th>\n",
       "      <th>brand</th>\n",
       "      <th>CPG</th>\n",
       "      <th>to_search</th>\n",
       "    </tr>\n",
       "    <tr>\n",
       "      <th>categoria</th>\n",
       "      <th></th>\n",
       "      <th></th>\n",
       "      <th></th>\n",
       "    </tr>\n",
       "  </thead>\n",
       "  <tbody>\n",
       "    <tr>\n",
       "      <th>Fórmulas Infantiles</th>\n",
       "      <td>NAN 1 y 2</td>\n",
       "      <td>Nestle</td>\n",
       "      <td>'%nan%1%y%2%',</td>\n",
       "    </tr>\n",
       "    <tr>\n",
       "      <th>Café Soluble</th>\n",
       "      <td>Genomma Lab</td>\n",
       "      <td>Comp</td>\n",
       "      <td>'%genomma%lab%',</td>\n",
       "    </tr>\n",
       "    <tr>\n",
       "      <th>Mascotas</th>\n",
       "      <td>Friskies</td>\n",
       "      <td>Nestle</td>\n",
       "      <td>'%friskies%',</td>\n",
       "    </tr>\n",
       "    <tr>\n",
       "      <th>Alimentos Infantiles</th>\n",
       "      <td>Buddy Fruits Original</td>\n",
       "      <td>Comp</td>\n",
       "      <td>'%buddy%fruits%original%',</td>\n",
       "    </tr>\n",
       "  </tbody>\n",
       "</table>\n",
       "</div>"
      ]
     },
     "metadata": {},
     "execution_count": 4
    }
   ],
   "metadata": {}
  },
  {
   "cell_type": "markdown",
   "source": [
    "## Export"
   ],
   "metadata": {}
  },
  {
   "cell_type": "code",
   "execution_count": 5,
   "source": [
    "total.to_csv(BASE_DIR.joinpath(''.join(FILE_NAME.split('.')[:-1])+'_correct.csv'), sep='\\t', encoding='utf-16')"
   ],
   "outputs": [],
   "metadata": {}
  }
 ],
 "metadata": {
  "kernelspec": {
   "name": "python3",
   "display_name": "Python 3.9.1 64-bit ('venv': venv)"
  },
  "language_info": {
   "codemirror_mode": {
    "name": "ipython",
    "version": 3
   },
   "file_extension": ".py",
   "mimetype": "text/x-python",
   "name": "python",
   "nbconvert_exporter": "python",
   "pygments_lexer": "ipython3",
   "version": "3.9.1"
  },
  "toc": {
   "base_numbering": 1,
   "nav_menu": {},
   "number_sections": true,
   "sideBar": true,
   "skip_h1_title": true,
   "title_cell": "Table of Contents",
   "title_sidebar": "Contents",
   "toc_cell": false,
   "toc_position": {
    "height": "calc(100% - 180px)",
    "left": "10px",
    "top": "150px",
    "width": "353.583px"
   },
   "toc_section_display": true,
   "toc_window_display": false
  },
  "varInspector": {
   "cols": {
    "lenName": 16,
    "lenType": 16,
    "lenVar": 40
   },
   "kernels_config": {
    "python": {
     "delete_cmd_postfix": "",
     "delete_cmd_prefix": "del ",
     "library": "var_list.py",
     "varRefreshCmd": "print(var_dic_list())"
    },
    "r": {
     "delete_cmd_postfix": ") ",
     "delete_cmd_prefix": "rm(",
     "library": "var_list.r",
     "varRefreshCmd": "cat(var_dic_list()) "
    }
   },
   "types_to_exclude": [
    "module",
    "function",
    "builtin_function_or_method",
    "instance",
    "_Feature"
   ],
   "window_display": false
  },
  "interpreter": {
   "hash": "43c7e786f83339f88293178a498b997755bb834764969670e358492d0c4260ad"
  }
 },
 "nbformat": 4,
 "nbformat_minor": 5
}