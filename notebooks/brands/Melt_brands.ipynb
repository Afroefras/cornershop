{
 "cells": [
  {
   "cell_type": "markdown",
   "source": [
    "# Performance by product --> SoM Dashboard"
   ],
   "metadata": {}
  },
  {
   "cell_type": "code",
   "execution_count": 1,
   "source": [
    "from pathlib import Path\n",
    "\n",
    "BASE_DIR = Path('/Users/efraflores/Desktop/EF/Corner/Brands')\n",
    "FILE_NAME = 'Nestle_marcas.csv'"
   ],
   "outputs": [],
   "metadata": {
    "ExecuteTime": {
     "end_time": "2021-07-13T15:43:35.979494Z",
     "start_time": "2021-07-13T15:43:35.968928Z"
    }
   }
  },
  {
   "cell_type": "markdown",
   "source": [
    "## Import"
   ],
   "metadata": {
    "heading_collapsed": true
   }
  },
  {
   "cell_type": "code",
   "execution_count": 2,
   "source": [
    "import pandas as pd\n",
    "\n",
    "df = pd.read_csv(BASE_DIR.joinpath(FILE_NAME))\n",
    "df.columns = ['categoria','comp','nestle']\n",
    "df.set_index('categoria', inplace=True)\n",
    "df.sample(2)"
   ],
   "outputs": [
    {
     "output_type": "execute_result",
     "data": {
      "text/plain": [
       "                                                                      comp  \\\n",
       "categoria                                                                    \n",
       "Agua Saborizada          Bonafont Levité, Ciel Exprim, Be Light, Bonafo...   \n",
       "Aguas Naturales Premium       Fiji , Evian, Agua de Piedra y Garci Crespo    \n",
       "\n",
       "                                             nestle  \n",
       "categoria                                            \n",
       "Agua Saborizada          Agüitas, Sta María sabores  \n",
       "Aguas Naturales Premium                 Acqua Panna  "
      ],
      "text/html": [
       "<div>\n",
       "<style scoped>\n",
       "    .dataframe tbody tr th:only-of-type {\n",
       "        vertical-align: middle;\n",
       "    }\n",
       "\n",
       "    .dataframe tbody tr th {\n",
       "        vertical-align: top;\n",
       "    }\n",
       "\n",
       "    .dataframe thead th {\n",
       "        text-align: right;\n",
       "    }\n",
       "</style>\n",
       "<table border=\"1\" class=\"dataframe\">\n",
       "  <thead>\n",
       "    <tr style=\"text-align: right;\">\n",
       "      <th></th>\n",
       "      <th>comp</th>\n",
       "      <th>nestle</th>\n",
       "    </tr>\n",
       "    <tr>\n",
       "      <th>categoria</th>\n",
       "      <th></th>\n",
       "      <th></th>\n",
       "    </tr>\n",
       "  </thead>\n",
       "  <tbody>\n",
       "    <tr>\n",
       "      <th>Agua Saborizada</th>\n",
       "      <td>Bonafont Levité, Ciel Exprim, Be Light, Bonafo...</td>\n",
       "      <td>Agüitas, Sta María sabores</td>\n",
       "    </tr>\n",
       "    <tr>\n",
       "      <th>Aguas Naturales Premium</th>\n",
       "      <td>Fiji , Evian, Agua de Piedra y Garci Crespo</td>\n",
       "      <td>Acqua Panna</td>\n",
       "    </tr>\n",
       "  </tbody>\n",
       "</table>\n",
       "</div>"
      ]
     },
     "metadata": {},
     "execution_count": 2
    }
   ],
   "metadata": {
    "ExecuteTime": {
     "end_time": "2021-07-13T15:43:36.677023Z",
     "start_time": "2021-07-13T15:43:36.577330Z"
    },
    "hidden": true
   }
  },
  {
   "cell_type": "markdown",
   "source": [
    "## Transform"
   ],
   "metadata": {}
  },
  {
   "cell_type": "code",
   "execution_count": 3,
   "source": [
    "total = pd.DataFrame()\n",
    "\n",
    "for col in df.columns:\n",
    "    df[col] = df[col].str.replace(',',';')\n",
    "    aux = df[col].str.split(';', expand=True).melt(ignore_index=False).dropna().iloc[:,-1:].rename({'value':'brand'},axis=1)\n",
    "    aux['CPG'] = col.title()\n",
    "    total = total.append(aux, ignore_index=False)\n",
    "\n",
    "total['brand'] = total['brand'].str.strip()\n",
    "total.sample(2)"
   ],
   "outputs": [
    {
     "output_type": "execute_result",
     "data": {
      "text/plain": [
       "               brand     CPG\n",
       "categoria                   \n",
       "Mascotas   Tidy Cats  Nestle\n",
       "Snacks         Mafer    Comp"
      ],
      "text/html": [
       "<div>\n",
       "<style scoped>\n",
       "    .dataframe tbody tr th:only-of-type {\n",
       "        vertical-align: middle;\n",
       "    }\n",
       "\n",
       "    .dataframe tbody tr th {\n",
       "        vertical-align: top;\n",
       "    }\n",
       "\n",
       "    .dataframe thead th {\n",
       "        text-align: right;\n",
       "    }\n",
       "</style>\n",
       "<table border=\"1\" class=\"dataframe\">\n",
       "  <thead>\n",
       "    <tr style=\"text-align: right;\">\n",
       "      <th></th>\n",
       "      <th>brand</th>\n",
       "      <th>CPG</th>\n",
       "    </tr>\n",
       "    <tr>\n",
       "      <th>categoria</th>\n",
       "      <th></th>\n",
       "      <th></th>\n",
       "    </tr>\n",
       "  </thead>\n",
       "  <tbody>\n",
       "    <tr>\n",
       "      <th>Mascotas</th>\n",
       "      <td>Tidy Cats</td>\n",
       "      <td>Nestle</td>\n",
       "    </tr>\n",
       "    <tr>\n",
       "      <th>Snacks</th>\n",
       "      <td>Mafer</td>\n",
       "      <td>Comp</td>\n",
       "    </tr>\n",
       "  </tbody>\n",
       "</table>\n",
       "</div>"
      ]
     },
     "metadata": {},
     "execution_count": 3
    }
   ],
   "metadata": {}
  },
  {
   "cell_type": "code",
   "execution_count": 10,
   "source": [
    "import re\n",
    "\n",
    "total['to_search'] = total['brand'].apply(lambda x: re.sub(\"[^a-z0-9\\sáéíóú]\", '', x.lower()))\n",
    "total['to_search'] = total['to_search'].apply(lambda x: re.sub(\"\\s.\\s\", '', x.lower()))\n",
    "total['to_search'] = total['to_search'].apply(lambda x: re.sub(\"\\s\", '|', x.lower()))\n",
    "total = total[total['brand']!=''].copy()\n",
    "total.sample(4)"
   ],
   "outputs": [
    {
     "output_type": "execute_result",
     "data": {
      "text/plain": [
       "                                               brand     CPG  \\\n",
       "categoria                                                      \n",
       "Chocolates Impulso                         Tin Larín  Nestle   \n",
       "Mascotas                                     Campeon  Nestle   \n",
       "Mascotas                                      Exceed  Nestle   \n",
       "Fórmulas Infantiles  Especialidades: NAN Sin lactosa  Nestle   \n",
       "\n",
       "                                          to_search  \n",
       "categoria                                            \n",
       "Chocolates Impulso                        tin|larín  \n",
       "Mascotas                                    campeon  \n",
       "Mascotas                                     exceed  \n",
       "Fórmulas Infantiles  especialidades|nan|sin|lactosa  "
      ],
      "text/html": [
       "<div>\n",
       "<style scoped>\n",
       "    .dataframe tbody tr th:only-of-type {\n",
       "        vertical-align: middle;\n",
       "    }\n",
       "\n",
       "    .dataframe tbody tr th {\n",
       "        vertical-align: top;\n",
       "    }\n",
       "\n",
       "    .dataframe thead th {\n",
       "        text-align: right;\n",
       "    }\n",
       "</style>\n",
       "<table border=\"1\" class=\"dataframe\">\n",
       "  <thead>\n",
       "    <tr style=\"text-align: right;\">\n",
       "      <th></th>\n",
       "      <th>brand</th>\n",
       "      <th>CPG</th>\n",
       "      <th>to_search</th>\n",
       "    </tr>\n",
       "    <tr>\n",
       "      <th>categoria</th>\n",
       "      <th></th>\n",
       "      <th></th>\n",
       "      <th></th>\n",
       "    </tr>\n",
       "  </thead>\n",
       "  <tbody>\n",
       "    <tr>\n",
       "      <th>Chocolates Impulso</th>\n",
       "      <td>Tin Larín</td>\n",
       "      <td>Nestle</td>\n",
       "      <td>tin|larín</td>\n",
       "    </tr>\n",
       "    <tr>\n",
       "      <th>Mascotas</th>\n",
       "      <td>Campeon</td>\n",
       "      <td>Nestle</td>\n",
       "      <td>campeon</td>\n",
       "    </tr>\n",
       "    <tr>\n",
       "      <th>Mascotas</th>\n",
       "      <td>Exceed</td>\n",
       "      <td>Nestle</td>\n",
       "      <td>exceed</td>\n",
       "    </tr>\n",
       "    <tr>\n",
       "      <th>Fórmulas Infantiles</th>\n",
       "      <td>Especialidades: NAN Sin lactosa</td>\n",
       "      <td>Nestle</td>\n",
       "      <td>especialidades|nan|sin|lactosa</td>\n",
       "    </tr>\n",
       "  </tbody>\n",
       "</table>\n",
       "</div>"
      ]
     },
     "metadata": {},
     "execution_count": 10
    }
   ],
   "metadata": {}
  },
  {
   "cell_type": "markdown",
   "source": [
    "## Export"
   ],
   "metadata": {}
  },
  {
   "cell_type": "code",
   "execution_count": 20,
   "source": [
    "'|'.join(total['to_search'])"
   ],
   "outputs": [
    {
     "output_type": "execute_result",
     "data": {
      "text/plain": [
       "'café|garat|café|punta|del|cielo|cápsulas|lautrec|evaporada|alpura|a1|salsa|sazonadora|para|carne|chocomilk|alpura|leche|entera|polvo|mars|don|gustavo|enfamil|heinz|nutri|leche|en|polvo|bonafont|fiji|topo|chico|bonafont|levité|velvet|soda|kellogs|todas|pedigree|silk|alpura|kids|mafer|davenport|café|punta|del|cielo|soluble|garat|cápsulas|lyncott|sustituto|de|crema|pronto|condensada|kikkoman|salsa|teriyaki|calctose|soyalac|lindt|selecto|aptamily|2|nurturme|epura|evian|peafiel|ciel|exprim|peafiel|adas|quaker|natdog|ades|enfagrow|mister|twinings|café|portales|ily|cápsulas|crema|para|café|inter|alpura|dean|jacobs|sazonador|bbq|avena|rivero|chocolate|turin|la|suiza|chocolate|mesa|similacy|2|buddy|fruits|original|ciel|agua|de|piedragarci|crespo|ciel|mineralizada|be|light|peafiel|twist|post|ganador|8th|continent|friso|gold|3|frubotanas|alessa|jacobs|sf|coffee|cápsulas|delight|lala|knorr|choco|choco|mms|chocolate|ibarra|frisolac|charles|alice|zoé|bonafont|juizzy|lacroix|kashi|top|choice|gud|aptamil|3|belara|la|pastora|legal|oquendo|califia|dul|cerel|kinder|chocolate|moctezuma|sma|gold|happy|baby|evian|bonafont|kids|very|natures|path|marca|propia|calahua|cashitas|mc|cormick|juan|valdez|los|portales|cápsulas|café|culto|cacao|orgánico|hersheys|la|frontera|parents|choice|fiji|ciel|mini|campo|vivo|pal|ripple|aires|de|campo|therbal|oro|snickers|marcas|propias|bodega|aurrera|la|costea|marca|propia|selecto|epurita|full|circle|davidoff|milky|way|great|value|selecto|skarch|lala|vita|internacional|ferrero|almond|breeze|moretto|kisses|califia|caflib|la|corona|a|de|coco|genomma|lab|ritter|sport|gran|vita|blasson|huevo|kinder|nescafé|dolce|gusto|coffee|mate|la|lechera|jugo|maggi|carlospolvo|svelty|abuelita|golosina|abuelita|good|start|gerber|nutri|rindes|gerber|acqua|panna|perrier|agitas|perriersan|pellegrino|sabores|fitness|alpo|natures|heart|nido|kindernido|deslactosada|natures|heart|natures|heart|nescafé|decaf|starbucks|natures|heart|carnation|quitando|polvo|jugoso|al|sarten|nesquik|almon|ris|nany|2|nestum|canration|polvo|sta|maría|acqua|panna|sta|maría|sabores|golden|grahams|beggin|terrafertil|nido|preescolar|tasters|choice|orgánica|cross||blackwell|morelia|azúcar|especialidades|nan|sin|lactosa|cerelac|pureza|vital|s|pellegrino|la|lechera|cereal|beneful|carnation|organica|excella|gold|café|de|olla|almendracoco|consomate|abuelita|polvo|carlos|v|nan|prebio|natures|heart|corn|flakes|bonzo|almendracoco|nany|4|dolca|maggi|inglesa|crunch|carloscereal|campeon|good|care|starbucks|soluble|maggi|caldo|freskas|nesquik|canine|y|tm|maggi|cocktail|gold|trix|cat|chow|cappuccino|soya|maggi|kit|kat|cookie|crisp|dentalife|larín|lucky|charms|dog|chow|tin|larín|cinnamon|toast|crunch|exceed|cheerios|fancy|feast|felix|friskies|gatina|mainstay|one|pro|plan|smoochies|snacks|tidy|cats'"
      ]
     },
     "metadata": {},
     "execution_count": 20
    }
   ],
   "metadata": {}
  },
  {
   "cell_type": "code",
   "execution_count": 6,
   "source": [
    "total.to_csv(BASE_DIR.joinpath(''.join(FILE_NAME.split('.')[:-1])+'_correct.csv'), sep='\\t', encoding='utf-16')"
   ],
   "outputs": [],
   "metadata": {}
  }
 ],
 "metadata": {
  "kernelspec": {
   "name": "python3",
   "display_name": "Python 3.9.1 64-bit ('venv': venv)"
  },
  "language_info": {
   "codemirror_mode": {
    "name": "ipython",
    "version": 3
   },
   "file_extension": ".py",
   "mimetype": "text/x-python",
   "name": "python",
   "nbconvert_exporter": "python",
   "pygments_lexer": "ipython3",
   "version": "3.9.1"
  },
  "toc": {
   "base_numbering": 1,
   "nav_menu": {},
   "number_sections": true,
   "sideBar": true,
   "skip_h1_title": true,
   "title_cell": "Table of Contents",
   "title_sidebar": "Contents",
   "toc_cell": false,
   "toc_position": {
    "height": "calc(100% - 180px)",
    "left": "10px",
    "top": "150px",
    "width": "353.583px"
   },
   "toc_section_display": true,
   "toc_window_display": false
  },
  "varInspector": {
   "cols": {
    "lenName": 16,
    "lenType": 16,
    "lenVar": 40
   },
   "kernels_config": {
    "python": {
     "delete_cmd_postfix": "",
     "delete_cmd_prefix": "del ",
     "library": "var_list.py",
     "varRefreshCmd": "print(var_dic_list())"
    },
    "r": {
     "delete_cmd_postfix": ") ",
     "delete_cmd_prefix": "rm(",
     "library": "var_list.r",
     "varRefreshCmd": "cat(var_dic_list()) "
    }
   },
   "types_to_exclude": [
    "module",
    "function",
    "builtin_function_or_method",
    "instance",
    "_Feature"
   ],
   "window_display": false
  },
  "interpreter": {
   "hash": "43c7e786f83339f88293178a498b997755bb834764969670e358492d0c4260ad"
  }
 },
 "nbformat": 4,
 "nbformat_minor": 5
}