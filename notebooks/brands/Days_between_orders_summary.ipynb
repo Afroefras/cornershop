{
 "cells": [
  {
   "cell_type": "code",
   "execution_count": 1,
   "id": "3cfea296",
   "metadata": {
    "ExecuteTime": {
     "end_time": "2021-07-15T22:25:22.001344Z",
     "start_time": "2021-07-15T22:25:21.992737Z"
    }
   },
   "outputs": [],
   "source": [
    "import sys\n",
    "sys.path.append('/Users/efraflores/Desktop/hub/cornershop/venv/lib/python3.9/site-packages')"
   ]
  },
  {
   "cell_type": "markdown",
   "id": "9f4aa819",
   "metadata": {},
   "source": [
    "# Days between orders"
   ]
  },
  {
   "cell_type": "code",
   "execution_count": 2,
   "id": "e88e8efb",
   "metadata": {
    "ExecuteTime": {
     "end_time": "2021-07-15T22:25:22.008198Z",
     "start_time": "2021-07-15T22:25:22.004322Z"
    }
   },
   "outputs": [],
   "source": [
    "BASE_DIR = '/Users/efraflores/Desktop/EF/Corner/Brands/Requests'\n",
    "FILE_BASE_NAME = 'dbo_82'"
   ]
  },
  {
   "cell_type": "code",
   "execution_count": 3,
   "id": "7ffb7d00",
   "metadata": {
    "ExecuteTime": {
     "end_time": "2021-07-15T22:25:22.016115Z",
     "start_time": "2021-07-15T22:25:22.011550Z"
    }
   },
   "outputs": [
    {
     "output_type": "stream",
     "name": "stdout",
     "text": [
      "['dbo_82_210101.csv', 'dbo_82_210102.csv', 'dbo_82_210103.csv', 'dbo_82_210104.csv', 'dbo_82_210201.csv', 'dbo_82_210202.csv', 'dbo_82_210203.csv', 'dbo_82_210204.csv', 'dbo_82_210301.csv', 'dbo_82_210302.csv', 'dbo_82_210303.csv', 'dbo_82_210304.csv', 'dbo_82_210401.csv', 'dbo_82_210402.csv', 'dbo_82_210500.csv', 'dbo_82_210501.csv', 'dbo_82_210502.csv', 'dbo_82_210601.csv', 'dbo_82_210602.csv', 'dbo_82_2107.csv']\n"
     ]
    }
   ],
   "source": [
    "import re\n",
    "import os\n",
    "\n",
    "FILE_NAME_LIST = [x for x in os.listdir(BASE_DIR) if re.search(fr'{FILE_BASE_NAME}_\\d+\\.csv',x)!=None]\n",
    "print(sorted(FILE_NAME_LIST))"
   ]
  },
  {
   "cell_type": "markdown",
   "id": "ae772c45",
   "metadata": {},
   "source": [
    "## Functions"
   ]
  },
  {
   "cell_type": "markdown",
   "id": "a3d9f37c",
   "metadata": {
    "heading_collapsed": true
   },
   "source": [
    "### Timing and tone"
   ]
  },
  {
   "cell_type": "code",
   "execution_count": 4,
   "id": "411236b1",
   "metadata": {
    "ExecuteTime": {
     "end_time": "2021-07-15T22:25:22.205203Z",
     "start_time": "2021-07-15T22:25:22.019363Z"
    },
    "hidden": true
   },
   "outputs": [],
   "source": [
    "import time\n",
    "import numpy as np\n",
    "from IPython.lib.display import Audio\n",
    "\n",
    "start = time.time()\n",
    "def time_exp(x):\n",
    "    minutes, seconds = np.floor(x/60), 60*(x/60-np.floor(x/60))\n",
    "    print(f\"{'{:.0f}'.format(minutes)} minutos con {'{:.2f}'.format(seconds)} segundos\")\n",
    "    \n",
    "def tono(a=1000, b=700, play_time_seconds=1, framerate=4410):\n",
    "    t = np.linspace(0, play_time_seconds, framerate*play_time_seconds)*np.pi\n",
    "    return Audio(np.sin(a*t) + np.sin(b*t), rate=framerate, autoplay=True)"
   ]
  },
  {
   "cell_type": "markdown",
   "id": "42e2f40c",
   "metadata": {},
   "source": [
    "## Import"
   ]
  },
  {
   "cell_type": "code",
   "execution_count": 5,
   "id": "eab75ce4",
   "metadata": {
    "ExecuteTime": {
     "end_time": "2021-07-15T22:25:31.878462Z",
     "start_time": "2021-07-15T22:25:27.204762Z"
    }
   },
   "outputs": [
    {
     "output_type": "stream",
     "name": "stdout",
     "text": [
      "25142\n"
     ]
    },
    {
     "output_type": "display_data",
     "data": {
      "text/plain": "      order_date  order_id  user_id  requested  found  sales\n3559  2021/02/02  26876422   130745        2.0    1.0   90.0",
      "text/html": "<div>\n<style scoped>\n    .dataframe tbody tr th:only-of-type {\n        vertical-align: middle;\n    }\n\n    .dataframe tbody tr th {\n        vertical-align: top;\n    }\n\n    .dataframe thead th {\n        text-align: right;\n    }\n</style>\n<table border=\"1\" class=\"dataframe\">\n  <thead>\n    <tr style=\"text-align: right;\">\n      <th></th>\n      <th>order_date</th>\n      <th>order_id</th>\n      <th>user_id</th>\n      <th>requested</th>\n      <th>found</th>\n      <th>sales</th>\n    </tr>\n  </thead>\n  <tbody>\n    <tr>\n      <th>3559</th>\n      <td>2021/02/02</td>\n      <td>26876422</td>\n      <td>130745</td>\n      <td>2.0</td>\n      <td>1.0</td>\n      <td>90.0</td>\n    </tr>\n  </tbody>\n</table>\n</div>"
     },
     "metadata": {}
    }
   ],
   "source": [
    "import pandas as pd\n",
    "\n",
    "df = pd.DataFrame()\n",
    "for file_name in FILE_NAME_LIST:\n",
    "    df = df.append(pd.read_csv(os.path.join(BASE_DIR,file_name)),ignore_index=True)\n",
    "print(len(df))\n",
    "display(df.sample())"
   ]
  },
  {
   "source": [
    "## Transform"
   ],
   "cell_type": "markdown",
   "metadata": {}
  },
  {
   "source": [
    "### Date variables"
   ],
   "cell_type": "markdown",
   "metadata": {}
  },
  {
   "cell_type": "code",
   "execution_count": 6,
   "metadata": {},
   "outputs": [
    {
     "output_type": "execute_result",
     "data": {
      "text/plain": [
       "     order_date  order_id  user_id  requested  found  sales  year  week  \\\n",
       "4220 2021-02-06  27062147  4106398        1.0    1.0   39.0  2021     5   \n",
       "\n",
       "      weekday  month  bimonth year_week  \n",
       "4220        6      2        1   2021_05  "
      ],
      "text/html": "<div>\n<style scoped>\n    .dataframe tbody tr th:only-of-type {\n        vertical-align: middle;\n    }\n\n    .dataframe tbody tr th {\n        vertical-align: top;\n    }\n\n    .dataframe thead th {\n        text-align: right;\n    }\n</style>\n<table border=\"1\" class=\"dataframe\">\n  <thead>\n    <tr style=\"text-align: right;\">\n      <th></th>\n      <th>order_date</th>\n      <th>order_id</th>\n      <th>user_id</th>\n      <th>requested</th>\n      <th>found</th>\n      <th>sales</th>\n      <th>year</th>\n      <th>week</th>\n      <th>weekday</th>\n      <th>month</th>\n      <th>bimonth</th>\n      <th>year_week</th>\n    </tr>\n  </thead>\n  <tbody>\n    <tr>\n      <th>4220</th>\n      <td>2021-02-06</td>\n      <td>27062147</td>\n      <td>4106398</td>\n      <td>1.0</td>\n      <td>1.0</td>\n      <td>39.0</td>\n      <td>2021</td>\n      <td>5</td>\n      <td>6</td>\n      <td>2</td>\n      <td>1</td>\n      <td>2021_05</td>\n    </tr>\n  </tbody>\n</table>\n</div>"
     },
     "metadata": {},
     "execution_count": 6
    }
   ],
   "source": [
    "df['order_date'] = pd.to_datetime(df['order_date'])\n",
    "df[['year','week','weekday']] = df['order_date'].dt.isocalendar()\n",
    "df['month'] = df['order_date'].dt.month\n",
    "df['bimonth'] = df['month'].map(dict(zip(range(1,13),[x//2+1 for x in range(12)])))\n",
    "df['year_week'] = df['year'].astype(str)+'_'+df['week'].apply(lambda x: str(x).zfill(2))\n",
    "df.sample()"
   ]
  },
  {
   "source": [
    "### Proper order"
   ],
   "cell_type": "markdown",
   "metadata": {}
  },
  {
   "cell_type": "code",
   "execution_count": 7,
   "metadata": {},
   "outputs": [],
   "source": [
    "df.sort_values(['user_id','order_date','order_id'],inplace=True)"
   ]
  },
  {
   "source": [
    "### Order number"
   ],
   "cell_type": "markdown",
   "metadata": {}
  },
  {
   "cell_type": "code",
   "execution_count": 8,
   "metadata": {},
   "outputs": [],
   "source": [
    "df['n_order'] = df.groupby(['user_id'])['order_date'].rank()"
   ]
  },
  {
   "source": [
    "### Last order date"
   ],
   "cell_type": "markdown",
   "metadata": {}
  },
  {
   "cell_type": "code",
   "execution_count": 9,
   "metadata": {},
   "outputs": [],
   "source": [
    "df['last_order_date'] = df.groupby(['user_id'])['order_date'].shift()"
   ]
  },
  {
   "source": [
    "### Days between orders"
   ],
   "cell_type": "markdown",
   "metadata": {}
  },
  {
   "source": [
    "df['dbo'] = (df['order_date']-df['last_order_date']).apply(lambda x: x.days)"
   ],
   "cell_type": "code",
   "metadata": {},
   "execution_count": 10,
   "outputs": []
  },
  {
   "source": [
    "### Days between orders range"
   ],
   "cell_type": "markdown",
   "metadata": {}
  },
  {
   "cell_type": "code",
   "execution_count": 11,
   "metadata": {},
   "outputs": [],
   "source": [
    "#df['dbo_cut'],dbo_bins = pd.qcut(df['dbo'], q=10, retbins=True)\n",
    "df['dbo_cut'] = pd.cut(df['dbo'],bins=[-1,0,6,8,12,15,21,28,36,50,77,196])\n",
    "df['dbo_cut'] = df['dbo_cut'].apply(lambda x:str(int(x.left)+1).zfill(2)+' a '+str(int(x.right)).zfill(2))"
   ]
  },
  {
   "source": [
    "### Example"
   ],
   "cell_type": "markdown",
   "metadata": {}
  },
  {
   "cell_type": "code",
   "execution_count": 12,
   "metadata": {},
   "outputs": [
    {
     "output_type": "execute_result",
     "data": {
      "text/plain": [
       "      order_date  order_id  user_id  requested  found   sales  year  week  \\\n",
       "17715 2021-01-07  25307100   689117        1.0    1.0   81.00  2021     1   \n",
       "19934 2021-01-25  26443530   689117        1.0    1.0   86.15  2021     4   \n",
       "20130 2021-01-27  26526467   689117        1.0    1.0   86.15  2021     4   \n",
       "20671 2021-01-30  26724358   689117        1.0    1.0   87.00  2021     4   \n",
       "3475  2021-02-01  26836416   689117        1.0    1.0   87.00  2021     5   \n",
       "4411  2021-02-06  27129502   689117        1.0    1.0   90.00  2021     5   \n",
       "1701  2021-02-09  27254851   689117        4.0    2.0  174.00  2021     6   \n",
       "\n",
       "       weekday  month  bimonth year_week  n_order last_order_date   dbo  \\\n",
       "17715        4      1        1   2021_01      1.0             NaT   NaN   \n",
       "19934        1      1        1   2021_04      2.0      2021-01-07  18.0   \n",
       "20130        3      1        1   2021_04      3.0      2021-01-25   2.0   \n",
       "20671        6      1        1   2021_04      4.0      2021-01-27   3.0   \n",
       "3475         1      2        1   2021_05      5.0      2021-01-30   2.0   \n",
       "4411         6      2        1   2021_05      6.0      2021-02-01   5.0   \n",
       "1701         2      2        1   2021_06      7.0      2021-02-06   3.0   \n",
       "\n",
       "       dbo_cut  \n",
       "17715      NaN  \n",
       "19934  16 a 21  \n",
       "20130  01 a 06  \n",
       "20671  01 a 06  \n",
       "3475   01 a 06  \n",
       "4411   01 a 06  \n",
       "1701   01 a 06  "
      ],
      "text/html": "<div>\n<style scoped>\n    .dataframe tbody tr th:only-of-type {\n        vertical-align: middle;\n    }\n\n    .dataframe tbody tr th {\n        vertical-align: top;\n    }\n\n    .dataframe thead th {\n        text-align: right;\n    }\n</style>\n<table border=\"1\" class=\"dataframe\">\n  <thead>\n    <tr style=\"text-align: right;\">\n      <th></th>\n      <th>order_date</th>\n      <th>order_id</th>\n      <th>user_id</th>\n      <th>requested</th>\n      <th>found</th>\n      <th>sales</th>\n      <th>year</th>\n      <th>week</th>\n      <th>weekday</th>\n      <th>month</th>\n      <th>bimonth</th>\n      <th>year_week</th>\n      <th>n_order</th>\n      <th>last_order_date</th>\n      <th>dbo</th>\n      <th>dbo_cut</th>\n    </tr>\n  </thead>\n  <tbody>\n    <tr>\n      <th>17715</th>\n      <td>2021-01-07</td>\n      <td>25307100</td>\n      <td>689117</td>\n      <td>1.0</td>\n      <td>1.0</td>\n      <td>81.00</td>\n      <td>2021</td>\n      <td>1</td>\n      <td>4</td>\n      <td>1</td>\n      <td>1</td>\n      <td>2021_01</td>\n      <td>1.0</td>\n      <td>NaT</td>\n      <td>NaN</td>\n      <td>NaN</td>\n    </tr>\n    <tr>\n      <th>19934</th>\n      <td>2021-01-25</td>\n      <td>26443530</td>\n      <td>689117</td>\n      <td>1.0</td>\n      <td>1.0</td>\n      <td>86.15</td>\n      <td>2021</td>\n      <td>4</td>\n      <td>1</td>\n      <td>1</td>\n      <td>1</td>\n      <td>2021_04</td>\n      <td>2.0</td>\n      <td>2021-01-07</td>\n      <td>18.0</td>\n      <td>16 a 21</td>\n    </tr>\n    <tr>\n      <th>20130</th>\n      <td>2021-01-27</td>\n      <td>26526467</td>\n      <td>689117</td>\n      <td>1.0</td>\n      <td>1.0</td>\n      <td>86.15</td>\n      <td>2021</td>\n      <td>4</td>\n      <td>3</td>\n      <td>1</td>\n      <td>1</td>\n      <td>2021_04</td>\n      <td>3.0</td>\n      <td>2021-01-25</td>\n      <td>2.0</td>\n      <td>01 a 06</td>\n    </tr>\n    <tr>\n      <th>20671</th>\n      <td>2021-01-30</td>\n      <td>26724358</td>\n      <td>689117</td>\n      <td>1.0</td>\n      <td>1.0</td>\n      <td>87.00</td>\n      <td>2021</td>\n      <td>4</td>\n      <td>6</td>\n      <td>1</td>\n      <td>1</td>\n      <td>2021_04</td>\n      <td>4.0</td>\n      <td>2021-01-27</td>\n      <td>3.0</td>\n      <td>01 a 06</td>\n    </tr>\n    <tr>\n      <th>3475</th>\n      <td>2021-02-01</td>\n      <td>26836416</td>\n      <td>689117</td>\n      <td>1.0</td>\n      <td>1.0</td>\n      <td>87.00</td>\n      <td>2021</td>\n      <td>5</td>\n      <td>1</td>\n      <td>2</td>\n      <td>1</td>\n      <td>2021_05</td>\n      <td>5.0</td>\n      <td>2021-01-30</td>\n      <td>2.0</td>\n      <td>01 a 06</td>\n    </tr>\n    <tr>\n      <th>4411</th>\n      <td>2021-02-06</td>\n      <td>27129502</td>\n      <td>689117</td>\n      <td>1.0</td>\n      <td>1.0</td>\n      <td>90.00</td>\n      <td>2021</td>\n      <td>5</td>\n      <td>6</td>\n      <td>2</td>\n      <td>1</td>\n      <td>2021_05</td>\n      <td>6.0</td>\n      <td>2021-02-01</td>\n      <td>5.0</td>\n      <td>01 a 06</td>\n    </tr>\n    <tr>\n      <th>1701</th>\n      <td>2021-02-09</td>\n      <td>27254851</td>\n      <td>689117</td>\n      <td>4.0</td>\n      <td>2.0</td>\n      <td>174.00</td>\n      <td>2021</td>\n      <td>6</td>\n      <td>2</td>\n      <td>2</td>\n      <td>1</td>\n      <td>2021_06</td>\n      <td>7.0</td>\n      <td>2021-02-06</td>\n      <td>3.0</td>\n      <td>01 a 06</td>\n    </tr>\n  </tbody>\n</table>\n</div>"
     },
     "metadata": {},
     "execution_count": 12
    }
   ],
   "source": [
    "most_loyal_user = df['user_id'].value_counts().index.tolist()[0]\n",
    "df[df['user_id']==most_loyal_user].head(7)"
   ]
  },
  {
   "source": [
    "### Grouping"
   ],
   "cell_type": "markdown",
   "metadata": {}
  },
  {
   "cell_type": "code",
   "execution_count": 13,
   "metadata": {},
   "outputs": [
    {
     "output_type": "execute_result",
     "data": {
      "text/plain": [
       "dbo_cut    00 a 00  01 a 06  07 a 08  09 a 12  13 a 15  16 a 21  22 a 28  \\\n",
       "year_week                                                                  \n",
       "2020_53          0        2        0        0        0        0        0   \n",
       "2021_01          2       40        7        0        0        0        0   \n",
       "2021_02          6       63       39       36       10        3        0   \n",
       "2021_03          5       56       53       56       44       26        4   \n",
       "2021_04          2       56       59       49       56       65       28   \n",
       "2021_05          6       78       62       52       63       78       71   \n",
       "2021_06          2       61       47       53       42       48       39   \n",
       "2021_07          3       46       45       44       50       59       53   \n",
       "2021_08          1       30       39       51       41       51       49   \n",
       "2021_09          3       61       39       41       39       57       69   \n",
       "2021_10          5       46       39       41       45       49       44   \n",
       "2021_11          3       41       50       37       40       55       46   \n",
       "2021_12          4       49       37       43       51       52       41   \n",
       "2021_13          2       40       32       31       26       43       48   \n",
       "2021_14          3       39       36       37       31       45       44   \n",
       "2021_15          2       33       37       32       34       43       54   \n",
       "2021_16          1       38       40       39       46       24       39   \n",
       "2021_17          1       42       31       33       44       44       47   \n",
       "2021_18          2       45       35       38       36       45       32   \n",
       "2021_19          1       47       42       32       40       42       46   \n",
       "2021_20          0       30       28       31       41       45       38   \n",
       "2021_21          3       34       32       38       39       44       49   \n",
       "2021_22          6       43       48       31       32       52       40   \n",
       "2021_23          3       47       41       30       32       41       50   \n",
       "2021_24          4       33       40       42       36       52       52   \n",
       "2021_25          2       36       26       30       30       44       29   \n",
       "2021_26          5       39       30       33       46       53       56   \n",
       "2021_27          2       33       39       28       35       56       34   \n",
       "2021_28          1       35       34       39       45       47       41   \n",
       "\n",
       "dbo_cut    29 a 36  37 a 50  51 a 77  78 a 196  \n",
       "year_week                                       \n",
       "2020_53          0        0        0         0  \n",
       "2021_01          0        0        0         0  \n",
       "2021_02          0        0        0         0  \n",
       "2021_03          0        0        0         0  \n",
       "2021_04          0        0        0         0  \n",
       "2021_05         22        0        0         0  \n",
       "2021_06         46       16        0         0  \n",
       "2021_07         57       36        0         0  \n",
       "2021_08         48       46        4         0  \n",
       "2021_09         59       57       22         0  \n",
       "2021_10         49       64       46         0  \n",
       "2021_11         35       68       62         1  \n",
       "2021_12         33       59       64         9  \n",
       "2021_13         31       38       57        14  \n",
       "2021_14         38       47       69        25  \n",
       "2021_15         37       46       74        32  \n",
       "2021_16         40       47       56        50  \n",
       "2021_17         42       57       67        49  \n",
       "2021_18         42       52       66        76  \n",
       "2021_19         40       48       55        63  \n",
       "2021_20         37       37       51        69  \n",
       "2021_21         47       48       62        74  \n",
       "2021_22         55       43       66        92  \n",
       "2021_23         36       56       63       103  \n",
       "2021_24         37       52       62       101  \n",
       "2021_25         29       36       47        77  \n",
       "2021_26         43       47       56       104  \n",
       "2021_27         49       44       46        80  \n",
       "2021_28         45       50       55        96  "
      ],
      "text/html": "<div>\n<style scoped>\n    .dataframe tbody tr th:only-of-type {\n        vertical-align: middle;\n    }\n\n    .dataframe tbody tr th {\n        vertical-align: top;\n    }\n\n    .dataframe thead th {\n        text-align: right;\n    }\n</style>\n<table border=\"1\" class=\"dataframe\">\n  <thead>\n    <tr style=\"text-align: right;\">\n      <th>dbo_cut</th>\n      <th>00 a 00</th>\n      <th>01 a 06</th>\n      <th>07 a 08</th>\n      <th>09 a 12</th>\n      <th>13 a 15</th>\n      <th>16 a 21</th>\n      <th>22 a 28</th>\n      <th>29 a 36</th>\n      <th>37 a 50</th>\n      <th>51 a 77</th>\n      <th>78 a 196</th>\n    </tr>\n    <tr>\n      <th>year_week</th>\n      <th></th>\n      <th></th>\n      <th></th>\n      <th></th>\n      <th></th>\n      <th></th>\n      <th></th>\n      <th></th>\n      <th></th>\n      <th></th>\n      <th></th>\n    </tr>\n  </thead>\n  <tbody>\n    <tr>\n      <th>2020_53</th>\n      <td>0</td>\n      <td>2</td>\n      <td>0</td>\n      <td>0</td>\n      <td>0</td>\n      <td>0</td>\n      <td>0</td>\n      <td>0</td>\n      <td>0</td>\n      <td>0</td>\n      <td>0</td>\n    </tr>\n    <tr>\n      <th>2021_01</th>\n      <td>2</td>\n      <td>40</td>\n      <td>7</td>\n      <td>0</td>\n      <td>0</td>\n      <td>0</td>\n      <td>0</td>\n      <td>0</td>\n      <td>0</td>\n      <td>0</td>\n      <td>0</td>\n    </tr>\n    <tr>\n      <th>2021_02</th>\n      <td>6</td>\n      <td>63</td>\n      <td>39</td>\n      <td>36</td>\n      <td>10</td>\n      <td>3</td>\n      <td>0</td>\n      <td>0</td>\n      <td>0</td>\n      <td>0</td>\n      <td>0</td>\n    </tr>\n    <tr>\n      <th>2021_03</th>\n      <td>5</td>\n      <td>56</td>\n      <td>53</td>\n      <td>56</td>\n      <td>44</td>\n      <td>26</td>\n      <td>4</td>\n      <td>0</td>\n      <td>0</td>\n      <td>0</td>\n      <td>0</td>\n    </tr>\n    <tr>\n      <th>2021_04</th>\n      <td>2</td>\n      <td>56</td>\n      <td>59</td>\n      <td>49</td>\n      <td>56</td>\n      <td>65</td>\n      <td>28</td>\n      <td>0</td>\n      <td>0</td>\n      <td>0</td>\n      <td>0</td>\n    </tr>\n    <tr>\n      <th>2021_05</th>\n      <td>6</td>\n      <td>78</td>\n      <td>62</td>\n      <td>52</td>\n      <td>63</td>\n      <td>78</td>\n      <td>71</td>\n      <td>22</td>\n      <td>0</td>\n      <td>0</td>\n      <td>0</td>\n    </tr>\n    <tr>\n      <th>2021_06</th>\n      <td>2</td>\n      <td>61</td>\n      <td>47</td>\n      <td>53</td>\n      <td>42</td>\n      <td>48</td>\n      <td>39</td>\n      <td>46</td>\n      <td>16</td>\n      <td>0</td>\n      <td>0</td>\n    </tr>\n    <tr>\n      <th>2021_07</th>\n      <td>3</td>\n      <td>46</td>\n      <td>45</td>\n      <td>44</td>\n      <td>50</td>\n      <td>59</td>\n      <td>53</td>\n      <td>57</td>\n      <td>36</td>\n      <td>0</td>\n      <td>0</td>\n    </tr>\n    <tr>\n      <th>2021_08</th>\n      <td>1</td>\n      <td>30</td>\n      <td>39</td>\n      <td>51</td>\n      <td>41</td>\n      <td>51</td>\n      <td>49</td>\n      <td>48</td>\n      <td>46</td>\n      <td>4</td>\n      <td>0</td>\n    </tr>\n    <tr>\n      <th>2021_09</th>\n      <td>3</td>\n      <td>61</td>\n      <td>39</td>\n      <td>41</td>\n      <td>39</td>\n      <td>57</td>\n      <td>69</td>\n      <td>59</td>\n      <td>57</td>\n      <td>22</td>\n      <td>0</td>\n    </tr>\n    <tr>\n      <th>2021_10</th>\n      <td>5</td>\n      <td>46</td>\n      <td>39</td>\n      <td>41</td>\n      <td>45</td>\n      <td>49</td>\n      <td>44</td>\n      <td>49</td>\n      <td>64</td>\n      <td>46</td>\n      <td>0</td>\n    </tr>\n    <tr>\n      <th>2021_11</th>\n      <td>3</td>\n      <td>41</td>\n      <td>50</td>\n      <td>37</td>\n      <td>40</td>\n      <td>55</td>\n      <td>46</td>\n      <td>35</td>\n      <td>68</td>\n      <td>62</td>\n      <td>1</td>\n    </tr>\n    <tr>\n      <th>2021_12</th>\n      <td>4</td>\n      <td>49</td>\n      <td>37</td>\n      <td>43</td>\n      <td>51</td>\n      <td>52</td>\n      <td>41</td>\n      <td>33</td>\n      <td>59</td>\n      <td>64</td>\n      <td>9</td>\n    </tr>\n    <tr>\n      <th>2021_13</th>\n      <td>2</td>\n      <td>40</td>\n      <td>32</td>\n      <td>31</td>\n      <td>26</td>\n      <td>43</td>\n      <td>48</td>\n      <td>31</td>\n      <td>38</td>\n      <td>57</td>\n      <td>14</td>\n    </tr>\n    <tr>\n      <th>2021_14</th>\n      <td>3</td>\n      <td>39</td>\n      <td>36</td>\n      <td>37</td>\n      <td>31</td>\n      <td>45</td>\n      <td>44</td>\n      <td>38</td>\n      <td>47</td>\n      <td>69</td>\n      <td>25</td>\n    </tr>\n    <tr>\n      <th>2021_15</th>\n      <td>2</td>\n      <td>33</td>\n      <td>37</td>\n      <td>32</td>\n      <td>34</td>\n      <td>43</td>\n      <td>54</td>\n      <td>37</td>\n      <td>46</td>\n      <td>74</td>\n      <td>32</td>\n    </tr>\n    <tr>\n      <th>2021_16</th>\n      <td>1</td>\n      <td>38</td>\n      <td>40</td>\n      <td>39</td>\n      <td>46</td>\n      <td>24</td>\n      <td>39</td>\n      <td>40</td>\n      <td>47</td>\n      <td>56</td>\n      <td>50</td>\n    </tr>\n    <tr>\n      <th>2021_17</th>\n      <td>1</td>\n      <td>42</td>\n      <td>31</td>\n      <td>33</td>\n      <td>44</td>\n      <td>44</td>\n      <td>47</td>\n      <td>42</td>\n      <td>57</td>\n      <td>67</td>\n      <td>49</td>\n    </tr>\n    <tr>\n      <th>2021_18</th>\n      <td>2</td>\n      <td>45</td>\n      <td>35</td>\n      <td>38</td>\n      <td>36</td>\n      <td>45</td>\n      <td>32</td>\n      <td>42</td>\n      <td>52</td>\n      <td>66</td>\n      <td>76</td>\n    </tr>\n    <tr>\n      <th>2021_19</th>\n      <td>1</td>\n      <td>47</td>\n      <td>42</td>\n      <td>32</td>\n      <td>40</td>\n      <td>42</td>\n      <td>46</td>\n      <td>40</td>\n      <td>48</td>\n      <td>55</td>\n      <td>63</td>\n    </tr>\n    <tr>\n      <th>2021_20</th>\n      <td>0</td>\n      <td>30</td>\n      <td>28</td>\n      <td>31</td>\n      <td>41</td>\n      <td>45</td>\n      <td>38</td>\n      <td>37</td>\n      <td>37</td>\n      <td>51</td>\n      <td>69</td>\n    </tr>\n    <tr>\n      <th>2021_21</th>\n      <td>3</td>\n      <td>34</td>\n      <td>32</td>\n      <td>38</td>\n      <td>39</td>\n      <td>44</td>\n      <td>49</td>\n      <td>47</td>\n      <td>48</td>\n      <td>62</td>\n      <td>74</td>\n    </tr>\n    <tr>\n      <th>2021_22</th>\n      <td>6</td>\n      <td>43</td>\n      <td>48</td>\n      <td>31</td>\n      <td>32</td>\n      <td>52</td>\n      <td>40</td>\n      <td>55</td>\n      <td>43</td>\n      <td>66</td>\n      <td>92</td>\n    </tr>\n    <tr>\n      <th>2021_23</th>\n      <td>3</td>\n      <td>47</td>\n      <td>41</td>\n      <td>30</td>\n      <td>32</td>\n      <td>41</td>\n      <td>50</td>\n      <td>36</td>\n      <td>56</td>\n      <td>63</td>\n      <td>103</td>\n    </tr>\n    <tr>\n      <th>2021_24</th>\n      <td>4</td>\n      <td>33</td>\n      <td>40</td>\n      <td>42</td>\n      <td>36</td>\n      <td>52</td>\n      <td>52</td>\n      <td>37</td>\n      <td>52</td>\n      <td>62</td>\n      <td>101</td>\n    </tr>\n    <tr>\n      <th>2021_25</th>\n      <td>2</td>\n      <td>36</td>\n      <td>26</td>\n      <td>30</td>\n      <td>30</td>\n      <td>44</td>\n      <td>29</td>\n      <td>29</td>\n      <td>36</td>\n      <td>47</td>\n      <td>77</td>\n    </tr>\n    <tr>\n      <th>2021_26</th>\n      <td>5</td>\n      <td>39</td>\n      <td>30</td>\n      <td>33</td>\n      <td>46</td>\n      <td>53</td>\n      <td>56</td>\n      <td>43</td>\n      <td>47</td>\n      <td>56</td>\n      <td>104</td>\n    </tr>\n    <tr>\n      <th>2021_27</th>\n      <td>2</td>\n      <td>33</td>\n      <td>39</td>\n      <td>28</td>\n      <td>35</td>\n      <td>56</td>\n      <td>34</td>\n      <td>49</td>\n      <td>44</td>\n      <td>46</td>\n      <td>80</td>\n    </tr>\n    <tr>\n      <th>2021_28</th>\n      <td>1</td>\n      <td>35</td>\n      <td>34</td>\n      <td>39</td>\n      <td>45</td>\n      <td>47</td>\n      <td>41</td>\n      <td>45</td>\n      <td>50</td>\n      <td>55</td>\n      <td>96</td>\n    </tr>\n  </tbody>\n</table>\n</div>"
     },
     "metadata": {},
     "execution_count": 13
    }
   ],
   "source": [
    "by_week = df.fillna({'dbo':0}).pivot_table(index='year_week',columns='dbo_cut',values='user_id',aggfunc='nunique',fill_value=0)\n",
    "by_week"
   ]
  },
  {
   "cell_type": "markdown",
   "id": "0f517daa",
   "metadata": {},
   "source": [
    "## Export"
   ]
  },
  {
   "cell_type": "code",
   "execution_count": 14,
   "id": "bbf5beda",
   "metadata": {
    "ExecuteTime": {
     "end_time": "2021-07-15T23:02:42.262464Z",
     "start_time": "2021-07-15T23:02:42.253036Z"
    }
   },
   "outputs": [],
   "source": [
    "df.to_csv(os.path.join(BASE_DIR,FILE_BASE_NAME+'_total.csv'),sep='\\t',encoding='utf-16',index=False)\n",
    "by_week.to_excel(os.path.join(BASE_DIR,FILE_BASE_NAME+'_weekly.xlsx'))"
   ]
  },
  {
   "cell_type": "markdown",
   "id": "dcdcd125",
   "metadata": {},
   "source": [
    "## End"
   ]
  },
  {
   "cell_type": "code",
   "execution_count": 15,
   "id": "8cab033a",
   "metadata": {
    "ExecuteTime": {
     "end_time": "2021-07-15T22:25:33.994885Z",
     "start_time": "2021-07-15T22:25:33.977808Z"
    },
    "scrolled": true
   },
   "outputs": [
    {
     "output_type": "stream",
     "name": "stdout",
     "text": [
      "0 minutos con 1.61 segundos\n"
     ]
    },
    {
     "output_type": "execute_result",
     "data": {
      "text/plain": [
       "<IPython.lib.display.Audio object>"
      ],
      "text/html": "\n                <audio  controls=\"controls\" autoplay=\"autoplay\">\n                    <source src=\"data:audio/wav;base64,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\" type=\"audio/wav\" />\n                    Your browser does not support the audio element.\n                </audio>\n              "
     },
     "metadata": {},
     "execution_count": 15
    }
   ],
   "source": [
    "time_exp(time.time()-start)\n",
    "tono()"
   ]
  }
 ],
 "metadata": {
  "kernelspec": {
   "name": "python3",
   "display_name": "Python 3.9.1 64-bit"
  },
  "language_info": {
   "codemirror_mode": {
    "name": "ipython",
    "version": 3
   },
   "file_extension": ".py",
   "mimetype": "text/x-python",
   "name": "python",
   "nbconvert_exporter": "python",
   "pygments_lexer": "ipython3",
   "version": "3.9.1"
  },
  "toc": {
   "base_numbering": 1,
   "nav_menu": {},
   "number_sections": true,
   "sideBar": true,
   "skip_h1_title": true,
   "title_cell": "Table of Contents",
   "title_sidebar": "Contents",
   "toc_cell": false,
   "toc_position": {},
   "toc_section_display": true,
   "toc_window_display": true
  },
  "varInspector": {
   "cols": {
    "lenName": 16,
    "lenType": 16,
    "lenVar": 40
   },
   "kernels_config": {
    "python": {
     "delete_cmd_postfix": "",
     "delete_cmd_prefix": "del ",
     "library": "var_list.py",
     "varRefreshCmd": "print(var_dic_list())"
    },
    "r": {
     "delete_cmd_postfix": ") ",
     "delete_cmd_prefix": "rm(",
     "library": "var_list.r",
     "varRefreshCmd": "cat(var_dic_list()) "
    }
   },
   "types_to_exclude": [
    "module",
    "function",
    "builtin_function_or_method",
    "instance",
    "_Feature"
   ],
   "window_display": false
  },
  "interpreter": {
   "hash": "aee8b7b246df8f9039afb4144a1f6fd8d2ca17a180786b69acc140d282b71a49"
  }
 },
 "nbformat": 4,
 "nbformat_minor": 5
}