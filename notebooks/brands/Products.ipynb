{
 "cells": [
  {
   "cell_type": "code",
   "execution_count": 1,
   "id": "american-washington",
   "metadata": {
    "ExecuteTime": {
     "end_time": "2021-04-23T19:33:40.198842Z",
     "start_time": "2021-04-23T19:33:39.452443Z"
    }
   },
   "outputs": [
    {
     "data": {
      "text/plain": [
       "['.DS_Store',\n",
       " 'nielsen_coca.csv',\n",
       " 'nielsen_danone.csv',\n",
       " 'pbbc.csv',\n",
       " 'pbbc_1.csv',\n",
       " 'pbbc_2.csv',\n",
       " 'pbbc_3.csv',\n",
       " 'pbbc_4.csv',\n",
       " 'perf_prod_2005_2103.csv',\n",
       " 'products_coca.csv',\n",
       " 'products_coca_correct.csv',\n",
       " 'products_danone.csv',\n",
       " 'products_danone_may20_mar21.csv',\n",
       " 'som_coca.csv',\n",
       " 'som_danone.csv',\n",
       " 'tableau_prov_coca.csv']"
      ]
     },
     "execution_count": 1,
     "metadata": {},
     "output_type": "execute_result"
    }
   ],
   "source": [
    "# %load basic\n",
    "import os\n",
    "import numpy as np\n",
    "import pandas as pd\n",
    "import matplotlib.pyplot as plt\n",
    "pd.set_option('display.max_columns',200)\n",
    "pd.options.display.float_format = '{:.2f}'.format\n",
    "BASE_DIR = '/Users/efraflores/Desktop/EF/Corner/Catalogo/data/'\n",
    "sorted(os.listdir(BASE_DIR))"
   ]
  },
  {
   "cell_type": "code",
   "execution_count": 2,
   "id": "viral-envelope",
   "metadata": {
    "ExecuteTime": {
     "end_time": "2021-04-23T19:33:43.343537Z",
     "start_time": "2021-04-23T19:33:40.200814Z"
    }
   },
   "outputs": [
    {
     "name": "stderr",
     "output_type": "stream",
     "text": [
      "/Users/efraflores/Desktop/corner/corner/lib/python3.9/site-packages/IPython/core/interactiveshell.py:3155: DtypeWarning: Columns (2) have mixed types.Specify dtype option on import or set low_memory=False.\n",
      "  has_raised = await self.run_ast_nodes(code_ast.body, cell_name,\n"
     ]
    },
    {
     "name": "stdout",
     "output_type": "stream",
     "text": [
      "<class 'pandas.core.frame.DataFrame'>\n",
      "RangeIndex: 1629132 entries, 0 to 1629131\n",
      "Data columns (total 9 columns):\n",
      " #   Column         Non-Null Count    Dtype \n",
      "---  ------         --------------    ----- \n",
      " 0   n              1629132 non-null  int64 \n",
      " 1   product_id     1629132 non-null  int64 \n",
      " 2   barcodes       1628614 non-null  object\n",
      " 3   category_id    1629132 non-null  int64 \n",
      " 4   category_name  1629132 non-null  object\n",
      " 5   brand_id       1629132 non-null  int64 \n",
      " 6   brand_name     1629132 non-null  object\n",
      " 7   cpg_id         1629132 non-null  int64 \n",
      " 8   cpg_name       1629132 non-null  object\n",
      "dtypes: int64(5), object(4)\n",
      "memory usage: 111.9+ MB\n",
      "None\n"
     ]
    },
    {
     "data": {
      "text/html": [
       "<div>\n",
       "<style scoped>\n",
       "    .dataframe tbody tr th:only-of-type {\n",
       "        vertical-align: middle;\n",
       "    }\n",
       "\n",
       "    .dataframe tbody tr th {\n",
       "        vertical-align: top;\n",
       "    }\n",
       "\n",
       "    .dataframe thead th {\n",
       "        text-align: right;\n",
       "    }\n",
       "</style>\n",
       "<table border=\"1\" class=\"dataframe\">\n",
       "  <thead>\n",
       "    <tr style=\"text-align: right;\">\n",
       "      <th></th>\n",
       "      <th>n</th>\n",
       "      <th>product_id</th>\n",
       "      <th>barcodes</th>\n",
       "      <th>category_id</th>\n",
       "      <th>category_name</th>\n",
       "      <th>brand_id</th>\n",
       "      <th>brand_name</th>\n",
       "      <th>cpg_id</th>\n",
       "      <th>cpg_name</th>\n",
       "    </tr>\n",
       "  </thead>\n",
       "  <tbody>\n",
       "    <tr>\n",
       "      <th>1537746</th>\n",
       "      <td>4</td>\n",
       "      <td>3340088</td>\n",
       "      <td>7750075049888</td>\n",
       "      <td>1500</td>\n",
       "      <td>Cuidado del cabello</td>\n",
       "      <td>2465</td>\n",
       "      <td>Kativa</td>\n",
       "      <td>687</td>\n",
       "      <td>Starbrands</td>\n",
       "    </tr>\n",
       "  </tbody>\n",
       "</table>\n",
       "</div>"
      ],
      "text/plain": [
       "         n  product_id       barcodes  category_id        category_name  \\\n",
       "1537746  4     3340088  7750075049888         1500  Cuidado del cabello   \n",
       "\n",
       "         brand_id brand_name  cpg_id    cpg_name  \n",
       "1537746      2465     Kativa     687  Starbrands  "
      ]
     },
     "execution_count": 2,
     "metadata": {},
     "output_type": "execute_result"
    }
   ],
   "source": [
    "df = pd.DataFrame()\n",
    "for i in range(1,5):\n",
    "    df = df.append(pd.read_csv(os.path.join(BASE_DIR,f'pbbc_{i}.csv')),ignore_index=True)\n",
    "print(df.info())\n",
    "df.sample()"
   ]
  },
  {
   "cell_type": "code",
   "execution_count": 3,
   "id": "inner-report",
   "metadata": {
    "ExecuteTime": {
     "end_time": "2021-04-23T19:33:45.548215Z",
     "start_time": "2021-04-23T19:33:43.346668Z"
    }
   },
   "outputs": [],
   "source": [
    "df.drop_duplicates(subset=['product_id','barcodes']).to_csv(os.path.join(BASE_DIR,'pbbc.csv'),index=False)"
   ]
  }
 ],
 "metadata": {
  "kernelspec": {
   "display_name": "Python 3",
   "language": "python",
   "name": "python3"
  },
  "language_info": {
   "codemirror_mode": {
    "name": "ipython",
    "version": 3
   },
   "file_extension": ".py",
   "mimetype": "text/x-python",
   "name": "python",
   "nbconvert_exporter": "python",
   "pygments_lexer": "ipython3",
   "version": "3.9.1"
  },
  "toc": {
   "base_numbering": 1,
   "nav_menu": {},
   "number_sections": true,
   "sideBar": true,
   "skip_h1_title": true,
   "title_cell": "Table of Contents",
   "title_sidebar": "Contents",
   "toc_cell": false,
   "toc_position": {},
   "toc_section_display": true,
   "toc_window_display": false
  },
  "varInspector": {
   "cols": {
    "lenName": 16,
    "lenType": 16,
    "lenVar": 40
   },
   "kernels_config": {
    "python": {
     "delete_cmd_postfix": "",
     "delete_cmd_prefix": "del ",
     "library": "var_list.py",
     "varRefreshCmd": "print(var_dic_list())"
    },
    "r": {
     "delete_cmd_postfix": ") ",
     "delete_cmd_prefix": "rm(",
     "library": "var_list.r",
     "varRefreshCmd": "cat(var_dic_list()) "
    }
   },
   "types_to_exclude": [
    "module",
    "function",
    "builtin_function_or_method",
    "instance",
    "_Feature"
   ],
   "window_display": false
  }
 },
 "nbformat": 4,
 "nbformat_minor": 5
}
