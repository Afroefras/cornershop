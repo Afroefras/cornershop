{
 "cells": [
  {
   "cell_type": "markdown",
   "source": [
    "# SoM"
   ],
   "metadata": {}
  },
  {
   "cell_type": "markdown",
   "source": [
    "## Parameters"
   ],
   "metadata": {}
  },
  {
   "cell_type": "code",
   "execution_count": 3,
   "source": [
    "BASE_DIR = '/Users/efraflores/Desktop/EF/Corner/Brands/New_SoM'\n",
    "CPG_NAME = 'Nestle'"
   ],
   "outputs": [],
   "metadata": {}
  },
  {
   "cell_type": "markdown",
   "source": [
    "## Class"
   ],
   "metadata": {}
  },
  {
   "cell_type": "code",
   "execution_count": 61,
   "source": [
    "from time import sleep\n",
    "from pathlib import Path\n",
    "from re import sub, UNICODE\n",
    "from unicodedata import normalize\n",
    "from pandas import DataFrame, read_csv\n",
    "from IPython.display import clear_output\n",
    "\n",
    "class SoM:\n",
    "    def __init__(self, base_dir, cpg_name):\n",
    "        self.base_dir = Path(base_dir).joinpath(cpg_name)\n",
    "        self.cpg_name = cpg_name.strip().replace(' ','_').title()\n",
    "\n",
    "    def __str__(self) -> str:\n",
    "        return f'CPG:\\t{self.cpg_name}\\nPath:\\t{self.base_dir}'\n",
    "\n",
    "    def clean_text_column(self, text, pattern=\"[^a-zA-Z0-9\\s]\") -> str:\n",
    "        # Remove special characters like symbols or accents áäâàã\n",
    "        clean = normalize('NFD', str(text).replace('\\n', ' \\n ')).encode('ascii', 'ignore')\n",
    "        clean = sub(pattern, ' ', clean.decode('utf-8'), flags=UNICODE).strip().lower()\n",
    "        # Two or more spaces will be replaced with one\n",
    "        clean = sub(r'\\s{2,}',' ', clean)\n",
    "        # Clean any null string and replace spaces with underscore\n",
    "        clean = sub(r'^nan$','', clean).replace(' ','_')\n",
    "        return clean\n",
    "\n",
    "    def read_tableau_data(self) -> DataFrame:\n",
    "        df = read_csv(self.base_dir.joinpath(f'{self.cpg_name}_data.csv'), sep='\\t', encoding='utf-16', low_memory=False)\n",
    "        # Drop last \"Total\" row\n",
    "        df = df.iloc[:-1,:].copy()\n",
    "        # Clean every column name\n",
    "        df.columns = map(self.clean_text_column, df.columns)\n",
    "        return df\n",
    "\n",
    "    def create_catalog(self, category_col='category_en', cols_keep=['category_id','brand_name','category_en'], cols_before=['CPG_real','CPG','brand_id'], export=False) -> DataFrame:\n",
    "        # Without duplicates of parameter cols\n",
    "        df = self.read_tableau_data()[cols_keep].drop_duplicates().reset_index(drop=True)\n",
    "        # Create columns to fill manually\n",
    "        for col in cols_before: df[col] = 'EMPTY FOR NOW'\n",
    "        # Copy the category name as the default category name for the CPG\n",
    "        df['category_CPG'] = df[category_col]\n",
    "        # Sort in the correct format order\n",
    "        catalog = df[cols_before+cols_keep+['category_CPG']].copy()\n",
    "        # Export it as csv\n",
    "        if export: catalog.to_csv(self.base_dir.joinpath(f'{self.cpg_name}_catalog.csv'), index=False, sep='\\t', encoding='utf-16')\n",
    "        return catalog\n",
    "\n",
    "    def clean_tableau_data(self, col_month_year='month_year', to_drop=['share_sales','avg_ticket_currency','found_rate','fulfillment','frequency']) -> DataFrame:\n",
    "        df = self.read_tableau_data().drop(columns=to_drop)\n",
    "        # Split every row by its space \"july 2021\" --> ['july','2021']\n",
    "        df[col_month_year] = df[col_month_year].str.split()\n",
    "        # Get the first 3 characters from the 1st elem ['july','2021'] --> 'jul'\n",
    "        df['month'] = df[col_month_year].str[0].str[:3]\n",
    "        # Get the second element \n",
    "        df['year'] = df[col_month_year].str[1]\n",
    "        # Create the list+dict to map \"jul\" --> \"07_jul\"\n",
    "        list_month = ['ene','feb','mar','abr','may','jun','jul','ago','sep','oct','nov','dic']\n",
    "        dict_month = dict(zip(list_month, map(lambda x: str(x[0]).zfill(2)+'_'+x[1], zip(range(1,13),list_month))))\n",
    "        df['month'] = df['month'].map(dict_month)\n",
    "        # Remove the \"month_year\" column\n",
    "        df.drop(columns=col_month_year, inplace=True)\n",
    "        return df\n",
    "\n",
    "    def cool_print(self, text):\n",
    "        # Print as typing\n",
    "        acum = ''\n",
    "        for x in text:\n",
    "            acum += x\n",
    "            clear_output(wait=True)\n",
    "            sleep(.03)\n",
    "            print(acum)\n",
    "\n",
    "    def user_input(self):\n",
    "        # Ask user if he/she/they want to exit or continue\n",
    "        user_response = ''\n",
    "        while user_response not in ['y','n','Y','N']:\n",
    "            user_response = input('Type \"y\" to continue or \"n\" to exit\\n')\n",
    "        else: \n",
    "            if user_response in ('n','N'): exit\n",
    "\n",
    "    def create_som(self, **kwargs):\n",
    "        # Connect all methods to create the SoM data interacting with an user\n",
    "        self.cool_print(f'Welcome to SoM creator!\\nWe are about to build the data for {self.cpg_name.upper()}!')\n",
    "        self.user_input()\n",
    "        ask_catalog = ''\n",
    "        while ask_catalog not in ['y','n','Y','N']:\n",
    "            ask_catalog = input('Do you want to create a catalog? y/n\\n')\n",
    "        else: \n",
    "            if ask_catalog in ('y','Y'): \n",
    "                catalog = self.create_catalog()\n",
    "\n",
    "som = SoM(BASE_DIR, CPG_NAME)\n",
    "print(som)\n",
    "\n",
    "som.create_som()"
   ],
   "outputs": [
    {
     "output_type": "stream",
     "name": "stdout",
     "text": [
      "Welcome to SoM creator!\n",
      "We are about to build the data for NESTLE!\n"
     ]
    }
   ],
   "metadata": {}
  },
  {
   "cell_type": "code",
   "execution_count": null,
   "source": [],
   "outputs": [],
   "metadata": {}
  }
 ],
 "metadata": {
  "orig_nbformat": 4,
  "language_info": {
   "name": "python",
   "version": "3.9.1",
   "mimetype": "text/x-python",
   "codemirror_mode": {
    "name": "ipython",
    "version": 3
   },
   "pygments_lexer": "ipython3",
   "nbconvert_exporter": "python",
   "file_extension": ".py"
  },
  "kernelspec": {
   "name": "python3",
   "display_name": "Python 3.9.1 64-bit ('venv': venv)"
  },
  "interpreter": {
   "hash": "43c7e786f83339f88293178a498b997755bb834764969670e358492d0c4260ad"
  }
 },
 "nbformat": 4,
 "nbformat_minor": 2
}