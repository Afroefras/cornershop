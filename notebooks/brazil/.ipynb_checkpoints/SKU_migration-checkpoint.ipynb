{
 "cells": [
  {
   "cell_type": "markdown",
   "id": "logical-creek",
   "metadata": {},
   "source": [
    "# SKU migration"
   ]
  },
  {
   "cell_type": "markdown",
   "id": "endangered-antarctica",
   "metadata": {},
   "source": [
    "## Parameters"
   ]
  },
  {
   "cell_type": "code",
   "execution_count": 1,
   "id": "aeaa487b",
   "metadata": {
    "ExecuteTime": {
     "end_time": "2021-05-13T20:07:09.413868Z",
     "start_time": "2021-05-13T20:07:09.407104Z"
    }
   },
   "outputs": [],
   "source": [
    "import sys\n",
    "sys.path.append('/Users/efraflores/Desktop/hub/cornershop/venv/lib/python3.9/site-packages')"
   ]
  },
  {
   "cell_type": "code",
   "execution_count": 2,
   "id": "august-circular",
   "metadata": {
    "ExecuteTime": {
     "end_time": "2021-05-13T20:09:29.625377Z",
     "start_time": "2021-05-13T20:09:28.979328Z"
    }
   },
   "outputs": [],
   "source": [
    "import os\n",
    "import numpy as np\n",
    "import pandas as pd\n",
    "import datetime\n",
    "\n",
    "BASE_DIR = '/Users/efraflores/Desktop/EF/Corner/BR/SKU_migration/'\n",
    "week_number = str(datetime.datetime.today().isocalendar()[1]).zfill(2)\n",
    "\n",
    "STORE_NAME = 'BIG'\n",
    "BARCODES_COL,OLD_COL,NEW_COL = 'codigoproduto','upcwm_dv','upcsad_dv'\n",
    "\n",
    "#STORE_NAME = 'Sams'\n",
    "#BARCODES_COL,OLD_COL,NEW_COL = ' skubig ','UPC + DV OLD','UPC + DV NEW'\n",
    "\n",
    "#To deactivate\n",
    "LAST_VISIT_COL = 'max_last_visited'\n",
    "DOWNLOAD_DATE = datetime.datetime.now().date()\n",
    "DAYS = 4"
   ]
  },
  {
   "cell_type": "markdown",
   "id": "golden-cemetery",
   "metadata": {},
   "source": [
    "## Old sku vs catalog"
   ]
  },
  {
   "cell_type": "code",
   "execution_count": 3,
   "id": "continued-azerbaijan",
   "metadata": {
    "ExecuteTime": {
     "end_time": "2021-05-10T19:56:16.449020Z",
     "start_time": "2021-05-10T19:56:16.442369Z"
    }
   },
   "outputs": [],
   "source": [
    "#Change the Sams format to the one the pipeline needs\n",
    "try:\n",
    "    pd.ExcelFile(os.path.join(BASE_DIR,STORE_NAME+'.xlsx')).parse(0)[[BARCODES_COL,OLD_COL,NEW_COL]].dropna().astype(int).to_csv(os.path.join(BASE_DIR,'01_old_vs_new.csv'),index=False)\n",
    "except: pass"
   ]
  },
  {
   "cell_type": "code",
   "execution_count": 3,
   "id": "quality-canberra",
   "metadata": {
    "ExecuteTime": {
     "end_time": "2021-05-13T20:09:37.300862Z",
     "start_time": "2021-05-13T20:09:36.938654Z"
    },
    "scrolled": false
   },
   "outputs": [
    {
     "data": {
      "text/plain": [
       "\"'25133','4770','40000681533','65719','19996','53839','50906','51354','37877','58643','32490','10016','58735','39895','39338','19491','19460','55291','55314','41614','39321','23498','10108','10153','10221','25607','17619','31677','53426','69311','50104','50050','50067','28066','55475','321','60875','40853','36948','41348','64699','67539','53617','57165','30694','36092','31257','58155','6842','48309','71406','38096','529','840','38935','64262','22507','63043','25461','41669','38683','15493','41836','50029','15547','51941','59572','7511','41638','48996','14106','29827','51699','10467','40000899730','34692','41768','22613','4299','47876','10191','49177','32360','19170','40000899518','40000899709','49887','1663','307','4343','32506','52375','7849','26420','49825','42208','54324','54928','7092','52849','10443','12447','13024','10504','6835','25362','65818','26130','51569','48804','39543','9485','31516','69304','25263','4633','17923','40433','37440','40000114642','7450','55437','56014','55413','13444','58636','37495','30762','29285','1700','12287','12300','18913','54966','50968','18791','52115','57042','8266','14502','38287','37655','62312','14960','29476','54249','55253','6156','69298','7580','31318','59589','52641','51422','61391','61117','1038','3346','925','55451','49139','39420','40000899723','24570','24563','10245','10207','42864','11372','6736','37853','14670','61452','51019','10184','10115','10146','4107','3902','4626','6781','12362','60868','18739','40000899372','40419','40969','37105','36696','12591','54102','42031','20114','5494','123','64033','37372','17961','42246','9607','5753','33091','14212','185','451','758','19910','57561','50180','13925','13109','41812','7863','7900','61407','52627','10269','13246','13635','38621','62848','42420','22620','24785','54584','42345','5609','32001','40000899532','40000899754','37846','7566','25409','40000899778','40000899785','39772','42352','54089','31783','39451','5265','192','49818','50135','56182','58629','31226','59169','59152','1908','9508','39369','277','51897','4312','4800','4831','12454','36368','25454','43182','13420','34685','51071','11921','11853','14410','40570','25188','31394','54621','62329','60608','27632','154','60707','6248','12393','15172','50869','50883','55642','41683','58162','7085','56038','22651','12133','11914','12423','29445','30540','54942','5296','32421','55970','52603','57509','11976','53198','27069','6989','29469','10177','15196','53020','40000899747','15318','23191','50166','31240','6804','54843','32698','27984','6620','68987','38942','4824','51002','54867','5654','7634','37860','13383','32797','26710','61421','26482','39635','13840','14014','38539','68598','37938','208','19507','46527','17992','13055','51927','50739','27434','54591','68543','10603','25232','21135','51309','25546','25652','13918','13536','34982','36290','58988','22309','2264','338','19330','5173','24','6552','50715','36313','42925','17985','50388','38430','35699','1656','16964','53693','11013','7894','40600','8693','4336','6859','826','22644','13031','864','5746','38966','10627','1588','7054','26987','635','40624','24983','52597','1861','43076','58193','1670','7429','4480','253','31509','13550','31264','18852','50142','5524','41621','24945','24969','48187','7108','4152','40000899501','710','51224','58179','4640','25355','13345','60745','14335','41287','14090','40000899693','4541','26659','25218','13758','29582','51767','32995','6729','15516','47869','53419','61582','59220','13710','56243','12782','71383','10986','22255','10405','22453','61483','37389','9744','32599','13888','49122','26178','31585','26277','5821','28172','36375','68482','5791','60004','4565','4749','33008','6293','5241','50159','68772','7122','7047','7009','25522','42628','6996','67591','40662','16858','40000899365','8037','659','39604','51804','25478','4329','25843','37549','7870','57684','413','41829','31561','468','1830','29353','9881','1465','42796','67409','14403','67607','19040','27106','802','43021','12577','32223','37525','61490','22460','26444','31301','52085','26598','7436','4923','32605','49849','17565','17169','36351','38737','9904','29537','383','39444','43014','1953','11174','31745','41508','25096','32704','25836','12355','12379','24877','27403','61957','1649','3759','52054','31400','41645','31325','42680','14731','31639','7245','11495','50579','5159','46794','41652','61827','46817','10863','40000899488','9461','25294','68604','22583','14045','31356','50746','70638','437','13970','67577','63319','25393','13161','50708','32414','7115','6910','50128','61896','58711','29551','40000899549','29490','54850','31349','64934','56724','42260','9492','9874','642','39574','21128','31233','40808','58186','12911','19446','14342','60912','25966','68581','59688','25331','6583','64941','35125','8778','6644','3742','36702','12768','31479','34937','65856','41218','58995','39598','61414','6545','59725','25614','50098','3247','9850','51385','41539','33589','7016','6460','57219','25584','5845','4459','5258','31493','10955','19477','41690','39390','50944','15981','20077','39345','13130','3506','25034','69403','61445','61728','4879','43458','40001121120','39109','25621','54492','499','15097','25515','31776','54201','26642','27151','38461','35576','67515','34807','20046','4282','4305','50081','13505','57936','22798','13017','42017','35514','15479','67393','32025','11860','57608','11426','39512','58322','28158','60998','61476','19293','31219','41355','50111','16957','222','49764','65825','7214','46978','13994','67522','61001','43045','215','11341','68963','68765','31592','35712','22293','7412','765','260','21111','52856','26260','13390','37334','1632','25874','11501','6484','25225','10399','246','4701','50173','40000899358','43052','6668','31431','28691','21104','65832','19316','18326','35538','314','17268','55956','12348','61124','22262'\""
      ]
     },
     "execution_count": 3,
     "metadata": {},
     "output_type": "execute_result"
    }
   ],
   "source": [
    "new = pd.read_csv(os.path.join(BASE_DIR,'01_old_vs_new.csv'))\n",
    "new.drop_duplicates(subset=BARCODES_COL,inplace=True)\n",
    "new.rename(columns={OLD_COL:'old',NEW_COL:'new'},inplace=True)\n",
    "\n",
    "catalog = pd.read_csv(os.path.join(BASE_DIR,'02_catalog.csv'))\n",
    "catalog.drop_duplicates(subset='catalog_product_id',inplace=True)\n",
    "\n",
    "old_vs_cat = catalog.merge(new,left_on='sku',right_on='old')\n",
    "\n",
    "\"'\"+\"','\".join([str(x) for x in old_vs_cat['new']])+\"'\""
   ]
  },
  {
   "cell_type": "markdown",
   "id": "basic-patrol",
   "metadata": {},
   "source": [
    "## Map new sku"
   ]
  },
  {
   "cell_type": "code",
   "execution_count": 4,
   "id": "several-gibson",
   "metadata": {
    "ExecuteTime": {
     "end_time": "2021-05-13T20:10:45.413889Z",
     "start_time": "2021-05-13T20:10:45.369906Z"
    },
    "scrolled": true
   },
   "outputs": [
    {
     "data": {
      "text/html": [
       "<div>\n",
       "<style scoped>\n",
       "    .dataframe tbody tr th:only-of-type {\n",
       "        vertical-align: middle;\n",
       "    }\n",
       "\n",
       "    .dataframe tbody tr th {\n",
       "        vertical-align: top;\n",
       "    }\n",
       "\n",
       "    .dataframe thead th {\n",
       "        text-align: right;\n",
       "    }\n",
       "</style>\n",
       "<table border=\"1\" class=\"dataframe\">\n",
       "  <thead>\n",
       "    <tr style=\"text-align: right;\">\n",
       "      <th></th>\n",
       "      <th>sku</th>\n",
       "      <th>product_id</th>\n",
       "      <th>store_id</th>\n",
       "    </tr>\n",
       "  </thead>\n",
       "  <tbody>\n",
       "    <tr>\n",
       "      <th>0</th>\n",
       "      <td>30762</td>\n",
       "      <td>3741130</td>\n",
       "      <td>1481</td>\n",
       "    </tr>\n",
       "  </tbody>\n",
       "</table>\n",
       "</div>"
      ],
      "text/plain": [
       "     sku  product_id  store_id\n",
       "0  30762     3741130      1481"
      ]
     },
     "execution_count": 4,
     "metadata": {},
     "output_type": "execute_result"
    }
   ],
   "source": [
    "mapped = pd.read_csv(os.path.join(BASE_DIR,'03_mapped_sku.csv')).drop_duplicates()\n",
    "sku_migration = old_vs_cat.merge(mapped, on='new')[['new','catalog_product_id','store_id']]\n",
    "sku_migration.rename(columns={'new':'sku','catalog_product_id':'product_id'},inplace=True)\n",
    "\n",
    "sku_migration.to_csv(os.path.join(BASE_DIR,f'results/skumigration_week{week_number}_{STORE_NAME}.csv'),index=False)\n",
    "sku_migration.sample()"
   ]
  },
  {
   "cell_type": "markdown",
   "id": "leading-mandate",
   "metadata": {},
   "source": [
    "## Deactivate products"
   ]
  },
  {
   "cell_type": "code",
   "execution_count": 5,
   "id": "parallel-greene",
   "metadata": {
    "ExecuteTime": {
     "end_time": "2021-05-13T20:16:55.043645Z",
     "start_time": "2021-05-13T20:16:48.953929Z"
    }
   },
   "outputs": [
    {
     "name": "stderr",
     "output_type": "stream",
     "text": [
      "/Library/Frameworks/Python.framework/Versions/3.9/lib/python3.9/site-packages/IPython/core/interactiveshell.py:3169: DtypeWarning: Columns (27) have mixed types.Specify dtype option on import or set low_memory=False.\n",
      "  has_raised = await self.run_ast_nodes(code_ast.body, cell_name,\n"
     ]
    },
    {
     "name": "stdout",
     "output_type": "stream",
     "text": [
      "There were 112728 rows\n",
      "Just with the product_branch - max_date, there are 112728 rows\n",
      "Now, there are just 105003 product-branches with last-visited greater than 4 day(s)\n",
      "Finally, there are 104993 product-branches to deactivate, without the ones that we are mapping\n"
     ]
    }
   ],
   "source": [
    "supply = pd.read_csv(os.path.join(BASE_DIR,'04_supply.csv'))\n",
    "full = pd.read_csv(os.path.join(BASE_DIR,'05_full.csv'),sep='\\t',encoding='utf-16')\n",
    "full.columns = [x.strip().lower().replace(' ','_') for x in full.columns]\n",
    "deact = supply.merge(full[['branch_id','product_id']])\n",
    "deact[LAST_VISIT_COL] = pd.to_datetime(deact[LAST_VISIT_COL])\n",
    "\n",
    "print(f'There were {len(deact)} rows')\n",
    "deact = deact.merge(deact.groupby('product_branch_id')[LAST_VISIT_COL].max(),\n",
    "                    on=['product_branch_id',LAST_VISIT_COL])\n",
    "print(f'Just with the product_branch - max_date, there are {len(deact)} rows')\n",
    "\n",
    "deact['deactivate_days'] = ((DOWNLOAD_DATE-pd.to_datetime(deact[LAST_VISIT_COL]).dt.date)\n",
    "                            /np.timedelta64(1,'D')).astype(int)\n",
    "deact = deact[deact['deactivate_days']>DAYS].copy()\n",
    "print(f'Now, there are just {len(deact)} product-branches with last-visited greater than {DAYS} day(s)')\n",
    "\n",
    "deact = deact[~deact['product_id'].isin(sku_migration['product_id'])\n",
    "             ][['store_id','product_branch_id']].astype(int)\n",
    "deact[['price','availability','schedule']] = '','UNAVAILABLE',''\n",
    "print(f'Finally, there are {len(deact)} product-branches to deactivate, without the ones that we are mapping')"
   ]
  },
  {
   "cell_type": "code",
   "execution_count": 21,
   "id": "exempt-playlist",
   "metadata": {
    "ExecuteTime": {
     "end_time": "2021-05-06T21:11:56.064145Z",
     "start_time": "2021-05-06T21:11:54.427253Z"
    }
   },
   "outputs": [
    {
     "data": {
      "text/html": [
       "<div>\n",
       "<style scoped>\n",
       "    .dataframe tbody tr th:only-of-type {\n",
       "        vertical-align: middle;\n",
       "    }\n",
       "\n",
       "    .dataframe tbody tr th {\n",
       "        vertical-align: top;\n",
       "    }\n",
       "\n",
       "    .dataframe thead th {\n",
       "        text-align: right;\n",
       "    }\n",
       "</style>\n",
       "<table border=\"1\" class=\"dataframe\">\n",
       "  <thead>\n",
       "    <tr style=\"text-align: right;\">\n",
       "      <th></th>\n",
       "      <th>store_id</th>\n",
       "      <th>product_branch_id</th>\n",
       "      <th>price</th>\n",
       "      <th>availability</th>\n",
       "      <th>schedule</th>\n",
       "    </tr>\n",
       "  </thead>\n",
       "  <tbody>\n",
       "    <tr>\n",
       "      <th>408</th>\n",
       "      <td>1480</td>\n",
       "      <td>100019424</td>\n",
       "      <td></td>\n",
       "      <td>UNAVAILABLE</td>\n",
       "      <td></td>\n",
       "    </tr>\n",
       "    <tr>\n",
       "      <th>3098</th>\n",
       "      <td>1480</td>\n",
       "      <td>94291689</td>\n",
       "      <td></td>\n",
       "      <td>UNAVAILABLE</td>\n",
       "      <td></td>\n",
       "    </tr>\n",
       "    <tr>\n",
       "      <th>2192</th>\n",
       "      <td>1480</td>\n",
       "      <td>102699800</td>\n",
       "      <td></td>\n",
       "      <td>UNAVAILABLE</td>\n",
       "      <td></td>\n",
       "    </tr>\n",
       "    <tr>\n",
       "      <th>6160</th>\n",
       "      <td>1480</td>\n",
       "      <td>186834158</td>\n",
       "      <td></td>\n",
       "      <td>UNAVAILABLE</td>\n",
       "      <td></td>\n",
       "    </tr>\n",
       "  </tbody>\n",
       "</table>\n",
       "</div>"
      ],
      "text/plain": [
       "      store_id  product_branch_id price availability schedule\n",
       "408       1480          100019424        UNAVAILABLE         \n",
       "3098      1480           94291689        UNAVAILABLE         \n",
       "2192      1480          102699800        UNAVAILABLE         \n",
       "6160      1480          186834158        UNAVAILABLE         "
      ]
     },
     "execution_count": 21,
     "metadata": {},
     "output_type": "execute_result"
    }
   ],
   "source": [
    "#Batches of 10,000\n",
    "aux = []\n",
    "n = 10000\n",
    "for i,row in enumerate(deact.index):\n",
    "  aux.append(deact.loc[row,:])\n",
    "  if (i+1) % n == 0:\n",
    "    pd.DataFrame(aux).to_excel(os.path.join(BASE_DIR,f'results/bulk_week{week_number}_{STORE_NAME}_{str((i+1)//n).zfill(2)}.xlsx'),index=False)\n",
    "    aux = []\n",
    "  elif i+2 > len(deact):\n",
    "    pd.DataFrame(aux).to_excel(os.path.join(BASE_DIR,f'results/bulk_week{week_number}_{STORE_NAME}_{str((i+1)//n+1).zfill(2)}.xlsx'),index=False)\n",
    "\n",
    "deact.sample(4)"
   ]
  },
  {
   "cell_type": "markdown",
   "id": "narrative-magic",
   "metadata": {},
   "source": [
    "## Unmap old sku"
   ]
  },
  {
   "cell_type": "code",
   "execution_count": 17,
   "id": "1be2ddb5",
   "metadata": {
    "ExecuteTime": {
     "end_time": "2021-05-10T22:50:39.187724Z",
     "start_time": "2021-05-10T22:50:39.073730Z"
    }
   },
   "outputs": [
    {
     "name": "stdout",
     "output_type": "stream",
     "text": [
      "There are 892 products with last_visited greater than 4 days\n",
      "And 125 of those, in the migration file (old_vs_new)\n"
     ]
    },
    {
     "data": {
      "text/html": [
       "<div>\n",
       "<style scoped>\n",
       "    .dataframe tbody tr th:only-of-type {\n",
       "        vertical-align: middle;\n",
       "    }\n",
       "\n",
       "    .dataframe tbody tr th {\n",
       "        vertical-align: top;\n",
       "    }\n",
       "\n",
       "    .dataframe thead th {\n",
       "        text-align: right;\n",
       "    }\n",
       "</style>\n",
       "<table border=\"1\" class=\"dataframe\">\n",
       "  <thead>\n",
       "    <tr style=\"text-align: right;\">\n",
       "      <th></th>\n",
       "      <th>sku_source</th>\n",
       "      <th>catalog_product_id</th>\n",
       "      <th>max_last_visited</th>\n",
       "      <th>supply_product_id</th>\n",
       "      <th>sku</th>\n",
       "    </tr>\n",
       "  </thead>\n",
       "  <tbody>\n",
       "    <tr>\n",
       "      <th>121</th>\n",
       "      <td>br-nacional-csv</td>\n",
       "      <td>2759047</td>\n",
       "      <td>2021-02-24</td>\n",
       "      <td>13047264</td>\n",
       "      <td>7.073430e+05</td>\n",
       "    </tr>\n",
       "    <tr>\n",
       "      <th>62</th>\n",
       "      <td>br-bigbompreco-csv</td>\n",
       "      <td>2742732</td>\n",
       "      <td>2021-02-16</td>\n",
       "      <td>18566173</td>\n",
       "      <td>4.130770e+05</td>\n",
       "    </tr>\n",
       "    <tr>\n",
       "      <th>25</th>\n",
       "      <td>br-bigbompreco-csv</td>\n",
       "      <td>2742031</td>\n",
       "      <td>2021-03-24</td>\n",
       "      <td>19310606</td>\n",
       "      <td>6.990800e+04</td>\n",
       "    </tr>\n",
       "    <tr>\n",
       "      <th>114</th>\n",
       "      <td>br-nacional-csv</td>\n",
       "      <td>2704415</td>\n",
       "      <td>2021-02-08</td>\n",
       "      <td>13042632</td>\n",
       "      <td>2.052380e+11</td>\n",
       "    </tr>\n",
       "  </tbody>\n",
       "</table>\n",
       "</div>"
      ],
      "text/plain": [
       "             sku_source  catalog_product_id max_last_visited  \\\n",
       "121     br-nacional-csv             2759047       2021-02-24   \n",
       "62   br-bigbompreco-csv             2742732       2021-02-16   \n",
       "25   br-bigbompreco-csv             2742031       2021-03-24   \n",
       "114     br-nacional-csv             2704415       2021-02-08   \n",
       "\n",
       "     supply_product_id           sku  \n",
       "121           13047264  7.073430e+05  \n",
       "62            18566173  4.130770e+05  \n",
       "25            19310606  6.990800e+04  \n",
       "114           13042632  2.052380e+11  "
      ]
     },
     "execution_count": 17,
     "metadata": {},
     "output_type": "execute_result"
    }
   ],
   "source": [
    "unmap = pd.read_csv(os.path.join(BASE_DIR,'06_unmap.csv'))\n",
    "unmap['max_last_visited'] = pd.to_datetime(pd.to_datetime(unmap['max_last_visited']).dt.date)\n",
    "\n",
    "unmap = unmap.groupby(['sku_source','catalog_product_id'])['max_last_visited'].min().reset_index().merge(unmap)\n",
    "unmap = unmap[unmap['max_last_visited']<pd.to_datetime(DOWNLOAD_DATE-datetime.timedelta(DAYS))]\n",
    "print(f'There are {len(unmap)} products with last_visited greater than {DAYS} days')\n",
    "unmap = unmap.merge(new[['old']].rename(columns={'old':'sku'}))\n",
    "print(f'And {len(unmap)} of those, in the migration file (old_vs_new)')\n",
    "\n",
    "unmap[['supply_product_id']].to_csv(os.path.join(BASE_DIR,f'results/unmap_week{week_number}.csv'),index=False)\n",
    "unmap.sample(4)"
   ]
  }
 ],
 "metadata": {
  "kernelspec": {
   "display_name": "Python 3",
   "language": "python",
   "name": "python3"
  },
  "language_info": {
   "codemirror_mode": {
    "name": "ipython",
    "version": 3
   },
   "file_extension": ".py",
   "mimetype": "text/x-python",
   "name": "python",
   "nbconvert_exporter": "python",
   "pygments_lexer": "ipython3",
   "version": "3.9.1"
  },
  "toc": {
   "base_numbering": 1,
   "nav_menu": {},
   "number_sections": true,
   "sideBar": true,
   "skip_h1_title": true,
   "title_cell": "Table of Contents",
   "title_sidebar": "Contents",
   "toc_cell": false,
   "toc_position": {},
   "toc_section_display": true,
   "toc_window_display": true
  },
  "varInspector": {
   "cols": {
    "lenName": 16,
    "lenType": 16,
    "lenVar": 40
   },
   "kernels_config": {
    "python": {
     "delete_cmd_postfix": "",
     "delete_cmd_prefix": "del ",
     "library": "var_list.py",
     "varRefreshCmd": "print(var_dic_list())"
    },
    "r": {
     "delete_cmd_postfix": ") ",
     "delete_cmd_prefix": "rm(",
     "library": "var_list.r",
     "varRefreshCmd": "cat(var_dic_list()) "
    }
   },
   "types_to_exclude": [
    "module",
    "function",
    "builtin_function_or_method",
    "instance",
    "_Feature"
   ],
   "window_display": false
  }
 },
 "nbformat": 4,
 "nbformat_minor": 5
}
