{
 "cells": [
  {
   "cell_type": "markdown",
   "id": "appointed-option",
   "metadata": {},
   "source": [
    "# External vs Internal"
   ]
  },
  {
   "cell_type": "markdown",
   "id": "aging-python",
   "metadata": {},
   "source": [
    "## Importar"
   ]
  },
  {
   "cell_type": "code",
   "execution_count": 37,
   "id": "employed-bulgaria",
   "metadata": {
    "ExecuteTime": {
     "end_time": "2021-03-25T21:16:25.954167Z",
     "start_time": "2021-03-25T21:16:25.938796Z"
    }
   },
   "outputs": [
    {
     "data": {
      "text/plain": [
       "['.DS_Store',\n",
       " '00_aux_keyprod_8589.csv',\n",
       " '00_aux_keyprod_8879.csv',\n",
       " '00_file_kepler_8879.csv',\n",
       " '00_operation_zone_8879.csv',\n",
       " '01_products_8589.csv',\n",
       " '01_products_8879.csv',\n",
       " '02_branc_area_8589.csv',\n",
       " '02_branch_area_8879.csv',\n",
       " '03_keyperc_8879.csv',\n",
       " '04_fr_8879.csv']"
      ]
     },
     "execution_count": 37,
     "metadata": {},
     "output_type": "execute_result"
    }
   ],
   "source": [
    "# %load basic\n",
    "import os\n",
    "import numpy as np\n",
    "import pandas as pd\n",
    "import matplotlib.pyplot as plt\n",
    "pd.set_option('display.max_columns',200)\n",
    "pd.options.display.float_format = '{:.2f}'.format\n",
    "liga = '/Users/efraflores/Desktop/EF/Corner/BR/Ext_vs_int/data/'\n",
    "sorted(os.listdir(liga))"
   ]
  },
  {
   "cell_type": "code",
   "execution_count": 38,
   "id": "connected-journal",
   "metadata": {
    "ExecuteTime": {
     "end_time": "2021-03-25T21:16:30.899655Z",
     "start_time": "2021-03-25T21:16:30.896347Z"
    }
   },
   "outputs": [],
   "source": [
    "STORE_ID = 8589"
   ]
  },
  {
   "cell_type": "code",
   "execution_count": 39,
   "id": "ahead-times",
   "metadata": {
    "ExecuteTime": {
     "end_time": "2021-03-25T21:16:32.156695Z",
     "start_time": "2021-03-25T21:16:32.144440Z"
    }
   },
   "outputs": [
    {
     "data": {
      "text/plain": [
       "'3408855,3409255,3408906,3409333,3408928,3408850,3408936,1593388,3409642,3409601,3409625,3408881,3409244,3409258,3408835,1579428,1593241,3409074,1193058,1576886,1600420,1258321,3408836,1319912,1199844,1192324,1201973,1438536,1191369,3409291,2925932,2273658,2657708,1162645,1314902,1492876,1593219,3409370,3408911,1876743,1191590,1199285,1176726,3409287,1258193,1200302,1887530,1593378,3409379,1356865,2124353,1258467,1913877,3408898,3408897,3408940,1162847,3409337,3409154,3409243,1199830,2215048,1193485,2137904,1579429,1258882,3409645,1604953,2271514,3408832,1196740,3417414,1258201,1876747,1583152,1176708,1192559,1200611,2117290,1193932,1197874,3409580,1164831,1258186,3409279,1192556,3409028,1258282,2270362,1842945,1176697,3409309,3409253,1192812,1258280,1265816,1876752,3409586,1163214,3409086,3409592,1264742,1193050,2273877,2524060,1313406,1195646,1265229,1870203,3409025,3409326,1461600,1258881,1265694,1258177,1266245,1196894,2000963,1199825,1198746,3409649,1194059,1869384,1201934,3408642,1166169,1316260,1873699,1162659,2124362,1258456,3409457,1876765,1316913,2117035,1876744,3409009,2180196,1209324,2273546,1200230,3409173,3409106,2137920,3408983,1200620,1163517,1176976,1266121,1258213,1200612,1258674,3408843,1317009,3408884,3408921,1167998,1444137,1193959,3409273,2273769,1197063,3408933,1198368,2124408,1461823,3409053,2306053,3408914,3409012,1163222,2062702,1163014,1165865,3409107,3409021,2059172,1453640,1162433,1166132,1313350,3409095,1258185,1165065,1583097,2215893,1163186,1192560,2016236,3409013,1164152,1314225,1201791,1258249,1195589,1258384,3409622,1259362,3409165,3409685,1196928,1313914,1495670,1201929,1195184,1593183,3409274,1197066,3409070,2062717,2273931,1579701,1876754,2357147,3409024,1197743,3408857,3409476,1258205,1167891,1258828,1885952,3409752,1258427,3409341,3408942,1876768,3409558,1314470,1199421,1258224,1164111,3409043,1198632,1259173,1258255,1319599,1455913,1258274,1873693,1265815,1199469,1194763,1313443,1200608,1319916,1195194,1339459,1162662,1170318,2002176,3409679,2802895,3409372,1196581,1316063,3408846,1194172,1196780,3409327,1339449,1192589,1444078,1171694,1258461,3409700,1971441,1323431,1876757,1199820,1318504,3442975,3409667,1162823,1201567,1195642,1192036,1576254,3409328,1876737,1339331,1198740,1198747,3409566,1193077,1199547,1176930,3408907,1593397,1163290,1576706,1163609,3409056,1876749,1162995,1194986,1199543,1163733,2435387,1199517,1258418,1579421,2320288,2113300,1438627,1266473,2269602,1197064,1885789,3408860,1266534,1887115,1163018,2273841,1455902,1602614,1176722,3408845,1200063,1198736,1176925,2269612,1163606,1315990,3409078,3409101,1197115,2272532,1258226,2061977,1193011,1266475,1198741,1176698,3417444,3409136,3409079,1197295,3409184,3409613,1259431,2269536,1193018,1589134,1258358,3408842,2104589,1258335,2071623,3409749,1193896,1259450,1887525,1197269,1194983,1224304,1455121,3409096,1452993,2104583,1437797,1165866,1579431,3409714,1318706,1209321,1589120,1589278,1876760,1589333,1194659'"
      ]
     },
     "execution_count": 39,
     "metadata": {},
     "output_type": "execute_result"
    }
   ],
   "source": [
    "aux = pd.read_csv(liga + f'00_aux_keyprod_{STORE_ID}.csv')\n",
    "','.join(aux['product_id'].astype(str))"
   ]
  },
  {
   "cell_type": "code",
   "execution_count": 55,
   "id": "infrared-sport",
   "metadata": {
    "ExecuteTime": {
     "end_time": "2021-03-25T21:25:17.986199Z",
     "start_time": "2021-03-25T21:25:17.899908Z"
    },
    "scrolled": true
   },
   "outputs": [],
   "source": [
    "from functools import reduce\n",
    "dfs = {}\n",
    "for i in range(1,5):\n",
    "    file_name = [x for x in os.listdir(liga) if x.endswith('.csv')\n",
    "                 and int(x[:2])==i and int(x[-8:][:4])==STORE_ID][0]\n",
    "    dfs[f'df_{i}'] = pd.read_csv(os.path.join(liga,file_name))\n",
    "df = reduce(lambda x,y: x.merge(y, on='id'),dfs.values())\n",
    "del dfs\n",
    "\n",
    "for col in ['pctg_populars','found_rate']:\n",
    "    df[col] = df[col].map(lambda x: round(x,3))\n",
    "\n",
    "df.to_csv(os.path.join(liga,f'99_file_kepler_{STORE_ID}.csv'), index=False)"
   ]
  }
 ],
 "metadata": {
  "kernelspec": {
   "display_name": "Python 3",
   "language": "python",
   "name": "python3"
  },
  "language_info": {
   "codemirror_mode": {
    "name": "ipython",
    "version": 3
   },
   "file_extension": ".py",
   "mimetype": "text/x-python",
   "name": "python",
   "nbconvert_exporter": "python",
   "pygments_lexer": "ipython3",
   "version": "3.9.1"
  },
  "toc": {
   "base_numbering": 1,
   "nav_menu": {},
   "number_sections": true,
   "sideBar": true,
   "skip_h1_title": true,
   "title_cell": "Table of Contents",
   "title_sidebar": "Contents",
   "toc_cell": false,
   "toc_position": {},
   "toc_section_display": true,
   "toc_window_display": false
  },
  "varInspector": {
   "cols": {
    "lenName": 16,
    "lenType": 16,
    "lenVar": 40
   },
   "kernels_config": {
    "python": {
     "delete_cmd_postfix": "",
     "delete_cmd_prefix": "del ",
     "library": "var_list.py",
     "varRefreshCmd": "print(var_dic_list())"
    },
    "r": {
     "delete_cmd_postfix": ") ",
     "delete_cmd_prefix": "rm(",
     "library": "var_list.r",
     "varRefreshCmd": "cat(var_dic_list()) "
    }
   },
   "types_to_exclude": [
    "module",
    "function",
    "builtin_function_or_method",
    "instance",
    "_Feature"
   ],
   "window_display": false
  }
 },
 "nbformat": 4,
 "nbformat_minor": 5
}
