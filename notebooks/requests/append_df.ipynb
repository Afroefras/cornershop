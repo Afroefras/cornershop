{
 "cells": [
  {
   "cell_type": "code",
   "execution_count": 3,
   "metadata": {},
   "outputs": [],
   "source": [
    "BASE_DIR = '/Users/efrain.flores/Desktop'\n",
    "FILE_PATTERN = 'newusers_20[0-9]{2}'"
   ]
  },
  {
   "cell_type": "code",
   "execution_count": 4,
   "metadata": {},
   "outputs": [
    {
     "data": {
      "text/html": [
       "<div>\n",
       "<style scoped>\n",
       "    .dataframe tbody tr th:only-of-type {\n",
       "        vertical-align: middle;\n",
       "    }\n",
       "\n",
       "    .dataframe tbody tr th {\n",
       "        vertical-align: top;\n",
       "    }\n",
       "\n",
       "    .dataframe thead th {\n",
       "        text-align: right;\n",
       "    }\n",
       "</style>\n",
       "<table border=\"1\" class=\"dataframe\">\n",
       "  <thead>\n",
       "    <tr style=\"text-align: right;\">\n",
       "      <th></th>\n",
       "      <th>Unnamed: 0</th>\n",
       "      <th>Month</th>\n",
       "      <th>New Customers</th>\n",
       "      <th>Non-New Customers</th>\n",
       "    </tr>\n",
       "  </thead>\n",
       "  <tbody>\n",
       "    <tr>\n",
       "      <th>25</th>\n",
       "      <td>2</td>\n",
       "      <td>2022-05</td>\n",
       "      <td>50,089</td>\n",
       "      <td>136,436</td>\n",
       "    </tr>\n",
       "  </tbody>\n",
       "</table>\n",
       "</div>"
      ],
      "text/plain": [
       "    Unnamed: 0    Month New Customers Non-New Customers\n",
       "25           2  2022-05        50,089           136,436"
      ]
     },
     "execution_count": 4,
     "metadata": {},
     "output_type": "execute_result"
    }
   ],
   "source": [
    "from re import I, search\n",
    "from pathlib import Path\n",
    "from pandas import DataFrame, read_csv\n",
    "\n",
    "\n",
    "def read_multiple_csv(base_dir: str, file_pattern: str, **kwargs) -> DataFrame:\n",
    "    base_dir = Path(base_dir)\n",
    "    data = DataFrame()\n",
    "\n",
    "    files_list = [x for x in base_dir.glob('*.csv') if search(fr'{file_pattern}\\.csv', str(x), flags=I)]\n",
    "    for csv_file in files_list:\n",
    "        new_csv = read_csv(base_dir.joinpath(csv_file), **kwargs)\n",
    "        data = data.append(new_csv, ignore_index=True)\n",
    "\n",
    "    data.to_csv(base_dir.joinpath(f'result_{file_pattern}.csv'), index=False, sep='\\t', encoding='utf-16')\n",
    "    return data\n",
    "\n",
    "df = read_multiple_csv(BASE_DIR, FILE_PATTERN)\n",
    "df.sample()"
   ]
  }
 ],
 "metadata": {
  "kernelspec": {
   "display_name": "Python 3.9.13 ('venv': venv)",
   "language": "python",
   "name": "python3"
  },
  "language_info": {
   "codemirror_mode": {
    "name": "ipython",
    "version": 3
   },
   "file_extension": ".py",
   "mimetype": "text/x-python",
   "name": "python",
   "nbconvert_exporter": "python",
   "pygments_lexer": "ipython3",
   "version": "3.9.13"
  },
  "orig_nbformat": 4,
  "vscode": {
   "interpreter": {
    "hash": "e3f754c1d6585f0ed05ce2bcfbaf9075dd9c46e24effd9d6ed4797ac53e7800e"
   }
  }
 },
 "nbformat": 4,
 "nbformat_minor": 2
}
