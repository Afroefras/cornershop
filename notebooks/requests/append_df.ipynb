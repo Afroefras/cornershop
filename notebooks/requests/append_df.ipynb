{
 "cells": [
  {
   "cell_type": "code",
   "execution_count": 1,
   "metadata": {},
   "outputs": [],
   "source": [
    "BASE_DIR = '/Users/efrain.flores/Desktop'"
   ]
  },
  {
   "cell_type": "code",
   "execution_count": 5,
   "metadata": {},
   "outputs": [
    {
     "data": {
      "text/html": [
       "<div>\n",
       "<style scoped>\n",
       "    .dataframe tbody tr th:only-of-type {\n",
       "        vertical-align: middle;\n",
       "    }\n",
       "\n",
       "    .dataframe tbody tr th {\n",
       "        vertical-align: top;\n",
       "    }\n",
       "\n",
       "    .dataframe thead tr th {\n",
       "        text-align: left;\n",
       "    }\n",
       "</style>\n",
       "<table border=\"1\" class=\"dataframe\">\n",
       "  <thead>\n",
       "    <tr>\n",
       "      <th></th>\n",
       "      <th colspan=\"8\" halign=\"left\">Cornershop</th>\n",
       "      <th>Order Platform</th>\n",
       "      <th colspan=\"8\" halign=\"left\">Uber</th>\n",
       "      <th colspan=\"4\" halign=\"left\">Uber Postmates</th>\n",
       "      <th>Unnamed: 1_level_0</th>\n",
       "    </tr>\n",
       "    <tr>\n",
       "      <th></th>\n",
       "      <th colspan=\"4\" halign=\"left\">No</th>\n",
       "      <th colspan=\"4\" halign=\"left\">Yes</th>\n",
       "      <th>With Paid Subscription? (Yes / No)</th>\n",
       "      <th colspan=\"4\" halign=\"left\">No</th>\n",
       "      <th colspan=\"4\" halign=\"left\">Yes</th>\n",
       "      <th colspan=\"4\" halign=\"left\">No</th>\n",
       "      <th>Unnamed: 1_level_1</th>\n",
       "    </tr>\n",
       "    <tr>\n",
       "      <th></th>\n",
       "      <th>Buyers Count</th>\n",
       "      <th>Orders Count</th>\n",
       "      <th>Sum of Order Ticket</th>\n",
       "      <th>Total Shoppers Count</th>\n",
       "      <th>Buyers Count</th>\n",
       "      <th>Orders Count</th>\n",
       "      <th>Sum of Order Ticket</th>\n",
       "      <th>Total Shoppers Count</th>\n",
       "      <th>Store Name</th>\n",
       "      <th>Buyers Count</th>\n",
       "      <th>Orders Count</th>\n",
       "      <th>Sum of Order Ticket</th>\n",
       "      <th>Total Shoppers Count</th>\n",
       "      <th>Buyers Count</th>\n",
       "      <th>Orders Count</th>\n",
       "      <th>Sum of Order Ticket</th>\n",
       "      <th>Total Shoppers Count</th>\n",
       "      <th>Buyers Count</th>\n",
       "      <th>Orders Count</th>\n",
       "      <th>Sum of Order Ticket</th>\n",
       "      <th>Total Shoppers Count</th>\n",
       "      <th>Delivered at Local Time Dynamic</th>\n",
       "    </tr>\n",
       "  </thead>\n",
       "  <tbody>\n",
       "    <tr>\n",
       "      <th>10486</th>\n",
       "      <td>NaN</td>\n",
       "      <td>NaN</td>\n",
       "      <td>NaN</td>\n",
       "      <td>NaN</td>\n",
       "      <td>3</td>\n",
       "      <td>4</td>\n",
       "      <td>$1,868.25</td>\n",
       "      <td>4</td>\n",
       "      <td>My coffee box</td>\n",
       "      <td>NaN</td>\n",
       "      <td>NaN</td>\n",
       "      <td>NaN</td>\n",
       "      <td>NaN</td>\n",
       "      <td>NaN</td>\n",
       "      <td>NaN</td>\n",
       "      <td>NaN</td>\n",
       "      <td>NaN</td>\n",
       "      <td>NaN</td>\n",
       "      <td>NaN</td>\n",
       "      <td>NaN</td>\n",
       "      <td>NaN</td>\n",
       "      <td>2021-11</td>\n",
       "    </tr>\n",
       "  </tbody>\n",
       "</table>\n",
       "</div>"
      ],
      "text/plain": [
       "        Cornershop  ...              Unnamed: 1_level_0\n",
       "                No  ...              Unnamed: 1_level_1\n",
       "      Buyers Count  ... Delivered at Local Time Dynamic\n",
       "10486          NaN  ...                         2021-11\n",
       "\n",
       "[1 rows x 22 columns]"
      ]
     },
     "execution_count": 5,
     "metadata": {},
     "output_type": "execute_result"
    }
   ],
   "source": [
    "from pathlib import Path\n",
    "from pandas import DataFrame, read_csv\n",
    "\n",
    "\n",
    "def read_multiple_csv(base_dir: str, **kwargs) -> DataFrame:\n",
    "    base_dir = Path(base_dir)\n",
    "    data = DataFrame()\n",
    "\n",
    "    for csv_file in base_dir.glob('*.csv'):\n",
    "        data = data.append(read_csv(base_dir.joinpath(csv_file), **kwargs), ignore_index=True)\n",
    "\n",
    "    data.to_csv(base_dir.joinpath('result.csv'), index=False, sep='\\t', encoding='utf-16')\n",
    "    return data\n",
    "\n",
    "df = read_multiple_csv(BASE_DIR, header=[0,1,2], index_col=0)\n",
    "df.sample()"
   ]
  }
 ],
 "metadata": {
  "kernelspec": {
   "display_name": "Python 3.9.13 ('venv': venv)",
   "language": "python",
   "name": "python3"
  },
  "language_info": {
   "codemirror_mode": {
    "name": "ipython",
    "version": 3
   },
   "file_extension": ".py",
   "mimetype": "text/x-python",
   "name": "python",
   "nbconvert_exporter": "python",
   "pygments_lexer": "ipython3",
   "version": "3.9.13"
  },
  "orig_nbformat": 4,
  "vscode": {
   "interpreter": {
    "hash": "e3f754c1d6585f0ed05ce2bcfbaf9075dd9c46e24effd9d6ed4797ac53e7800e"
   }
  }
 },
 "nbformat": 4,
 "nbformat_minor": 2
}
