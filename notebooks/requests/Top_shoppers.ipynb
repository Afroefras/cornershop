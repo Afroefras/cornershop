{
 "cells": [
  {
   "cell_type": "code",
   "execution_count": 37,
   "metadata": {},
   "outputs": [],
   "source": [
    "BASE_DIR = '/Users/efraflores/Desktop'"
   ]
  },
  {
   "cell_type": "code",
   "execution_count": 38,
   "metadata": {},
   "outputs": [
    {
     "data": {
      "text/plain": [
       "[PosixPath('/Users/efraflores/Desktop/2020.csv'),\n",
       " PosixPath('/Users/efraflores/Desktop/2021.csv'),\n",
       " PosixPath('/Users/efraflores/Desktop/2022.csv'),\n",
       " PosixPath('/Users/efraflores/Desktop/2015.csv')]"
      ]
     },
     "execution_count": 38,
     "metadata": {},
     "output_type": "execute_result"
    }
   ],
   "source": [
    "from IPython.display import display\n",
    "\n",
    "from pathlib import Path\n",
    "from pandas import DataFrame, read_csv\n",
    "\n",
    "BASE_DIR = Path(BASE_DIR)\n",
    "list(BASE_DIR.glob('*.csv'))"
   ]
  },
  {
   "cell_type": "code",
   "execution_count": 39,
   "metadata": {},
   "outputs": [
    {
     "name": "stdout",
     "output_type": "stream",
     "text": [
      "(4286391, 9)\n"
     ]
    },
    {
     "data": {
      "text/html": [
       "<div>\n",
       "<style scoped>\n",
       "    .dataframe tbody tr th:only-of-type {\n",
       "        vertical-align: middle;\n",
       "    }\n",
       "\n",
       "    .dataframe tbody tr th {\n",
       "        vertical-align: top;\n",
       "    }\n",
       "\n",
       "    .dataframe thead th {\n",
       "        text-align: right;\n",
       "    }\n",
       "</style>\n",
       "<table border=\"1\" class=\"dataframe\">\n",
       "  <thead>\n",
       "    <tr style=\"text-align: right;\">\n",
       "      <th></th>\n",
       "      <th>Unnamed: 0</th>\n",
       "      <th>Shopper Driver ID</th>\n",
       "      <th>Status</th>\n",
       "      <th>Delivered at Local Time Dynamic</th>\n",
       "      <th>City Code</th>\n",
       "      <th>Orders Count</th>\n",
       "      <th>Avg. Customer Rating</th>\n",
       "      <th>Sum of Driver Setup Distance (Km.)</th>\n",
       "      <th>Sum of Delivery Distance (Km.)</th>\n",
       "    </tr>\n",
       "  </thead>\n",
       "  <tbody>\n",
       "    <tr>\n",
       "      <th>0</th>\n",
       "      <td>1</td>\n",
       "      <td>502493.0</td>\n",
       "      <td>ACTIVE</td>\n",
       "      <td>2020-09-15</td>\n",
       "      <td>MEX</td>\n",
       "      <td>19</td>\n",
       "      <td>5.00</td>\n",
       "      <td>0.0</td>\n",
       "      <td>138.678033</td>\n",
       "    </tr>\n",
       "    <tr>\n",
       "      <th>1</th>\n",
       "      <td>2</td>\n",
       "      <td>2078542.0</td>\n",
       "      <td>BLOCKED</td>\n",
       "      <td>2020-10-26</td>\n",
       "      <td>MTY</td>\n",
       "      <td>18</td>\n",
       "      <td>5.00</td>\n",
       "      <td>0.0</td>\n",
       "      <td>80.204425</td>\n",
       "    </tr>\n",
       "    <tr>\n",
       "      <th>2</th>\n",
       "      <td>3</td>\n",
       "      <td>3022345.0</td>\n",
       "      <td>ACTIVE</td>\n",
       "      <td>2020-08-15</td>\n",
       "      <td>MTY</td>\n",
       "      <td>17</td>\n",
       "      <td>4.89</td>\n",
       "      <td>0.0</td>\n",
       "      <td>92.545181</td>\n",
       "    </tr>\n",
       "    <tr>\n",
       "      <th>3</th>\n",
       "      <td>4</td>\n",
       "      <td>2157922.0</td>\n",
       "      <td>ACTIVE</td>\n",
       "      <td>2020-10-11</td>\n",
       "      <td>MEX</td>\n",
       "      <td>17</td>\n",
       "      <td>5.00</td>\n",
       "      <td>0.0</td>\n",
       "      <td>80.688900</td>\n",
       "    </tr>\n",
       "    <tr>\n",
       "      <th>4</th>\n",
       "      <td>5</td>\n",
       "      <td>502493.0</td>\n",
       "      <td>ACTIVE</td>\n",
       "      <td>2020-11-26</td>\n",
       "      <td>MEX</td>\n",
       "      <td>17</td>\n",
       "      <td>5.00</td>\n",
       "      <td>0.0</td>\n",
       "      <td>85.549692</td>\n",
       "    </tr>\n",
       "  </tbody>\n",
       "</table>\n",
       "</div>"
      ],
      "text/plain": [
       "   Unnamed: 0  Shopper Driver ID   Status Delivered at Local Time Dynamic  \\\n",
       "0           1           502493.0   ACTIVE                      2020-09-15   \n",
       "1           2          2078542.0  BLOCKED                      2020-10-26   \n",
       "2           3          3022345.0   ACTIVE                      2020-08-15   \n",
       "3           4          2157922.0   ACTIVE                      2020-10-11   \n",
       "4           5           502493.0   ACTIVE                      2020-11-26   \n",
       "\n",
       "  City Code  Orders Count  Avg. Customer Rating  \\\n",
       "0       MEX            19                  5.00   \n",
       "1       MTY            18                  5.00   \n",
       "2       MTY            17                  4.89   \n",
       "3       MEX            17                  5.00   \n",
       "4       MEX            17                  5.00   \n",
       "\n",
       "   Sum of Driver Setup Distance (Km.)  Sum of Delivery Distance (Km.)  \n",
       "0                                 0.0                      138.678033  \n",
       "1                                 0.0                       80.204425  \n",
       "2                                 0.0                       92.545181  \n",
       "3                                 0.0                       80.688900  \n",
       "4                                 0.0                       85.549692  "
      ]
     },
     "execution_count": 39,
     "metadata": {},
     "output_type": "execute_result"
    }
   ],
   "source": [
    "df = DataFrame()\n",
    "\n",
    "for chunk_file in BASE_DIR.glob('*.csv'):\n",
    "    df = df.append(read_csv(chunk_file))\n",
    "\n",
    "print(df.shape)\n",
    "df.head()"
   ]
  },
  {
   "cell_type": "code",
   "execution_count": 40,
   "metadata": {},
   "outputs": [
    {
     "data": {
      "text/plain": [
       "ACTIVE      0.756209\n",
       "BLOCKED     0.242319\n",
       "INACTIVE    0.001472\n",
       "Name: Status, dtype: float64"
      ]
     },
     "execution_count": 40,
     "metadata": {},
     "output_type": "execute_result"
    }
   ],
   "source": [
    "df['Status'].value_counts(1)"
   ]
  },
  {
   "cell_type": "code",
   "execution_count": 41,
   "metadata": {},
   "outputs": [
    {
     "data": {
      "text/plain": [
       "(3241088, 9)"
      ]
     },
     "execution_count": 41,
     "metadata": {},
     "output_type": "execute_result"
    }
   ],
   "source": [
    "df = df[(df['Status']=='ACTIVE')&(df['Shopper Driver ID'].notnull())].copy()\n",
    "df.shape"
   ]
  },
  {
   "cell_type": "code",
   "execution_count": 42,
   "metadata": {},
   "outputs": [],
   "source": [
    "df['sum_rating'] = df['Orders Count']*df['Avg. Customer Rating']\n",
    "\n",
    "aux = []\n",
    "for row_date in df['Delivered at Local Time Dynamic']:\n",
    "    if row_date >= '2022-04-01': aux.append('03_Apr22')\n",
    "    elif row_date >= '2022-01-01': aux.append('02_2022')\n",
    "    else: aux.append('01_ALL')\n",
    "\n",
    "df['date_cut'] = aux"
   ]
  },
  {
   "cell_type": "code",
   "execution_count": 43,
   "metadata": {},
   "outputs": [],
   "source": [
    "aux_df = df.copy()"
   ]
  },
  {
   "cell_type": "code",
   "execution_count": 44,
   "metadata": {},
   "outputs": [
    {
     "data": {
      "text/html": [
       "<div>\n",
       "<style scoped>\n",
       "    .dataframe tbody tr th:only-of-type {\n",
       "        vertical-align: middle;\n",
       "    }\n",
       "\n",
       "    .dataframe tbody tr th {\n",
       "        vertical-align: top;\n",
       "    }\n",
       "\n",
       "    .dataframe thead th {\n",
       "        text-align: right;\n",
       "    }\n",
       "</style>\n",
       "<table border=\"1\" class=\"dataframe\">\n",
       "  <thead>\n",
       "    <tr style=\"text-align: right;\">\n",
       "      <th></th>\n",
       "      <th>Shopper Driver ID</th>\n",
       "      <th>01_ALL - Orders Count</th>\n",
       "      <th>01_ALL - Sum of Delivery Distance (Km.)</th>\n",
       "      <th>01_ALL - sum_rating</th>\n",
       "      <th>02_2022 - Orders Count</th>\n",
       "      <th>02_2022 - Sum of Delivery Distance (Km.)</th>\n",
       "      <th>02_2022 - sum_rating</th>\n",
       "      <th>03_Apr22 - Orders Count</th>\n",
       "      <th>03_Apr22 - Sum of Delivery Distance (Km.)</th>\n",
       "      <th>03_Apr22 - sum_rating</th>\n",
       "    </tr>\n",
       "  </thead>\n",
       "  <tbody>\n",
       "    <tr>\n",
       "      <th>0</th>\n",
       "      <td>6.0</td>\n",
       "      <td>4.0</td>\n",
       "      <td>0.000000</td>\n",
       "      <td>19.00</td>\n",
       "      <td>NaN</td>\n",
       "      <td>NaN</td>\n",
       "      <td>NaN</td>\n",
       "      <td>NaN</td>\n",
       "      <td>NaN</td>\n",
       "      <td>NaN</td>\n",
       "    </tr>\n",
       "    <tr>\n",
       "      <th>1</th>\n",
       "      <td>44.0</td>\n",
       "      <td>1.0</td>\n",
       "      <td>0.000000</td>\n",
       "      <td>5.00</td>\n",
       "      <td>NaN</td>\n",
       "      <td>NaN</td>\n",
       "      <td>NaN</td>\n",
       "      <td>NaN</td>\n",
       "      <td>NaN</td>\n",
       "      <td>NaN</td>\n",
       "    </tr>\n",
       "    <tr>\n",
       "      <th>2</th>\n",
       "      <td>993.0</td>\n",
       "      <td>3504.0</td>\n",
       "      <td>25373.455889</td>\n",
       "      <td>16130.15</td>\n",
       "      <td>55.0</td>\n",
       "      <td>581.708791</td>\n",
       "      <td>213.0</td>\n",
       "      <td>13.0</td>\n",
       "      <td>101.86116</td>\n",
       "      <td>30.0</td>\n",
       "    </tr>\n",
       "    <tr>\n",
       "      <th>3</th>\n",
       "      <td>2462.0</td>\n",
       "      <td>2175.0</td>\n",
       "      <td>7767.559627</td>\n",
       "      <td>9819.24</td>\n",
       "      <td>NaN</td>\n",
       "      <td>NaN</td>\n",
       "      <td>NaN</td>\n",
       "      <td>NaN</td>\n",
       "      <td>NaN</td>\n",
       "      <td>NaN</td>\n",
       "    </tr>\n",
       "    <tr>\n",
       "      <th>4</th>\n",
       "      <td>3913.0</td>\n",
       "      <td>1.0</td>\n",
       "      <td>0.000000</td>\n",
       "      <td>0.00</td>\n",
       "      <td>NaN</td>\n",
       "      <td>NaN</td>\n",
       "      <td>NaN</td>\n",
       "      <td>NaN</td>\n",
       "      <td>NaN</td>\n",
       "      <td>NaN</td>\n",
       "    </tr>\n",
       "  </tbody>\n",
       "</table>\n",
       "</div>"
      ],
      "text/plain": [
       "   Shopper Driver ID  01_ALL - Orders Count  \\\n",
       "0                6.0                    4.0   \n",
       "1               44.0                    1.0   \n",
       "2              993.0                 3504.0   \n",
       "3             2462.0                 2175.0   \n",
       "4             3913.0                    1.0   \n",
       "\n",
       "   01_ALL - Sum of Delivery Distance (Km.)  01_ALL - sum_rating  \\\n",
       "0                                 0.000000                19.00   \n",
       "1                                 0.000000                 5.00   \n",
       "2                             25373.455889             16130.15   \n",
       "3                              7767.559627              9819.24   \n",
       "4                                 0.000000                 0.00   \n",
       "\n",
       "   02_2022 - Orders Count  02_2022 - Sum of Delivery Distance (Km.)  \\\n",
       "0                     NaN                                       NaN   \n",
       "1                     NaN                                       NaN   \n",
       "2                    55.0                                581.708791   \n",
       "3                     NaN                                       NaN   \n",
       "4                     NaN                                       NaN   \n",
       "\n",
       "   02_2022 - sum_rating  03_Apr22 - Orders Count  \\\n",
       "0                   NaN                      NaN   \n",
       "1                   NaN                      NaN   \n",
       "2                 213.0                     13.0   \n",
       "3                   NaN                      NaN   \n",
       "4                   NaN                      NaN   \n",
       "\n",
       "   03_Apr22 - Sum of Delivery Distance (Km.)  03_Apr22 - sum_rating  \n",
       "0                                        NaN                    NaN  \n",
       "1                                        NaN                    NaN  \n",
       "2                                  101.86116                   30.0  \n",
       "3                                        NaN                    NaN  \n",
       "4                                        NaN                    NaN  "
      ]
     },
     "execution_count": 44,
     "metadata": {},
     "output_type": "execute_result"
    }
   ],
   "source": [
    "df = df.pivot_table(index='Shopper Driver ID', columns='date_cut', aggfunc={'Orders Count':sum, 'sum_rating':sum, 'Sum of Delivery Distance (Km.)':sum})\n",
    "df.columns = [f'{y} - {x}' for x,y in df.columns]\n",
    "df = df[sorted(df.columns)].reset_index().copy()\n",
    "df.head()"
   ]
  },
  {
   "cell_type": "code",
   "execution_count": 45,
   "metadata": {},
   "outputs": [],
   "source": [
    "df.to_csv(BASE_DIR.joinpath('top_shoppers.csv'), index=False)"
   ]
  }
 ],
 "metadata": {
  "interpreter": {
   "hash": "cd073f3038b8337706d4c7d775204fb19bddc277721f52eb60f8c4b0892f2184"
  },
  "kernelspec": {
   "display_name": "Python 3.9.1 ('venv': venv)",
   "language": "python",
   "name": "python3"
  },
  "language_info": {
   "codemirror_mode": {
    "name": "ipython",
    "version": 3
   },
   "file_extension": ".py",
   "mimetype": "text/x-python",
   "name": "python",
   "nbconvert_exporter": "python",
   "pygments_lexer": "ipython3",
   "version": "3.9.1"
  },
  "orig_nbformat": 4
 },
 "nbformat": 4,
 "nbformat_minor": 2
}
