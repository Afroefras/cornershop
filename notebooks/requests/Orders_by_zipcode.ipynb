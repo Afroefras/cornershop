{
 "cells": [
  {
   "cell_type": "markdown",
   "metadata": {},
   "source": [
    "# ¿Cuántas órdenes hay por código postal?"
   ]
  },
  {
   "cell_type": "markdown",
   "metadata": {},
   "source": [
    "## Parámetros"
   ]
  },
  {
   "cell_type": "code",
   "execution_count": 1,
   "metadata": {},
   "outputs": [],
   "source": [
    "BASE_DIR = '/Users/efraflores/Desktop/EF/Corner/Requests/Orders_by_zipcode'\n",
    "SHP_FILE = 'SHP_all_CS'\n",
    "CSV_FILE = 'raw_MX_orders.csv'\n",
    "NAMES_FILE = 'MX_zipcodes_names.csv'"
   ]
  },
  {
   "cell_type": "markdown",
   "metadata": {},
   "source": [
    "## Código"
   ]
  },
  {
   "cell_type": "code",
   "execution_count": 2,
   "metadata": {},
   "outputs": [],
   "source": [
    "from pathlib import Path\n",
    "import matplotlib.pyplot as plt\n",
    "from warnings import filterwarnings\n",
    "filterwarnings('ignore')\n",
    "\n",
    "from time import time\n",
    "from numpy import floor, ceil\n",
    "from pandas import DataFrame, read_csv\n",
    "from geopandas import GeoDataFrame, GeoSeries, read_file, points_from_xy, sjoin\n",
    "\n",
    "class OrdersByZipcode:\n",
    "    def __init__(self, base_dir: str, shp_file: str, csv_file: str, names_file: str) -> None:\n",
    "        self.base_dir = Path(base_dir)\n",
    "        self.shp_path = self.base_dir.joinpath(shp_file)\n",
    "        self.csv_path = self.base_dir.joinpath(csv_file)\n",
    "        self.names_path = self.base_dir.joinpath(names_file)\n",
    "\n",
    "    def time_exp(self, start_time, end_time):\n",
    "        x = end_time - start_time\n",
    "        minutes, seconds = floor(x/60), 60*(x/60-floor(x/60))\n",
    "        minutes_str = f\"{int(minutes)} minutos con \" if minutes > 0 else \"\"\n",
    "        if minutes==1: minutes_str = minutes_str.replace('s','')\n",
    "        return f\"{minutes_str}{'{:.2f}'.format(seconds)} segundos\"\n",
    "\n",
    "    def merge_files(self, lat_col: str, lng_col: str, is_shp_folder: bool=False) -> None:\n",
    "        if is_shp_folder: self.shp = read_file(self.shp_path).to_crs(crs=\"+proj=longlat +datum=WGS84 +no_defs\")\n",
    "        else: \n",
    "            geo = read_csv(self.shp_path)\n",
    "            geo['geometry'] = GeoSeries.from_wkt(geo['geo'])\n",
    "            self.shp = GeoDataFrame(geo, crs='EPSG:6372').drop('geo', axis=1)\n",
    "            del geo\n",
    "        df = read_csv(self.csv_path)\n",
    "        # df = df.sample(frac=0.01)\n",
    "        df = GeoDataFrame(df, crs='EPSG:6372', geometry=points_from_xy(df[lng_col], df[lat_col], crs='EPSG:6372'))\n",
    "        self.df = sjoin(self.shp, df)\n",
    "        del df\n",
    "\n",
    "    def group_by_chunks(self, df: DataFrame, group_cols: list, value_cols: list, chunk_size: int=50000, verbose: bool=True) -> DataFrame:\n",
    "        n_chunks = int(ceil(len(self.df)/chunk_size))\n",
    "        final = DataFrame()\n",
    "        n = 0\n",
    "        batch_folder = self.base_dir.joinpath('batches')\n",
    "        batch_folder.mkdir(exist_ok=True)\n",
    "        for i in range(n_chunks):\n",
    "            batch = df.loc[n:n+chunk_size-1,:].groupby(group_cols)[value_cols].count()\n",
    "            final = final.append(batch, ignore_index=False)\n",
    "            final.to_csv(batch_folder.joinpath(f'acum_{str(int(i+1)).zfill(2)}.csv'))\n",
    "            del batch\n",
    "            n += chunk_size\n",
    "            if verbose: print(f'Batch {i+1}/{n_chunks} agrupado correctamente')\n",
    "        final = final.reset_index().groupby(group_cols)[value_cols].sum().reset_index()\n",
    "        return final\n",
    "\n",
    "    def group_by_polygon(self, id_col: str, chunks: bool=False) -> GeoDataFrame:\n",
    "        df = self.df.astype(str)\n",
    "        if chunks: df = self.group_by_chunks(df, group_cols=['geometry'], value_cols=['order_id'], verbose=True)\n",
    "        else: df = df.groupby('geometry')[['order_id']].count().reset_index()\n",
    "        df = df.merge(self.shp.astype(str)).set_index(id_col)\n",
    "        df['geometry'] = GeoSeries.from_wkt(df['geometry'])\n",
    "        self.df = GeoDataFrame(df)\n",
    "        del df\n",
    "\n",
    "    def orders_heatmap(self, **kwargs) -> None:\n",
    "        self.df.plot(**kwargs)\n",
    "        plt.axis('off')\n",
    "        plt.show()\n",
    "\n",
    "    def full_pipeline(self, is_folder: bool=False, export_result: bool=True) -> GeoDataFrame:\n",
    "        start = time()\n",
    "        self.merge_files(lat_col='lat', lng_col='long', is_shp_folder=is_folder)\n",
    "        print(f'Unido en {self.time_exp(start, time())}!')\n",
    "        # self.group_by_polygon(id_col='zipcode')\n",
    "        self.df = self.df.dissolve(by='d_cp', aggfunc='count')[['order_id']]\n",
    "        self.df = self.df.reset_index().merge(self.shp[['d_cp','geometry']]).drop_duplicates('d_cp').set_index('d_cp')\n",
    "        self.df = self.df.astype(str).merge(read_csv(self.names_path).astype(str), left_on='d_cp', right_on='CP', how='left')\n",
    "        print(f'Agrupado en {self.time_exp(start, time())}!')\n",
    "        if export_result: self.df.to_csv(self.base_dir.joinpath('orders_by_zipcode.csv'))\n",
    "        print(f'Exportado en {self.time_exp(start, time())}!')\n",
    "        try: \n",
    "            self.orders_heatmap(column='order_id', cmap='coolwarm', legend=False)\n",
    "            print(f'Graficado en {self.time_exp(start, time())}!')\n",
    "        except: pass\n",
    "        return self.df\n"
   ]
  },
  {
   "cell_type": "markdown",
   "metadata": {},
   "source": [
    "## Transformar"
   ]
  },
  {
   "cell_type": "code",
   "execution_count": 3,
   "metadata": {},
   "outputs": [],
   "source": [
    "oz = OrdersByZipcode(BASE_DIR, SHP_FILE, CSV_FILE, NAMES_FILE)"
   ]
  },
  {
   "cell_type": "code",
   "execution_count": 4,
   "metadata": {},
   "outputs": [
    {
     "name": "stdout",
     "output_type": "stream",
     "text": [
      "Unido en 34.60 segundos!\n",
      "Agrupado en 6 minutos con 13.39 segundos!\n",
      "Exportado en 6 minutos con 13.76 segundos!\n"
     ]
    },
    {
     "data": {
      "text/html": [
       "<div>\n",
       "<style scoped>\n",
       "    .dataframe tbody tr th:only-of-type {\n",
       "        vertical-align: middle;\n",
       "    }\n",
       "\n",
       "    .dataframe tbody tr th {\n",
       "        vertical-align: top;\n",
       "    }\n",
       "\n",
       "    .dataframe thead th {\n",
       "        text-align: right;\n",
       "    }\n",
       "</style>\n",
       "<table border=\"1\" class=\"dataframe\">\n",
       "  <thead>\n",
       "    <tr style=\"text-align: right;\">\n",
       "      <th></th>\n",
       "      <th>order_id</th>\n",
       "      <th>geometry</th>\n",
       "      <th>Pais</th>\n",
       "      <th>CP</th>\n",
       "      <th>Colonia</th>\n",
       "      <th>Estado</th>\n",
       "      <th>Estado_ID</th>\n",
       "      <th>Municipio</th>\n",
       "      <th>Municipio_ID</th>\n",
       "      <th>latitud</th>\n",
       "      <th>longitud</th>\n",
       "    </tr>\n",
       "  </thead>\n",
       "  <tbody>\n",
       "    <tr>\n",
       "      <th>790</th>\n",
       "      <td>110</td>\n",
       "      <td>POLYGON ((-99.1246144618746 19.30386344354566,...</td>\n",
       "      <td>MX</td>\n",
       "      <td>14300</td>\n",
       "      <td>Residencial Miramontes</td>\n",
       "      <td>Distrito Federal</td>\n",
       "      <td>9</td>\n",
       "      <td>Tlalpan</td>\n",
       "      <td>12</td>\n",
       "      <td>19.3016</td>\n",
       "      <td>-99.1232</td>\n",
       "    </tr>\n",
       "    <tr>\n",
       "      <th>946</th>\n",
       "      <td>7</td>\n",
       "      <td>POLYGON ((-102.2925901477603 21.90066511422294...</td>\n",
       "      <td>MX</td>\n",
       "      <td>20030</td>\n",
       "      <td>El Sol</td>\n",
       "      <td>Aguascalientes</td>\n",
       "      <td>1</td>\n",
       "      <td>Aguascalientes</td>\n",
       "      <td>1</td>\n",
       "      <td>21.8115</td>\n",
       "      <td>-102.2957</td>\n",
       "    </tr>\n",
       "    <tr>\n",
       "      <th>2486</th>\n",
       "      <td>12</td>\n",
       "      <td>POLYGON ((-98.99143659672308 19.36743524728848...</td>\n",
       "      <td>MX</td>\n",
       "      <td>57940</td>\n",
       "      <td>Loma Bonita</td>\n",
       "      <td>México</td>\n",
       "      <td>15</td>\n",
       "      <td>Nezahualcóyotl</td>\n",
       "      <td>58</td>\n",
       "      <td>19.4226</td>\n",
       "      <td>-99.0227</td>\n",
       "    </tr>\n",
       "    <tr>\n",
       "      <th>3617</th>\n",
       "      <td>2</td>\n",
       "      <td>POLYGON ((-100.9642877832251 22.15973584603759...</td>\n",
       "      <td>MX</td>\n",
       "      <td>78306</td>\n",
       "      <td>Deportivo FFCC</td>\n",
       "      <td>San Luis Potosí</td>\n",
       "      <td>24</td>\n",
       "      <td>San Luis Potosí</td>\n",
       "      <td>28</td>\n",
       "      <td>22.1647</td>\n",
       "      <td>-100.9662</td>\n",
       "    </tr>\n",
       "  </tbody>\n",
       "</table>\n",
       "</div>"
      ],
      "text/plain": [
       "     order_id                                           geometry Pais     CP  \\\n",
       "790       110  POLYGON ((-99.1246144618746 19.30386344354566,...   MX  14300   \n",
       "946         7  POLYGON ((-102.2925901477603 21.90066511422294...   MX  20030   \n",
       "2486       12  POLYGON ((-98.99143659672308 19.36743524728848...   MX  57940   \n",
       "3617        2  POLYGON ((-100.9642877832251 22.15973584603759...   MX  78306   \n",
       "\n",
       "                     Colonia            Estado Estado_ID        Municipio  \\\n",
       "790   Residencial Miramontes  Distrito Federal         9          Tlalpan   \n",
       "946                   El Sol    Aguascalientes         1   Aguascalientes   \n",
       "2486             Loma Bonita            México        15   Nezahualcóyotl   \n",
       "3617          Deportivo FFCC   San Luis Potosí        24  San Luis Potosí   \n",
       "\n",
       "     Municipio_ID  latitud   longitud  \n",
       "790            12  19.3016   -99.1232  \n",
       "946             1  21.8115  -102.2957  \n",
       "2486           58  19.4226   -99.0227  \n",
       "3617           28  22.1647  -100.9662  "
      ]
     },
     "execution_count": 4,
     "metadata": {},
     "output_type": "execute_result"
    }
   ],
   "source": [
    "df = oz.full_pipeline(is_folder=True)\n",
    "df.sample(4)"
   ]
  }
 ],
 "metadata": {
  "interpreter": {
   "hash": "cd073f3038b8337706d4c7d775204fb19bddc277721f52eb60f8c4b0892f2184"
  },
  "kernelspec": {
   "display_name": "Python 3.9.1 64-bit ('venv': venv)",
   "language": "python",
   "name": "python3"
  },
  "language_info": {
   "codemirror_mode": {
    "name": "ipython",
    "version": 3
   },
   "file_extension": ".py",
   "mimetype": "text/x-python",
   "name": "python",
   "nbconvert_exporter": "python",
   "pygments_lexer": "ipython3",
   "version": "3.9.1"
  },
  "orig_nbformat": 4
 },
 "nbformat": 4,
 "nbformat_minor": 2
}
