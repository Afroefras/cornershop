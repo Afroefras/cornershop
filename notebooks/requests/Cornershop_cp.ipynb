{
 "cells": [
  {
   "cell_type": "code",
   "execution_count": 1,
   "metadata": {},
   "outputs": [],
   "source": [
    "BASE_DIR = '/Users/efraflores/Desktop/EF/Corner/GeoCS'"
   ]
  },
  {
   "cell_type": "code",
   "execution_count": 21,
   "metadata": {},
   "outputs": [],
   "source": [
    "from pathlib import Path\n",
    "\n",
    "from shapely import wkt\n",
    "from pandas import read_csv\n",
    "from geopandas import GeoDataFrame, points_from_xy\n",
    "\n",
    "BASE_DIR = Path(BASE_DIR)"
   ]
  },
  {
   "cell_type": "code",
   "execution_count": 17,
   "metadata": {},
   "outputs": [
    {
     "data": {
      "text/html": [
       "<div>\n",
       "<style scoped>\n",
       "    .dataframe tbody tr th:only-of-type {\n",
       "        vertical-align: middle;\n",
       "    }\n",
       "\n",
       "    .dataframe tbody tr th {\n",
       "        vertical-align: top;\n",
       "    }\n",
       "\n",
       "    .dataframe thead th {\n",
       "        text-align: right;\n",
       "    }\n",
       "</style>\n",
       "<table border=\"1\" class=\"dataframe\">\n",
       "  <thead>\n",
       "    <tr style=\"text-align: right;\">\n",
       "      <th></th>\n",
       "      <th>city_code</th>\n",
       "      <th>city_name</th>\n",
       "      <th>zone_id</th>\n",
       "      <th>zone</th>\n",
       "      <th>ops_zone</th>\n",
       "    </tr>\n",
       "  </thead>\n",
       "  <tbody>\n",
       "    <tr>\n",
       "      <th>37</th>\n",
       "      <td>MLM</td>\n",
       "      <td>Morelia</td>\n",
       "      <td>230</td>\n",
       "      <td>Morelia</td>\n",
       "      <td>MULTIPOLYGON (((-101.23843 19.68834, -101.2483...</td>\n",
       "    </tr>\n",
       "  </tbody>\n",
       "</table>\n",
       "</div>"
      ],
      "text/plain": [
       "   city_code  ...                                           ops_zone\n",
       "37       MLM  ...  MULTIPOLYGON (((-101.23843 19.68834, -101.2483...\n",
       "\n",
       "[1 rows x 5 columns]"
      ]
     },
     "execution_count": 17,
     "metadata": {},
     "output_type": "execute_result"
    }
   ],
   "source": [
    "opz = read_csv(BASE_DIR.joinpath('ops_zone.csv'))\n",
    "opz['ops_zone'] = opz['ops_zone'].apply(wkt.loads)\n",
    "opz = GeoDataFrame(opz, geometry='ops_zone')\n",
    "opz.sample()"
   ]
  },
  {
   "cell_type": "code",
   "execution_count": 23,
   "metadata": {},
   "outputs": [
    {
     "data": {
      "text/html": [
       "<div>\n",
       "<style scoped>\n",
       "    .dataframe tbody tr th:only-of-type {\n",
       "        vertical-align: middle;\n",
       "    }\n",
       "\n",
       "    .dataframe tbody tr th {\n",
       "        vertical-align: top;\n",
       "    }\n",
       "\n",
       "    .dataframe thead th {\n",
       "        text-align: right;\n",
       "    }\n",
       "</style>\n",
       "<table border=\"1\" class=\"dataframe\">\n",
       "  <thead>\n",
       "    <tr style=\"text-align: right;\">\n",
       "      <th></th>\n",
       "      <th>Unnamed: 0</th>\n",
       "      <th>country_code</th>\n",
       "      <th>postal_code</th>\n",
       "      <th>place_name</th>\n",
       "      <th>state_name</th>\n",
       "      <th>state_code</th>\n",
       "      <th>province_name</th>\n",
       "      <th>province_code</th>\n",
       "      <th>community_name</th>\n",
       "      <th>community_code</th>\n",
       "      <th>lat</th>\n",
       "      <th>lon</th>\n",
       "      <th>accuracy</th>\n",
       "      <th>geometry</th>\n",
       "    </tr>\n",
       "  </thead>\n",
       "  <tbody>\n",
       "    <tr>\n",
       "      <th>18010</th>\n",
       "      <td>18010</td>\n",
       "      <td>MX</td>\n",
       "      <td>29930</td>\n",
       "      <td>Belisario Domínguez</td>\n",
       "      <td>Chiapas</td>\n",
       "      <td>7</td>\n",
       "      <td>Yajalón</td>\n",
       "      <td>109</td>\n",
       "      <td>NaN</td>\n",
       "      <td>NaN</td>\n",
       "      <td>17.1856</td>\n",
       "      <td>-92.3258</td>\n",
       "      <td>3</td>\n",
       "      <td>POINT (17.186 -92.326)</td>\n",
       "    </tr>\n",
       "  </tbody>\n",
       "</table>\n",
       "</div>"
      ],
      "text/plain": [
       "       Unnamed: 0 country_code  ...  accuracy                geometry\n",
       "18010       18010           MX  ...         3  POINT (17.186 -92.326)\n",
       "\n",
       "[1 rows x 14 columns]"
      ]
     },
     "execution_count": 23,
     "metadata": {},
     "output_type": "execute_result"
    }
   ],
   "source": [
    "zipc = read_csv(BASE_DIR.joinpath('MX_zipcode.csv'))\n",
    "zipc = GeoDataFrame(zipc, geometry=points_from_xy(zipc['lat'], zipc['lon']))\n",
    "zipc.sample()"
   ]
  },
  {
   "cell_type": "code",
   "execution_count": 34,
   "metadata": {},
   "outputs": [],
   "source": [
    "# aux = opz.sjoin(zipc, how=\"left\", op='within')"
   ]
  },
  {
   "cell_type": "code",
   "execution_count": null,
   "metadata": {},
   "outputs": [],
   "source": []
  },
  {
   "cell_type": "code",
   "execution_count": null,
   "metadata": {},
   "outputs": [],
   "source": []
  },
  {
   "cell_type": "code",
   "execution_count": 2,
   "metadata": {},
   "outputs": [
    {
     "data": {
      "text/html": [
       "<div>\n",
       "<style scoped>\n",
       "    .dataframe tbody tr th:only-of-type {\n",
       "        vertical-align: middle;\n",
       "    }\n",
       "\n",
       "    .dataframe tbody tr th {\n",
       "        vertical-align: top;\n",
       "    }\n",
       "\n",
       "    .dataframe thead th {\n",
       "        text-align: right;\n",
       "    }\n",
       "</style>\n",
       "<table border=\"1\" class=\"dataframe\">\n",
       "  <thead>\n",
       "    <tr style=\"text-align: right;\">\n",
       "      <th></th>\n",
       "      <th>name</th>\n",
       "      <th>user_uuid</th>\n",
       "      <th>customer_uuid</th>\n",
       "    </tr>\n",
       "  </thead>\n",
       "  <tbody>\n",
       "    <tr>\n",
       "      <th>270667</th>\n",
       "      <td>nvg-ssl-merchants_nl_mx_20220415_treatment</td>\n",
       "      <td>5fe1e287-6167-4ac4-90ec-0c544f4d6037</td>\n",
       "      <td>ca2a217b-b9d1-4685-982a-ed6b11f2b141</td>\n",
       "    </tr>\n",
       "  </tbody>\n",
       "</table>\n",
       "</div>"
      ],
      "text/plain": [
       "                                              name  ...                         customer_uuid\n",
       "270667  nvg-ssl-merchants_nl_mx_20220415_treatment  ...  ca2a217b-b9d1-4685-982a-ed6b11f2b141\n",
       "\n",
       "[1 rows x 3 columns]"
      ]
     },
     "execution_count": 2,
     "metadata": {},
     "output_type": "execute_result"
    }
   ],
   "source": [
    "from pandas import read_csv\n",
    "\n",
    "users = read_csv('/Users/efraflores/Desktop/Merchant funded promo UUIDs.csv')\n",
    "users.sample()"
   ]
  },
  {
   "cell_type": "code",
   "execution_count": 3,
   "metadata": {},
   "outputs": [
    {
     "data": {
      "text/html": [
       "<div>\n",
       "<style scoped>\n",
       "    .dataframe tbody tr th:only-of-type {\n",
       "        vertical-align: middle;\n",
       "    }\n",
       "\n",
       "    .dataframe tbody tr th {\n",
       "        vertical-align: top;\n",
       "    }\n",
       "\n",
       "    .dataframe thead th {\n",
       "        text-align: right;\n",
       "    }\n",
       "</style>\n",
       "<table border=\"1\" class=\"dataframe\">\n",
       "  <thead>\n",
       "    <tr style=\"text-align: right;\">\n",
       "      <th></th>\n",
       "      <th>customer_uuid</th>\n",
       "      <th>user_id</th>\n",
       "      <th>order_id</th>\n",
       "      <th>order_datetime</th>\n",
       "      <th>shopper_store_branch_id</th>\n",
       "      <th>qty_products_ordered</th>\n",
       "      <th>qty_products_found</th>\n",
       "      <th>qty_products_replaced</th>\n",
       "      <th>total_receipt</th>\n",
       "    </tr>\n",
       "  </thead>\n",
       "  <tbody>\n",
       "    <tr>\n",
       "      <th>393057</th>\n",
       "      <td>b117c7c9-fba4-4f64-9819-b47b5ccc9c23</td>\n",
       "      <td>30075507</td>\n",
       "      <td>56767175</td>\n",
       "      <td>2022-04-26T20:35:40.384515</td>\n",
       "      <td>3105</td>\n",
       "      <td>1</td>\n",
       "      <td>1</td>\n",
       "      <td>0</td>\n",
       "      <td>237.0</td>\n",
       "    </tr>\n",
       "  </tbody>\n",
       "</table>\n",
       "</div>"
      ],
      "text/plain": [
       "                               customer_uuid  ...  total_receipt\n",
       "393057  b117c7c9-fba4-4f64-9819-b47b5ccc9c23  ...          237.0\n",
       "\n",
       "[1 rows x 9 columns]"
      ]
     },
     "execution_count": 3,
     "metadata": {},
     "output_type": "execute_result"
    }
   ],
   "source": [
    "orders = read_csv('/Users/efraflores/Desktop/apr_orders.csv')\n",
    "orders.sample()"
   ]
  },
  {
   "cell_type": "code",
   "execution_count": 18,
   "metadata": {},
   "outputs": [
    {
     "data": {
      "text/html": [
       "<div>\n",
       "<style scoped>\n",
       "    .dataframe tbody tr th:only-of-type {\n",
       "        vertical-align: middle;\n",
       "    }\n",
       "\n",
       "    .dataframe tbody tr th {\n",
       "        vertical-align: top;\n",
       "    }\n",
       "\n",
       "    .dataframe thead th {\n",
       "        text-align: right;\n",
       "    }\n",
       "</style>\n",
       "<table border=\"1\" class=\"dataframe\">\n",
       "  <thead>\n",
       "    <tr style=\"text-align: right;\">\n",
       "      <th></th>\n",
       "      <th>name</th>\n",
       "      <th>user_uuid</th>\n",
       "      <th>customer_uuid</th>\n",
       "      <th>user_id</th>\n",
       "      <th>order_id</th>\n",
       "      <th>order_datetime</th>\n",
       "      <th>shopper_store_branch_id</th>\n",
       "      <th>qty_products_ordered</th>\n",
       "      <th>qty_products_found</th>\n",
       "      <th>qty_products_replaced</th>\n",
       "      <th>total_receipt</th>\n",
       "    </tr>\n",
       "  </thead>\n",
       "  <tbody>\n",
       "    <tr>\n",
       "      <th>2</th>\n",
       "      <td>nvg-ssl-merchants_nl_mx_20220415_treatment</td>\n",
       "      <td>70454b8f-5ce5-4294-8b7d-c5743b5d8138</td>\n",
       "      <td>a9564fae-022f-43e6-a36a-dc22520c2e1a</td>\n",
       "      <td>30054225</td>\n",
       "      <td>56727049</td>\n",
       "      <td>2022-04-26T11:58:13.903596</td>\n",
       "      <td>33887</td>\n",
       "      <td>1</td>\n",
       "      <td>1</td>\n",
       "      <td>0</td>\n",
       "      <td>240.00</td>\n",
       "    </tr>\n",
       "    <tr>\n",
       "      <th>3</th>\n",
       "      <td>nvg-ssl-merchants_nl_mx_20220415_treatment</td>\n",
       "      <td>72fd3348-b9f3-467a-8985-6164973b4d59</td>\n",
       "      <td>bab50e9b-1dc0-40ac-970a-5a540a5f0dc3</td>\n",
       "      <td>29763346</td>\n",
       "      <td>56285111</td>\n",
       "      <td>2022-04-20T09:41:55.212035</td>\n",
       "      <td>26965</td>\n",
       "      <td>4</td>\n",
       "      <td>4</td>\n",
       "      <td>0</td>\n",
       "      <td>105.00</td>\n",
       "    </tr>\n",
       "    <tr>\n",
       "      <th>4</th>\n",
       "      <td>nvg-ssl-merchants_nl_mx_20220415_treatment</td>\n",
       "      <td>734ead2a-fb0e-4a80-987e-6c8585696af0</td>\n",
       "      <td>43f8287b-3cb8-4b82-b600-8cae25b300a4</td>\n",
       "      <td>29491215</td>\n",
       "      <td>56688104</td>\n",
       "      <td>2022-04-25T20:14:15.006521</td>\n",
       "      <td>11755</td>\n",
       "      <td>23</td>\n",
       "      <td>20</td>\n",
       "      <td>2</td>\n",
       "      <td>770.93</td>\n",
       "    </tr>\n",
       "    <tr>\n",
       "      <th>5</th>\n",
       "      <td>nvg-ssl-merchants_nl_mx_20220415_treatment</td>\n",
       "      <td>5049733a-0e3a-4c56-834b-ee6d8510c4a1</td>\n",
       "      <td>1797ebdd-f1e7-4ff6-9acc-c8a3e23c1b12</td>\n",
       "      <td>2627134</td>\n",
       "      <td>55191333</td>\n",
       "      <td>2022-04-04T17:49:12.521888</td>\n",
       "      <td>35393</td>\n",
       "      <td>11</td>\n",
       "      <td>10</td>\n",
       "      <td>0</td>\n",
       "      <td>526.45</td>\n",
       "    </tr>\n",
       "    <tr>\n",
       "      <th>6</th>\n",
       "      <td>nvg-ssl-merchants_nl_mx_20220415_treatment</td>\n",
       "      <td>5049733a-0e3a-4c56-834b-ee6d8510c4a1</td>\n",
       "      <td>1797ebdd-f1e7-4ff6-9acc-c8a3e23c1b12</td>\n",
       "      <td>2627134</td>\n",
       "      <td>55261517</td>\n",
       "      <td>2022-04-05T16:45:53.087955</td>\n",
       "      <td>35393</td>\n",
       "      <td>5</td>\n",
       "      <td>5</td>\n",
       "      <td>0</td>\n",
       "      <td>251.09</td>\n",
       "    </tr>\n",
       "  </tbody>\n",
       "</table>\n",
       "</div>"
      ],
      "text/plain": [
       "                                         name  ... total_receipt\n",
       "2  nvg-ssl-merchants_nl_mx_20220415_treatment  ...        240.00\n",
       "3  nvg-ssl-merchants_nl_mx_20220415_treatment  ...        105.00\n",
       "4  nvg-ssl-merchants_nl_mx_20220415_treatment  ...        770.93\n",
       "5  nvg-ssl-merchants_nl_mx_20220415_treatment  ...        526.45\n",
       "6  nvg-ssl-merchants_nl_mx_20220415_treatment  ...        251.09\n",
       "\n",
       "[5 rows x 11 columns]"
      ]
     },
     "execution_count": 18,
     "metadata": {},
     "output_type": "execute_result"
    }
   ],
   "source": [
    "df = users.merge(orders, on='customer_uuid')\n",
    "df = df[df['name']=='nvg-ssl-merchants_nl_mx_20220415_treatment'].copy()\n",
    "df.head()"
   ]
  },
  {
   "cell_type": "code",
   "execution_count": 20,
   "metadata": {},
   "outputs": [],
   "source": [
    "df.to_csv('/Users/efraflores/Desktop/apr_orders_users.csv', index=False)"
   ]
  }
 ],
 "metadata": {
  "interpreter": {
   "hash": "cd073f3038b8337706d4c7d775204fb19bddc277721f52eb60f8c4b0892f2184"
  },
  "kernelspec": {
   "display_name": "Python 3.9.1 ('venv': venv)",
   "language": "python",
   "name": "python3"
  },
  "language_info": {
   "codemirror_mode": {
    "name": "ipython",
    "version": 3
   },
   "file_extension": ".py",
   "mimetype": "text/x-python",
   "name": "python",
   "nbconvert_exporter": "python",
   "pygments_lexer": "ipython3",
   "version": "3.9.1"
  },
  "orig_nbformat": 4
 },
 "nbformat": 4,
 "nbformat_minor": 2
}
