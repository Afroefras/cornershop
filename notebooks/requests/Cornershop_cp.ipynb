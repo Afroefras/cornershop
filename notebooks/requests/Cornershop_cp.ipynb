{
 "cells": [
  {
   "cell_type": "markdown",
   "metadata": {},
   "source": [
    "# Parámetros"
   ]
  },
  {
   "cell_type": "code",
   "execution_count": 1,
   "metadata": {},
   "outputs": [],
   "source": [
    "BASE_DIR = '/Users/efraflores/Desktop/EF/Corner/GeoCS'\n",
    "ZIPCODES_FILE = 'MX_zipcode.csv'\n",
    "OPS_FILE = 'ops_zone.csv'"
   ]
  },
  {
   "cell_type": "markdown",
   "metadata": {},
   "source": [
    "# Entorno"
   ]
  },
  {
   "cell_type": "code",
   "execution_count": 2,
   "metadata": {},
   "outputs": [],
   "source": [
    "from pathlib import Path\n",
    "\n",
    "from shapely import wkt\n",
    "from pandas import read_csv\n",
    "from geopandas import GeoDataFrame, points_from_xy, sjoin\n",
    "\n",
    "BASE_DIR = Path(BASE_DIR)"
   ]
  },
  {
   "cell_type": "markdown",
   "metadata": {},
   "source": [
    "# Ops Zone"
   ]
  },
  {
   "cell_type": "code",
   "execution_count": 3,
   "metadata": {},
   "outputs": [
    {
     "name": "stdout",
     "output_type": "stream",
     "text": [
      "(39, 5)\n"
     ]
    },
    {
     "data": {
      "text/html": [
       "<div>\n",
       "<style scoped>\n",
       "    .dataframe tbody tr th:only-of-type {\n",
       "        vertical-align: middle;\n",
       "    }\n",
       "\n",
       "    .dataframe tbody tr th {\n",
       "        vertical-align: top;\n",
       "    }\n",
       "\n",
       "    .dataframe thead th {\n",
       "        text-align: right;\n",
       "    }\n",
       "</style>\n",
       "<table border=\"1\" class=\"dataframe\">\n",
       "  <thead>\n",
       "    <tr style=\"text-align: right;\">\n",
       "      <th></th>\n",
       "      <th>city_code</th>\n",
       "      <th>city_name</th>\n",
       "      <th>zone_id</th>\n",
       "      <th>zone</th>\n",
       "      <th>ops_zone</th>\n",
       "    </tr>\n",
       "  </thead>\n",
       "  <tbody>\n",
       "    <tr>\n",
       "      <th>29</th>\n",
       "      <td>MEX</td>\n",
       "      <td>Ciudad de México</td>\n",
       "      <td>9</td>\n",
       "      <td>Lejos Sur</td>\n",
       "      <td>MULTIPOLYGON (((-99.162 19.344, -99.171 19.305...</td>\n",
       "    </tr>\n",
       "  </tbody>\n",
       "</table>\n",
       "</div>"
      ],
      "text/plain": [
       "   city_code         city_name  zone_id       zone  \\\n",
       "29       MEX  Ciudad de México        9  Lejos Sur   \n",
       "\n",
       "                                             ops_zone  \n",
       "29  MULTIPOLYGON (((-99.162 19.344, -99.171 19.305...  "
      ]
     },
     "execution_count": 3,
     "metadata": {},
     "output_type": "execute_result"
    }
   ],
   "source": [
    "opz = read_csv(BASE_DIR.joinpath(OPS_FILE))\n",
    "opz['ops_zone'] = opz['ops_zone'].apply(wkt.loads)\n",
    "opz = GeoDataFrame(opz, geometry='ops_zone', crs='EPSG:6372')\n",
    "print(opz.shape)\n",
    "opz.sample()"
   ]
  },
  {
   "cell_type": "markdown",
   "metadata": {},
   "source": [
    "# Zipcodes MX"
   ]
  },
  {
   "cell_type": "code",
   "execution_count": 4,
   "metadata": {},
   "outputs": [
    {
     "name": "stdout",
     "output_type": "stream",
     "text": [
      "(144655, 13)\n"
     ]
    },
    {
     "data": {
      "text/html": [
       "<div>\n",
       "<style scoped>\n",
       "    .dataframe tbody tr th:only-of-type {\n",
       "        vertical-align: middle;\n",
       "    }\n",
       "\n",
       "    .dataframe tbody tr th {\n",
       "        vertical-align: top;\n",
       "    }\n",
       "\n",
       "    .dataframe thead th {\n",
       "        text-align: right;\n",
       "    }\n",
       "</style>\n",
       "<table border=\"1\" class=\"dataframe\">\n",
       "  <thead>\n",
       "    <tr style=\"text-align: right;\">\n",
       "      <th></th>\n",
       "      <th>Unnamed: 0</th>\n",
       "      <th>country_code</th>\n",
       "      <th>postal_code</th>\n",
       "      <th>place_name</th>\n",
       "      <th>state_name</th>\n",
       "      <th>state_code</th>\n",
       "      <th>province_name</th>\n",
       "      <th>province_code</th>\n",
       "      <th>community_name</th>\n",
       "      <th>community_code</th>\n",
       "      <th>lat</th>\n",
       "      <th>lon</th>\n",
       "      <th>accuracy</th>\n",
       "      <th>geometry</th>\n",
       "    </tr>\n",
       "  </thead>\n",
       "  <tbody>\n",
       "    <tr>\n",
       "      <th>141577</th>\n",
       "      <td>141577</td>\n",
       "      <td>MX</td>\n",
       "      <td>97143</td>\n",
       "      <td>Boulevares de Oriente</td>\n",
       "      <td>Yucatán</td>\n",
       "      <td>31</td>\n",
       "      <td>Mérida</td>\n",
       "      <td>50</td>\n",
       "      <td>Mérida</td>\n",
       "      <td>1.0</td>\n",
       "      <td>20.9758</td>\n",
       "      <td>-89.5345</td>\n",
       "      <td>1</td>\n",
       "      <td>POINT (-89.534 20.976)</td>\n",
       "    </tr>\n",
       "  </tbody>\n",
       "</table>\n",
       "</div>"
      ],
      "text/plain": [
       "        Unnamed: 0 country_code  postal_code             place_name  \\\n",
       "141577      141577           MX        97143  Boulevares de Oriente   \n",
       "\n",
       "       state_name  state_code province_name  province_code community_name  \\\n",
       "141577    Yucatán          31        Mérida             50         Mérida   \n",
       "\n",
       "        community_code      lat      lon  accuracy                geometry  \n",
       "141577             1.0  20.9758 -89.5345         1  POINT (-89.534 20.976)  "
      ]
     },
     "execution_count": 4,
     "metadata": {},
     "output_type": "execute_result"
    }
   ],
   "source": [
    "zipc = read_csv(BASE_DIR.joinpath(ZIPCODES_FILE))\n",
    "print(zipc.shape)\n",
    "zipc = GeoDataFrame(zipc, geometry=points_from_xy(zipc['lon'], zipc['lat']), crs='EPSG:6372')\n",
    "zipc.sample()"
   ]
  },
  {
   "cell_type": "markdown",
   "metadata": {},
   "source": [
    "# Test"
   ]
  },
  {
   "cell_type": "code",
   "execution_count": 5,
   "metadata": {},
   "outputs": [
    {
     "data": {
      "text/plain": [
       "<AxesSubplot:>"
      ]
     },
     "execution_count": 5,
     "metadata": {},
     "output_type": "execute_result"
    },
    {
     "data": {
      "image/png": "[encoded data removed]",
      "text/plain": [
       "<Figure size 432x288 with 1 Axes>"
      ]
     },
     "metadata": {
      "needs_background": "light"
     },
     "output_type": "display_data"
    }
   ],
   "source": [
    "ax = opz[opz['city_name']=='Toluca'].loc[12:12,'ops_zone'].plot()\n",
    "zipc[zipc['province_name']=='Toluca']['geometry'].plot(ax=ax, color='red')"
   ]
  },
  {
   "cell_type": "markdown",
   "metadata": {},
   "source": [
    "# Intersección"
   ]
  },
  {
   "cell_type": "code",
   "execution_count": 6,
   "metadata": {},
   "outputs": [
    {
     "name": "stdout",
     "output_type": "stream",
     "text": [
      "(4309, 19)\n"
     ]
    },
    {
     "data": {
      "text/html": [
       "<div>\n",
       "<style scoped>\n",
       "    .dataframe tbody tr th:only-of-type {\n",
       "        vertical-align: middle;\n",
       "    }\n",
       "\n",
       "    .dataframe tbody tr th {\n",
       "        vertical-align: top;\n",
       "    }\n",
       "\n",
       "    .dataframe thead th {\n",
       "        text-align: right;\n",
       "    }\n",
       "</style>\n",
       "<table border=\"1\" class=\"dataframe\">\n",
       "  <thead>\n",
       "    <tr style=\"text-align: right;\">\n",
       "      <th></th>\n",
       "      <th>Unnamed: 0</th>\n",
       "      <th>country_code</th>\n",
       "      <th>postal_code</th>\n",
       "      <th>place_name</th>\n",
       "      <th>state_name</th>\n",
       "      <th>state_code</th>\n",
       "      <th>province_name</th>\n",
       "      <th>province_code</th>\n",
       "      <th>community_name</th>\n",
       "      <th>community_code</th>\n",
       "      <th>lat</th>\n",
       "      <th>lon</th>\n",
       "      <th>accuracy</th>\n",
       "      <th>geometry</th>\n",
       "      <th>index_right</th>\n",
       "      <th>city_code</th>\n",
       "      <th>city_name</th>\n",
       "      <th>zone_id</th>\n",
       "      <th>zone</th>\n",
       "    </tr>\n",
       "  </thead>\n",
       "  <tbody>\n",
       "    <tr>\n",
       "      <th>0</th>\n",
       "      <td>0</td>\n",
       "      <td>MX</td>\n",
       "      <td>20000</td>\n",
       "      <td>Zona Centro</td>\n",
       "      <td>Aguascalientes</td>\n",
       "      <td>1</td>\n",
       "      <td>Aguascalientes</td>\n",
       "      <td>1</td>\n",
       "      <td>Aguascalientes</td>\n",
       "      <td>1.0</td>\n",
       "      <td>21.8734</td>\n",
       "      <td>-102.2806</td>\n",
       "      <td>1</td>\n",
       "      <td>POINT (-102.281 21.873)</td>\n",
       "      <td>0</td>\n",
       "      <td>AGS</td>\n",
       "      <td>Aguascalientes</td>\n",
       "      <td>157</td>\n",
       "      <td>Aguascalientes</td>\n",
       "    </tr>\n",
       "    <tr>\n",
       "      <th>11</th>\n",
       "      <td>11</td>\n",
       "      <td>MX</td>\n",
       "      <td>20020</td>\n",
       "      <td>Circunvalación Norte</td>\n",
       "      <td>Aguascalientes</td>\n",
       "      <td>1</td>\n",
       "      <td>Aguascalientes</td>\n",
       "      <td>1</td>\n",
       "      <td>Aguascalientes</td>\n",
       "      <td>1.0</td>\n",
       "      <td>21.8376</td>\n",
       "      <td>-102.3210</td>\n",
       "      <td>3</td>\n",
       "      <td>POINT (-102.321 21.838)</td>\n",
       "      <td>0</td>\n",
       "      <td>AGS</td>\n",
       "      <td>Aguascalientes</td>\n",
       "      <td>157</td>\n",
       "      <td>Aguascalientes</td>\n",
       "    </tr>\n",
       "    <tr>\n",
       "      <th>15</th>\n",
       "      <td>15</td>\n",
       "      <td>MX</td>\n",
       "      <td>20029</td>\n",
       "      <td>Villas de La Universidad</td>\n",
       "      <td>Aguascalientes</td>\n",
       "      <td>1</td>\n",
       "      <td>Aguascalientes</td>\n",
       "      <td>1</td>\n",
       "      <td>Aguascalientes</td>\n",
       "      <td>1.0</td>\n",
       "      <td>21.8376</td>\n",
       "      <td>-102.3210</td>\n",
       "      <td>1</td>\n",
       "      <td>POINT (-102.321 21.838)</td>\n",
       "      <td>0</td>\n",
       "      <td>AGS</td>\n",
       "      <td>Aguascalientes</td>\n",
       "      <td>157</td>\n",
       "      <td>Aguascalientes</td>\n",
       "    </tr>\n",
       "    <tr>\n",
       "      <th>33</th>\n",
       "      <td>33</td>\n",
       "      <td>MX</td>\n",
       "      <td>20060</td>\n",
       "      <td>Moderno</td>\n",
       "      <td>Aguascalientes</td>\n",
       "      <td>1</td>\n",
       "      <td>Aguascalientes</td>\n",
       "      <td>1</td>\n",
       "      <td>Aguascalientes</td>\n",
       "      <td>1.0</td>\n",
       "      <td>21.8734</td>\n",
       "      <td>-102.2806</td>\n",
       "      <td>1</td>\n",
       "      <td>POINT (-102.281 21.873)</td>\n",
       "      <td>0</td>\n",
       "      <td>AGS</td>\n",
       "      <td>Aguascalientes</td>\n",
       "      <td>157</td>\n",
       "      <td>Aguascalientes</td>\n",
       "    </tr>\n",
       "    <tr>\n",
       "      <th>35</th>\n",
       "      <td>35</td>\n",
       "      <td>MX</td>\n",
       "      <td>20064</td>\n",
       "      <td>Valle del Rio San Pedro</td>\n",
       "      <td>Aguascalientes</td>\n",
       "      <td>1</td>\n",
       "      <td>Aguascalientes</td>\n",
       "      <td>1</td>\n",
       "      <td>Aguascalientes</td>\n",
       "      <td>1.0</td>\n",
       "      <td>21.8734</td>\n",
       "      <td>-102.2806</td>\n",
       "      <td>1</td>\n",
       "      <td>POINT (-102.281 21.873)</td>\n",
       "      <td>0</td>\n",
       "      <td>AGS</td>\n",
       "      <td>Aguascalientes</td>\n",
       "      <td>157</td>\n",
       "      <td>Aguascalientes</td>\n",
       "    </tr>\n",
       "  </tbody>\n",
       "</table>\n",
       "</div>"
      ],
      "text/plain": [
       "    Unnamed: 0 country_code  postal_code                place_name  \\\n",
       "0            0           MX        20000               Zona Centro   \n",
       "11          11           MX        20020      Circunvalación Norte   \n",
       "15          15           MX        20029  Villas de La Universidad   \n",
       "33          33           MX        20060                   Moderno   \n",
       "35          35           MX        20064   Valle del Rio San Pedro   \n",
       "\n",
       "        state_name  state_code   province_name  province_code  community_name  \\\n",
       "0   Aguascalientes           1  Aguascalientes              1  Aguascalientes   \n",
       "11  Aguascalientes           1  Aguascalientes              1  Aguascalientes   \n",
       "15  Aguascalientes           1  Aguascalientes              1  Aguascalientes   \n",
       "33  Aguascalientes           1  Aguascalientes              1  Aguascalientes   \n",
       "35  Aguascalientes           1  Aguascalientes              1  Aguascalientes   \n",
       "\n",
       "    community_code      lat       lon  accuracy                 geometry  \\\n",
       "0              1.0  21.8734 -102.2806         1  POINT (-102.281 21.873)   \n",
       "11             1.0  21.8376 -102.3210         3  POINT (-102.321 21.838)   \n",
       "15             1.0  21.8376 -102.3210         1  POINT (-102.321 21.838)   \n",
       "33             1.0  21.8734 -102.2806         1  POINT (-102.281 21.873)   \n",
       "35             1.0  21.8734 -102.2806         1  POINT (-102.281 21.873)   \n",
       "\n",
       "    index_right city_code       city_name  zone_id            zone  \n",
       "0             0       AGS  Aguascalientes      157  Aguascalientes  \n",
       "11            0       AGS  Aguascalientes      157  Aguascalientes  \n",
       "15            0       AGS  Aguascalientes      157  Aguascalientes  \n",
       "33            0       AGS  Aguascalientes      157  Aguascalientes  \n",
       "35            0       AGS  Aguascalientes      157  Aguascalientes  "
      ]
     },
     "execution_count": 6,
     "metadata": {},
     "output_type": "execute_result"
    }
   ],
   "source": [
    "df = sjoin(zipc, opz)\n",
    "df.drop_duplicates('postal_code', inplace=True)\n",
    "print(df.shape)\n",
    "df.head()"
   ]
  },
  {
   "cell_type": "markdown",
   "metadata": {},
   "source": [
    "# Exportar resultado"
   ]
  },
  {
   "cell_type": "code",
   "execution_count": 7,
   "metadata": {},
   "outputs": [],
   "source": [
    "df.to_csv(BASE_DIR.joinpath('zipcode_results.csv'), index=False, sep='\\t', encoding='utf-16')\n",
    "aux = read_csv(BASE_DIR.joinpath('zipcode_results.csv'), sep='\\t', encoding='utf-16')\n",
    "aux.to_csv(BASE_DIR.joinpath('zipcode_map.csv'), index=False)"
   ]
  }
 ],
 "metadata": {
  "interpreter": {
   "hash": "cd073f3038b8337706d4c7d775204fb19bddc277721f52eb60f8c4b0892f2184"
  },
  "kernelspec": {
   "display_name": "Python 3.9.1 ('venv': venv)",
   "language": "python",
   "name": "python3"
  },
  "language_info": {
   "codemirror_mode": {
    "name": "ipython",
    "version": 3
   },
   "file_extension": ".py",
   "mimetype": "text/x-python",
   "name": "python",
   "nbconvert_exporter": "python",
   "pygments_lexer": "ipython3",
   "version": "3.9.1"
  },
  "orig_nbformat": 4
 },
 "nbformat": 4,
 "nbformat_minor": 2
}
