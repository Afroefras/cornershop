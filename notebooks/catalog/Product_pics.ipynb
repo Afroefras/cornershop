{
 "cells": [
  {
   "cell_type": "code",
   "execution_count": 1,
   "id": "7cabddce",
   "metadata": {
    "ExecuteTime": {
     "end_time": "2021-05-27T19:06:07.290011Z",
     "start_time": "2021-05-27T19:06:07.270896Z"
    }
   },
   "outputs": [],
   "source": [
    "import sys\n",
    "sys.path.append('/Users/efraflores/Desktop/hub/playground/venv/lib/python3.9/site-packages')"
   ]
  },
  {
   "cell_type": "code",
   "execution_count": 2,
   "id": "ba897ab9",
   "metadata": {
    "ExecuteTime": {
     "end_time": "2021-05-27T19:06:08.181682Z",
     "start_time": "2021-05-27T19:06:08.172603Z"
    }
   },
   "outputs": [],
   "source": [
    "import urllib \n",
    "from urllib.error import HTTPError\n",
    "from xml.dom import minidom\n",
    "\n",
    "serviceurl = 'https://www.chedraui.com.mx/chedrauicommercewebservices/v2/chedraui/products/00000000000'\n",
    "def foto(x):\n",
    "    numero = str(x)\n",
    "    url = serviceurl + numero + \"/?format=xml\"\n",
    "    request = urllib.request.Request(url)\n",
    "    try:data = urllib.request.urlopen(request)\n",
    "    except HTTPError as err:\n",
    "        if err.code == 404:return \"error\"\n",
    "        elif err.code == 400:return \"No_foto\"\n",
    "        else:raise\n",
    "    archivo_xml = minidom.parse(data)\n",
    "    images = archivo_xml.getElementsByTagName(\"images\")\n",
    "    imagenes_url = []\n",
    "    for image in images: \n",
    "        image1 = image.getElementsByTagName(\"url\")[0]\n",
    "        imagenes_url.append(f\"https://www.chedraui.com.mx{image1.firstChild.data}\")\n",
    "    try:\n",
    "        return imagenes_url[0]\n",
    "    except:\n",
    "        return \"No_Foto\""
   ]
  },
  {
   "cell_type": "code",
   "execution_count": 3,
   "id": "fded0eb0",
   "metadata": {
    "ExecuteTime": {
     "end_time": "2021-05-27T19:06:17.921058Z",
     "start_time": "2021-05-27T19:06:17.402590Z"
    }
   },
   "outputs": [
    {
     "name": "stdout",
     "output_type": "stream",
     "text": [
      "quedo : 3240741\n"
     ]
    },
    {
     "data": {
      "text/plain": [
       "'https://www.chedraui.com.mx/medias/7501839901023-00-CH515Wx515H?context=bWFzdGVyfHJvb3R8MzI2MzZ8aW1hZ2UvanBlZ3xoMmYvaGJhLzEwNTMxNDE4ODk4NDYyLmpwZ3wwNGJhMDM5NDFkMjk5NGE0YjM3Yjc2ZDRhNjBhYjZiYjk4ZTBiYmVlNWRjNDgzZmNkZWFlMTNjNDhkYWIwYWJk'"
      ]
     },
     "execution_count": 3,
     "metadata": {},
     "output_type": "execute_result"
    }
   ],
   "source": [
    "foto(3240741)"
   ]
  },
  {
   "cell_type": "code",
   "execution_count": null,
   "id": "e6c6a948",
   "metadata": {},
   "outputs": [],
   "source": []
  }
 ],
 "metadata": {
  "kernelspec": {
   "display_name": "Python 3",
   "language": "python",
   "name": "python3"
  },
  "language_info": {
   "codemirror_mode": {
    "name": "ipython",
    "version": 3
   },
   "file_extension": ".py",
   "mimetype": "text/x-python",
   "name": "python",
   "nbconvert_exporter": "python",
   "pygments_lexer": "ipython3",
   "version": "3.9.1"
  },
  "toc": {
   "base_numbering": 1,
   "nav_menu": {},
   "number_sections": true,
   "sideBar": true,
   "skip_h1_title": true,
   "title_cell": "Table of Contents",
   "title_sidebar": "Contents",
   "toc_cell": false,
   "toc_position": {},
   "toc_section_display": true,
   "toc_window_display": false
  },
  "varInspector": {
   "cols": {
    "lenName": 16,
    "lenType": 16,
    "lenVar": 40
   },
   "kernels_config": {
    "python": {
     "delete_cmd_postfix": "",
     "delete_cmd_prefix": "del ",
     "library": "var_list.py",
     "varRefreshCmd": "print(var_dic_list())"
    },
    "r": {
     "delete_cmd_postfix": ") ",
     "delete_cmd_prefix": "rm(",
     "library": "var_list.r",
     "varRefreshCmd": "cat(var_dic_list()) "
    }
   },
   "types_to_exclude": [
    "module",
    "function",
    "builtin_function_or_method",
    "instance",
    "_Feature"
   ],
   "window_display": false
  }
 },
 "nbformat": 4,
 "nbformat_minor": 5
}
