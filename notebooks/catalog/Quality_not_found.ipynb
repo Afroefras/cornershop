{
 "cells": [
  {
   "cell_type": "markdown",
   "source": [
    "# Aguacate quality"
   ],
   "metadata": {}
  },
  {
   "cell_type": "markdown",
   "source": [
    "## Parameters"
   ],
   "metadata": {}
  },
  {
   "cell_type": "code",
   "execution_count": 1,
   "source": [
    "BASE_DIR = '/Users/efraflores/Desktop/EF/Corner/Catalog/Search_without_results'\n",
    "FILE_BASE_NAME = 'aguacate'\n",
    "WORDS = 'maduro,verde,echado,perder,feo,crudo'"
   ],
   "outputs": [],
   "metadata": {}
  },
  {
   "cell_type": "markdown",
   "source": [
    "## Import"
   ],
   "metadata": {}
  },
  {
   "cell_type": "code",
   "execution_count": 2,
   "source": [
    "from pathlib import Path\n",
    "\n",
    "BASE_DIR = Path(BASE_DIR)\n",
    "FILE_LIST = [x for x in BASE_DIR.glob('*') if ''.join(str(x).split('/')[-1].split('_')[:-1])==FILE_BASE_NAME]\n",
    "print(FILE_LIST)"
   ],
   "outputs": [
    {
     "output_type": "stream",
     "name": "stdout",
     "text": [
      "[PosixPath('/Users/efraflores/Desktop/EF/Corner/Catalog/Search_without_results/aguacate_210802.csv'), PosixPath('/Users/efraflores/Desktop/EF/Corner/Catalog/Search_without_results/aguacate_210801.csv')]\n"
     ]
    }
   ],
   "metadata": {}
  },
  {
   "cell_type": "code",
   "execution_count": 3,
   "source": [
    "import pandas as pd\n",
    "\n",
    "df = pd.DataFrame()\n",
    "for file_chunk in FILE_LIST:\n",
    "    df = df.append(pd.read_csv(file_chunk), ignore_index=True)\n",
    "df.sample()"
   ],
   "outputs": [
    {
     "output_type": "execute_result",
     "data": {
      "text/html": [
       "<div>\n",
       "<style scoped>\n",
       "    .dataframe tbody tr th:only-of-type {\n",
       "        vertical-align: middle;\n",
       "    }\n",
       "\n",
       "    .dataframe tbody tr th {\n",
       "        vertical-align: top;\n",
       "    }\n",
       "\n",
       "    .dataframe thead th {\n",
       "        text-align: right;\n",
       "    }\n",
       "</style>\n",
       "<table border=\"1\" class=\"dataframe\">\n",
       "  <thead>\n",
       "    <tr style=\"text-align: right;\">\n",
       "      <th></th>\n",
       "      <th>order_id</th>\n",
       "      <th>date</th>\n",
       "      <th>city</th>\n",
       "      <th>store_id</th>\n",
       "      <th>store</th>\n",
       "      <th>user_id</th>\n",
       "      <th>messages</th>\n",
       "    </tr>\n",
       "  </thead>\n",
       "  <tbody>\n",
       "    <tr>\n",
       "      <th>3126</th>\n",
       "      <td>39083917</td>\n",
       "      <td>2021-08-03T13:57:52.466798</td>\n",
       "      <td>Aguascalientes</td>\n",
       "      <td>25</td>\n",
       "      <td>HEB</td>\n",
       "      <td>7888620</td>\n",
       "      <td>[{\"data\": \"{\\\"type\\\": \\\"EVENT\\\", \\\"content\\\": ...</td>\n",
       "    </tr>\n",
       "  </tbody>\n",
       "</table>\n",
       "</div>"
      ],
      "text/plain": [
       "      order_id                        date            city  store_id store  \\\n",
       "3126  39083917  2021-08-03T13:57:52.466798  Aguascalientes        25   HEB   \n",
       "\n",
       "      user_id                                           messages  \n",
       "3126  7888620  [{\"data\": \"{\\\"type\\\": \\\"EVENT\\\", \\\"content\\\": ...  "
      ]
     },
     "metadata": {},
     "execution_count": 3
    }
   ],
   "metadata": {}
  },
  {
   "cell_type": "markdown",
   "source": [
    "## Functions"
   ],
   "metadata": {}
  },
  {
   "cell_type": "markdown",
   "source": [
    "### Date variables"
   ],
   "metadata": {}
  },
  {
   "cell_type": "code",
   "execution_count": 4,
   "source": [
    "def date_vars(data, cols=['date']):\n",
    "    df = data.copy()\n",
    "    for col in cols:\n",
    "        df[col] = pd.to_datetime(df[col], yearfirst=True)\n",
    "        df[f'{col}_year'] = df[col].dt.year\n",
    "        df[f'{col}_month'] = df[f'{col}_year'].astype(str)+'-'+df[col].dt.month.astype(str).str.zfill(2)\n",
    "        df[f'{col}_week'] = df[f'{col}_year'].astype(str)+'-'+df[col].dt.isocalendar().week.astype(str).str.zfill(2)        \n",
    "        df[f'{col}_dayname'] = df[col].dt.day_name().str[:3]\n",
    "        df[f'{col}_hour'] = df[col].dt.hour.astype(str).str.zfill(2)\n",
    "        df[f'{col}_hour_range'] = pd.cut(df[col].dt.hour, bins=[-1,8,12,16,20,23])\n",
    "        df[f'{col}_hour_range'] = df[f'{col}_hour_range'].map(lambda x: str(x.left+1).zfill(2)+' to '+str(x.right).zfill(2))\n",
    "    return df"
   ],
   "outputs": [],
   "metadata": {}
  },
  {
   "cell_type": "markdown",
   "source": [
    "### Expand"
   ],
   "metadata": {}
  },
  {
   "cell_type": "code",
   "execution_count": 5,
   "source": [
    "import json\n",
    "\n",
    "def get_chat(x):\n",
    "    expanded_json = pd.json_normalize(json.loads(x))\n",
    "    separated_roles = expanded_json.pivot_table(columns='user.metadata.role', aggfunc={'message':'--'.join})\n",
    "    correct_dict = {}\n",
    "    for col in separated_roles.columns:\n",
    "        try: correct_dict[col] = separated_roles.to_dict()[col]['message']\n",
    "        except: pass\n",
    "    return correct_dict"
   ],
   "outputs": [],
   "metadata": {}
  },
  {
   "cell_type": "markdown",
   "source": [
    "### Clean text"
   ],
   "metadata": {}
  },
  {
   "cell_type": "code",
   "execution_count": 6,
   "source": [
    "#Uncomment the following lines if it's the first time you run this packages\n",
    "'''\n",
    "!pip install nltk\n",
    "import nltk\n",
    "nltk.download('stopwords')\n",
    "nltk.download('wordnet')\n",
    "'''\n",
    "import re\n",
    "import unicodedata\n",
    "from emoji import demojize\n",
    "from nltk.corpus import stopwords\n",
    "from nltk.stem import WordNetLemmatizer\n",
    "\n",
    "lem = WordNetLemmatizer()\n",
    "\n",
    "def clean_text(text, language='english', pattern=\"[^a-zA-Z\\s]\", add_stopw=[],\n",
    "                lower=False, lemma=False, rem_stopw=False, unique=False, emoji=False):\n",
    "    if emoji: text = demojize(text)\n",
    "    cleaned_text = unicodedata.normalize('NFD',str(text).replace('\\n',' \\n ')).encode('ascii', 'ignore')\n",
    "    cleaned_text = re.sub(pattern,' ',cleaned_text.decode('utf-8'),flags=re.UNICODE)\n",
    "    cleaned_text = [(lem.lemmatize(word,pos='v') if lemma else word) for word in \n",
    "                    (cleaned_text.lower().split() if lower else cleaned_text.split())]\n",
    "    if rem_stopw: cleaned_text = [word for word in cleaned_text if word not in \n",
    "                                  stopwords.words(language)+add_stopw]\n",
    "    return ' '.join((set(cleaned_text) if unique else cleaned_text))\n",
    "\n",
    "#Ex\n",
    "ex = \"I am going to run!!! I ran while I was running??? ...\"\n",
    "print('\\nOriginal:\\t\\t',ex)\n",
    "print('Basic cleaning:\\t\\t',clean_text(ex))\n",
    "print('Changing the pattern:\\t',clean_text(ex,pattern=\"[^a-zA-Z!\\.]\"))\n",
    "print('Without stopwords:\\t',clean_text(ex,rem_stopw=True))\n",
    "print('Lower and lemma:\\t',clean_text(ex,lower=True,lemma=True))\n",
    "print('Super cleaning:\\t\\t',clean_text(ex,add_stopw=['go'],lower=True,rem_stopw=True,lemma=True,unique=True))\n",
    "print(\"\\nIt actually corrects the weird accents, example\\n\\tFROM:\\t ThÈ ÉfrâïsMã's?...\\n\\tTO:\\t\",clean_text(\"ThÈ ÉfrâïsMa's?...\",lower=True))\n",
    "print(\"\\nAnd now, it can translate emojis!!! 😍\",clean_text('😍', emoji=True))"
   ],
   "outputs": [
    {
     "output_type": "stream",
     "name": "stdout",
     "text": [
      "\n",
      "Original:\t\t I am going to run!!! I ran while I was running??? ...\n",
      "Basic cleaning:\t\t I am going to run I ran while I was running\n",
      "Changing the pattern:\t I am going to run!!! I ran while I was running ...\n",
      "Without stopwords:\t I going run I ran I running\n",
      "Lower and lemma:\t i be go to run i run while i be run\n",
      "Super cleaning:\t\t run\n",
      "\n",
      "It actually corrects the weird accents, example\n",
      "\tFROM:\t ThÈ ÉfrâïsMã's?...\n",
      "\tTO:\t the efraisma s\n",
      "\n",
      "And now, it can translate emojis!!! 😍 smiling face with heart eyes\n"
     ]
    }
   ],
   "metadata": {}
  },
  {
   "cell_type": "markdown",
   "source": [
    "### Find words"
   ],
   "metadata": {}
  },
  {
   "cell_type": "code",
   "execution_count": 7,
   "source": [
    "def find_words(x, to_find=WORDS):\n",
    "    return re.findall('|'.join(map(lambda x: x.strip().lower(), to_find.split(','))),x)"
   ],
   "outputs": [],
   "metadata": {}
  },
  {
   "cell_type": "markdown",
   "source": [
    "### Message variables"
   ],
   "metadata": {}
  },
  {
   "cell_type": "code",
   "execution_count": 8,
   "source": [
    "import re\n",
    "\n",
    "def var_msg(data, cols=['customer', 'shopper'], **kwargs):\n",
    "    df = data.copy()\n",
    "    for col in cols:\n",
    "        df[f'n_msg_{col}'] = df[col].str.split('--').str.len()\n",
    "        df[f'n_words_{col}'] = df[col].str.replace('--',' ').str.split().str.len()\n",
    "        df[f'clean_{col}'] = df[col].map(lambda x: clean_text(str(x), **kwargs))\n",
    "        df[f'found_{col}'] = df[f'clean_{col}'].map(find_words)\n",
    "        df[f'n_found_{col}'] = df[f'found_{col}'].map(len)\n",
    "        df.fillna({x:0 for x in df.head(1).filter(like=f'_{col}')}, inplace=True)\n",
    "    df['found'] = df.filter(like='n_found_').sum(axis=1) > 0\n",
    "    return df"
   ],
   "outputs": [],
   "metadata": {}
  },
  {
   "cell_type": "markdown",
   "source": [
    "## Transform"
   ],
   "metadata": {}
  },
  {
   "cell_type": "markdown",
   "source": [
    "### Date variables"
   ],
   "metadata": {}
  },
  {
   "cell_type": "code",
   "execution_count": 9,
   "source": [
    "df = date_vars(df)\n",
    "df.sample()"
   ],
   "outputs": [
    {
     "output_type": "execute_result",
     "data": {
      "text/html": [
       "<div>\n",
       "<style scoped>\n",
       "    .dataframe tbody tr th:only-of-type {\n",
       "        vertical-align: middle;\n",
       "    }\n",
       "\n",
       "    .dataframe tbody tr th {\n",
       "        vertical-align: top;\n",
       "    }\n",
       "\n",
       "    .dataframe thead th {\n",
       "        text-align: right;\n",
       "    }\n",
       "</style>\n",
       "<table border=\"1\" class=\"dataframe\">\n",
       "  <thead>\n",
       "    <tr style=\"text-align: right;\">\n",
       "      <th></th>\n",
       "      <th>order_id</th>\n",
       "      <th>date</th>\n",
       "      <th>city</th>\n",
       "      <th>store_id</th>\n",
       "      <th>store</th>\n",
       "      <th>user_id</th>\n",
       "      <th>messages</th>\n",
       "      <th>date_year</th>\n",
       "      <th>date_month</th>\n",
       "      <th>date_week</th>\n",
       "      <th>date_dayname</th>\n",
       "      <th>date_hour</th>\n",
       "      <th>date_hour_range</th>\n",
       "    </tr>\n",
       "  </thead>\n",
       "  <tbody>\n",
       "    <tr>\n",
       "      <th>4365</th>\n",
       "      <td>39561681</td>\n",
       "      <td>2021-08-11 10:00:00</td>\n",
       "      <td>Ciudad de México</td>\n",
       "      <td>22</td>\n",
       "      <td>Chedraui</td>\n",
       "      <td>680686</td>\n",
       "      <td>[{\"data\": \"{\\\"content\\\":\\\"Buenos días Rocío: Y...</td>\n",
       "      <td>2021</td>\n",
       "      <td>2021-08</td>\n",
       "      <td>2021-32</td>\n",
       "      <td>Wed</td>\n",
       "      <td>10</td>\n",
       "      <td>09 to 12</td>\n",
       "    </tr>\n",
       "  </tbody>\n",
       "</table>\n",
       "</div>"
      ],
      "text/plain": [
       "      order_id                date              city  store_id     store  \\\n",
       "4365  39561681 2021-08-11 10:00:00  Ciudad de México        22  Chedraui   \n",
       "\n",
       "      user_id                                           messages  date_year  \\\n",
       "4365   680686  [{\"data\": \"{\\\"content\\\":\\\"Buenos días Rocío: Y...       2021   \n",
       "\n",
       "     date_month date_week date_dayname date_hour date_hour_range  \n",
       "4365    2021-08   2021-32          Wed        10        09 to 12  "
      ]
     },
     "metadata": {},
     "execution_count": 9
    }
   ],
   "metadata": {}
  },
  {
   "cell_type": "markdown",
   "source": [
    "### Expand"
   ],
   "metadata": {}
  },
  {
   "cell_type": "code",
   "execution_count": 10,
   "source": [
    "df = df.join(pd.DataFrame(df['messages'].map(get_chat).tolist(), index=df.index)).drop('messages', axis=1)\n",
    "df.sample()"
   ],
   "outputs": [
    {
     "output_type": "execute_result",
     "data": {
      "text/html": [
       "<div>\n",
       "<style scoped>\n",
       "    .dataframe tbody tr th:only-of-type {\n",
       "        vertical-align: middle;\n",
       "    }\n",
       "\n",
       "    .dataframe tbody tr th {\n",
       "        vertical-align: top;\n",
       "    }\n",
       "\n",
       "    .dataframe thead th {\n",
       "        text-align: right;\n",
       "    }\n",
       "</style>\n",
       "<table border=\"1\" class=\"dataframe\">\n",
       "  <thead>\n",
       "    <tr style=\"text-align: right;\">\n",
       "      <th></th>\n",
       "      <th>order_id</th>\n",
       "      <th>date</th>\n",
       "      <th>city</th>\n",
       "      <th>store_id</th>\n",
       "      <th>store</th>\n",
       "      <th>user_id</th>\n",
       "      <th>date_year</th>\n",
       "      <th>date_month</th>\n",
       "      <th>date_week</th>\n",
       "      <th>date_dayname</th>\n",
       "      <th>date_hour</th>\n",
       "      <th>date_hour_range</th>\n",
       "      <th>customer</th>\n",
       "      <th>shopper</th>\n",
       "    </tr>\n",
       "  </thead>\n",
       "  <tbody>\n",
       "    <tr>\n",
       "      <th>3075</th>\n",
       "      <td>39072569</td>\n",
       "      <td>2021-08-03 12:00:00</td>\n",
       "      <td>Ciudad de México</td>\n",
       "      <td>22</td>\n",
       "      <td>Chedraui</td>\n",
       "      <td>263044</td>\n",
       "      <td>2021</td>\n",
       "      <td>2021-08</td>\n",
       "      <td>2021-31</td>\n",
       "      <td>Tue</td>\n",
       "      <td>12</td>\n",
       "      <td>09 to 12</td>\n",
       "      <td>NaN</td>\n",
       "      <td>Victor Manuel is on their way with your order-...</td>\n",
       "    </tr>\n",
       "  </tbody>\n",
       "</table>\n",
       "</div>"
      ],
      "text/plain": [
       "      order_id                date              city  store_id     store  \\\n",
       "3075  39072569 2021-08-03 12:00:00  Ciudad de México        22  Chedraui   \n",
       "\n",
       "      user_id  date_year date_month date_week date_dayname date_hour  \\\n",
       "3075   263044       2021    2021-08   2021-31          Tue        12   \n",
       "\n",
       "     date_hour_range customer  \\\n",
       "3075        09 to 12      NaN   \n",
       "\n",
       "                                                shopper  \n",
       "3075  Victor Manuel is on their way with your order-...  "
      ]
     },
     "metadata": {},
     "execution_count": 10
    }
   ],
   "metadata": {}
  },
  {
   "cell_type": "markdown",
   "source": [
    "### Messages variables"
   ],
   "metadata": {}
  },
  {
   "cell_type": "code",
   "execution_count": 11,
   "source": [
    "df = var_msg(df, pattern=\"[^a-zA-Z0-9\\s\\-]\", lower=True, emoji=True)\n",
    "df.sample()"
   ],
   "outputs": [
    {
     "output_type": "execute_result",
     "data": {
      "text/html": [
       "<div>\n",
       "<style scoped>\n",
       "    .dataframe tbody tr th:only-of-type {\n",
       "        vertical-align: middle;\n",
       "    }\n",
       "\n",
       "    .dataframe tbody tr th {\n",
       "        vertical-align: top;\n",
       "    }\n",
       "\n",
       "    .dataframe thead th {\n",
       "        text-align: right;\n",
       "    }\n",
       "</style>\n",
       "<table border=\"1\" class=\"dataframe\">\n",
       "  <thead>\n",
       "    <tr style=\"text-align: right;\">\n",
       "      <th></th>\n",
       "      <th>order_id</th>\n",
       "      <th>date</th>\n",
       "      <th>city</th>\n",
       "      <th>store_id</th>\n",
       "      <th>store</th>\n",
       "      <th>user_id</th>\n",
       "      <th>date_year</th>\n",
       "      <th>date_month</th>\n",
       "      <th>date_week</th>\n",
       "      <th>date_dayname</th>\n",
       "      <th>...</th>\n",
       "      <th>n_words_customer</th>\n",
       "      <th>clean_customer</th>\n",
       "      <th>found_customer</th>\n",
       "      <th>n_found_customer</th>\n",
       "      <th>n_msg_shopper</th>\n",
       "      <th>n_words_shopper</th>\n",
       "      <th>clean_shopper</th>\n",
       "      <th>found_shopper</th>\n",
       "      <th>n_found_shopper</th>\n",
       "      <th>found</th>\n",
       "    </tr>\n",
       "  </thead>\n",
       "  <tbody>\n",
       "    <tr>\n",
       "      <th>2285</th>\n",
       "      <td>40807533</td>\n",
       "      <td>2021-08-30 16:42:49.958737</td>\n",
       "      <td>Ciudad de México</td>\n",
       "      <td>9</td>\n",
       "      <td>City Market</td>\n",
       "      <td>1764320</td>\n",
       "      <td>2021</td>\n",
       "      <td>2021-08</td>\n",
       "      <td>2021-35</td>\n",
       "      <td>Mon</td>\n",
       "      <td>...</td>\n",
       "      <td>74.0</td>\n",
       "      <td>esta despues del sams--el edificio es mirador ...</td>\n",
       "      <td>[]</td>\n",
       "      <td>0</td>\n",
       "      <td>24</td>\n",
       "      <td>277</td>\n",
       "      <td>hola ya estoy en tu domicilio--marco antonio e...</td>\n",
       "      <td>[verde]</td>\n",
       "      <td>1</td>\n",
       "      <td>True</td>\n",
       "    </tr>\n",
       "  </tbody>\n",
       "</table>\n",
       "<p>1 rows × 25 columns</p>\n",
       "</div>"
      ],
      "text/plain": [
       "      order_id                       date              city  store_id  \\\n",
       "2285  40807533 2021-08-30 16:42:49.958737  Ciudad de México         9   \n",
       "\n",
       "            store  user_id  date_year date_month date_week date_dayname  ...  \\\n",
       "2285  City Market  1764320       2021    2021-08   2021-35          Mon  ...   \n",
       "\n",
       "     n_words_customer                                     clean_customer  \\\n",
       "2285             74.0  esta despues del sams--el edificio es mirador ...   \n",
       "\n",
       "     found_customer n_found_customer  n_msg_shopper  n_words_shopper  \\\n",
       "2285             []                0             24              277   \n",
       "\n",
       "                                          clean_shopper found_shopper  \\\n",
       "2285  hola ya estoy en tu domicilio--marco antonio e...       [verde]   \n",
       "\n",
       "      n_found_shopper  found  \n",
       "2285                1   True  \n",
       "\n",
       "[1 rows x 25 columns]"
      ]
     },
     "metadata": {},
     "execution_count": 11
    }
   ],
   "metadata": {}
  },
  {
   "cell_type": "markdown",
   "source": [
    "### "
   ],
   "metadata": {}
  },
  {
   "cell_type": "markdown",
   "source": [
    "## Export"
   ],
   "metadata": {}
  },
  {
   "cell_type": "code",
   "execution_count": 12,
   "source": [
    "df.to_csv(BASE_DIR.joinpath(f'found_{FILE_BASE_NAME}.csv'), index=False, sep='\\t', encoding='utf-16')"
   ],
   "outputs": [],
   "metadata": {}
  }
 ],
 "metadata": {
  "orig_nbformat": 4,
  "language_info": {
   "name": "python",
   "version": "3.9.1",
   "mimetype": "text/x-python",
   "codemirror_mode": {
    "name": "ipython",
    "version": 3
   },
   "pygments_lexer": "ipython3",
   "nbconvert_exporter": "python",
   "file_extension": ".py"
  },
  "kernelspec": {
   "name": "python3",
   "display_name": "Python 3.9.1 64-bit ('venv': venv)"
  },
  "interpreter": {
   "hash": "43c7e786f83339f88293178a498b997755bb834764969670e358492d0c4260ad"
  }
 },
 "nbformat": 4,
 "nbformat_minor": 2
}