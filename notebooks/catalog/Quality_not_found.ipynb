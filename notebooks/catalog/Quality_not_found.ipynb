{
 "cells": [
  {
   "cell_type": "markdown",
   "source": [
    "# Aguacate quality"
   ],
   "metadata": {}
  },
  {
   "cell_type": "markdown",
   "source": [
    "## Parameters"
   ],
   "metadata": {}
  },
  {
   "cell_type": "code",
   "execution_count": 1,
   "source": [
    "from pathlib import Path\n",
    "\n",
    "BASE_DIR = Path('/Users/efraflores/Desktop/EF/Corner/Catalog/Search_without_results')\n",
    "FILE_NAME = 'aguacate.csv'"
   ],
   "outputs": [],
   "metadata": {}
  },
  {
   "cell_type": "markdown",
   "source": [
    "## Import"
   ],
   "metadata": {}
  },
  {
   "cell_type": "code",
   "execution_count": 2,
   "source": [
    "import pandas as pd\n",
    "\n",
    "df = pd.read_csv(BASE_DIR.joinpath(FILE_NAME))\n",
    "df.sample()"
   ],
   "outputs": [
    {
     "output_type": "execute_result",
     "data": {
      "text/html": [
       "<div>\n",
       "<style scoped>\n",
       "    .dataframe tbody tr th:only-of-type {\n",
       "        vertical-align: middle;\n",
       "    }\n",
       "\n",
       "    .dataframe tbody tr th {\n",
       "        vertical-align: top;\n",
       "    }\n",
       "\n",
       "    .dataframe thead th {\n",
       "        text-align: right;\n",
       "    }\n",
       "</style>\n",
       "<table border=\"1\" class=\"dataframe\">\n",
       "  <thead>\n",
       "    <tr style=\"text-align: right;\">\n",
       "      <th></th>\n",
       "      <th>order_id</th>\n",
       "      <th>date</th>\n",
       "      <th>city</th>\n",
       "      <th>store_id</th>\n",
       "      <th>store</th>\n",
       "      <th>user_id</th>\n",
       "      <th>messages</th>\n",
       "    </tr>\n",
       "  </thead>\n",
       "  <tbody>\n",
       "    <tr>\n",
       "      <th>2571</th>\n",
       "      <td>38402011</td>\n",
       "      <td>2021-07-23</td>\n",
       "      <td>Monterrey</td>\n",
       "      <td>25</td>\n",
       "      <td>HEB</td>\n",
       "      <td>18131033</td>\n",
       "      <td>[{\"data\": \"{\\\"type\\\": \\\"EVENT\\\", \\\"content\\\": ...</td>\n",
       "    </tr>\n",
       "  </tbody>\n",
       "</table>\n",
       "</div>"
      ],
      "text/plain": [
       "      order_id        date       city  store_id store   user_id  \\\n",
       "2571  38402011  2021-07-23  Monterrey        25   HEB  18131033   \n",
       "\n",
       "                                               messages  \n",
       "2571  [{\"data\": \"{\\\"type\\\": \\\"EVENT\\\", \\\"content\\\": ...  "
      ]
     },
     "metadata": {},
     "execution_count": 2
    }
   ],
   "metadata": {}
  },
  {
   "cell_type": "markdown",
   "source": [
    "## Expand"
   ],
   "metadata": {}
  },
  {
   "cell_type": "code",
   "execution_count": 40,
   "source": [
    "import json\n",
    "\n",
    "def get_chat(x):\n",
    "    expanded_json = pd.json_normalize(json.loads(x))\n",
    "    separated_roles = expanded_json.pivot_table(columns='user.metadata.role', aggfunc={'message':', '.join})\n",
    "    correct_dict = {}\n",
    "    for col in separated_roles.columns:\n",
    "        try: correct_dict[col] = separated_roles.to_dict()[col]['message']\n",
    "        except: pass\n",
    "    return correct_dict\n",
    "\n",
    "df['messages'].head(1).map(get_chat)[0]"
   ],
   "outputs": [
    {
     "output_type": "execute_result",
     "data": {
      "text/plain": [
       "{'customer': 'No, muchas gracias, Listo',\n",
       " 'shopper': 'Ana Gloria está en camino con tu pedido, Gústa agregar algo mas?, Buenas dias muchas gracias, Sara ha elegido sus reemplazos, Tus alternativas han sido enviadas, Hola Sara, por favor selecciona las alternativas para los productos que están sin stock en Chedraui., Ana Gloria comenzó a trabajar en tu pedido'}"
      ]
     },
     "metadata": {},
     "execution_count": 40
    }
   ],
   "metadata": {}
  }
 ],
 "metadata": {
  "orig_nbformat": 4,
  "language_info": {
   "name": "python",
   "version": "3.9.1",
   "mimetype": "text/x-python",
   "codemirror_mode": {
    "name": "ipython",
    "version": 3
   },
   "pygments_lexer": "ipython3",
   "nbconvert_exporter": "python",
   "file_extension": ".py"
  },
  "kernelspec": {
   "name": "python3",
   "display_name": "Python 3.9.1 64-bit ('venv': venv)"
  },
  "interpreter": {
   "hash": "43c7e786f83339f88293178a498b997755bb834764969670e358492d0c4260ad"
  }
 },
 "nbformat": 4,
 "nbformat_minor": 2
}