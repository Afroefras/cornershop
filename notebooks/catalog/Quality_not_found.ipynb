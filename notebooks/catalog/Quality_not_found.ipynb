{
 "cells": [
  {
   "cell_type": "markdown",
   "source": [
    "# Aguacate quality"
   ],
   "metadata": {}
  },
  {
   "cell_type": "markdown",
   "source": [
    "## Parameters"
   ],
   "metadata": {}
  },
  {
   "cell_type": "code",
   "execution_count": 1,
   "source": [
    "BASE_DIR = '/Users/efraflores/Desktop/EF/Corner/Catalog/Search_without_results'\n",
    "FILE_BASE_NAME = 'aguacate'\n",
    "WORDS = 'maduro,verde,echado,perder,feo,crudo'"
   ],
   "outputs": [],
   "metadata": {}
  },
  {
   "cell_type": "markdown",
   "source": [
    "## Import"
   ],
   "metadata": {}
  },
  {
   "cell_type": "code",
   "execution_count": 2,
   "source": [
    "from pathlib import Path\n",
    "\n",
    "BASE_DIR = Path(BASE_DIR)\n",
    "FILE_LIST = [x for x in BASE_DIR.glob('*') if ''.join(str(x).split('/')[-1].split('_')[:-1])==FILE_BASE_NAME]\n",
    "print(FILE_LIST)"
   ],
   "outputs": [
    {
     "output_type": "stream",
     "name": "stdout",
     "text": [
      "[PosixPath('/Users/efraflores/Desktop/EF/Corner/Catalog/Search_without_results/aguacate_210802.csv'), PosixPath('/Users/efraflores/Desktop/EF/Corner/Catalog/Search_without_results/aguacate_210801.csv')]\n"
     ]
    }
   ],
   "metadata": {}
  },
  {
   "cell_type": "code",
   "execution_count": 3,
   "source": [
    "import pandas as pd\n",
    "\n",
    "df = pd.DataFrame()\n",
    "for file_chunk in FILE_LIST:\n",
    "    df = df.append(pd.read_csv(file_chunk), ignore_index=True)\n",
    "df.sample()"
   ],
   "outputs": [
    {
     "output_type": "execute_result",
     "data": {
      "text/html": [
       "<div>\n",
       "<style scoped>\n",
       "    .dataframe tbody tr th:only-of-type {\n",
       "        vertical-align: middle;\n",
       "    }\n",
       "\n",
       "    .dataframe tbody tr th {\n",
       "        vertical-align: top;\n",
       "    }\n",
       "\n",
       "    .dataframe thead th {\n",
       "        text-align: right;\n",
       "    }\n",
       "</style>\n",
       "<table border=\"1\" class=\"dataframe\">\n",
       "  <thead>\n",
       "    <tr style=\"text-align: right;\">\n",
       "      <th></th>\n",
       "      <th>order_id</th>\n",
       "      <th>date</th>\n",
       "      <th>city</th>\n",
       "      <th>store_id</th>\n",
       "      <th>store</th>\n",
       "      <th>user_id</th>\n",
       "      <th>messages</th>\n",
       "    </tr>\n",
       "  </thead>\n",
       "  <tbody>\n",
       "    <tr>\n",
       "      <th>4078</th>\n",
       "      <td>39489290</td>\n",
       "      <td>2021-08-09T21:00:00</td>\n",
       "      <td>Ciudad de México</td>\n",
       "      <td>22</td>\n",
       "      <td>Chedraui</td>\n",
       "      <td>2175057</td>\n",
       "      <td>[{\"data\": \"{\\\"type\\\": \\\"EVENT\\\", \\\"content\\\": ...</td>\n",
       "    </tr>\n",
       "  </tbody>\n",
       "</table>\n",
       "</div>"
      ],
      "text/plain": [
       "      order_id                 date              city  store_id     store  \\\n",
       "4078  39489290  2021-08-09T21:00:00  Ciudad de México        22  Chedraui   \n",
       "\n",
       "      user_id                                           messages  \n",
       "4078  2175057  [{\"data\": \"{\\\"type\\\": \\\"EVENT\\\", \\\"content\\\": ...  "
      ]
     },
     "metadata": {},
     "execution_count": 3
    }
   ],
   "metadata": {}
  },
  {
   "cell_type": "markdown",
   "source": [
    "## Functions"
   ],
   "metadata": {}
  },
  {
   "cell_type": "markdown",
   "source": [
    "### Date variables"
   ],
   "metadata": {}
  },
  {
   "cell_type": "code",
   "execution_count": 4,
   "source": [
    "def date_vars(data, cols=['date']):\n",
    "    df = data.copy()\n",
    "    for col in cols:\n",
    "        df[col] = pd.to_datetime(df[col], yearfirst=True)\n",
    "        df[f'{col}_year'] = df[col].dt.year\n",
    "        df[f'{col}_month'] = df[f'{col}_year'].astype(str)+'-'+df[col].dt.month.astype(str).str.zfill(2)\n",
    "        df[f'{col}_week'] = df[f'{col}_year'].astype(str)+'-'+df[col].dt.isocalendar().week.astype(str).str.zfill(2)        \n",
    "        df[f'{col}_dayname'] = df[col].dt.day_name().str[:3]\n",
    "        df[f'{col}_hour'] = df[col].dt.hour.astype(str).str.zfill(2)\n",
    "        df[f'{col}_hour_range'] = pd.cut(df[col].dt.hour, bins=[-1,8,12,16,20,23])\n",
    "        df[f'{col}_hour_range'] = df[f'{col}_hour_range'].map(lambda x: str(x.left+1).zfill(2)+' to '+str(x.right).zfill(2))\n",
    "    return df"
   ],
   "outputs": [],
   "metadata": {}
  },
  {
   "cell_type": "markdown",
   "source": [
    "### Expand"
   ],
   "metadata": {}
  },
  {
   "cell_type": "code",
   "execution_count": 5,
   "source": [
    "import json\n",
    "\n",
    "def get_chat(x):\n",
    "    expanded_json = pd.json_normalize(json.loads(x))\n",
    "    separated_roles = expanded_json.pivot_table(columns='user.metadata.role', aggfunc={'message':'--'.join})\n",
    "    correct_dict = {}\n",
    "    for col in separated_roles.columns:\n",
    "        try: correct_dict[col] = separated_roles.to_dict()[col]['message']\n",
    "        except: pass\n",
    "    return correct_dict"
   ],
   "outputs": [],
   "metadata": {}
  },
  {
   "cell_type": "markdown",
   "source": [
    "### Clean text"
   ],
   "metadata": {}
  },
  {
   "cell_type": "code",
   "execution_count": 6,
   "source": [
    "#Uncomment the following lines if it's the first time you run this packages\n",
    "'''\n",
    "!pip install nltk\n",
    "import nltk\n",
    "nltk.download('stopwords')\n",
    "nltk.download('wordnet')\n",
    "'''\n",
    "import re\n",
    "import unicodedata\n",
    "from emoji import demojize\n",
    "from nltk.corpus import stopwords\n",
    "from nltk.stem import WordNetLemmatizer\n",
    "\n",
    "lem = WordNetLemmatizer()\n",
    "\n",
    "def clean_text(text, language='english', pattern=\"[^a-zA-Z\\s]\", add_stopw=[],\n",
    "                lower=False, lemma=False, rem_stopw=False, unique=False, emoji=False):\n",
    "    if emoji: text = demojize(text)\n",
    "    cleaned_text = unicodedata.normalize('NFD',str(text).replace('\\n',' \\n ')).encode('ascii', 'ignore')\n",
    "    cleaned_text = re.sub(pattern,' ',cleaned_text.decode('utf-8'),flags=re.UNICODE)\n",
    "    cleaned_text = [(lem.lemmatize(word,pos='v') if lemma else word) for word in \n",
    "                    (cleaned_text.lower().split() if lower else cleaned_text.split())]\n",
    "    if rem_stopw: cleaned_text = [word for word in cleaned_text if word not in \n",
    "                                  stopwords.words(language)+add_stopw]\n",
    "    return ' '.join((set(cleaned_text) if unique else cleaned_text))\n",
    "\n",
    "#Ex\n",
    "ex = \"I am going to run!!! I ran while I was running??? ...\"\n",
    "print('\\nOriginal:\\t\\t',ex)\n",
    "print('Basic cleaning:\\t\\t',clean_text(ex))\n",
    "print('Changing the pattern:\\t',clean_text(ex,pattern=\"[^a-zA-Z!\\.]\"))\n",
    "print('Without stopwords:\\t',clean_text(ex,rem_stopw=True))\n",
    "print('Lower and lemma:\\t',clean_text(ex,lower=True,lemma=True))\n",
    "print('Super cleaning:\\t\\t',clean_text(ex,add_stopw=['go'],lower=True,rem_stopw=True,lemma=True,unique=True))\n",
    "print(\"\\nIt actually corrects the weird accents, example\\n\\tFROM:\\t ThÈ ÉfrâïsMã's?...\\n\\tTO:\\t\",clean_text(\"ThÈ ÉfrâïsMa's?...\",lower=True))\n",
    "print(\"\\nAnd now, it can translate emojis!!! 😍\",clean_text('😍', emoji=True))"
   ],
   "outputs": [
    {
     "output_type": "stream",
     "name": "stdout",
     "text": [
      "\n",
      "Original:\t\t I am going to run!!! I ran while I was running??? ...\n",
      "Basic cleaning:\t\t I am going to run I ran while I was running\n",
      "Changing the pattern:\t I am going to run!!! I ran while I was running ...\n",
      "Without stopwords:\t I going run I ran I running\n",
      "Lower and lemma:\t i be go to run i run while i be run\n",
      "Super cleaning:\t\t run\n",
      "\n",
      "It actually corrects the weird accents, example\n",
      "\tFROM:\t ThÈ ÉfrâïsMã's?...\n",
      "\tTO:\t the efraisma s\n",
      "\n",
      "And now, it can translate emojis!!! 😍 smiling face with heart eyes\n"
     ]
    }
   ],
   "metadata": {}
  },
  {
   "cell_type": "markdown",
   "source": [
    "### Find words"
   ],
   "metadata": {}
  },
  {
   "cell_type": "code",
   "execution_count": 7,
   "source": [
    "def find_words(x, to_find=WORDS):\n",
    "    return re.findall('|'.join(map(lambda x: x.strip().lower(), to_find.split(','))),x)"
   ],
   "outputs": [],
   "metadata": {}
  },
  {
   "cell_type": "markdown",
   "source": [
    "### Message variables"
   ],
   "metadata": {}
  },
  {
   "cell_type": "code",
   "execution_count": 8,
   "source": [
    "import re\n",
    "\n",
    "def var_msg(data, cols=['customer','shopper'], **kwargs):\n",
    "    df = data.copy()\n",
    "    for col in cols:\n",
    "        df[f'n_msg_{col}'] = df[col].str.split('--').str.len()\n",
    "        df[f'n_words_{col}'] = df[col].str.replace('--',' ').str.split().str.len()\n",
    "        df[f'clean_{col}'] = df[col].map(lambda x: clean_text(str(x), **kwargs))\n",
    "        df[f'found_{col}'] = df[f'clean_{col}'].map(find_words)\n",
    "        df[f'n_found_{col}'] = df[f'found_{col}'].map(len)\n",
    "        df.fillna({x:0 for x in df.head(1).filter(like=f'_{col}')}, inplace=True)\n",
    "    df['found_pattern'] = df.filter(like='n_found_').sum(axis=1) > 0\n",
    "    return df"
   ],
   "outputs": [],
   "metadata": {}
  },
  {
   "cell_type": "markdown",
   "source": [
    "## Transform"
   ],
   "metadata": {}
  },
  {
   "cell_type": "markdown",
   "source": [
    "### Date variables"
   ],
   "metadata": {}
  },
  {
   "cell_type": "code",
   "execution_count": 9,
   "source": [
    "df = date_vars(df)\n",
    "df.sample()"
   ],
   "outputs": [
    {
     "output_type": "execute_result",
     "data": {
      "text/html": [
       "<div>\n",
       "<style scoped>\n",
       "    .dataframe tbody tr th:only-of-type {\n",
       "        vertical-align: middle;\n",
       "    }\n",
       "\n",
       "    .dataframe tbody tr th {\n",
       "        vertical-align: top;\n",
       "    }\n",
       "\n",
       "    .dataframe thead th {\n",
       "        text-align: right;\n",
       "    }\n",
       "</style>\n",
       "<table border=\"1\" class=\"dataframe\">\n",
       "  <thead>\n",
       "    <tr style=\"text-align: right;\">\n",
       "      <th></th>\n",
       "      <th>order_id</th>\n",
       "      <th>date</th>\n",
       "      <th>city</th>\n",
       "      <th>store_id</th>\n",
       "      <th>store</th>\n",
       "      <th>user_id</th>\n",
       "      <th>messages</th>\n",
       "      <th>date_year</th>\n",
       "      <th>date_month</th>\n",
       "      <th>date_week</th>\n",
       "      <th>date_dayname</th>\n",
       "      <th>date_hour</th>\n",
       "      <th>date_hour_range</th>\n",
       "    </tr>\n",
       "  </thead>\n",
       "  <tbody>\n",
       "    <tr>\n",
       "      <th>4313</th>\n",
       "      <td>39550572</td>\n",
       "      <td>2021-08-10 21:00:00</td>\n",
       "      <td>Monterrey</td>\n",
       "      <td>3729</td>\n",
       "      <td>Soriana</td>\n",
       "      <td>1954253</td>\n",
       "      <td>[{\"data\": \"{\\\"type\\\": \\\"EVENT\\\", \\\"content\\\": ...</td>\n",
       "      <td>2021</td>\n",
       "      <td>2021-08</td>\n",
       "      <td>2021-32</td>\n",
       "      <td>Tue</td>\n",
       "      <td>21</td>\n",
       "      <td>21 to 23</td>\n",
       "    </tr>\n",
       "  </tbody>\n",
       "</table>\n",
       "</div>"
      ],
      "text/plain": [
       "      order_id                date       city  store_id    store  user_id  \\\n",
       "4313  39550572 2021-08-10 21:00:00  Monterrey      3729  Soriana  1954253   \n",
       "\n",
       "                                               messages  date_year date_month  \\\n",
       "4313  [{\"data\": \"{\\\"type\\\": \\\"EVENT\\\", \\\"content\\\": ...       2021    2021-08   \n",
       "\n",
       "     date_week date_dayname date_hour date_hour_range  \n",
       "4313   2021-32          Tue        21        21 to 23  "
      ]
     },
     "metadata": {},
     "execution_count": 9
    }
   ],
   "metadata": {}
  },
  {
   "cell_type": "markdown",
   "source": [
    "### Expand"
   ],
   "metadata": {}
  },
  {
   "cell_type": "code",
   "execution_count": 10,
   "source": [
    "df = df.join(pd.DataFrame(df['messages'].map(get_chat).tolist(), index=df.index)).drop('messages', axis=1)\n",
    "print(len(df))\n",
    "df.sample()"
   ],
   "outputs": [
    {
     "output_type": "stream",
     "name": "stdout",
     "text": [
      "5252\n"
     ]
    },
    {
     "output_type": "execute_result",
     "data": {
      "text/html": [
       "<div>\n",
       "<style scoped>\n",
       "    .dataframe tbody tr th:only-of-type {\n",
       "        vertical-align: middle;\n",
       "    }\n",
       "\n",
       "    .dataframe tbody tr th {\n",
       "        vertical-align: top;\n",
       "    }\n",
       "\n",
       "    .dataframe thead th {\n",
       "        text-align: right;\n",
       "    }\n",
       "</style>\n",
       "<table border=\"1\" class=\"dataframe\">\n",
       "  <thead>\n",
       "    <tr style=\"text-align: right;\">\n",
       "      <th></th>\n",
       "      <th>order_id</th>\n",
       "      <th>date</th>\n",
       "      <th>city</th>\n",
       "      <th>store_id</th>\n",
       "      <th>store</th>\n",
       "      <th>user_id</th>\n",
       "      <th>date_year</th>\n",
       "      <th>date_month</th>\n",
       "      <th>date_week</th>\n",
       "      <th>date_dayname</th>\n",
       "      <th>date_hour</th>\n",
       "      <th>date_hour_range</th>\n",
       "      <th>customer</th>\n",
       "      <th>shopper</th>\n",
       "    </tr>\n",
       "  </thead>\n",
       "  <tbody>\n",
       "    <tr>\n",
       "      <th>4697</th>\n",
       "      <td>39657895</td>\n",
       "      <td>2021-08-12 16:00:00</td>\n",
       "      <td>Ciudad de México</td>\n",
       "      <td>22</td>\n",
       "      <td>Chedraui</td>\n",
       "      <td>2837475</td>\n",
       "      <td>2021</td>\n",
       "      <td>2021-08</td>\n",
       "      <td>2021-32</td>\n",
       "      <td>Thu</td>\n",
       "      <td>16</td>\n",
       "      <td>13 to 16</td>\n",
       "      <td>Ya bajan--Hola--No nada. Extra. Gracias--Era l...</td>\n",
       "      <td>Vienen tres cervezas de regalo--Listo ya lo en...</td>\n",
       "    </tr>\n",
       "  </tbody>\n",
       "</table>\n",
       "</div>"
      ],
      "text/plain": [
       "      order_id                date              city  store_id     store  \\\n",
       "4697  39657895 2021-08-12 16:00:00  Ciudad de México        22  Chedraui   \n",
       "\n",
       "      user_id  date_year date_month date_week date_dayname date_hour  \\\n",
       "4697  2837475       2021    2021-08   2021-32          Thu        16   \n",
       "\n",
       "     date_hour_range                                           customer  \\\n",
       "4697        13 to 16  Ya bajan--Hola--No nada. Extra. Gracias--Era l...   \n",
       "\n",
       "                                                shopper  \n",
       "4697  Vienen tres cervezas de regalo--Listo ya lo en...  "
      ]
     },
     "metadata": {},
     "execution_count": 10
    }
   ],
   "metadata": {}
  },
  {
   "cell_type": "markdown",
   "source": [
    "### Melt"
   ],
   "metadata": {}
  },
  {
   "cell_type": "code",
   "execution_count": 11,
   "source": [
    "# df = df.melt(id_vars=df.columns[:-2], var_name='user_role', value_name='message', ignore_index=False).sort_index()\n",
    "# print(len(df))\n",
    "# df.sample()"
   ],
   "outputs": [],
   "metadata": {}
  },
  {
   "cell_type": "markdown",
   "source": [
    "### Messages variables"
   ],
   "metadata": {}
  },
  {
   "cell_type": "code",
   "execution_count": 12,
   "source": [
    "df = var_msg(df, pattern=\"[^a-zA-Z0-9\\s\\-]\", lower=True, emoji=True)\n",
    "df.sample()"
   ],
   "outputs": [
    {
     "output_type": "execute_result",
     "data": {
      "text/html": [
       "<div>\n",
       "<style scoped>\n",
       "    .dataframe tbody tr th:only-of-type {\n",
       "        vertical-align: middle;\n",
       "    }\n",
       "\n",
       "    .dataframe tbody tr th {\n",
       "        vertical-align: top;\n",
       "    }\n",
       "\n",
       "    .dataframe thead th {\n",
       "        text-align: right;\n",
       "    }\n",
       "</style>\n",
       "<table border=\"1\" class=\"dataframe\">\n",
       "  <thead>\n",
       "    <tr style=\"text-align: right;\">\n",
       "      <th></th>\n",
       "      <th>order_id</th>\n",
       "      <th>date</th>\n",
       "      <th>city</th>\n",
       "      <th>store_id</th>\n",
       "      <th>store</th>\n",
       "      <th>user_id</th>\n",
       "      <th>date_year</th>\n",
       "      <th>date_month</th>\n",
       "      <th>date_week</th>\n",
       "      <th>date_dayname</th>\n",
       "      <th>...</th>\n",
       "      <th>n_words_customer</th>\n",
       "      <th>clean_customer</th>\n",
       "      <th>found_customer</th>\n",
       "      <th>n_found_customer</th>\n",
       "      <th>n_msg_shopper</th>\n",
       "      <th>n_words_shopper</th>\n",
       "      <th>clean_shopper</th>\n",
       "      <th>found_shopper</th>\n",
       "      <th>n_found_shopper</th>\n",
       "      <th>found_pattern</th>\n",
       "    </tr>\n",
       "  </thead>\n",
       "  <tbody>\n",
       "    <tr>\n",
       "      <th>2473</th>\n",
       "      <td>40873703</td>\n",
       "      <td>2021-08-31 17:16:01.648481</td>\n",
       "      <td>Cancún</td>\n",
       "      <td>22</td>\n",
       "      <td>Chedraui</td>\n",
       "      <td>18611905</td>\n",
       "      <td>2021</td>\n",
       "      <td>2021-08</td>\n",
       "      <td>2021-35</td>\n",
       "      <td>Tue</td>\n",
       "      <td>...</td>\n",
       "      <td>5.0</td>\n",
       "      <td>no entonces no gracias</td>\n",
       "      <td>[]</td>\n",
       "      <td>0</td>\n",
       "      <td>7</td>\n",
       "      <td>68</td>\n",
       "      <td>genoveva de los angeles esta en camino con tu ...</td>\n",
       "      <td>[verde]</td>\n",
       "      <td>1</td>\n",
       "      <td>True</td>\n",
       "    </tr>\n",
       "  </tbody>\n",
       "</table>\n",
       "<p>1 rows × 25 columns</p>\n",
       "</div>"
      ],
      "text/plain": [
       "      order_id                       date    city  store_id     store  \\\n",
       "2473  40873703 2021-08-31 17:16:01.648481  Cancún        22  Chedraui   \n",
       "\n",
       "       user_id  date_year date_month date_week date_dayname  ...  \\\n",
       "2473  18611905       2021    2021-08   2021-35          Tue  ...   \n",
       "\n",
       "     n_words_customer          clean_customer found_customer n_found_customer  \\\n",
       "2473              5.0  no entonces no gracias             []                0   \n",
       "\n",
       "      n_msg_shopper  n_words_shopper  \\\n",
       "2473              7               68   \n",
       "\n",
       "                                          clean_shopper found_shopper  \\\n",
       "2473  genoveva de los angeles esta en camino con tu ...       [verde]   \n",
       "\n",
       "      n_found_shopper  found_pattern  \n",
       "2473                1           True  \n",
       "\n",
       "[1 rows x 25 columns]"
      ]
     },
     "metadata": {},
     "execution_count": 12
    }
   ],
   "metadata": {}
  },
  {
   "cell_type": "markdown",
   "source": [
    "### "
   ],
   "metadata": {}
  },
  {
   "cell_type": "markdown",
   "source": [
    "## Export"
   ],
   "metadata": {}
  },
  {
   "cell_type": "code",
   "execution_count": 13,
   "source": [
    "df.to_csv(BASE_DIR.joinpath(f'found_{FILE_BASE_NAME}.csv'), index=False, sep='\\t', encoding='utf-16')"
   ],
   "outputs": [],
   "metadata": {}
  }
 ],
 "metadata": {
  "orig_nbformat": 4,
  "language_info": {
   "name": "python",
   "version": "3.9.1",
   "mimetype": "text/x-python",
   "codemirror_mode": {
    "name": "ipython",
    "version": 3
   },
   "pygments_lexer": "ipython3",
   "nbconvert_exporter": "python",
   "file_extension": ".py"
  },
  "kernelspec": {
   "name": "python3",
   "display_name": "Python 3.9.1 64-bit ('venv': venv)"
  },
  "interpreter": {
   "hash": "43c7e786f83339f88293178a498b997755bb834764969670e358492d0c4260ad"
  }
 },
 "nbformat": 4,
 "nbformat_minor": 2
}