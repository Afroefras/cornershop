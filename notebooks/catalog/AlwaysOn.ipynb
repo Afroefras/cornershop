{
 "cells": [
  {
   "cell_type": "markdown",
   "metadata": {},
   "source": [
    "# Always On"
   ]
  },
  {
   "cell_type": "markdown",
   "metadata": {},
   "source": [
    "## Parámetros"
   ]
  },
  {
   "cell_type": "code",
   "execution_count": 1,
   "metadata": {},
   "outputs": [],
   "source": [
    "BASE_DIR = '/Users/efraflores/Desktop/EF/Corner/AlwaysOn/data'\n",
    "FILE_NAME = 'op.csv'"
   ]
  },
  {
   "cell_type": "markdown",
   "metadata": {},
   "source": [
    "## Código"
   ]
  },
  {
   "cell_type": "code",
   "execution_count": 2,
   "metadata": {},
   "outputs": [
    {
     "name": "stdout",
     "output_type": "stream",
     "text": [
      "\n",
      "Distribución de productos por rango de FoundRate:\n",
      "\n",
      " 00 - 70     0.156291\n",
      "71 - 80     0.035099\n",
      "81 - 90     0.058278\n",
      "91 - 95     0.064901\n",
      "96 - 100    0.685430\n",
      "Name: fr_range, dtype: float64\n"
     ]
    }
   ],
   "source": [
    "from pathlib import Path\n",
    "from pandas import DataFrame, read_csv, cut\n",
    "\n",
    "class AlwaysOn:\n",
    "    def __init__(self, base_dir, file_name) -> None:\n",
    "        self.base_dir = Path(base_dir)\n",
    "        self.file_name = file_name\n",
    "        self.file_path = self.base_dir.joinpath(self.file_name)\n",
    "        if not self.file_path.is_file():\n",
    "            print(f'Debería existir un archivo llamado {self.file_name} en el directorio:\\n{self.base_dir}\\n\\nAgrega el archivo e intenta de nuevo!')\n",
    "    \n",
    "    def get_file(self) -> None:\n",
    "        try: self.df = read_csv(self.file_path)\n",
    "        except: print(f'No se pudo importar el archivo {self.file_name} desde el directorio:\\n{self.base_dir}')\n",
    "    \n",
    "    def top_n(self,  group_col: str, count_col: list, n: int) -> DataFrame:\n",
    "        top = self.df.reset_index().pivot_table(index=[group_col,count_col], values='index', aggfunc='count').reset_index()\n",
    "        top[f'rank_{count_col}'] = top.groupby(group_col)['index'].rank(method=\"first\", ascending=False).to_frame()\n",
    "        top = top[top[f'rank_{count_col}']<=n].sort_values([group_col,f'rank_{count_col}']).drop('index', axis=1)\n",
    "        return top\n",
    "\n",
    "    def full_pipeline(self, n_category: int, n_product: int, export_result: bool=False, product_col: str='product', qty_col: str='quantity', qty_found_col: str='quantity_found', store_category_col: str='store_category', product_category_col='product_category', cols: list=['store_category','product_id','product','product_category','rank_product_category','rank_first_word']) -> DataFrame:\n",
    "        self.get_file()\n",
    "        top_categories = self.top_n(group_col=store_category_col, count_col=product_category_col, n=n_category)\n",
    "\n",
    "        self.df['first_word'] = self.df[product_col].map(lambda x: str(x).split()[0])\n",
    "        top_products = self.top_n(group_col=store_category_col, count_col='first_word', n=n_product)\n",
    "\n",
    "        self.df = self.df.merge(top_categories).merge(top_products)\n",
    "        self.df = self.df.pivot_table(index=cols, values=[qty_col, qty_found_col], aggfunc=sum).reset_index()\n",
    "        \n",
    "        self.df['fr'] = (self.df[qty_found_col]/(self.df[qty_col]+1e-10)).map(lambda x: 1 if x > 1 else x)\n",
    "        self.df['fr_range'] = cut(self.df['fr'], bins=[-.01,0.7,0.8,0.9,0.95,1])\n",
    "        self.df['fr_range'] = self.df['fr_range'].map(lambda x: str(int((x.left+.01)*100)).zfill(2)+' - '+str(int(x.right*100)).zfill(2))\n",
    "        print('\\nDistribución de productos por rango de FoundRate:\\n\\n', self.df['fr_range'].value_counts(1, dropna=False).sort_index())\n",
    "\n",
    "        self.df.sort_values([store_category_col, qty_col], ascending=[True, False], inplace=True)\n",
    "\n",
    "        if export_result: self.df.to_csv(self.base_dir.joinpath('always_on_products.csv'), index=False, sep='\\t', encoding='utf-16')\n",
    "        return self.df\n",
    "\n",
    "ao = AlwaysOn(BASE_DIR, FILE_NAME)\n",
    "df = ao.full_pipeline(n_category=5, n_product=5, export_result=True)"
   ]
  }
 ],
 "metadata": {
  "interpreter": {
   "hash": "cd073f3038b8337706d4c7d775204fb19bddc277721f52eb60f8c4b0892f2184"
  },
  "kernelspec": {
   "display_name": "Python 3.9.1 64-bit ('venv': venv)",
   "language": "python",
   "name": "python3"
  },
  "language_info": {
   "codemirror_mode": {
    "name": "ipython",
    "version": 3
   },
   "file_extension": ".py",
   "mimetype": "text/x-python",
   "name": "python",
   "nbconvert_exporter": "python",
   "pygments_lexer": "ipython3",
   "version": "3.9.1"
  },
  "orig_nbformat": 4
 },
 "nbformat": 4,
 "nbformat_minor": 2
}
