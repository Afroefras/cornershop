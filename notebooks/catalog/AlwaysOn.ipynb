{
 "cells": [
  {
   "cell_type": "markdown",
   "metadata": {},
   "source": [
    "# Always On"
   ]
  },
  {
   "cell_type": "markdown",
   "metadata": {},
   "source": [
    "## Parámetros"
   ]
  },
  {
   "cell_type": "code",
   "execution_count": 3,
   "metadata": {},
   "outputs": [],
   "source": [
    "BASE_DIR = '/Users/efraflores/Desktop/EF/Corner/AlwaysOn/data'\n",
    "FILE_NAME = 'op.csv'"
   ]
  },
  {
   "cell_type": "markdown",
   "metadata": {},
   "source": [
    "## Código"
   ]
  },
  {
   "cell_type": "code",
   "execution_count": 4,
   "metadata": {},
   "outputs": [
    {
     "name": "stdout",
     "output_type": "stream",
     "text": [
      "\n",
      "Distribución de productos por rango de FoundRate:\n",
      "\n",
      " 00 - 70     0.186949\n",
      "71 - 80     0.044092\n",
      "81 - 90     0.053131\n",
      "91 - 95     0.034392\n",
      "96 - 100    0.681437\n",
      "Name: fr_range, dtype: float64\n"
     ]
    }
   ],
   "source": [
    "from pathlib import Path\n",
    "from pandas import DataFrame, read_csv, cut\n",
    "\n",
    "class AlwaysOn:\n",
    "    def __init__(self, base_dir, file_name) -> None:\n",
    "        self.base_dir = Path(base_dir)\n",
    "        self.file_name = file_name\n",
    "        self.file_path = self.base_dir.joinpath(self.file_name)\n",
    "        if not self.file_path.is_file():\n",
    "            print(f'Debería existir un archivo llamado {self.file_name} en el directorio:\\n{self.base_dir}\\n\\nAgrega el archivo e intenta de nuevo!')\n",
    "    \n",
    "    def get_file(self) -> None:\n",
    "        try: self.df = read_csv(self.file_path)\n",
    "        except: print(f'No se pudo importar el archivo {self.file_name} desde el directorio:\\n{self.base_dir}')\n",
    "    \n",
    "    def top_n(self,  group_col: str, count_col: list, n: int) -> DataFrame:\n",
    "        top = self.df.reset_index().pivot_table(index=[group_col,count_col], values='index', aggfunc='count').reset_index()\n",
    "        top[f'rank_{count_col}'] = top.groupby(group_col)['index'].rank(method=\"first\", ascending=False).to_frame()\n",
    "        top = top[top[f'rank_{count_col}']<=n].sort_values([group_col,f'rank_{count_col}']).drop('index', axis=1)\n",
    "        return top\n",
    "\n",
    "    def full_pipeline(self, n_category: int, fr_threshold: float=0.8, cumsum_threshold: float=0.9, qty_threshold: float=3, export_result: bool=False, product_col: str='product', qty_col: str='quantity', qty_found_col: str='quantity_found', store_category_col: str='store_category', product_category_col='product_category', cols: list=['store_category','product_id','product','product_category','rank_product_category']) -> DataFrame:\n",
    "        self.get_file()\n",
    "        top_categories = self.top_n(group_col=store_category_col, count_col=product_category_col, n=n_category)\n",
    "        df = self.df.merge(top_categories).pivot_table(index=cols, values=[qty_col, qty_found_col], aggfunc=sum).reset_index()\n",
    "        \n",
    "        df['fr'] = (df[qty_found_col]/(df[qty_col]+1e-10)).map(lambda x: 1 if x > 1 else x)\n",
    "        df['fr_range'] = cut(df['fr'], bins=[-.01,0.7,0.8,0.9,0.95,1])\n",
    "        df['fr_range'] = df['fr_range'].map(lambda x: str(int((x.left+.01)*100)).zfill(2)+' - '+str(int(x.right*100)).zfill(2))\n",
    "        df = df[df['fr']>=fr_threshold].copy()\n",
    "\n",
    "        df.sort_values([store_category_col, product_category_col, qty_col], ascending=[True, True, False], inplace=True)\n",
    "        df['cumsum']=df[qty_col]/df.groupby([store_category_col, product_category_col])[qty_col].transform('sum')\n",
    "        df['cumsum'] = df.groupby([store_category_col,product_category_col])['cumsum'].cumsum()\n",
    "        df = df[df['cumsum']<=cumsum_threshold].copy()\n",
    "\n",
    "        df = df[df[qty_col]>=qty_threshold].copy()\n",
    "\n",
    "        if export_result: df.to_csv(self.base_dir.joinpath('always_on_products.csv'), index=False, sep='\\t', encoding='utf-16')\n",
    "        self.df = df.copy()\n",
    "        return self.df\n",
    "\n",
    "ao = AlwaysOn(BASE_DIR, FILE_NAME)\n",
    "df = ao.full_pipeline(n_category=5, fr_threshold=0.8, cumsum_threshold=0.9, export_result=True)"
   ]
  }
 ],
 "metadata": {
  "interpreter": {
   "hash": "cd073f3038b8337706d4c7d775204fb19bddc277721f52eb60f8c4b0892f2184"
  },
  "kernelspec": {
   "display_name": "Python 3.9.1 64-bit ('venv': venv)",
   "language": "python",
   "name": "python3"
  },
  "language_info": {
   "codemirror_mode": {
    "name": "ipython",
    "version": 3
   },
   "file_extension": ".py",
   "mimetype": "text/x-python",
   "name": "python",
   "nbconvert_exporter": "python",
   "pygments_lexer": "ipython3",
   "version": "3.9.1"
  },
  "orig_nbformat": 4
 },
 "nbformat": 4,
 "nbformat_minor": 2
}
