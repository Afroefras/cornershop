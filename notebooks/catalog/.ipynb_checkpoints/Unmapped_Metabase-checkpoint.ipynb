{
 "cells": [
  {
   "cell_type": "markdown",
   "id": "9f4aa819",
   "metadata": {},
   "source": [
    "# Unmapped Metabase"
   ]
  },
  {
   "cell_type": "code",
   "execution_count": 1,
   "id": "e88e8efb",
   "metadata": {
    "ExecuteTime": {
     "end_time": "2021-06-15T16:24:48.700908Z",
     "start_time": "2021-06-15T16:24:48.692572Z"
    }
   },
   "outputs": [],
   "source": [
    "BASE_DIR = '/Users/efraflores/Desktop/EF/Corner/Catalog/Unmapped/data'\n",
    "STORE = 'alianza'"
   ]
  },
  {
   "cell_type": "markdown",
   "id": "42e2f40c",
   "metadata": {},
   "source": [
    "## Import"
   ]
  },
  {
   "cell_type": "code",
   "execution_count": 2,
   "id": "83dd1a1d",
   "metadata": {
    "ExecuteTime": {
     "end_time": "2021-06-15T16:24:48.706373Z",
     "start_time": "2021-06-15T16:24:48.703841Z"
    }
   },
   "outputs": [],
   "source": [
    "import sys\n",
    "sys.path.append('/Users/efraflores/Desktop/hub/cornershop/venv/lib/python3.9/site-packages')"
   ]
  },
  {
   "cell_type": "code",
   "execution_count": 3,
   "id": "0030539d",
   "metadata": {
    "ExecuteTime": {
     "end_time": "2021-06-15T16:24:49.419365Z",
     "start_time": "2021-06-15T16:24:48.709186Z"
    }
   },
   "outputs": [
    {
     "data": {
      "text/html": [
       "<div>\n",
       "<style scoped>\n",
       "    .dataframe tbody tr th:only-of-type {\n",
       "        vertical-align: middle;\n",
       "    }\n",
       "\n",
       "    .dataframe tbody tr th {\n",
       "        vertical-align: top;\n",
       "    }\n",
       "\n",
       "    .dataframe thead th {\n",
       "        text-align: right;\n",
       "    }\n",
       "</style>\n",
       "<table border=\"1\" class=\"dataframe\">\n",
       "  <thead>\n",
       "    <tr style=\"text-align: right;\">\n",
       "      <th></th>\n",
       "      <th>store_id</th>\n",
       "      <th>catalog_product_id</th>\n",
       "      <th>branch</th>\n",
       "      <th>productbranch_id</th>\n",
       "      <th>price</th>\n",
       "    </tr>\n",
       "  </thead>\n",
       "  <tbody>\n",
       "    <tr>\n",
       "      <th>93203</th>\n",
       "      <td>98</td>\n",
       "      <td>218648</td>\n",
       "      <td>935</td>\n",
       "      <td>8226199</td>\n",
       "      <td>36.0</td>\n",
       "    </tr>\n",
       "  </tbody>\n",
       "</table>\n",
       "</div>"
      ],
      "text/plain": [
       "       store_id  catalog_product_id  branch  productbranch_id  price\n",
       "93203        98              218648     935           8226199   36.0"
      ]
     },
     "metadata": {},
     "output_type": "display_data"
    },
    {
     "data": {
      "text/html": [
       "<div>\n",
       "<style scoped>\n",
       "    .dataframe tbody tr th:only-of-type {\n",
       "        vertical-align: middle;\n",
       "    }\n",
       "\n",
       "    .dataframe tbody tr th {\n",
       "        vertical-align: top;\n",
       "    }\n",
       "\n",
       "    .dataframe thead th {\n",
       "        text-align: right;\n",
       "    }\n",
       "</style>\n",
       "<table border=\"1\" class=\"dataframe\">\n",
       "  <thead>\n",
       "    <tr style=\"text-align: right;\">\n",
       "      <th></th>\n",
       "      <th>sku_source</th>\n",
       "      <th>supply_product_id</th>\n",
       "      <th>catalog_product_id</th>\n",
       "      <th>name</th>\n",
       "      <th>barcode</th>\n",
       "      <th>branch</th>\n",
       "      <th>price_mode</th>\n",
       "      <th>stock</th>\n",
       "      <th>min_last_visit</th>\n",
       "    </tr>\n",
       "  </thead>\n",
       "  <tbody>\n",
       "    <tr>\n",
       "      <th>93396</th>\n",
       "      <td>mx-bodegasalianza-csv</td>\n",
       "      <td>14140837</td>\n",
       "      <td>NaN</td>\n",
       "      <td>Bdy. torres c/2 vasos</td>\n",
       "      <td>8.410114e+12</td>\n",
       "      <td>941.0</td>\n",
       "      <td>500.0</td>\n",
       "      <td>1</td>\n",
       "      <td>2021-02-18T17:06:43.601919Z</td>\n",
       "    </tr>\n",
       "  </tbody>\n",
       "</table>\n",
       "</div>"
      ],
      "text/plain": [
       "                  sku_source  supply_product_id  catalog_product_id  \\\n",
       "93396  mx-bodegasalianza-csv           14140837                 NaN   \n",
       "\n",
       "                        name       barcode  branch  price_mode  stock  \\\n",
       "93396  Bdy. torres c/2 vasos  8.410114e+12   941.0       500.0      1   \n",
       "\n",
       "                    min_last_visit  \n",
       "93396  2021-02-18T17:06:43.601919Z  "
      ]
     },
     "metadata": {},
     "output_type": "display_data"
    }
   ],
   "source": [
    "import os\n",
    "import time\n",
    "import numpy as np\n",
    "import pandas as pd\n",
    "from IPython.lib.display import Audio\n",
    "\n",
    "prod = pd.read_csv(os.path.join(BASE_DIR,f'catalog_prod_{STORE}.csv'))\n",
    "supply = pd.read_csv(os.path.join(BASE_DIR,f'catalog_supply_{STORE}.csv'))\n",
    "\n",
    "display(prod.sample())\n",
    "display(supply.sample())"
   ]
  },
  {
   "cell_type": "markdown",
   "id": "aff6f2fc",
   "metadata": {
    "heading_collapsed": true
   },
   "source": [
    "## Functions"
   ]
  },
  {
   "cell_type": "markdown",
   "id": "21a8bba7",
   "metadata": {
    "heading_collapsed": true,
    "hidden": true
   },
   "source": [
    "### Timing and tone"
   ]
  },
  {
   "cell_type": "code",
   "execution_count": 4,
   "id": "b978950c",
   "metadata": {
    "ExecuteTime": {
     "end_time": "2021-06-15T16:24:49.426243Z",
     "start_time": "2021-06-15T16:24:49.422206Z"
    },
    "hidden": true
   },
   "outputs": [],
   "source": [
    "start = time.time()\n",
    "def time_exp(x):\n",
    "    minutes, seconds = np.floor(x/60), 60*(x/60-np.floor(x/60))\n",
    "    print(f\"{'{:.0f}'.format(minutes)} minutos con {'{:.2f}'.format(seconds)} segundos\")\n",
    "    \n",
    "def tono(a = 1000, b = 700, play_time_seconds = 1, framerate = 4410):\n",
    "    t = np.linspace(0, play_time_seconds, framerate*play_time_seconds)*np.pi\n",
    "    return Audio(np.sin(a*t) + np.sin(b*t), rate = framerate, autoplay=True)"
   ]
  },
  {
   "cell_type": "markdown",
   "id": "48d30082",
   "metadata": {
    "heading_collapsed": true,
    "hidden": true
   },
   "source": [
    "### Batches"
   ]
  },
  {
   "cell_type": "code",
   "execution_count": 5,
   "id": "9a59b262",
   "metadata": {
    "ExecuteTime": {
     "end_time": "2021-06-15T16:24:49.431640Z",
     "start_time": "2021-06-15T16:24:49.428046Z"
    },
    "hidden": true
   },
   "outputs": [],
   "source": [
    "def batches(base_dir,store,data,size=10000):\n",
    "    df = data.copy()\n",
    "    n = 0\n",
    "    for i in range(int(np.ceil(len(df)/size))):\n",
    "        batch = df.iloc[n:n+size-1,:]\n",
    "        batch.to_excel(os.path.join(base_dir,f'bulk_{store}_{str(i+1).zfill(2)}.xlsx'),index=False)\n",
    "        n += size\n",
    "    print(f'The file with {len(df)} rows has been split up into {i+1} batches of {size} rows each')"
   ]
  },
  {
   "cell_type": "markdown",
   "id": "8324cc7f",
   "metadata": {
    "heading_collapsed": true,
    "hidden": true
   },
   "source": [
    "### Summary"
   ]
  },
  {
   "cell_type": "code",
   "execution_count": 6,
   "id": "ff2d4b17",
   "metadata": {
    "ExecuteTime": {
     "end_time": "2021-06-15T16:24:49.437652Z",
     "start_time": "2021-06-15T16:24:49.433563Z"
    },
    "hidden": true
   },
   "outputs": [],
   "source": [
    "def summary():\n",
    "    print(f\"Para la tienda {STORE.title()}, los productbranch se distribuyen:\\\n",
    "    \\n-Catálogo\\t{len(prod)}\\\n",
    "    \\n-Supply\\t\\t{len(supply)}\\\n",
    "    \\n-Sin mapear\\t{len(unmapped)+len(brands)}\\t({'{:.1%}'.format((len(unmapped)+len(brands))/len(full))})\\\n",
    "    \\n -Brands\\t{len(branch_brands)}\\\n",
    "    \\n -Sin órdenes\\t{len(df[df['orders']==0])}\\\n",
    "    \\n -Buen perform\\t{len(good_perf)}\\t(FR {'{:.1%}'.format(good_perf['fr'].mean())})\\\n",
    "    \\n -Mal perform\\t{len(bad_fr)}\\t(FR {'{:.1%}'.format(bad_fr['fr'].mean())})\\\n",
    "    \\n -Markup +-3%\\t{len(mk)}\\t(MK {int(mk['mk_tot'].sum())}, {'{:.1%}'.format(mk['mk_tot'].sum()/mk['sales'].sum())})\\\n",
    "    \\n\\n-Por desactivar\\t{len(bad_perf)}\\t({'{:.1%}'.format(len(bad_perf)/len(prod))})\\\n",
    "    \\n -Productos \\t{len(bad_perf.groupby('catalog_product_id')['store_id'].count())}\\\n",
    "    \\n -Órdenes\\t{int(bad_perf['orders'].sum())}\\t({'{:.1%}'.format(bad_perf['orders'].sum()/total['orders'].sum())})\\\n",
    "    \\n -Ventas $ \\t{int(bad_perf['sales'].sum())}\\t({'{:.1%}'.format(bad_perf['sales'].sum()/total['sales'].sum())})\")"
   ]
  },
  {
   "cell_type": "markdown",
   "id": "95ec3cbe",
   "metadata": {},
   "source": [
    "## Unmapped from prod"
   ]
  },
  {
   "cell_type": "code",
   "execution_count": 7,
   "id": "319df3fd",
   "metadata": {
    "ExecuteTime": {
     "end_time": "2021-06-15T16:24:49.577981Z",
     "start_time": "2021-06-15T16:24:49.439766Z"
    }
   },
   "outputs": [
    {
     "data": {
      "text/plain": [
       "store_id              0.000000\n",
       "catalog_product_id    0.000000\n",
       "branch                0.000000\n",
       "productbranch_id      0.000000\n",
       "price                 0.000000\n",
       "sku_source            0.596777\n",
       "supply_product_id     0.596777\n",
       "name                  0.596777\n",
       "barcode               0.596777\n",
       "price_mode            0.596777\n",
       "stock                 0.596777\n",
       "min_last_visit        0.596777\n",
       "dtype: float64"
      ]
     },
     "execution_count": 7,
     "metadata": {},
     "output_type": "execute_result"
    }
   ],
   "source": [
    "full = prod.merge(supply,how='left',on=['branch','catalog_product_id'])\n",
    "full.isnull().mean()"
   ]
  },
  {
   "cell_type": "code",
   "execution_count": 8,
   "id": "500efd6d",
   "metadata": {
    "ExecuteTime": {
     "end_time": "2021-06-15T16:24:49.782371Z",
     "start_time": "2021-06-15T16:24:49.581294Z"
    },
    "scrolled": true
   },
   "outputs": [],
   "source": [
    "unmapped = full[full['supply_product_id'].isnull()].dropna(axis=1)\n",
    "unmapped.to_csv(os.path.join(BASE_DIR,f'check_brands_{STORE}.csv'),index=False)"
   ]
  },
  {
   "cell_type": "markdown",
   "id": "c7662899",
   "metadata": {
    "heading_collapsed": true
   },
   "source": [
    "## Brands"
   ]
  },
  {
   "cell_type": "markdown",
   "id": "911d2111",
   "metadata": {
    "hidden": true
   },
   "source": [
    "Check with @Alan Sánchez Márquez if any product_id was created by Brands"
   ]
  },
  {
   "cell_type": "code",
   "execution_count": 9,
   "id": "a5570f7f",
   "metadata": {
    "ExecuteTime": {
     "end_time": "2021-06-15T16:24:49.794298Z",
     "start_time": "2021-06-15T16:24:49.785482Z"
    },
    "hidden": true
   },
   "outputs": [
    {
     "data": {
      "text/html": [
       "<div>\n",
       "<style scoped>\n",
       "    .dataframe tbody tr th:only-of-type {\n",
       "        vertical-align: middle;\n",
       "    }\n",
       "\n",
       "    .dataframe tbody tr th {\n",
       "        vertical-align: top;\n",
       "    }\n",
       "\n",
       "    .dataframe thead th {\n",
       "        text-align: right;\n",
       "    }\n",
       "</style>\n",
       "<table border=\"1\" class=\"dataframe\">\n",
       "  <thead>\n",
       "    <tr style=\"text-align: right;\">\n",
       "      <th></th>\n",
       "      <th>catalog_product_id</th>\n",
       "      <th>match</th>\n",
       "    </tr>\n",
       "  </thead>\n",
       "  <tbody>\n",
       "    <tr>\n",
       "      <th>0</th>\n",
       "      <td>3906875</td>\n",
       "      <td>1</td>\n",
       "    </tr>\n",
       "    <tr>\n",
       "      <th>1</th>\n",
       "      <td>1116980</td>\n",
       "      <td>1</td>\n",
       "    </tr>\n",
       "    <tr>\n",
       "      <th>2</th>\n",
       "      <td>1154000</td>\n",
       "      <td>1</td>\n",
       "    </tr>\n",
       "    <tr>\n",
       "      <th>3</th>\n",
       "      <td>368209</td>\n",
       "      <td>1</td>\n",
       "    </tr>\n",
       "    <tr>\n",
       "      <th>4</th>\n",
       "      <td>383363</td>\n",
       "      <td>1</td>\n",
       "    </tr>\n",
       "    <tr>\n",
       "      <th>5</th>\n",
       "      <td>384378</td>\n",
       "      <td>1</td>\n",
       "    </tr>\n",
       "    <tr>\n",
       "      <th>6</th>\n",
       "      <td>1245642</td>\n",
       "      <td>1</td>\n",
       "    </tr>\n",
       "    <tr>\n",
       "      <th>7</th>\n",
       "      <td>1014261</td>\n",
       "      <td>1</td>\n",
       "    </tr>\n",
       "    <tr>\n",
       "      <th>8</th>\n",
       "      <td>323692</td>\n",
       "      <td>1</td>\n",
       "    </tr>\n",
       "  </tbody>\n",
       "</table>\n",
       "</div>"
      ],
      "text/plain": [
       "   catalog_product_id  match\n",
       "0             3906875      1\n",
       "1             1116980      1\n",
       "2             1154000      1\n",
       "3              368209      1\n",
       "4              383363      1\n",
       "5              384378      1\n",
       "6             1245642      1\n",
       "7             1014261      1\n",
       "8              323692      1"
      ]
     },
     "execution_count": 9,
     "metadata": {},
     "output_type": "execute_result"
    }
   ],
   "source": [
    "brands = pd.read_csv(os.path.join(BASE_DIR,f'checked_{STORE}.csv'))\n",
    "brands"
   ]
  },
  {
   "cell_type": "code",
   "execution_count": 10,
   "id": "f0c493b4",
   "metadata": {
    "ExecuteTime": {
     "end_time": "2021-06-15T16:24:49.869607Z",
     "start_time": "2021-06-15T16:24:49.796419Z"
    },
    "hidden": true,
    "scrolled": true
   },
   "outputs": [
    {
     "data": {
      "text/plain": [
       "'360778,2255893,129859,383588,174089,96865,383520,141514,1155662,357349,281975,353436,151314,383333,355849,383530,168683,280153,345551,591043,383494,1126262,383635,171286,383597,1993944,129828,353032,319735,594240,139185,383632,383405,383293,604813,140166,383353,138258,592705,2161160,2442313,328885,383335,323243,357658,383507,383546,383590,383610,383591,383580,220847,140638,1230746,383498,383263,140346,170562,383282,324074,383390,591911,383585,383558,383426,141515,320402,328175,356222,383272,323181,383294,367500,601009,1109195,379985,137605,338578,314560,137348,592961,313187,346098,137632,592630,320422,341897,383318,140550,324090,367819,388156,343777,383281,343952,367441,312416,383249,353651,316255,356499,383447,138468,383509,1156222,589676,376684,383436,383469,357035,226008,341893,328267,383277,323736,1006858,1217230,367609,346023,1188429,357712,383283,594422,383310,383264,356041,383526,383455,360845,369727,383619,317231,383645,321222,375796,444769,595373,383560,413366,383247,341903,383462,383543,139141,1142903,273871,383676,363385,413669,2026185,383541,383486,383574,383492,324128,387751,383565,2161179,383334,362373,383518,353348,355255,2060196,383584,1010754,180329,356486,329020,383491,383266,588309,137645,383639,361062,369722,597873,389377,362311,324122,386835,140404,339807,168865,383566,152362,383474,383309,338543,383456,139280,1012021,599999,383297,592733,344269,355391,389152,1004406,383495,345459,1604553,331728,383513,415203,383605,383475,383439,356336,383274,340152,383413,390774,375663,374988,1155390,374688,2161201,323247,383362,324127,1126310,383337,344148,590274,137533,383236,323277,592800,383243,383392,341898,361088,383406,313121,140619,138763,370467,366298,285096,383379,1006482,383354,353051,592878,313163,383603,323900,383511,383259,383301,1245669,356855,138516,2161145,139212,141491,375056,613597,355526,139189,327821,383306,390265,390624,355786,355285,374966,383359,1898092,383296,383594,1152045,138700,168848,375874,593932,383419,1216523,361172,139251,280602,1009508,604496,383265,383349,174063,344260,383388,353621,383295,1006719,383338,595802,1245636,383596,284302,141534,367530,341909,375238,383339,383625,383561,383563,593224,383550,345606,383425,590324,356335,1228260,1185225,340517,328841,339924,360860,320412,593247,596405,1993264,383366,1009515,383577,388246,390784,383493,591566,366286,340772,324121,344449,375340,383441,139058,1154511,1216783,594423,383516,383470,352942,355237,206187,2161208,383628,383358,363376,597804,383627,383589,328722,592269,1153320,355216,341570,151807,383510,140640,383437,357713,383607,383624,366077,129887,353649,367567,363054,334013,383378,383385,383398,323691,345992,141538,285097,342335,383396,140391,589647,139274,339494,374899,1153333,322438,360902,357034,138206,591951,313193,356052,174539,390343,323672,380195,1155772,383400,353229,387357,2277308,141508,327828,1217207,599541,138689,383545,362442,383442,366308,174548,383508,383357,1152047,356241,383525,598176,1898111,313182,151328,139200,137423,383408,383583,1902424,340477,597853,390783,2442314,174088,593969,383535,361087,383538,596311,383253,390630,1217174,383459,383557,138459,383553,321139,353061,383341,355436,277338,383348,353361,328889,339806,383329,368204,383515,342730,328752,383450,383522,368729,413348,2060207,120222,362484,331573,595213,605915,323394,328813,383387,1579801,383328,383255,319734,168976,383604,383473,367545,383471,590203,597483,368277,324372,597724,591897,389487,355660,138237,601998,383322,383324,383315,375352,383586,383575,383480,140675,383411,220823,2161151,343546,1245641,357030,357026,1216560,141482,1202162,383505,383356,383609,383528,328182,139322,383417,392319,323530,170538,386797,319741,869059,362637,357154,383268,1217051,375104,281341,1216695,356519,327956,1155402,1009560,1217173,383316,597379,597470,598107,383302,137404,137590,340622,446895,360813,1202144,356074,590225,355659,324296,592953,383299,383481,389301,383581,346116,341901,366310,383415,357029,1155450,383472,362362,319939,374808,328522,383529,355854,383347,593119,129848,360806,353117,1217218,137373,367821,604827,323504,286055,353249,1871167,273774,2060191,137611,375801,353258,328088,357027,357715,366097,356204,383587,218648,323834,1993289,168624,383531,334096,140349,383521,138740,324073,137607,1216807,390115,593233,383551,383395,357038,285569,313186,352928,2493546,383287,321375,285989,141485,357211,174091,280729,1112472,140081,343387,357153,2161155,383642,134079,383330,357322,383479,2161210,129860,2161150,2161191,355389,2161197,360939,375066,375270,273872,375291,383548,357490,274163,324094,591810,390055,383540,383276,353438,320468,383440,383465,1125989,383501,140711,383552,274328,383350,118691,389465,1259825,341406,137540,383435,374775,370478,345049,598135,383499,383523,281333,369231,139271,283084,1993140,363522,345098,140712,383519,137656,390357,598680,137619,168695,341911,342403,361038,134134,383630,383258,383238,606617,592933,1155816,341906,1216556,361100,343144,613657,389357,338137,1217404,1240827,1579793,383345,383368,388249,383307,319945,327797,281414,352995,1159501,383500,383433,356085,593509,362294,356196,383449,383377,593087,602009,383578,341910,375257,353281,314373,594092,383570,383431,383271,383323,383273,383616,597736,317229,383487,345994,137634,383620,320406,357173,1604567,1216866,383468,1005089,365127,356831,1228255,355943,597675,385216,344117,323720,602502,356321,225953,383497,383612,383308,383279,2161206,383643,383332,383393,1245640,323526,1216809,205372,276808,355709,383303,591697,383389,360903,2467701,369243,383420,383391,370142,345162,362683,361105,313194,321512,596691,354592,383418,383461,376677,383478,169606,361049,333575,383304,355382,357669,168511,168786,282356,383621,328020,390504,353370,365045,380334,323493,383412,389984,366163,383568,383466,324442,383381,396341,383397,383446,343452,320514,591553,596614,362996,389535,340506,540678,2255860,134086,1897939,605223,360809,170493,138532,383458,312412,339087,383549,133119,383284,284294,2442315,383438,171423,383403,337575,383286,1153338,367555,383376,383404,346051,141532,383533,327989,319705,139250,366104,602278,1216766,376675,341895,1228258,168675,383567,137606,383432,601743,312384,344210,324405,387246,360823,383637,370434,383571,383346,338025,383606,152280,383517,174405,383248,139304,356286,362641,383482,320467,383595,383524,375361,170531,2113824,601048,367727,591055,356077,383340,313427,1153579,261298,383544,313199,383361,1129115,340928,383250,140347,137430,383631,139057,383421,383312,390170,1228270,383270,383360,262383,355656,168971,2161184,320211,138285,592293,362339,367414,383401,355182,339943,327815,323835,3018258,451912,387219,383292,344739,383352,140687,362328,388274,383532,356865,360929,383445,352963,357025,374972,595696,383454,375777,170529,383285,367777,389319,316711,600898,1150433,602006,383260,129831,353097,383298,312935,383423,324161,357037,320463,607112,375323,1153265,388256,1579794,367483,206186,328566,380342,139318,353039,383556,336122,383399,591544,1124178,1155815,2026189,140071,383593,323901,383611,283102,383644,344270,168752,383256,2026188,170519,353975,2015231,341912,355173,383331,316675,341899,273847,383369,592583,592835,340921,368122,383569,345864,361131,140710,137531,210222,1830371,362330,320508,591680,596080,2060190,390585,383300,602215,1854840,383242,390537,375383,383394,138384,383336,1603840,383320,383288,345646,342320,324124,413288,356513,170532,590659,383600,604801,96278,383536,383559,386169,343931,1217050,367756,383452,357317,345868,383453,357346,341904,342397,609031,592694,117620,369395,383476,2255908,383564,383448,141590,139012,595021,383555,324125,367732,1152075,383278,341894,383311,383514,353546,383646,129790,1993250,602013,129858,591906,383618,138440,93731,383527,383489,390342,383506,344375,396288,383275,1216687,383371,324123,356245,327901,333349,344896,383572,362360,380522,383599,413279,357040,366124,1993298,368197,341908,1604151,345163,383409,383537,383305,390762,129849,383460,389337,593243,592782,354757,363520,360819,2161147,341896,374913,607018,388177,383414,346206,594771,383402,383416,596396,383321,375994,1902423,339795,383463,2072282,1242169,342475,540741,383602,319941,323242,593178,140128,383291,355179,375052,383485,376013,353269,356206,383488,383601,383325,2026184,355455,386827,383327,597154,367752,323240,592949,284309,362382,328431,383504,137593,389157,383267,602333,323413,390351,591375,598383,273828,368480,356323,366216,383496,383254,329014,1155818,383622,363492,1185211,383364,345766,598099,413666,1216697'"
      ]
     },
     "execution_count": 10,
     "metadata": {},
     "output_type": "execute_result"
    }
   ],
   "source": [
    "branch_brands = unmapped[unmapped['catalog_product_id'].isin(brands['catalog_product_id'])]\n",
    "unmapped = unmapped[~unmapped['catalog_product_id'].isin(brands['catalog_product_id'])].copy()\n",
    "','.join(set(unmapped['catalog_product_id'].dropna().astype(int).astype(str)))"
   ]
  },
  {
   "cell_type": "markdown",
   "id": "3e694c6d",
   "metadata": {
    "heading_collapsed": true
   },
   "source": [
    "## Orders from unmapped"
   ]
  },
  {
   "cell_type": "code",
   "execution_count": 11,
   "id": "3e2cb5ad",
   "metadata": {
    "ExecuteTime": {
     "end_time": "2021-06-15T16:24:49.890083Z",
     "start_time": "2021-06-15T16:24:49.871262Z"
    },
    "hidden": true
   },
   "outputs": [
    {
     "data": {
      "text/html": [
       "<div>\n",
       "<style scoped>\n",
       "    .dataframe tbody tr th:only-of-type {\n",
       "        vertical-align: middle;\n",
       "    }\n",
       "\n",
       "    .dataframe tbody tr th {\n",
       "        vertical-align: top;\n",
       "    }\n",
       "\n",
       "    .dataframe thead th {\n",
       "        text-align: right;\n",
       "    }\n",
       "</style>\n",
       "<table border=\"1\" class=\"dataframe\">\n",
       "  <thead>\n",
       "    <tr style=\"text-align: right;\">\n",
       "      <th></th>\n",
       "      <th>level</th>\n",
       "      <th>date</th>\n",
       "      <th>catalog_product_id</th>\n",
       "      <th>branch</th>\n",
       "      <th>productbranch_id</th>\n",
       "      <th>min_branch_price</th>\n",
       "      <th>avg_branch_price</th>\n",
       "      <th>max_branch_price</th>\n",
       "      <th>min_shopper_price</th>\n",
       "      <th>avg_shopper_price</th>\n",
       "      <th>max_shopper_price</th>\n",
       "      <th>requested</th>\n",
       "      <th>found</th>\n",
       "      <th>orders</th>\n",
       "      <th>sales</th>\n",
       "    </tr>\n",
       "  </thead>\n",
       "  <tbody>\n",
       "    <tr>\n",
       "      <th>0</th>\n",
       "      <td>TOTAL</td>\n",
       "      <td>2021-06-11</td>\n",
       "      <td>0</td>\n",
       "      <td>0</td>\n",
       "      <td>0</td>\n",
       "      <td>0.0</td>\n",
       "      <td>0.0</td>\n",
       "      <td>0.0</td>\n",
       "      <td>0.0</td>\n",
       "      <td>0.0</td>\n",
       "      <td>0.0</td>\n",
       "      <td>115.0</td>\n",
       "      <td>100.0</td>\n",
       "      <td>60</td>\n",
       "      <td>54349.99</td>\n",
       "    </tr>\n",
       "    <tr>\n",
       "      <th>1</th>\n",
       "      <td>TOTAL</td>\n",
       "      <td>2021-06-12</td>\n",
       "      <td>0</td>\n",
       "      <td>0</td>\n",
       "      <td>0</td>\n",
       "      <td>0.0</td>\n",
       "      <td>0.0</td>\n",
       "      <td>0.0</td>\n",
       "      <td>0.0</td>\n",
       "      <td>0.0</td>\n",
       "      <td>0.0</td>\n",
       "      <td>104.0</td>\n",
       "      <td>87.0</td>\n",
       "      <td>52</td>\n",
       "      <td>49309.74</td>\n",
       "    </tr>\n",
       "    <tr>\n",
       "      <th>2</th>\n",
       "      <td>TOTAL</td>\n",
       "      <td>2021-06-10</td>\n",
       "      <td>0</td>\n",
       "      <td>0</td>\n",
       "      <td>0</td>\n",
       "      <td>0.0</td>\n",
       "      <td>0.0</td>\n",
       "      <td>0.0</td>\n",
       "      <td>0.0</td>\n",
       "      <td>0.0</td>\n",
       "      <td>0.0</td>\n",
       "      <td>83.0</td>\n",
       "      <td>69.0</td>\n",
       "      <td>39</td>\n",
       "      <td>36009.10</td>\n",
       "    </tr>\n",
       "    <tr>\n",
       "      <th>3</th>\n",
       "      <td>TOTAL</td>\n",
       "      <td>2021-06-13</td>\n",
       "      <td>0</td>\n",
       "      <td>0</td>\n",
       "      <td>0</td>\n",
       "      <td>0.0</td>\n",
       "      <td>0.0</td>\n",
       "      <td>0.0</td>\n",
       "      <td>0.0</td>\n",
       "      <td>0.0</td>\n",
       "      <td>0.0</td>\n",
       "      <td>22.0</td>\n",
       "      <td>17.0</td>\n",
       "      <td>10</td>\n",
       "      <td>9242.37</td>\n",
       "    </tr>\n",
       "    <tr>\n",
       "      <th>4</th>\n",
       "      <td>product_branch</td>\n",
       "      <td>2021-06-11</td>\n",
       "      <td>336122</td>\n",
       "      <td>7651</td>\n",
       "      <td>38195757</td>\n",
       "      <td>150.0</td>\n",
       "      <td>150.0</td>\n",
       "      <td>150.0</td>\n",
       "      <td>150.0</td>\n",
       "      <td>150.0</td>\n",
       "      <td>150.0</td>\n",
       "      <td>3.0</td>\n",
       "      <td>3.0</td>\n",
       "      <td>2</td>\n",
       "      <td>450.00</td>\n",
       "    </tr>\n",
       "  </tbody>\n",
       "</table>\n",
       "</div>"
      ],
      "text/plain": [
       "            level        date  catalog_product_id  branch  productbranch_id  \\\n",
       "0           TOTAL  2021-06-11                   0       0                 0   \n",
       "1           TOTAL  2021-06-12                   0       0                 0   \n",
       "2           TOTAL  2021-06-10                   0       0                 0   \n",
       "3           TOTAL  2021-06-13                   0       0                 0   \n",
       "4  product_branch  2021-06-11              336122    7651          38195757   \n",
       "\n",
       "   min_branch_price  avg_branch_price  max_branch_price  min_shopper_price  \\\n",
       "0               0.0               0.0               0.0                0.0   \n",
       "1               0.0               0.0               0.0                0.0   \n",
       "2               0.0               0.0               0.0                0.0   \n",
       "3               0.0               0.0               0.0                0.0   \n",
       "4             150.0             150.0             150.0              150.0   \n",
       "\n",
       "   avg_shopper_price  max_shopper_price  requested  found  orders     sales  \n",
       "0                0.0                0.0      115.0  100.0      60  54349.99  \n",
       "1                0.0                0.0      104.0   87.0      52  49309.74  \n",
       "2                0.0                0.0       83.0   69.0      39  36009.10  \n",
       "3                0.0                0.0       22.0   17.0      10   9242.37  \n",
       "4              150.0              150.0        3.0    3.0       2    450.00  "
      ]
     },
     "execution_count": 11,
     "metadata": {},
     "output_type": "execute_result"
    }
   ],
   "source": [
    "orders = pd.read_csv(os.path.join(BASE_DIR,f'orders_{STORE}.csv'))\n",
    "orders.head()"
   ]
  },
  {
   "cell_type": "code",
   "execution_count": 12,
   "id": "5f6c6343",
   "metadata": {
    "ExecuteTime": {
     "end_time": "2021-06-15T16:24:49.904907Z",
     "start_time": "2021-06-15T16:24:49.891841Z"
    },
    "hidden": true
   },
   "outputs": [
    {
     "data": {
      "text/html": [
       "<div>\n",
       "<style scoped>\n",
       "    .dataframe tbody tr th:only-of-type {\n",
       "        vertical-align: middle;\n",
       "    }\n",
       "\n",
       "    .dataframe tbody tr th {\n",
       "        vertical-align: top;\n",
       "    }\n",
       "\n",
       "    .dataframe thead th {\n",
       "        text-align: right;\n",
       "    }\n",
       "</style>\n",
       "<table border=\"1\" class=\"dataframe\">\n",
       "  <thead>\n",
       "    <tr style=\"text-align: right;\">\n",
       "      <th></th>\n",
       "      <th>requested</th>\n",
       "      <th>found</th>\n",
       "      <th>orders</th>\n",
       "      <th>sales</th>\n",
       "      <th>fr</th>\n",
       "      <th>avg_items</th>\n",
       "    </tr>\n",
       "  </thead>\n",
       "  <tbody>\n",
       "    <tr>\n",
       "      <th>0</th>\n",
       "      <td>115.0</td>\n",
       "      <td>100.0</td>\n",
       "      <td>60</td>\n",
       "      <td>54349.99</td>\n",
       "      <td>0.869565</td>\n",
       "      <td>1.916667</td>\n",
       "    </tr>\n",
       "    <tr>\n",
       "      <th>1</th>\n",
       "      <td>104.0</td>\n",
       "      <td>87.0</td>\n",
       "      <td>52</td>\n",
       "      <td>49309.74</td>\n",
       "      <td>0.836538</td>\n",
       "      <td>2.000000</td>\n",
       "    </tr>\n",
       "    <tr>\n",
       "      <th>2</th>\n",
       "      <td>83.0</td>\n",
       "      <td>69.0</td>\n",
       "      <td>39</td>\n",
       "      <td>36009.10</td>\n",
       "      <td>0.831325</td>\n",
       "      <td>2.128205</td>\n",
       "    </tr>\n",
       "    <tr>\n",
       "      <th>3</th>\n",
       "      <td>22.0</td>\n",
       "      <td>17.0</td>\n",
       "      <td>10</td>\n",
       "      <td>9242.37</td>\n",
       "      <td>0.772727</td>\n",
       "      <td>2.200000</td>\n",
       "    </tr>\n",
       "  </tbody>\n",
       "</table>\n",
       "</div>"
      ],
      "text/plain": [
       "   requested  found  orders     sales        fr  avg_items\n",
       "0      115.0  100.0      60  54349.99  0.869565   1.916667\n",
       "1      104.0   87.0      52  49309.74  0.836538   2.000000\n",
       "2       83.0   69.0      39  36009.10  0.831325   2.128205\n",
       "3       22.0   17.0      10   9242.37  0.772727   2.200000"
      ]
     },
     "execution_count": 12,
     "metadata": {},
     "output_type": "execute_result"
    }
   ],
   "source": [
    "total = orders[orders['level']=='TOTAL'].iloc[:,-4:].copy()\n",
    "total['fr'] = total['found']/total['requested']\n",
    "total['avg_items'] = total['requested']/total['orders']\n",
    "total"
   ]
  },
  {
   "cell_type": "markdown",
   "id": "b795b1ee",
   "metadata": {
    "heading_collapsed": true,
    "hidden": true
   },
   "source": [
    "### Total"
   ]
  },
  {
   "cell_type": "code",
   "execution_count": 13,
   "id": "b50dd9b9",
   "metadata": {
    "ExecuteTime": {
     "end_time": "2021-06-15T16:24:50.029545Z",
     "start_time": "2021-06-15T16:24:49.906964Z"
    },
    "hidden": true
   },
   "outputs": [
    {
     "name": "stdout",
     "output_type": "stream",
     "text": [
      "count    77326.000000\n",
      "mean         0.001145\n",
      "std          0.033764\n",
      "min          0.000000\n",
      "25%          0.000000\n",
      "50%          0.000000\n",
      "75%          0.000000\n",
      "max          1.000000\n",
      "Name: fr, dtype: float64\n"
     ]
    },
    {
     "data": {
      "text/html": [
       "<div>\n",
       "<style scoped>\n",
       "    .dataframe tbody tr th:only-of-type {\n",
       "        vertical-align: middle;\n",
       "    }\n",
       "\n",
       "    .dataframe tbody tr th {\n",
       "        vertical-align: top;\n",
       "    }\n",
       "\n",
       "    .dataframe thead th {\n",
       "        text-align: right;\n",
       "    }\n",
       "</style>\n",
       "<table border=\"1\" class=\"dataframe\">\n",
       "  <thead>\n",
       "    <tr style=\"text-align: right;\">\n",
       "      <th></th>\n",
       "      <th>store_id</th>\n",
       "      <th>catalog_product_id</th>\n",
       "      <th>branch_x</th>\n",
       "      <th>productbranch_id</th>\n",
       "      <th>price</th>\n",
       "      <th>branch_y</th>\n",
       "      <th>min_branch_price</th>\n",
       "      <th>avg_branch_price</th>\n",
       "      <th>max_branch_price</th>\n",
       "      <th>min_shopper_price</th>\n",
       "      <th>avg_shopper_price</th>\n",
       "      <th>max_shopper_price</th>\n",
       "      <th>requested</th>\n",
       "      <th>found</th>\n",
       "      <th>orders</th>\n",
       "      <th>sales</th>\n",
       "      <th>fr</th>\n",
       "    </tr>\n",
       "  </thead>\n",
       "  <tbody>\n",
       "    <tr>\n",
       "      <th>0</th>\n",
       "      <td>98</td>\n",
       "      <td>352963</td>\n",
       "      <td>916</td>\n",
       "      <td>8239069</td>\n",
       "      <td>635.0</td>\n",
       "      <td>916.0</td>\n",
       "      <td>635.0</td>\n",
       "      <td>635.0</td>\n",
       "      <td>635.0</td>\n",
       "      <td>610.0</td>\n",
       "      <td>610.0</td>\n",
       "      <td>610.0</td>\n",
       "      <td>2.0</td>\n",
       "      <td>2.0</td>\n",
       "      <td>2.0</td>\n",
       "      <td>1270.0</td>\n",
       "      <td>1.0</td>\n",
       "    </tr>\n",
       "    <tr>\n",
       "      <th>1</th>\n",
       "      <td>98</td>\n",
       "      <td>1993298</td>\n",
       "      <td>7628</td>\n",
       "      <td>45769157</td>\n",
       "      <td>295.0</td>\n",
       "      <td>7628.0</td>\n",
       "      <td>295.0</td>\n",
       "      <td>295.0</td>\n",
       "      <td>295.0</td>\n",
       "      <td>325.0</td>\n",
       "      <td>325.0</td>\n",
       "      <td>325.0</td>\n",
       "      <td>2.0</td>\n",
       "      <td>1.0</td>\n",
       "      <td>2.0</td>\n",
       "      <td>295.0</td>\n",
       "      <td>0.5</td>\n",
       "    </tr>\n",
       "    <tr>\n",
       "      <th>2</th>\n",
       "      <td>98</td>\n",
       "      <td>383601</td>\n",
       "      <td>971</td>\n",
       "      <td>8268497</td>\n",
       "      <td>164.0</td>\n",
       "      <td>971.0</td>\n",
       "      <td>164.0</td>\n",
       "      <td>164.0</td>\n",
       "      <td>164.0</td>\n",
       "      <td>164.0</td>\n",
       "      <td>164.0</td>\n",
       "      <td>164.0</td>\n",
       "      <td>1.0</td>\n",
       "      <td>1.0</td>\n",
       "      <td>1.0</td>\n",
       "      <td>164.0</td>\n",
       "      <td>1.0</td>\n",
       "    </tr>\n",
       "    <tr>\n",
       "      <th>3</th>\n",
       "      <td>98</td>\n",
       "      <td>140711</td>\n",
       "      <td>920</td>\n",
       "      <td>8235607</td>\n",
       "      <td>152.0</td>\n",
       "      <td>920.0</td>\n",
       "      <td>152.0</td>\n",
       "      <td>152.0</td>\n",
       "      <td>152.0</td>\n",
       "      <td>160.0</td>\n",
       "      <td>160.0</td>\n",
       "      <td>160.0</td>\n",
       "      <td>2.0</td>\n",
       "      <td>2.0</td>\n",
       "      <td>1.0</td>\n",
       "      <td>304.0</td>\n",
       "      <td>1.0</td>\n",
       "    </tr>\n",
       "    <tr>\n",
       "      <th>4</th>\n",
       "      <td>98</td>\n",
       "      <td>383347</td>\n",
       "      <td>950</td>\n",
       "      <td>8258469</td>\n",
       "      <td>180.0</td>\n",
       "      <td>950.0</td>\n",
       "      <td>180.0</td>\n",
       "      <td>180.0</td>\n",
       "      <td>180.0</td>\n",
       "      <td>180.0</td>\n",
       "      <td>180.0</td>\n",
       "      <td>180.0</td>\n",
       "      <td>1.0</td>\n",
       "      <td>1.0</td>\n",
       "      <td>1.0</td>\n",
       "      <td>180.0</td>\n",
       "      <td>1.0</td>\n",
       "    </tr>\n",
       "  </tbody>\n",
       "</table>\n",
       "</div>"
      ],
      "text/plain": [
       "   store_id  catalog_product_id  branch_x  productbranch_id  price  branch_y  \\\n",
       "0        98              352963       916           8239069  635.0     916.0   \n",
       "1        98             1993298      7628          45769157  295.0    7628.0   \n",
       "2        98              383601       971           8268497  164.0     971.0   \n",
       "3        98              140711       920           8235607  152.0     920.0   \n",
       "4        98              383347       950           8258469  180.0     950.0   \n",
       "\n",
       "   min_branch_price  avg_branch_price  max_branch_price  min_shopper_price  \\\n",
       "0             635.0             635.0             635.0              610.0   \n",
       "1             295.0             295.0             295.0              325.0   \n",
       "2             164.0             164.0             164.0              164.0   \n",
       "3             152.0             152.0             152.0              160.0   \n",
       "4             180.0             180.0             180.0              180.0   \n",
       "\n",
       "   avg_shopper_price  max_shopper_price  requested  found  orders   sales   fr  \n",
       "0              610.0              610.0        2.0    2.0     2.0  1270.0  1.0  \n",
       "1              325.0              325.0        2.0    1.0     2.0   295.0  0.5  \n",
       "2              164.0              164.0        1.0    1.0     1.0   164.0  1.0  \n",
       "3              160.0              160.0        2.0    2.0     1.0   304.0  1.0  \n",
       "4              180.0              180.0        1.0    1.0     1.0   180.0  1.0  "
      ]
     },
     "execution_count": 13,
     "metadata": {},
     "output_type": "execute_result"
    }
   ],
   "source": [
    "df = unmapped.merge(orders.iloc[:,3:],on='productbranch_id',how='left').fillna(0)\n",
    "df = df[~df['catalog_product_id'].isin(brands['catalog_product_id'])].copy()\n",
    "df = df.sort_values('orders',0,0).reset_index(drop=True)\n",
    "df['fr'] = (df['found']/(df['requested']+1e-10)).apply(lambda x: min(1,x))\n",
    "print(df['fr'].describe())\n",
    "df.head()"
   ]
  },
  {
   "cell_type": "markdown",
   "id": "2d6679ee",
   "metadata": {
    "ExecuteTime": {
     "end_time": "2021-06-08T16:35:09.822906Z",
     "start_time": "2021-06-08T16:35:09.809363Z"
    },
    "heading_collapsed": true,
    "hidden": true
   },
   "source": [
    "### Bad performance"
   ]
  },
  {
   "cell_type": "markdown",
   "id": "a9af711e",
   "metadata": {
    "hidden": true
   },
   "source": [
    "BULK TOOL\n",
    "\n",
    "<https://cornershopapp.com/catalog/dashboard/bulk_update/product_branches/>"
   ]
  },
  {
   "cell_type": "code",
   "execution_count": 14,
   "id": "6dc470ed",
   "metadata": {
    "ExecuteTime": {
     "end_time": "2021-06-15T16:24:50.116263Z",
     "start_time": "2021-06-15T16:24:50.031568Z"
    },
    "hidden": true
   },
   "outputs": [
    {
     "name": "stdout",
     "output_type": "stream",
     "text": [
      "count    77239.000000\n",
      "mean         0.000019\n",
      "std          0.004023\n",
      "min          0.000000\n",
      "25%          0.000000\n",
      "50%          0.000000\n",
      "75%          0.000000\n",
      "max          1.000000\n",
      "Name: fr, dtype: float64\n"
     ]
    },
    {
     "data": {
      "text/html": [
       "<div>\n",
       "<style scoped>\n",
       "    .dataframe tbody tr th:only-of-type {\n",
       "        vertical-align: middle;\n",
       "    }\n",
       "\n",
       "    .dataframe tbody tr th {\n",
       "        vertical-align: top;\n",
       "    }\n",
       "\n",
       "    .dataframe thead th {\n",
       "        text-align: right;\n",
       "    }\n",
       "</style>\n",
       "<table border=\"1\" class=\"dataframe\">\n",
       "  <thead>\n",
       "    <tr style=\"text-align: right;\">\n",
       "      <th></th>\n",
       "      <th>store_id</th>\n",
       "      <th>catalog_product_id</th>\n",
       "      <th>branch_x</th>\n",
       "      <th>productbranch_id</th>\n",
       "      <th>price</th>\n",
       "      <th>branch_y</th>\n",
       "      <th>min_branch_price</th>\n",
       "      <th>avg_branch_price</th>\n",
       "      <th>max_branch_price</th>\n",
       "      <th>min_shopper_price</th>\n",
       "      <th>...</th>\n",
       "      <th>max_shopper_price</th>\n",
       "      <th>requested</th>\n",
       "      <th>found</th>\n",
       "      <th>orders</th>\n",
       "      <th>sales</th>\n",
       "      <th>fr</th>\n",
       "      <th>avg_price</th>\n",
       "      <th>mk_un</th>\n",
       "      <th>mk_p</th>\n",
       "      <th>mk_tot</th>\n",
       "    </tr>\n",
       "  </thead>\n",
       "  <tbody>\n",
       "    <tr>\n",
       "      <th>1</th>\n",
       "      <td>98</td>\n",
       "      <td>1993298</td>\n",
       "      <td>7628</td>\n",
       "      <td>45769157</td>\n",
       "      <td>295.0</td>\n",
       "      <td>7628.0</td>\n",
       "      <td>295.0</td>\n",
       "      <td>295.0</td>\n",
       "      <td>295.0</td>\n",
       "      <td>325.0</td>\n",
       "      <td>...</td>\n",
       "      <td>325.0</td>\n",
       "      <td>2.0</td>\n",
       "      <td>1.0</td>\n",
       "      <td>2.0</td>\n",
       "      <td>295.0</td>\n",
       "      <td>0.5</td>\n",
       "      <td>295.0</td>\n",
       "      <td>0.0</td>\n",
       "      <td>0.0</td>\n",
       "      <td>0.0</td>\n",
       "    </tr>\n",
       "    <tr>\n",
       "      <th>5</th>\n",
       "      <td>98</td>\n",
       "      <td>2467701</td>\n",
       "      <td>7668</td>\n",
       "      <td>67376894</td>\n",
       "      <td>142.0</td>\n",
       "      <td>7668.0</td>\n",
       "      <td>142.0</td>\n",
       "      <td>142.0</td>\n",
       "      <td>142.0</td>\n",
       "      <td>0.0</td>\n",
       "      <td>...</td>\n",
       "      <td>0.0</td>\n",
       "      <td>2.0</td>\n",
       "      <td>0.0</td>\n",
       "      <td>1.0</td>\n",
       "      <td>0.0</td>\n",
       "      <td>0.0</td>\n",
       "      <td>NaN</td>\n",
       "      <td>NaN</td>\n",
       "      <td>NaN</td>\n",
       "      <td>0.0</td>\n",
       "    </tr>\n",
       "    <tr>\n",
       "      <th>8</th>\n",
       "      <td>98</td>\n",
       "      <td>137656</td>\n",
       "      <td>927</td>\n",
       "      <td>8231477</td>\n",
       "      <td>165.0</td>\n",
       "      <td>927.0</td>\n",
       "      <td>165.0</td>\n",
       "      <td>165.0</td>\n",
       "      <td>165.0</td>\n",
       "      <td>0.0</td>\n",
       "      <td>...</td>\n",
       "      <td>0.0</td>\n",
       "      <td>1.0</td>\n",
       "      <td>0.0</td>\n",
       "      <td>1.0</td>\n",
       "      <td>0.0</td>\n",
       "      <td>0.0</td>\n",
       "      <td>NaN</td>\n",
       "      <td>NaN</td>\n",
       "      <td>NaN</td>\n",
       "      <td>0.0</td>\n",
       "    </tr>\n",
       "    <tr>\n",
       "      <th>12</th>\n",
       "      <td>98</td>\n",
       "      <td>386797</td>\n",
       "      <td>7651</td>\n",
       "      <td>38194859</td>\n",
       "      <td>221.0</td>\n",
       "      <td>7651.0</td>\n",
       "      <td>221.0</td>\n",
       "      <td>221.0</td>\n",
       "      <td>221.0</td>\n",
       "      <td>0.0</td>\n",
       "      <td>...</td>\n",
       "      <td>0.0</td>\n",
       "      <td>1.0</td>\n",
       "      <td>0.0</td>\n",
       "      <td>1.0</td>\n",
       "      <td>0.0</td>\n",
       "      <td>0.0</td>\n",
       "      <td>NaN</td>\n",
       "      <td>NaN</td>\n",
       "      <td>NaN</td>\n",
       "      <td>0.0</td>\n",
       "    </tr>\n",
       "    <tr>\n",
       "      <th>17</th>\n",
       "      <td>98</td>\n",
       "      <td>383521</td>\n",
       "      <td>930</td>\n",
       "      <td>8262912</td>\n",
       "      <td>445.0</td>\n",
       "      <td>930.0</td>\n",
       "      <td>445.0</td>\n",
       "      <td>445.0</td>\n",
       "      <td>445.0</td>\n",
       "      <td>0.0</td>\n",
       "      <td>...</td>\n",
       "      <td>0.0</td>\n",
       "      <td>1.0</td>\n",
       "      <td>0.0</td>\n",
       "      <td>1.0</td>\n",
       "      <td>0.0</td>\n",
       "      <td>0.0</td>\n",
       "      <td>NaN</td>\n",
       "      <td>NaN</td>\n",
       "      <td>NaN</td>\n",
       "      <td>0.0</td>\n",
       "    </tr>\n",
       "  </tbody>\n",
       "</table>\n",
       "<p>5 rows × 21 columns</p>\n",
       "</div>"
      ],
      "text/plain": [
       "    store_id  catalog_product_id  branch_x  productbranch_id  price  branch_y  \\\n",
       "1         98             1993298      7628          45769157  295.0    7628.0   \n",
       "5         98             2467701      7668          67376894  142.0    7668.0   \n",
       "8         98              137656       927           8231477  165.0     927.0   \n",
       "12        98              386797      7651          38194859  221.0    7651.0   \n",
       "17        98              383521       930           8262912  445.0     930.0   \n",
       "\n",
       "    min_branch_price  avg_branch_price  max_branch_price  min_shopper_price  \\\n",
       "1              295.0             295.0             295.0              325.0   \n",
       "5              142.0             142.0             142.0                0.0   \n",
       "8              165.0             165.0             165.0                0.0   \n",
       "12             221.0             221.0             221.0                0.0   \n",
       "17             445.0             445.0             445.0                0.0   \n",
       "\n",
       "    ...  max_shopper_price  requested  found  orders  sales   fr  avg_price  \\\n",
       "1   ...              325.0        2.0    1.0     2.0  295.0  0.5      295.0   \n",
       "5   ...                0.0        2.0    0.0     1.0    0.0  0.0        NaN   \n",
       "8   ...                0.0        1.0    0.0     1.0    0.0  0.0        NaN   \n",
       "12  ...                0.0        1.0    0.0     1.0    0.0  0.0        NaN   \n",
       "17  ...                0.0        1.0    0.0     1.0    0.0  0.0        NaN   \n",
       "\n",
       "    mk_un  mk_p  mk_tot  \n",
       "1     0.0   0.0     0.0  \n",
       "5     NaN   NaN     0.0  \n",
       "8     NaN   NaN     0.0  \n",
       "12    NaN   NaN     0.0  \n",
       "17    NaN   NaN     0.0  \n",
       "\n",
       "[5 rows x 21 columns]"
      ]
     },
     "execution_count": 14,
     "metadata": {},
     "output_type": "execute_result"
    }
   ],
   "source": [
    "df['avg_price'] = df['sales'] / df['found']\n",
    "df['mk_un'] = df['avg_price'] - df['price']\n",
    "df['mk_p'] = df['mk_un'] / df['avg_price']\n",
    "df['mk_tot'] = df['sales'] - df['price']*df['found']\n",
    "bad_fr = df[(df['fr']<=total['fr'][0]*.9)\n",
    "            #&(df['orders']>0)\n",
    "           ].copy()\n",
    "mk = df[(df['mk_p']<-.03)|(df['mk_p']>.03)].copy()\n",
    "bad_perf = bad_fr.append(mk)\n",
    "print(bad_perf['fr'].describe())\n",
    "bad_perf.head()"
   ]
  },
  {
   "cell_type": "markdown",
   "id": "acbb301d",
   "metadata": {
    "heading_collapsed": true,
    "hidden": true
   },
   "source": [
    "### Good performance"
   ]
  },
  {
   "cell_type": "markdown",
   "id": "4ef37c6d",
   "metadata": {
    "hidden": true
   },
   "source": [
    "Ask the KAM to talk to the partner in order to activate that product"
   ]
  },
  {
   "cell_type": "code",
   "execution_count": 15,
   "id": "87f5a6f9",
   "metadata": {
    "ExecuteTime": {
     "end_time": "2021-06-15T16:24:50.162357Z",
     "start_time": "2021-06-15T16:24:50.117998Z"
    },
    "hidden": true,
    "scrolled": true
   },
   "outputs": [
    {
     "name": "stdout",
     "output_type": "stream",
     "text": [
      "count    8.700000e+01\n",
      "mean     1.000000e+00\n",
      "std      2.668238e-11\n",
      "min      1.000000e+00\n",
      "25%      1.000000e+00\n",
      "50%      1.000000e+00\n",
      "75%      1.000000e+00\n",
      "max      1.000000e+00\n",
      "Name: fr, dtype: float64\n"
     ]
    },
    {
     "data": {
      "text/html": [
       "<div>\n",
       "<style scoped>\n",
       "    .dataframe tbody tr th:only-of-type {\n",
       "        vertical-align: middle;\n",
       "    }\n",
       "\n",
       "    .dataframe tbody tr th {\n",
       "        vertical-align: top;\n",
       "    }\n",
       "\n",
       "    .dataframe thead th {\n",
       "        text-align: right;\n",
       "    }\n",
       "</style>\n",
       "<table border=\"1\" class=\"dataframe\">\n",
       "  <thead>\n",
       "    <tr style=\"text-align: right;\">\n",
       "      <th></th>\n",
       "      <th>store_id</th>\n",
       "      <th>catalog_product_id</th>\n",
       "      <th>branch_x</th>\n",
       "      <th>productbranch_id</th>\n",
       "      <th>price</th>\n",
       "      <th>branch_y</th>\n",
       "      <th>min_branch_price</th>\n",
       "      <th>avg_branch_price</th>\n",
       "      <th>max_branch_price</th>\n",
       "      <th>min_shopper_price</th>\n",
       "      <th>...</th>\n",
       "      <th>max_shopper_price</th>\n",
       "      <th>requested</th>\n",
       "      <th>found</th>\n",
       "      <th>orders</th>\n",
       "      <th>sales</th>\n",
       "      <th>fr</th>\n",
       "      <th>avg_price</th>\n",
       "      <th>mk_un</th>\n",
       "      <th>mk_p</th>\n",
       "      <th>mk_tot</th>\n",
       "    </tr>\n",
       "  </thead>\n",
       "  <tbody>\n",
       "    <tr>\n",
       "      <th>0</th>\n",
       "      <td>98</td>\n",
       "      <td>352963</td>\n",
       "      <td>916</td>\n",
       "      <td>8239069</td>\n",
       "      <td>635.0</td>\n",
       "      <td>916.0</td>\n",
       "      <td>635.0</td>\n",
       "      <td>635.0</td>\n",
       "      <td>635.0</td>\n",
       "      <td>610.0</td>\n",
       "      <td>...</td>\n",
       "      <td>610.0</td>\n",
       "      <td>2.0</td>\n",
       "      <td>2.0</td>\n",
       "      <td>2.0</td>\n",
       "      <td>1270.0</td>\n",
       "      <td>1.0</td>\n",
       "      <td>635.0</td>\n",
       "      <td>0.0</td>\n",
       "      <td>0.0</td>\n",
       "      <td>0.0</td>\n",
       "    </tr>\n",
       "    <tr>\n",
       "      <th>2</th>\n",
       "      <td>98</td>\n",
       "      <td>383601</td>\n",
       "      <td>971</td>\n",
       "      <td>8268497</td>\n",
       "      <td>164.0</td>\n",
       "      <td>971.0</td>\n",
       "      <td>164.0</td>\n",
       "      <td>164.0</td>\n",
       "      <td>164.0</td>\n",
       "      <td>164.0</td>\n",
       "      <td>...</td>\n",
       "      <td>164.0</td>\n",
       "      <td>1.0</td>\n",
       "      <td>1.0</td>\n",
       "      <td>1.0</td>\n",
       "      <td>164.0</td>\n",
       "      <td>1.0</td>\n",
       "      <td>164.0</td>\n",
       "      <td>0.0</td>\n",
       "      <td>0.0</td>\n",
       "      <td>0.0</td>\n",
       "    </tr>\n",
       "    <tr>\n",
       "      <th>3</th>\n",
       "      <td>98</td>\n",
       "      <td>140711</td>\n",
       "      <td>920</td>\n",
       "      <td>8235607</td>\n",
       "      <td>152.0</td>\n",
       "      <td>920.0</td>\n",
       "      <td>152.0</td>\n",
       "      <td>152.0</td>\n",
       "      <td>152.0</td>\n",
       "      <td>160.0</td>\n",
       "      <td>...</td>\n",
       "      <td>160.0</td>\n",
       "      <td>2.0</td>\n",
       "      <td>2.0</td>\n",
       "      <td>1.0</td>\n",
       "      <td>304.0</td>\n",
       "      <td>1.0</td>\n",
       "      <td>152.0</td>\n",
       "      <td>0.0</td>\n",
       "      <td>0.0</td>\n",
       "      <td>0.0</td>\n",
       "    </tr>\n",
       "    <tr>\n",
       "      <th>4</th>\n",
       "      <td>98</td>\n",
       "      <td>383347</td>\n",
       "      <td>950</td>\n",
       "      <td>8258469</td>\n",
       "      <td>180.0</td>\n",
       "      <td>950.0</td>\n",
       "      <td>180.0</td>\n",
       "      <td>180.0</td>\n",
       "      <td>180.0</td>\n",
       "      <td>180.0</td>\n",
       "      <td>...</td>\n",
       "      <td>180.0</td>\n",
       "      <td>1.0</td>\n",
       "      <td>1.0</td>\n",
       "      <td>1.0</td>\n",
       "      <td>180.0</td>\n",
       "      <td>1.0</td>\n",
       "      <td>180.0</td>\n",
       "      <td>0.0</td>\n",
       "      <td>0.0</td>\n",
       "      <td>0.0</td>\n",
       "    </tr>\n",
       "    <tr>\n",
       "      <th>6</th>\n",
       "      <td>98</td>\n",
       "      <td>345459</td>\n",
       "      <td>935</td>\n",
       "      <td>8226420</td>\n",
       "      <td>412.0</td>\n",
       "      <td>935.0</td>\n",
       "      <td>412.0</td>\n",
       "      <td>412.0</td>\n",
       "      <td>412.0</td>\n",
       "      <td>412.0</td>\n",
       "      <td>...</td>\n",
       "      <td>412.0</td>\n",
       "      <td>1.0</td>\n",
       "      <td>1.0</td>\n",
       "      <td>1.0</td>\n",
       "      <td>412.0</td>\n",
       "      <td>1.0</td>\n",
       "      <td>412.0</td>\n",
       "      <td>0.0</td>\n",
       "      <td>0.0</td>\n",
       "      <td>0.0</td>\n",
       "    </tr>\n",
       "  </tbody>\n",
       "</table>\n",
       "<p>5 rows × 21 columns</p>\n",
       "</div>"
      ],
      "text/plain": [
       "   store_id  catalog_product_id  branch_x  productbranch_id  price  branch_y  \\\n",
       "0        98              352963       916           8239069  635.0     916.0   \n",
       "2        98              383601       971           8268497  164.0     971.0   \n",
       "3        98              140711       920           8235607  152.0     920.0   \n",
       "4        98              383347       950           8258469  180.0     950.0   \n",
       "6        98              345459       935           8226420  412.0     935.0   \n",
       "\n",
       "   min_branch_price  avg_branch_price  max_branch_price  min_shopper_price  \\\n",
       "0             635.0             635.0             635.0              610.0   \n",
       "2             164.0             164.0             164.0              164.0   \n",
       "3             152.0             152.0             152.0              160.0   \n",
       "4             180.0             180.0             180.0              180.0   \n",
       "6             412.0             412.0             412.0              412.0   \n",
       "\n",
       "   ...  max_shopper_price  requested  found  orders   sales   fr  avg_price  \\\n",
       "0  ...              610.0        2.0    2.0     2.0  1270.0  1.0      635.0   \n",
       "2  ...              164.0        1.0    1.0     1.0   164.0  1.0      164.0   \n",
       "3  ...              160.0        2.0    2.0     1.0   304.0  1.0      152.0   \n",
       "4  ...              180.0        1.0    1.0     1.0   180.0  1.0      180.0   \n",
       "6  ...              412.0        1.0    1.0     1.0   412.0  1.0      412.0   \n",
       "\n",
       "   mk_un  mk_p  mk_tot  \n",
       "0    0.0   0.0     0.0  \n",
       "2    0.0   0.0     0.0  \n",
       "3    0.0   0.0     0.0  \n",
       "4    0.0   0.0     0.0  \n",
       "6    0.0   0.0     0.0  \n",
       "\n",
       "[5 rows x 21 columns]"
      ]
     },
     "execution_count": 15,
     "metadata": {},
     "output_type": "execute_result"
    }
   ],
   "source": [
    "good_perf = df[(~df['productbranch_id'].isin(bad_perf['productbranch_id']))&\n",
    "               (df['orders']>0)].copy()\n",
    "good_perf.to_csv(os.path.join(BASE_DIR,f'good_perf_{STORE}.csv'),index=False)\n",
    "print(good_perf['fr'].describe())\n",
    "good_perf.head()"
   ]
  },
  {
   "cell_type": "markdown",
   "id": "d9cba972",
   "metadata": {
    "heading_collapsed": true
   },
   "source": [
    "## Bulk"
   ]
  },
  {
   "cell_type": "code",
   "execution_count": 31,
   "id": "8135aa8e",
   "metadata": {
    "ExecuteTime": {
     "end_time": "2021-06-15T18:07:27.511030Z",
     "start_time": "2021-06-15T18:07:27.508541Z"
    },
    "hidden": true
   },
   "outputs": [],
   "source": [
    "#bad_perf#.to_csv(os.path.join(BASE_DIR,f'bad_performance_{STORE}.csv'),index=False)"
   ]
  },
  {
   "cell_type": "code",
   "execution_count": 16,
   "id": "c14b2199",
   "metadata": {
    "ExecuteTime": {
     "end_time": "2021-06-15T16:24:50.184925Z",
     "start_time": "2021-06-15T16:24:50.164898Z"
    },
    "hidden": true
   },
   "outputs": [
    {
     "data": {
      "text/html": [
       "<div>\n",
       "<style scoped>\n",
       "    .dataframe tbody tr th:only-of-type {\n",
       "        vertical-align: middle;\n",
       "    }\n",
       "\n",
       "    .dataframe tbody tr th {\n",
       "        vertical-align: top;\n",
       "    }\n",
       "\n",
       "    .dataframe thead th {\n",
       "        text-align: right;\n",
       "    }\n",
       "</style>\n",
       "<table border=\"1\" class=\"dataframe\">\n",
       "  <thead>\n",
       "    <tr style=\"text-align: right;\">\n",
       "      <th></th>\n",
       "      <th>store_id</th>\n",
       "      <th>product_branch_id</th>\n",
       "      <th>price</th>\n",
       "      <th>availability</th>\n",
       "      <th>schedule</th>\n",
       "    </tr>\n",
       "  </thead>\n",
       "  <tbody>\n",
       "    <tr>\n",
       "      <th>1</th>\n",
       "      <td>98</td>\n",
       "      <td>45769157</td>\n",
       "      <td></td>\n",
       "      <td></td>\n",
       "      <td></td>\n",
       "    </tr>\n",
       "    <tr>\n",
       "      <th>5</th>\n",
       "      <td>98</td>\n",
       "      <td>67376894</td>\n",
       "      <td></td>\n",
       "      <td></td>\n",
       "      <td></td>\n",
       "    </tr>\n",
       "    <tr>\n",
       "      <th>8</th>\n",
       "      <td>98</td>\n",
       "      <td>8231477</td>\n",
       "      <td></td>\n",
       "      <td></td>\n",
       "      <td></td>\n",
       "    </tr>\n",
       "    <tr>\n",
       "      <th>12</th>\n",
       "      <td>98</td>\n",
       "      <td>38194859</td>\n",
       "      <td></td>\n",
       "      <td></td>\n",
       "      <td></td>\n",
       "    </tr>\n",
       "    <tr>\n",
       "      <th>17</th>\n",
       "      <td>98</td>\n",
       "      <td>8262912</td>\n",
       "      <td></td>\n",
       "      <td></td>\n",
       "      <td></td>\n",
       "    </tr>\n",
       "  </tbody>\n",
       "</table>\n",
       "</div>"
      ],
      "text/plain": [
       "    store_id  product_branch_id price availability schedule\n",
       "1         98           45769157                            \n",
       "5         98           67376894                            \n",
       "8         98            8231477                            \n",
       "12        98           38194859                            \n",
       "17        98            8262912                            "
      ]
     },
     "execution_count": 16,
     "metadata": {},
     "output_type": "execute_result"
    }
   ],
   "source": [
    "export = bad_perf[['store_id','productbranch_id']].copy()\n",
    "export.rename(columns={'productbranch_id':'product_branch_id'},inplace=True)\n",
    "export[['price','availability','schedule']] = ''\n",
    "export.head()"
   ]
  },
  {
   "cell_type": "code",
   "execution_count": 17,
   "id": "5bee5327",
   "metadata": {
    "ExecuteTime": {
     "end_time": "2021-06-15T16:24:57.168925Z",
     "start_time": "2021-06-15T16:24:50.187000Z"
    },
    "hidden": true
   },
   "outputs": [
    {
     "name": "stdout",
     "output_type": "stream",
     "text": [
      "The file with 77239 rows has been split up into 8 batches of 10000 rows each\n"
     ]
    }
   ],
   "source": [
    "batches(BASE_DIR,STORE,export)"
   ]
  },
  {
   "cell_type": "markdown",
   "id": "dcdcd125",
   "metadata": {},
   "source": [
    "## Summary"
   ]
  },
  {
   "cell_type": "code",
   "execution_count": 18,
   "id": "8cab033a",
   "metadata": {
    "ExecuteTime": {
     "end_time": "2021-06-15T16:24:57.182039Z",
     "start_time": "2021-06-15T16:24:57.170749Z"
    },
    "scrolled": true
   },
   "outputs": [
    {
     "name": "stdout",
     "output_type": "stream",
     "text": [
      "0 minutos con 7.75 segundos\n"
     ]
    },
    {
     "data": {
      "text/html": [
       "\n",
       "                <audio  controls=\"controls\" autoplay=\"autoplay\">\n",
       "                    <source src=\"data:audio/wav;base64,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\" type=\"audio/wav\" />\n",
       "                    Your browser does not support the audio element.\n",
       "                </audio>\n",
       "              "
      ],
      "text/plain": [
       "<IPython.lib.display.Audio object>"
      ]
     },
     "execution_count": 18,
     "metadata": {},
     "output_type": "execute_result"
    }
   ],
   "source": [
    "time_exp(time.time()-start)\n",
    "tono()"
   ]
  },
  {
   "cell_type": "code",
   "execution_count": 19,
   "id": "5a9bd943",
   "metadata": {
    "ExecuteTime": {
     "end_time": "2021-06-15T16:24:57.208121Z",
     "start_time": "2021-06-15T16:24:57.186222Z"
    },
    "scrolled": true
   },
   "outputs": [
    {
     "name": "stdout",
     "output_type": "stream",
     "text": [
      "Para la tienda Alianza, los productbranch se distribuyen:    \n",
      "-Catálogo\t128740    \n",
      "-Supply\t\t131221    \n",
      "-Sin mapear\t77334\t(59.3%)    \n",
      " -Brands\t450    \n",
      " -Sin órdenes\t77200    \n",
      " -Buen perform\t87\t(FR 100.0%)    \n",
      " -Mal perform\t77238\t(FR 0.0%)    \n",
      " -Markup +-3%\t1\t(MK 15, 5.4%)    \n",
      "\n",
      "-Por desactivar\t77239\t(60.0%)    \n",
      " -Productos \t1189    \n",
      " -Órdenes\t40\t(24.8%)    \n",
      " -Ventas $ \t575\t(0.4%)\n"
     ]
    }
   ],
   "source": [
    "summary()"
   ]
  }
 ],
 "metadata": {
  "kernelspec": {
   "display_name": "Python 3",
   "language": "python",
   "name": "python3"
  },
  "language_info": {
   "codemirror_mode": {
    "name": "ipython",
    "version": 3
   },
   "file_extension": ".py",
   "mimetype": "text/x-python",
   "name": "python",
   "nbconvert_exporter": "python",
   "pygments_lexer": "ipython3",
   "version": "3.9.1"
  },
  "toc": {
   "base_numbering": 1,
   "nav_menu": {},
   "number_sections": true,
   "sideBar": true,
   "skip_h1_title": true,
   "title_cell": "Table of Contents",
   "title_sidebar": "Contents",
   "toc_cell": false,
   "toc_position": {},
   "toc_section_display": true,
   "toc_window_display": true
  },
  "varInspector": {
   "cols": {
    "lenName": 16,
    "lenType": 16,
    "lenVar": 40
   },
   "kernels_config": {
    "python": {
     "delete_cmd_postfix": "",
     "delete_cmd_prefix": "del ",
     "library": "var_list.py",
     "varRefreshCmd": "print(var_dic_list())"
    },
    "r": {
     "delete_cmd_postfix": ") ",
     "delete_cmd_prefix": "rm(",
     "library": "var_list.r",
     "varRefreshCmd": "cat(var_dic_list()) "
    }
   },
   "types_to_exclude": [
    "module",
    "function",
    "builtin_function_or_method",
    "instance",
    "_Feature"
   ],
   "window_display": false
  }
 },
 "nbformat": 4,
 "nbformat_minor": 5
}
