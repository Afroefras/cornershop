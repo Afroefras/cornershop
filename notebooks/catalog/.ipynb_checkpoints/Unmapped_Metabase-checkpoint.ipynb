{
 "cells": [
  {
   "cell_type": "markdown",
   "id": "9f4aa819",
   "metadata": {},
   "source": [
    "# Unmapped Metabase"
   ]
  },
  {
   "cell_type": "code",
   "execution_count": 1,
   "id": "e88e8efb",
   "metadata": {
    "ExecuteTime": {
     "end_time": "2021-07-07T16:19:48.793265Z",
     "start_time": "2021-07-07T16:19:48.789746Z"
    }
   },
   "outputs": [],
   "source": [
    "BASE_DIR = '/Users/efraflores/Desktop/EF/Corner/Catalog/Unmapped/data'\n",
    "STORE = 'vinoteca'"
   ]
  },
  {
   "cell_type": "markdown",
   "id": "42e2f40c",
   "metadata": {
    "heading_collapsed": true
   },
   "source": [
    "## Import"
   ]
  },
  {
   "cell_type": "code",
   "execution_count": 2,
   "id": "83dd1a1d",
   "metadata": {
    "ExecuteTime": {
     "end_time": "2021-07-07T16:19:50.008576Z",
     "start_time": "2021-07-07T16:19:50.005673Z"
    },
    "hidden": true
   },
   "outputs": [],
   "source": [
    "import sys\n",
    "sys.path.append('/Users/efraflores/Desktop/hub/cornershop/venv/lib/python3.9/site-packages')"
   ]
  },
  {
   "cell_type": "code",
   "execution_count": 3,
   "id": "0030539d",
   "metadata": {
    "ExecuteTime": {
     "end_time": "2021-07-07T16:19:51.119233Z",
     "start_time": "2021-07-07T16:19:50.482780Z"
    },
    "hidden": true
   },
   "outputs": [
    {
     "data": {
      "text/html": [
       "<div>\n",
       "<style scoped>\n",
       "    .dataframe tbody tr th:only-of-type {\n",
       "        vertical-align: middle;\n",
       "    }\n",
       "\n",
       "    .dataframe tbody tr th {\n",
       "        vertical-align: top;\n",
       "    }\n",
       "\n",
       "    .dataframe thead th {\n",
       "        text-align: right;\n",
       "    }\n",
       "</style>\n",
       "<table border=\"1\" class=\"dataframe\">\n",
       "  <thead>\n",
       "    <tr style=\"text-align: right;\">\n",
       "      <th></th>\n",
       "      <th>store_id</th>\n",
       "      <th>catalog_product_id</th>\n",
       "      <th>barcodes</th>\n",
       "      <th>branch</th>\n",
       "      <th>productbranch_id</th>\n",
       "      <th>price</th>\n",
       "    </tr>\n",
       "  </thead>\n",
       "  <tbody>\n",
       "    <tr>\n",
       "      <th>16462</th>\n",
       "      <td>97</td>\n",
       "      <td>2255860</td>\n",
       "      <td>7501005600811</td>\n",
       "      <td>904</td>\n",
       "      <td>60561833</td>\n",
       "      <td>463.0</td>\n",
       "    </tr>\n",
       "  </tbody>\n",
       "</table>\n",
       "</div>"
      ],
      "text/plain": [
       "       store_id  catalog_product_id       barcodes  branch  productbranch_id  \\\n",
       "16462        97             2255860  7501005600811     904          60561833   \n",
       "\n",
       "       price  \n",
       "16462  463.0  "
      ]
     },
     "metadata": {},
     "output_type": "display_data"
    },
    {
     "data": {
      "text/html": [
       "<div>\n",
       "<style scoped>\n",
       "    .dataframe tbody tr th:only-of-type {\n",
       "        vertical-align: middle;\n",
       "    }\n",
       "\n",
       "    .dataframe tbody tr th {\n",
       "        vertical-align: top;\n",
       "    }\n",
       "\n",
       "    .dataframe thead th {\n",
       "        text-align: right;\n",
       "    }\n",
       "</style>\n",
       "<table border=\"1\" class=\"dataframe\">\n",
       "  <thead>\n",
       "    <tr style=\"text-align: right;\">\n",
       "      <th></th>\n",
       "      <th>sku_source</th>\n",
       "      <th>supply_product_id</th>\n",
       "      <th>catalog_product_id</th>\n",
       "      <th>name</th>\n",
       "      <th>barcode</th>\n",
       "      <th>branch</th>\n",
       "      <th>price_mode</th>\n",
       "      <th>stock</th>\n",
       "      <th>min_last_visit</th>\n",
       "    </tr>\n",
       "  </thead>\n",
       "  <tbody>\n",
       "    <tr>\n",
       "      <th>804</th>\n",
       "      <td>mx-vinoteca-csv</td>\n",
       "      <td>14145012</td>\n",
       "      <td>1155877.0</td>\n",
       "      <td>Tenedor grande biodegradable</td>\n",
       "      <td>7.500463e+12</td>\n",
       "      <td>903</td>\n",
       "      <td>31.45</td>\n",
       "      <td>21</td>\n",
       "      <td>2021-07-01T01:25:29.133928Z</td>\n",
       "    </tr>\n",
       "  </tbody>\n",
       "</table>\n",
       "</div>"
      ],
      "text/plain": [
       "          sku_source  supply_product_id  catalog_product_id  \\\n",
       "804  mx-vinoteca-csv           14145012           1155877.0   \n",
       "\n",
       "                             name       barcode  branch  price_mode  stock  \\\n",
       "804  Tenedor grande biodegradable  7.500463e+12     903       31.45     21   \n",
       "\n",
       "                  min_last_visit  \n",
       "804  2021-07-01T01:25:29.133928Z  "
      ]
     },
     "metadata": {},
     "output_type": "display_data"
    }
   ],
   "source": [
    "import os\n",
    "import time\n",
    "import numpy as np\n",
    "import pandas as pd\n",
    "from IPython.lib.display import Audio\n",
    "\n",
    "prod = pd.read_csv(os.path.join(BASE_DIR,f'prod_{STORE}.csv')).drop_duplicates()\n",
    "supply = pd.read_csv(os.path.join(BASE_DIR,f'supply_{STORE}.csv')).drop_duplicates()\n",
    "\n",
    "display(prod.sample())\n",
    "display(supply.sample())"
   ]
  },
  {
   "cell_type": "markdown",
   "id": "aff6f2fc",
   "metadata": {
    "heading_collapsed": true
   },
   "source": [
    "## Functions"
   ]
  },
  {
   "cell_type": "markdown",
   "id": "21a8bba7",
   "metadata": {
    "heading_collapsed": true,
    "hidden": true
   },
   "source": [
    "### Timing and tone"
   ]
  },
  {
   "cell_type": "code",
   "execution_count": 4,
   "id": "b978950c",
   "metadata": {
    "ExecuteTime": {
     "end_time": "2021-07-07T16:19:52.860773Z",
     "start_time": "2021-07-07T16:19:52.852856Z"
    },
    "hidden": true
   },
   "outputs": [],
   "source": [
    "start = time.time()\n",
    "def time_exp(x):\n",
    "    minutes, seconds = np.floor(x/60), 60*(x/60-np.floor(x/60))\n",
    "    print(f\"{'{:.0f}'.format(minutes)} minutos con {'{:.2f}'.format(seconds)} segundos\")\n",
    "    \n",
    "def tono(a = 1000, b = 700, play_time_seconds = 1, framerate = 4410):\n",
    "    t = np.linspace(0, play_time_seconds, framerate*play_time_seconds)*np.pi\n",
    "    return Audio(np.sin(a*t) + np.sin(b*t), rate = framerate, autoplay=True)"
   ]
  },
  {
   "cell_type": "markdown",
   "id": "48d30082",
   "metadata": {
    "heading_collapsed": true,
    "hidden": true
   },
   "source": [
    "### Batches"
   ]
  },
  {
   "cell_type": "code",
   "execution_count": 5,
   "id": "9a59b262",
   "metadata": {
    "ExecuteTime": {
     "end_time": "2021-07-07T16:19:54.143758Z",
     "start_time": "2021-07-07T16:19:54.138463Z"
    },
    "hidden": true
   },
   "outputs": [],
   "source": [
    "def batches(base_dir,store,data,size=10000):\n",
    "    df = data.copy()\n",
    "    n = 0\n",
    "    for i in range(int(np.ceil(len(df)/size))):\n",
    "        batch = df.iloc[n:n+size-1,:]\n",
    "        batch.to_excel(os.path.join(base_dir,f'bulk_{store}_{str(i+1).zfill(2)}.xlsx'),index=False)\n",
    "        n += size\n",
    "    print(f'The file with {len(df)} rows has been split up into {i+1} batches of {size} rows each')"
   ]
  },
  {
   "cell_type": "markdown",
   "id": "8324cc7f",
   "metadata": {
    "heading_collapsed": true,
    "hidden": true
   },
   "source": [
    "### Summary"
   ]
  },
  {
   "cell_type": "code",
   "execution_count": 25,
   "id": "95b206a7",
   "metadata": {
    "ExecuteTime": {
     "end_time": "2021-07-07T16:28:58.696042Z",
     "start_time": "2021-07-07T16:28:58.683670Z"
    },
    "hidden": true
   },
   "outputs": [],
   "source": [
    "def summary():\n",
    "    print(f\"Para la tienda {STORE.title()}, los productbranch se distribuyen:\\\n",
    "    \\n-Catálogo\\t{len(prod)}\\\n",
    "    \\n-Supply\\t\\t{len(supply)}\\\n",
    "    \\n-Sin mapear\\t{len(unmapped)+len(brands)}\\t({'{:.1%}'.format((len(unmapped)+len(brands))/len(full))})\\\n",
    "    \\n -Brands\\t{len(branch_brands)}\\\n",
    "    \\n -Sin órdenes\\t{len(df[df['order_products']==0])}\\\n",
    "    \\n -Buen perform\\t{len(good_perf)}\\t(FR {'{:.1%}'.format(good_perf['fr'].mean())})\\\n",
    "    \\n -Mal perform\\t{len(bad_fr)}\\t(FR {'{:.1%}'.format(bad_fr['fr'].mean())})\\\n",
    "    \\n -Markup +-3%\\t{len(mk)}\\t(MK {int(mk['mk_tot'].sum())}, {'{:.1%}'.format(mk['mk_tot'].sum()/mk['sales'].sum())})\\\n",
    "    \\n\\n-Por desactivar\\t{len(bad_perf)}\\t({'{:.1%}'.format(len(bad_perf)/len(prod))})\\\n",
    "    \\n -Productos \\t{len(bad_perf.groupby('catalog_product_id')['store_id'].count())}\\\n",
    "    \\n -Orders_prod\\t{int(bad_perf['order_products'].sum())}\\t({'{:.1%}'.format(bad_perf['order_products'].sum()/total['order_products'].sum())})\\\n",
    "    \\n -Ventas\\t$ {int(bad_perf['sales'].sum())}\\t({'{:.1%}'.format(bad_perf['sales'].sum()/total['sales'].sum())})\")"
   ]
  },
  {
   "cell_type": "markdown",
   "id": "95ec3cbe",
   "metadata": {
    "heading_collapsed": true
   },
   "source": [
    "## Unmapped from prod"
   ]
  },
  {
   "cell_type": "code",
   "execution_count": 7,
   "id": "319df3fd",
   "metadata": {
    "ExecuteTime": {
     "end_time": "2021-07-07T16:19:57.816917Z",
     "start_time": "2021-07-07T16:19:57.784574Z"
    },
    "hidden": true
   },
   "outputs": [
    {
     "data": {
      "text/plain": [
       "store_id              0.000000\n",
       "catalog_product_id    0.000000\n",
       "barcodes              0.000000\n",
       "branch                0.000000\n",
       "productbranch_id      0.000000\n",
       "price                 0.000000\n",
       "sku_source            0.016657\n",
       "supply_product_id     0.016657\n",
       "name                  0.016657\n",
       "barcode               0.016657\n",
       "price_mode            0.016657\n",
       "stock                 0.016657\n",
       "min_last_visit        0.016657\n",
       "dtype: float64"
      ]
     },
     "execution_count": 7,
     "metadata": {},
     "output_type": "execute_result"
    }
   ],
   "source": [
    "full = prod.merge(supply,how='left',on=['branch','catalog_product_id'])\n",
    "full.isnull().mean()"
   ]
  },
  {
   "cell_type": "code",
   "execution_count": 8,
   "id": "500efd6d",
   "metadata": {
    "ExecuteTime": {
     "end_time": "2021-07-07T16:20:00.501663Z",
     "start_time": "2021-07-07T16:20:00.487973Z"
    },
    "hidden": true,
    "scrolled": true
   },
   "outputs": [],
   "source": [
    "unmapped = full[full['supply_product_id'].isnull()].dropna(axis=1)\n",
    "#unmapped.to_csv(os.path.join(BASE_DIR,f'check_brands_{STORE}.csv'),index=False)"
   ]
  },
  {
   "cell_type": "markdown",
   "id": "c7662899",
   "metadata": {
    "heading_collapsed": true
   },
   "source": [
    "## Brands"
   ]
  },
  {
   "cell_type": "markdown",
   "id": "911d2111",
   "metadata": {
    "hidden": true
   },
   "source": [
    "Check with @Alan Sánchez Márquez if any product_id was created by Brands"
   ]
  },
  {
   "cell_type": "code",
   "execution_count": 9,
   "id": "a5570f7f",
   "metadata": {
    "ExecuteTime": {
     "end_time": "2021-07-07T16:20:03.614809Z",
     "start_time": "2021-07-07T16:20:03.546283Z"
    },
    "hidden": true
   },
   "outputs": [
    {
     "data": {
      "text/html": [
       "<div>\n",
       "<style scoped>\n",
       "    .dataframe tbody tr th:only-of-type {\n",
       "        vertical-align: middle;\n",
       "    }\n",
       "\n",
       "    .dataframe tbody tr th {\n",
       "        vertical-align: top;\n",
       "    }\n",
       "\n",
       "    .dataframe thead th {\n",
       "        text-align: right;\n",
       "    }\n",
       "</style>\n",
       "<table border=\"1\" class=\"dataframe\">\n",
       "  <thead>\n",
       "    <tr style=\"text-align: right;\">\n",
       "      <th></th>\n",
       "      <th>Product ID</th>\n",
       "      <th>Origen</th>\n",
       "      <th>Barcode (EAN)</th>\n",
       "      <th>Nombre del producto</th>\n",
       "      <th>Marca</th>\n",
       "      <th>Package (Gramaje)</th>\n",
       "      <th>Fecha de creación</th>\n",
       "      <th>Días de vida</th>\n",
       "      <th>Precio</th>\n",
       "      <th>Store</th>\n",
       "      <th>Integración</th>\n",
       "      <th>NOTAS</th>\n",
       "      <th>Gsheet KAM</th>\n",
       "      <th>Gsheet terminado</th>\n",
       "      <th>PBI</th>\n",
       "      <th>PBI2</th>\n",
       "      <th>Status Final</th>\n",
       "    </tr>\n",
       "  </thead>\n",
       "  <tbody>\n",
       "    <tr>\n",
       "      <th>2174</th>\n",
       "      <td>568184</td>\n",
       "      <td>Editado</td>\n",
       "      <td>630509288472</td>\n",
       "      <td>NaN</td>\n",
       "      <td>NaN</td>\n",
       "      <td>NaN</td>\n",
       "      <td>17/12/2020</td>\n",
       "      <td>-194.0</td>\n",
       "      <td>$169.00</td>\n",
       "      <td>Soriana</td>\n",
       "      <td>Sin mapear</td>\n",
       "      <td>NaN</td>\n",
       "      <td>NaN</td>\n",
       "      <td>NaN</td>\n",
       "      <td>NaN</td>\n",
       "      <td>NaN</td>\n",
       "      <td>Desactivado.</td>\n",
       "    </tr>\n",
       "    <tr>\n",
       "      <th>4799</th>\n",
       "      <td>3682930</td>\n",
       "      <td>Creado</td>\n",
       "      <td>7503029963576</td>\n",
       "      <td>Vino blanco</td>\n",
       "      <td>Rivero González</td>\n",
       "      <td>750 ml</td>\n",
       "      <td>19/4/2021</td>\n",
       "      <td>-71.0</td>\n",
       "      <td>$333.00</td>\n",
       "      <td>La Comer</td>\n",
       "      <td>Sin mapear</td>\n",
       "      <td>NaN</td>\n",
       "      <td>https://docs.google.com/spreadsheets/d/1TWZHv1...</td>\n",
       "      <td>https://docs.google.com/spreadsheets/d/1UlxdBh...</td>\n",
       "      <td>NaN</td>\n",
       "      <td>NaN</td>\n",
       "      <td>Desactivado.</td>\n",
       "    </tr>\n",
       "    <tr>\n",
       "      <th>6551</th>\n",
       "      <td>3594561</td>\n",
       "      <td>Editado</td>\n",
       "      <td>7613287066893</td>\n",
       "      <td>Supreme pro 1 fórmula para lactantes</td>\n",
       "      <td>Nan</td>\n",
       "      <td>400 g</td>\n",
       "      <td>14/6/2021</td>\n",
       "      <td>-15.0</td>\n",
       "      <td>$189.00</td>\n",
       "      <td>Sumesa</td>\n",
       "      <td>Sin mapear</td>\n",
       "      <td>NaN</td>\n",
       "      <td>https://docs.google.com/spreadsheets/d/1lPcumt...</td>\n",
       "      <td>https://docs.google.com/spreadsheets/d/1xbwwiD...</td>\n",
       "      <td>NaN</td>\n",
       "      <td>NaN</td>\n",
       "      <td>NaN</td>\n",
       "    </tr>\n",
       "  </tbody>\n",
       "</table>\n",
       "</div>"
      ],
      "text/plain": [
       "     Product ID   Origen  Barcode (EAN)                   Nombre del producto  \\\n",
       "2174     568184  Editado   630509288472                                   NaN   \n",
       "4799    3682930   Creado  7503029963576                           Vino blanco   \n",
       "6551    3594561  Editado  7613287066893  Supreme pro 1 fórmula para lactantes   \n",
       "\n",
       "                Marca Package (Gramaje) Fecha de creación  Días de vida  \\\n",
       "2174              NaN               NaN        17/12/2020        -194.0   \n",
       "4799  Rivero González            750 ml         19/4/2021         -71.0   \n",
       "6551              Nan             400 g         14/6/2021         -15.0   \n",
       "\n",
       "       Precio     Store Integración NOTAS   \\\n",
       "2174  $169.00   Soriana  Sin mapear    NaN   \n",
       "4799  $333.00  La Comer  Sin mapear    NaN   \n",
       "6551  $189.00    Sumesa  Sin mapear    NaN   \n",
       "\n",
       "                                             Gsheet KAM  \\\n",
       "2174                                                NaN   \n",
       "4799  https://docs.google.com/spreadsheets/d/1TWZHv1...   \n",
       "6551  https://docs.google.com/spreadsheets/d/1lPcumt...   \n",
       "\n",
       "                                       Gsheet terminado  PBI PBI2  \\\n",
       "2174                                                NaN  NaN  NaN   \n",
       "4799  https://docs.google.com/spreadsheets/d/1UlxdBh...  NaN  NaN   \n",
       "6551  https://docs.google.com/spreadsheets/d/1xbwwiD...  NaN  NaN   \n",
       "\n",
       "      Status Final  \n",
       "2174  Desactivado.  \n",
       "4799  Desactivado.  \n",
       "6551           NaN  "
      ]
     },
     "execution_count": 9,
     "metadata": {},
     "output_type": "execute_result"
    }
   ],
   "source": [
    "brands = pd.read_csv(os.path.join(BASE_DIR,f'brands.csv'))\n",
    "brands = brands[brands['Integración']=='Sin mapear'].copy()\n",
    "brands.sample(3)"
   ]
  },
  {
   "cell_type": "code",
   "execution_count": 10,
   "id": "54217aa1",
   "metadata": {
    "ExecuteTime": {
     "end_time": "2021-07-07T16:20:05.562058Z",
     "start_time": "2021-07-07T16:20:05.543884Z"
    },
    "hidden": true
   },
   "outputs": [
    {
     "data": {
      "text/html": [
       "<div>\n",
       "<style scoped>\n",
       "    .dataframe tbody tr th:only-of-type {\n",
       "        vertical-align: middle;\n",
       "    }\n",
       "\n",
       "    .dataframe tbody tr th {\n",
       "        vertical-align: top;\n",
       "    }\n",
       "\n",
       "    .dataframe thead th {\n",
       "        text-align: right;\n",
       "    }\n",
       "</style>\n",
       "<table border=\"1\" class=\"dataframe\">\n",
       "  <thead>\n",
       "    <tr style=\"text-align: right;\">\n",
       "      <th></th>\n",
       "      <th>catalog_product_id</th>\n",
       "      <th>inactive</th>\n",
       "    </tr>\n",
       "  </thead>\n",
       "  <tbody>\n",
       "    <tr>\n",
       "      <th>2062</th>\n",
       "      <td>1137576</td>\n",
       "      <td>0</td>\n",
       "    </tr>\n",
       "    <tr>\n",
       "      <th>6770</th>\n",
       "      <td>3901599</td>\n",
       "      <td>0</td>\n",
       "    </tr>\n",
       "    <tr>\n",
       "      <th>2113</th>\n",
       "      <td>1137595</td>\n",
       "      <td>0</td>\n",
       "    </tr>\n",
       "    <tr>\n",
       "      <th>733</th>\n",
       "      <td>2721571</td>\n",
       "      <td>0</td>\n",
       "    </tr>\n",
       "  </tbody>\n",
       "</table>\n",
       "</div>"
      ],
      "text/plain": [
       "     catalog_product_id  inactive\n",
       "2062            1137576         0\n",
       "6770            3901599         0\n",
       "2113            1137595         0\n",
       "733             2721571         0"
      ]
     },
     "execution_count": 10,
     "metadata": {},
     "output_type": "execute_result"
    }
   ],
   "source": [
    "import re\n",
    "brands['inactive'] = brands['Status Final'].apply(lambda x:re.search('desac',str(x),flags=re.I)!=None)*1\n",
    "brands.rename(columns={'Product ID':'catalog_product_id'},inplace=True)\n",
    "brands = brands[(brands['Status Final'].notnull())&(brands['inactive']==0)]\n",
    "brands[['catalog_product_id','inactive']].sample(4)"
   ]
  },
  {
   "cell_type": "code",
   "execution_count": 11,
   "id": "5c5c9bf2",
   "metadata": {
    "ExecuteTime": {
     "end_time": "2021-07-07T16:20:11.386737Z",
     "start_time": "2021-07-07T16:20:11.375829Z"
    },
    "hidden": true
   },
   "outputs": [
    {
     "data": {
      "text/plain": [
       "Activo (mapeado).    39\n",
       "Reactivado.           2\n",
       "Buen FR.              1\n",
       "Store.                1\n",
       "Name: Status Final, dtype: int64"
      ]
     },
     "execution_count": 11,
     "metadata": {},
     "output_type": "execute_result"
    }
   ],
   "source": [
    "brands[brands['inactive']==0]['Status Final'].value_counts(0,dropna=False)"
   ]
  },
  {
   "cell_type": "code",
   "execution_count": 12,
   "id": "f0c493b4",
   "metadata": {
    "ExecuteTime": {
     "end_time": "2021-07-07T16:20:17.420357Z",
     "start_time": "2021-07-07T16:20:17.412579Z"
    },
    "hidden": true,
    "scrolled": true
   },
   "outputs": [],
   "source": [
    "branch_brands = unmapped[unmapped['catalog_product_id'].isin(brands['catalog_product_id'])]\n",
    "unmapped = unmapped[~unmapped['catalog_product_id'].isin(brands['catalog_product_id'])].copy()\n",
    "#','.join(set(unmapped['catalog_product_id'].dropna().astype(int).astype(str)))"
   ]
  },
  {
   "cell_type": "markdown",
   "id": "3e694c6d",
   "metadata": {
    "heading_collapsed": true
   },
   "source": [
    "## Orders from unmapped"
   ]
  },
  {
   "cell_type": "code",
   "execution_count": 14,
   "id": "3e2cb5ad",
   "metadata": {
    "ExecuteTime": {
     "end_time": "2021-07-07T16:21:02.844092Z",
     "start_time": "2021-07-07T16:21:02.814514Z"
    },
    "hidden": true
   },
   "outputs": [
    {
     "data": {
      "text/html": [
       "<div>\n",
       "<style scoped>\n",
       "    .dataframe tbody tr th:only-of-type {\n",
       "        vertical-align: middle;\n",
       "    }\n",
       "\n",
       "    .dataframe tbody tr th {\n",
       "        vertical-align: top;\n",
       "    }\n",
       "\n",
       "    .dataframe thead th {\n",
       "        text-align: right;\n",
       "    }\n",
       "</style>\n",
       "<table border=\"1\" class=\"dataframe\">\n",
       "  <thead>\n",
       "    <tr style=\"text-align: right;\">\n",
       "      <th></th>\n",
       "      <th>level</th>\n",
       "      <th>date</th>\n",
       "      <th>catalog_product_id</th>\n",
       "      <th>branch</th>\n",
       "      <th>productbranch_id</th>\n",
       "      <th>min_branch_price</th>\n",
       "      <th>avg_branch_price</th>\n",
       "      <th>max_branch_price</th>\n",
       "      <th>min_shopper_price</th>\n",
       "      <th>avg_shopper_price</th>\n",
       "      <th>max_shopper_price</th>\n",
       "      <th>requested</th>\n",
       "      <th>found</th>\n",
       "      <th>order_products</th>\n",
       "      <th>sales</th>\n",
       "    </tr>\n",
       "  </thead>\n",
       "  <tbody>\n",
       "    <tr>\n",
       "      <th>0</th>\n",
       "      <td>TOTAL</td>\n",
       "      <td>2021-06-09</td>\n",
       "      <td>0</td>\n",
       "      <td>0</td>\n",
       "      <td>0</td>\n",
       "      <td>0.0</td>\n",
       "      <td>0.0</td>\n",
       "      <td>0.0</td>\n",
       "      <td>0.0</td>\n",
       "      <td>0.0</td>\n",
       "      <td>0.0</td>\n",
       "      <td>126.0</td>\n",
       "      <td>103.0</td>\n",
       "      <td>71</td>\n",
       "      <td>46901.23</td>\n",
       "    </tr>\n",
       "    <tr>\n",
       "      <th>1</th>\n",
       "      <td>TOTAL</td>\n",
       "      <td>2021-06-10</td>\n",
       "      <td>0</td>\n",
       "      <td>0</td>\n",
       "      <td>0</td>\n",
       "      <td>0.0</td>\n",
       "      <td>0.0</td>\n",
       "      <td>0.0</td>\n",
       "      <td>0.0</td>\n",
       "      <td>0.0</td>\n",
       "      <td>0.0</td>\n",
       "      <td>145.0</td>\n",
       "      <td>131.0</td>\n",
       "      <td>87</td>\n",
       "      <td>44755.47</td>\n",
       "    </tr>\n",
       "    <tr>\n",
       "      <th>2</th>\n",
       "      <td>TOTAL</td>\n",
       "      <td>2021-06-11</td>\n",
       "      <td>0</td>\n",
       "      <td>0</td>\n",
       "      <td>0</td>\n",
       "      <td>0.0</td>\n",
       "      <td>0.0</td>\n",
       "      <td>0.0</td>\n",
       "      <td>0.0</td>\n",
       "      <td>0.0</td>\n",
       "      <td>0.0</td>\n",
       "      <td>265.0</td>\n",
       "      <td>227.0</td>\n",
       "      <td>146</td>\n",
       "      <td>82168.96</td>\n",
       "    </tr>\n",
       "    <tr>\n",
       "      <th>3</th>\n",
       "      <td>TOTAL</td>\n",
       "      <td>2021-06-12</td>\n",
       "      <td>0</td>\n",
       "      <td>0</td>\n",
       "      <td>0</td>\n",
       "      <td>0.0</td>\n",
       "      <td>0.0</td>\n",
       "      <td>0.0</td>\n",
       "      <td>0.0</td>\n",
       "      <td>0.0</td>\n",
       "      <td>0.0</td>\n",
       "      <td>362.0</td>\n",
       "      <td>317.0</td>\n",
       "      <td>171</td>\n",
       "      <td>85022.29</td>\n",
       "    </tr>\n",
       "    <tr>\n",
       "      <th>4</th>\n",
       "      <td>TOTAL</td>\n",
       "      <td>2021-06-13</td>\n",
       "      <td>0</td>\n",
       "      <td>0</td>\n",
       "      <td>0</td>\n",
       "      <td>0.0</td>\n",
       "      <td>0.0</td>\n",
       "      <td>0.0</td>\n",
       "      <td>0.0</td>\n",
       "      <td>0.0</td>\n",
       "      <td>0.0</td>\n",
       "      <td>23.0</td>\n",
       "      <td>20.0</td>\n",
       "      <td>20</td>\n",
       "      <td>7521.45</td>\n",
       "    </tr>\n",
       "  </tbody>\n",
       "</table>\n",
       "</div>"
      ],
      "text/plain": [
       "   level        date  catalog_product_id  branch  productbranch_id  \\\n",
       "0  TOTAL  2021-06-09                   0       0                 0   \n",
       "1  TOTAL  2021-06-10                   0       0                 0   \n",
       "2  TOTAL  2021-06-11                   0       0                 0   \n",
       "3  TOTAL  2021-06-12                   0       0                 0   \n",
       "4  TOTAL  2021-06-13                   0       0                 0   \n",
       "\n",
       "   min_branch_price  avg_branch_price  max_branch_price  min_shopper_price  \\\n",
       "0               0.0               0.0               0.0                0.0   \n",
       "1               0.0               0.0               0.0                0.0   \n",
       "2               0.0               0.0               0.0                0.0   \n",
       "3               0.0               0.0               0.0                0.0   \n",
       "4               0.0               0.0               0.0                0.0   \n",
       "\n",
       "   avg_shopper_price  max_shopper_price  requested  found  order_products  \\\n",
       "0                0.0                0.0      126.0  103.0              71   \n",
       "1                0.0                0.0      145.0  131.0              87   \n",
       "2                0.0                0.0      265.0  227.0             146   \n",
       "3                0.0                0.0      362.0  317.0             171   \n",
       "4                0.0                0.0       23.0   20.0              20   \n",
       "\n",
       "      sales  \n",
       "0  46901.23  \n",
       "1  44755.47  \n",
       "2  82168.96  \n",
       "3  85022.29  \n",
       "4   7521.45  "
      ]
     },
     "execution_count": 14,
     "metadata": {},
     "output_type": "execute_result"
    }
   ],
   "source": [
    "orders = pd.read_csv(os.path.join(BASE_DIR,f'orders_{STORE}.csv'))\n",
    "orders.head()"
   ]
  },
  {
   "cell_type": "code",
   "execution_count": 15,
   "id": "5f6c6343",
   "metadata": {
    "ExecuteTime": {
     "end_time": "2021-07-07T16:21:06.402911Z",
     "start_time": "2021-07-07T16:21:06.379028Z"
    },
    "hidden": true
   },
   "outputs": [
    {
     "data": {
      "text/html": [
       "<div>\n",
       "<style scoped>\n",
       "    .dataframe tbody tr th:only-of-type {\n",
       "        vertical-align: middle;\n",
       "    }\n",
       "\n",
       "    .dataframe tbody tr th {\n",
       "        vertical-align: top;\n",
       "    }\n",
       "\n",
       "    .dataframe thead th {\n",
       "        text-align: right;\n",
       "    }\n",
       "</style>\n",
       "<table border=\"1\" class=\"dataframe\">\n",
       "  <thead>\n",
       "    <tr style=\"text-align: right;\">\n",
       "      <th></th>\n",
       "      <th>requested</th>\n",
       "      <th>found</th>\n",
       "      <th>order_products</th>\n",
       "      <th>sales</th>\n",
       "      <th>fr</th>\n",
       "    </tr>\n",
       "    <tr>\n",
       "      <th>date</th>\n",
       "      <th></th>\n",
       "      <th></th>\n",
       "      <th></th>\n",
       "      <th></th>\n",
       "      <th></th>\n",
       "    </tr>\n",
       "  </thead>\n",
       "  <tbody>\n",
       "    <tr>\n",
       "      <th>2021-06-09</th>\n",
       "      <td>126.0</td>\n",
       "      <td>103.0</td>\n",
       "      <td>71</td>\n",
       "      <td>46901.23</td>\n",
       "      <td>0.817460</td>\n",
       "    </tr>\n",
       "    <tr>\n",
       "      <th>2021-06-10</th>\n",
       "      <td>145.0</td>\n",
       "      <td>131.0</td>\n",
       "      <td>87</td>\n",
       "      <td>44755.47</td>\n",
       "      <td>0.903448</td>\n",
       "    </tr>\n",
       "    <tr>\n",
       "      <th>2021-06-11</th>\n",
       "      <td>265.0</td>\n",
       "      <td>227.0</td>\n",
       "      <td>146</td>\n",
       "      <td>82168.96</td>\n",
       "      <td>0.856604</td>\n",
       "    </tr>\n",
       "    <tr>\n",
       "      <th>2021-06-12</th>\n",
       "      <td>362.0</td>\n",
       "      <td>317.0</td>\n",
       "      <td>171</td>\n",
       "      <td>85022.29</td>\n",
       "      <td>0.875691</td>\n",
       "    </tr>\n",
       "    <tr>\n",
       "      <th>2021-06-13</th>\n",
       "      <td>23.0</td>\n",
       "      <td>20.0</td>\n",
       "      <td>20</td>\n",
       "      <td>7521.45</td>\n",
       "      <td>0.869565</td>\n",
       "    </tr>\n",
       "    <tr>\n",
       "      <th>2021-06-14</th>\n",
       "      <td>171.0</td>\n",
       "      <td>165.0</td>\n",
       "      <td>61</td>\n",
       "      <td>36169.52</td>\n",
       "      <td>0.964912</td>\n",
       "    </tr>\n",
       "    <tr>\n",
       "      <th>2021-06-15</th>\n",
       "      <td>162.0</td>\n",
       "      <td>134.0</td>\n",
       "      <td>83</td>\n",
       "      <td>51848.22</td>\n",
       "      <td>0.827160</td>\n",
       "    </tr>\n",
       "    <tr>\n",
       "      <th>2021-06-16</th>\n",
       "      <td>163.0</td>\n",
       "      <td>143.0</td>\n",
       "      <td>98</td>\n",
       "      <td>67797.61</td>\n",
       "      <td>0.877301</td>\n",
       "    </tr>\n",
       "    <tr>\n",
       "      <th>2021-06-17</th>\n",
       "      <td>314.0</td>\n",
       "      <td>228.0</td>\n",
       "      <td>160</td>\n",
       "      <td>95670.40</td>\n",
       "      <td>0.726115</td>\n",
       "    </tr>\n",
       "    <tr>\n",
       "      <th>2021-06-18</th>\n",
       "      <td>445.0</td>\n",
       "      <td>402.0</td>\n",
       "      <td>256</td>\n",
       "      <td>147893.66</td>\n",
       "      <td>0.903371</td>\n",
       "    </tr>\n",
       "    <tr>\n",
       "      <th>2021-06-19</th>\n",
       "      <td>596.0</td>\n",
       "      <td>519.0</td>\n",
       "      <td>335</td>\n",
       "      <td>182560.92</td>\n",
       "      <td>0.870805</td>\n",
       "    </tr>\n",
       "    <tr>\n",
       "      <th>2021-06-20</th>\n",
       "      <td>57.0</td>\n",
       "      <td>56.0</td>\n",
       "      <td>44</td>\n",
       "      <td>25442.57</td>\n",
       "      <td>0.982456</td>\n",
       "    </tr>\n",
       "    <tr>\n",
       "      <th>2021-06-21</th>\n",
       "      <td>188.0</td>\n",
       "      <td>148.0</td>\n",
       "      <td>63</td>\n",
       "      <td>52231.54</td>\n",
       "      <td>0.787234</td>\n",
       "    </tr>\n",
       "    <tr>\n",
       "      <th>2021-06-22</th>\n",
       "      <td>193.0</td>\n",
       "      <td>166.0</td>\n",
       "      <td>116</td>\n",
       "      <td>70511.73</td>\n",
       "      <td>0.860104</td>\n",
       "    </tr>\n",
       "    <tr>\n",
       "      <th>2021-06-23</th>\n",
       "      <td>238.0</td>\n",
       "      <td>185.0</td>\n",
       "      <td>108</td>\n",
       "      <td>50345.07</td>\n",
       "      <td>0.777311</td>\n",
       "    </tr>\n",
       "    <tr>\n",
       "      <th>2021-06-24</th>\n",
       "      <td>243.0</td>\n",
       "      <td>195.0</td>\n",
       "      <td>111</td>\n",
       "      <td>60313.24</td>\n",
       "      <td>0.802469</td>\n",
       "    </tr>\n",
       "    <tr>\n",
       "      <th>2021-06-25</th>\n",
       "      <td>468.0</td>\n",
       "      <td>384.0</td>\n",
       "      <td>242</td>\n",
       "      <td>133869.44</td>\n",
       "      <td>0.820513</td>\n",
       "    </tr>\n",
       "    <tr>\n",
       "      <th>2021-06-26</th>\n",
       "      <td>381.0</td>\n",
       "      <td>361.0</td>\n",
       "      <td>210</td>\n",
       "      <td>117026.67</td>\n",
       "      <td>0.947507</td>\n",
       "    </tr>\n",
       "    <tr>\n",
       "      <th>2021-06-27</th>\n",
       "      <td>12.0</td>\n",
       "      <td>12.0</td>\n",
       "      <td>8</td>\n",
       "      <td>5459.00</td>\n",
       "      <td>1.000000</td>\n",
       "    </tr>\n",
       "    <tr>\n",
       "      <th>2021-06-28</th>\n",
       "      <td>184.0</td>\n",
       "      <td>163.0</td>\n",
       "      <td>93</td>\n",
       "      <td>71982.37</td>\n",
       "      <td>0.885870</td>\n",
       "    </tr>\n",
       "    <tr>\n",
       "      <th>2021-06-29</th>\n",
       "      <td>149.0</td>\n",
       "      <td>137.0</td>\n",
       "      <td>71</td>\n",
       "      <td>64184.73</td>\n",
       "      <td>0.919463</td>\n",
       "    </tr>\n",
       "    <tr>\n",
       "      <th>2021-06-30</th>\n",
       "      <td>116.0</td>\n",
       "      <td>100.0</td>\n",
       "      <td>43</td>\n",
       "      <td>22853.24</td>\n",
       "      <td>0.862069</td>\n",
       "    </tr>\n",
       "    <tr>\n",
       "      <th>2021-07-01</th>\n",
       "      <td>214.0</td>\n",
       "      <td>209.0</td>\n",
       "      <td>107</td>\n",
       "      <td>80070.43</td>\n",
       "      <td>0.976636</td>\n",
       "    </tr>\n",
       "    <tr>\n",
       "      <th>2021-07-02</th>\n",
       "      <td>250.0</td>\n",
       "      <td>242.0</td>\n",
       "      <td>149</td>\n",
       "      <td>73006.21</td>\n",
       "      <td>0.968000</td>\n",
       "    </tr>\n",
       "    <tr>\n",
       "      <th>2021-07-03</th>\n",
       "      <td>274.0</td>\n",
       "      <td>243.0</td>\n",
       "      <td>152</td>\n",
       "      <td>77646.06</td>\n",
       "      <td>0.886861</td>\n",
       "    </tr>\n",
       "    <tr>\n",
       "      <th>2021-07-04</th>\n",
       "      <td>19.0</td>\n",
       "      <td>18.0</td>\n",
       "      <td>12</td>\n",
       "      <td>5773.70</td>\n",
       "      <td>0.947368</td>\n",
       "    </tr>\n",
       "    <tr>\n",
       "      <th>2021-07-05</th>\n",
       "      <td>68.0</td>\n",
       "      <td>60.0</td>\n",
       "      <td>43</td>\n",
       "      <td>28052.63</td>\n",
       "      <td>0.882353</td>\n",
       "    </tr>\n",
       "    <tr>\n",
       "      <th>2021-07-06</th>\n",
       "      <td>107.0</td>\n",
       "      <td>97.0</td>\n",
       "      <td>59</td>\n",
       "      <td>29186.02</td>\n",
       "      <td>0.906542</td>\n",
       "    </tr>\n",
       "  </tbody>\n",
       "</table>\n",
       "</div>"
      ],
      "text/plain": [
       "            requested  found  order_products      sales        fr\n",
       "date                                                             \n",
       "2021-06-09      126.0  103.0              71   46901.23  0.817460\n",
       "2021-06-10      145.0  131.0              87   44755.47  0.903448\n",
       "2021-06-11      265.0  227.0             146   82168.96  0.856604\n",
       "2021-06-12      362.0  317.0             171   85022.29  0.875691\n",
       "2021-06-13       23.0   20.0              20    7521.45  0.869565\n",
       "2021-06-14      171.0  165.0              61   36169.52  0.964912\n",
       "2021-06-15      162.0  134.0              83   51848.22  0.827160\n",
       "2021-06-16      163.0  143.0              98   67797.61  0.877301\n",
       "2021-06-17      314.0  228.0             160   95670.40  0.726115\n",
       "2021-06-18      445.0  402.0             256  147893.66  0.903371\n",
       "2021-06-19      596.0  519.0             335  182560.92  0.870805\n",
       "2021-06-20       57.0   56.0              44   25442.57  0.982456\n",
       "2021-06-21      188.0  148.0              63   52231.54  0.787234\n",
       "2021-06-22      193.0  166.0             116   70511.73  0.860104\n",
       "2021-06-23      238.0  185.0             108   50345.07  0.777311\n",
       "2021-06-24      243.0  195.0             111   60313.24  0.802469\n",
       "2021-06-25      468.0  384.0             242  133869.44  0.820513\n",
       "2021-06-26      381.0  361.0             210  117026.67  0.947507\n",
       "2021-06-27       12.0   12.0               8    5459.00  1.000000\n",
       "2021-06-28      184.0  163.0              93   71982.37  0.885870\n",
       "2021-06-29      149.0  137.0              71   64184.73  0.919463\n",
       "2021-06-30      116.0  100.0              43   22853.24  0.862069\n",
       "2021-07-01      214.0  209.0             107   80070.43  0.976636\n",
       "2021-07-02      250.0  242.0             149   73006.21  0.968000\n",
       "2021-07-03      274.0  243.0             152   77646.06  0.886861\n",
       "2021-07-04       19.0   18.0              12    5773.70  0.947368\n",
       "2021-07-05       68.0   60.0              43   28052.63  0.882353\n",
       "2021-07-06      107.0   97.0              59   29186.02  0.906542"
      ]
     },
     "execution_count": 15,
     "metadata": {},
     "output_type": "execute_result"
    }
   ],
   "source": [
    "total = orders[orders['level']=='TOTAL'].set_index('date').iloc[:,-4:].copy()\n",
    "total['fr'] = total['found']/total['requested']\n",
    "total"
   ]
  },
  {
   "cell_type": "markdown",
   "id": "b795b1ee",
   "metadata": {
    "heading_collapsed": true,
    "hidden": true
   },
   "source": [
    "### Total"
   ]
  },
  {
   "cell_type": "code",
   "execution_count": 16,
   "id": "b50dd9b9",
   "metadata": {
    "ExecuteTime": {
     "end_time": "2021-07-07T16:21:17.919856Z",
     "start_time": "2021-07-07T16:21:17.870583Z"
    },
    "hidden": true
   },
   "outputs": [
    {
     "name": "stdout",
     "output_type": "stream",
     "text": [
      "count    455.000000\n",
      "mean       0.804029\n",
      "std        0.395105\n",
      "min        0.000000\n",
      "25%        1.000000\n",
      "50%        1.000000\n",
      "75%        1.000000\n",
      "max        1.000000\n",
      "Name: fr, dtype: float64\n"
     ]
    },
    {
     "data": {
      "text/html": [
       "<div>\n",
       "<style scoped>\n",
       "    .dataframe tbody tr th:only-of-type {\n",
       "        vertical-align: middle;\n",
       "    }\n",
       "\n",
       "    .dataframe tbody tr th {\n",
       "        vertical-align: top;\n",
       "    }\n",
       "\n",
       "    .dataframe thead th {\n",
       "        text-align: right;\n",
       "    }\n",
       "</style>\n",
       "<table border=\"1\" class=\"dataframe\">\n",
       "  <thead>\n",
       "    <tr style=\"text-align: right;\">\n",
       "      <th></th>\n",
       "      <th>store_id</th>\n",
       "      <th>barcodes</th>\n",
       "      <th>branch_x</th>\n",
       "      <th>productbranch_id</th>\n",
       "      <th>price</th>\n",
       "      <th>date</th>\n",
       "      <th>catalog_product_id</th>\n",
       "      <th>branch_y</th>\n",
       "      <th>min_branch_price</th>\n",
       "      <th>avg_branch_price</th>\n",
       "      <th>max_branch_price</th>\n",
       "      <th>min_shopper_price</th>\n",
       "      <th>avg_shopper_price</th>\n",
       "      <th>max_shopper_price</th>\n",
       "      <th>requested</th>\n",
       "      <th>found</th>\n",
       "      <th>order_products</th>\n",
       "      <th>sales</th>\n",
       "      <th>fr</th>\n",
       "    </tr>\n",
       "  </thead>\n",
       "  <tbody>\n",
       "    <tr>\n",
       "      <th>0</th>\n",
       "      <td>97</td>\n",
       "      <td>5011013100156</td>\n",
       "      <td>893</td>\n",
       "      <td>45768796</td>\n",
       "      <td>317.00</td>\n",
       "      <td>2021-06-19</td>\n",
       "      <td>1993289.0</td>\n",
       "      <td>893.0</td>\n",
       "      <td>317.00</td>\n",
       "      <td>317.00</td>\n",
       "      <td>317.00</td>\n",
       "      <td>317.00</td>\n",
       "      <td>326.333333</td>\n",
       "      <td>345.00</td>\n",
       "      <td>3.0</td>\n",
       "      <td>3.0</td>\n",
       "      <td>3.0</td>\n",
       "      <td>951.00</td>\n",
       "      <td>1.0</td>\n",
       "    </tr>\n",
       "    <tr>\n",
       "      <th>1</th>\n",
       "      <td>97</td>\n",
       "      <td>5011013100132</td>\n",
       "      <td>893</td>\n",
       "      <td>45797034</td>\n",
       "      <td>318.90</td>\n",
       "      <td>2021-06-26</td>\n",
       "      <td>1897939.0</td>\n",
       "      <td>893.0</td>\n",
       "      <td>318.90</td>\n",
       "      <td>318.90</td>\n",
       "      <td>318.90</td>\n",
       "      <td>318.90</td>\n",
       "      <td>318.900000</td>\n",
       "      <td>318.90</td>\n",
       "      <td>4.0</td>\n",
       "      <td>4.0</td>\n",
       "      <td>3.0</td>\n",
       "      <td>1275.60</td>\n",
       "      <td>1.0</td>\n",
       "    </tr>\n",
       "    <tr>\n",
       "      <th>2</th>\n",
       "      <td>97</td>\n",
       "      <td>5011013100132</td>\n",
       "      <td>893</td>\n",
       "      <td>45797034</td>\n",
       "      <td>318.90</td>\n",
       "      <td>2021-06-24</td>\n",
       "      <td>1897939.0</td>\n",
       "      <td>893.0</td>\n",
       "      <td>318.90</td>\n",
       "      <td>318.90</td>\n",
       "      <td>318.90</td>\n",
       "      <td>318.90</td>\n",
       "      <td>331.950000</td>\n",
       "      <td>345.00</td>\n",
       "      <td>2.0</td>\n",
       "      <td>2.0</td>\n",
       "      <td>2.0</td>\n",
       "      <td>637.80</td>\n",
       "      <td>1.0</td>\n",
       "    </tr>\n",
       "    <tr>\n",
       "      <th>3</th>\n",
       "      <td>97</td>\n",
       "      <td>7503002087206</td>\n",
       "      <td>893</td>\n",
       "      <td>8538019</td>\n",
       "      <td>398.97</td>\n",
       "      <td>2021-06-19</td>\n",
       "      <td>389004.0</td>\n",
       "      <td>893.0</td>\n",
       "      <td>398.97</td>\n",
       "      <td>398.97</td>\n",
       "      <td>398.97</td>\n",
       "      <td>398.97</td>\n",
       "      <td>398.970000</td>\n",
       "      <td>398.97</td>\n",
       "      <td>2.0</td>\n",
       "      <td>2.0</td>\n",
       "      <td>2.0</td>\n",
       "      <td>797.94</td>\n",
       "      <td>1.0</td>\n",
       "    </tr>\n",
       "    <tr>\n",
       "      <th>4</th>\n",
       "      <td>97</td>\n",
       "      <td>5000267117201</td>\n",
       "      <td>910</td>\n",
       "      <td>50875187</td>\n",
       "      <td>946.90</td>\n",
       "      <td>2021-06-18</td>\n",
       "      <td>2065172.0</td>\n",
       "      <td>910.0</td>\n",
       "      <td>946.90</td>\n",
       "      <td>946.90</td>\n",
       "      <td>946.90</td>\n",
       "      <td>722.25</td>\n",
       "      <td>834.575000</td>\n",
       "      <td>946.90</td>\n",
       "      <td>5.0</td>\n",
       "      <td>5.0</td>\n",
       "      <td>2.0</td>\n",
       "      <td>4734.50</td>\n",
       "      <td>1.0</td>\n",
       "    </tr>\n",
       "  </tbody>\n",
       "</table>\n",
       "</div>"
      ],
      "text/plain": [
       "   store_id       barcodes  branch_x  productbranch_id   price        date  \\\n",
       "0        97  5011013100156       893          45768796  317.00  2021-06-19   \n",
       "1        97  5011013100132       893          45797034  318.90  2021-06-26   \n",
       "2        97  5011013100132       893          45797034  318.90  2021-06-24   \n",
       "3        97  7503002087206       893           8538019  398.97  2021-06-19   \n",
       "4        97  5000267117201       910          50875187  946.90  2021-06-18   \n",
       "\n",
       "   catalog_product_id  branch_y  min_branch_price  avg_branch_price  \\\n",
       "0           1993289.0     893.0            317.00            317.00   \n",
       "1           1897939.0     893.0            318.90            318.90   \n",
       "2           1897939.0     893.0            318.90            318.90   \n",
       "3            389004.0     893.0            398.97            398.97   \n",
       "4           2065172.0     910.0            946.90            946.90   \n",
       "\n",
       "   max_branch_price  min_shopper_price  avg_shopper_price  max_shopper_price  \\\n",
       "0            317.00             317.00         326.333333             345.00   \n",
       "1            318.90             318.90         318.900000             318.90   \n",
       "2            318.90             318.90         331.950000             345.00   \n",
       "3            398.97             398.97         398.970000             398.97   \n",
       "4            946.90             722.25         834.575000             946.90   \n",
       "\n",
       "   requested  found  order_products    sales   fr  \n",
       "0        3.0    3.0             3.0   951.00  1.0  \n",
       "1        4.0    4.0             3.0  1275.60  1.0  \n",
       "2        2.0    2.0             2.0   637.80  1.0  \n",
       "3        2.0    2.0             2.0   797.94  1.0  \n",
       "4        5.0    5.0             2.0  4734.50  1.0  "
      ]
     },
     "execution_count": 16,
     "metadata": {},
     "output_type": "execute_result"
    }
   ],
   "source": [
    "df = unmapped.set_index('catalog_product_id').merge(orders.iloc[:,1:],on='productbranch_id',how='left').fillna(0)\n",
    "df = df[~df['catalog_product_id'].isin(brands['catalog_product_id'])].copy()\n",
    "df = df.sort_values('order_products',0,0).reset_index(drop=True)\n",
    "df['fr'] = (df['found']/(df['requested']+1e-10)).apply(lambda x: min(1,x))\n",
    "print(df['fr'].describe())\n",
    "df.head()"
   ]
  },
  {
   "cell_type": "markdown",
   "id": "2d6679ee",
   "metadata": {
    "ExecuteTime": {
     "end_time": "2021-06-08T16:35:09.822906Z",
     "start_time": "2021-06-08T16:35:09.809363Z"
    },
    "heading_collapsed": true,
    "hidden": true
   },
   "source": [
    "### Bad performance"
   ]
  },
  {
   "cell_type": "markdown",
   "id": "a9af711e",
   "metadata": {
    "hidden": true
   },
   "source": [
    "BULK TOOL\n",
    "\n",
    "<https://cornershopapp.com/catalog/dashboard/bulk_update/product_branches/>"
   ]
  },
  {
   "cell_type": "code",
   "execution_count": 17,
   "id": "af6aca7b",
   "metadata": {
    "ExecuteTime": {
     "end_time": "2021-07-07T16:21:27.867062Z",
     "start_time": "2021-07-07T16:21:27.843767Z"
    },
    "hidden": true
   },
   "outputs": [],
   "source": [
    "df['catalog_product_id'] = df['catalog_product_id'].astype(int).astype(str)\n",
    "df = df.groupby(['store_id','productbranch_id',\n",
    "                 'catalog_product_id']).agg({'price':'median','requested':sum,\n",
    "                                             'found':sum,'sales':sum,\n",
    "                                             'order_products':sum}).reset_index()"
   ]
  },
  {
   "cell_type": "code",
   "execution_count": 18,
   "id": "6dc470ed",
   "metadata": {
    "ExecuteTime": {
     "end_time": "2021-07-07T16:21:28.531943Z",
     "start_time": "2021-07-07T16:21:28.494045Z"
    },
    "hidden": true
   },
   "outputs": [
    {
     "name": "stdout",
     "output_type": "stream",
     "text": [
      "count    72.000000\n",
      "mean      0.035995\n",
      "std       0.160623\n",
      "min       0.000000\n",
      "25%       0.000000\n",
      "50%       0.000000\n",
      "75%       0.000000\n",
      "max       1.000000\n",
      "Name: fr, dtype: float64\n"
     ]
    },
    {
     "data": {
      "text/html": [
       "<div>\n",
       "<style scoped>\n",
       "    .dataframe tbody tr th:only-of-type {\n",
       "        vertical-align: middle;\n",
       "    }\n",
       "\n",
       "    .dataframe tbody tr th {\n",
       "        vertical-align: top;\n",
       "    }\n",
       "\n",
       "    .dataframe thead th {\n",
       "        text-align: right;\n",
       "    }\n",
       "</style>\n",
       "<table border=\"1\" class=\"dataframe\">\n",
       "  <thead>\n",
       "    <tr style=\"text-align: right;\">\n",
       "      <th></th>\n",
       "      <th>store_id</th>\n",
       "      <th>productbranch_id</th>\n",
       "      <th>catalog_product_id</th>\n",
       "      <th>price</th>\n",
       "      <th>requested</th>\n",
       "      <th>found</th>\n",
       "      <th>sales</th>\n",
       "      <th>order_products</th>\n",
       "      <th>fr</th>\n",
       "      <th>avg_price</th>\n",
       "      <th>mk_un</th>\n",
       "      <th>mk_p</th>\n",
       "      <th>mk_tot</th>\n",
       "    </tr>\n",
       "  </thead>\n",
       "  <tbody>\n",
       "    <tr>\n",
       "      <th>0</th>\n",
       "      <td>97</td>\n",
       "      <td>8270813</td>\n",
       "      <td>0</td>\n",
       "      <td>368.05</td>\n",
       "      <td>0.0</td>\n",
       "      <td>0.0</td>\n",
       "      <td>0.0</td>\n",
       "      <td>0.0</td>\n",
       "      <td>0.000000</td>\n",
       "      <td>NaN</td>\n",
       "      <td>NaN</td>\n",
       "      <td>NaN</td>\n",
       "      <td>0.0</td>\n",
       "    </tr>\n",
       "    <tr>\n",
       "      <th>4</th>\n",
       "      <td>97</td>\n",
       "      <td>8273497</td>\n",
       "      <td>0</td>\n",
       "      <td>449.00</td>\n",
       "      <td>0.0</td>\n",
       "      <td>0.0</td>\n",
       "      <td>0.0</td>\n",
       "      <td>0.0</td>\n",
       "      <td>0.000000</td>\n",
       "      <td>NaN</td>\n",
       "      <td>NaN</td>\n",
       "      <td>NaN</td>\n",
       "      <td>0.0</td>\n",
       "    </tr>\n",
       "    <tr>\n",
       "      <th>5</th>\n",
       "      <td>97</td>\n",
       "      <td>8274573</td>\n",
       "      <td>0</td>\n",
       "      <td>239.00</td>\n",
       "      <td>0.0</td>\n",
       "      <td>0.0</td>\n",
       "      <td>0.0</td>\n",
       "      <td>0.0</td>\n",
       "      <td>0.000000</td>\n",
       "      <td>NaN</td>\n",
       "      <td>NaN</td>\n",
       "      <td>NaN</td>\n",
       "      <td>0.0</td>\n",
       "    </tr>\n",
       "    <tr>\n",
       "      <th>10</th>\n",
       "      <td>97</td>\n",
       "      <td>8276019</td>\n",
       "      <td>384313</td>\n",
       "      <td>255.00</td>\n",
       "      <td>3.0</td>\n",
       "      <td>2.0</td>\n",
       "      <td>510.0</td>\n",
       "      <td>3.0</td>\n",
       "      <td>0.666667</td>\n",
       "      <td>255.0</td>\n",
       "      <td>0.0</td>\n",
       "      <td>0.0</td>\n",
       "      <td>0.0</td>\n",
       "    </tr>\n",
       "    <tr>\n",
       "      <th>12</th>\n",
       "      <td>97</td>\n",
       "      <td>8276104</td>\n",
       "      <td>0</td>\n",
       "      <td>475.00</td>\n",
       "      <td>0.0</td>\n",
       "      <td>0.0</td>\n",
       "      <td>0.0</td>\n",
       "      <td>0.0</td>\n",
       "      <td>0.000000</td>\n",
       "      <td>NaN</td>\n",
       "      <td>NaN</td>\n",
       "      <td>NaN</td>\n",
       "      <td>0.0</td>\n",
       "    </tr>\n",
       "  </tbody>\n",
       "</table>\n",
       "</div>"
      ],
      "text/plain": [
       "    store_id  productbranch_id catalog_product_id   price  requested  found  \\\n",
       "0         97           8270813                  0  368.05        0.0    0.0   \n",
       "4         97           8273497                  0  449.00        0.0    0.0   \n",
       "5         97           8274573                  0  239.00        0.0    0.0   \n",
       "10        97           8276019             384313  255.00        3.0    2.0   \n",
       "12        97           8276104                  0  475.00        0.0    0.0   \n",
       "\n",
       "    sales  order_products        fr  avg_price  mk_un  mk_p  mk_tot  \n",
       "0     0.0             0.0  0.000000        NaN    NaN   NaN     0.0  \n",
       "4     0.0             0.0  0.000000        NaN    NaN   NaN     0.0  \n",
       "5     0.0             0.0  0.000000        NaN    NaN   NaN     0.0  \n",
       "10  510.0             3.0  0.666667      255.0    0.0   0.0     0.0  \n",
       "12    0.0             0.0  0.000000        NaN    NaN   NaN     0.0  "
      ]
     },
     "execution_count": 18,
     "metadata": {},
     "output_type": "execute_result"
    }
   ],
   "source": [
    "df['fr'] = (df['found'] / (df['requested']+1e-10)).apply(lambda x: min(x,1))\n",
    "df['avg_price'] = df['sales'] / df['found']\n",
    "df['mk_un'] = df['avg_price'] - df['price']\n",
    "df['mk_p'] = df['mk_un'] / df['avg_price']\n",
    "df['mk_tot'] = df['sales'] - df['price']*df['found']\n",
    "bad_fr = df[(df['fr']<=total['fr'][0]*.9)\n",
    "            #&(df['orders']>0)\n",
    "           ].copy()\n",
    "mk = df[(df['mk_p']<-.03)|(df['mk_p']>.03)].copy()\n",
    "bad_perf = bad_fr.append(mk)\n",
    "print(bad_perf['fr'].describe())\n",
    "bad_perf.head()"
   ]
  },
  {
   "cell_type": "markdown",
   "id": "acbb301d",
   "metadata": {
    "heading_collapsed": true,
    "hidden": true
   },
   "source": [
    "### Good performance"
   ]
  },
  {
   "cell_type": "markdown",
   "id": "4ef37c6d",
   "metadata": {
    "hidden": true
   },
   "source": [
    "Ask the KAM to talk to the partner in order to activate that product"
   ]
  },
  {
   "cell_type": "code",
   "execution_count": 19,
   "id": "87f5a6f9",
   "metadata": {
    "ExecuteTime": {
     "end_time": "2021-07-07T16:21:36.661627Z",
     "start_time": "2021-07-07T16:21:36.616049Z"
    },
    "hidden": true,
    "scrolled": true
   },
   "outputs": [
    {
     "name": "stdout",
     "output_type": "stream",
     "text": [
      "count    196.000000\n",
      "mean       0.997874\n",
      "std        0.021411\n",
      "min        0.750000\n",
      "25%        1.000000\n",
      "50%        1.000000\n",
      "75%        1.000000\n",
      "max        1.000000\n",
      "Name: fr, dtype: float64\n"
     ]
    },
    {
     "data": {
      "text/html": [
       "<div>\n",
       "<style scoped>\n",
       "    .dataframe tbody tr th:only-of-type {\n",
       "        vertical-align: middle;\n",
       "    }\n",
       "\n",
       "    .dataframe tbody tr th {\n",
       "        vertical-align: top;\n",
       "    }\n",
       "\n",
       "    .dataframe thead th {\n",
       "        text-align: right;\n",
       "    }\n",
       "</style>\n",
       "<table border=\"1\" class=\"dataframe\">\n",
       "  <thead>\n",
       "    <tr style=\"text-align: right;\">\n",
       "      <th></th>\n",
       "      <th>store_id</th>\n",
       "      <th>productbranch_id</th>\n",
       "      <th>catalog_product_id</th>\n",
       "      <th>price</th>\n",
       "      <th>requested</th>\n",
       "      <th>found</th>\n",
       "      <th>sales</th>\n",
       "      <th>order_products</th>\n",
       "      <th>fr</th>\n",
       "      <th>avg_price</th>\n",
       "      <th>mk_un</th>\n",
       "      <th>mk_p</th>\n",
       "      <th>mk_tot</th>\n",
       "    </tr>\n",
       "  </thead>\n",
       "  <tbody>\n",
       "    <tr>\n",
       "      <th>1</th>\n",
       "      <td>97</td>\n",
       "      <td>8270821</td>\n",
       "      <td>383784</td>\n",
       "      <td>349.0</td>\n",
       "      <td>5.0</td>\n",
       "      <td>5.0</td>\n",
       "      <td>1745.0</td>\n",
       "      <td>1.0</td>\n",
       "      <td>1.0</td>\n",
       "      <td>349.0</td>\n",
       "      <td>0.0</td>\n",
       "      <td>0.0</td>\n",
       "      <td>0.0</td>\n",
       "    </tr>\n",
       "    <tr>\n",
       "      <th>2</th>\n",
       "      <td>97</td>\n",
       "      <td>8271382</td>\n",
       "      <td>383678</td>\n",
       "      <td>249.0</td>\n",
       "      <td>1.0</td>\n",
       "      <td>1.0</td>\n",
       "      <td>249.0</td>\n",
       "      <td>1.0</td>\n",
       "      <td>1.0</td>\n",
       "      <td>249.0</td>\n",
       "      <td>0.0</td>\n",
       "      <td>0.0</td>\n",
       "      <td>0.0</td>\n",
       "    </tr>\n",
       "    <tr>\n",
       "      <th>3</th>\n",
       "      <td>97</td>\n",
       "      <td>8273287</td>\n",
       "      <td>384249</td>\n",
       "      <td>266.0</td>\n",
       "      <td>6.0</td>\n",
       "      <td>6.0</td>\n",
       "      <td>1596.0</td>\n",
       "      <td>2.0</td>\n",
       "      <td>1.0</td>\n",
       "      <td>266.0</td>\n",
       "      <td>0.0</td>\n",
       "      <td>0.0</td>\n",
       "      <td>0.0</td>\n",
       "    </tr>\n",
       "    <tr>\n",
       "      <th>6</th>\n",
       "      <td>97</td>\n",
       "      <td>8275382</td>\n",
       "      <td>383676</td>\n",
       "      <td>1229.8</td>\n",
       "      <td>1.0</td>\n",
       "      <td>1.0</td>\n",
       "      <td>1229.8</td>\n",
       "      <td>1.0</td>\n",
       "      <td>1.0</td>\n",
       "      <td>1229.8</td>\n",
       "      <td>0.0</td>\n",
       "      <td>0.0</td>\n",
       "      <td>0.0</td>\n",
       "    </tr>\n",
       "    <tr>\n",
       "      <th>7</th>\n",
       "      <td>97</td>\n",
       "      <td>8275426</td>\n",
       "      <td>383720</td>\n",
       "      <td>599.0</td>\n",
       "      <td>1.0</td>\n",
       "      <td>1.0</td>\n",
       "      <td>599.0</td>\n",
       "      <td>1.0</td>\n",
       "      <td>1.0</td>\n",
       "      <td>599.0</td>\n",
       "      <td>0.0</td>\n",
       "      <td>0.0</td>\n",
       "      <td>0.0</td>\n",
       "    </tr>\n",
       "  </tbody>\n",
       "</table>\n",
       "</div>"
      ],
      "text/plain": [
       "   store_id  productbranch_id catalog_product_id   price  requested  found  \\\n",
       "1        97           8270821             383784   349.0        5.0    5.0   \n",
       "2        97           8271382             383678   249.0        1.0    1.0   \n",
       "3        97           8273287             384249   266.0        6.0    6.0   \n",
       "6        97           8275382             383676  1229.8        1.0    1.0   \n",
       "7        97           8275426             383720   599.0        1.0    1.0   \n",
       "\n",
       "    sales  order_products   fr  avg_price  mk_un  mk_p  mk_tot  \n",
       "1  1745.0             1.0  1.0      349.0    0.0   0.0     0.0  \n",
       "2   249.0             1.0  1.0      249.0    0.0   0.0     0.0  \n",
       "3  1596.0             2.0  1.0      266.0    0.0   0.0     0.0  \n",
       "6  1229.8             1.0  1.0     1229.8    0.0   0.0     0.0  \n",
       "7   599.0             1.0  1.0      599.0    0.0   0.0     0.0  "
      ]
     },
     "execution_count": 19,
     "metadata": {},
     "output_type": "execute_result"
    }
   ],
   "source": [
    "good_perf = df[(~df['productbranch_id'].isin(bad_perf['productbranch_id']))&\n",
    "               (df['order_products']>0)].copy()\n",
    "good_perf.to_csv(os.path.join(BASE_DIR,f'good_perf_{STORE}.csv'),index=False)\n",
    "print(good_perf['fr'].describe())\n",
    "good_perf.head()"
   ]
  },
  {
   "cell_type": "markdown",
   "id": "d9cba972",
   "metadata": {
    "heading_collapsed": true
   },
   "source": [
    "## Bulk"
   ]
  },
  {
   "cell_type": "code",
   "execution_count": 20,
   "id": "8135aa8e",
   "metadata": {
    "ExecuteTime": {
     "end_time": "2021-07-07T16:21:53.051455Z",
     "start_time": "2021-07-07T16:21:53.044176Z"
    },
    "hidden": true
   },
   "outputs": [],
   "source": [
    "bad_perf.to_csv(os.path.join(BASE_DIR,f'bad_performance_{STORE}.csv'),index=False)"
   ]
  },
  {
   "cell_type": "code",
   "execution_count": 21,
   "id": "c14b2199",
   "metadata": {
    "ExecuteTime": {
     "end_time": "2021-07-07T16:21:53.684477Z",
     "start_time": "2021-07-07T16:21:53.672042Z"
    },
    "hidden": true
   },
   "outputs": [
    {
     "data": {
      "text/html": [
       "<div>\n",
       "<style scoped>\n",
       "    .dataframe tbody tr th:only-of-type {\n",
       "        vertical-align: middle;\n",
       "    }\n",
       "\n",
       "    .dataframe tbody tr th {\n",
       "        vertical-align: top;\n",
       "    }\n",
       "\n",
       "    .dataframe thead th {\n",
       "        text-align: right;\n",
       "    }\n",
       "</style>\n",
       "<table border=\"1\" class=\"dataframe\">\n",
       "  <thead>\n",
       "    <tr style=\"text-align: right;\">\n",
       "      <th></th>\n",
       "      <th>store_id</th>\n",
       "      <th>product_branch_id</th>\n",
       "      <th>price</th>\n",
       "      <th>availability</th>\n",
       "      <th>schedule</th>\n",
       "    </tr>\n",
       "  </thead>\n",
       "  <tbody>\n",
       "    <tr>\n",
       "      <th>0</th>\n",
       "      <td>97</td>\n",
       "      <td>8270813</td>\n",
       "      <td></td>\n",
       "      <td>UNAVAILABLE</td>\n",
       "      <td></td>\n",
       "    </tr>\n",
       "    <tr>\n",
       "      <th>4</th>\n",
       "      <td>97</td>\n",
       "      <td>8273497</td>\n",
       "      <td></td>\n",
       "      <td>UNAVAILABLE</td>\n",
       "      <td></td>\n",
       "    </tr>\n",
       "    <tr>\n",
       "      <th>5</th>\n",
       "      <td>97</td>\n",
       "      <td>8274573</td>\n",
       "      <td></td>\n",
       "      <td>UNAVAILABLE</td>\n",
       "      <td></td>\n",
       "    </tr>\n",
       "    <tr>\n",
       "      <th>10</th>\n",
       "      <td>97</td>\n",
       "      <td>8276019</td>\n",
       "      <td></td>\n",
       "      <td>UNAVAILABLE</td>\n",
       "      <td></td>\n",
       "    </tr>\n",
       "    <tr>\n",
       "      <th>12</th>\n",
       "      <td>97</td>\n",
       "      <td>8276104</td>\n",
       "      <td></td>\n",
       "      <td>UNAVAILABLE</td>\n",
       "      <td></td>\n",
       "    </tr>\n",
       "  </tbody>\n",
       "</table>\n",
       "</div>"
      ],
      "text/plain": [
       "    store_id  product_branch_id price availability schedule\n",
       "0         97            8270813        UNAVAILABLE         \n",
       "4         97            8273497        UNAVAILABLE         \n",
       "5         97            8274573        UNAVAILABLE         \n",
       "10        97            8276019        UNAVAILABLE         \n",
       "12        97            8276104        UNAVAILABLE         "
      ]
     },
     "execution_count": 21,
     "metadata": {},
     "output_type": "execute_result"
    }
   ],
   "source": [
    "export = bad_perf[['store_id','productbranch_id']].copy().drop_duplicates()\n",
    "export.rename(columns={'productbranch_id':'product_branch_id'},inplace=True)\n",
    "export['price'] = ''\n",
    "export['availability'] = 'UNAVAILABLE'\n",
    "export['schedule'] = ''\n",
    "export.head()"
   ]
  },
  {
   "cell_type": "markdown",
   "id": "dcdcd125",
   "metadata": {},
   "source": [
    "## Summary"
   ]
  },
  {
   "cell_type": "code",
   "execution_count": 22,
   "id": "5bee5327",
   "metadata": {
    "ExecuteTime": {
     "end_time": "2021-07-07T16:21:56.710764Z",
     "start_time": "2021-07-07T16:21:56.282709Z"
    }
   },
   "outputs": [
    {
     "name": "stdout",
     "output_type": "stream",
     "text": [
      "The file with 72 rows has been split up into 1 batches of 10000 rows each\n"
     ]
    }
   ],
   "source": [
    "batches(BASE_DIR,STORE,export)"
   ]
  },
  {
   "cell_type": "code",
   "execution_count": 23,
   "id": "8cab033a",
   "metadata": {
    "ExecuteTime": {
     "end_time": "2021-07-07T16:21:58.910915Z",
     "start_time": "2021-07-07T16:21:58.866632Z"
    },
    "scrolled": true
   },
   "outputs": [
    {
     "name": "stdout",
     "output_type": "stream",
     "text": [
      "2 minutos con 6.01 segundos\n"
     ]
    },
    {
     "data": {
      "text/html": [
       "\n",
       "                <audio  controls=\"controls\" autoplay=\"autoplay\">\n",
       "                    <source src=\"data:audio/wav;base64,UklGRpgiAABXQVZFZm10IBAAAAABAAEAOhEAAHQiAAACABAAZGF0YXQiAAAAAMFIk3VMdgdNgQxRzyKsaKylyRzyThJvHiwXwAed/rAE+Bc/LL0xNx7S89DBdZ6ynH7CtQS9SqR4OHufUGAJXsHtk2qQYrTI7eEjhEJoQtYqWAx09zT0xP6iCnsKgviu2oPARLt21IcHLEKsa/lvb0lnBM+6X4ljg3uqIu4bM1NfumRKRjoVBOjOz0HR/uOT+IQBvPpu66nh4en/BkwvDlBzVmw5if+bvWSO2YZwrAXyAT2EcJR541apGO/Y6K/XqfTC7erNDd8dgRl1CkT/ZwL5E0ApbzKrI5r8Z8rFoguaDLmu9yc/N3NMfhhbIhcPzTyZ0o2mq/nibRtDP4pEIDCIEf35gfNY/A4JzQvz/E/gIcQTuq7NG/0pOINmcHI0UwcSDMdrj+2Ap6AC4d4nClq2ZsZNaR737jjSVc8C4G71GwHt/DfuXeLG5n0A/yeiS9dXL0FKC9zIaJTJhLOiOOR3MAhqZXvTX8YkUuPctFCowbyP46gInRx5G0wNaQCeABwQ2iVTMkso/gRV0xyoupirsPTq6zJrbNJ/eGSwJIDZ5p+cjMSjMdhFEvo6z0UVNfcWHf1V8w36IgeFDOkA8eVZyOK518cV87otM2Bzc9ZbUh/w09mWA4DrlxnU7ht+U29ng1SbJ4z2gdUSzi3c8vElAMH+GfGe42XkdvqTIG9GD1jlR58WlNSomz+EKJrI1k0jM2K0e7ZnrTBa7vS65qcrtx/c7AKjGgEdMRACAlz/eAwlInUxESzlDHncYq67mHKpsN40Jlhkx3+fbNwxiebap9KM3JyYzYUIrzUnRpk5jhzJALrz+vf0BKgMWAR66xLNpbr+wpXpByPYWAdzOmMdLE3hjp+qgGaQk8dwD79L2mZjWqwwr/6o2YjNmNgy7qj+KAD681rlveL79CcZj0AkV31NYiGZ4AekOoXqkuDJrhUdWX16bW41POT5JMKiqE2yvdSs/PAXBh4KEwEEpf4hCTwe5C/2LjUUruV4tQWadKML0y0ZG1ssfnJzez7/8wGxe44Ml1TDTv5rL4VFkD0zIvgEtvQz9pcCPww2B9DwMdJOvCq/uuA4GJFQMnFMaT04+O5vqeKCM4qcu44C4ULyZEhfdzlCB6jexs1d1UPqpfwWAcX2fufL4R3w2xEgOiVV61FxK8DsZK2zhw+Nq73HB+JOv3fdczVHygVZyo2qQq6Hzfv1gxR2HsEVVgZ6/igGNhq0Lfww2BrS7j69jJy+ninIAwzXUAh72nhiSrYBQLuVkW6Sjbm/8z0o4EPhQMsnmglO9sz0IwBWC3sJ3PWY18y+X7yd2HENgEcBbvxtjUPC/Fm0o4ZphVywc/X/OLNhGmPbQSwQduTYzpTSPeYm+oMBY/n06Yfh6evJCkIzIlIqVa803/ict56Lp4hSssf5o0OBc+93g1HmEX3Tqq0kq57G8u5jEEUeQBjuCNf+nAMuFvgqJjK9IMT3lMU+oFqbK77k/q5FZ3bHfGdVgQ92xh2WGI9nsPzoNyAzQXVDOS2dDoL41fOu/foJJAuK+izdCcKdulbR2wLJPYdpP3HpTX0KKMDiixqC/KVJ6DUuI13DZbNJTBkF68XQU9A24jn3ZwHA+6fs5uFp6A0EEywxTjdXAD3NBIrC6JC+hfin2+uFN85tknr7Wg8edt33sQepIsCq55cLZh1uGrULuP+LATwSyCd8MtQlYgBWzgWlS5kwtfrxyTlbcCp/Z18xHYHSCJwcjQioK95wF3w9N0VgMuwTT/td8037PQgyDMb+0eLvxd6598qY+JEz12MRczBX/Re1zI6SU4ChnDzboyJIVzFn3lCBIkPyktOvzkje6/O/AMr9fe/b4qDlwP20JGpJFFhNRGMQBc58l1uEwJ4x3q8qtma4e3djGSon6G63/acwukHgLQbTGzcclQ4RAf7/dg49JAcyFCqTCGHXyqqRmE+tb+VRLfto/38/aJkqO99Io4eMkqBz0wEOvzgURiY3cBmu/nDzGfkxBqcMgQJr6GTKG7qQxcnu/ygNXXBzR18UJdTZkZocgGuUec5wFjFQV2c9V6krGvo+17zNjNpP8I3/b/9i8lXkkuP090Ud5kPKV4VKfBvk2T+ff4TGlvjQSx1PXlp72WrcNW3zBL4UqOi01Ng0AIcZhh13EdoC+v7xCm0g1zB2LTkQkeBwsSWZoKZu2XEgYGBBf9JvjDd67MerYY0jmvvICAQEM/9FbzsRH5YCF/Ql9+wDigyxBeDtTs9HuyrBj+U7HkVVYnIXZpgxWefPo3WBeY0uwsAJ8EcrZrBcnzRyAsfbis0c13fs0/2hADz1QuY84r3y4xXDPWJWmk/zJf7lE6glhiOQWsSGD7NUdXkBcSxBJf+qxVepZbCB0b/5gRZLHkUUAQWB/sIHdBz9LvgvPxfC6dm4/pozoRvOVROqVvZ8B3beQxL6brWuj9iU6r6l+VYs6kQfP7Mk+gZY9Yb1gQHnC0wIGPOQ1FG9y70G3WoToEzxb45rYD0Y9SquXYTkh4O2wPybPqtjHmFBPTALJOElzhHUe+iX+1cB9feN6JjhKe6tDh437VOCU6gvJvLWsUSJ64qCuI4BAUoLdth14ksoC03OyavBrGrK5PLEEnUe5RZ2B5P++ARrGI0smzGPHdTy48AMnhKdmsMqBvtLKHnIemZP1wcfwGyTyZBmtfvuxSTQQh9COyrJCzX3T/QL/8gKTAr99w/aJsB2u0bVtQhBQytsnW9ISOACf7nKiMGDoquY70401V9uZGtFNhRK55jPgdFx5Ob4hwF5+iHrnuFE6r8HGDB+UDlWfzg1/mS8zY0sh5atkfNaPiZxSXnVVU8X09durxOqrcO861YO+B1DGSYKK/+iAmkUmylmMhojpfttyT2iRZoMuh75ekDjcwh++1mcFbjLk5gKjpSsLeRnHK0/WESOL/EQrvmP85v8PwmvC3r8rt+ywyi6ZM4//kw5JGc8cixShxCnxa2OH4GxoXXiJymxWo1m+kxjHSnu6NGEz3LgzPUtAbP85+1B4hXnMQHQKCpMvldgQAEKlcetk/CEuqO95eUx0mpEe+FebyMi4kC0bqhrvWLkQgnKHEYb+wxCAMoAiBA/JmAy0ycVBFTSeKfOmIuxWexOND1tun98YzIjFtgYn62MmaRi2VETgTu2RY00Wha9/FPzTPpdB3gMfwBR5drH27lxyCz05y70YGlz8FreHXrS9ZUJgNWYhNVJHUhUa2fOU5cmrfUY1S3Ol9xZ8kgAkv7G8HTjn+Qb+2YhDEcXWDRHYxVC08uaO4QLm0DYyiQiY7975GZeLxntObrjp8G389yWA+Ua3BzeD9ABef/cDJIiljGwKwwMdNulraqYMKoG4KInTWXcf8drbDAQ5emmuoyTncLOoQlSNilGHznuG1oAp/Mx+DUFqwz+A97qh8yEunvDnOo6JLVZJXN4YrkqzN+HnoSALJHxyNkQqkz8ZsdZrS/B/SfZjc362KDu2f4FAKnzI+Xj4o/1+Rk9QUxX7Ew4IEDfC6MLhaeTR8s2Fy9as3q+bfM6l/hKwX6ozbKN1WT9RhjwHboSxAOz/nsJrR4ZMK8ubROo5KW00JkOpE7UohowXG1+wXIdPXzy7685jqOXc8R2/ykwpEUnPZMhewSS9GH23AJSDOwGO/Cb0RS8ir+t4WsZh1F3cbBo7jZx7Uioj4LSiui8AATrQzllyl6COEoGEN61zbTVterk/AIBd/Y9593hn/CoEt06a1V8UV0qZutOrFuHo438vlUJE1AgeFNzBEZ0BGPJR6qqrlHOvvbuFHEedxUQBnj+dwapGvktzjAlGtDtWrw1nDOfVMl6DQdSdHtTeBlJLgAPuiuR4pKcuu70FCkcRItALScRCRn27vRpAHYLQglR9fzWe76hvHrZog6LSG1uiG1XQjr7F7Mlht+FkrHq9iQ6IGK7YvNALA/H46/O3dKw5nP6fQEb+avphuFY7I4LCTSEUtxUszOI93C2HYsRiYizVfvvRAx0jXdoUI0QbtJCrXCrXse+7+EQUx78F6IIxv7fA6AWTCsQMh8gyfahxMafqZs7v1cA9kb9dmp8OlT5DSzFipVmj2KxL+olIYxBNkOhLAoOO/jq8/P9Jgr9Cgr6jNylwcK6GtIEBOQ+Fmr1cM9M+QjOvjuLZYIXp77pci+1XYZl3EhHGELqg9CL0KfikfdxAYH7WOzU4cPoyATiLKxOC1cfPH0DTMFBkP6FEalk7eg4gm5aevlZthxR3G2xNqnUwHzoKAyIHTQaZQuZ/8ABqhIoKHwyTiVz/1nNcKR1mSG2ZfMjOxlx+n5ZXq4bIdFPm0ON7Khe33IY8z0QRdIxUhP4+mPzj/tzCBsMVP4x4nnF57mhy7f5uTSIZO9yN1aBFkjLv5FygJ2drNz1I/9XGGccUHshbfE309bOtd5N9NkAlP0s77ni5uVt/ocl+0kKWItDHw+5zLGWb4S3n7HfJCyRZ6t7lGLFKO/mxLYNqNK6FeHPBgkcCRxDDuUAIwDeDqUkHjKmKbAHXdYaqpWYIa7O5rku3Wn7f1NnISnK3WmihYxaoaLUFA9TOQdGpDbRGEf+ZvNV+W8GoQweAs3n38kIuh3G2u8vKttdeHNxXqYjWdidmQ6ARZXfz9EXClFjZ5NWpio0+cvWzs3z2rnwtv9G/w/yJeTD45L4GB6LROBX40lHGo/YVJ5ohJiXadLOHk5feHsWapI0JvI7vQOodbWm2eQA0hlnHSYRogIQ/1EL3CACMSEtZw+L36mwBZlPp7va4yFjYWp/DG8jNvzqxqo3jcyaIcopBbMzDUb8OnAeIAL981n3LgSUDF4FSO29zhq7msGO5m4fLlaScmZlPDDV5bmiO4EujoTDLgvpSF5mIVykM38BO9uGzXnX5+wK/oUA7PQG5lniSvOzFng+mFYYT9IkpOQLp+OFzpC4xRIR01W+eWJw8T/U/cTEJKnbsE/SfPrgFjwe9xPABIf+GAjnHDovvC+AFr7o/be6mr2hU8/LFMtXS31odYlCjfhOtFqPX5UCwNH6Hy0WRb4+EyR3Bi31sPXHAf8LCQiI8vfTDL0evu/dnRSgTUhwBGscPI/z9qz3g3GIxbc1/rI/A2SuYFE8MwqB4AnOYtTt6N37SQGq90joouGj7ncP4TdAVCJTny7N8Law2Yhti8i5HQM+S392YHW6StAJS810qx2tMMur8zcTeB6eFi0Hiv5CBd0Y2Sx4MeUc1fH4v6edd526xKAHNk2neVR6KU5PBuK+8JIskWy2LPCnJRlD00GgKTwL+PZs9FH/7goaCnf3cdnMv6y7F9bjCVREp2w7bx5HWQExuDmIJITMrA/xfjVTYB9kiUQzE5HmZM/D0eTkOPmJATX61eqV4arqgAjkMOtQ+1WQN+H8L7s7jYSHwK4e9bA/xHH6eMVU9RW61veuUqpnxIrs3A4OHgQZ1wkU/94C2hT0KVoyhiKu+nXIuKGEmg+7jvrKQYt0v33bWBYUZMrvl0eOha1h5V4dE0AjRPouWhBg+Z7z4PxvCY8LAPwO30XDQbocz2X/bTrDZwRyIVEGD0TE9I1Xgb+i6eNuKlNbYGYsTF0cXe2b0bXP4uAp9j4BePyW7SjiZufmAaIpsEyiV40/tghQxvaSHIXEpEPnUDOYax977V0YIvTgqLOPqBa+NOXaCfQcEhupDB0A+AD0EKMmazJXJysDU9HXpueYb7K/7a81C26ef3xisyGu1k6ewoxwpZTaXBQFPJtFBDS+FV/8U/OL+pYHaQwTALLkXcfXuQ7JRfUTMLJhWnMFWmgcBtEVlRSAwpnx1qIeDlViZxZTkiXQ9LPUSs4C3b/yaABi/nTwS+Pc5ML7OiKmRxxYf0YmFPHR8pk8hPObutlGJg1kxHsOZg8u2uuBueSnWrjG3T4EJBu1HIwPngGY/0EN/iK2MU0rMAtu2uqsnpjyql7hDyk+Zux/62r6Lpjj+6WmjE6e7c+7CvI2KUajOE4b7f+X82r4dQWtDKEDQur8y2W6+8Ok62wlkFo+c7JhUilN3oSdYoD1kVHKQRKRTRlnKVmtLtX8qdiVzV3ZDO8I/+P/V/Pu5AzjJvbMGupBcVdYTAwf6N0TouGEaJSwzL0YPFvkegptsDlK93PAXqhQs17WGv6aGNgdahKIA8L+1wkeH0swZS6jEqPj1LOgma2kktUXHEFdqX4Mcrw7+vDfrvyNPZiTxZsA5DC/Rbs88iAABHH0kfYgA2IMoAam7wbR3bvtv6Linxp7UrlxEWicNerrJadBgnWLNr5yBfFEfGVIXos3UgV63abNDNYm6yL97AAp9vzm8uEk8XYTmTuuVQlRRikL6jurBoc8jlDA4gpAUXx4xXLRRB8DcMgFqhWvHM+A91YVax4rFcsFd/7IBhwbPS6cMG8Zzex3u+GbrZ+CyvEONFPce8d3z0en/uK4xZBZk6y7HfbpKVRENECPJokI5vUS9a8AlAsICcT0YNYtvue8WdrUD5RJ1G4QbR5BsfnXsayFWYbKsmD4RjuJYlliCEArDhvjiM4n0yPnvvp2AdP4YumI4cnsVQzQNONSjFS1MjD2RrWgioGJwrTj/DhGk3Qnd0pPMw9h0d6swKsfyInwXRFeHrgXVgi3/iMEExeeK/cxfx/N9a/DUp/9m07AywE7SI93CXwKU3EM5MP8lLiPYLJj6xEi4kH0QgkseA339wH0Of5QCtMKifnt20LB6rrh0i8F/j+haqZwsktzB3e9mIq1gjWoNeutMENeRmUDSEIXgOlE0MbQGePo93kBQPsJ7MThIOmEBbEtJU/cVjw7LAIPwJ6PQoYtqu7uSDoybx169VhcGy7b6LBoqYjBTem2DKcd+hkUC3v/9gEZE4coejLFJIH+XMzfo6KZF7fS9Hw80nHFfkddKxrEz5qabo3SqZLgchlmPuZEQzG4EqL6bPPS+6cIAwzg/ZDhBMXzuU3M1/rfNTRlyXI6VQQV3cn0kJaAnZ4d3kUlsVj7ZldPdSCZ8N/S/s4k36/08ABe/drumeIu5hz/WiaLSv1XxULaDW7L6pWIhLKgMuGXLWhomHusYXEnueUdtiCodbvo4W4HPRzbG/ENugBKAEcPDSUyMjUpzAZa1W2pnZj2ri/oITC7avJ/Y2anJ1rcj6GIjCWi0dUmEOM5+EUhNjMY4v1f85H5qwaaDLkBL+dcyfm5rcbs8F4rpl57c5ddNiLf1q2YBYAjlkfRMhnfUWtn5lWjKVD4WtbizVvbIvHd/xv/vfH34/fjMfnrHi5F81c8SREZO9dsnVWEb5jc008gSWCRe09pRzPh8HW89qcFtnnakwEaGkcd1BBsAif/swtLISoxySyTDoXe5K/omAGoC9xUI2Nijn9Bbrg0f+nJqRGNeJtHy0kGXzQZRoc6zx2sAeXzjfdxBJ0MCAWu7C7O8LoNwo7noiAUV71ysWTfLlLkp6EGgeeO3cSbDN9Ji2aQW6cyjQCy2oTN2NdW7UD+ZwCb9MzleOLY84QXLD/KVpNOryNK4wempoV+kRjHnBLvVgJ6v2+0PoP84cP1qFSxHtM4+z0XLB6oE38Ej/5vCFkddS99L74Vueckt3qaS6KO0EIW6VibfcV0MkEH9zGzC4/qlRzB/PvmLT5FWz50I/YFA/Xa9Q0CFgzFB/bxX9PKvHS+297RFZ5OmnB2atQ6B/LGq5aDA4kKuan/xUBXZDpgXzs3CeHf8M201GDpIfw6AV73BOit4R/vQhCiOJBUvlKSLXPvmK9ziPSLEburBHhM73bjdJBJeAhNzCSrfK33y3L0qBN6HlUW5QaD/o0FUBkjLVExORzU8A2/RZ3gndzFFgluTiF623npTMYEqb14kpORdbde8YYmX0OFQQQprwq+9or0l/8SC+cJ7/bT2HW/5Lvs1hILZEUebdVu8UXS/+e2rYeMhPmthvKsNs1gy2OmQzAS2+UyzwfSV+WJ+YgB8PmJ6o/hEutCCa8xVlG5VZ02jPv8ua2M4Iftr6v2BEFdcqV4slOaFKPVhK6VqiPFWO1hDyMewxiJCf7+HANLFUwqSzLwIbb5fsc2oceaFbwA/BhDLnVxfbhXjxISyVCXiY55rpXmUx52QOxDZS7FDxT5rvMk/Z8JbguF+23e2cJcutfPigCNO11ox3ERUIQN48I/jZOB0KNe5bIr8lswZltLWBuT7FHR589T4YX2TQE8/EbtEOK655wCcyozTYJXtj5pBw3FQpJNhdGlyui5NFls9Xr1XMAgyN8Us7Sow74H5nEKHR3dGlcM+/8nAWARBidzMtkmPwJT0DmmBJlWsyfvDzfUbnx/eWE0IEfViJ3bjEumxttkFYU8fEV5MyIVAvxV88v6zwdZDKb/EuThxte5rslf9j4xbWJGcxdZ8BqUzzmUJICzml7Y+h/QVVZnW1KMJPTzUNRqzm7dJPOHADD+IvAk4xvlavwNIz9IHVjHRecSotAcmUGE3pw228An9WTFezVlviyd6sy46af0uJre5QRhG4wcOg9uAbj/pw1pI9Mx6CpTCmnZMqyVmLirt+J8Kitn938LaoYtIuIQpZeMDJ8Z0dQLjzclRiY4rxqB/4jzo/i0Ba0MQwOm6XPLSrp/xK/sniZnW1Nz6GDqJ87chJxGgMOSssunE3VOMmeIWKwt6/st2KDNwdl47zb/vv8F87rkNuO+9p4blUKSV8BL3h2R3B+hvIQulRvOQxpGXBB7U2xrOP/1oL9CqNazMNfP/usYvx0ZEk0D0/40Co4ffDAYLtcRneIGs3OZT6XZ1osdT17hflNxWTp579StxI3cmLTGwQGcMdhFTjxSIIYDUfTB9mUDcQxSBg/vctCou1PAmePTG2xT9nFtZ0g0ZOoFpviBHYyGv+IG9EW7ZcNdkzZbBObcms1l1pfrXv3VANr1veYI4qrxRBRTPO1VklAtKLHoK6q3htqOpsFvDGpS1HgzcpxDywGBx8epgq/oz0H4vBViHt8UhwV5/hoHjxt/LmgwthjK65W6kpsroLLLaBBeVD98NneBRiD9uLdjkNWTv7xL97oqikTaP/ElAwi09Tj19QCxC8sIN/TF1eG9ML072wURmko3b5Rs4T8p+JqwOIXYhgW01vlmPO5i9GEdPywNceJlznPTlecI+20Bivgb6YvhPO0cDZY1P1M3VLMx2PQetCiK9Yn/tXL+fkcVdbx2Kk7aDVjQfqwTrOLIU/HXEWgecxcLCKn+aQSFF+8r2zHcHtD0v8LinlWcZcFAA31JHHije9ZR6AqgwnKUD5Bgs5bs+iI1Qq9CcCvoDLT3GfR//noKqAoG+U3b4cAWu6rTWwYWQShrUnCSSu4FIrz5iQqDVqmr7OUxzV4CZSdHPhbB6AjQA9GM4z74fwH/+rvrteF/6UEGfy6bT6lWVjrbANS+/46Lhk2revCmO91v23ntVwIaDdpmsJ6pPcId6kMNxB2+GcQKX/8tAokT5Ch2Mjkkjv1hy1Cj1ZkQuED20j2Hcot+MVynGGjO6ZmejbuqxeFxGtY+uUSyMCAST/p28xT82wjpC2r97+CRxAG6/Mz4+wU33WWfcjlUhhN0yC6Qv4Cgn4/fkiZgWdtmkE5vH8fvitIpz5PfD/UGASb9ie564nnmzP8sJxhL7Ff8QZMMJMonlaaEsaG14ggvOmmBe8FgHCaE5Hu1NqgavLviDAhuHKsbng2RAHMAsQ90JUQywijmBVfUw6ipmM+vkOmHMZVr5H9vZSwm7Nq5oJCM86IB1zcRcDrlRZw1lRd//Vnzz/nnBpAMUgGQ5trI7LlBx//xjSxuX3lzuFzFIGfVwZcCgAWXr9KRGrFSb2c2VZ8obffs1fnNw9uK8QIA7/5r8cnjLeTT+b8f0EUDWJJI2Rfn1YmcSIRKmVHVzyFAYaV7hGj7MZ3vs7vsp5a2TNtAAmAaJR2DEDYCQf8VDLghUTFuLL0Nf90ir8+YuKhd3cQkX2Otf3JtSzMD6NCo74wpnG/MaAcJNSJGETovHToBzvPD97MEowyxBBTsoM3JuoTCkOjVIfhX5HL4Y38tz+KZoNaApY83xgYO0Eq1ZvtaqjGe/yzahM042MTtdf5IAEv0kuWa4mn0VhjeP/lWCU6KIvHhBaVuhTKSe8glFAhYQnoYb3Y9M/sAw8moz7Ht0/P7lxcaHlkTQASZ/scIyh2tLzsv+xS05k22PZrdosvRtxcEWuZ9HnTYP4P1F7LBjnmWN8Il/aouY0X3PdQidgXc9Ab2UgIrDH4HY/HH0ou8zb7J3wQXmU/ocONpijl/8JmqOYOZiVK6HAHVQaZkwl9sOjwIQ9/azQjV0ulk/CkBEvfA57vhne8OEWI53FRWUoMsGu59rhGIf4xdvDkGrk1Zd2J0ZEghB1HL1qrerb7MN/UXFHkeDBadBn3+2gXDGWwtKDGKG9TvJb7mnE2eAceNCqRPl3pdeadLPgNzvASS/5GAuI/yYyehQzRBaCgkCoX2qvTd/zQLsglm9jXYH78gvMPXQQxzRpJta27AREr+nrUmh/iEKa/989c3QmF0Y8JCLhEo5QTPTNLK5dj5hgGq+T/qiuF96wUKeTK+UXNVpzU2+su4I4xBiB6xOfhVQvFyTXicUkATj9QVrtuq4MUl7uMPNR6CGDsJ6v5bA70Voyo6MlghvviJxrigDpsfvXL9ZETNdR59kVYIEcPHtJbOjm+vyOdGH9ZAskPPLTAPyvjB82n9zQlKCwj7zd1wwnu6ldCyAaw89GiFcf9OAQyFwY6M1IHlpNPm9SyMXPtliEpSGsvrCtEc0MTh3/ZbAf/79uz64RDoVANDK7NNXlfcPRwGy8OTkYOF46ZS6iA2Fm3GevlbZx+e3oOy3Khxv9nmBQtDHaYaBgzY/1gBzhFoJ3gyWCZRAVTPnaUmmUG0kPBtOJpvVn9yYLMe49PGnPmMKKf53GsWAj1bRe4yhhSo+1jzDPsGCEYMN/9y42fG2blRynv3aDIkYy5zJlh3GSTOYZM5gKibzNlQIY5WRWeeUYcjG/Pv04vO292I86QA/v3P7//iXeUU/eEj1UgaWAxFphFTz0qYTITNnbPcOCnYZcF7WGRsK2HpG7jxp5G5bd+KBZsbYhznDj8B2/8ODtMj7jF/KnQJZdh9q5GYgqwS5OcrFWj9fydpECyu4CqkjYzNn0bS6wwpOB5GpzcPGhf/e/Pe+PMFqwzjAgnp68oxugbFu+3PJzxcZHMaYIAmUNuImy6AlZMVzQwVVU9GZ+RXqywC+7XXrc0m2uTvYv+X/7Tyh+Rj41j3cRw/Q7BXJEuuHDrbLaCbhPiVic/IG01dN3uYayQ3tvTRvimoXrQB2IP/OhmjHckREwPl/pIK/h+rMMgtCRGX4TqySpn2pSLY/h5ZXxN/lXD0OPntzKyQjX2Z18flAlIy7UXfO7EfDQMz9PL2qAN/DAMGeO7gz3a7vcCT5AcdWlQucsRm8TLe6OiktIHJjNnAUgj0RvVlO12ZNWYDVdyRzcDWB+yZ/bwAi/V/5iHiM/ITFQw9KVYYUBEnV+cdqWyGfI//wvsNkFMneZxxZUJ3AJTGjanyr7TQAfkfFlcekhREBXz+bQcCHL8uMjD8F8bqtrlGm62g5czeEYVVnXyhdjFFmfuRtgeQVJTUvXn4iiu8RH0/UiV+B4X1XvU8AcwLjAio8yrVmL18vR/cOBKeS5ZvE2yiPqD2Ya/IhFyHQ7VL+4I9TmOLYTA+LgzJ4UPOwdMI6FD7YwFA+NTokeGy7eQNWzaYU95TrzB/8/mytIltij+3AAA=\" type=\"audio/wav\" />\n",
       "                    Your browser does not support the audio element.\n",
       "                </audio>\n",
       "              "
      ],
      "text/plain": [
       "<IPython.lib.display.Audio object>"
      ]
     },
     "execution_count": 23,
     "metadata": {},
     "output_type": "execute_result"
    }
   ],
   "source": [
    "time_exp(time.time()-start)\n",
    "tono()"
   ]
  },
  {
   "cell_type": "code",
   "execution_count": 26,
   "id": "5a9bd943",
   "metadata": {
    "ExecuteTime": {
     "end_time": "2021-07-07T16:29:01.922463Z",
     "start_time": "2021-07-07T16:29:01.911354Z"
    },
    "scrolled": true
   },
   "outputs": [
    {
     "name": "stdout",
     "output_type": "stream",
     "text": [
      "Para la tienda Vinoteca, los productbranch se distribuyen:    \n",
      "-Catálogo\t16502    \n",
      "-Supply\t\t20718    \n",
      "-Sin mapear\t367\t(1.9%)    \n",
      " -Brands\t0    \n",
      " -Sin órdenes\t68    \n",
      " -Buen perform\t196\t(FR 99.8%)    \n",
      " -Mal perform\t71\t(FR 2.2%)    \n",
      " -Markup +-3%\t1\t(MK -223, -20.0%)    \n",
      "\n",
      "-Por desactivar\t72\t(0.4%)    \n",
      " -Productos \t5    \n",
      " -Orders_prod\t20\t(0.6%)    \n",
      " -Ventas\t$ 18282\t(1.0%)\n"
     ]
    }
   ],
   "source": [
    "summary()"
   ]
  }
 ],
 "metadata": {
  "kernelspec": {
   "display_name": "Python 3",
   "language": "python",
   "name": "python3"
  },
  "language_info": {
   "codemirror_mode": {
    "name": "ipython",
    "version": 3
   },
   "file_extension": ".py",
   "mimetype": "text/x-python",
   "name": "python",
   "nbconvert_exporter": "python",
   "pygments_lexer": "ipython3",
   "version": "3.9.1"
  },
  "toc": {
   "base_numbering": 1,
   "nav_menu": {},
   "number_sections": true,
   "sideBar": true,
   "skip_h1_title": true,
   "title_cell": "Table of Contents",
   "title_sidebar": "Contents",
   "toc_cell": false,
   "toc_position": {
    "height": "calc(100% - 180px)",
    "left": "10px",
    "top": "150px",
    "width": "254.545px"
   },
   "toc_section_display": true,
   "toc_window_display": true
  },
  "varInspector": {
   "cols": {
    "lenName": 16,
    "lenType": 16,
    "lenVar": 40
   },
   "kernels_config": {
    "python": {
     "delete_cmd_postfix": "",
     "delete_cmd_prefix": "del ",
     "library": "var_list.py",
     "varRefreshCmd": "print(var_dic_list())"
    },
    "r": {
     "delete_cmd_postfix": ") ",
     "delete_cmd_prefix": "rm(",
     "library": "var_list.r",
     "varRefreshCmd": "cat(var_dic_list()) "
    }
   },
   "types_to_exclude": [
    "module",
    "function",
    "builtin_function_or_method",
    "instance",
    "_Feature"
   ],
   "window_display": false
  }
 },
 "nbformat": 4,
 "nbformat_minor": 5
}
