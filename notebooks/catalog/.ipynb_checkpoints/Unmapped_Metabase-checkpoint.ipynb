{
 "cells": [
  {
   "cell_type": "markdown",
   "id": "9f4aa819",
   "metadata": {},
   "source": [
    "# Unmapped Metabase"
   ]
  },
  {
   "cell_type": "code",
   "execution_count": 21,
   "id": "e88e8efb",
   "metadata": {
    "ExecuteTime": {
     "end_time": "2021-06-21T14:39:07.839397Z",
     "start_time": "2021-06-21T14:39:07.836076Z"
    }
   },
   "outputs": [],
   "source": [
    "BASE_DIR = '/Users/efraflores/Desktop/EF/Corner/Catalog/Unmapped/data'\n",
    "STORE = 'vinoteca'"
   ]
  },
  {
   "cell_type": "markdown",
   "id": "42e2f40c",
   "metadata": {},
   "source": [
    "## Import"
   ]
  },
  {
   "cell_type": "code",
   "execution_count": 22,
   "id": "83dd1a1d",
   "metadata": {
    "ExecuteTime": {
     "end_time": "2021-06-21T14:39:07.847299Z",
     "start_time": "2021-06-21T14:39:07.844639Z"
    }
   },
   "outputs": [],
   "source": [
    "import sys\n",
    "sys.path.append('/Users/efraflores/Desktop/hub/cornershop/venv/lib/python3.9/site-packages')"
   ]
  },
  {
   "cell_type": "code",
   "execution_count": 23,
   "id": "0030539d",
   "metadata": {
    "ExecuteTime": {
     "end_time": "2021-06-21T14:39:07.986472Z",
     "start_time": "2021-06-21T14:39:07.851318Z"
    }
   },
   "outputs": [
    {
     "data": {
      "text/html": [
       "<div>\n",
       "<style scoped>\n",
       "    .dataframe tbody tr th:only-of-type {\n",
       "        vertical-align: middle;\n",
       "    }\n",
       "\n",
       "    .dataframe tbody tr th {\n",
       "        vertical-align: top;\n",
       "    }\n",
       "\n",
       "    .dataframe thead th {\n",
       "        text-align: right;\n",
       "    }\n",
       "</style>\n",
       "<table border=\"1\" class=\"dataframe\">\n",
       "  <thead>\n",
       "    <tr style=\"text-align: right;\">\n",
       "      <th></th>\n",
       "      <th>store_id</th>\n",
       "      <th>catalog_product_id</th>\n",
       "      <th>branch</th>\n",
       "      <th>productbranch_id</th>\n",
       "      <th>price</th>\n",
       "    </tr>\n",
       "  </thead>\n",
       "  <tbody>\n",
       "    <tr>\n",
       "      <th>10778</th>\n",
       "      <td>97</td>\n",
       "      <td>384029</td>\n",
       "      <td>903</td>\n",
       "      <td>8276402</td>\n",
       "      <td>3249.0</td>\n",
       "    </tr>\n",
       "  </tbody>\n",
       "</table>\n",
       "</div>"
      ],
      "text/plain": [
       "       store_id  catalog_product_id  branch  productbranch_id   price\n",
       "10778        97              384029     903           8276402  3249.0"
      ]
     },
     "metadata": {},
     "output_type": "display_data"
    },
    {
     "data": {
      "text/html": [
       "<div>\n",
       "<style scoped>\n",
       "    .dataframe tbody tr th:only-of-type {\n",
       "        vertical-align: middle;\n",
       "    }\n",
       "\n",
       "    .dataframe tbody tr th {\n",
       "        vertical-align: top;\n",
       "    }\n",
       "\n",
       "    .dataframe thead th {\n",
       "        text-align: right;\n",
       "    }\n",
       "</style>\n",
       "<table border=\"1\" class=\"dataframe\">\n",
       "  <thead>\n",
       "    <tr style=\"text-align: right;\">\n",
       "      <th></th>\n",
       "      <th>sku_source</th>\n",
       "      <th>supply_product_id</th>\n",
       "      <th>catalog_product_id</th>\n",
       "      <th>name</th>\n",
       "      <th>barcode</th>\n",
       "      <th>branch</th>\n",
       "      <th>price_mode</th>\n",
       "      <th>stock</th>\n",
       "      <th>min_last_visit</th>\n",
       "    </tr>\n",
       "  </thead>\n",
       "  <tbody>\n",
       "    <tr>\n",
       "      <th>15770</th>\n",
       "      <td>mx-vinoteca-csv</td>\n",
       "      <td>14145903</td>\n",
       "      <td>383816.0</td>\n",
       "      <td>Tto ch la cardonne 09</td>\n",
       "      <td>3.296351e+12</td>\n",
       "      <td>900</td>\n",
       "      <td>699.0</td>\n",
       "      <td>1</td>\n",
       "      <td>2021-02-07T01:25:22.886134Z</td>\n",
       "    </tr>\n",
       "  </tbody>\n",
       "</table>\n",
       "</div>"
      ],
      "text/plain": [
       "            sku_source  supply_product_id  catalog_product_id  \\\n",
       "15770  mx-vinoteca-csv           14145903            383816.0   \n",
       "\n",
       "                        name       barcode  branch  price_mode  stock  \\\n",
       "15770  Tto ch la cardonne 09  3.296351e+12     900       699.0      1   \n",
       "\n",
       "                    min_last_visit  \n",
       "15770  2021-02-07T01:25:22.886134Z  "
      ]
     },
     "metadata": {},
     "output_type": "display_data"
    }
   ],
   "source": [
    "import os\n",
    "import time\n",
    "import numpy as np\n",
    "import pandas as pd\n",
    "from IPython.lib.display import Audio\n",
    "\n",
    "prod = pd.read_csv(os.path.join(BASE_DIR,f'catalog_prod_{STORE}.csv'))\n",
    "supply = pd.read_csv(os.path.join(BASE_DIR,f'catalog_supply_{STORE}.csv'))\n",
    "\n",
    "display(prod.sample())\n",
    "display(supply.sample())"
   ]
  },
  {
   "cell_type": "markdown",
   "id": "aff6f2fc",
   "metadata": {
    "heading_collapsed": true
   },
   "source": [
    "## Functions"
   ]
  },
  {
   "cell_type": "markdown",
   "id": "21a8bba7",
   "metadata": {
    "heading_collapsed": true,
    "hidden": true
   },
   "source": [
    "### Timing and tone"
   ]
  },
  {
   "cell_type": "code",
   "execution_count": 24,
   "id": "b978950c",
   "metadata": {
    "ExecuteTime": {
     "end_time": "2021-06-21T14:39:08.004569Z",
     "start_time": "2021-06-21T14:39:07.995040Z"
    },
    "hidden": true
   },
   "outputs": [],
   "source": [
    "start = time.time()\n",
    "def time_exp(x):\n",
    "    minutes, seconds = np.floor(x/60), 60*(x/60-np.floor(x/60))\n",
    "    print(f\"{'{:.0f}'.format(minutes)} minutos con {'{:.2f}'.format(seconds)} segundos\")\n",
    "    \n",
    "def tono(a = 1000, b = 700, play_time_seconds = 1, framerate = 4410):\n",
    "    t = np.linspace(0, play_time_seconds, framerate*play_time_seconds)*np.pi\n",
    "    return Audio(np.sin(a*t) + np.sin(b*t), rate = framerate, autoplay=True)"
   ]
  },
  {
   "cell_type": "markdown",
   "id": "48d30082",
   "metadata": {
    "heading_collapsed": true,
    "hidden": true
   },
   "source": [
    "### Batches"
   ]
  },
  {
   "cell_type": "code",
   "execution_count": 25,
   "id": "9a59b262",
   "metadata": {
    "ExecuteTime": {
     "end_time": "2021-06-21T14:39:08.021204Z",
     "start_time": "2021-06-21T14:39:08.011721Z"
    },
    "hidden": true
   },
   "outputs": [],
   "source": [
    "def batches(base_dir,store,data,size=10000):\n",
    "    df = data.copy()\n",
    "    n = 0\n",
    "    for i in range(int(np.ceil(len(df)/size))):\n",
    "        batch = df.iloc[n:n+size-1,:]\n",
    "        batch.to_excel(os.path.join(base_dir,f'bulk_{store}_{str(i+1).zfill(2)}.xlsx'),index=False)\n",
    "        n += size\n",
    "    print(f'The file with {len(df)} rows has been split up into {i+1} batches of {size} rows each')"
   ]
  },
  {
   "cell_type": "markdown",
   "id": "8324cc7f",
   "metadata": {
    "heading_collapsed": true,
    "hidden": true
   },
   "source": [
    "### Summary"
   ]
  },
  {
   "cell_type": "code",
   "execution_count": 26,
   "id": "ff2d4b17",
   "metadata": {
    "ExecuteTime": {
     "end_time": "2021-06-21T14:39:08.032121Z",
     "start_time": "2021-06-21T14:39:08.026154Z"
    },
    "hidden": true
   },
   "outputs": [],
   "source": [
    "def summary():\n",
    "    print(f\"Para la tienda {STORE.title()}, los productbranch se distribuyen:\\\n",
    "    \\n-Catálogo\\t{len(prod)}\\\n",
    "    \\n-Supply\\t\\t{len(supply)}\\\n",
    "    \\n-Sin mapear\\t{len(unmapped)+len(brands)}\\t({'{:.1%}'.format((len(unmapped)+len(brands))/len(full))})\\\n",
    "    \\n -Brands\\t{len(branch_brands)}\\\n",
    "    \\n -Sin órdenes\\t{len(df[df['orders']==0])}\\\n",
    "    \\n -Buen perform\\t{len(good_perf)}\\t(FR {'{:.1%}'.format(good_perf['fr'].mean())})\\\n",
    "    \\n -Mal perform\\t{len(bad_fr)}\\t(FR {'{:.1%}'.format(bad_fr['fr'].mean())})\\\n",
    "    \\n -Markup +-3%\\t{len(mk)}\\t(MK {int(mk['mk_tot'].sum())}, {'{:.1%}'.format(mk['mk_tot'].sum()/mk['sales'].sum())})\\\n",
    "    \\n\\n-Por desactivar\\t{len(bad_perf)}\\t({'{:.1%}'.format(len(bad_perf)/len(prod))})\\\n",
    "    \\n -Productos \\t{len(bad_perf.groupby('catalog_product_id')['store_id'].count())}\\\n",
    "    \\n -Órdenes\\t{int(bad_perf['orders'].sum())}\\t({'{:.1%}'.format(bad_perf['orders'].sum()/total['orders'].sum())})\\\n",
    "    \\n -Ventas $ \\t{int(bad_perf['sales'].sum())}\\t({'{:.1%}'.format(bad_perf['sales'].sum()/total['sales'].sum())})\")"
   ]
  },
  {
   "cell_type": "markdown",
   "id": "95ec3cbe",
   "metadata": {},
   "source": [
    "## Unmapped from prod"
   ]
  },
  {
   "cell_type": "code",
   "execution_count": 27,
   "id": "319df3fd",
   "metadata": {
    "ExecuteTime": {
     "end_time": "2021-06-21T14:39:08.079130Z",
     "start_time": "2021-06-21T14:39:08.035311Z"
    }
   },
   "outputs": [
    {
     "data": {
      "text/plain": [
       "store_id              0.00000\n",
       "catalog_product_id    0.00000\n",
       "branch                0.00000\n",
       "productbranch_id      0.00000\n",
       "price                 0.00000\n",
       "sku_source            0.35459\n",
       "supply_product_id     0.35459\n",
       "name                  0.35459\n",
       "barcode               0.35459\n",
       "price_mode            0.35459\n",
       "stock                 0.35459\n",
       "min_last_visit        0.35459\n",
       "dtype: float64"
      ]
     },
     "execution_count": 27,
     "metadata": {},
     "output_type": "execute_result"
    }
   ],
   "source": [
    "full = prod.merge(supply,how='left',on=['branch','catalog_product_id'])\n",
    "full.isnull().mean()"
   ]
  },
  {
   "cell_type": "code",
   "execution_count": 28,
   "id": "500efd6d",
   "metadata": {
    "ExecuteTime": {
     "end_time": "2021-06-21T14:39:08.125908Z",
     "start_time": "2021-06-21T14:39:08.083760Z"
    },
    "scrolled": true
   },
   "outputs": [],
   "source": [
    "unmapped = full[full['supply_product_id'].isnull()].dropna(axis=1)\n",
    "unmapped.to_csv(os.path.join(BASE_DIR,f'check_brands_{STORE}.csv'),index=False)"
   ]
  },
  {
   "cell_type": "markdown",
   "id": "c7662899",
   "metadata": {
    "heading_collapsed": true
   },
   "source": [
    "## Brands"
   ]
  },
  {
   "cell_type": "markdown",
   "id": "911d2111",
   "metadata": {
    "hidden": true
   },
   "source": [
    "Check with @Alan Sánchez Márquez if any product_id was created by Brands"
   ]
  },
  {
   "cell_type": "code",
   "execution_count": 29,
   "id": "a5570f7f",
   "metadata": {
    "ExecuteTime": {
     "end_time": "2021-06-21T14:39:08.143046Z",
     "start_time": "2021-06-21T14:39:08.132053Z"
    },
    "hidden": true
   },
   "outputs": [
    {
     "data": {
      "text/html": [
       "<div>\n",
       "<style scoped>\n",
       "    .dataframe tbody tr th:only-of-type {\n",
       "        vertical-align: middle;\n",
       "    }\n",
       "\n",
       "    .dataframe tbody tr th {\n",
       "        vertical-align: top;\n",
       "    }\n",
       "\n",
       "    .dataframe thead th {\n",
       "        text-align: right;\n",
       "    }\n",
       "</style>\n",
       "<table border=\"1\" class=\"dataframe\">\n",
       "  <thead>\n",
       "    <tr style=\"text-align: right;\">\n",
       "      <th></th>\n",
       "      <th>catalog_product_id</th>\n",
       "      <th>match</th>\n",
       "    </tr>\n",
       "  </thead>\n",
       "  <tbody>\n",
       "    <tr>\n",
       "      <th>0</th>\n",
       "      <td>368209</td>\n",
       "      <td>1</td>\n",
       "    </tr>\n",
       "    <tr>\n",
       "      <th>1</th>\n",
       "      <td>383363</td>\n",
       "      <td>1</td>\n",
       "    </tr>\n",
       "    <tr>\n",
       "      <th>2</th>\n",
       "      <td>1008145</td>\n",
       "      <td>1</td>\n",
       "    </tr>\n",
       "    <tr>\n",
       "      <th>3</th>\n",
       "      <td>1010415</td>\n",
       "      <td>1</td>\n",
       "    </tr>\n",
       "    <tr>\n",
       "      <th>4</th>\n",
       "      <td>1010426</td>\n",
       "      <td>1</td>\n",
       "    </tr>\n",
       "    <tr>\n",
       "      <th>5</th>\n",
       "      <td>1245642</td>\n",
       "      <td>1</td>\n",
       "    </tr>\n",
       "  </tbody>\n",
       "</table>\n",
       "</div>"
      ],
      "text/plain": [
       "   catalog_product_id  match\n",
       "0              368209      1\n",
       "1              383363      1\n",
       "2             1008145      1\n",
       "3             1010415      1\n",
       "4             1010426      1\n",
       "5             1245642      1"
      ]
     },
     "execution_count": 29,
     "metadata": {},
     "output_type": "execute_result"
    }
   ],
   "source": [
    "brands = pd.read_csv(os.path.join(BASE_DIR,f'checked_{STORE}.csv'))\n",
    "brands"
   ]
  },
  {
   "cell_type": "code",
   "execution_count": 30,
   "id": "f0c493b4",
   "metadata": {
    "ExecuteTime": {
     "end_time": "2021-06-21T14:39:08.169518Z",
     "start_time": "2021-06-21T14:39:08.146576Z"
    },
    "hidden": true,
    "scrolled": true
   },
   "outputs": [
    {
     "data": {
      "text/plain": [
       "'1897939,320467,384042,384155,383833,383954,384011,384056,384313,383902,383738,1001762,384067,375659,383698,383910,383803,137533,384308,375066,383690,384143,384093,129840,366077,384167,384292,383849,355389,357490,384110,383679,1898114,383857,368277,384097,384096,383796,384291,324439,2043400,384280,384240,384102,2255908,384306,1604151,383895,384271,384051,344896,384045,383296,1216321,2043290,1240827,141491,383831,383913,383853,384269,493895,129848,383926,3018258,362382,344148,354295,383773,384206,383862,383726,273774,383894,384084,383945,383780,357317,384090,689865,383674,383804,383896,383951,384233,357153,384203,383876,383882,384148,384159,383658,384018,383708,383770,94260,384072,384094,352963,384073,606366,384039,598282,598383,383897,1159501,1217210,2407326,384057,1129115,1245639,597804,1001777,383697,384294,384008,129841,597483,383904,384020,384024,384193,383879,383693,383816,383890,383691,383880,383867,2408323,383865,384070,383794,422352,383837,384108,384092,383953,383887,384115,1216661,2408324,606218,383860,383872,384146,281333,383824,383900,384293,594908,383746,339806,383892,384279,140128,384137,1245634,323718,384030,137620,191072,383701,2113824,374899,383348,383931,317839,362442,384029,384204,384046,383748,334121,383916,375291,384043,384202,383944,389526,384595,315878,592694,356077,384065,383742,383869,384211,1012021,2065172,1604553,605751,383888,383868,383830,1155450,384071,383932,384131,383937,170519,353229,2060202,383630,383898,2021245,384062,383815,1230746,384166,383825,383919,389157,2161177,384054,1217050,384267,383921,597355,384031,384107,383704,383891,383819,383676,384111,390537,544015,362373,383847,384121,384059,383940,320464,614376,383779,384129,384032,384081,383254,312416,384200,544002,383545,384015,384305,383943,1004406,384100,384040,384314,383918,140071,383927,384171,1160121,383685,384055,384174,1152045,313349,344375,384272,1603945,383933,383721,374921,385216,280337,383915,137643,383745,353249,383763,383859,383914,317838,375179,383924,321375,1124178,384091,343770,607112,383893,384063,383828,383906,384013,384310,383941,383615,384021,383929,384175,384260,384025,384123,383955,593224,2224607,383673,352928,1155815,383793,141532,363385,384274,345766,383720,544010,1233777,1603970,383715,383762,384142,384061,384216,362683,141675,386827,1604152,384038,384249,1228263,139322,1871167,383686,383449,383907,341570,384028,166392,383952,384041,1001769,383938,384259,220847,384053,1155632,384049,384066,2334719,383864,323514,383875,383835,356499,384027,1149644,384034,384058,384116,1217172,384109,383950,383834,352948,383705,383818,2457798,368480,383870,383703,383688,383471,383909,384099,1499489,384050,323736,383669,383781,384311,281975,257953,320514,383778,384074,1010754,384098,342000,1150186,383861,384106,384064,2407329,339807,384140,1604154,383873,355526,384033,384154,604789,383799,383863,323640,383886,2161160,1499513,383695,2408562,383766,1604567,384019,383934,384150,355943,383814,384264,1245656,384288,383836,384085,598380,2060196,2407327,274325,344260,383878,384101,384124,140496,383758,383817,384207,594615,384005,182471,367567,384075,137464,134134,605904,390265,384023,383390,1499491,390357,384112,383823,383885,602614,383925,384035,374966,384082,384083,594573,383851,487841,384270,314019,375796,591566,384069,384080,1155402,384145,1993289,383877,383947,598173,383854,601092,383684,383692,380342,383743,390583,384017,384010,383663,1009515,1579801,383802,384022,383845,317836,384169,384278,383777,383889,383689,383717,1155818,273803,383364,383942,384026,597444,383881,384012,384138,383706,384095,383949,1603810,365045,383622,390055,598176,2161179,384016,383948,384132,384078,313182,1993264,383912,384077,340517,383922,383764,313193,383908,383844,361105,384052,383620,210222,384036,341909,384141,1155405,1259716,2408561,346098,384103,323719,384139,375340,1006811,446841,383826,2279192,1217385'"
      ]
     },
     "execution_count": 30,
     "metadata": {},
     "output_type": "execute_result"
    }
   ],
   "source": [
    "branch_brands = unmapped[unmapped['catalog_product_id'].isin(brands['catalog_product_id'])]\n",
    "unmapped = unmapped[~unmapped['catalog_product_id'].isin(brands['catalog_product_id'])].copy()\n",
    "','.join(set(unmapped['catalog_product_id'].dropna().astype(int).astype(str)))"
   ]
  },
  {
   "cell_type": "markdown",
   "id": "3e694c6d",
   "metadata": {},
   "source": [
    "## Orders from unmapped"
   ]
  },
  {
   "cell_type": "code",
   "execution_count": 31,
   "id": "3e2cb5ad",
   "metadata": {
    "ExecuteTime": {
     "end_time": "2021-06-21T14:39:08.232318Z",
     "start_time": "2021-06-21T14:39:08.173166Z"
    }
   },
   "outputs": [
    {
     "data": {
      "text/html": [
       "<div>\n",
       "<style scoped>\n",
       "    .dataframe tbody tr th:only-of-type {\n",
       "        vertical-align: middle;\n",
       "    }\n",
       "\n",
       "    .dataframe tbody tr th {\n",
       "        vertical-align: top;\n",
       "    }\n",
       "\n",
       "    .dataframe thead th {\n",
       "        text-align: right;\n",
       "    }\n",
       "</style>\n",
       "<table border=\"1\" class=\"dataframe\">\n",
       "  <thead>\n",
       "    <tr style=\"text-align: right;\">\n",
       "      <th></th>\n",
       "      <th>level</th>\n",
       "      <th>date</th>\n",
       "      <th>catalog_product_id</th>\n",
       "      <th>branch</th>\n",
       "      <th>productbranch_id</th>\n",
       "      <th>min_branch_price</th>\n",
       "      <th>avg_branch_price</th>\n",
       "      <th>max_branch_price</th>\n",
       "      <th>min_shopper_price</th>\n",
       "      <th>avg_shopper_price</th>\n",
       "      <th>max_shopper_price</th>\n",
       "      <th>requested</th>\n",
       "      <th>found</th>\n",
       "      <th>orders</th>\n",
       "      <th>sales</th>\n",
       "    </tr>\n",
       "  </thead>\n",
       "  <tbody>\n",
       "    <tr>\n",
       "      <th>0</th>\n",
       "      <td>TOTAL</td>\n",
       "      <td>2021-06-19</td>\n",
       "      <td>0</td>\n",
       "      <td>0</td>\n",
       "      <td>0</td>\n",
       "      <td>0.00</td>\n",
       "      <td>0.00</td>\n",
       "      <td>0.00</td>\n",
       "      <td>0.00</td>\n",
       "      <td>0.00</td>\n",
       "      <td>0.00</td>\n",
       "      <td>324.0</td>\n",
       "      <td>278.0</td>\n",
       "      <td>137</td>\n",
       "      <td>183334.07</td>\n",
       "    </tr>\n",
       "    <tr>\n",
       "      <th>1</th>\n",
       "      <td>TOTAL</td>\n",
       "      <td>2021-06-18</td>\n",
       "      <td>0</td>\n",
       "      <td>0</td>\n",
       "      <td>0</td>\n",
       "      <td>0.00</td>\n",
       "      <td>0.00</td>\n",
       "      <td>0.00</td>\n",
       "      <td>0.00</td>\n",
       "      <td>0.00</td>\n",
       "      <td>0.00</td>\n",
       "      <td>251.0</td>\n",
       "      <td>220.0</td>\n",
       "      <td>109</td>\n",
       "      <td>143190.58</td>\n",
       "    </tr>\n",
       "    <tr>\n",
       "      <th>2</th>\n",
       "      <td>TOTAL</td>\n",
       "      <td>2021-06-17</td>\n",
       "      <td>0</td>\n",
       "      <td>0</td>\n",
       "      <td>0</td>\n",
       "      <td>0.00</td>\n",
       "      <td>0.00</td>\n",
       "      <td>0.00</td>\n",
       "      <td>0.00</td>\n",
       "      <td>0.00</td>\n",
       "      <td>0.00</td>\n",
       "      <td>153.0</td>\n",
       "      <td>128.0</td>\n",
       "      <td>67</td>\n",
       "      <td>96048.92</td>\n",
       "    </tr>\n",
       "    <tr>\n",
       "      <th>3</th>\n",
       "      <td>TOTAL</td>\n",
       "      <td>2021-06-20</td>\n",
       "      <td>0</td>\n",
       "      <td>0</td>\n",
       "      <td>0</td>\n",
       "      <td>0.00</td>\n",
       "      <td>0.00</td>\n",
       "      <td>0.00</td>\n",
       "      <td>0.00</td>\n",
       "      <td>0.00</td>\n",
       "      <td>0.00</td>\n",
       "      <td>50.0</td>\n",
       "      <td>46.0</td>\n",
       "      <td>21</td>\n",
       "      <td>27992.88</td>\n",
       "    </tr>\n",
       "    <tr>\n",
       "      <th>4</th>\n",
       "      <td>product_branch</td>\n",
       "      <td>2021-06-19</td>\n",
       "      <td>388245</td>\n",
       "      <td>893</td>\n",
       "      <td>8485095</td>\n",
       "      <td>398.97</td>\n",
       "      <td>398.97</td>\n",
       "      <td>398.97</td>\n",
       "      <td>398.97</td>\n",
       "      <td>398.97</td>\n",
       "      <td>398.97</td>\n",
       "      <td>21.0</td>\n",
       "      <td>22.0</td>\n",
       "      <td>13</td>\n",
       "      <td>8777.34</td>\n",
       "    </tr>\n",
       "  </tbody>\n",
       "</table>\n",
       "</div>"
      ],
      "text/plain": [
       "            level        date  catalog_product_id  branch  productbranch_id  \\\n",
       "0           TOTAL  2021-06-19                   0       0                 0   \n",
       "1           TOTAL  2021-06-18                   0       0                 0   \n",
       "2           TOTAL  2021-06-17                   0       0                 0   \n",
       "3           TOTAL  2021-06-20                   0       0                 0   \n",
       "4  product_branch  2021-06-19              388245     893           8485095   \n",
       "\n",
       "   min_branch_price  avg_branch_price  max_branch_price  min_shopper_price  \\\n",
       "0              0.00              0.00              0.00               0.00   \n",
       "1              0.00              0.00              0.00               0.00   \n",
       "2              0.00              0.00              0.00               0.00   \n",
       "3              0.00              0.00              0.00               0.00   \n",
       "4            398.97            398.97            398.97             398.97   \n",
       "\n",
       "   avg_shopper_price  max_shopper_price  requested  found  orders      sales  \n",
       "0               0.00               0.00      324.0  278.0     137  183334.07  \n",
       "1               0.00               0.00      251.0  220.0     109  143190.58  \n",
       "2               0.00               0.00      153.0  128.0      67   96048.92  \n",
       "3               0.00               0.00       50.0   46.0      21   27992.88  \n",
       "4             398.97             398.97       21.0   22.0      13    8777.34  "
      ]
     },
     "execution_count": 31,
     "metadata": {},
     "output_type": "execute_result"
    }
   ],
   "source": [
    "orders = pd.read_csv(os.path.join(BASE_DIR,f'orders_{STORE}.csv'))\n",
    "orders.head()"
   ]
  },
  {
   "cell_type": "code",
   "execution_count": 32,
   "id": "5f6c6343",
   "metadata": {
    "ExecuteTime": {
     "end_time": "2021-06-21T14:39:08.252358Z",
     "start_time": "2021-06-21T14:39:08.235115Z"
    }
   },
   "outputs": [
    {
     "data": {
      "text/html": [
       "<div>\n",
       "<style scoped>\n",
       "    .dataframe tbody tr th:only-of-type {\n",
       "        vertical-align: middle;\n",
       "    }\n",
       "\n",
       "    .dataframe tbody tr th {\n",
       "        vertical-align: top;\n",
       "    }\n",
       "\n",
       "    .dataframe thead th {\n",
       "        text-align: right;\n",
       "    }\n",
       "</style>\n",
       "<table border=\"1\" class=\"dataframe\">\n",
       "  <thead>\n",
       "    <tr style=\"text-align: right;\">\n",
       "      <th></th>\n",
       "      <th>requested</th>\n",
       "      <th>found</th>\n",
       "      <th>orders</th>\n",
       "      <th>sales</th>\n",
       "      <th>fr</th>\n",
       "      <th>avg_items</th>\n",
       "    </tr>\n",
       "  </thead>\n",
       "  <tbody>\n",
       "    <tr>\n",
       "      <th>0</th>\n",
       "      <td>324.0</td>\n",
       "      <td>278.0</td>\n",
       "      <td>137</td>\n",
       "      <td>183334.07</td>\n",
       "      <td>0.858025</td>\n",
       "      <td>2.364964</td>\n",
       "    </tr>\n",
       "    <tr>\n",
       "      <th>1</th>\n",
       "      <td>251.0</td>\n",
       "      <td>220.0</td>\n",
       "      <td>109</td>\n",
       "      <td>143190.58</td>\n",
       "      <td>0.876494</td>\n",
       "      <td>2.302752</td>\n",
       "    </tr>\n",
       "    <tr>\n",
       "      <th>2</th>\n",
       "      <td>153.0</td>\n",
       "      <td>128.0</td>\n",
       "      <td>67</td>\n",
       "      <td>96048.92</td>\n",
       "      <td>0.836601</td>\n",
       "      <td>2.283582</td>\n",
       "    </tr>\n",
       "    <tr>\n",
       "      <th>3</th>\n",
       "      <td>50.0</td>\n",
       "      <td>46.0</td>\n",
       "      <td>21</td>\n",
       "      <td>27992.88</td>\n",
       "      <td>0.920000</td>\n",
       "      <td>2.380952</td>\n",
       "    </tr>\n",
       "  </tbody>\n",
       "</table>\n",
       "</div>"
      ],
      "text/plain": [
       "   requested  found  orders      sales        fr  avg_items\n",
       "0      324.0  278.0     137  183334.07  0.858025   2.364964\n",
       "1      251.0  220.0     109  143190.58  0.876494   2.302752\n",
       "2      153.0  128.0      67   96048.92  0.836601   2.283582\n",
       "3       50.0   46.0      21   27992.88  0.920000   2.380952"
      ]
     },
     "execution_count": 32,
     "metadata": {},
     "output_type": "execute_result"
    }
   ],
   "source": [
    "total = orders[orders['level']=='TOTAL'].iloc[:,-4:].copy()\n",
    "total['fr'] = total['found']/total['requested']\n",
    "total['avg_items'] = total['requested']/total['orders']\n",
    "total"
   ]
  },
  {
   "cell_type": "markdown",
   "id": "b795b1ee",
   "metadata": {
    "heading_collapsed": true
   },
   "source": [
    "### Total"
   ]
  },
  {
   "cell_type": "code",
   "execution_count": 33,
   "id": "b50dd9b9",
   "metadata": {
    "ExecuteTime": {
     "end_time": "2021-06-21T14:39:08.298760Z",
     "start_time": "2021-06-21T14:39:08.257224Z"
    },
    "hidden": true
   },
   "outputs": [
    {
     "name": "stdout",
     "output_type": "stream",
     "text": [
      "count    8978.000000\n",
      "mean        0.009245\n",
      "std         0.095710\n",
      "min         0.000000\n",
      "25%         0.000000\n",
      "50%         0.000000\n",
      "75%         0.000000\n",
      "max         1.000000\n",
      "Name: fr, dtype: float64\n"
     ]
    },
    {
     "data": {
      "text/html": [
       "<div>\n",
       "<style scoped>\n",
       "    .dataframe tbody tr th:only-of-type {\n",
       "        vertical-align: middle;\n",
       "    }\n",
       "\n",
       "    .dataframe tbody tr th {\n",
       "        vertical-align: top;\n",
       "    }\n",
       "\n",
       "    .dataframe thead th {\n",
       "        text-align: right;\n",
       "    }\n",
       "</style>\n",
       "<table border=\"1\" class=\"dataframe\">\n",
       "  <thead>\n",
       "    <tr style=\"text-align: right;\">\n",
       "      <th></th>\n",
       "      <th>store_id</th>\n",
       "      <th>catalog_product_id</th>\n",
       "      <th>branch_x</th>\n",
       "      <th>productbranch_id</th>\n",
       "      <th>price</th>\n",
       "      <th>branch_y</th>\n",
       "      <th>min_branch_price</th>\n",
       "      <th>avg_branch_price</th>\n",
       "      <th>max_branch_price</th>\n",
       "      <th>min_shopper_price</th>\n",
       "      <th>avg_shopper_price</th>\n",
       "      <th>max_shopper_price</th>\n",
       "      <th>requested</th>\n",
       "      <th>found</th>\n",
       "      <th>orders</th>\n",
       "      <th>sales</th>\n",
       "      <th>fr</th>\n",
       "    </tr>\n",
       "  </thead>\n",
       "  <tbody>\n",
       "    <tr>\n",
       "      <th>0</th>\n",
       "      <td>97</td>\n",
       "      <td>1993289</td>\n",
       "      <td>893</td>\n",
       "      <td>45768796</td>\n",
       "      <td>317.0</td>\n",
       "      <td>893.0</td>\n",
       "      <td>317.0</td>\n",
       "      <td>317.0</td>\n",
       "      <td>317.0</td>\n",
       "      <td>317.00</td>\n",
       "      <td>326.333333</td>\n",
       "      <td>345.00</td>\n",
       "      <td>3.0</td>\n",
       "      <td>3.0</td>\n",
       "      <td>3.0</td>\n",
       "      <td>951.0</td>\n",
       "      <td>1.0</td>\n",
       "    </tr>\n",
       "    <tr>\n",
       "      <th>1</th>\n",
       "      <td>97</td>\n",
       "      <td>2065172</td>\n",
       "      <td>910</td>\n",
       "      <td>50875187</td>\n",
       "      <td>946.9</td>\n",
       "      <td>910.0</td>\n",
       "      <td>946.9</td>\n",
       "      <td>946.9</td>\n",
       "      <td>946.9</td>\n",
       "      <td>722.25</td>\n",
       "      <td>834.575000</td>\n",
       "      <td>946.90</td>\n",
       "      <td>5.0</td>\n",
       "      <td>5.0</td>\n",
       "      <td>2.0</td>\n",
       "      <td>4734.5</td>\n",
       "      <td>1.0</td>\n",
       "    </tr>\n",
       "    <tr>\n",
       "      <th>2</th>\n",
       "      <td>97</td>\n",
       "      <td>383348</td>\n",
       "      <td>893</td>\n",
       "      <td>61733539</td>\n",
       "      <td>345.0</td>\n",
       "      <td>893.0</td>\n",
       "      <td>345.0</td>\n",
       "      <td>345.0</td>\n",
       "      <td>345.0</td>\n",
       "      <td>0.00</td>\n",
       "      <td>0.000000</td>\n",
       "      <td>0.00</td>\n",
       "      <td>2.0</td>\n",
       "      <td>0.0</td>\n",
       "      <td>2.0</td>\n",
       "      <td>0.0</td>\n",
       "      <td>0.0</td>\n",
       "    </tr>\n",
       "    <tr>\n",
       "      <th>3</th>\n",
       "      <td>97</td>\n",
       "      <td>384249</td>\n",
       "      <td>897</td>\n",
       "      <td>8280624</td>\n",
       "      <td>266.0</td>\n",
       "      <td>897.0</td>\n",
       "      <td>266.0</td>\n",
       "      <td>266.0</td>\n",
       "      <td>266.0</td>\n",
       "      <td>266.00</td>\n",
       "      <td>286.655000</td>\n",
       "      <td>307.31</td>\n",
       "      <td>3.0</td>\n",
       "      <td>3.0</td>\n",
       "      <td>2.0</td>\n",
       "      <td>798.0</td>\n",
       "      <td>1.0</td>\n",
       "    </tr>\n",
       "    <tr>\n",
       "      <th>4</th>\n",
       "      <td>97</td>\n",
       "      <td>355389</td>\n",
       "      <td>904</td>\n",
       "      <td>9276623</td>\n",
       "      <td>799.0</td>\n",
       "      <td>904.0</td>\n",
       "      <td>799.0</td>\n",
       "      <td>799.0</td>\n",
       "      <td>799.0</td>\n",
       "      <td>614.00</td>\n",
       "      <td>614.000000</td>\n",
       "      <td>614.00</td>\n",
       "      <td>2.0</td>\n",
       "      <td>2.0</td>\n",
       "      <td>1.0</td>\n",
       "      <td>1598.0</td>\n",
       "      <td>1.0</td>\n",
       "    </tr>\n",
       "  </tbody>\n",
       "</table>\n",
       "</div>"
      ],
      "text/plain": [
       "   store_id  catalog_product_id  branch_x  productbranch_id  price  branch_y  \\\n",
       "0        97             1993289       893          45768796  317.0     893.0   \n",
       "1        97             2065172       910          50875187  946.9     910.0   \n",
       "2        97              383348       893          61733539  345.0     893.0   \n",
       "3        97              384249       897           8280624  266.0     897.0   \n",
       "4        97              355389       904           9276623  799.0     904.0   \n",
       "\n",
       "   min_branch_price  avg_branch_price  max_branch_price  min_shopper_price  \\\n",
       "0             317.0             317.0             317.0             317.00   \n",
       "1             946.9             946.9             946.9             722.25   \n",
       "2             345.0             345.0             345.0               0.00   \n",
       "3             266.0             266.0             266.0             266.00   \n",
       "4             799.0             799.0             799.0             614.00   \n",
       "\n",
       "   avg_shopper_price  max_shopper_price  requested  found  orders   sales   fr  \n",
       "0         326.333333             345.00        3.0    3.0     3.0   951.0  1.0  \n",
       "1         834.575000             946.90        5.0    5.0     2.0  4734.5  1.0  \n",
       "2           0.000000               0.00        2.0    0.0     2.0     0.0  0.0  \n",
       "3         286.655000             307.31        3.0    3.0     2.0   798.0  1.0  \n",
       "4         614.000000             614.00        2.0    2.0     1.0  1598.0  1.0  "
      ]
     },
     "execution_count": 33,
     "metadata": {},
     "output_type": "execute_result"
    }
   ],
   "source": [
    "df = unmapped.merge(orders.iloc[:,3:],on='productbranch_id',how='left').fillna(0)\n",
    "df = df[~df['catalog_product_id'].isin(brands['catalog_product_id'])].copy()\n",
    "df = df.sort_values('orders',0,0).reset_index(drop=True)\n",
    "df['fr'] = (df['found']/(df['requested']+1e-10)).apply(lambda x: min(1,x))\n",
    "print(df['fr'].describe())\n",
    "df.head()"
   ]
  },
  {
   "cell_type": "markdown",
   "id": "2d6679ee",
   "metadata": {
    "ExecuteTime": {
     "end_time": "2021-06-08T16:35:09.822906Z",
     "start_time": "2021-06-08T16:35:09.809363Z"
    }
   },
   "source": [
    "### Bad performance"
   ]
  },
  {
   "cell_type": "markdown",
   "id": "a9af711e",
   "metadata": {},
   "source": [
    "BULK TOOL\n",
    "\n",
    "<https://cornershopapp.com/catalog/dashboard/bulk_update/product_branches/>"
   ]
  },
  {
   "cell_type": "code",
   "execution_count": 34,
   "id": "6dc470ed",
   "metadata": {
    "ExecuteTime": {
     "end_time": "2021-06-21T14:39:08.353539Z",
     "start_time": "2021-06-21T14:39:08.300572Z"
    }
   },
   "outputs": [
    {
     "name": "stdout",
     "output_type": "stream",
     "text": [
      "count    55.0\n",
      "mean      0.0\n",
      "std       0.0\n",
      "min       0.0\n",
      "25%       0.0\n",
      "50%       0.0\n",
      "75%       0.0\n",
      "max       0.0\n",
      "Name: fr, dtype: float64\n"
     ]
    },
    {
     "data": {
      "text/html": [
       "<div>\n",
       "<style scoped>\n",
       "    .dataframe tbody tr th:only-of-type {\n",
       "        vertical-align: middle;\n",
       "    }\n",
       "\n",
       "    .dataframe tbody tr th {\n",
       "        vertical-align: top;\n",
       "    }\n",
       "\n",
       "    .dataframe thead th {\n",
       "        text-align: right;\n",
       "    }\n",
       "</style>\n",
       "<table border=\"1\" class=\"dataframe\">\n",
       "  <thead>\n",
       "    <tr style=\"text-align: right;\">\n",
       "      <th></th>\n",
       "      <th>store_id</th>\n",
       "      <th>catalog_product_id</th>\n",
       "      <th>branch_x</th>\n",
       "      <th>productbranch_id</th>\n",
       "      <th>price</th>\n",
       "      <th>branch_y</th>\n",
       "      <th>min_branch_price</th>\n",
       "      <th>avg_branch_price</th>\n",
       "      <th>max_branch_price</th>\n",
       "      <th>min_shopper_price</th>\n",
       "      <th>...</th>\n",
       "      <th>max_shopper_price</th>\n",
       "      <th>requested</th>\n",
       "      <th>found</th>\n",
       "      <th>orders</th>\n",
       "      <th>sales</th>\n",
       "      <th>fr</th>\n",
       "      <th>avg_price</th>\n",
       "      <th>mk_un</th>\n",
       "      <th>mk_p</th>\n",
       "      <th>mk_tot</th>\n",
       "    </tr>\n",
       "  </thead>\n",
       "  <tbody>\n",
       "    <tr>\n",
       "      <th>2</th>\n",
       "      <td>97</td>\n",
       "      <td>383348</td>\n",
       "      <td>893</td>\n",
       "      <td>61733539</td>\n",
       "      <td>345.0</td>\n",
       "      <td>893.0</td>\n",
       "      <td>345.0</td>\n",
       "      <td>345.0</td>\n",
       "      <td>345.0</td>\n",
       "      <td>0.0</td>\n",
       "      <td>...</td>\n",
       "      <td>0.0</td>\n",
       "      <td>2.0</td>\n",
       "      <td>0.0</td>\n",
       "      <td>2.0</td>\n",
       "      <td>0.0</td>\n",
       "      <td>0.0</td>\n",
       "      <td>NaN</td>\n",
       "      <td>NaN</td>\n",
       "      <td>NaN</td>\n",
       "      <td>0.0</td>\n",
       "    </tr>\n",
       "    <tr>\n",
       "      <th>7</th>\n",
       "      <td>97</td>\n",
       "      <td>374966</td>\n",
       "      <td>893</td>\n",
       "      <td>61732918</td>\n",
       "      <td>613.0</td>\n",
       "      <td>893.0</td>\n",
       "      <td>613.0</td>\n",
       "      <td>613.0</td>\n",
       "      <td>613.0</td>\n",
       "      <td>0.0</td>\n",
       "      <td>...</td>\n",
       "      <td>0.0</td>\n",
       "      <td>1.0</td>\n",
       "      <td>0.0</td>\n",
       "      <td>1.0</td>\n",
       "      <td>0.0</td>\n",
       "      <td>0.0</td>\n",
       "      <td>NaN</td>\n",
       "      <td>NaN</td>\n",
       "      <td>NaN</td>\n",
       "      <td>0.0</td>\n",
       "    </tr>\n",
       "    <tr>\n",
       "      <th>8</th>\n",
       "      <td>97</td>\n",
       "      <td>384264</td>\n",
       "      <td>897</td>\n",
       "      <td>8280639</td>\n",
       "      <td>199.0</td>\n",
       "      <td>897.0</td>\n",
       "      <td>199.0</td>\n",
       "      <td>199.0</td>\n",
       "      <td>199.0</td>\n",
       "      <td>199.0</td>\n",
       "      <td>...</td>\n",
       "      <td>199.0</td>\n",
       "      <td>1.0</td>\n",
       "      <td>0.0</td>\n",
       "      <td>1.0</td>\n",
       "      <td>0.0</td>\n",
       "      <td>0.0</td>\n",
       "      <td>NaN</td>\n",
       "      <td>NaN</td>\n",
       "      <td>NaN</td>\n",
       "      <td>0.0</td>\n",
       "    </tr>\n",
       "    <tr>\n",
       "      <th>10</th>\n",
       "      <td>97</td>\n",
       "      <td>317838</td>\n",
       "      <td>902</td>\n",
       "      <td>8480146</td>\n",
       "      <td>24.0</td>\n",
       "      <td>902.0</td>\n",
       "      <td>24.0</td>\n",
       "      <td>24.0</td>\n",
       "      <td>24.0</td>\n",
       "      <td>0.0</td>\n",
       "      <td>...</td>\n",
       "      <td>0.0</td>\n",
       "      <td>1.0</td>\n",
       "      <td>0.0</td>\n",
       "      <td>1.0</td>\n",
       "      <td>0.0</td>\n",
       "      <td>0.0</td>\n",
       "      <td>NaN</td>\n",
       "      <td>NaN</td>\n",
       "      <td>NaN</td>\n",
       "      <td>0.0</td>\n",
       "    </tr>\n",
       "    <tr>\n",
       "      <th>11</th>\n",
       "      <td>97</td>\n",
       "      <td>1001769</td>\n",
       "      <td>910</td>\n",
       "      <td>18798184</td>\n",
       "      <td>949.0</td>\n",
       "      <td>910.0</td>\n",
       "      <td>949.0</td>\n",
       "      <td>949.0</td>\n",
       "      <td>949.0</td>\n",
       "      <td>0.0</td>\n",
       "      <td>...</td>\n",
       "      <td>0.0</td>\n",
       "      <td>1.0</td>\n",
       "      <td>0.0</td>\n",
       "      <td>1.0</td>\n",
       "      <td>0.0</td>\n",
       "      <td>0.0</td>\n",
       "      <td>NaN</td>\n",
       "      <td>NaN</td>\n",
       "      <td>NaN</td>\n",
       "      <td>0.0</td>\n",
       "    </tr>\n",
       "  </tbody>\n",
       "</table>\n",
       "<p>5 rows × 21 columns</p>\n",
       "</div>"
      ],
      "text/plain": [
       "    store_id  catalog_product_id  branch_x  productbranch_id  price  branch_y  \\\n",
       "2         97              383348       893          61733539  345.0     893.0   \n",
       "7         97              374966       893          61732918  613.0     893.0   \n",
       "8         97              384264       897           8280639  199.0     897.0   \n",
       "10        97              317838       902           8480146   24.0     902.0   \n",
       "11        97             1001769       910          18798184  949.0     910.0   \n",
       "\n",
       "    min_branch_price  avg_branch_price  max_branch_price  min_shopper_price  \\\n",
       "2              345.0             345.0             345.0                0.0   \n",
       "7              613.0             613.0             613.0                0.0   \n",
       "8              199.0             199.0             199.0              199.0   \n",
       "10              24.0              24.0              24.0                0.0   \n",
       "11             949.0             949.0             949.0                0.0   \n",
       "\n",
       "    ...  max_shopper_price  requested  found  orders  sales   fr  avg_price  \\\n",
       "2   ...                0.0        2.0    0.0     2.0    0.0  0.0        NaN   \n",
       "7   ...                0.0        1.0    0.0     1.0    0.0  0.0        NaN   \n",
       "8   ...              199.0        1.0    0.0     1.0    0.0  0.0        NaN   \n",
       "10  ...                0.0        1.0    0.0     1.0    0.0  0.0        NaN   \n",
       "11  ...                0.0        1.0    0.0     1.0    0.0  0.0        NaN   \n",
       "\n",
       "    mk_un  mk_p  mk_tot  \n",
       "2     NaN   NaN     0.0  \n",
       "7     NaN   NaN     0.0  \n",
       "8     NaN   NaN     0.0  \n",
       "10    NaN   NaN     0.0  \n",
       "11    NaN   NaN     0.0  \n",
       "\n",
       "[5 rows x 21 columns]"
      ]
     },
     "execution_count": 34,
     "metadata": {},
     "output_type": "execute_result"
    }
   ],
   "source": [
    "df['avg_price'] = df['sales'] / df['found']\n",
    "df['mk_un'] = df['avg_price'] - df['price']\n",
    "df['mk_p'] = df['mk_un'] / df['avg_price']\n",
    "df['mk_tot'] = df['sales'] - df['price']*df['found']\n",
    "bad_fr = df[(df['fr']<=total['fr'][0]*.9)\n",
    "            &(df['orders']>0)\n",
    "           ].copy()\n",
    "mk = df[(df['mk_p']<-.03)|(df['mk_p']>.03)].copy()\n",
    "bad_perf = bad_fr.append(mk)\n",
    "print(bad_perf['fr'].describe())\n",
    "bad_perf.head()"
   ]
  },
  {
   "cell_type": "markdown",
   "id": "acbb301d",
   "metadata": {
    "heading_collapsed": true
   },
   "source": [
    "### Good performance"
   ]
  },
  {
   "cell_type": "markdown",
   "id": "4ef37c6d",
   "metadata": {
    "hidden": true
   },
   "source": [
    "Ask the KAM to talk to the partner in order to activate that product"
   ]
  },
  {
   "cell_type": "code",
   "execution_count": 35,
   "id": "87f5a6f9",
   "metadata": {
    "ExecuteTime": {
     "end_time": "2021-06-21T14:39:08.387332Z",
     "start_time": "2021-06-21T14:39:08.356238Z"
    },
    "hidden": true,
    "scrolled": true
   },
   "outputs": [
    {
     "name": "stdout",
     "output_type": "stream",
     "text": [
      "count    8.300000e+01\n",
      "mean     1.000000e+00\n",
      "std      2.276379e-11\n",
      "min      1.000000e+00\n",
      "25%      1.000000e+00\n",
      "50%      1.000000e+00\n",
      "75%      1.000000e+00\n",
      "max      1.000000e+00\n",
      "Name: fr, dtype: float64\n"
     ]
    },
    {
     "data": {
      "text/html": [
       "<div>\n",
       "<style scoped>\n",
       "    .dataframe tbody tr th:only-of-type {\n",
       "        vertical-align: middle;\n",
       "    }\n",
       "\n",
       "    .dataframe tbody tr th {\n",
       "        vertical-align: top;\n",
       "    }\n",
       "\n",
       "    .dataframe thead th {\n",
       "        text-align: right;\n",
       "    }\n",
       "</style>\n",
       "<table border=\"1\" class=\"dataframe\">\n",
       "  <thead>\n",
       "    <tr style=\"text-align: right;\">\n",
       "      <th></th>\n",
       "      <th>store_id</th>\n",
       "      <th>catalog_product_id</th>\n",
       "      <th>branch_x</th>\n",
       "      <th>productbranch_id</th>\n",
       "      <th>price</th>\n",
       "      <th>branch_y</th>\n",
       "      <th>min_branch_price</th>\n",
       "      <th>avg_branch_price</th>\n",
       "      <th>max_branch_price</th>\n",
       "      <th>min_shopper_price</th>\n",
       "      <th>...</th>\n",
       "      <th>max_shopper_price</th>\n",
       "      <th>requested</th>\n",
       "      <th>found</th>\n",
       "      <th>orders</th>\n",
       "      <th>sales</th>\n",
       "      <th>fr</th>\n",
       "      <th>avg_price</th>\n",
       "      <th>mk_un</th>\n",
       "      <th>mk_p</th>\n",
       "      <th>mk_tot</th>\n",
       "    </tr>\n",
       "  </thead>\n",
       "  <tbody>\n",
       "    <tr>\n",
       "      <th>0</th>\n",
       "      <td>97</td>\n",
       "      <td>1993289</td>\n",
       "      <td>893</td>\n",
       "      <td>45768796</td>\n",
       "      <td>317.0</td>\n",
       "      <td>893.0</td>\n",
       "      <td>317.0</td>\n",
       "      <td>317.0</td>\n",
       "      <td>317.0</td>\n",
       "      <td>317.00</td>\n",
       "      <td>...</td>\n",
       "      <td>345.00</td>\n",
       "      <td>3.0</td>\n",
       "      <td>3.0</td>\n",
       "      <td>3.0</td>\n",
       "      <td>951.0</td>\n",
       "      <td>1.0</td>\n",
       "      <td>317.0</td>\n",
       "      <td>0.0</td>\n",
       "      <td>0.0</td>\n",
       "      <td>0.0</td>\n",
       "    </tr>\n",
       "    <tr>\n",
       "      <th>1</th>\n",
       "      <td>97</td>\n",
       "      <td>2065172</td>\n",
       "      <td>910</td>\n",
       "      <td>50875187</td>\n",
       "      <td>946.9</td>\n",
       "      <td>910.0</td>\n",
       "      <td>946.9</td>\n",
       "      <td>946.9</td>\n",
       "      <td>946.9</td>\n",
       "      <td>722.25</td>\n",
       "      <td>...</td>\n",
       "      <td>946.90</td>\n",
       "      <td>5.0</td>\n",
       "      <td>5.0</td>\n",
       "      <td>2.0</td>\n",
       "      <td>4734.5</td>\n",
       "      <td>1.0</td>\n",
       "      <td>946.9</td>\n",
       "      <td>0.0</td>\n",
       "      <td>0.0</td>\n",
       "      <td>0.0</td>\n",
       "    </tr>\n",
       "    <tr>\n",
       "      <th>3</th>\n",
       "      <td>97</td>\n",
       "      <td>384249</td>\n",
       "      <td>897</td>\n",
       "      <td>8280624</td>\n",
       "      <td>266.0</td>\n",
       "      <td>897.0</td>\n",
       "      <td>266.0</td>\n",
       "      <td>266.0</td>\n",
       "      <td>266.0</td>\n",
       "      <td>266.00</td>\n",
       "      <td>...</td>\n",
       "      <td>307.31</td>\n",
       "      <td>3.0</td>\n",
       "      <td>3.0</td>\n",
       "      <td>2.0</td>\n",
       "      <td>798.0</td>\n",
       "      <td>1.0</td>\n",
       "      <td>266.0</td>\n",
       "      <td>0.0</td>\n",
       "      <td>0.0</td>\n",
       "      <td>0.0</td>\n",
       "    </tr>\n",
       "    <tr>\n",
       "      <th>4</th>\n",
       "      <td>97</td>\n",
       "      <td>355389</td>\n",
       "      <td>904</td>\n",
       "      <td>9276623</td>\n",
       "      <td>799.0</td>\n",
       "      <td>904.0</td>\n",
       "      <td>799.0</td>\n",
       "      <td>799.0</td>\n",
       "      <td>799.0</td>\n",
       "      <td>614.00</td>\n",
       "      <td>...</td>\n",
       "      <td>614.00</td>\n",
       "      <td>2.0</td>\n",
       "      <td>2.0</td>\n",
       "      <td>1.0</td>\n",
       "      <td>1598.0</td>\n",
       "      <td>1.0</td>\n",
       "      <td>799.0</td>\n",
       "      <td>0.0</td>\n",
       "      <td>0.0</td>\n",
       "      <td>0.0</td>\n",
       "    </tr>\n",
       "    <tr>\n",
       "      <th>5</th>\n",
       "      <td>97</td>\n",
       "      <td>339806</td>\n",
       "      <td>904</td>\n",
       "      <td>8480737</td>\n",
       "      <td>519.0</td>\n",
       "      <td>904.0</td>\n",
       "      <td>519.0</td>\n",
       "      <td>519.0</td>\n",
       "      <td>519.0</td>\n",
       "      <td>548.37</td>\n",
       "      <td>...</td>\n",
       "      <td>548.37</td>\n",
       "      <td>1.0</td>\n",
       "      <td>1.0</td>\n",
       "      <td>1.0</td>\n",
       "      <td>519.0</td>\n",
       "      <td>1.0</td>\n",
       "      <td>519.0</td>\n",
       "      <td>0.0</td>\n",
       "      <td>0.0</td>\n",
       "      <td>0.0</td>\n",
       "    </tr>\n",
       "  </tbody>\n",
       "</table>\n",
       "<p>5 rows × 21 columns</p>\n",
       "</div>"
      ],
      "text/plain": [
       "   store_id  catalog_product_id  branch_x  productbranch_id  price  branch_y  \\\n",
       "0        97             1993289       893          45768796  317.0     893.0   \n",
       "1        97             2065172       910          50875187  946.9     910.0   \n",
       "3        97              384249       897           8280624  266.0     897.0   \n",
       "4        97              355389       904           9276623  799.0     904.0   \n",
       "5        97              339806       904           8480737  519.0     904.0   \n",
       "\n",
       "   min_branch_price  avg_branch_price  max_branch_price  min_shopper_price  \\\n",
       "0             317.0             317.0             317.0             317.00   \n",
       "1             946.9             946.9             946.9             722.25   \n",
       "3             266.0             266.0             266.0             266.00   \n",
       "4             799.0             799.0             799.0             614.00   \n",
       "5             519.0             519.0             519.0             548.37   \n",
       "\n",
       "   ...  max_shopper_price  requested  found  orders   sales   fr  avg_price  \\\n",
       "0  ...             345.00        3.0    3.0     3.0   951.0  1.0      317.0   \n",
       "1  ...             946.90        5.0    5.0     2.0  4734.5  1.0      946.9   \n",
       "3  ...             307.31        3.0    3.0     2.0   798.0  1.0      266.0   \n",
       "4  ...             614.00        2.0    2.0     1.0  1598.0  1.0      799.0   \n",
       "5  ...             548.37        1.0    1.0     1.0   519.0  1.0      519.0   \n",
       "\n",
       "   mk_un  mk_p  mk_tot  \n",
       "0    0.0   0.0     0.0  \n",
       "1    0.0   0.0     0.0  \n",
       "3    0.0   0.0     0.0  \n",
       "4    0.0   0.0     0.0  \n",
       "5    0.0   0.0     0.0  \n",
       "\n",
       "[5 rows x 21 columns]"
      ]
     },
     "execution_count": 35,
     "metadata": {},
     "output_type": "execute_result"
    }
   ],
   "source": [
    "good_perf = df[(~df['productbranch_id'].isin(bad_perf['productbranch_id']))&\n",
    "               (df['orders']>0)].copy()\n",
    "good_perf.to_csv(os.path.join(BASE_DIR,f'good_perf_{STORE}.csv'),index=False)\n",
    "print(good_perf['fr'].describe())\n",
    "good_perf.head()"
   ]
  },
  {
   "cell_type": "markdown",
   "id": "d9cba972",
   "metadata": {
    "heading_collapsed": true
   },
   "source": [
    "## Bulk"
   ]
  },
  {
   "cell_type": "code",
   "execution_count": 36,
   "id": "8135aa8e",
   "metadata": {
    "ExecuteTime": {
     "end_time": "2021-06-21T14:39:08.391555Z",
     "start_time": "2021-06-21T14:39:08.389141Z"
    },
    "hidden": true
   },
   "outputs": [],
   "source": [
    "#bad_perf#.to_csv(os.path.join(BASE_DIR,f'bad_performance_{STORE}.csv'),index=False)"
   ]
  },
  {
   "cell_type": "code",
   "execution_count": 37,
   "id": "c14b2199",
   "metadata": {
    "ExecuteTime": {
     "end_time": "2021-06-21T14:39:08.409614Z",
     "start_time": "2021-06-21T14:39:08.393990Z"
    },
    "hidden": true
   },
   "outputs": [
    {
     "data": {
      "text/html": [
       "<div>\n",
       "<style scoped>\n",
       "    .dataframe tbody tr th:only-of-type {\n",
       "        vertical-align: middle;\n",
       "    }\n",
       "\n",
       "    .dataframe tbody tr th {\n",
       "        vertical-align: top;\n",
       "    }\n",
       "\n",
       "    .dataframe thead th {\n",
       "        text-align: right;\n",
       "    }\n",
       "</style>\n",
       "<table border=\"1\" class=\"dataframe\">\n",
       "  <thead>\n",
       "    <tr style=\"text-align: right;\">\n",
       "      <th></th>\n",
       "      <th>store_id</th>\n",
       "      <th>product_branch_id</th>\n",
       "      <th>price</th>\n",
       "      <th>availability</th>\n",
       "      <th>schedule</th>\n",
       "    </tr>\n",
       "  </thead>\n",
       "  <tbody>\n",
       "    <tr>\n",
       "      <th>2</th>\n",
       "      <td>97</td>\n",
       "      <td>61733539</td>\n",
       "      <td></td>\n",
       "      <td></td>\n",
       "      <td></td>\n",
       "    </tr>\n",
       "    <tr>\n",
       "      <th>7</th>\n",
       "      <td>97</td>\n",
       "      <td>61732918</td>\n",
       "      <td></td>\n",
       "      <td></td>\n",
       "      <td></td>\n",
       "    </tr>\n",
       "    <tr>\n",
       "      <th>8</th>\n",
       "      <td>97</td>\n",
       "      <td>8280639</td>\n",
       "      <td></td>\n",
       "      <td></td>\n",
       "      <td></td>\n",
       "    </tr>\n",
       "    <tr>\n",
       "      <th>10</th>\n",
       "      <td>97</td>\n",
       "      <td>8480146</td>\n",
       "      <td></td>\n",
       "      <td></td>\n",
       "      <td></td>\n",
       "    </tr>\n",
       "    <tr>\n",
       "      <th>11</th>\n",
       "      <td>97</td>\n",
       "      <td>18798184</td>\n",
       "      <td></td>\n",
       "      <td></td>\n",
       "      <td></td>\n",
       "    </tr>\n",
       "  </tbody>\n",
       "</table>\n",
       "</div>"
      ],
      "text/plain": [
       "    store_id  product_branch_id price availability schedule\n",
       "2         97           61733539                            \n",
       "7         97           61732918                            \n",
       "8         97            8280639                            \n",
       "10        97            8480146                            \n",
       "11        97           18798184                            "
      ]
     },
     "execution_count": 37,
     "metadata": {},
     "output_type": "execute_result"
    }
   ],
   "source": [
    "export = bad_perf[['store_id','productbranch_id']].copy()\n",
    "export.rename(columns={'productbranch_id':'product_branch_id'},inplace=True)\n",
    "export[['price','availability','schedule']] = ''\n",
    "export.head()"
   ]
  },
  {
   "cell_type": "code",
   "execution_count": 38,
   "id": "5bee5327",
   "metadata": {
    "ExecuteTime": {
     "end_time": "2021-06-21T14:39:08.429590Z",
     "start_time": "2021-06-21T14:39:08.412041Z"
    },
    "hidden": true
   },
   "outputs": [
    {
     "name": "stdout",
     "output_type": "stream",
     "text": [
      "The file with 55 rows has been split up into 1 batches of 10000 rows each\n"
     ]
    }
   ],
   "source": [
    "batches(BASE_DIR,STORE,export)"
   ]
  },
  {
   "cell_type": "markdown",
   "id": "dcdcd125",
   "metadata": {},
   "source": [
    "## Summary"
   ]
  },
  {
   "cell_type": "code",
   "execution_count": 39,
   "id": "8cab033a",
   "metadata": {
    "ExecuteTime": {
     "end_time": "2021-06-21T14:39:08.439271Z",
     "start_time": "2021-06-21T14:39:08.432297Z"
    },
    "scrolled": true
   },
   "outputs": [
    {
     "name": "stdout",
     "output_type": "stream",
     "text": [
      "0 minutos con 0.43 segundos\n"
     ]
    },
    {
     "data": {
      "text/html": [
       "\n",
       "                <audio  controls=\"controls\" autoplay=\"autoplay\">\n",
       "                    <source src=\"data:audio/wav;base64,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\" type=\"audio/wav\" />\n",
       "                    Your browser does not support the audio element.\n",
       "                </audio>\n",
       "              "
      ],
      "text/plain": [
       "<IPython.lib.display.Audio object>"
      ]
     },
     "execution_count": 39,
     "metadata": {},
     "output_type": "execute_result"
    }
   ],
   "source": [
    "time_exp(time.time()-start)\n",
    "tono()"
   ]
  },
  {
   "cell_type": "code",
   "execution_count": 40,
   "id": "5a9bd943",
   "metadata": {
    "ExecuteTime": {
     "end_time": "2021-06-21T14:39:08.454411Z",
     "start_time": "2021-06-21T14:39:08.447033Z"
    },
    "scrolled": true
   },
   "outputs": [
    {
     "name": "stdout",
     "output_type": "stream",
     "text": [
      "Para la tienda Vinoteca, los productbranch se distribuyen:    \n",
      "-Catálogo\t23316    \n",
      "-Supply\t\t29124    \n",
      "-Sin mapear\t8978\t(35.4%)    \n",
      " -Brands\t25    \n",
      " -Sin órdenes\t8840    \n",
      " -Buen perform\t83\t(FR 100.0%)    \n",
      " -Mal perform\t55\t(FR 0.0%)    \n",
      " -Markup +-3%\t0\t(MK 0, nan%)    \n",
      "\n",
      "-Por desactivar\t55\t(0.2%)    \n",
      " -Productos \t46    \n",
      " -Órdenes\t56\t(16.8%)    \n",
      " -Ventas $ \t0\t(0.0%)\n"
     ]
    },
    {
     "name": "stderr",
     "output_type": "stream",
     "text": [
      "<ipython-input-26-327d3699787d>:10: RuntimeWarning: invalid value encountered in double_scalars\n",
      "  \\n -Markup +-3%\\t{len(mk)}\\t(MK {int(mk['mk_tot'].sum())}, {'{:.1%}'.format(mk['mk_tot'].sum()/mk['sales'].sum())})\\\n"
     ]
    }
   ],
   "source": [
    "summary()"
   ]
  }
 ],
 "metadata": {
  "kernelspec": {
   "display_name": "Python 3",
   "language": "python",
   "name": "python3"
  },
  "language_info": {
   "codemirror_mode": {
    "name": "ipython",
    "version": 3
   },
   "file_extension": ".py",
   "mimetype": "text/x-python",
   "name": "python",
   "nbconvert_exporter": "python",
   "pygments_lexer": "ipython3",
   "version": "3.9.1"
  },
  "toc": {
   "base_numbering": 1,
   "nav_menu": {},
   "number_sections": true,
   "sideBar": true,
   "skip_h1_title": true,
   "title_cell": "Table of Contents",
   "title_sidebar": "Contents",
   "toc_cell": false,
   "toc_position": {},
   "toc_section_display": true,
   "toc_window_display": true
  },
  "varInspector": {
   "cols": {
    "lenName": 16,
    "lenType": 16,
    "lenVar": 40
   },
   "kernels_config": {
    "python": {
     "delete_cmd_postfix": "",
     "delete_cmd_prefix": "del ",
     "library": "var_list.py",
     "varRefreshCmd": "print(var_dic_list())"
    },
    "r": {
     "delete_cmd_postfix": ") ",
     "delete_cmd_prefix": "rm(",
     "library": "var_list.r",
     "varRefreshCmd": "cat(var_dic_list()) "
    }
   },
   "types_to_exclude": [
    "module",
    "function",
    "builtin_function_or_method",
    "instance",
    "_Feature"
   ],
   "window_display": false
  }
 },
 "nbformat": 4,
 "nbformat_minor": 5
}
