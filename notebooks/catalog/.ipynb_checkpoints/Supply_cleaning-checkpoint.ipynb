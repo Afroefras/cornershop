{
 "cells": [
  {
   "cell_type": "markdown",
   "id": "9f4aa819",
   "metadata": {},
   "source": [
    "# Supply cleaning"
   ]
  },
  {
   "cell_type": "code",
   "execution_count": 1,
   "id": "e88e8efb",
   "metadata": {
    "ExecuteTime": {
     "end_time": "2021-07-07T23:20:38.886149Z",
     "start_time": "2021-07-07T23:20:38.876896Z"
    }
   },
   "outputs": [],
   "source": [
    "BASE_DIR = '/Users/efraflores/Desktop/EF/Corner/Catalog/Supply_cleaning/data'\n",
    "FILE_NAME = 'supply_test.csv'"
   ]
  },
  {
   "cell_type": "code",
   "execution_count": 2,
   "id": "613df153",
   "metadata": {
    "ExecuteTime": {
     "end_time": "2021-07-07T23:20:38.903423Z",
     "start_time": "2021-07-07T23:20:38.889151Z"
    }
   },
   "outputs": [
    {
     "data": {
      "text/plain": [
       "{'litro': 1,\n",
       " 'l': 1,\n",
       " 'lt': 1,\n",
       " 'ml': 0.001,\n",
       " 'mlt': 0.001,\n",
       " 'kilo': 1,\n",
       " 'kilogram': 1,\n",
       " 'kilogramo': 1,\n",
       " 'kg': 1,\n",
       " 'g': 0.001,\n",
       " 'gram': 0.001,\n",
       " 'gramo': 0.001,\n",
       " 'miligram': 1e-06,\n",
       " 'miligramo': 1e-06,\n",
       " 'mg': 1e-06,\n",
       " 'pieza': 1,\n",
       " 'pz': 1,\n",
       " 'onza': 0.0283495,\n",
       " 'oz': 0.0283495,\n",
       " 'libra': 0.453592,\n",
       " 'lb': 0.453592}"
      ]
     },
     "execution_count": 2,
     "metadata": {},
     "output_type": "execute_result"
    }
   ],
   "source": [
    "nu_pattern = r\"(?P<number>\\d+[\\.\\d]*)\\s*(?P<unit>litro|lt*|mlt*|kilo(?:gramo*)*|kg|g(?:ramo*)*|miligramo*|mg|pieza|pz|onza|oz|libra|lb)s*(?:\\s|_|\\.|\\/|$)\"\n",
    "units = ['litro','l','lt','ml','mlt','kilo','kilogram','kilogramo','kg','g','gram','gramo','miligram','miligramo','mg','pieza','pz','onza','oz','libra','lb']\n",
    "factors = [1,1,1,0.001,0.001,1,1,1,1,0.001,0.001,0.001,0.000001,0.000001,0.000001,1,1,0.0283495,0.0283495,0.453592,0.453592]\n",
    "conversion = dict(zip(units,factors))\n",
    "conversion"
   ]
  },
  {
   "cell_type": "markdown",
   "id": "42e2f40c",
   "metadata": {
    "heading_collapsed": true
   },
   "source": [
    "## Import"
   ]
  },
  {
   "cell_type": "code",
   "execution_count": 3,
   "id": "83dd1a1d",
   "metadata": {
    "ExecuteTime": {
     "end_time": "2021-07-07T23:20:38.908974Z",
     "start_time": "2021-07-07T23:20:38.906420Z"
    },
    "hidden": true
   },
   "outputs": [],
   "source": [
    "import sys\n",
    "sys.path.append('/Users/efraflores/Desktop/hub/cornershop/venv/lib/python3.9/site-packages')"
   ]
  },
  {
   "cell_type": "code",
   "execution_count": 4,
   "id": "0030539d",
   "metadata": {
    "ExecuteTime": {
     "end_time": "2021-07-07T23:20:39.255096Z",
     "start_time": "2021-07-07T23:20:38.911779Z"
    },
    "hidden": true
   },
   "outputs": [
    {
     "name": "stdout",
     "output_type": "stream",
     "text": [
      "1672\n"
     ]
    },
    {
     "data": {
      "text/html": [
       "<div>\n",
       "<style scoped>\n",
       "    .dataframe tbody tr th:only-of-type {\n",
       "        vertical-align: middle;\n",
       "    }\n",
       "\n",
       "    .dataframe tbody tr th {\n",
       "        vertical-align: top;\n",
       "    }\n",
       "\n",
       "    .dataframe thead th {\n",
       "        text-align: right;\n",
       "    }\n",
       "</style>\n",
       "<table border=\"1\" class=\"dataframe\">\n",
       "  <thead>\n",
       "    <tr style=\"text-align: right;\">\n",
       "      <th></th>\n",
       "      <th>catalog_product_id</th>\n",
       "      <th>name</th>\n",
       "      <th>img_url</th>\n",
       "      <th>category_id</th>\n",
       "      <th>buy_unit</th>\n",
       "      <th>barcode</th>\n",
       "      <th>package</th>\n",
       "      <th>description</th>\n",
       "      <th>brand</th>\n",
       "      <th>unit_conversion_rate</th>\n",
       "      <th>weight</th>\n",
       "      <th>sku</th>\n",
       "      <th>stock</th>\n",
       "      <th>row_num</th>\n",
       "    </tr>\n",
       "    <tr>\n",
       "      <th>supply_product_id</th>\n",
       "      <th></th>\n",
       "      <th></th>\n",
       "      <th></th>\n",
       "      <th></th>\n",
       "      <th></th>\n",
       "      <th></th>\n",
       "      <th></th>\n",
       "      <th></th>\n",
       "      <th></th>\n",
       "      <th></th>\n",
       "      <th></th>\n",
       "      <th></th>\n",
       "      <th></th>\n",
       "      <th></th>\n",
       "    </tr>\n",
       "  </thead>\n",
       "  <tbody>\n",
       "    <tr>\n",
       "      <th>18492371</th>\n",
       "      <td>NaN</td>\n",
       "      <td>Music Box Round Box Llama</td>\n",
       "      <td>http://imagenes.sanborns.com.mx/240/2003282735...</td>\n",
       "      <td>102</td>\n",
       "      <td>UN</td>\n",
       "      <td>2003282735293</td>\n",
       "      <td>NaN</td>\n",
       "      <td>#N/D</td>\n",
       "      <td>Zhejiang Sunworld Trade Co. Ltd</td>\n",
       "      <td>NaN</td>\n",
       "      <td>NaN</td>\n",
       "      <td>8273529</td>\n",
       "      <td>28</td>\n",
       "      <td>1</td>\n",
       "    </tr>\n",
       "  </tbody>\n",
       "</table>\n",
       "</div>"
      ],
      "text/plain": [
       "                   catalog_product_id                       name  \\\n",
       "supply_product_id                                                  \n",
       "18492371                          NaN  Music Box Round Box Llama   \n",
       "\n",
       "                                                             img_url  \\\n",
       "supply_product_id                                                      \n",
       "18492371           http://imagenes.sanborns.com.mx/240/2003282735...   \n",
       "\n",
       "                   category_id buy_unit        barcode package description  \\\n",
       "supply_product_id                                                            \n",
       "18492371                   102       UN  2003282735293     NaN        #N/D   \n",
       "\n",
       "                                             brand  unit_conversion_rate  \\\n",
       "supply_product_id                                                          \n",
       "18492371           Zhejiang Sunworld Trade Co. Ltd                   NaN   \n",
       "\n",
       "                   weight      sku  stock  row_num  \n",
       "supply_product_id                                   \n",
       "18492371              NaN  8273529     28        1  "
      ]
     },
     "metadata": {},
     "output_type": "display_data"
    }
   ],
   "source": [
    "import os\n",
    "import pandas as pd\n",
    "\n",
    "df = pd.read_csv(os.path.join(BASE_DIR,FILE_NAME)).set_index('supply_product_id')\n",
    "backup = df.copy()\n",
    "print(len(df))\n",
    "display(df.sample())"
   ]
  },
  {
   "cell_type": "markdown",
   "id": "aff6f2fc",
   "metadata": {},
   "source": [
    "## Functions"
   ]
  },
  {
   "cell_type": "markdown",
   "id": "21a8bba7",
   "metadata": {
    "heading_collapsed": true
   },
   "source": [
    "### Timing and tone"
   ]
  },
  {
   "cell_type": "code",
   "execution_count": 5,
   "id": "b978950c",
   "metadata": {
    "ExecuteTime": {
     "end_time": "2021-07-07T23:20:39.260620Z",
     "start_time": "2021-07-07T23:20:39.256658Z"
    },
    "hidden": true
   },
   "outputs": [],
   "source": [
    "import time\n",
    "import numpy as np\n",
    "from IPython.lib.display import Audio\n",
    "\n",
    "start = time.time()\n",
    "def time_exp(x):\n",
    "    minutes, seconds = np.floor(x/60), 60*(x/60-np.floor(x/60))\n",
    "    print(f\"{'{:.0f}'.format(minutes)} minutos con {'{:.2f}'.format(seconds)} segundos\")\n",
    "    \n",
    "def tono(a=1000, b=700, play_time_seconds=1, framerate=4410):\n",
    "    t = np.linspace(0, play_time_seconds, framerate*play_time_seconds)*np.pi\n",
    "    return Audio(np.sin(a*t) + np.sin(b*t), rate=framerate, autoplay=True)"
   ]
  },
  {
   "cell_type": "markdown",
   "id": "14217c41",
   "metadata": {
    "heading_collapsed": true
   },
   "source": [
    "### Strip and capitalize"
   ]
  },
  {
   "cell_type": "code",
   "execution_count": 6,
   "id": "aaeb06e8",
   "metadata": {
    "ExecuteTime": {
     "end_time": "2021-07-07T23:20:39.267398Z",
     "start_time": "2021-07-07T23:20:39.262490Z"
    },
    "hidden": true
   },
   "outputs": [],
   "source": [
    "import re\n",
    "\n",
    "def strip_capitalize(text):\n",
    "    # Clean spaces at the beggining or end and makes the first letter to uppercase\n",
    "    clean = str(text).strip().capitalize()\n",
    "    # Just one, if there are two or more spaces\n",
    "    clean = re.sub(r'\\s{2,}',' ',clean)\n",
    "    # Make uppercase the letter after a dot \n",
    "    clean = re.sub(r'\\.\\s*([a-z])',lambda word: word.group(0).upper(),clean)\n",
    "    return clean"
   ]
  },
  {
   "cell_type": "code",
   "execution_count": 7,
   "id": "e8579c8f",
   "metadata": {
    "ExecuteTime": {
     "end_time": "2021-07-07T23:20:39.273671Z",
     "start_time": "2021-07-07T23:20:39.269342Z"
    },
    "hidden": true
   },
   "outputs": [
    {
     "data": {
      "text/plain": [
       "['Esta es una. Prueba', 'Esta también .Es. Una prueba']"
      ]
     },
     "execution_count": 7,
     "metadata": {},
     "output_type": "execute_result"
    }
   ],
   "source": [
    "test = [' Esta es  Una. prueba','esta tambiÉn   .es.  una Prueba ']\n",
    "[strip_capitalize(x) for x in test]"
   ]
  },
  {
   "cell_type": "markdown",
   "id": "ab9dbd26",
   "metadata": {
    "ExecuteTime": {
     "end_time": "2021-07-07T17:49:42.112498Z",
     "start_time": "2021-07-07T17:49:42.107506Z"
    },
    "heading_collapsed": true
   },
   "source": [
    "### Preprocessing"
   ]
  },
  {
   "cell_type": "code",
   "execution_count": 8,
   "id": "3ef81841",
   "metadata": {
    "ExecuteTime": {
     "end_time": "2021-07-07T23:20:39.281307Z",
     "start_time": "2021-07-07T23:20:39.277971Z"
    },
    "hidden": true
   },
   "outputs": [],
   "source": [
    "def preproc(data, package_col='package', cols=['name','description']):\n",
    "    df = data.copy()\n",
    "    df = df[df[package_col].isnull()][cols].copy()\n",
    "    for col in cols:\n",
    "        df[col] = df[col].apply(strip_capitalize)\n",
    "    return df"
   ]
  },
  {
   "cell_type": "markdown",
   "id": "aa23963e",
   "metadata": {
    "ExecuteTime": {
     "end_time": "2021-07-07T17:19:43.894725Z",
     "start_time": "2021-07-07T17:19:43.891541Z"
    },
    "heading_collapsed": true
   },
   "source": [
    "### Package"
   ]
  },
  {
   "cell_type": "code",
   "execution_count": 9,
   "id": "687efaf3",
   "metadata": {
    "ExecuteTime": {
     "end_time": "2021-07-07T23:20:39.288989Z",
     "start_time": "2021-07-07T23:20:39.285195Z"
    },
    "hidden": true
   },
   "outputs": [],
   "source": [
    "def quantity(data, pattern=nu_pattern, cols=['name','description']):\n",
    "    df = data.copy()\n",
    "    df['full'] = df[cols].apply(lambda x:'_ '.join(x.astype(str)),axis=1)\n",
    "    qty = pd.DataFrame([re.search(pattern,x).groupdict() if re.search(pattern,x)!=None\n",
    "                        else {'number':1,'unit':'pz'} for x in df['full']],\n",
    "                       index=df.index)\n",
    "    return df.join(qty).drop(columns=['full'])"
   ]
  },
  {
   "cell_type": "markdown",
   "id": "349d7eae",
   "metadata": {
    "heading_collapsed": true
   },
   "source": [
    "### Weight"
   ]
  },
  {
   "cell_type": "code",
   "execution_count": 10,
   "id": "4b0ecb8e",
   "metadata": {
    "ExecuteTime": {
     "end_time": "2021-07-07T23:20:39.293273Z",
     "start_time": "2021-07-07T23:20:39.290475Z"
    },
    "hidden": true
   },
   "outputs": [],
   "source": [
    "def weight(data, number_col='number', unit_col='unit', conv_dict=conversion):\n",
    "    df = data.copy()\n",
    "    df[number_col] = df[number_col].astype(float)\n",
    "    df['weight'] = df[number_col]*df[unit_col].map(conv_dict)\n",
    "    return df"
   ]
  },
  {
   "cell_type": "markdown",
   "id": "8a707f2e",
   "metadata": {},
   "source": [
    "### Brand"
   ]
  },
  {
   "cell_type": "code",
   "execution_count": null,
   "id": "d8c9377b",
   "metadata": {},
   "outputs": [],
   "source": []
  },
  {
   "cell_type": "code",
   "execution_count": null,
   "id": "55426355",
   "metadata": {},
   "outputs": [],
   "source": []
  },
  {
   "cell_type": "code",
   "execution_count": null,
   "id": "5ef40aa2",
   "metadata": {},
   "outputs": [],
   "source": []
  },
  {
   "cell_type": "code",
   "execution_count": null,
   "id": "788a5741",
   "metadata": {},
   "outputs": [],
   "source": []
  },
  {
   "cell_type": "markdown",
   "id": "0f517daa",
   "metadata": {},
   "source": [
    "## Transform"
   ]
  },
  {
   "cell_type": "markdown",
   "id": "c1245cd7",
   "metadata": {},
   "source": [
    "- Remove blank spaces at the beginning and end (like a trim). ***Resp: Lau***\n",
    "- Proper lower/upper cases. Upper case only at the beginning or after a dot. ***Resp: Lau***\n",
    "- Extract package from name. ***Resp: Efra***\n",
    "- Estimate weight from package. ***Resp: Efra***\n",
    "- Extract brand from name if brand field is null\n",
    "- Remove redundant information in name such as brand (when received also in brand field)\n",
    "- Flag images with broken link: ***Resp: Matías***\n",
    "- Flag SKUs sharing the same barcode\n",
    "- Input unit and unit size from package (applies more to Colombia)\n",
    "- Automatically suggest search terms (** desirable)\n",
    "- Duplicated products not by barcode, but by their attributes"
   ]
  },
  {
   "cell_type": "markdown",
   "id": "1e5cfb63",
   "metadata": {
    "heading_collapsed": true
   },
   "source": [
    "### Preprocessing"
   ]
  },
  {
   "cell_type": "code",
   "execution_count": 11,
   "id": "807731b6",
   "metadata": {
    "ExecuteTime": {
     "end_time": "2021-07-07T23:20:39.328120Z",
     "start_time": "2021-07-07T23:20:39.295410Z"
    },
    "hidden": true
   },
   "outputs": [
    {
     "data": {
      "text/html": [
       "<div>\n",
       "<style scoped>\n",
       "    .dataframe tbody tr th:only-of-type {\n",
       "        vertical-align: middle;\n",
       "    }\n",
       "\n",
       "    .dataframe tbody tr th {\n",
       "        vertical-align: top;\n",
       "    }\n",
       "\n",
       "    .dataframe thead th {\n",
       "        text-align: right;\n",
       "    }\n",
       "</style>\n",
       "<table border=\"1\" class=\"dataframe\">\n",
       "  <thead>\n",
       "    <tr style=\"text-align: right;\">\n",
       "      <th></th>\n",
       "      <th>name</th>\n",
       "      <th>description</th>\n",
       "    </tr>\n",
       "    <tr>\n",
       "      <th>supply_product_id</th>\n",
       "      <th></th>\n",
       "      <th></th>\n",
       "    </tr>\n",
       "  </thead>\n",
       "  <tbody>\n",
       "    <tr>\n",
       "      <th>18491724</th>\n",
       "      <td>Tall words stacking tea set of</td>\n",
       "      <td>#n/d</td>\n",
       "    </tr>\n",
       "    <tr>\n",
       "      <th>26107559</th>\n",
       "      <td>Solar 0hc7079 90056g58 mml4c</td>\n",
       "      <td>Luminosa y radiante forma piloto; con un armaz...</td>\n",
       "    </tr>\n",
       "    <tr>\n",
       "      <th>26107208</th>\n",
       "      <td>Solar mj h789-16m</td>\n",
       "      <td>Los lentes maui jim con tecnologia polarized p...</td>\n",
       "    </tr>\n",
       "    <tr>\n",
       "      <th>18488863</th>\n",
       "      <td>Globo jumbo verde bosque 1m</td>\n",
       "      <td>Globo verde bosque jumbo de 1m para adornar pa...</td>\n",
       "    </tr>\n",
       "  </tbody>\n",
       "</table>\n",
       "</div>"
      ],
      "text/plain": [
       "                                             name  \\\n",
       "supply_product_id                                   \n",
       "18491724           Tall words stacking tea set of   \n",
       "26107559             Solar 0hc7079 90056g58 mml4c   \n",
       "26107208                        Solar mj h789-16m   \n",
       "18488863              Globo jumbo verde bosque 1m   \n",
       "\n",
       "                                                         description  \n",
       "supply_product_id                                                     \n",
       "18491724                                                        #n/d  \n",
       "26107559           Luminosa y radiante forma piloto; con un armaz...  \n",
       "26107208           Los lentes maui jim con tecnologia polarized p...  \n",
       "18488863           Globo verde bosque jumbo de 1m para adornar pa...  "
      ]
     },
     "execution_count": 11,
     "metadata": {},
     "output_type": "execute_result"
    }
   ],
   "source": [
    "df = preproc(df)\n",
    "df.sample(4)"
   ]
  },
  {
   "cell_type": "markdown",
   "id": "146b0d0b",
   "metadata": {
    "heading_collapsed": true
   },
   "source": [
    "### Quantity"
   ]
  },
  {
   "cell_type": "code",
   "execution_count": 12,
   "id": "0c4c9224",
   "metadata": {
    "ExecuteTime": {
     "end_time": "2021-07-07T23:20:39.472537Z",
     "start_time": "2021-07-07T23:20:39.329647Z"
    },
    "hidden": true
   },
   "outputs": [
    {
     "data": {
      "text/html": [
       "<div>\n",
       "<style scoped>\n",
       "    .dataframe tbody tr th:only-of-type {\n",
       "        vertical-align: middle;\n",
       "    }\n",
       "\n",
       "    .dataframe tbody tr th {\n",
       "        vertical-align: top;\n",
       "    }\n",
       "\n",
       "    .dataframe thead th {\n",
       "        text-align: right;\n",
       "    }\n",
       "</style>\n",
       "<table border=\"1\" class=\"dataframe\">\n",
       "  <thead>\n",
       "    <tr style=\"text-align: right;\">\n",
       "      <th></th>\n",
       "      <th>name</th>\n",
       "      <th>description</th>\n",
       "      <th>number</th>\n",
       "      <th>unit</th>\n",
       "    </tr>\n",
       "    <tr>\n",
       "      <th>supply_product_id</th>\n",
       "      <th></th>\n",
       "      <th></th>\n",
       "      <th></th>\n",
       "      <th></th>\n",
       "    </tr>\n",
       "  </thead>\n",
       "  <tbody>\n",
       "    <tr>\n",
       "      <th>35635602</th>\n",
       "      <td>Marco digital voltak dhq 8 maderach</td>\n",
       "      <td>No dejes de recordar los bellos momentos de tu...</td>\n",
       "      <td>1</td>\n",
       "      <td>pz</td>\n",
       "    </tr>\n",
       "    <tr>\n",
       "      <th>35634665</th>\n",
       "      <td>Audifonos freelace pro negro</td>\n",
       "      <td>#n/d</td>\n",
       "      <td>1</td>\n",
       "      <td>pz</td>\n",
       "    </tr>\n",
       "    <tr>\n",
       "      <th>35635354</th>\n",
       "      <td>Navidad portarretrato cat ornament</td>\n",
       "      <td>Ilumina la navidad con este bello ornamento qu...</td>\n",
       "      <td>1</td>\n",
       "      <td>pz</td>\n",
       "    </tr>\n",
       "  </tbody>\n",
       "</table>\n",
       "</div>"
      ],
      "text/plain": [
       "                                                  name  \\\n",
       "supply_product_id                                        \n",
       "35635602           Marco digital voltak dhq 8 maderach   \n",
       "35634665                  Audifonos freelace pro negro   \n",
       "35635354            Navidad portarretrato cat ornament   \n",
       "\n",
       "                                                         description number  \\\n",
       "supply_product_id                                                             \n",
       "35635602           No dejes de recordar los bellos momentos de tu...      1   \n",
       "35634665                                                        #n/d      1   \n",
       "35635354           Ilumina la navidad con este bello ornamento qu...      1   \n",
       "\n",
       "                  unit  \n",
       "supply_product_id       \n",
       "35635602            pz  \n",
       "35634665            pz  \n",
       "35635354            pz  "
      ]
     },
     "execution_count": 12,
     "metadata": {},
     "output_type": "execute_result"
    }
   ],
   "source": [
    "df = quantity(df)\n",
    "df.sample(3)"
   ]
  },
  {
   "cell_type": "markdown",
   "id": "c3780558",
   "metadata": {
    "heading_collapsed": true
   },
   "source": [
    "### Weight"
   ]
  },
  {
   "cell_type": "code",
   "execution_count": 13,
   "id": "87c21d56",
   "metadata": {
    "ExecuteTime": {
     "end_time": "2021-07-07T23:20:39.487498Z",
     "start_time": "2021-07-07T23:20:39.474161Z"
    },
    "hidden": true
   },
   "outputs": [
    {
     "data": {
      "text/html": [
       "<div>\n",
       "<style scoped>\n",
       "    .dataframe tbody tr th:only-of-type {\n",
       "        vertical-align: middle;\n",
       "    }\n",
       "\n",
       "    .dataframe tbody tr th {\n",
       "        vertical-align: top;\n",
       "    }\n",
       "\n",
       "    .dataframe thead th {\n",
       "        text-align: right;\n",
       "    }\n",
       "</style>\n",
       "<table border=\"1\" class=\"dataframe\">\n",
       "  <thead>\n",
       "    <tr style=\"text-align: right;\">\n",
       "      <th></th>\n",
       "      <th>name</th>\n",
       "      <th>description</th>\n",
       "      <th>number</th>\n",
       "      <th>unit</th>\n",
       "      <th>weight</th>\n",
       "    </tr>\n",
       "    <tr>\n",
       "      <th>supply_product_id</th>\n",
       "      <th></th>\n",
       "      <th></th>\n",
       "      <th></th>\n",
       "      <th></th>\n",
       "      <th></th>\n",
       "    </tr>\n",
       "  </thead>\n",
       "  <tbody>\n",
       "    <tr>\n",
       "      <th>26107655</th>\n",
       "      <td>Solar 0hc7112 90011156 m</td>\n",
       "      <td>Forma irregular que brinda el espíritu fresco ...</td>\n",
       "      <td>1.0</td>\n",
       "      <td>pz</td>\n",
       "      <td>1.000000</td>\n",
       "    </tr>\n",
       "    <tr>\n",
       "      <th>26104348</th>\n",
       "      <td>Anfora 5 onzas azul marino</td>\n",
       "      <td>Ánfora de acero inoxidable azul marino, ideal ...</td>\n",
       "      <td>5.0</td>\n",
       "      <td>onza</td>\n",
       "      <td>0.141747</td>\n",
       "    </tr>\n",
       "    <tr>\n",
       "      <th>35635876</th>\n",
       "      <td>Flor artificial orquidea blanca 5 f</td>\n",
       "      <td>Ramo de 5 orquídeas artificiales color blanco,...</td>\n",
       "      <td>1.0</td>\n",
       "      <td>pz</td>\n",
       "      <td>1.000000</td>\n",
       "    </tr>\n",
       "  </tbody>\n",
       "</table>\n",
       "</div>"
      ],
      "text/plain": [
       "                                                  name  \\\n",
       "supply_product_id                                        \n",
       "26107655                      Solar 0hc7112 90011156 m   \n",
       "26104348                    Anfora 5 onzas azul marino   \n",
       "35635876           Flor artificial orquidea blanca 5 f   \n",
       "\n",
       "                                                         description  number  \\\n",
       "supply_product_id                                                              \n",
       "26107655           Forma irregular que brinda el espíritu fresco ...     1.0   \n",
       "26104348           Ánfora de acero inoxidable azul marino, ideal ...     5.0   \n",
       "35635876           Ramo de 5 orquídeas artificiales color blanco,...     1.0   \n",
       "\n",
       "                   unit    weight  \n",
       "supply_product_id                  \n",
       "26107655             pz  1.000000  \n",
       "26104348           onza  0.141747  \n",
       "35635876             pz  1.000000  "
      ]
     },
     "execution_count": 13,
     "metadata": {},
     "output_type": "execute_result"
    }
   ],
   "source": [
    "df = weight(df)\n",
    "df.sample(3)"
   ]
  },
  {
   "cell_type": "code",
   "execution_count": 14,
   "id": "f08b6e57",
   "metadata": {
    "ExecuteTime": {
     "end_time": "2021-07-07T23:20:39.500400Z",
     "start_time": "2021-07-07T23:20:39.489736Z"
    },
    "hidden": true
   },
   "outputs": [
    {
     "data": {
      "text/html": [
       "<div>\n",
       "<style scoped>\n",
       "    .dataframe tbody tr th:only-of-type {\n",
       "        vertical-align: middle;\n",
       "    }\n",
       "\n",
       "    .dataframe tbody tr th {\n",
       "        vertical-align: top;\n",
       "    }\n",
       "\n",
       "    .dataframe thead th {\n",
       "        text-align: right;\n",
       "    }\n",
       "</style>\n",
       "<table border=\"1\" class=\"dataframe\">\n",
       "  <thead>\n",
       "    <tr style=\"text-align: right;\">\n",
       "      <th></th>\n",
       "      <th>name</th>\n",
       "      <th>description</th>\n",
       "      <th>number</th>\n",
       "      <th>unit</th>\n",
       "      <th>weight</th>\n",
       "    </tr>\n",
       "    <tr>\n",
       "      <th>supply_product_id</th>\n",
       "      <th></th>\n",
       "      <th></th>\n",
       "      <th></th>\n",
       "      <th></th>\n",
       "      <th></th>\n",
       "    </tr>\n",
       "  </thead>\n",
       "  <tbody>\n",
       "    <tr>\n",
       "      <th>18487991</th>\n",
       "      <td>Carbon para hooka tubo c/10 piezas</td>\n",
       "      <td>Carbón para hooka , tubo con 10 carbones cada ...</td>\n",
       "      <td>10.0</td>\n",
       "      <td>pieza</td>\n",
       "      <td>10.00</td>\n",
       "    </tr>\n",
       "    <tr>\n",
       "      <th>18491488</th>\n",
       "      <td>Termo acero inoxidable color gris</td>\n",
       "      <td>Termo de acero inoxidable ideal para tus bebid...</td>\n",
       "      <td>600.0</td>\n",
       "      <td>ml</td>\n",
       "      <td>0.60</td>\n",
       "    </tr>\n",
       "    <tr>\n",
       "      <th>18491494</th>\n",
       "      <td>Termo acero inoxidable color negro</td>\n",
       "      <td>Termo de acero inoxidable, ideal para tus bebi...</td>\n",
       "      <td>600.0</td>\n",
       "      <td>ml</td>\n",
       "      <td>0.60</td>\n",
       "    </tr>\n",
       "    <tr>\n",
       "      <th>18491632</th>\n",
       "      <td>Mickey mouse tea for one red</td>\n",
       "      <td>Acompaña tu tarde de té con este set de tea fo...</td>\n",
       "      <td>470.0</td>\n",
       "      <td>ml</td>\n",
       "      <td>0.47</td>\n",
       "    </tr>\n",
       "    <tr>\n",
       "      <th>18491658</th>\n",
       "      <td>Laurel burch mug yellow</td>\n",
       "      <td>Agrega un toque de estilo a tu mesa con este m...</td>\n",
       "      <td>430.0</td>\n",
       "      <td>ml</td>\n",
       "      <td>0.43</td>\n",
       "    </tr>\n",
       "  </tbody>\n",
       "</table>\n",
       "</div>"
      ],
      "text/plain": [
       "                                                 name  \\\n",
       "supply_product_id                                       \n",
       "18487991           Carbon para hooka tubo c/10 piezas   \n",
       "18491488            Termo acero inoxidable color gris   \n",
       "18491494           Termo acero inoxidable color negro   \n",
       "18491632                 Mickey mouse tea for one red   \n",
       "18491658                      Laurel burch mug yellow   \n",
       "\n",
       "                                                         description  number  \\\n",
       "supply_product_id                                                              \n",
       "18487991           Carbón para hooka , tubo con 10 carbones cada ...    10.0   \n",
       "18491488           Termo de acero inoxidable ideal para tus bebid...   600.0   \n",
       "18491494           Termo de acero inoxidable, ideal para tus bebi...   600.0   \n",
       "18491632           Acompaña tu tarde de té con este set de tea fo...   470.0   \n",
       "18491658           Agrega un toque de estilo a tu mesa con este m...   430.0   \n",
       "\n",
       "                    unit  weight  \n",
       "supply_product_id                 \n",
       "18487991           pieza   10.00  \n",
       "18491488              ml    0.60  \n",
       "18491494              ml    0.60  \n",
       "18491632              ml    0.47  \n",
       "18491658              ml    0.43  "
      ]
     },
     "execution_count": 14,
     "metadata": {},
     "output_type": "execute_result"
    }
   ],
   "source": [
    "df[df['unit']!='pz'].head()"
   ]
  },
  {
   "cell_type": "markdown",
   "id": "8335141f",
   "metadata": {},
   "source": [
    "### Brand"
   ]
  },
  {
   "cell_type": "code",
   "execution_count": null,
   "id": "0ed0499b",
   "metadata": {},
   "outputs": [],
   "source": []
  },
  {
   "cell_type": "code",
   "execution_count": null,
   "id": "866d3b60",
   "metadata": {},
   "outputs": [],
   "source": []
  },
  {
   "cell_type": "code",
   "execution_count": null,
   "id": "7db83a41",
   "metadata": {},
   "outputs": [],
   "source": []
  },
  {
   "cell_type": "markdown",
   "id": "b0c4805f",
   "metadata": {
    "heading_collapsed": true
   },
   "source": [
    "### Test"
   ]
  },
  {
   "cell_type": "code",
   "execution_count": 15,
   "id": "c700474b",
   "metadata": {
    "ExecuteTime": {
     "end_time": "2021-07-07T23:20:39.505829Z",
     "start_time": "2021-07-07T23:20:39.502616Z"
    },
    "hidden": true
   },
   "outputs": [],
   "source": [
    "test = ['Piñas s&w en trozos 234 g_ 7503021632166',\n",
    "        'Granola dulcerel dorada 1 kilos_ 7501485800084',\n",
    "        'Cerveza brewdog punk ipa 2 piezas 330 ml',\n",
    "        'Tortilla ochoa harinas trigo 12 pz',\n",
    "        'Janumet t 56 50mg/1000mg',\n",
    "        'Concentrado platano cubeta 4.54 kgs',\n",
    "        'Semillas 250gramos',\n",
    "        'Vino blanco cono sur chardonnay chi750ml',\n",
    "        'Botella disney 01g9656 minnie 10 oz_ 71463096565',\n",
    "        'Pintura home line clest 3.8 lt vinil_ 75012536',\n",
    "        'Rosca brioche queso crema 1.12 kg pz',\n",
    "        'Botella 2.2litros y 1litro',\n",
    "        'Lavadora daewoo 14kg. Semiautomática dmw',\n",
    "        'Bucket 11.4lb',\n",
    "        'Caja de 30 libras']"
   ]
  },
  {
   "cell_type": "markdown",
   "id": "dcdcd125",
   "metadata": {},
   "source": [
    "## End"
   ]
  },
  {
   "cell_type": "code",
   "execution_count": 16,
   "id": "cfb39631",
   "metadata": {
    "ExecuteTime": {
     "end_time": "2021-07-07T23:20:39.519905Z",
     "start_time": "2021-07-07T23:20:39.507421Z"
    }
   },
   "outputs": [
    {
     "data": {
      "text/html": [
       "<div>\n",
       "<style scoped>\n",
       "    .dataframe tbody tr th:only-of-type {\n",
       "        vertical-align: middle;\n",
       "    }\n",
       "\n",
       "    .dataframe tbody tr th {\n",
       "        vertical-align: top;\n",
       "    }\n",
       "\n",
       "    .dataframe thead th {\n",
       "        text-align: right;\n",
       "    }\n",
       "</style>\n",
       "<table border=\"1\" class=\"dataframe\">\n",
       "  <thead>\n",
       "    <tr style=\"text-align: right;\">\n",
       "      <th></th>\n",
       "      <th>number</th>\n",
       "      <th>unit</th>\n",
       "      <th>weight</th>\n",
       "    </tr>\n",
       "  </thead>\n",
       "  <tbody>\n",
       "    <tr>\n",
       "      <th>0</th>\n",
       "      <td>234.00</td>\n",
       "      <td>g</td>\n",
       "      <td>0.234000</td>\n",
       "    </tr>\n",
       "    <tr>\n",
       "      <th>1</th>\n",
       "      <td>1.00</td>\n",
       "      <td>kilo</td>\n",
       "      <td>1.000000</td>\n",
       "    </tr>\n",
       "    <tr>\n",
       "      <th>2</th>\n",
       "      <td>2.00</td>\n",
       "      <td>pieza</td>\n",
       "      <td>2.000000</td>\n",
       "    </tr>\n",
       "    <tr>\n",
       "      <th>3</th>\n",
       "      <td>12.00</td>\n",
       "      <td>pz</td>\n",
       "      <td>12.000000</td>\n",
       "    </tr>\n",
       "    <tr>\n",
       "      <th>4</th>\n",
       "      <td>50.00</td>\n",
       "      <td>mg</td>\n",
       "      <td>0.000050</td>\n",
       "    </tr>\n",
       "    <tr>\n",
       "      <th>5</th>\n",
       "      <td>4.54</td>\n",
       "      <td>kg</td>\n",
       "      <td>4.540000</td>\n",
       "    </tr>\n",
       "    <tr>\n",
       "      <th>6</th>\n",
       "      <td>250.00</td>\n",
       "      <td>gramo</td>\n",
       "      <td>0.250000</td>\n",
       "    </tr>\n",
       "    <tr>\n",
       "      <th>7</th>\n",
       "      <td>750.00</td>\n",
       "      <td>ml</td>\n",
       "      <td>0.750000</td>\n",
       "    </tr>\n",
       "    <tr>\n",
       "      <th>8</th>\n",
       "      <td>10.00</td>\n",
       "      <td>oz</td>\n",
       "      <td>0.283495</td>\n",
       "    </tr>\n",
       "    <tr>\n",
       "      <th>9</th>\n",
       "      <td>3.80</td>\n",
       "      <td>lt</td>\n",
       "      <td>3.800000</td>\n",
       "    </tr>\n",
       "    <tr>\n",
       "      <th>10</th>\n",
       "      <td>1.12</td>\n",
       "      <td>kg</td>\n",
       "      <td>1.120000</td>\n",
       "    </tr>\n",
       "    <tr>\n",
       "      <th>11</th>\n",
       "      <td>2.20</td>\n",
       "      <td>litro</td>\n",
       "      <td>2.200000</td>\n",
       "    </tr>\n",
       "    <tr>\n",
       "      <th>12</th>\n",
       "      <td>14.00</td>\n",
       "      <td>kg</td>\n",
       "      <td>14.000000</td>\n",
       "    </tr>\n",
       "    <tr>\n",
       "      <th>13</th>\n",
       "      <td>11.40</td>\n",
       "      <td>lb</td>\n",
       "      <td>5.170949</td>\n",
       "    </tr>\n",
       "    <tr>\n",
       "      <th>14</th>\n",
       "      <td>30.00</td>\n",
       "      <td>libra</td>\n",
       "      <td>13.607760</td>\n",
       "    </tr>\n",
       "  </tbody>\n",
       "</table>\n",
       "</div>"
      ],
      "text/plain": [
       "    number   unit     weight\n",
       "0   234.00      g   0.234000\n",
       "1     1.00   kilo   1.000000\n",
       "2     2.00  pieza   2.000000\n",
       "3    12.00     pz  12.000000\n",
       "4    50.00     mg   0.000050\n",
       "5     4.54     kg   4.540000\n",
       "6   250.00  gramo   0.250000\n",
       "7   750.00     ml   0.750000\n",
       "8    10.00     oz   0.283495\n",
       "9     3.80     lt   3.800000\n",
       "10    1.12     kg   1.120000\n",
       "11    2.20  litro   2.200000\n",
       "12   14.00     kg  14.000000\n",
       "13   11.40     lb   5.170949\n",
       "14   30.00  libra  13.607760"
      ]
     },
     "execution_count": 16,
     "metadata": {},
     "output_type": "execute_result"
    }
   ],
   "source": [
    "weight(pd.DataFrame([re.search(nu_pattern,x).groupdict() for x in test]))"
   ]
  },
  {
   "cell_type": "code",
   "execution_count": 17,
   "id": "8cab033a",
   "metadata": {
    "ExecuteTime": {
     "end_time": "2021-07-07T23:20:39.529233Z",
     "start_time": "2021-07-07T23:20:39.521482Z"
    },
    "scrolled": true
   },
   "outputs": [
    {
     "name": "stdout",
     "output_type": "stream",
     "text": [
      "0 minutos con 0.26 segundos\n"
     ]
    },
    {
     "data": {
      "text/html": [
       "\n",
       "                <audio  controls=\"controls\" autoplay=\"autoplay\">\n",
       "                    <source src=\"data:audio/wav;base64,UklGRpgiAABXQVZFZm10IBAAAAABAAEAOhEAAHQiAAACABAAZGF0YXQiAAAAAMFIk3VMdgdNgQxRzyKsaKylyRzyThJvHiwXwAed/rAE+Bc/LL0xNx7S89DBdZ6ynH7CtQS9SqR4OHufUGAJXsHtk2qQYrTI7eEjhEJoQtYqWAx09zT0xP6iCnsKgviu2oPARLt21IcHLEKsa/lvb0lnBM+6X4ljg3uqIu4bM1NfumRKRjoVBOjOz0HR/uOT+IQBvPpu66nh4en/BkwvDlBzVmw5if+bvWSO2YZwrAXyAT2EcJR541apGO/Y6K/XqfTC7erNDd8dgRl1CkT/ZwL5E0ApbzKrI5r8Z8rFoguaDLmu9yc/N3NMfhhbIhcPzTyZ0o2mq/nibRtDP4pEIDCIEf35gfNY/A4JzQvz/E/gIcQTuq7NG/0pOINmcHI0UwcSDMdrj+2Ap6AC4d4nClq2ZsZNaR737jjSVc8C4G71GwHt/DfuXeLG5n0A/yeiS9dXL0FKC9zIaJTJhLOiOOR3MAhqZXvTX8YkUuPctFCowbyP46gInRx5G0wNaQCeABwQ2iVTMkso/gRV0xyoupirsPTq6zJrbNJ/eGSwJIDZ5p+cjMSjMdhFEvo6z0UVNfcWHf1V8w36IgeFDOkA8eVZyOK518cV87otM2Bzc9ZbUh/w09mWA4DrlxnU7ht+U29ng1SbJ4z2gdUSzi3c8vElAMH+GfGe42XkdvqTIG9GD1jlR58WlNSomz+EKJrI1k0jM2K0e7ZnrTBa7vS65qcrtx/c7AKjGgEdMRACAlz/eAwlInUxESzlDHncYq67mHKpsN40Jlhkx3+fbNwxiebap9KM3JyYzYUIrzUnRpk5jhzJALrz+vf0BKgMWAR66xLNpbr+wpXpByPYWAdzOmMdLE3hjp+qgGaQk8dwD79L2mZjWqwwr/6o2YjNmNgy7qj+KAD681rlveL79CcZj0AkV31NYiGZ4AekOoXqkuDJrhUdWX16bW41POT5JMKiqE2yvdSs/PAXBh4KEwEEpf4hCTwe5C/2LjUUruV4tQWadKML0y0ZG1ssfnJzez7/8wGxe44Ml1TDTv5rL4VFkD0zIvgEtvQz9pcCPww2B9DwMdJOvCq/uuA4GJFQMnFMaT04+O5vqeKCM4qcu44C4ULyZEhfdzlCB6jexs1d1UPqpfwWAcX2fufL4R3w2xEgOiVV61FxK8DsZK2zhw+Nq73HB+JOv3fdczVHygVZyo2qQq6Hzfv1gxR2HsEVVgZ6/igGNhq0Lfww2BrS7j69jJy+ninIAwzXUAh72nhiSrYBQLuVkW6Sjbm/8z0o4EPhQMsnmglO9sz0IwBWC3sJ3PWY18y+X7yd2HENgEcBbvxtjUPC/Fm0o4ZphVywc/X/OLNhGmPbQSwQduTYzpTSPeYm+oMBY/n06Yfh6evJCkIzIlIqVa803/ict56Lp4hSssf5o0OBc+93g1HmEX3Tqq0kq57G8u5jEEUeQBjuCNf+nAMuFvgqJjK9IMT3lMU+oFqbK77k/q5FZ3bHfGdVgQ92xh2WGI9nsPzoNyAzQXVDOS2dDoL41fOu/foJJAuK+izdCcKdulbR2wLJPYdpP3HpTX0KKMDiixqC/KVJ6DUuI13DZbNJTBkF68XQU9A24jn3ZwHA+6fs5uFp6A0EEywxTjdXAD3NBIrC6JC+hfin2+uFN85tknr7Wg8edt33sQepIsCq55cLZh1uGrULuP+LATwSyCd8MtQlYgBWzgWlS5kwtfrxyTlbcCp/Z18xHYHSCJwcjQioK95wF3w9N0VgMuwTT/td8037PQgyDMb+0eLvxd6598qY+JEz12MRczBX/Re1zI6SU4ChnDzboyJIVzFn3lCBIkPyktOvzkje6/O/AMr9fe/b4qDlwP20JGpJFFhNRGMQBc58l1uEwJ4x3q8qtma4e3djGSon6G63/acwukHgLQbTGzcclQ4RAf7/dg49JAcyFCqTCGHXyqqRmE+tb+VRLfto/38/aJkqO99Io4eMkqBz0wEOvzgURiY3cBmu/nDzGfkxBqcMgQJr6GTKG7qQxcnu/ygNXXBzR18UJdTZkZocgGuUec5wFjFQV2c9V6krGvo+17zNjNpP8I3/b/9i8lXkkuP090Ud5kPKV4VKfBvk2T+ff4TGlvjQSx1PXlp72WrcNW3zBL4UqOi01Ng0AIcZhh13EdoC+v7xCm0g1zB2LTkQkeBwsSWZoKZu2XEgYGBBf9JvjDd67MerYY0jmvvICAQEM/9FbzsRH5YCF/Ql9+wDigyxBeDtTs9HuyrBj+U7HkVVYnIXZpgxWefPo3WBeY0uwsAJ8EcrZrBcnzRyAsfbis0c13fs0/2hADz1QuY84r3y4xXDPWJWmk/zJf7lE6glhiOQWsSGD7NUdXkBcSxBJf+qxVepZbCB0b/5gRZLHkUUAQWB/sIHdBz9LvgvPxfC6dm4/pozoRvOVROqVvZ8B3beQxL6brWuj9iU6r6l+VYs6kQfP7Mk+gZY9Yb1gQHnC0wIGPOQ1FG9y70G3WoToEzxb45rYD0Y9SquXYTkh4O2wPybPqtjHmFBPTALJOElzhHUe+iX+1cB9feN6JjhKe6tDh437VOCU6gvJvLWsUSJ64qCuI4BAUoLdth14ksoC03OyavBrGrK5PLEEnUe5RZ2B5P++ARrGI0smzGPHdTy48AMnhKdmsMqBvtLKHnIemZP1wcfwGyTyZBmtfvuxSTQQh9COyrJCzX3T/QL/8gKTAr99w/aJsB2u0bVtQhBQytsnW9ISOACf7nKiMGDoquY70401V9uZGtFNhRK55jPgdFx5Ob4hwF5+iHrnuFE6r8HGDB+UDlWfzg1/mS8zY0sh5atkfNaPiZxSXnVVU8X09durxOqrcO861YO+B1DGSYKK/+iAmkUmylmMhojpfttyT2iRZoMuh75ekDjcwh++1mcFbjLk5gKjpSsLeRnHK0/WESOL/EQrvmP85v8PwmvC3r8rt+ywyi6ZM4//kw5JGc8cixShxCnxa2OH4GxoXXiJymxWo1m+kxjHSnu6NGEz3LgzPUtAbP85+1B4hXnMQHQKCpMvldgQAEKlcetk/CEuqO95eUx0mpEe+FebyMi4kC0bqhrvWLkQgnKHEYb+wxCAMoAiBA/JmAy0ycVBFTSeKfOmIuxWexOND1tun98YzIjFtgYn62MmaRi2VETgTu2RY00Wha9/FPzTPpdB3gMfwBR5drH27lxyCz05y70YGlz8FreHXrS9ZUJgNWYhNVJHUhUa2fOU5cmrfUY1S3Ol9xZ8kgAkv7G8HTjn+Qb+2YhDEcXWDRHYxVC08uaO4QLm0DYyiQiY7975GZeLxntObrjp8G389yWA+Ua3BzeD9ABef/cDJIiljGwKwwMdNulraqYMKoG4KInTWXcf8drbDAQ5emmuoyTncLOoQlSNilGHznuG1oAp/Mx+DUFqwz+A97qh8yEunvDnOo6JLVZJXN4YrkqzN+HnoSALJHxyNkQqkz8ZsdZrS/B/SfZjc362KDu2f4FAKnzI+Xj4o/1+Rk9QUxX7Ew4IEDfC6MLhaeTR8s2Fy9as3q+bfM6l/hKwX6ozbKN1WT9RhjwHboSxAOz/nsJrR4ZMK8ubROo5KW00JkOpE7UohowXG1+wXIdPXzy7685jqOXc8R2/ykwpEUnPZMhewSS9GH23AJSDOwGO/Cb0RS8ir+t4WsZh1F3cbBo7jZx7Uioj4LSiui8AATrQzllyl6COEoGEN61zbTVterk/AIBd/Y9593hn/CoEt06a1V8UV0qZutOrFuHo438vlUJE1AgeFNzBEZ0BGPJR6qqrlHOvvbuFHEedxUQBnj+dwapGvktzjAlGtDtWrw1nDOfVMl6DQdSdHtTeBlJLgAPuiuR4pKcuu70FCkcRItALScRCRn27vRpAHYLQglR9fzWe76hvHrZog6LSG1uiG1XQjr7F7Mlht+FkrHq9iQ6IGK7YvNALA/H46/O3dKw5nP6fQEb+avphuFY7I4LCTSEUtxUszOI93C2HYsRiYizVfvvRAx0jXdoUI0QbtJCrXCrXse+7+EQUx78F6IIxv7fA6AWTCsQMh8gyfahxMafqZs7v1cA9kb9dmp8OlT5DSzFipVmj2KxL+olIYxBNkOhLAoOO/jq8/P9Jgr9Cgr6jNylwcK6GtIEBOQ+Fmr1cM9M+QjOvjuLZYIXp77pci+1XYZl3EhHGELqg9CL0KfikfdxAYH7WOzU4cPoyATiLKxOC1cfPH0DTMFBkP6FEalk7eg4gm5aevlZthxR3G2xNqnUwHzoKAyIHTQaZQuZ/8ABqhIoKHwyTiVz/1nNcKR1mSG2ZfMjOxlx+n5ZXq4bIdFPm0ON7Khe33IY8z0QRdIxUhP4+mPzj/tzCBsMVP4x4nnF57mhy7f5uTSIZO9yN1aBFkjLv5FygJ2drNz1I/9XGGccUHshbfE309bOtd5N9NkAlP0s77ni5uVt/ocl+0kKWItDHw+5zLGWb4S3n7HfJCyRZ6t7lGLFKO/mxLYNqNK6FeHPBgkcCRxDDuUAIwDeDqUkHjKmKbAHXdYaqpWYIa7O5rku3Wn7f1NnISnK3WmihYxaoaLUFA9TOQdGpDbRGEf+ZvNV+W8GoQweAs3n38kIuh3G2u8vKttdeHNxXqYjWdidmQ6ARZXfz9EXClFjZ5NWpio0+cvWzs3z2rnwtv9G/w/yJeTD45L4GB6LROBX40lHGo/YVJ5ohJiXadLOHk5feHsWapI0JvI7vQOodbWm2eQA0hlnHSYRogIQ/1EL3CACMSEtZw+L36mwBZlPp7va4yFjYWp/DG8jNvzqxqo3jcyaIcopBbMzDUb8OnAeIAL981n3LgSUDF4FSO29zhq7msGO5m4fLlaScmZlPDDV5bmiO4EujoTDLgvpSF5mIVykM38BO9uGzXnX5+wK/oUA7PQG5lniSvOzFng+mFYYT9IkpOQLp+OFzpC4xRIR01W+eWJw8T/U/cTEJKnbsE/SfPrgFjwe9xPABIf+GAjnHDovvC+AFr7o/be6mr2hU8/LFMtXS31odYlCjfhOtFqPX5UCwNH6Hy0WRb4+EyR3Bi31sPXHAf8LCQiI8vfTDL0evu/dnRSgTUhwBGscPI/z9qz3g3GIxbc1/rI/A2SuYFE8MwqB4AnOYtTt6N37SQGq90joouGj7ncP4TdAVCJTny7N8Law2Yhti8i5HQM+S392YHW6StAJS810qx2tMMur8zcTeB6eFi0Hiv5CBd0Y2Sx4MeUc1fH4v6edd526xKAHNk2neVR6KU5PBuK+8JIskWy2LPCnJRlD00GgKTwL+PZs9FH/7goaCnf3cdnMv6y7F9bjCVREp2w7bx5HWQExuDmIJITMrA/xfjVTYB9kiUQzE5HmZM/D0eTkOPmJATX61eqV4arqgAjkMOtQ+1WQN+H8L7s7jYSHwK4e9bA/xHH6eMVU9RW61veuUqpnxIrs3A4OHgQZ1wkU/94C2hT0KVoyhiKu+nXIuKGEmg+7jvrKQYt0v33bWBYUZMrvl0eOha1h5V4dE0AjRPouWhBg+Z7z4PxvCY8LAPwO30XDQbocz2X/bTrDZwRyIVEGD0TE9I1Xgb+i6eNuKlNbYGYsTF0cXe2b0bXP4uAp9j4BePyW7SjiZufmAaIpsEyiV40/tghQxvaSHIXEpEPnUDOYax977V0YIvTgqLOPqBa+NOXaCfQcEhupDB0A+AD0EKMmazJXJysDU9HXpueYb7K/7a81C26ef3xisyGu1k6ewoxwpZTaXBQFPJtFBDS+FV/8U/OL+pYHaQwTALLkXcfXuQ7JRfUTMLJhWnMFWmgcBtEVlRSAwpnx1qIeDlViZxZTkiXQ9LPUSs4C3b/yaABi/nTwS+Pc5ML7OiKmRxxYf0YmFPHR8pk8hPObutlGJg1kxHsOZg8u2uuBueSnWrjG3T4EJBu1HIwPngGY/0EN/iK2MU0rMAtu2uqsnpjyql7hDyk+Zux/62r6Lpjj+6WmjE6e7c+7CvI2KUajOE4b7f+X82r4dQWtDKEDQur8y2W6+8Ok62wlkFo+c7JhUilN3oSdYoD1kVHKQRKRTRlnKVmtLtX8qdiVzV3ZDO8I/+P/V/Pu5AzjJvbMGupBcVdYTAwf6N0TouGEaJSwzL0YPFvkegptsDlK93PAXqhQs17WGv6aGNgdahKIA8L+1wkeH0swZS6jEqPj1LOgma2kktUXHEFdqX4Mcrw7+vDfrvyNPZiTxZsA5DC/Rbs88iAABHH0kfYgA2IMoAam7wbR3bvtv6Linxp7UrlxEWicNerrJadBgnWLNr5yBfFEfGVIXos3UgV63abNDNYm6yL97AAp9vzm8uEk8XYTmTuuVQlRRikL6jurBoc8jlDA4gpAUXx4xXLRRB8DcMgFqhWvHM+A91YVax4rFcsFd/7IBhwbPS6cMG8Zzex3u+GbrZ+CyvEONFPce8d3z0en/uK4xZBZk6y7HfbpKVRENECPJokI5vUS9a8AlAsICcT0YNYtvue8WdrUD5RJ1G4QbR5BsfnXsayFWYbKsmD4RjuJYlliCEArDhvjiM4n0yPnvvp2AdP4YumI4cnsVQzQNONSjFS1MjD2RrWgioGJwrTj/DhGk3Qnd0pPMw9h0d6swKsfyInwXRFeHrgXVgi3/iMEExeeK/cxfx/N9a/DUp/9m07AywE7SI93CXwKU3EM5MP8lLiPYLJj6xEi4kH0QgkseA339wH0Of5QCtMKifnt20LB6rrh0i8F/j+haqZwsktzB3e9mIq1gjWoNeutMENeRmUDSEIXgOlE0MbQGePo93kBQPsJ7MThIOmEBbEtJU/cVjw7LAIPwJ6PQoYtqu7uSDoybx169VhcGy7b6LBoqYjBTem2DKcd+hkUC3v/9gEZE4coejLFJIH+XMzfo6KZF7fS9Hw80nHFfkddKxrEz5qabo3SqZLgchlmPuZEQzG4EqL6bPPS+6cIAwzg/ZDhBMXzuU3M1/rfNTRlyXI6VQQV3cn0kJaAnZ4d3kUlsVj7ZldPdSCZ8N/S/s4k36/08ABe/drumeIu5hz/WiaLSv1XxULaDW7L6pWIhLKgMuGXLWhomHusYXEnueUdtiCodbvo4W4HPRzbG/ENugBKAEcPDSUyMjUpzAZa1W2pnZj2ri/oITC7avJ/Y2anJ1rcj6GIjCWi0dUmEOM5+EUhNjMY4v1f85H5qwaaDLkBL+dcyfm5rcbs8F4rpl57c5ddNiLf1q2YBYAjlkfRMhnfUWtn5lWjKVD4WtbizVvbIvHd/xv/vfH34/fjMfnrHi5F81c8SREZO9dsnVWEb5jc008gSWCRe09pRzPh8HW89qcFtnnakwEaGkcd1BBsAif/swtLISoxySyTDoXe5K/omAGoC9xUI2Nijn9Bbrg0f+nJqRGNeJtHy0kGXzQZRoc6zx2sAeXzjfdxBJ0MCAWu7C7O8LoNwo7noiAUV71ysWTfLlLkp6EGgeeO3cSbDN9Ji2aQW6cyjQCy2oTN2NdW7UD+ZwCb9MzleOLY84QXLD/KVpNOryNK4wempoV+kRjHnBLvVgJ6v2+0PoP84cP1qFSxHtM4+z0XLB6oE38Ej/5vCFkddS99L74Vueckt3qaS6KO0EIW6VibfcV0MkEH9zGzC4/qlRzB/PvmLT5FWz50I/YFA/Xa9Q0CFgzFB/bxX9PKvHS+297RFZ5OmnB2atQ6B/LGq5aDA4kKuan/xUBXZDpgXzs3CeHf8M201GDpIfw6AV73BOit4R/vQhCiOJBUvlKSLXPvmK9ziPSLEburBHhM73bjdJBJeAhNzCSrfK33y3L0qBN6HlUW5QaD/o0FUBkjLVExORzU8A2/RZ3gndzFFgluTiF623npTMYEqb14kpORdbde8YYmX0OFQQQprwq+9or0l/8SC+cJ7/bT2HW/5Lvs1hILZEUebdVu8UXS/+e2rYeMhPmthvKsNs1gy2OmQzAS2+UyzwfSV+WJ+YgB8PmJ6o/hEutCCa8xVlG5VZ02jPv8ua2M4Iftr6v2BEFdcqV4slOaFKPVhK6VqiPFWO1hDyMewxiJCf7+HANLFUwqSzLwIbb5fsc2oceaFbwA/BhDLnVxfbhXjxISyVCXiY55rpXmUx52QOxDZS7FDxT5rvMk/Z8JbguF+23e2cJcutfPigCNO11ox3ERUIQN48I/jZOB0KNe5bIr8lswZltLWBuT7FHR589T4YX2TQE8/EbtEOK655wCcyozTYJXtj5pBw3FQpJNhdGlyui5NFls9Xr1XMAgyN8Us7Sow74H5nEKHR3dGlcM+/8nAWARBidzMtkmPwJT0DmmBJlWsyfvDzfUbnx/eWE0IEfViJ3bjEumxttkFYU8fEV5MyIVAvxV88v6zwdZDKb/EuThxte5rslf9j4xbWJGcxdZ8BqUzzmUJICzml7Y+h/QVVZnW1KMJPTzUNRqzm7dJPOHADD+IvAk4xvlavwNIz9IHVjHRecSotAcmUGE3pw228An9WTFezVlviyd6sy46af0uJre5QRhG4wcOg9uAbj/pw1pI9Mx6CpTCmnZMqyVmLirt+J8Kitn938LaoYtIuIQpZeMDJ8Z0dQLjzclRiY4rxqB/4jzo/i0Ba0MQwOm6XPLSrp/xK/sniZnW1Nz6GDqJ87chJxGgMOSssunE3VOMmeIWKwt6/st2KDNwdl47zb/vv8F87rkNuO+9p4blUKSV8BL3h2R3B+hvIQulRvOQxpGXBB7U2xrOP/1oL9CqNazMNfP/usYvx0ZEk0D0/40Co4ffDAYLtcRneIGs3OZT6XZ1osdT17hflNxWTp579StxI3cmLTGwQGcMdhFTjxSIIYDUfTB9mUDcQxSBg/vctCou1PAmePTG2xT9nFtZ0g0ZOoFpviBHYyGv+IG9EW7ZcNdkzZbBObcms1l1pfrXv3VANr1veYI4qrxRBRTPO1VklAtKLHoK6q3htqOpsFvDGpS1HgzcpxDywGBx8epgq/oz0H4vBViHt8UhwV5/hoHjxt/LmgwthjK65W6kpsroLLLaBBeVD98NneBRiD9uLdjkNWTv7xL97oqikTaP/ElAwi09Tj19QCxC8sIN/TF1eG9ML072wURmko3b5Rs4T8p+JqwOIXYhgW01vlmPO5i9GEdPywNceJlznPTlecI+20Bivgb6YvhPO0cDZY1P1M3VLMx2PQetCiK9Yn/tXL+fkcVdbx2Kk7aDVjQfqwTrOLIU/HXEWgecxcLCKn+aQSFF+8r2zHcHtD0v8LinlWcZcFAA31JHHije9ZR6AqgwnKUD5Bgs5bs+iI1Qq9CcCvoDLT3GfR//noKqAoG+U3b4cAWu6rTWwYWQShrUnCSSu4FIrz5iQqDVqmr7OUxzV4CZSdHPhbB6AjQA9GM4z74fwH/+rvrteF/6UEGfy6bT6lWVjrbANS+/46Lhk2revCmO91v23ntVwIaDdpmsJ6pPcId6kMNxB2+GcQKX/8tAokT5Ch2Mjkkjv1hy1Cj1ZkQuED20j2Hcot+MVynGGjO6ZmejbuqxeFxGtY+uUSyMCAST/p28xT82wjpC2r97+CRxAG6/Mz4+wU33WWfcjlUhhN0yC6Qv4Cgn4/fkiZgWdtmkE5vH8fvitIpz5PfD/UGASb9ie564nnmzP8sJxhL7Ff8QZMMJMonlaaEsaG14ggvOmmBe8FgHCaE5Hu1NqgavLviDAhuHKsbng2RAHMAsQ90JUQywijmBVfUw6ipmM+vkOmHMZVr5H9vZSwm7Nq5oJCM86IB1zcRcDrlRZw1lRd//Vnzz/nnBpAMUgGQ5trI7LlBx//xjSxuX3lzuFzFIGfVwZcCgAWXr9KRGrFSb2c2VZ8obffs1fnNw9uK8QIA7/5r8cnjLeTT+b8f0EUDWJJI2Rfn1YmcSIRKmVHVzyFAYaV7hGj7MZ3vs7vsp5a2TNtAAmAaJR2DEDYCQf8VDLghUTFuLL0Nf90ir8+YuKhd3cQkX2Otf3JtSzMD6NCo74wpnG/MaAcJNSJGETovHToBzvPD97MEowyxBBTsoM3JuoTCkOjVIfhX5HL4Y38tz+KZoNaApY83xgYO0Eq1ZvtaqjGe/yzahM042MTtdf5IAEv0kuWa4mn0VhjeP/lWCU6KIvHhBaVuhTKSe8glFAhYQnoYb3Y9M/sAw8moz7Ht0/P7lxcaHlkTQASZ/scIyh2tLzsv+xS05k22PZrdosvRtxcEWuZ9HnTYP4P1F7LBjnmWN8Il/aouY0X3PdQidgXc9Ab2UgIrDH4HY/HH0ou8zb7J3wQXmU/ocONpijl/8JmqOYOZiVK6HAHVQaZkwl9sOjwIQ9/azQjV0ulk/CkBEvfA57vhne8OEWI53FRWUoMsGu59rhGIf4xdvDkGrk1Zd2J0ZEghB1HL1qrerb7MN/UXFHkeDBadBn3+2gXDGWwtKDGKG9TvJb7mnE2eAceNCqRPl3pdeadLPgNzvASS/5GAuI/yYyehQzRBaCgkCoX2qvTd/zQLsglm9jXYH78gvMPXQQxzRpJta27AREr+nrUmh/iEKa/989c3QmF0Y8JCLhEo5QTPTNLK5dj5hgGq+T/qiuF96wUKeTK+UXNVpzU2+su4I4xBiB6xOfhVQvFyTXicUkATj9QVrtuq4MUl7uMPNR6CGDsJ6v5bA70Voyo6MlghvviJxrigDpsfvXL9ZETNdR59kVYIEcPHtJbOjm+vyOdGH9ZAskPPLTAPyvjB82n9zQlKCwj7zd1wwnu6ldCyAaw89GiFcf9OAQyFwY6M1IHlpNPm9SyMXPtliEpSGsvrCtEc0MTh3/ZbAf/79uz64RDoVANDK7NNXlfcPRwGy8OTkYOF46ZS6iA2Fm3GevlbZx+e3oOy3Khxv9nmBQtDHaYaBgzY/1gBzhFoJ3gyWCZRAVTPnaUmmUG0kPBtOJpvVn9yYLMe49PGnPmMKKf53GsWAj1bRe4yhhSo+1jzDPsGCEYMN/9y42fG2blRynv3aDIkYy5zJlh3GSTOYZM5gKibzNlQIY5WRWeeUYcjG/Pv04vO292I86QA/v3P7//iXeUU/eEj1UgaWAxFphFTz0qYTITNnbPcOCnYZcF7WGRsK2HpG7jxp5G5bd+KBZsbYhznDj8B2/8ODtMj7jF/KnQJZdh9q5GYgqwS5OcrFWj9fydpECyu4CqkjYzNn0bS6wwpOB5GpzcPGhf/e/Pe+PMFqwzjAgnp68oxugbFu+3PJzxcZHMaYIAmUNuImy6AlZMVzQwVVU9GZ+RXqywC+7XXrc0m2uTvYv+X/7Tyh+Rj41j3cRw/Q7BXJEuuHDrbLaCbhPiVic/IG01dN3uYayQ3tvTRvimoXrQB2IP/OhmjHckREwPl/pIK/h+rMMgtCRGX4TqySpn2pSLY/h5ZXxN/lXD0OPntzKyQjX2Z18flAlIy7UXfO7EfDQMz9PL2qAN/DAMGeO7gz3a7vcCT5AcdWlQucsRm8TLe6OiktIHJjNnAUgj0RvVlO12ZNWYDVdyRzcDWB+yZ/bwAi/V/5iHiM/ITFQw9KVYYUBEnV+cdqWyGfI//wvsNkFMneZxxZUJ3AJTGjanyr7TQAfkfFlcekhREBXz+bQcCHL8uMjD8F8bqtrlGm62g5czeEYVVnXyhdjFFmfuRtgeQVJTUvXn4iiu8RH0/UiV+B4X1XvU8AcwLjAio8yrVmL18vR/cOBKeS5ZvE2yiPqD2Ya/IhFyHQ7VL+4I9TmOLYTA+LgzJ4UPOwdMI6FD7YwFA+NTokeGy7eQNWzaYU95TrzB/8/mytIltij+3AAA=\" type=\"audio/wav\" />\n",
       "                    Your browser does not support the audio element.\n",
       "                </audio>\n",
       "              "
      ],
      "text/plain": [
       "<IPython.lib.display.Audio object>"
      ]
     },
     "execution_count": 17,
     "metadata": {},
     "output_type": "execute_result"
    }
   ],
   "source": [
    "time_exp(time.time()-start)\n",
    "tono()"
   ]
  }
 ],
 "metadata": {
  "kernelspec": {
   "display_name": "Python 3",
   "language": "python",
   "name": "python3"
  },
  "language_info": {
   "codemirror_mode": {
    "name": "ipython",
    "version": 3
   },
   "file_extension": ".py",
   "mimetype": "text/x-python",
   "name": "python",
   "nbconvert_exporter": "python",
   "pygments_lexer": "ipython3",
   "version": "3.9.1"
  },
  "toc": {
   "base_numbering": 1,
   "nav_menu": {},
   "number_sections": true,
   "sideBar": true,
   "skip_h1_title": true,
   "title_cell": "Table of Contents",
   "title_sidebar": "Contents",
   "toc_cell": false,
   "toc_position": {},
   "toc_section_display": true,
   "toc_window_display": true
  },
  "varInspector": {
   "cols": {
    "lenName": 16,
    "lenType": 16,
    "lenVar": 40
   },
   "kernels_config": {
    "python": {
     "delete_cmd_postfix": "",
     "delete_cmd_prefix": "del ",
     "library": "var_list.py",
     "varRefreshCmd": "print(var_dic_list())"
    },
    "r": {
     "delete_cmd_postfix": ") ",
     "delete_cmd_prefix": "rm(",
     "library": "var_list.r",
     "varRefreshCmd": "cat(var_dic_list()) "
    }
   },
   "types_to_exclude": [
    "module",
    "function",
    "builtin_function_or_method",
    "instance",
    "_Feature"
   ],
   "window_display": false
  }
 },
 "nbformat": 4,
 "nbformat_minor": 5
}
