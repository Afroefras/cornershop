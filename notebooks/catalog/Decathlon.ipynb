{
 "cells": [
  {
   "cell_type": "markdown",
   "metadata": {},
   "source": [
    "# Comparar catálogo"
   ]
  },
  {
   "cell_type": "markdown",
   "metadata": {},
   "source": [
    "## Parámetros"
   ]
  },
  {
   "cell_type": "code",
   "execution_count": 1,
   "metadata": {},
   "outputs": [],
   "source": [
    "BASE_DIR = '/Users/efraflores/Desktop/EF/Corner/Catalog/Decathlon'\n",
    "FILE_MX = 'Decathlon_MX.csv'\n",
    "FILE_CL = 'Decathlon_CL.csv'"
   ]
  },
  {
   "cell_type": "markdown",
   "metadata": {},
   "source": [
    "## Clase"
   ]
  },
  {
   "cell_type": "code",
   "execution_count": 2,
   "metadata": {},
   "outputs": [],
   "source": [
    "# Control de datos\n",
    "from time import sleep\n",
    "from pathlib import Path\n",
    "from IPython.display import clear_output\n",
    "\n",
    "# Ingeniería de variables\n",
    "from numpy import nan\n",
    "from re import sub, UNICODE\n",
    "from unicodedata import normalize\n",
    "from difflib import get_close_matches\n",
    "from pandas import DataFrame, read_csv, options\n",
    "options.mode.chained_assignment = None\n",
    "\n",
    "class CompareCatalog:\n",
    "    def __init__(self, base_dir:str, file_mx: str, file_cl: str) -> None:\n",
    "        '''\n",
    "        Obtener un directorio como texto y convertirlo a tipo Path para unir directorios, buscar archivos, etc.\n",
    "        '''\n",
    "        self.base_dir = Path(base_dir)\n",
    "        # Definir la ruta completa para leer cada archivo\n",
    "        self.file_mx = self.base_dir.joinpath(file_mx)\n",
    "        self.file_cl = self.base_dir.joinpath(file_cl)\n",
    "        # Verificar que existe el archivo en el directorio\n",
    "        for file_path in [self.file_mx, self.file_cl]:\n",
    "            if not file_path.is_file():\n",
    "                file_name = ''.join(file_path.split('/')[-1])\n",
    "                print(f'There should be a file called: {file_name} at path:\\n{self.base_dir}\\n\\nAdd this file and try again!\\n')\n",
    "\n",
    "\n",
    "    def cool_print(self, text: str, sleep_time: float=0.01) -> None: \n",
    "        '''\n",
    "        Imprimir como si se fuera escribiendo\n",
    "        '''\n",
    "        acum = ''\n",
    "        for x in text: \n",
    "            # Acumular texto\n",
    "            acum += x\n",
    "            # Limpiar pantalla\n",
    "            clear_output(wait=True)\n",
    "            # Esperar un poco para emular efecto de escritura\n",
    "            sleep(sleep_time)\n",
    "            # Imprimir texto acumulado\n",
    "            print(acum)\n",
    "        # Mantener el texto en pantalla\n",
    "        sleep(1)\n",
    "\n",
    "\n",
    "    def get_csv(self, file_path, **kwargs) -> DataFrame: \n",
    "        '''\n",
    "        Obtener tabla a partir de un archivo .csv\n",
    "        '''\n",
    "        file_name = ''.join(str(file_path).split('/')[-1])\n",
    "        try: \n",
    "            df = read_csv(file_path, low_memory=False, **kwargs)\n",
    "            # Obtener el número de renglones y columnas para informar al usuario\n",
    "            df_shape = df.shape\n",
    "            self.cool_print(f'Archivo con nombre {file_name} fue encontrado en:\\n{self.base_dir}\\nCon {df_shape[0]} renglones y {df_shape[-1]} columnas')\n",
    "            df.columns = map(lambda x: str(x).strip().replace(' ','_').lower(), df.columns)\n",
    "            return df\n",
    "        # Informar que hubo error al intentar importar el csv\n",
    "        except: self.cool_print(f'No se encontró el archivo con nombre {file_name} en:\\n{self.base_dir}\\nSi el archivo csv existe, seguramente tiene un encoding y/o separador diferente a \"utf-8\" y \",\" respectivamente\\nIntenta de nuevo!')\n",
    "    \n",
    "\n",
    "    def export_csv(self, df: DataFrame, name_suffix=None, **kwargs) -> None: \n",
    "        '''\n",
    "        Exportar un archivo en formato csv\n",
    "        '''\n",
    "        self.file_name = ''.join(''.join([x for x in self.file_mx if x in self.file_cl]).split('.')[:-1])\n",
    "        export_name = f'{self.file_name}.csv' if name_suffix==None else f'{self.file_name}_{name_suffix}.csv'\n",
    "        df.to_csv(self.base_dir.joinpath(export_name), **kwargs)\n",
    "        self.cool_print(f'Archivo: {export_name} fue exportado exitosamente en:\\n{self.base_dir}')\n",
    "\n",
    "\n",
    "    def clean_text(self, text: str, pattern: str=\"[^a-zA-Z0-9\\s]\", lower: bool=False) -> str: \n",
    "        '''\n",
    "        Limpieza de texto\n",
    "        '''\n",
    "        # Reemplazar acentos: áàäâã --> a\n",
    "        clean = normalize('NFD', str(text).replace('\\n', ' \\n ')).encode('ascii', 'ignore')\n",
    "        # Omitir caracteres especiales !\"#$%&/()=...\n",
    "        clean = sub(pattern, ' ', clean.decode('utf-8'), flags=UNICODE)\n",
    "        # Mantener sólo un espacio\n",
    "        clean = sub(r'\\s{2,}', ' ', clean.strip())\n",
    "        # Minúsculas si el parámetro lo indica\n",
    "        if lower: clean = clean.lower()\n",
    "        # Si el registro estaba vacío, indicar nulo\n",
    "        if clean in ('','nan'): clean = nan\n",
    "        return clean\n",
    "\n",
    "\n",
    "    def choose_correct(self, df: DataFrame, col: str, correct_list: list, fill_value: str='DESCONOCIDO', **kwargs) -> DataFrame:\n",
    "        '''\n",
    "        Recibe un DataFrame y una lista de posibilidades, especificando la columna a revisar\n",
    "        elige la opción que más se parezca a alguna de las posibilidades\n",
    "        '''\n",
    "        # Aplicar limpieza de texto a la lista de posibilidades\n",
    "        correct_clean = list(map(lambda x: self.clean_text(x, lower=True), correct_list))\n",
    "        # Hacer un diccionario de posibilidades limpias y las originales recibidas\n",
    "        correct_dict = dict(zip(correct_clean, correct_list))\n",
    "\n",
    "        # Aplicar la limpieza a la columna especificada\n",
    "        df[f'{col}_correct'] = df[col].map(lambda x: self.clean_text(x,lower=True))\n",
    "        # Encontrar las posibilidades más parecidas\n",
    "        df[f'{col}_correct'] = df[f'{col}_correct'].map(lambda x: get_close_matches(x, correct_clean, **kwargs))\n",
    "        # Si existen parecidas, traer la primera opción que es la más parecida\n",
    "        df[f'{col}_correct'] = df[f'{col}_correct'].map(lambda x: x[0] if isinstance(x,list) and len(x)>0 else nan)\n",
    "        # Regresar del texto limpio a la posibilidad original, lo no encontrado se llena con \"fill_value\"\n",
    "        df[f'{col}_correct'] = df[f'{col}_correct'].map(correct_dict).fillna(fill_value)\n",
    "        return df\n",
    "\n",
    "\n",
    "    def compare_catalog(self, id_cols: list=['barcodes','sku'], name_cols: list=['name'], export_result: bool=True) -> DataFrame:\n",
    "        df_mx = self.get_csv(self.file_mx)\n",
    "        df_cl = self.get_csv(self.file_cl)\n",
    "        acum = df_mx[id_cols+name_cols].copy()\n",
    "        for id_col in id_cols:\n",
    "            acum = acum.merge(df_cl[id_cols+name_cols], on=id_col, how='left', suffixes=('', f'_search_by_{id_col}'))\n",
    "        for name_col in name_cols:\n",
    "            to_find = self.choose_correct(df_cl[id_cols+name_cols], name_col, acum[name_col], n=1, cutoff=0.85)\n",
    "            acum = acum.merge(to_find, left_on=name_col, right_on=f'{name_col}_correct', how='left', suffixes=('', f'_search_by_{name_col}'))\n",
    "            acum.drop(f'{name_col}_correct', axis=1, inplace=True)\n",
    "        if export_result: self.export_csv(acum, index=False, sep='\\t', encoding='utf-16')\n",
    "        return acum"
   ]
  },
  {
   "cell_type": "markdown",
   "metadata": {},
   "source": [
    "## Transformar"
   ]
  },
  {
   "cell_type": "code",
   "execution_count": 3,
   "metadata": {},
   "outputs": [
    {
     "name": "stdout",
     "output_type": "stream",
     "text": [
      "Archivo con nombre Decathlon_CL.csv fue encontrado en:\n",
      "/Users/efraflores/Desktop/EF/Corner/Catalog/Decathlon\n",
      "Con 17552 renglones y 12 columnas\n"
     ]
    }
   ],
   "source": [
    "df = CompareCatalog(BASE_DIR, FILE_MX, FILE_CL).compare_catalog()\n",
    "df.sample()"
   ]
  }
 ],
 "metadata": {
  "interpreter": {
   "hash": "cd073f3038b8337706d4c7d775204fb19bddc277721f52eb60f8c4b0892f2184"
  },
  "kernelspec": {
   "display_name": "Python 3.9.1 64-bit ('venv': venv)",
   "language": "python",
   "name": "python3"
  },
  "language_info": {
   "codemirror_mode": {
    "name": "ipython",
    "version": 3
   },
   "file_extension": ".py",
   "mimetype": "text/x-python",
   "name": "python",
   "nbconvert_exporter": "python",
   "pygments_lexer": "ipython3",
   "version": "3.9.1"
  },
  "orig_nbformat": 4
 },
 "nbformat": 4,
 "nbformat_minor": 2
}
