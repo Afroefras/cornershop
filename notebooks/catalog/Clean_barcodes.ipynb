{
 "cells": [
  {
   "cell_type": "markdown",
   "metadata": {},
   "source": [
    "# Limpiar barcodes"
   ]
  },
  {
   "cell_type": "markdown",
   "metadata": {},
   "source": [
    "## Parámetros"
   ]
  },
  {
   "cell_type": "code",
   "execution_count": 1,
   "metadata": {},
   "outputs": [],
   "source": [
    "BASE_DIR = '/Users/efraflores/Desktop/EF/Corner/Catalog/data'\n",
    "FILE_NAME = 'Barcodes Catalog MX.xlsx'"
   ]
  },
  {
   "cell_type": "markdown",
   "metadata": {},
   "source": [
    "## Código"
   ]
  },
  {
   "cell_type": "code",
   "execution_count": 2,
   "metadata": {},
   "outputs": [],
   "source": [
    "from numpy import nan\n",
    "from pathlib import Path\n",
    "from re import sub, UNICODE\n",
    "from unicodedata import normalize\n",
    "from pandas import ExcelFile\n",
    "\n",
    "BASE_DIR = Path(BASE_DIR)\n",
    "\n",
    "def clean_text(text: str, pattern: str=\"[^a-zA-Z0-9\\s,]\", lower: bool=False) -> str: \n",
    "    '''\n",
    "    Limpieza de texto\n",
    "    '''\n",
    "    # Reemplazar acentos: áàäâã --> a\n",
    "    clean = normalize('NFD', str(text).replace('\\n', ' \\n ')).encode('ascii', 'ignore')\n",
    "    # Omitir caracteres especiales !\"#$%&/()=...\n",
    "    clean = sub(pattern, ' ', clean.decode('utf-8'), flags=UNICODE)\n",
    "    # Mantener sólo un espacio\n",
    "    clean = sub(r'\\s{2,}', ' ', clean.strip())\n",
    "    # Minúsculas si el parámetro lo indica\n",
    "    if lower: clean = clean.lower()\n",
    "    # Si el registro estaba vacío, indicar nulo\n",
    "    if clean in ('','nan'): clean = nan\n",
    "    return clean"
   ]
  },
  {
   "cell_type": "markdown",
   "metadata": {},
   "source": [
    "## Transformar"
   ]
  },
  {
   "cell_type": "code",
   "execution_count": 7,
   "metadata": {},
   "outputs": [
    {
     "data": {
      "text/html": [
       "<div>\n",
       "<style scoped>\n",
       "    .dataframe tbody tr th:only-of-type {\n",
       "        vertical-align: middle;\n",
       "    }\n",
       "\n",
       "    .dataframe tbody tr th {\n",
       "        vertical-align: top;\n",
       "    }\n",
       "\n",
       "    .dataframe thead th {\n",
       "        text-align: right;\n",
       "    }\n",
       "</style>\n",
       "<table border=\"1\" class=\"dataframe\">\n",
       "  <thead>\n",
       "    <tr style=\"text-align: right;\">\n",
       "      <th></th>\n",
       "      <th>Currency</th>\n",
       "      <th>Product ID</th>\n",
       "      <th>Name</th>\n",
       "      <th>Barcodes</th>\n",
       "    </tr>\n",
       "  </thead>\n",
       "  <tbody>\n",
       "    <tr>\n",
       "      <th>401041</th>\n",
       "      <td>MXN</td>\n",
       "      <td>4659225</td>\n",
       "      <td>Pluma ibérica</td>\n",
       "      <td>{8436561591756}</td>\n",
       "    </tr>\n",
       "  </tbody>\n",
       "</table>\n",
       "</div>"
      ],
      "text/plain": [
       "       Currency  Product ID           Name         Barcodes\n",
       "401041      MXN     4659225  Pluma ibérica  {8436561591756}"
      ]
     },
     "execution_count": 7,
     "metadata": {},
     "output_type": "execute_result"
    }
   ],
   "source": [
    "data = ExcelFile(BASE_DIR.joinpath(FILE_NAME)).parse(sheet_name=0).astype(str)\n",
    "data.sample()"
   ]
  },
  {
   "cell_type": "code",
   "execution_count": 8,
   "metadata": {},
   "outputs": [
    {
     "data": {
      "text/html": [
       "<div>\n",
       "<style scoped>\n",
       "    .dataframe tbody tr th:only-of-type {\n",
       "        vertical-align: middle;\n",
       "    }\n",
       "\n",
       "    .dataframe tbody tr th {\n",
       "        vertical-align: top;\n",
       "    }\n",
       "\n",
       "    .dataframe thead th {\n",
       "        text-align: right;\n",
       "    }\n",
       "</style>\n",
       "<table border=\"1\" class=\"dataframe\">\n",
       "  <thead>\n",
       "    <tr style=\"text-align: right;\">\n",
       "      <th></th>\n",
       "      <th>barcodes_1</th>\n",
       "      <th>barcodes_2</th>\n",
       "      <th>barcodes_3</th>\n",
       "      <th>barcodes_4</th>\n",
       "      <th>barcodes_5</th>\n",
       "      <th>barcodes_6</th>\n",
       "      <th>barcodes_7</th>\n",
       "      <th>barcodes_8</th>\n",
       "      <th>barcodes_9</th>\n",
       "      <th>barcodes_10</th>\n",
       "    </tr>\n",
       "  </thead>\n",
       "  <tbody>\n",
       "    <tr>\n",
       "      <th>256622</th>\n",
       "      <td>7501227200660</td>\n",
       "      <td>None</td>\n",
       "      <td>None</td>\n",
       "      <td>None</td>\n",
       "      <td>None</td>\n",
       "      <td>None</td>\n",
       "      <td>None</td>\n",
       "      <td>None</td>\n",
       "      <td>None</td>\n",
       "      <td>None</td>\n",
       "    </tr>\n",
       "  </tbody>\n",
       "</table>\n",
       "</div>"
      ],
      "text/plain": [
       "           barcodes_1 barcodes_2 barcodes_3 barcodes_4 barcodes_5 barcodes_6  \\\n",
       "256622  7501227200660       None       None       None       None       None   \n",
       "\n",
       "       barcodes_7 barcodes_8 barcodes_9 barcodes_10  \n",
       "256622       None       None       None        None  "
      ]
     },
     "execution_count": 8,
     "metadata": {},
     "output_type": "execute_result"
    }
   ],
   "source": [
    "barcodes = data['Barcodes'].map(lambda x: clean_text(x, pattern=r'[\\{\\}\\\"\\']')).str.split(',', expand=True).set_index(data.index)\n",
    "barcodes.columns = [f'barcodes_{col+1}' for col in barcodes.columns]\n",
    "barcodes.sample()"
   ]
  },
  {
   "cell_type": "code",
   "execution_count": 9,
   "metadata": {},
   "outputs": [
    {
     "data": {
      "text/html": [
       "<div>\n",
       "<style scoped>\n",
       "    .dataframe tbody tr th:only-of-type {\n",
       "        vertical-align: middle;\n",
       "    }\n",
       "\n",
       "    .dataframe tbody tr th {\n",
       "        vertical-align: top;\n",
       "    }\n",
       "\n",
       "    .dataframe thead th {\n",
       "        text-align: right;\n",
       "    }\n",
       "</style>\n",
       "<table border=\"1\" class=\"dataframe\">\n",
       "  <thead>\n",
       "    <tr style=\"text-align: right;\">\n",
       "      <th></th>\n",
       "      <th>Currency</th>\n",
       "      <th>Product ID</th>\n",
       "      <th>Name</th>\n",
       "      <th>Barcodes</th>\n",
       "      <th>barcodes_1</th>\n",
       "      <th>barcodes_2</th>\n",
       "      <th>barcodes_3</th>\n",
       "      <th>barcodes_4</th>\n",
       "      <th>barcodes_5</th>\n",
       "      <th>barcodes_6</th>\n",
       "      <th>barcodes_7</th>\n",
       "      <th>barcodes_8</th>\n",
       "      <th>barcodes_9</th>\n",
       "      <th>barcodes_10</th>\n",
       "    </tr>\n",
       "  </thead>\n",
       "  <tbody>\n",
       "    <tr>\n",
       "      <th>71891</th>\n",
       "      <td>MXN</td>\n",
       "      <td>2013307</td>\n",
       "      <td>Marinador sabor hawaiian</td>\n",
       "      <td>{21500048064,2000075180773,2000070895719,20000...</td>\n",
       "      <td>21500048064</td>\n",
       "      <td>2000075180773</td>\n",
       "      <td>2000070895719</td>\n",
       "      <td>2000073390273</td>\n",
       "      <td>2000070132326</td>\n",
       "      <td>2000071053866</td>\n",
       "      <td>2000071141136</td>\n",
       "      <td>2000073800420</td>\n",
       "      <td>2000073892692</td>\n",
       "      <td>2000070869185</td>\n",
       "    </tr>\n",
       "  </tbody>\n",
       "</table>\n",
       "</div>"
      ],
      "text/plain": [
       "      Currency  Product ID                      Name  \\\n",
       "71891      MXN     2013307  Marinador sabor hawaiian   \n",
       "\n",
       "                                                Barcodes   barcodes_1  \\\n",
       "71891  {21500048064,2000075180773,2000070895719,20000...  21500048064   \n",
       "\n",
       "          barcodes_2     barcodes_3     barcodes_4     barcodes_5  \\\n",
       "71891  2000075180773  2000070895719  2000073390273  2000070132326   \n",
       "\n",
       "          barcodes_6     barcodes_7     barcodes_8     barcodes_9  \\\n",
       "71891  2000071053866  2000071141136  2000073800420  2000073892692   \n",
       "\n",
       "         barcodes_10  \n",
       "71891  2000070869185  "
      ]
     },
     "execution_count": 9,
     "metadata": {},
     "output_type": "execute_result"
    }
   ],
   "source": [
    "df = data.join(barcodes)\n",
    "df[df['barcodes_7'].notnull()].sample()"
   ]
  },
  {
   "cell_type": "code",
   "execution_count": 13,
   "metadata": {},
   "outputs": [
    {
     "data": {
      "text/html": [
       "<div>\n",
       "<style scoped>\n",
       "    .dataframe tbody tr th:only-of-type {\n",
       "        vertical-align: middle;\n",
       "    }\n",
       "\n",
       "    .dataframe tbody tr th {\n",
       "        vertical-align: top;\n",
       "    }\n",
       "\n",
       "    .dataframe thead th {\n",
       "        text-align: right;\n",
       "    }\n",
       "</style>\n",
       "<table border=\"1\" class=\"dataframe\">\n",
       "  <thead>\n",
       "    <tr style=\"text-align: right;\">\n",
       "      <th></th>\n",
       "      <th>Currency</th>\n",
       "      <th>Product ID</th>\n",
       "      <th>Name</th>\n",
       "      <th>Barcodes</th>\n",
       "      <th>barcode_n</th>\n",
       "      <th>barcode</th>\n",
       "    </tr>\n",
       "  </thead>\n",
       "  <tbody>\n",
       "    <tr>\n",
       "      <th>137352</th>\n",
       "      <td>MXN</td>\n",
       "      <td>4502677</td>\n",
       "      <td>Caja plegable 2 cajones gris</td>\n",
       "      <td>{4516743159326}</td>\n",
       "      <td>barcodes_1</td>\n",
       "      <td>4516743159326</td>\n",
       "    </tr>\n",
       "  </tbody>\n",
       "</table>\n",
       "</div>"
      ],
      "text/plain": [
       "       Currency  Product ID                          Name         Barcodes  \\\n",
       "137352      MXN     4502677  Caja plegable 2 cajones gris  {4516743159326}   \n",
       "\n",
       "         barcode_n        barcode  \n",
       "137352  barcodes_1  4516743159326  "
      ]
     },
     "execution_count": 13,
     "metadata": {},
     "output_type": "execute_result"
    }
   ],
   "source": [
    "df = df.melt(id_vars=['Currency', 'Product ID', 'Name', 'Barcodes'], var_name='barcode_n', value_name='barcode').dropna()\n",
    "df.sample()"
   ]
  },
  {
   "cell_type": "code",
   "execution_count": 28,
   "metadata": {},
   "outputs": [
    {
     "data": {
      "text/html": [
       "<div>\n",
       "<style scoped>\n",
       "    .dataframe tbody tr th:only-of-type {\n",
       "        vertical-align: middle;\n",
       "    }\n",
       "\n",
       "    .dataframe tbody tr th {\n",
       "        vertical-align: top;\n",
       "    }\n",
       "\n",
       "    .dataframe thead th {\n",
       "        text-align: right;\n",
       "    }\n",
       "</style>\n",
       "<table border=\"1\" class=\"dataframe\">\n",
       "  <thead>\n",
       "    <tr style=\"text-align: right;\">\n",
       "      <th></th>\n",
       "      <th>Product ID</th>\n",
       "    </tr>\n",
       "    <tr>\n",
       "      <th>barcode</th>\n",
       "      <th></th>\n",
       "    </tr>\n",
       "  </thead>\n",
       "  <tbody>\n",
       "    <tr>\n",
       "      <th>8420378000259</th>\n",
       "      <td>138431</td>\n",
       "    </tr>\n",
       "  </tbody>\n",
       "</table>\n",
       "</div>"
      ],
      "text/plain": [
       "              Product ID\n",
       "barcode                 \n",
       "8420378000259     138431"
      ]
     },
     "execution_count": 28,
     "metadata": {},
     "output_type": "execute_result"
    }
   ],
   "source": [
    "df = df.pivot_table(index='barcode', values='Product ID', aggfunc=', '.join)\n",
    "df.sample()"
   ]
  },
  {
   "cell_type": "code",
   "execution_count": 33,
   "metadata": {},
   "outputs": [
    {
     "data": {
      "text/html": [
       "<div>\n",
       "<style scoped>\n",
       "    .dataframe tbody tr th:only-of-type {\n",
       "        vertical-align: middle;\n",
       "    }\n",
       "\n",
       "    .dataframe tbody tr th {\n",
       "        vertical-align: top;\n",
       "    }\n",
       "\n",
       "    .dataframe thead th {\n",
       "        text-align: right;\n",
       "    }\n",
       "</style>\n",
       "<table border=\"1\" class=\"dataframe\">\n",
       "  <thead>\n",
       "    <tr style=\"text-align: right;\">\n",
       "      <th></th>\n",
       "      <th>product_id_1</th>\n",
       "      <th>product_id_2</th>\n",
       "      <th>product_id_3</th>\n",
       "      <th>product_id_4</th>\n",
       "      <th>product_id_5</th>\n",
       "      <th>product_id_6</th>\n",
       "      <th>product_id_7</th>\n",
       "      <th>product_id_8</th>\n",
       "      <th>product_id_9</th>\n",
       "      <th>product_id_10</th>\n",
       "      <th>product_id_11</th>\n",
       "      <th>product_id_12</th>\n",
       "    </tr>\n",
       "    <tr>\n",
       "      <th>barcode</th>\n",
       "      <th></th>\n",
       "      <th></th>\n",
       "      <th></th>\n",
       "      <th></th>\n",
       "      <th></th>\n",
       "      <th></th>\n",
       "      <th></th>\n",
       "      <th></th>\n",
       "      <th></th>\n",
       "      <th></th>\n",
       "      <th></th>\n",
       "      <th></th>\n",
       "    </tr>\n",
       "  </thead>\n",
       "  <tbody>\n",
       "    <tr>\n",
       "      <th>7503026576557</th>\n",
       "      <td>4563538</td>\n",
       "      <td>None</td>\n",
       "      <td>None</td>\n",
       "      <td>None</td>\n",
       "      <td>None</td>\n",
       "      <td>None</td>\n",
       "      <td>None</td>\n",
       "      <td>None</td>\n",
       "      <td>None</td>\n",
       "      <td>None</td>\n",
       "      <td>None</td>\n",
       "      <td>None</td>\n",
       "    </tr>\n",
       "  </tbody>\n",
       "</table>\n",
       "</div>"
      ],
      "text/plain": [
       "              product_id_1 product_id_2 product_id_3 product_id_4  \\\n",
       "barcode                                                             \n",
       "7503026576557      4563538         None         None         None   \n",
       "\n",
       "              product_id_5 product_id_6 product_id_7 product_id_8  \\\n",
       "barcode                                                             \n",
       "7503026576557         None         None         None         None   \n",
       "\n",
       "              product_id_9 product_id_10 product_id_11 product_id_12  \n",
       "barcode                                                               \n",
       "7503026576557         None          None          None          None  "
      ]
     },
     "execution_count": 33,
     "metadata": {},
     "output_type": "execute_result"
    }
   ],
   "source": [
    "df = df['Product ID'].astype(str).str.split(',', expand=True)\n",
    "df.columns = [f'product_id_{col+1}' for col in df.columns]\n",
    "df.sample()"
   ]
  },
  {
   "cell_type": "code",
   "execution_count": 41,
   "metadata": {},
   "outputs": [
    {
     "data": {
      "text/html": [
       "<div>\n",
       "<style scoped>\n",
       "    .dataframe tbody tr th:only-of-type {\n",
       "        vertical-align: middle;\n",
       "    }\n",
       "\n",
       "    .dataframe tbody tr th {\n",
       "        vertical-align: top;\n",
       "    }\n",
       "\n",
       "    .dataframe thead th {\n",
       "        text-align: right;\n",
       "    }\n",
       "</style>\n",
       "<table border=\"1\" class=\"dataframe\">\n",
       "  <thead>\n",
       "    <tr style=\"text-align: right;\">\n",
       "      <th></th>\n",
       "      <th>barcode</th>\n",
       "      <th>product_id_1</th>\n",
       "      <th>product_id_2</th>\n",
       "      <th>product_id_3</th>\n",
       "      <th>product_id_4</th>\n",
       "      <th>product_id_5</th>\n",
       "      <th>product_id_6</th>\n",
       "      <th>product_id_7</th>\n",
       "      <th>product_id_8</th>\n",
       "      <th>product_id_9</th>\n",
       "      <th>product_id_10</th>\n",
       "      <th>product_id_11</th>\n",
       "      <th>product_id_12</th>\n",
       "    </tr>\n",
       "  </thead>\n",
       "  <tbody>\n",
       "    <tr>\n",
       "      <th>0</th>\n",
       "      <td>7501055361199</td>\n",
       "      <td>4599926</td>\n",
       "      <td>4594342</td>\n",
       "      <td>4718214</td>\n",
       "      <td>4720588</td>\n",
       "      <td>4599927</td>\n",
       "      <td>4638703</td>\n",
       "      <td>4601649</td>\n",
       "      <td>4601215</td>\n",
       "      <td>4528681</td>\n",
       "      <td>4601212</td>\n",
       "      <td>4597388</td>\n",
       "      <td>336093</td>\n",
       "    </tr>\n",
       "    <tr>\n",
       "      <th>1</th>\n",
       "      <td>7501055368440</td>\n",
       "      <td>4601171</td>\n",
       "      <td>4638683</td>\n",
       "      <td>1256963</td>\n",
       "      <td>4718142</td>\n",
       "      <td>4597367</td>\n",
       "      <td>4601174</td>\n",
       "      <td>4601554</td>\n",
       "      <td>4599885</td>\n",
       "      <td>4599887</td>\n",
       "      <td>4720571</td>\n",
       "      <td>336764</td>\n",
       "      <td>None</td>\n",
       "    </tr>\n",
       "    <tr>\n",
       "      <th>2</th>\n",
       "      <td>7501055368464</td>\n",
       "      <td>4720567</td>\n",
       "      <td>4638679</td>\n",
       "      <td>4601168</td>\n",
       "      <td>4601521</td>\n",
       "      <td>4599876</td>\n",
       "      <td>4597364</td>\n",
       "      <td>1256965</td>\n",
       "      <td>4599879</td>\n",
       "      <td>4601163</td>\n",
       "      <td>4718138</td>\n",
       "      <td>337428</td>\n",
       "      <td>None</td>\n",
       "    </tr>\n",
       "  </tbody>\n",
       "</table>\n",
       "</div>"
      ],
      "text/plain": [
       "         barcode product_id_1 product_id_2 product_id_3 product_id_4  \\\n",
       "0  7501055361199      4599926      4594342      4718214      4720588   \n",
       "1  7501055368440      4601171      4638683      1256963      4718142   \n",
       "2  7501055368464      4720567      4638679      4601168      4601521   \n",
       "\n",
       "  product_id_5 product_id_6 product_id_7 product_id_8 product_id_9  \\\n",
       "0      4599927      4638703      4601649      4601215      4528681   \n",
       "1      4597367      4601174      4601554      4599885      4599887   \n",
       "2      4599876      4597364      1256965      4599879      4601163   \n",
       "\n",
       "  product_id_10 product_id_11 product_id_12  \n",
       "0       4601212       4597388        336093  \n",
       "1       4720571        336764          None  \n",
       "2       4718138        337428          None  "
      ]
     },
     "execution_count": 41,
     "metadata": {},
     "output_type": "execute_result"
    }
   ],
   "source": [
    "df.sort_values(list(reversed(df.columns)), inplace=True)\n",
    "df.reset_index(inplace=True)\n",
    "df.head(3)"
   ]
  },
  {
   "cell_type": "code",
   "execution_count": 43,
   "metadata": {},
   "outputs": [
    {
     "data": {
      "text/html": [
       "<div>\n",
       "<style scoped>\n",
       "    .dataframe tbody tr th:only-of-type {\n",
       "        vertical-align: middle;\n",
       "    }\n",
       "\n",
       "    .dataframe tbody tr th {\n",
       "        vertical-align: top;\n",
       "    }\n",
       "\n",
       "    .dataframe thead th {\n",
       "        text-align: right;\n",
       "    }\n",
       "</style>\n",
       "<table border=\"1\" class=\"dataframe\">\n",
       "  <thead>\n",
       "    <tr style=\"text-align: right;\">\n",
       "      <th></th>\n",
       "      <th>barcode</th>\n",
       "      <th>product_id_1</th>\n",
       "      <th>product_id_2</th>\n",
       "      <th>product_id_3</th>\n",
       "      <th>product_id_4</th>\n",
       "      <th>product_id_5</th>\n",
       "      <th>product_id_6</th>\n",
       "      <th>product_id_7</th>\n",
       "      <th>product_id_8</th>\n",
       "      <th>product_id_9</th>\n",
       "      <th>product_id_10</th>\n",
       "      <th>product_id_11</th>\n",
       "      <th>product_id_12</th>\n",
       "    </tr>\n",
       "  </thead>\n",
       "  <tbody>\n",
       "    <tr>\n",
       "      <th>279098</th>\n",
       "      <td>'875160016341</td>\n",
       "      <td>331178</td>\n",
       "      <td>None</td>\n",
       "      <td>None</td>\n",
       "      <td>None</td>\n",
       "      <td>None</td>\n",
       "      <td>None</td>\n",
       "      <td>None</td>\n",
       "      <td>None</td>\n",
       "      <td>None</td>\n",
       "      <td>None</td>\n",
       "      <td>None</td>\n",
       "      <td>None</td>\n",
       "    </tr>\n",
       "  </tbody>\n",
       "</table>\n",
       "</div>"
      ],
      "text/plain": [
       "              barcode product_id_1 product_id_2 product_id_3 product_id_4  \\\n",
       "279098  '875160016341       331178         None         None         None   \n",
       "\n",
       "       product_id_5 product_id_6 product_id_7 product_id_8 product_id_9  \\\n",
       "279098         None         None         None         None         None   \n",
       "\n",
       "       product_id_10 product_id_11 product_id_12  \n",
       "279098          None          None          None  "
      ]
     },
     "execution_count": 43,
     "metadata": {},
     "output_type": "execute_result"
    }
   ],
   "source": [
    "df['barcode'] = df['barcode'].map(lambda x: \"'\"+x)\n",
    "df.sample()"
   ]
  },
  {
   "cell_type": "code",
   "execution_count": 45,
   "metadata": {},
   "outputs": [],
   "source": [
    "new_name = ''.join(FILE_NAME.split('.')[:-1])\n",
    "df.to_csv(BASE_DIR.joinpath(f'clean_{new_name}.csv'), sep='\\t', encoding='utf-16', index=False)"
   ]
  }
 ],
 "metadata": {
  "interpreter": {
   "hash": "cd073f3038b8337706d4c7d775204fb19bddc277721f52eb60f8c4b0892f2184"
  },
  "kernelspec": {
   "display_name": "Python 3.9.1 64-bit ('venv': venv)",
   "name": "python3"
  },
  "language_info": {
   "codemirror_mode": {
    "name": "ipython",
    "version": 3
   },
   "file_extension": ".py",
   "mimetype": "text/x-python",
   "name": "python",
   "nbconvert_exporter": "python",
   "pygments_lexer": "ipython3",
   "version": "3.9.1"
  },
  "orig_nbformat": 4
 },
 "nbformat": 4,
 "nbformat_minor": 2
}
