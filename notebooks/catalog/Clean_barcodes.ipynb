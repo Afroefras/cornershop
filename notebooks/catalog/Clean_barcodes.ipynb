{
 "cells": [
  {
   "cell_type": "markdown",
   "metadata": {},
   "source": [
    "# Limpiar barcodes"
   ]
  },
  {
   "cell_type": "markdown",
   "metadata": {},
   "source": [
    "## Parámetros"
   ]
  },
  {
   "cell_type": "code",
   "execution_count": 2,
   "metadata": {},
   "outputs": [],
   "source": [
    "BASE_DIR = '/Users/efraflores/Downloads'\n",
    "FILE_NAME = 'Barcodes Catalog MX.csv'"
   ]
  },
  {
   "cell_type": "markdown",
   "metadata": {},
   "source": [
    "## Código"
   ]
  },
  {
   "cell_type": "code",
   "execution_count": 4,
   "metadata": {},
   "outputs": [],
   "source": [
    "from numpy import nan\n",
    "from pathlib import Path\n",
    "from re import sub, UNICODE\n",
    "from unicodedata import normalize\n",
    "from pandas import ExcelFile, read_csv\n",
    "\n",
    "BASE_DIR = Path(BASE_DIR)\n",
    "\n",
    "def clean_text(text: str, pattern: str=\"[^a-zA-Z0-9\\s,]\", lower: bool=False) -> str: \n",
    "    '''\n",
    "    Limpieza de texto\n",
    "    '''\n",
    "    # Reemplazar acentos: áàäâã --> a\n",
    "    clean = normalize('NFD', str(text).replace('\\n', ' \\n ')).encode('ascii', 'ignore')\n",
    "    # Omitir caracteres especiales !\"#$%&/()=...\n",
    "    clean = sub(pattern, ' ', clean.decode('utf-8'), flags=UNICODE)\n",
    "    # Mantener sólo un espacio\n",
    "    clean = sub(r'\\s{2,}', ' ', clean.strip())\n",
    "    # Minúsculas si el parámetro lo indica\n",
    "    if lower: clean = clean.lower()\n",
    "    # Si el registro estaba vacío, indicar nulo\n",
    "    if clean in ('','nan'): clean = nan\n",
    "    return clean"
   ]
  },
  {
   "cell_type": "markdown",
   "metadata": {},
   "source": [
    "## Importar"
   ]
  },
  {
   "cell_type": "code",
   "execution_count": 5,
   "metadata": {},
   "outputs": [
    {
     "data": {
      "text/html": [
       "<div>\n",
       "<style scoped>\n",
       "    .dataframe tbody tr th:only-of-type {\n",
       "        vertical-align: middle;\n",
       "    }\n",
       "\n",
       "    .dataframe tbody tr th {\n",
       "        vertical-align: top;\n",
       "    }\n",
       "\n",
       "    .dataframe thead th {\n",
       "        text-align: right;\n",
       "    }\n",
       "</style>\n",
       "<table border=\"1\" class=\"dataframe\">\n",
       "  <thead>\n",
       "    <tr style=\"text-align: right;\">\n",
       "      <th></th>\n",
       "      <th>Currency</th>\n",
       "      <th>Product ID</th>\n",
       "      <th>Name</th>\n",
       "      <th>Barcodes</th>\n",
       "    </tr>\n",
       "  </thead>\n",
       "  <tbody>\n",
       "    <tr>\n",
       "      <th>165198</th>\n",
       "      <td>MXN</td>\n",
       "      <td>566535</td>\n",
       "      <td>Lápices pastel conté soft estuche con 20</td>\n",
       "      <td>{646217502083}</td>\n",
       "    </tr>\n",
       "  </tbody>\n",
       "</table>\n",
       "</div>"
      ],
      "text/plain": [
       "       Currency Product ID                                      Name  \\\n",
       "165198      MXN     566535  Lápices pastel conté soft estuche con 20   \n",
       "\n",
       "              Barcodes  \n",
       "165198  {646217502083}  "
      ]
     },
     "execution_count": 5,
     "metadata": {},
     "output_type": "execute_result"
    }
   ],
   "source": [
    "data = read_csv(BASE_DIR.joinpath(FILE_NAME)).astype(str)\n",
    "# data = ExcelFile(BASE_DIR.joinpath(FILE_NAME)).parse(sheet_name=0).astype(str)\n",
    "data.sample()"
   ]
  },
  {
   "cell_type": "markdown",
   "metadata": {},
   "source": [
    "## Transformar"
   ]
  },
  {
   "cell_type": "markdown",
   "metadata": {},
   "source": [
    "### Limpiar texto y separar por columnas"
   ]
  },
  {
   "cell_type": "code",
   "execution_count": 6,
   "metadata": {},
   "outputs": [
    {
     "data": {
      "text/html": [
       "<div>\n",
       "<style scoped>\n",
       "    .dataframe tbody tr th:only-of-type {\n",
       "        vertical-align: middle;\n",
       "    }\n",
       "\n",
       "    .dataframe tbody tr th {\n",
       "        vertical-align: top;\n",
       "    }\n",
       "\n",
       "    .dataframe thead th {\n",
       "        text-align: right;\n",
       "    }\n",
       "</style>\n",
       "<table border=\"1\" class=\"dataframe\">\n",
       "  <thead>\n",
       "    <tr style=\"text-align: right;\">\n",
       "      <th></th>\n",
       "      <th>barcodes_1</th>\n",
       "      <th>barcodes_2</th>\n",
       "      <th>barcodes_3</th>\n",
       "      <th>barcodes_4</th>\n",
       "      <th>barcodes_5</th>\n",
       "      <th>barcodes_6</th>\n",
       "      <th>barcodes_7</th>\n",
       "      <th>barcodes_8</th>\n",
       "      <th>barcodes_9</th>\n",
       "      <th>barcodes_10</th>\n",
       "    </tr>\n",
       "  </thead>\n",
       "  <tbody>\n",
       "    <tr>\n",
       "      <th>376287</th>\n",
       "      <td>8020312002709</td>\n",
       "      <td>None</td>\n",
       "      <td>None</td>\n",
       "      <td>None</td>\n",
       "      <td>None</td>\n",
       "      <td>None</td>\n",
       "      <td>None</td>\n",
       "      <td>None</td>\n",
       "      <td>None</td>\n",
       "      <td>None</td>\n",
       "    </tr>\n",
       "  </tbody>\n",
       "</table>\n",
       "</div>"
      ],
      "text/plain": [
       "           barcodes_1 barcodes_2 barcodes_3 barcodes_4 barcodes_5 barcodes_6  \\\n",
       "376287  8020312002709       None       None       None       None       None   \n",
       "\n",
       "       barcodes_7 barcodes_8 barcodes_9 barcodes_10  \n",
       "376287       None       None       None        None  "
      ]
     },
     "execution_count": 6,
     "metadata": {},
     "output_type": "execute_result"
    }
   ],
   "source": [
    "barcodes = data['Barcodes'].map(lambda x: clean_text(x, pattern=r'[\\{\\}\\\"\\']')).str.split(',', expand=True).set_index(data.index)\n",
    "barcodes.columns = [f'barcodes_{col+1}' for col in barcodes.columns]\n",
    "barcodes.sample()"
   ]
  },
  {
   "cell_type": "markdown",
   "metadata": {},
   "source": [
    "### Unir con tabla original"
   ]
  },
  {
   "cell_type": "code",
   "execution_count": 7,
   "metadata": {},
   "outputs": [
    {
     "data": {
      "text/html": [
       "<div>\n",
       "<style scoped>\n",
       "    .dataframe tbody tr th:only-of-type {\n",
       "        vertical-align: middle;\n",
       "    }\n",
       "\n",
       "    .dataframe tbody tr th {\n",
       "        vertical-align: top;\n",
       "    }\n",
       "\n",
       "    .dataframe thead th {\n",
       "        text-align: right;\n",
       "    }\n",
       "</style>\n",
       "<table border=\"1\" class=\"dataframe\">\n",
       "  <thead>\n",
       "    <tr style=\"text-align: right;\">\n",
       "      <th></th>\n",
       "      <th>Currency</th>\n",
       "      <th>Product ID</th>\n",
       "      <th>Name</th>\n",
       "      <th>Barcodes</th>\n",
       "      <th>barcodes_1</th>\n",
       "      <th>barcodes_2</th>\n",
       "      <th>barcodes_3</th>\n",
       "      <th>barcodes_4</th>\n",
       "      <th>barcodes_5</th>\n",
       "      <th>barcodes_6</th>\n",
       "      <th>barcodes_7</th>\n",
       "      <th>barcodes_8</th>\n",
       "      <th>barcodes_9</th>\n",
       "      <th>barcodes_10</th>\n",
       "    </tr>\n",
       "  </thead>\n",
       "  <tbody>\n",
       "    <tr>\n",
       "      <th>132276</th>\n",
       "      <td>MXN</td>\n",
       "      <td>180724</td>\n",
       "      <td>Capeador para pollo Shake 'n Bake</td>\n",
       "      <td>{43079032,9999917012750,4307903,43000057889,70...</td>\n",
       "      <td>43079032</td>\n",
       "      <td>9999917012750</td>\n",
       "      <td>4307903</td>\n",
       "      <td>43000057889</td>\n",
       "      <td>7052830430796</td>\n",
       "      <td>7043000000796</td>\n",
       "      <td>43000000793</td>\n",
       "      <td>None</td>\n",
       "      <td>None</td>\n",
       "      <td>None</td>\n",
       "    </tr>\n",
       "  </tbody>\n",
       "</table>\n",
       "</div>"
      ],
      "text/plain": [
       "       Currency Product ID                               Name  \\\n",
       "132276      MXN     180724  Capeador para pollo Shake 'n Bake   \n",
       "\n",
       "                                                 Barcodes barcodes_1  \\\n",
       "132276  {43079032,9999917012750,4307903,43000057889,70...   43079032   \n",
       "\n",
       "           barcodes_2 barcodes_3   barcodes_4     barcodes_5     barcodes_6  \\\n",
       "132276  9999917012750    4307903  43000057889  7052830430796  7043000000796   \n",
       "\n",
       "         barcodes_7 barcodes_8 barcodes_9 barcodes_10  \n",
       "132276  43000000793       None       None        None  "
      ]
     },
     "execution_count": 7,
     "metadata": {},
     "output_type": "execute_result"
    }
   ],
   "source": [
    "df = data.join(barcodes)\n",
    "del data, barcodes\n",
    "df[df['barcodes_7'].notnull()].sample()"
   ]
  },
  {
   "cell_type": "markdown",
   "metadata": {},
   "source": [
    "### Sólo una columna para barcodes"
   ]
  },
  {
   "cell_type": "code",
   "execution_count": 8,
   "metadata": {},
   "outputs": [
    {
     "data": {
      "text/html": [
       "<div>\n",
       "<style scoped>\n",
       "    .dataframe tbody tr th:only-of-type {\n",
       "        vertical-align: middle;\n",
       "    }\n",
       "\n",
       "    .dataframe tbody tr th {\n",
       "        vertical-align: top;\n",
       "    }\n",
       "\n",
       "    .dataframe thead th {\n",
       "        text-align: right;\n",
       "    }\n",
       "</style>\n",
       "<table border=\"1\" class=\"dataframe\">\n",
       "  <thead>\n",
       "    <tr style=\"text-align: right;\">\n",
       "      <th></th>\n",
       "      <th>Currency</th>\n",
       "      <th>Product ID</th>\n",
       "      <th>Name</th>\n",
       "      <th>Barcodes</th>\n",
       "      <th>barcode_n</th>\n",
       "      <th>barcode</th>\n",
       "    </tr>\n",
       "  </thead>\n",
       "  <tbody>\n",
       "    <tr>\n",
       "      <th>335317</th>\n",
       "      <td>MXN</td>\n",
       "      <td>3269192</td>\n",
       "      <td>Olmesartán medoxomilo tabletas 40 mg</td>\n",
       "      <td>{7506442700773}</td>\n",
       "      <td>barcodes_1</td>\n",
       "      <td>7506442700773</td>\n",
       "    </tr>\n",
       "  </tbody>\n",
       "</table>\n",
       "</div>"
      ],
      "text/plain": [
       "       Currency Product ID                                  Name  \\\n",
       "335317      MXN    3269192  Olmesartán medoxomilo tabletas 40 mg   \n",
       "\n",
       "               Barcodes   barcode_n        barcode  \n",
       "335317  {7506442700773}  barcodes_1  7506442700773  "
      ]
     },
     "execution_count": 8,
     "metadata": {},
     "output_type": "execute_result"
    }
   ],
   "source": [
    "df = df.melt(id_vars=['Currency', 'Product ID', 'Name', 'Barcodes'], var_name='barcode_n', value_name='barcode').dropna()\n",
    "df.sample()"
   ]
  },
  {
   "cell_type": "markdown",
   "metadata": {},
   "source": [
    "### Agrupar product ID para cada barcode"
   ]
  },
  {
   "cell_type": "code",
   "execution_count": 9,
   "metadata": {},
   "outputs": [
    {
     "data": {
      "text/html": [
       "<div>\n",
       "<style scoped>\n",
       "    .dataframe tbody tr th:only-of-type {\n",
       "        vertical-align: middle;\n",
       "    }\n",
       "\n",
       "    .dataframe tbody tr th {\n",
       "        vertical-align: top;\n",
       "    }\n",
       "\n",
       "    .dataframe thead th {\n",
       "        text-align: right;\n",
       "    }\n",
       "</style>\n",
       "<table border=\"1\" class=\"dataframe\">\n",
       "  <thead>\n",
       "    <tr style=\"text-align: right;\">\n",
       "      <th></th>\n",
       "      <th>Product ID</th>\n",
       "    </tr>\n",
       "    <tr>\n",
       "      <th>barcode</th>\n",
       "      <th></th>\n",
       "    </tr>\n",
       "  </thead>\n",
       "  <tbody>\n",
       "    <tr>\n",
       "      <th>7502009747144</th>\n",
       "      <td>2389181</td>\n",
       "    </tr>\n",
       "  </tbody>\n",
       "</table>\n",
       "</div>"
      ],
      "text/plain": [
       "              Product ID\n",
       "barcode                 \n",
       "7502009747144    2389181"
      ]
     },
     "execution_count": 9,
     "metadata": {},
     "output_type": "execute_result"
    }
   ],
   "source": [
    "df = df.pivot_table(index='barcode', values='Product ID', aggfunc=', '.join)\n",
    "df.sample()"
   ]
  },
  {
   "cell_type": "markdown",
   "metadata": {},
   "source": [
    "### Expandir al número de product_ID que tenga cada barcode"
   ]
  },
  {
   "cell_type": "code",
   "execution_count": 10,
   "metadata": {},
   "outputs": [
    {
     "data": {
      "text/html": [
       "<div>\n",
       "<style scoped>\n",
       "    .dataframe tbody tr th:only-of-type {\n",
       "        vertical-align: middle;\n",
       "    }\n",
       "\n",
       "    .dataframe tbody tr th {\n",
       "        vertical-align: top;\n",
       "    }\n",
       "\n",
       "    .dataframe thead th {\n",
       "        text-align: right;\n",
       "    }\n",
       "</style>\n",
       "<table border=\"1\" class=\"dataframe\">\n",
       "  <thead>\n",
       "    <tr style=\"text-align: right;\">\n",
       "      <th></th>\n",
       "      <th>product_id_1</th>\n",
       "      <th>product_id_2</th>\n",
       "      <th>product_id_3</th>\n",
       "      <th>product_id_4</th>\n",
       "      <th>product_id_5</th>\n",
       "      <th>product_id_6</th>\n",
       "      <th>product_id_7</th>\n",
       "      <th>product_id_8</th>\n",
       "      <th>product_id_9</th>\n",
       "      <th>product_id_10</th>\n",
       "      <th>product_id_11</th>\n",
       "      <th>product_id_12</th>\n",
       "    </tr>\n",
       "    <tr>\n",
       "      <th>barcode</th>\n",
       "      <th></th>\n",
       "      <th></th>\n",
       "      <th></th>\n",
       "      <th></th>\n",
       "      <th></th>\n",
       "      <th></th>\n",
       "      <th></th>\n",
       "      <th></th>\n",
       "      <th></th>\n",
       "      <th></th>\n",
       "      <th></th>\n",
       "      <th></th>\n",
       "    </tr>\n",
       "  </thead>\n",
       "  <tbody>\n",
       "    <tr>\n",
       "      <th>7501244003268</th>\n",
       "      <td>579599</td>\n",
       "      <td>None</td>\n",
       "      <td>None</td>\n",
       "      <td>None</td>\n",
       "      <td>None</td>\n",
       "      <td>None</td>\n",
       "      <td>None</td>\n",
       "      <td>None</td>\n",
       "      <td>None</td>\n",
       "      <td>None</td>\n",
       "      <td>None</td>\n",
       "      <td>None</td>\n",
       "    </tr>\n",
       "  </tbody>\n",
       "</table>\n",
       "</div>"
      ],
      "text/plain": [
       "              product_id_1 product_id_2 product_id_3 product_id_4  \\\n",
       "barcode                                                             \n",
       "7501244003268       579599         None         None         None   \n",
       "\n",
       "              product_id_5 product_id_6 product_id_7 product_id_8  \\\n",
       "barcode                                                             \n",
       "7501244003268         None         None         None         None   \n",
       "\n",
       "              product_id_9 product_id_10 product_id_11 product_id_12  \n",
       "barcode                                                               \n",
       "7501244003268         None          None          None          None  "
      ]
     },
     "execution_count": 10,
     "metadata": {},
     "output_type": "execute_result"
    }
   ],
   "source": [
    "df = df['Product ID'].astype(str).str.split(',', expand=True)\n",
    "df.columns = [f'product_id_{col+1}' for col in df.columns]\n",
    "df.sample()"
   ]
  },
  {
   "cell_type": "markdown",
   "metadata": {},
   "source": [
    "### Ordenar los barcodes con más product_IDs"
   ]
  },
  {
   "cell_type": "code",
   "execution_count": 11,
   "metadata": {},
   "outputs": [
    {
     "data": {
      "text/html": [
       "<div>\n",
       "<style scoped>\n",
       "    .dataframe tbody tr th:only-of-type {\n",
       "        vertical-align: middle;\n",
       "    }\n",
       "\n",
       "    .dataframe tbody tr th {\n",
       "        vertical-align: top;\n",
       "    }\n",
       "\n",
       "    .dataframe thead th {\n",
       "        text-align: right;\n",
       "    }\n",
       "</style>\n",
       "<table border=\"1\" class=\"dataframe\">\n",
       "  <thead>\n",
       "    <tr style=\"text-align: right;\">\n",
       "      <th></th>\n",
       "      <th>barcode</th>\n",
       "      <th>product_id_1</th>\n",
       "      <th>product_id_2</th>\n",
       "      <th>product_id_3</th>\n",
       "      <th>product_id_4</th>\n",
       "      <th>product_id_5</th>\n",
       "      <th>product_id_6</th>\n",
       "      <th>product_id_7</th>\n",
       "      <th>product_id_8</th>\n",
       "      <th>product_id_9</th>\n",
       "      <th>product_id_10</th>\n",
       "      <th>product_id_11</th>\n",
       "      <th>product_id_12</th>\n",
       "    </tr>\n",
       "  </thead>\n",
       "  <tbody>\n",
       "    <tr>\n",
       "      <th>0</th>\n",
       "      <td>7501055361199</td>\n",
       "      <td>4599926</td>\n",
       "      <td>4594342</td>\n",
       "      <td>4718214</td>\n",
       "      <td>4720588</td>\n",
       "      <td>4599927</td>\n",
       "      <td>4638703</td>\n",
       "      <td>4601649</td>\n",
       "      <td>4601215</td>\n",
       "      <td>4528681</td>\n",
       "      <td>4601212</td>\n",
       "      <td>4597388</td>\n",
       "      <td>336093</td>\n",
       "    </tr>\n",
       "    <tr>\n",
       "      <th>1</th>\n",
       "      <td>7501055368440</td>\n",
       "      <td>4601171</td>\n",
       "      <td>4638683</td>\n",
       "      <td>1256963</td>\n",
       "      <td>4718142</td>\n",
       "      <td>4597367</td>\n",
       "      <td>4601174</td>\n",
       "      <td>4601554</td>\n",
       "      <td>4599885</td>\n",
       "      <td>4599887</td>\n",
       "      <td>4720571</td>\n",
       "      <td>336764</td>\n",
       "      <td>None</td>\n",
       "    </tr>\n",
       "    <tr>\n",
       "      <th>2</th>\n",
       "      <td>7501055368464</td>\n",
       "      <td>4720567</td>\n",
       "      <td>4638679</td>\n",
       "      <td>4601168</td>\n",
       "      <td>4601521</td>\n",
       "      <td>4599876</td>\n",
       "      <td>4597364</td>\n",
       "      <td>1256965</td>\n",
       "      <td>4599879</td>\n",
       "      <td>4601163</td>\n",
       "      <td>4718138</td>\n",
       "      <td>337428</td>\n",
       "      <td>None</td>\n",
       "    </tr>\n",
       "  </tbody>\n",
       "</table>\n",
       "</div>"
      ],
      "text/plain": [
       "         barcode product_id_1 product_id_2 product_id_3 product_id_4  \\\n",
       "0  7501055361199      4599926      4594342      4718214      4720588   \n",
       "1  7501055368440      4601171      4638683      1256963      4718142   \n",
       "2  7501055368464      4720567      4638679      4601168      4601521   \n",
       "\n",
       "  product_id_5 product_id_6 product_id_7 product_id_8 product_id_9  \\\n",
       "0      4599927      4638703      4601649      4601215      4528681   \n",
       "1      4597367      4601174      4601554      4599885      4599887   \n",
       "2      4599876      4597364      1256965      4599879      4601163   \n",
       "\n",
       "  product_id_10 product_id_11 product_id_12  \n",
       "0       4601212       4597388        336093  \n",
       "1       4720571        336764          None  \n",
       "2       4718138        337428          None  "
      ]
     },
     "execution_count": 11,
     "metadata": {},
     "output_type": "execute_result"
    }
   ],
   "source": [
    "df.sort_values(list(reversed(df.columns)), inplace=True)\n",
    "df.reset_index(inplace=True)\n",
    "df.head(3)"
   ]
  },
  {
   "cell_type": "markdown",
   "metadata": {},
   "source": [
    "### Agregar ' al barcode para que Excel no omita los 0 a la izquierda"
   ]
  },
  {
   "cell_type": "code",
   "execution_count": 12,
   "metadata": {},
   "outputs": [
    {
     "data": {
      "text/html": [
       "<div>\n",
       "<style scoped>\n",
       "    .dataframe tbody tr th:only-of-type {\n",
       "        vertical-align: middle;\n",
       "    }\n",
       "\n",
       "    .dataframe tbody tr th {\n",
       "        vertical-align: top;\n",
       "    }\n",
       "\n",
       "    .dataframe thead th {\n",
       "        text-align: right;\n",
       "    }\n",
       "</style>\n",
       "<table border=\"1\" class=\"dataframe\">\n",
       "  <thead>\n",
       "    <tr style=\"text-align: right;\">\n",
       "      <th></th>\n",
       "      <th>barcode</th>\n",
       "      <th>product_id_1</th>\n",
       "      <th>product_id_2</th>\n",
       "      <th>product_id_3</th>\n",
       "      <th>product_id_4</th>\n",
       "      <th>product_id_5</th>\n",
       "      <th>product_id_6</th>\n",
       "      <th>product_id_7</th>\n",
       "      <th>product_id_8</th>\n",
       "      <th>product_id_9</th>\n",
       "      <th>product_id_10</th>\n",
       "      <th>product_id_11</th>\n",
       "      <th>product_id_12</th>\n",
       "    </tr>\n",
       "  </thead>\n",
       "  <tbody>\n",
       "    <tr>\n",
       "      <th>202873</th>\n",
       "      <td>'7500539079599</td>\n",
       "      <td>2443661</td>\n",
       "      <td>None</td>\n",
       "      <td>None</td>\n",
       "      <td>None</td>\n",
       "      <td>None</td>\n",
       "      <td>None</td>\n",
       "      <td>None</td>\n",
       "      <td>None</td>\n",
       "      <td>None</td>\n",
       "      <td>None</td>\n",
       "      <td>None</td>\n",
       "      <td>None</td>\n",
       "    </tr>\n",
       "  </tbody>\n",
       "</table>\n",
       "</div>"
      ],
      "text/plain": [
       "               barcode product_id_1 product_id_2 product_id_3 product_id_4  \\\n",
       "202873  '7500539079599      2443661         None         None         None   \n",
       "\n",
       "       product_id_5 product_id_6 product_id_7 product_id_8 product_id_9  \\\n",
       "202873         None         None         None         None         None   \n",
       "\n",
       "       product_id_10 product_id_11 product_id_12  \n",
       "202873          None          None          None  "
      ]
     },
     "execution_count": 12,
     "metadata": {},
     "output_type": "execute_result"
    }
   ],
   "source": [
    "df['barcode'] = df['barcode'].map(lambda x: \"'\"+x)\n",
    "df.sample()"
   ]
  },
  {
   "cell_type": "markdown",
   "metadata": {},
   "source": [
    "### Exportar resultado"
   ]
  },
  {
   "cell_type": "code",
   "execution_count": 13,
   "metadata": {},
   "outputs": [],
   "source": [
    "new_name = ''.join(FILE_NAME.split('.')[:-1])\n",
    "df.to_csv(BASE_DIR.joinpath(f'clean_{new_name}.csv'), sep='\\t', encoding='utf-16', index=False)"
   ]
  }
 ],
 "metadata": {
  "interpreter": {
   "hash": "cd073f3038b8337706d4c7d775204fb19bddc277721f52eb60f8c4b0892f2184"
  },
  "kernelspec": {
   "display_name": "Python 3.9.1 64-bit ('venv': venv)",
   "name": "python3"
  },
  "language_info": {
   "codemirror_mode": {
    "name": "ipython",
    "version": 3
   },
   "file_extension": ".py",
   "mimetype": "text/x-python",
   "name": "python",
   "nbconvert_exporter": "python",
   "pygments_lexer": "ipython3",
   "version": "3.9.1"
  },
  "orig_nbformat": 4
 },
 "nbformat": 4,
 "nbformat_minor": 2
}
