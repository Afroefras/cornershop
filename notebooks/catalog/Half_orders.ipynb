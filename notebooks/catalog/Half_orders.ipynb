{
 "cells": [
  {
   "cell_type": "markdown",
   "id": "9f4aa819",
   "metadata": {},
   "source": [
    "# Half orders"
   ]
  },
  {
   "cell_type": "code",
   "execution_count": 304,
   "id": "e88e8efb",
   "metadata": {
    "ExecuteTime": {
     "end_time": "2021-07-02T00:14:45.783878Z",
     "start_time": "2021-07-02T00:14:45.780526Z"
    }
   },
   "outputs": [],
   "source": [
    "BASE_DIR = '/Users/efraflores/Desktop/EF/Corner/Catalog/data'\n",
    "FILE_NAME = 'text_by_order.csv'"
   ]
  },
  {
   "cell_type": "markdown",
   "id": "42e2f40c",
   "metadata": {},
   "source": [
    "## Import"
   ]
  },
  {
   "cell_type": "code",
   "execution_count": 305,
   "id": "83dd1a1d",
   "metadata": {
    "ExecuteTime": {
     "end_time": "2021-07-02T00:14:45.791468Z",
     "start_time": "2021-07-02T00:14:45.788238Z"
    }
   },
   "outputs": [],
   "source": [
    "import sys\n",
    "sys.path.append('/Users/efraflores/Desktop/hub/cornershop/venv/lib/python3.9/site-packages')"
   ]
  },
  {
   "cell_type": "code",
   "execution_count": 306,
   "id": "0030539d",
   "metadata": {
    "ExecuteTime": {
     "end_time": "2021-07-02T00:14:45.858135Z",
     "start_time": "2021-07-02T00:14:45.796525Z"
    }
   },
   "outputs": [
    {
     "name": "stdout",
     "output_type": "stream",
     "text": [
      "18253\n"
     ]
    },
    {
     "data": {
      "text/html": [
       "<div>\n",
       "<style scoped>\n",
       "    .dataframe tbody tr th:only-of-type {\n",
       "        vertical-align: middle;\n",
       "    }\n",
       "\n",
       "    .dataframe tbody tr th {\n",
       "        vertical-align: top;\n",
       "    }\n",
       "\n",
       "    .dataframe thead th {\n",
       "        text-align: right;\n",
       "    }\n",
       "</style>\n",
       "<table border=\"1\" class=\"dataframe\">\n",
       "  <thead>\n",
       "    <tr style=\"text-align: right;\">\n",
       "      <th></th>\n",
       "      <th>custom_product</th>\n",
       "      <th>custom_request</th>\n",
       "    </tr>\n",
       "    <tr>\n",
       "      <th>order_id</th>\n",
       "      <th></th>\n",
       "      <th></th>\n",
       "    </tr>\n",
       "  </thead>\n",
       "  <tbody>\n",
       "    <tr>\n",
       "      <th>36126284</th>\n",
       "      <td>cuernito_ pan oreja</td>\n",
       "      <td>NaN</td>\n",
       "    </tr>\n",
       "  </tbody>\n",
       "</table>\n",
       "</div>"
      ],
      "text/plain": [
       "               custom_product custom_request\n",
       "order_id                                    \n",
       "36126284  cuernito_ pan oreja            NaN"
      ]
     },
     "metadata": {},
     "output_type": "display_data"
    }
   ],
   "source": [
    "import os\n",
    "import pandas as pd\n",
    "\n",
    "df = pd.read_csv(os.path.join(BASE_DIR,FILE_NAME)).set_index('order_id')\n",
    "print(len(df))\n",
    "display(df.sample())"
   ]
  },
  {
   "cell_type": "markdown",
   "id": "aff6f2fc",
   "metadata": {},
   "source": [
    "## Functions"
   ]
  },
  {
   "cell_type": "markdown",
   "id": "21a8bba7",
   "metadata": {},
   "source": [
    "### Timing and tone"
   ]
  },
  {
   "cell_type": "code",
   "execution_count": 307,
   "id": "b978950c",
   "metadata": {
    "ExecuteTime": {
     "end_time": "2021-07-02T00:14:45.866265Z",
     "start_time": "2021-07-02T00:14:45.861107Z"
    }
   },
   "outputs": [],
   "source": [
    "import time\n",
    "import numpy as np\n",
    "from IPython.lib.display import Audio\n",
    "\n",
    "start = time.time()\n",
    "def time_exp(x):\n",
    "    minutes, seconds = np.floor(x/60), 60*(x/60-np.floor(x/60))\n",
    "    print(f\"{'{:.0f}'.format(minutes)} minutos con {'{:.2f}'.format(seconds)} segundos\")\n",
    "    \n",
    "def tono(a=1000, b=700, play_time_seconds=1, framerate=4410):\n",
    "    t = np.linspace(0, play_time_seconds, framerate*play_time_seconds)*np.pi\n",
    "    return Audio(np.sin(a*t) + np.sin(b*t), rate=framerate, autoplay=True)"
   ]
  },
  {
   "cell_type": "markdown",
   "id": "80734172",
   "metadata": {},
   "source": [
    "### Clean text"
   ]
  },
  {
   "cell_type": "code",
   "execution_count": 308,
   "id": "0ba1af5d",
   "metadata": {
    "ExecuteTime": {
     "end_time": "2021-07-02T00:14:45.898921Z",
     "start_time": "2021-07-02T00:14:45.869258Z"
    }
   },
   "outputs": [
    {
     "name": "stdout",
     "output_type": "stream",
     "text": [
      "\n",
      "Original:\t\t I am going to run!!! I ran while I was running??? ...\n",
      "Basic cleaning:\t\t I am going to run I ran while I was running\n",
      "Changing the pattern:\t I am going to run!!! I ran while I was running ...\n",
      "Without stopwords:\t going run ran running\n",
      "Lower and lemma:\t i be go to run i run while i be run\n",
      "Super cleaning:\t\t run\n",
      "\n",
      "It actually corrects the weird accents, example\n",
      "\tFROM:\t ThÈ ÉfrâïsMã's?...\n",
      "\tTO:\t the efraisma's\n"
     ]
    }
   ],
   "source": [
    "#Uncomment the following lines if it's the first time you run this packages\n",
    "'''\n",
    "!pip install nltk\n",
    "import nltk\n",
    "nltk.download('stopwords')\n",
    "nltk.download('wordnet')\n",
    "'''\n",
    "import re\n",
    "import unicodedata\n",
    "from nltk.corpus import stopwords\n",
    "from nltk.stem import WordNetLemmatizer\n",
    "\n",
    "lem = WordNetLemmatizer()\n",
    "\n",
    "def clean_text(text,\n",
    "               language='english',pattern=\"[^a-zA-Z' ]\",\n",
    "               lower=False,lemma=False,rem_stopw=False,unique=False,\n",
    "               add_stopw=[]):\n",
    "    #It clean and can remove stopwords or even lemmatize words if specified in params\n",
    "    cleaned_text = unicodedata.normalize('NFD',str(text).replace('\\n','')).encode('ascii', 'ignore')\n",
    "    cleaned_text = re.sub(pattern,' ',cleaned_text.decode('utf-8'),flags=re.UNICODE)\n",
    "    cleaned_text = [(lem.lemmatize(word,pos='v') if lemma else word) for word in \n",
    "                    (cleaned_text.lower().split() if lower else cleaned_text.split())]\n",
    "    if rem_stopw: cleaned_text = [word for word in cleaned_text if word.lower() not in \n",
    "                                  stopwords.words(language)+add_stopw]\n",
    "    return ' '.join((set(cleaned_text) if unique else cleaned_text))\n",
    "\n",
    "#Ex\n",
    "ex = \"I am going to run!!! I ran while I was running??? ...\"\n",
    "print('\\nOriginal:\\t\\t',ex)\n",
    "print('Basic cleaning:\\t\\t',clean_text(ex))\n",
    "print('Changing the pattern:\\t',clean_text(ex,pattern=\"[^a-zA-Z!\\.]\"))\n",
    "print('Without stopwords:\\t',clean_text(ex,rem_stopw=True))\n",
    "print('Lower and lemma:\\t',clean_text(ex,lower=True,lemma=True))\n",
    "print('Super cleaning:\\t\\t',clean_text(ex,add_stopw=['go'],lower=True,rem_stopw=True,lemma=True,unique=True))\n",
    "print(\"\\nIt actually corrects the weird accents, example\\n\\tFROM:\\t ThÈ ÉfrâïsMã's?...\\n\\tTO:\\t\",clean_text(\"ThÈ ÉfrâïsMa's?...\",lower=True))"
   ]
  },
  {
   "cell_type": "markdown",
   "id": "79739e5c",
   "metadata": {},
   "source": [
    "### Multiple sub"
   ]
  },
  {
   "cell_type": "code",
   "execution_count": 309,
   "id": "022673e2",
   "metadata": {
    "ExecuteTime": {
     "end_time": "2021-07-02T00:14:45.908599Z",
     "start_time": "2021-07-02T00:14:45.902577Z"
    }
   },
   "outputs": [],
   "source": [
    "import re\n",
    "def multisub(dict, text):\n",
    "  regex = re.compile(\"(%s)\" % \"|\".join(map(re.escape, dict.keys())))\n",
    "  return regex.sub(lambda x: dict[x.string[x.start():x.end()]], text).strip().lower()"
   ]
  },
  {
   "cell_type": "markdown",
   "id": "14217c41",
   "metadata": {},
   "source": [
    "### Custom product"
   ]
  },
  {
   "cell_type": "code",
   "execution_count": 310,
   "id": "e8579c8f",
   "metadata": {
    "ExecuteTime": {
     "end_time": "2021-07-02T00:14:45.919539Z",
     "start_time": "2021-07-02T00:14:45.913574Z"
    }
   },
   "outputs": [],
   "source": [
    "def found_pattern(data,text_col,pattern,request=False):\n",
    "    df = data.copy()\n",
    "    col = text_col.split('_')[-1]\n",
    "    df[f'found_{col}'] = df[text_col].apply(lambda x: len(re.findall(pattern,str(x)))>0)*1\n",
    "    if request:\n",
    "        pattern = '(?:'+pattern+')[\\b\\w+\\b\\.\\s]*(?=\\:+)\\:+([\\s\\b\\w+\\b]*)(?=\\_)'\n",
    "        df[f'prod_{col}'] = df[text_col].apply(lambda x: '_ '.join(re.findall(pattern,str(x))))\n",
    "    return df"
   ]
  },
  {
   "cell_type": "markdown",
   "id": "0f517daa",
   "metadata": {},
   "source": [
    "## Transform"
   ]
  },
  {
   "cell_type": "markdown",
   "id": "888830bd",
   "metadata": {},
   "source": [
    "### Clean text"
   ]
  },
  {
   "cell_type": "code",
   "execution_count": 311,
   "id": "5ff521e7",
   "metadata": {
    "ExecuteTime": {
     "end_time": "2021-07-02T00:14:46.156438Z",
     "start_time": "2021-07-02T00:14:45.922782Z"
    }
   },
   "outputs": [
    {
     "data": {
      "text/html": [
       "<div>\n",
       "<style scoped>\n",
       "    .dataframe tbody tr th:only-of-type {\n",
       "        vertical-align: middle;\n",
       "    }\n",
       "\n",
       "    .dataframe tbody tr th {\n",
       "        vertical-align: top;\n",
       "    }\n",
       "\n",
       "    .dataframe thead th {\n",
       "        text-align: right;\n",
       "    }\n",
       "</style>\n",
       "<table border=\"1\" class=\"dataframe\">\n",
       "  <thead>\n",
       "    <tr style=\"text-align: right;\">\n",
       "      <th></th>\n",
       "      <th>custom_product</th>\n",
       "      <th>custom_request</th>\n",
       "      <th>clean_custom_product</th>\n",
       "      <th>clean_custom_request</th>\n",
       "    </tr>\n",
       "    <tr>\n",
       "      <th>order_id</th>\n",
       "      <th></th>\n",
       "      <th></th>\n",
       "      <th></th>\n",
       "      <th></th>\n",
       "    </tr>\n",
       "  </thead>\n",
       "  <tbody>\n",
       "    <tr>\n",
       "      <th>35577292</th>\n",
       "      <td>cinta de empaque uso general Scotch</td>\n",
       "      <td>NaN</td>\n",
       "      <td>cinta de empaque uso general scotch_</td>\n",
       "      <td>nan_</td>\n",
       "    </tr>\n",
       "    <tr>\n",
       "      <th>36621032</th>\n",
       "      <td>Don Pedro Reserva especial</td>\n",
       "      <td>amarillos sin manchas negras::Plátano Chiapas_...</td>\n",
       "      <td>don pedro reserva especial_</td>\n",
       "      <td>amarillos sin manchas negras::platano chiapas_...</td>\n",
       "    </tr>\n",
       "    <tr>\n",
       "      <th>36762887</th>\n",
       "      <td>chips ahoy galletas</td>\n",
       "      <td>NaN</td>\n",
       "      <td>chips ahoy galletas_</td>\n",
       "      <td>nan_</td>\n",
       "    </tr>\n",
       "    <tr>\n",
       "      <th>36264409</th>\n",
       "      <td>coliflor Blanca</td>\n",
       "      <td>NaN</td>\n",
       "      <td>coliflor blanca_</td>\n",
       "      <td>nan_</td>\n",
       "    </tr>\n",
       "  </tbody>\n",
       "</table>\n",
       "</div>"
      ],
      "text/plain": [
       "                               custom_product  \\\n",
       "order_id                                        \n",
       "35577292  cinta de empaque uso general Scotch   \n",
       "36621032           Don Pedro Reserva especial   \n",
       "36762887                  chips ahoy galletas   \n",
       "36264409                      coliflor Blanca   \n",
       "\n",
       "                                             custom_request  \\\n",
       "order_id                                                      \n",
       "35577292                                                NaN   \n",
       "36621032  amarillos sin manchas negras::Plátano Chiapas_...   \n",
       "36762887                                                NaN   \n",
       "36264409                                                NaN   \n",
       "\n",
       "                           clean_custom_product  \\\n",
       "order_id                                          \n",
       "35577292  cinta de empaque uso general scotch_    \n",
       "36621032           don pedro reserva especial_    \n",
       "36762887                  chips ahoy galletas_    \n",
       "36264409                      coliflor blanca_    \n",
       "\n",
       "                                       clean_custom_request  \n",
       "order_id                                                     \n",
       "35577292                                              nan_   \n",
       "36621032  amarillos sin manchas negras::platano chiapas_...  \n",
       "36762887                                              nan_   \n",
       "36264409                                              nan_   "
      ]
     },
     "execution_count": 311,
     "metadata": {},
     "output_type": "execute_result"
    }
   ],
   "source": [
    "omit = ['a','al','el','los','la','las','en','de','un',\n",
    "        'una','uno','unos','y','con','sin','por','favor']\n",
    "clean_pattern = \"[^a-zA-Z0-9\\/\\s\\:\\_\\.]\"\n",
    "for col in df.columns:\n",
    "    df[f'clean_{col}'] = df[col].apply(lambda text: clean_text(text,lower=True,\n",
    "                                                               add_stopw=omit,\n",
    "                                                               pattern=clean_pattern)+'_ ')\n",
    "df.sample(4)"
   ]
  },
  {
   "cell_type": "markdown",
   "id": "e3755fec",
   "metadata": {},
   "source": [
    "### Found patterns"
   ]
  },
  {
   "cell_type": "code",
   "execution_count": 312,
   "id": "64645288",
   "metadata": {
    "ExecuteTime": {
     "end_time": "2021-07-02T00:14:46.161398Z",
     "start_time": "2021-07-02T00:14:46.158944Z"
    }
   },
   "outputs": [],
   "source": [
    "product_pattern = r'\\d+\\/\\d+|(?:250|500)\\s*(?:gramos|gr)|\\d+\\.(?:5|25)\\s*(?:kilo|kg)|medi[oa](?!n[ao])|cuarto|mitad'"
   ]
  },
  {
   "cell_type": "code",
   "execution_count": 313,
   "id": "0e001cf6",
   "metadata": {
    "ExecuteTime": {
     "end_time": "2021-07-02T00:14:46.407119Z",
     "start_time": "2021-07-02T00:14:46.165519Z"
    }
   },
   "outputs": [
    {
     "data": {
      "text/plain": [
       "found_product    0.017367\n",
       "found_request    0.070673\n",
       "dtype: float64"
      ]
     },
     "execution_count": 313,
     "metadata": {},
     "output_type": "execute_result"
    }
   ],
   "source": [
    "pre = found_pattern(df,'clean_custom_product',product_pattern)\n",
    "pre = found_pattern(pre,'clean_custom_request',product_pattern,request=True)\n",
    "pre[['found_product','found_request']].mean()"
   ]
  },
  {
   "cell_type": "code",
   "execution_count": 323,
   "id": "717ff4a8",
   "metadata": {
    "ExecuteTime": {
     "end_time": "2021-07-02T00:15:40.834223Z",
     "start_time": "2021-07-02T00:15:40.811908Z"
    }
   },
   "outputs": [
    {
     "data": {
      "text/html": [
       "<div>\n",
       "<style scoped>\n",
       "    .dataframe tbody tr th:only-of-type {\n",
       "        vertical-align: middle;\n",
       "    }\n",
       "\n",
       "    .dataframe tbody tr th {\n",
       "        vertical-align: top;\n",
       "    }\n",
       "\n",
       "    .dataframe thead th {\n",
       "        text-align: right;\n",
       "    }\n",
       "</style>\n",
       "<table border=\"1\" class=\"dataframe\">\n",
       "  <thead>\n",
       "    <tr style=\"text-align: right;\">\n",
       "      <th></th>\n",
       "      <th>custom_request</th>\n",
       "      <th>clean_custom_request</th>\n",
       "      <th>prod_request</th>\n",
       "    </tr>\n",
       "    <tr>\n",
       "      <th>order_id</th>\n",
       "      <th></th>\n",
       "      <th></th>\n",
       "      <th></th>\n",
       "    </tr>\n",
       "  </thead>\n",
       "  <tbody>\n",
       "    <tr>\n",
       "      <th>35496566</th>\n",
       "      <td>Por favor que las uvas sean sin semilla y que ...</td>\n",
       "      <td>por favor que las uvas sean sin semilla y que ...</td>\n",
       "      <td>apio</td>\n",
       "    </tr>\n",
       "    <tr>\n",
       "      <th>36234440</th>\n",
       "      <td>Solo 1/4kg::Chile serrano_ 1 Kg por favor::Tom...</td>\n",
       "      <td>solo 1/4kg::chile serrano_ 1 kg por favor::tom...</td>\n",
       "      <td>chile serrano</td>\n",
       "    </tr>\n",
       "    <tr>\n",
       "      <th>35808806</th>\n",
       "      <td>1 kg::Plátano Chiapas_ 1kg inmaduros::Aguacate...</td>\n",
       "      <td>1 kg::platano chiapas_ 1kg inmaduros::aguacate...</td>\n",
       "      <td>limon colima</td>\n",
       "    </tr>\n",
       "    <tr>\n",
       "      <th>35907581</th>\n",
       "      <td>1/2 melón::Melón chino_ 1/4 de sandía::Sandía ...</td>\n",
       "      <td>1/2 melon::melon chino_ 1/4 de sandia::sandia ...</td>\n",
       "      <td>melon chino_ sandia blanca rayada</td>\n",
       "    </tr>\n",
       "  </tbody>\n",
       "</table>\n",
       "</div>"
      ],
      "text/plain": [
       "                                             custom_request  \\\n",
       "order_id                                                      \n",
       "35496566  Por favor que las uvas sean sin semilla y que ...   \n",
       "36234440  Solo 1/4kg::Chile serrano_ 1 Kg por favor::Tom...   \n",
       "35808806  1 kg::Plátano Chiapas_ 1kg inmaduros::Aguacate...   \n",
       "35907581  1/2 melón::Melón chino_ 1/4 de sandía::Sandía ...   \n",
       "\n",
       "                                       clean_custom_request  \\\n",
       "order_id                                                      \n",
       "35496566  por favor que las uvas sean sin semilla y que ...   \n",
       "36234440  solo 1/4kg::chile serrano_ 1 kg por favor::tom...   \n",
       "35808806  1 kg::platano chiapas_ 1kg inmaduros::aguacate...   \n",
       "35907581  1/2 melon::melon chino_ 1/4 de sandia::sandia ...   \n",
       "\n",
       "                               prod_request  \n",
       "order_id                                     \n",
       "35496566                               apio  \n",
       "36234440                      chile serrano  \n",
       "35808806                       limon colima  \n",
       "35907581  melon chino_ sandia blanca rayada  "
      ]
     },
     "execution_count": 323,
     "metadata": {},
     "output_type": "execute_result"
    }
   ],
   "source": [
    "prod = pre[pre['found_request']==1][['custom_request','clean_custom_request','prod_request']].copy()\n",
    "prod.sample(4)"
   ]
  },
  {
   "cell_type": "code",
   "execution_count": 326,
   "id": "aadbf908",
   "metadata": {
    "ExecuteTime": {
     "end_time": "2021-07-02T00:16:45.986241Z",
     "start_time": "2021-07-02T00:16:45.979935Z"
    }
   },
   "outputs": [
    {
     "data": {
      "text/plain": [
       "'1/2 melón::Melón chino_ 1/4 de sandía::Sandía blanca rayada'"
      ]
     },
     "execution_count": 326,
     "metadata": {},
     "output_type": "execute_result"
    }
   ],
   "source": [
    "prod.loc[35907581,'custom_request']"
   ]
  },
  {
   "cell_type": "code",
   "execution_count": 325,
   "id": "09323ce4",
   "metadata": {
    "ExecuteTime": {
     "end_time": "2021-07-02T00:16:28.327286Z",
     "start_time": "2021-07-02T00:16:28.320973Z"
    }
   },
   "outputs": [
    {
     "data": {
      "text/plain": [
       "[['Sandía blanca rayada'],\n",
       " ['Papaya maradol'],\n",
       " ['Limón Colima'],\n",
       " ['Sandía blanca rayada']]"
      ]
     },
     "execution_count": 325,
     "metadata": {},
     "output_type": "execute_result"
    }
   ],
   "source": [
    "ejemplo = ['mitad de una sandía acabada de cortar que este para mañana::Sandía blanca rayada_',\n",
    " '1/2::Papaya maradol_ 1/2::Melón chino',\n",
    " '2 kg inmaduros::Jitomate saladet_ 500 gr::Limón Colima_ 1 kg::Chayote sin espinas_ ',\n",
    " 'que no esté muy verde::Plátano Chiapas_ una mitad o un cuarto que no se vea bofa o porosa::Sandía blanca rayada_ que no esté golpeada::Manzana roja mediana_']\n",
    "\n",
    "[re.findall(f'(?:{product_pattern})[\\b\\w+\\b\\.\\s]*(?=\\:+)\\:+([\\s\\b\\w+\\b]*)(?=\\_)',x) for x in ejemplo]"
   ]
  },
  {
   "cell_type": "code",
   "execution_count": 316,
   "id": "df109500",
   "metadata": {
    "ExecuteTime": {
     "end_time": "2021-07-02T00:14:46.437987Z",
     "start_time": "2021-07-02T00:14:46.429839Z"
    }
   },
   "outputs": [
    {
     "data": {
      "text/html": [
       "<div>\n",
       "<style scoped>\n",
       "    .dataframe tbody tr th:only-of-type {\n",
       "        vertical-align: middle;\n",
       "    }\n",
       "\n",
       "    .dataframe tbody tr th {\n",
       "        vertical-align: top;\n",
       "    }\n",
       "\n",
       "    .dataframe thead th {\n",
       "        text-align: right;\n",
       "    }\n",
       "</style>\n",
       "<table border=\"1\" class=\"dataframe\">\n",
       "  <thead>\n",
       "    <tr style=\"text-align: right;\">\n",
       "      <th></th>\n",
       "      <th>prod_request</th>\n",
       "    </tr>\n",
       "  </thead>\n",
       "  <tbody>\n",
       "    <tr>\n",
       "      <th>papaya maradol</th>\n",
       "      <td>360</td>\n",
       "    </tr>\n",
       "    <tr>\n",
       "      <th>sandia blanca rayada</th>\n",
       "      <td>239</td>\n",
       "    </tr>\n",
       "    <tr>\n",
       "      <th>melon chino</th>\n",
       "      <td>107</td>\n",
       "    </tr>\n",
       "    <tr>\n",
       "      <th>aguacate hass</th>\n",
       "      <td>79</td>\n",
       "    </tr>\n",
       "    <tr>\n",
       "      <th>platano chiapas</th>\n",
       "      <td>67</td>\n",
       "    </tr>\n",
       "    <tr>\n",
       "      <th>col blanca</th>\n",
       "      <td>65</td>\n",
       "    </tr>\n",
       "    <tr>\n",
       "      <th>pina gota miel</th>\n",
       "      <td>33</td>\n",
       "    </tr>\n",
       "    <tr>\n",
       "      <th>col morada</th>\n",
       "      <td>20</td>\n",
       "    </tr>\n",
       "    <tr>\n",
       "      <th>jitomate saladet</th>\n",
       "      <td>18</td>\n",
       "    </tr>\n",
       "    <tr>\n",
       "      <th>melon chino_ papaya maradol</th>\n",
       "      <td>17</td>\n",
       "    </tr>\n",
       "    <tr>\n",
       "      <th>papaya maradol_ melon chino</th>\n",
       "      <td>16</td>\n",
       "    </tr>\n",
       "    <tr>\n",
       "      <th>limon colima</th>\n",
       "      <td>12</td>\n",
       "    </tr>\n",
       "    <tr>\n",
       "      <th>sandia blanca rayada_ papaya maradol</th>\n",
       "      <td>10</td>\n",
       "    </tr>\n",
       "    <tr>\n",
       "      <th>mango ataulfo</th>\n",
       "      <td>9</td>\n",
       "    </tr>\n",
       "    <tr>\n",
       "      <th>papaya maradol_ sandia blanca rayada</th>\n",
       "      <td>8</td>\n",
       "    </tr>\n",
       "    <tr>\n",
       "      <th>chile serrano</th>\n",
       "      <td>8</td>\n",
       "    </tr>\n",
       "    <tr>\n",
       "      <th>sandia blanca rayada_ melon chino</th>\n",
       "      <td>7</td>\n",
       "    </tr>\n",
       "    <tr>\n",
       "      <th></th>\n",
       "      <td>7</td>\n",
       "    </tr>\n",
       "    <tr>\n",
       "      <th>tomate verde</th>\n",
       "      <td>6</td>\n",
       "    </tr>\n",
       "    <tr>\n",
       "      <th>melon amarillo</th>\n",
       "      <td>5</td>\n",
       "    </tr>\n",
       "    <tr>\n",
       "      <th>papaya maradol_ pina gota miel</th>\n",
       "      <td>5</td>\n",
       "    </tr>\n",
       "    <tr>\n",
       "      <th>uva verde</th>\n",
       "      <td>5</td>\n",
       "    </tr>\n",
       "  </tbody>\n",
       "</table>\n",
       "</div>"
      ],
      "text/plain": [
       "                                      prod_request\n",
       "papaya maradol                                 360\n",
       "sandia blanca rayada                           239\n",
       "melon chino                                    107\n",
       "aguacate hass                                   79\n",
       "platano chiapas                                 67\n",
       "col blanca                                      65\n",
       "pina gota miel                                  33\n",
       "col morada                                      20\n",
       "jitomate saladet                                18\n",
       "melon chino_ papaya maradol                     17\n",
       "papaya maradol_ melon chino                     16\n",
       "limon colima                                    12\n",
       "sandia blanca rayada_ papaya maradol            10\n",
       "mango ataulfo                                    9\n",
       "papaya maradol_ sandia blanca rayada             8\n",
       "chile serrano                                    8\n",
       "sandia blanca rayada_ melon chino                7\n",
       "                                                 7\n",
       "tomate verde                                     6\n",
       "melon amarillo                                   5\n",
       "papaya maradol_ pina gota miel                   5\n",
       "uva verde                                        5"
      ]
     },
     "execution_count": 316,
     "metadata": {},
     "output_type": "execute_result"
    }
   ],
   "source": [
    "prod['prod_request'].value_counts().to_frame().head(22)"
   ]
  },
  {
   "cell_type": "code",
   "execution_count": 317,
   "id": "66716de7",
   "metadata": {
    "ExecuteTime": {
     "end_time": "2021-07-02T00:14:46.445394Z",
     "start_time": "2021-07-02T00:14:46.439736Z"
    }
   },
   "outputs": [
    {
     "data": {
      "text/plain": [
       "'que se vea fresca::lechuga escarola_ de preferencia una mitad para que pueda checar que esta buena. gracias::sandia blanca rayada_ verdes que aun no esten maduros ::aguacate hass_ mediana que esten sin manchas::calabaza italiana_ jugosas::naranja_ '"
      ]
     },
     "execution_count": 317,
     "metadata": {},
     "output_type": "execute_result"
    }
   ],
   "source": [
    "aux[aux['prod_request']=='']['clean_custom_request'].tolist()[3]"
   ]
  },
  {
   "cell_type": "markdown",
   "id": "dcdcd125",
   "metadata": {},
   "source": [
    "## End"
   ]
  },
  {
   "cell_type": "code",
   "execution_count": 318,
   "id": "8cab033a",
   "metadata": {
    "ExecuteTime": {
     "end_time": "2021-07-02T00:14:46.463726Z",
     "start_time": "2021-07-02T00:14:46.448664Z"
    },
    "scrolled": true
   },
   "outputs": [
    {
     "name": "stdout",
     "output_type": "stream",
     "text": [
      "0 minutos con 0.59 segundos\n"
     ]
    },
    {
     "data": {
      "text/html": [
       "\n",
       "                <audio  controls=\"controls\" autoplay=\"autoplay\">\n",
       "                    <source src=\"data:audio/wav;base64,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\" type=\"audio/wav\" />\n",
       "                    Your browser does not support the audio element.\n",
       "                </audio>\n",
       "              "
      ],
      "text/plain": [
       "<IPython.lib.display.Audio object>"
      ]
     },
     "execution_count": 318,
     "metadata": {},
     "output_type": "execute_result"
    }
   ],
   "source": [
    "time_exp(time.time()-start)\n",
    "tono()"
   ]
  }
 ],
 "metadata": {
  "kernelspec": {
   "display_name": "Python 3",
   "language": "python",
   "name": "python3"
  },
  "language_info": {
   "codemirror_mode": {
    "name": "ipython",
    "version": 3
   },
   "file_extension": ".py",
   "mimetype": "text/x-python",
   "name": "python",
   "nbconvert_exporter": "python",
   "pygments_lexer": "ipython3",
   "version": "3.9.1"
  },
  "toc": {
   "base_numbering": 1,
   "nav_menu": {},
   "number_sections": true,
   "sideBar": true,
   "skip_h1_title": true,
   "title_cell": "Table of Contents",
   "title_sidebar": "Contents",
   "toc_cell": false,
   "toc_position": {},
   "toc_section_display": true,
   "toc_window_display": true
  },
  "varInspector": {
   "cols": {
    "lenName": 16,
    "lenType": 16,
    "lenVar": 40
   },
   "kernels_config": {
    "python": {
     "delete_cmd_postfix": "",
     "delete_cmd_prefix": "del ",
     "library": "var_list.py",
     "varRefreshCmd": "print(var_dic_list())"
    },
    "r": {
     "delete_cmd_postfix": ") ",
     "delete_cmd_prefix": "rm(",
     "library": "var_list.r",
     "varRefreshCmd": "cat(var_dic_list()) "
    }
   },
   "types_to_exclude": [
    "module",
    "function",
    "builtin_function_or_method",
    "instance",
    "_Feature"
   ],
   "window_display": false
  }
 },
 "nbformat": 4,
 "nbformat_minor": 5
}
