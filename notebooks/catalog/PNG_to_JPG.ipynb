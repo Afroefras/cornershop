{
  "cells": [
    {
      "cell_type": "markdown",
      "metadata": {
        "id": "RMZNiy7WPW2j"
      },
      "source": [
        "## Parámetros"
      ]
    },
    {
      "cell_type": "code",
      "execution_count": null,
      "metadata": {
        "id": "m-jYRyO5PY9O"
      },
      "outputs": [],
      "source": [
        "# Directorio de los resultados de la query\n",
        "BASE_DIR = '/Users/efraflores/Desktop/EF/Corner/Catalog/PNG_to_JPG'\n",
        "# Nombre base, es decir, puede haber varios archivos con \"nombre_X\", \"nombre_Y\", etc y todos comienzan con \"nombre\"\n",
        "FILE_BASE_NAME = 'sports'"
      ]
    },
    {
      "cell_type": "markdown",
      "metadata": {},
      "source": [
        "## Entorno"
      ]
    },
    {
      "cell_type": "code",
      "execution_count": null,
      "metadata": {},
      "outputs": [],
      "source": [
        "# Control de datos\n",
        "from PIL import Image\n",
        "from io import BytesIO\n",
        "from time import sleep\n",
        "from pathlib import Path\n",
        "from cloudscraper import create_scraper\n",
        "from IPython.display import clear_output\n",
        " \n",
        "# Instanciar el objeto que llamará a las URL evitando el anti-bot\n",
        "scraper = create_scraper(browser='firefox')\n",
        "\n",
        "# Ingeniería de variables\n",
        "from numpy import array\n",
        "from re import search as re_search\n",
        "from pandas import DataFrame, read_csv"
      ]
    },
    {
      "cell_type": "markdown",
      "metadata": {
        "id": "1xBQ0JcaPUjK"
      },
      "source": [
        "## Código"
      ]
    },
    {
      "cell_type": "code",
      "execution_count": null,
      "metadata": {
        "id": "po-JZWTzPTRR"
      },
      "outputs": [],
      "source": [
        "class ImageFromUrl:\n",
        "    '''\n",
        "    Obtiene las imágenes indicadas en cierta columna de un archivo csv y si son PNG las convierte a JPEG para exportar todas en el mismo formato\n",
        "    '''\n",
        "    def __init__(self, base_dir: str, file_base_name: str) -> None:\n",
        "        # Convierte el texto a objeto tipo Path para unir directorios, buscar archivos, etc\n",
        "        self.base_dir = Path(base_dir)\n",
        "        # Asigna el nombre base como atributo \n",
        "        self.file_name = file_base_name\n",
        "        # Encuentra todos los archivos que comiencen con el nombre base en el directorio\n",
        "        self.files_list = [x for x in self.base_dir.glob('*') if re_search(f'{self.file_name}_(?!found).+\\.csv', str(x))]\n",
        "\n",
        "    def __len__(self) -> int:\n",
        "        '''\n",
        "        Devuelve la cantidad de archivos encontrados\n",
        "        '''\n",
        "        return len(self.files_list)\n",
        "    \n",
        "    def __str__(self) -> str:\n",
        "        return f'Directorio: {self.base_dir}\\nCon {self.__len__()} archivo(s) para buscar las palabras:\\n{self.words}'\n",
        "\n",
        "    def cool_print(self, text: str, sleep_time: float=0.02, by_word: bool=False) -> None: \n",
        "        '''\n",
        "        Imprimir como si se fuera escribiendo\n",
        "        '''\n",
        "        acum = ''\n",
        "        for x in (text.split() if by_word else text): \n",
        "            # Acumular texto\n",
        "            acum += x+' ' if by_word else x\n",
        "            # Limpiar pantalla\n",
        "            clear_output(wait=True)\n",
        "            # Esperar un poco para emular efecto de escritura\n",
        "            sleep(sleep_time*(9 if by_word else 1))\n",
        "            # Imprimir texto acumulado\n",
        "            print(acum)\n",
        "        # Mantener el texto en pantalla\n",
        "        sleep(1.7)\n",
        "\n",
        "    def user_exit(self) -> bool:\n",
        "        # Esperar respuesta del usuario para continuar\n",
        "        user_response = ''\n",
        "        while user_response not in ['y','n','Y','N']:\n",
        "            user_response = input('Presiona \"y\" para continuar o \"n\" para salir\\n')\n",
        "        else: \n",
        "            return user_response in ('n','N')\n",
        "\n",
        "    def read_files(self) -> DataFrame:\n",
        "        '''\n",
        "        Une todos los archivos que comienzan con el nombre base\n",
        "        '''\n",
        "        # Tabla vacía para ir depositando los csv\n",
        "        df = DataFrame()\n",
        "        # Obtiene el número de archivos, sólo es informativo\n",
        "        total_files = len(self.files_list)\n",
        "\n",
        "        for i,file_chunk in enumerate(self.files_list):\n",
        "            # Obtener sólo el nombre del archivo, no su ubicación completa\n",
        "            sub_name = str(file_chunk).split('/')[-1]\n",
        "            # Une la tabla anterior con el nuevo archivo\n",
        "            df = df.append(read_csv(file_chunk), ignore_index=True)\n",
        "            \n",
        "            # Informa al usuario del avance\n",
        "            self.cool_print(f'Archivo {i+1}/{total_files} con nombre: {sub_name} es importado exitosamente')\n",
        "        return df\n",
        "    \n",
        "    def export_csv(self, df: DataFrame, name_suffix=None, **kwargs) -> None: \n",
        "        '''\n",
        "        Exportar un archivo en formato csv\n",
        "        '''\n",
        "        # Si no hay sufijo, guardar el archivo según el atributo \"self.file_name\" de otro modo agregar el sufijo\n",
        "        export_name = f'{self.file_name}.csv' if name_suffix==None else f'{self.file_name}_{name_suffix}.csv'\n",
        "        # Exportar en el directorio base, con los argumentos del método \"to_csv()\" que se indiquen. Ej: sep='\\t', encoding='utf-16'\n",
        "        df.to_csv(self.base_dir.joinpath(export_name), **kwargs)\n",
        "        # Informa al usuario\n",
        "        self.cool_print(f'Archivo: {export_name} fue exportado exitosamente en:\\n{self.base_dir}')\n",
        "\n",
        "    def get_image(self, url: str, scraper_obj=scraper) -> Image:\n",
        "        '''\n",
        "        Obtiene la imagen desde url o el estatus del request si es que falla\n",
        "        '''\n",
        "        if str(url)=='nan': return 'URL inválido'\n",
        "        \n",
        "        url_error = True\n",
        "        i = 0\n",
        "        while url_error and i < 10:\n",
        "            try: \n",
        "                # Obtener la respuesta del servidor, evitando el posible anti-bot\n",
        "                response = scraper_obj.get(url)\n",
        "                url_error = False\n",
        "            # Si no es posible conectar con la URL, intentarlo de nuevo hasta 10 veces\n",
        "            except:\n",
        "                sleep(2)\n",
        "                self.cool_print(f'Error en el intento #{i+1} de obtener la imagen desde:')\n",
        "                print(url)\n",
        "                i+=1\n",
        "        if url_error and i > 10: return 'URL inválido'\n",
        "\n",
        "        # Convierte la información de bytes a un objeto Imagen para poderlo trabajar con la librería PIL\n",
        "        try:\n",
        "            img = Image.open(BytesIO(response.content))\n",
        "            return img\n",
        "        except: return str(response.status_code) # En caso de no lograrlo, devuelve el estatus del request\n",
        "\n",
        "    def to_jpeg(self, png_img: Image, rgb_background: tuple=(255, 255, 255)) -> Image:\n",
        "        '''\n",
        "        Convierte una imagen RGBA --> RGB, es decir, le quita la transparencia\n",
        "        '''\n",
        "        # Asegura que tenga los cuatro canales de color\n",
        "        png_img = png_img.convert('RGBA')\n",
        "        png_img.load()\n",
        "\n",
        "        # Crea un \"lienzo\" RGB del mismo tamaño que la imagen RGBA\n",
        "        jpg_img = Image.new(\"RGB\", png_img.size, rgb_background)\n",
        "        # Pega la imagen en el lienzo RBG la imagen RBGA\n",
        "        jpg_img.paste(png_img, mask=png_img.split()[3])\n",
        "\n",
        "        return jpg_img\n",
        "\n",
        "    def get_convert(self, url: str, file_name: str, to_path: str, save_just_png: bool=True) -> None:\n",
        "        '''\n",
        "        Obtiene la imagen y revisa si necesita convertirse a JPEG\n",
        "        '''\n",
        "        # Llama el método para importar la imagen via URL\n",
        "        img = self.get_image(str(url).replace(' ',''))\n",
        "        # Si no es posible obtener la imagen, devolver el estatus del request y terminar el método\n",
        "        if isinstance(img, str): return None, img\n",
        "\n",
        "        # Definir el directorio en el que se va a guardar la imagen\n",
        "        file_path = str(to_path.joinpath(file_name+'.jpeg'))\n",
        "\n",
        "        # Convierte la imagen a una matriz y revisa si tiene 4 canales RGBA, es decir, si tiene transparencia\n",
        "        if len(array(img).shape) == 4:\n",
        "            # De ser así, llama al método para convertirla a RGB\n",
        "            img = self.to_jpeg(img)        \n",
        "            # Guarda un objeto para informar al usuario que se ha convertido desde PNG\n",
        "            img_type = 'PNG'\n",
        "        # De otro modo, informará que desde origen es JPEG\n",
        "        else: img_type = 'JPEG'\n",
        "\n",
        "        # Guarda la imagen RBG en formato JPEG\n",
        "        if save_just_png:\n",
        "            if img_type=='PNG':\n",
        "                img.save(file_path, \"JPEG\")\n",
        "                self.cool_print(f'Archivo: {file_name} previamente PNG ahora es exportado en formato JPEG en\\n{self.base_dir}')\n",
        "                return img_type, file_path\n",
        "        else:\n",
        "            img.save(file_path, \"JPEG\")\n",
        "            self.cool_print(f'Archivo: {file_name} que de origen es JPEG es exportado en\\n{self.base_dir}')\n",
        "\n",
        "        return img_type, file_path\n",
        "\n",
        "    def full_pipeline(self, just_png: bool, url_col='img_url', name_cols: list=['sku_source','sku','name']) -> DataFrame:\n",
        "        dest_path = self.base_dir.joinpath(self.file_name+'_images')\n",
        "        try: dest_path.mkdir()\n",
        "        except FileExistsError:\n",
        "            self.cool_print(f'Ya existe un folder llamado \"{self.file_name}_images\" en\\n{self.base_dir}\\n\\n¿Quieres sobreescribirlo?')\n",
        "            if self.user_exit():\n",
        "                self.cool_print('Proceso terminado. Buen día!')\n",
        "                return None\n",
        "            dest_path.mkdir(exist_ok=True)\n",
        "        df = self.read_files().sample(5)\n",
        "        df['img_name'] = df[name_cols].fillna('').astype(str).apply(lambda row: ', '.join([f'{col.upper()}: {x}' for col,x in zip(name_cols,row)]), axis=1)\n",
        "        df['result'] = df[[url_col,'img_name']].apply(lambda x: self.get_convert(x[0], file_name=x[-1], to_path=dest_path, save_just_png=just_png), axis=1)\n",
        "        df[['img_type', 'img_path']] = DataFrame(df['result'].tolist(), index=df.index)\n",
        "        omit_names = [None,'JPEG'] if just_png else [None]\n",
        "        for col in ['img_name','img_path']: df[col] = df[['img_type',col]].apply(lambda x: None if x[0] in omit_names else x[-1], axis=1)\n",
        "        df.drop('result', axis=1, inplace=True)\n",
        "        try: dest_path.rmdir()\n",
        "        except: pass\n",
        "        return df\n",
        "\n"
      ]
    },
    {
      "cell_type": "markdown",
      "metadata": {},
      "source": [
        "## Resultado"
      ]
    },
    {
      "cell_type": "code",
      "execution_count": null,
      "metadata": {},
      "outputs": [],
      "source": [
        "df = ImageFromUrl(BASE_DIR, FILE_BASE_NAME).full_pipeline(just_png=True)\n",
        "df.sample()"
      ]
    }
  ],
  "metadata": {
    "colab": {
      "collapsed_sections": [
        "1xBQ0JcaPUjK"
      ],
      "name": "Chat_404.ipynb",
      "provenance": []
    },
    "interpreter": {
      "hash": "cd073f3038b8337706d4c7d775204fb19bddc277721f52eb60f8c4b0892f2184"
    },
    "kernelspec": {
      "display_name": "Python 3.9.1 64-bit ('venv': venv)",
      "name": "python3"
    },
    "language_info": {
      "codemirror_mode": {
        "name": "ipython",
        "version": 3
      },
      "file_extension": ".py",
      "mimetype": "text/x-python",
      "name": "python",
      "nbconvert_exporter": "python",
      "pygments_lexer": "ipython3",
      "version": "3.9.1"
    }
  },
  "nbformat": 4,
  "nbformat_minor": 0
}
