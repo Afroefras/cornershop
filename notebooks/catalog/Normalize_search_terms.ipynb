{
 "cells": [
  {
   "cell_type": "markdown",
   "source": [
    "# Group similar search terms"
   ],
   "metadata": {}
  },
  {
   "cell_type": "markdown",
   "source": [
    "## Parameters"
   ],
   "metadata": {}
  },
  {
   "cell_type": "code",
   "execution_count": 1,
   "source": [
    "from pathlib import Path\n",
    "\n",
    "BASE_DIR = Path('/Users/efraflores/Desktop/EF/Corner/Catalog/Search_without_results')\n",
    "FILE_NAME = 'search_wr.csv'\n",
    "COL_NAME = 'query'"
   ],
   "outputs": [],
   "metadata": {}
  },
  {
   "cell_type": "markdown",
   "source": [
    "## Import"
   ],
   "metadata": {}
  },
  {
   "cell_type": "code",
   "execution_count": 2,
   "source": [
    "import pandas as pd\n",
    "\n",
    "df = pd.read_csv(BASE_DIR.joinpath(FILE_NAME)).dropna().reset_index(drop=True)\n",
    "print(df.info())\n",
    "df.sample()"
   ],
   "outputs": [
    {
     "output_type": "stream",
     "name": "stdout",
     "text": [
      "<class 'pandas.core.frame.DataFrame'>\n",
      "RangeIndex: 511703 entries, 0 to 511702\n",
      "Data columns (total 9 columns):\n",
      " #   Column       Non-Null Count   Dtype \n",
      "---  ------       --------------   ----- \n",
      " 0   monday_week  511703 non-null  object\n",
      " 1   city         511703 non-null  object\n",
      " 2   zone         511703 non-null  object\n",
      " 3   store_id     511703 non-null  int64 \n",
      " 4   store        511703 non-null  object\n",
      " 5   branch_id    511703 non-null  int64 \n",
      " 6   branch       511703 non-null  object\n",
      " 7   user_id      511703 non-null  int64 \n",
      " 8   query        511703 non-null  object\n",
      "dtypes: int64(3), object(6)\n",
      "memory usage: 35.1+ MB\n",
      "None\n"
     ]
    },
    {
     "output_type": "execute_result",
     "data": {
      "text/plain": [
       "       monday_week    city    zone  store_id     store  branch_id    branch  \\\n",
       "379412  2021-08-09  Cancún  Cancún        22  Chedraui        849  Chacmool   \n",
       "\n",
       "        user_id               query  \n",
       "379412  1688365  queso manchego reb  "
      ],
      "text/html": [
       "<div>\n",
       "<style scoped>\n",
       "    .dataframe tbody tr th:only-of-type {\n",
       "        vertical-align: middle;\n",
       "    }\n",
       "\n",
       "    .dataframe tbody tr th {\n",
       "        vertical-align: top;\n",
       "    }\n",
       "\n",
       "    .dataframe thead th {\n",
       "        text-align: right;\n",
       "    }\n",
       "</style>\n",
       "<table border=\"1\" class=\"dataframe\">\n",
       "  <thead>\n",
       "    <tr style=\"text-align: right;\">\n",
       "      <th></th>\n",
       "      <th>monday_week</th>\n",
       "      <th>city</th>\n",
       "      <th>zone</th>\n",
       "      <th>store_id</th>\n",
       "      <th>store</th>\n",
       "      <th>branch_id</th>\n",
       "      <th>branch</th>\n",
       "      <th>user_id</th>\n",
       "      <th>query</th>\n",
       "    </tr>\n",
       "  </thead>\n",
       "  <tbody>\n",
       "    <tr>\n",
       "      <th>379412</th>\n",
       "      <td>2021-08-09</td>\n",
       "      <td>Cancún</td>\n",
       "      <td>Cancún</td>\n",
       "      <td>22</td>\n",
       "      <td>Chedraui</td>\n",
       "      <td>849</td>\n",
       "      <td>Chacmool</td>\n",
       "      <td>1688365</td>\n",
       "      <td>queso manchego reb</td>\n",
       "    </tr>\n",
       "  </tbody>\n",
       "</table>\n",
       "</div>"
      ]
     },
     "metadata": {},
     "execution_count": 2
    }
   ],
   "metadata": {}
  },
  {
   "cell_type": "markdown",
   "source": [
    "## Functions"
   ],
   "metadata": {}
  },
  {
   "cell_type": "markdown",
   "source": [
    "### Clean text"
   ],
   "metadata": {}
  },
  {
   "cell_type": "code",
   "execution_count": 3,
   "source": [
    "import re\n",
    "import unicodedata\n",
    "\n",
    "def clean_text(text, pattern=\"[^a-zA-Z\\s]\", lower=False, unique=False):\n",
    "    cleaned_text = unicodedata.normalize('NFD',str(text).replace('\\n','')).encode('ascii', 'ignore')\n",
    "    cleaned_text = re.sub(pattern,' ',cleaned_text.decode('utf-8'),flags=re.UNICODE)\n",
    "    cleaned_text = [word for word in (cleaned_text.lower().split() if lower else cleaned_text.split())]\n",
    "    return ' '.join((set(cleaned_text) if unique else cleaned_text))"
   ],
   "outputs": [],
   "metadata": {}
  },
  {
   "cell_type": "markdown",
   "source": [
    "### Similar"
   ],
   "metadata": {}
  },
  {
   "cell_type": "code",
   "execution_count": 4,
   "source": [
    "from difflib import get_close_matches\n",
    "from sklearn.neighbors import NearestNeighbors\n",
    "\n",
    "def similar(data, max_dist=1e3, n_neighbors=5, **kwargs):\n",
    "    \n",
    "    df = data.copy()\n",
    "    nbrs = NearestNeighbors(n_neighbors=n_neighbors, algorithm='ball_tree', n_jobs=-1)\n",
    "    nbrs.fit(df)\n",
    "    distances, indices = nbrs.kneighbors(df)\n",
    "\n",
    "    dist_cols = ['dist_'+str(x) for x in range(n_neighbors)]\n",
    "    distances = pd.DataFrame(distances,\n",
    "                             index=df.index,\n",
    "                             columns=dist_cols).iloc[:,1:]\n",
    "\n",
    "    distances = distances[distances['dist_1'] <= max_dist].copy()\n",
    "    \n",
    "    indices_cols = ['indice_'+str(x) for x in range(n_neighbors)]\n",
    "    indices = pd.DataFrame(indices,\n",
    "                           index=df.index,\n",
    "                           columns=indices_cols).iloc[:,1:]\n",
    "    \n",
    "    indices.replace(dict(enumerate(df.index)), inplace=True)\n",
    "    \n",
    "    neighbors = distances.join(indices)\n",
    "    \n",
    "    total_neighbors = []\n",
    "    for row in neighbors.index:\n",
    "        aux = []\n",
    "        for dist_col,id_col in zip(dist_cols[1:],indices_cols[1:]):\n",
    "            if neighbors.loc[row,dist_col] <= max_dist:\n",
    "                aux.append(neighbors.loc[row,id_col])\n",
    "        total_neighbors.append(aux)\n",
    "    \n",
    "    neighbors['neighbors'] = total_neighbors\n",
    "\n",
    "    sim = neighbors['neighbors'].reset_index()\n",
    "    sim['similar'] = sim.apply(lambda x: ','.join(get_close_matches(x[0],x[1], **kwargs)), axis=1)\n",
    "    sim = sim[sim['similar'].map(len)>0].copy()\n",
    "    sim = sim.set_index(sim.columns[0]).iloc[:,-1:]\n",
    "\n",
    "    melted = sim['similar'].str.split(',', expand=True).melt(ignore_index=False).dropna()\n",
    "    melted = melted.iloc[:,-1:].rename({'value':'neighbor'}, axis=1).reset_index()\n",
    "    melted = melted.sort_values(melted.columns.tolist())\n",
    "    return melted"
   ],
   "outputs": [],
   "metadata": {}
  },
  {
   "cell_type": "markdown",
   "source": [
    "## Transform"
   ],
   "metadata": {}
  },
  {
   "cell_type": "markdown",
   "source": [
    "### Queries with more than one user"
   ],
   "metadata": {}
  },
  {
   "cell_type": "code",
   "execution_count": 5,
   "source": [
    "import numpy as np\n",
    "\n",
    "mto = df.groupby(COL_NAME)['user_id'].nunique().reset_index()\n",
    "mto = mto[mto['user_id']>np.percentile(mto['user_id'], 95)].rename({'user_id':'users_count'}, axis=1)\n",
    "print(mto['users_count'].describe())\n",
    "mto.shape"
   ],
   "outputs": [
    {
     "output_type": "stream",
     "name": "stdout",
     "text": [
      "count    9956.000000\n",
      "mean       18.860386\n",
      "std        31.696622\n",
      "min         7.000000\n",
      "25%         8.000000\n",
      "50%        12.000000\n",
      "75%        19.000000\n",
      "max      1491.000000\n",
      "Name: users_count, dtype: float64\n"
     ]
    },
    {
     "output_type": "execute_result",
     "data": {
      "text/plain": [
       "(9956, 2)"
      ]
     },
     "metadata": {},
     "execution_count": 5
    }
   ],
   "metadata": {}
  },
  {
   "cell_type": "code",
   "execution_count": 6,
   "source": [
    "df = df.merge(mto, on='query')\n",
    "print(df.shape)\n",
    "df.sample()"
   ],
   "outputs": [
    {
     "output_type": "stream",
     "name": "stdout",
     "text": [
      "(215149, 10)\n"
     ]
    },
    {
     "output_type": "execute_result",
     "data": {
      "text/plain": [
       "      monday_week        city        zone  store_id   store  branch_id  \\\n",
       "59627  2021-08-09  Cuernavaca  Cuernavaca         7  Costco      26358   \n",
       "\n",
       "           branch   user_id  query  users_count  \n",
       "59627  Cuernavaca  16618911  mochi          251  "
      ],
      "text/html": [
       "<div>\n",
       "<style scoped>\n",
       "    .dataframe tbody tr th:only-of-type {\n",
       "        vertical-align: middle;\n",
       "    }\n",
       "\n",
       "    .dataframe tbody tr th {\n",
       "        vertical-align: top;\n",
       "    }\n",
       "\n",
       "    .dataframe thead th {\n",
       "        text-align: right;\n",
       "    }\n",
       "</style>\n",
       "<table border=\"1\" class=\"dataframe\">\n",
       "  <thead>\n",
       "    <tr style=\"text-align: right;\">\n",
       "      <th></th>\n",
       "      <th>monday_week</th>\n",
       "      <th>city</th>\n",
       "      <th>zone</th>\n",
       "      <th>store_id</th>\n",
       "      <th>store</th>\n",
       "      <th>branch_id</th>\n",
       "      <th>branch</th>\n",
       "      <th>user_id</th>\n",
       "      <th>query</th>\n",
       "      <th>users_count</th>\n",
       "    </tr>\n",
       "  </thead>\n",
       "  <tbody>\n",
       "    <tr>\n",
       "      <th>59627</th>\n",
       "      <td>2021-08-09</td>\n",
       "      <td>Cuernavaca</td>\n",
       "      <td>Cuernavaca</td>\n",
       "      <td>7</td>\n",
       "      <td>Costco</td>\n",
       "      <td>26358</td>\n",
       "      <td>Cuernavaca</td>\n",
       "      <td>16618911</td>\n",
       "      <td>mochi</td>\n",
       "      <td>251</td>\n",
       "    </tr>\n",
       "  </tbody>\n",
       "</table>\n",
       "</div>"
      ]
     },
     "metadata": {},
     "execution_count": 6
    }
   ],
   "metadata": {}
  },
  {
   "cell_type": "markdown",
   "source": [
    "### CountVectorizer"
   ],
   "metadata": {}
  },
  {
   "cell_type": "code",
   "execution_count": 7,
   "source": [
    "from sklearn.feature_extraction.text import CountVectorizer, TfidfVectorizer\n",
    "\n",
    "to_vect = df[COL_NAME].drop_duplicates()\n",
    "cv_char = CountVectorizer(analyzer='char')\n",
    "cv_char.fit(to_vect.astype(str).apply(clean_text).str.lower())\n",
    "by_char = pd.DataFrame(cv_char.transform(df[COL_NAME]).todense(), columns=cv_char.get_feature_names(), index=df.index)\n",
    "by_char = by_char.join(df[[COL_NAME]]).set_index(COL_NAME).drop_duplicates()\n",
    "by_char = by_char[by_char.sum(axis=1)>2].copy()\n",
    "print(by_char.shape)\n",
    "by_char.sample()"
   ],
   "outputs": [
    {
     "output_type": "stream",
     "name": "stdout",
     "text": [
      "(9532, 27)\n"
     ]
    },
    {
     "output_type": "execute_result",
     "data": {
      "text/plain": [
       "            a  b  c  d  e  f  g  h  i  ...  q  r  s  t  u  v  w  x  y  z\n",
       "query                                  ...                              \n",
       "mantequ  0  1  0  0  0  1  0  0  0  0  ...  1  0  0  1  1  0  0  0  0  0\n",
       "\n",
       "[1 rows x 27 columns]"
      ],
      "text/html": [
       "<div>\n",
       "<style scoped>\n",
       "    .dataframe tbody tr th:only-of-type {\n",
       "        vertical-align: middle;\n",
       "    }\n",
       "\n",
       "    .dataframe tbody tr th {\n",
       "        vertical-align: top;\n",
       "    }\n",
       "\n",
       "    .dataframe thead th {\n",
       "        text-align: right;\n",
       "    }\n",
       "</style>\n",
       "<table border=\"1\" class=\"dataframe\">\n",
       "  <thead>\n",
       "    <tr style=\"text-align: right;\">\n",
       "      <th></th>\n",
       "      <th></th>\n",
       "      <th>a</th>\n",
       "      <th>b</th>\n",
       "      <th>c</th>\n",
       "      <th>d</th>\n",
       "      <th>e</th>\n",
       "      <th>f</th>\n",
       "      <th>g</th>\n",
       "      <th>h</th>\n",
       "      <th>i</th>\n",
       "      <th>...</th>\n",
       "      <th>q</th>\n",
       "      <th>r</th>\n",
       "      <th>s</th>\n",
       "      <th>t</th>\n",
       "      <th>u</th>\n",
       "      <th>v</th>\n",
       "      <th>w</th>\n",
       "      <th>x</th>\n",
       "      <th>y</th>\n",
       "      <th>z</th>\n",
       "    </tr>\n",
       "    <tr>\n",
       "      <th>query</th>\n",
       "      <th></th>\n",
       "      <th></th>\n",
       "      <th></th>\n",
       "      <th></th>\n",
       "      <th></th>\n",
       "      <th></th>\n",
       "      <th></th>\n",
       "      <th></th>\n",
       "      <th></th>\n",
       "      <th></th>\n",
       "      <th></th>\n",
       "      <th></th>\n",
       "      <th></th>\n",
       "      <th></th>\n",
       "      <th></th>\n",
       "      <th></th>\n",
       "      <th></th>\n",
       "      <th></th>\n",
       "      <th></th>\n",
       "      <th></th>\n",
       "      <th></th>\n",
       "    </tr>\n",
       "  </thead>\n",
       "  <tbody>\n",
       "    <tr>\n",
       "      <th>mantequ</th>\n",
       "      <td>0</td>\n",
       "      <td>1</td>\n",
       "      <td>0</td>\n",
       "      <td>0</td>\n",
       "      <td>0</td>\n",
       "      <td>1</td>\n",
       "      <td>0</td>\n",
       "      <td>0</td>\n",
       "      <td>0</td>\n",
       "      <td>0</td>\n",
       "      <td>...</td>\n",
       "      <td>1</td>\n",
       "      <td>0</td>\n",
       "      <td>0</td>\n",
       "      <td>1</td>\n",
       "      <td>1</td>\n",
       "      <td>0</td>\n",
       "      <td>0</td>\n",
       "      <td>0</td>\n",
       "      <td>0</td>\n",
       "      <td>0</td>\n",
       "    </tr>\n",
       "  </tbody>\n",
       "</table>\n",
       "<p>1 rows × 27 columns</p>\n",
       "</div>"
      ]
     },
     "metadata": {},
     "execution_count": 7
    }
   ],
   "metadata": {}
  },
  {
   "cell_type": "markdown",
   "source": [
    "### Similar"
   ],
   "metadata": {}
  },
  {
   "cell_type": "code",
   "execution_count": 8,
   "source": [
    "sim = similar(by_char, max_dist=3, cutoff=0.5)\n",
    "print(sim.shape)\n",
    "sim.head()"
   ],
   "outputs": [
    {
     "output_type": "stream",
     "name": "stdout",
     "text": [
      "(20113, 2)\n"
     ]
    },
    {
     "output_type": "execute_result",
     "data": {
      "text/plain": [
       "                 query             neighbor\n",
       "175    1800 cristalino             crosaint\n",
       "12233        3 carrots               carros\n",
       "4458         3 carrots               carrot\n",
       "8493         3 tenchas              cuentas\n",
       "10750   3v casa madero  casa madero vino 3v"
      ],
      "text/html": [
       "<div>\n",
       "<style scoped>\n",
       "    .dataframe tbody tr th:only-of-type {\n",
       "        vertical-align: middle;\n",
       "    }\n",
       "\n",
       "    .dataframe tbody tr th {\n",
       "        vertical-align: top;\n",
       "    }\n",
       "\n",
       "    .dataframe thead th {\n",
       "        text-align: right;\n",
       "    }\n",
       "</style>\n",
       "<table border=\"1\" class=\"dataframe\">\n",
       "  <thead>\n",
       "    <tr style=\"text-align: right;\">\n",
       "      <th></th>\n",
       "      <th>query</th>\n",
       "      <th>neighbor</th>\n",
       "    </tr>\n",
       "  </thead>\n",
       "  <tbody>\n",
       "    <tr>\n",
       "      <th>175</th>\n",
       "      <td>1800 cristalino</td>\n",
       "      <td>crosaint</td>\n",
       "    </tr>\n",
       "    <tr>\n",
       "      <th>12233</th>\n",
       "      <td>3 carrots</td>\n",
       "      <td>carros</td>\n",
       "    </tr>\n",
       "    <tr>\n",
       "      <th>4458</th>\n",
       "      <td>3 carrots</td>\n",
       "      <td>carrot</td>\n",
       "    </tr>\n",
       "    <tr>\n",
       "      <th>8493</th>\n",
       "      <td>3 tenchas</td>\n",
       "      <td>cuentas</td>\n",
       "    </tr>\n",
       "    <tr>\n",
       "      <th>10750</th>\n",
       "      <td>3v casa madero</td>\n",
       "      <td>casa madero vino 3v</td>\n",
       "    </tr>\n",
       "  </tbody>\n",
       "</table>\n",
       "</div>"
      ]
     },
     "metadata": {},
     "execution_count": 8
    }
   ],
   "metadata": {}
  },
  {
   "cell_type": "code",
   "execution_count": 9,
   "source": [
    "to_omit = sim.merge(mto).sort_values(['users_count',COL_NAME], ascending=False).iloc[:,:-1]\n",
    "to_omit.head()"
   ],
   "outputs": [
    {
     "output_type": "execute_result",
     "data": {
      "text/plain": [
       "                          query           neighbor\n",
       "4455                   cigarros            cigarro\n",
       "4456                   cigarros           cogarros\n",
       "4457                   cigarros           sigarros\n",
       "8765   huevo san juan 30 piezas  huevo san juan 12\n",
       "11034                  marlboro            malboro"
      ],
      "text/html": [
       "<div>\n",
       "<style scoped>\n",
       "    .dataframe tbody tr th:only-of-type {\n",
       "        vertical-align: middle;\n",
       "    }\n",
       "\n",
       "    .dataframe tbody tr th {\n",
       "        vertical-align: top;\n",
       "    }\n",
       "\n",
       "    .dataframe thead th {\n",
       "        text-align: right;\n",
       "    }\n",
       "</style>\n",
       "<table border=\"1\" class=\"dataframe\">\n",
       "  <thead>\n",
       "    <tr style=\"text-align: right;\">\n",
       "      <th></th>\n",
       "      <th>query</th>\n",
       "      <th>neighbor</th>\n",
       "    </tr>\n",
       "  </thead>\n",
       "  <tbody>\n",
       "    <tr>\n",
       "      <th>4455</th>\n",
       "      <td>cigarros</td>\n",
       "      <td>cigarro</td>\n",
       "    </tr>\n",
       "    <tr>\n",
       "      <th>4456</th>\n",
       "      <td>cigarros</td>\n",
       "      <td>cogarros</td>\n",
       "    </tr>\n",
       "    <tr>\n",
       "      <th>4457</th>\n",
       "      <td>cigarros</td>\n",
       "      <td>sigarros</td>\n",
       "    </tr>\n",
       "    <tr>\n",
       "      <th>8765</th>\n",
       "      <td>huevo san juan 30 piezas</td>\n",
       "      <td>huevo san juan 12</td>\n",
       "    </tr>\n",
       "    <tr>\n",
       "      <th>11034</th>\n",
       "      <td>marlboro</td>\n",
       "      <td>malboro</td>\n",
       "    </tr>\n",
       "  </tbody>\n",
       "</table>\n",
       "</div>"
      ]
     },
     "metadata": {},
     "execution_count": 9
    }
   ],
   "metadata": {}
  },
  {
   "cell_type": "code",
   "execution_count": 15,
   "source": [
    "def omit_neighbors(data):\n",
    "    col_one, col_two = data.columns.tolist()\n",
    "    df = data.copy()\n",
    "    omit_dict = {}\n",
    "    for x,y in zip(df[col_one], df[col_two]):\n",
    "        if x not in omit_dict.keys():\n",
    "            omit_dict[y] = x\n",
    "            print(omit_dict)\n",
    "    return omit_dict\n",
    "\n",
    "neigh_dict = omit_neighbors(to_omit.head(10))"
   ],
   "outputs": [
    {
     "output_type": "stream",
     "name": "stdout",
     "text": [
      "{'cigarro': 'cigarros'}\n",
      "{'cigarro': 'cigarros', 'cogarros': 'cigarros'}\n",
      "{'cigarro': 'cigarros', 'cogarros': 'cigarros', 'sigarros': 'cigarros'}\n",
      "{'cigarro': 'cigarros', 'cogarros': 'cigarros', 'sigarros': 'cigarros', 'huevo san juan 12': 'huevo san juan 30 piezas'}\n",
      "{'cigarro': 'cigarros', 'cogarros': 'cigarros', 'sigarros': 'cigarros', 'huevo san juan 12': 'huevo san juan 30 piezas', 'malboro': 'marlboro'}\n",
      "{'cigarro': 'cigarros', 'cogarros': 'cigarros', 'sigarros': 'cigarros', 'huevo san juan 12': 'huevo san juan 30 piezas', 'malboro': 'marlboro', 'marboro': 'marlboro'}\n",
      "{'cigarro': 'cigarros', 'cogarros': 'cigarros', 'sigarros': 'cigarros', 'huevo san juan 12': 'huevo san juan 30 piezas', 'malboro': 'marlboro', 'marboro': 'marlboro', 'marlboro 100': 'marlboro'}\n",
      "{'cigarro': 'cigarros', 'cogarros': 'cigarros', 'sigarros': 'cigarros', 'huevo san juan 12': 'huevo san juan 30 piezas', 'malboro': 'marlboro', 'marboro': 'marlboro', 'marlboro 100': 'marlboro', '': 'nupec'}\n",
      "{'cigarro': 'cigarros', 'cogarros': 'cigarros', 'sigarros': 'cigarros', 'huevo san juan 12': 'huevo san juan 30 piezas', 'malboro': 'marlboro', 'marboro': 'marlboro', 'marlboro 100': 'marlboro', '': 'nupec', 'nuces': 'nupec'}\n",
      "{'cigarro': 'cigarros', 'cogarros': 'cigarros', 'sigarros': 'cigarros', 'huevo san juan 12': 'huevo san juan 30 piezas', 'malboro': 'marlboro', 'marboro': 'marlboro', 'marlboro 100': 'marlboro', '': 'nupec', 'nuces': 'nupec', 'nue': 'nupec'}\n"
     ]
    }
   ],
   "metadata": {}
  },
  {
   "cell_type": "code",
   "execution_count": 16,
   "source": [
    "[(x,y) for x,y in neigh_dict.items() if y=='cigarros']"
   ],
   "outputs": [
    {
     "output_type": "execute_result",
     "data": {
      "text/plain": [
       "[('cigarro', 'cigarros'), ('cogarros', 'cigarros'), ('sigarros', 'cigarros')]"
      ]
     },
     "metadata": {},
     "execution_count": 16
    }
   ],
   "metadata": {}
  },
  {
   "cell_type": "code",
   "execution_count": null,
   "source": [],
   "outputs": [],
   "metadata": {}
  }
 ],
 "metadata": {
  "orig_nbformat": 4,
  "language_info": {
   "name": "python",
   "version": "3.9.1",
   "mimetype": "text/x-python",
   "codemirror_mode": {
    "name": "ipython",
    "version": 3
   },
   "pygments_lexer": "ipython3",
   "nbconvert_exporter": "python",
   "file_extension": ".py"
  },
  "kernelspec": {
   "name": "python3",
   "display_name": "Python 3.9.1 64-bit ('venv': venv)"
  },
  "interpreter": {
   "hash": "43c7e786f83339f88293178a498b997755bb834764969670e358492d0c4260ad"
  }
 },
 "nbformat": 4,
 "nbformat_minor": 2
}