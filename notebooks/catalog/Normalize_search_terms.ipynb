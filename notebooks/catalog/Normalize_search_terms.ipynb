{
 "cells": [
  {
   "cell_type": "markdown",
   "source": [
    "# Group similar search terms"
   ],
   "metadata": {}
  },
  {
   "cell_type": "markdown",
   "source": [
    "## Parameters"
   ],
   "metadata": {}
  },
  {
   "cell_type": "code",
   "execution_count": 1,
   "source": [
    "from pathlib import Path\n",
    "\n",
    "BASE_DIR = Path('/Users/efraflores/Desktop/EF/Corner/Catalog/Search_without_results')\n",
    "FILE_NAME = 'search_wr.csv'\n",
    "COL_NAME = 'query'"
   ],
   "outputs": [],
   "metadata": {}
  },
  {
   "cell_type": "markdown",
   "source": [
    "## Import"
   ],
   "metadata": {}
  },
  {
   "cell_type": "code",
   "execution_count": 2,
   "source": [
    "import pandas as pd\n",
    "\n",
    "df = pd.read_csv(BASE_DIR.joinpath(FILE_NAME)).dropna().reset_index(drop=True)\n",
    "print(df.info())\n",
    "df.sample()"
   ],
   "outputs": [
    {
     "output_type": "stream",
     "name": "stdout",
     "text": [
      "<class 'pandas.core.frame.DataFrame'>\n",
      "RangeIndex: 511703 entries, 0 to 511702\n",
      "Data columns (total 9 columns):\n",
      " #   Column       Non-Null Count   Dtype \n",
      "---  ------       --------------   ----- \n",
      " 0   monday_week  511703 non-null  object\n",
      " 1   city         511703 non-null  object\n",
      " 2   zone         511703 non-null  object\n",
      " 3   store_id     511703 non-null  int64 \n",
      " 4   store        511703 non-null  object\n",
      " 5   branch_id    511703 non-null  int64 \n",
      " 6   branch       511703 non-null  object\n",
      " 7   user_id      511703 non-null  int64 \n",
      " 8   query        511703 non-null  object\n",
      "dtypes: int64(3), object(6)\n",
      "memory usage: 35.1+ MB\n",
      "None\n"
     ]
    },
    {
     "output_type": "execute_result",
     "data": {
      "text/plain": [
       "       monday_week     city     zone  store_id            store  branch_id  \\\n",
       "479094  2021-08-09  Tijuana  Tijuana     10710  Costco Farmacia      29720   \n",
       "\n",
       "                          branch   user_id    query  \n",
       "479094  Tijuana Río (Tijuana II)  18665997  tiburon  "
      ],
      "text/html": [
       "<div>\n",
       "<style scoped>\n",
       "    .dataframe tbody tr th:only-of-type {\n",
       "        vertical-align: middle;\n",
       "    }\n",
       "\n",
       "    .dataframe tbody tr th {\n",
       "        vertical-align: top;\n",
       "    }\n",
       "\n",
       "    .dataframe thead th {\n",
       "        text-align: right;\n",
       "    }\n",
       "</style>\n",
       "<table border=\"1\" class=\"dataframe\">\n",
       "  <thead>\n",
       "    <tr style=\"text-align: right;\">\n",
       "      <th></th>\n",
       "      <th>monday_week</th>\n",
       "      <th>city</th>\n",
       "      <th>zone</th>\n",
       "      <th>store_id</th>\n",
       "      <th>store</th>\n",
       "      <th>branch_id</th>\n",
       "      <th>branch</th>\n",
       "      <th>user_id</th>\n",
       "      <th>query</th>\n",
       "    </tr>\n",
       "  </thead>\n",
       "  <tbody>\n",
       "    <tr>\n",
       "      <th>479094</th>\n",
       "      <td>2021-08-09</td>\n",
       "      <td>Tijuana</td>\n",
       "      <td>Tijuana</td>\n",
       "      <td>10710</td>\n",
       "      <td>Costco Farmacia</td>\n",
       "      <td>29720</td>\n",
       "      <td>Tijuana Río (Tijuana II)</td>\n",
       "      <td>18665997</td>\n",
       "      <td>tiburon</td>\n",
       "    </tr>\n",
       "  </tbody>\n",
       "</table>\n",
       "</div>"
      ]
     },
     "metadata": {},
     "execution_count": 2
    }
   ],
   "metadata": {}
  },
  {
   "cell_type": "markdown",
   "source": [
    "## Functions"
   ],
   "metadata": {}
  },
  {
   "cell_type": "markdown",
   "source": [
    "### Clean text"
   ],
   "metadata": {}
  },
  {
   "cell_type": "code",
   "execution_count": 3,
   "source": [
    "import re\n",
    "import unicodedata\n",
    "\n",
    "def clean_text(text, pattern=\"[^a-zA-Z\\s]\", lower=False, unique=False):\n",
    "    cleaned_text = unicodedata.normalize('NFD',str(text).replace('\\n','')).encode('ascii', 'ignore')\n",
    "    cleaned_text = re.sub(pattern,' ',cleaned_text.decode('utf-8'),flags=re.UNICODE)\n",
    "    cleaned_text = [word for word in (cleaned_text.lower().split() if lower else cleaned_text.split())]\n",
    "    return ' '.join((set(cleaned_text) if unique else cleaned_text))"
   ],
   "outputs": [],
   "metadata": {}
  },
  {
   "cell_type": "markdown",
   "source": [
    "### Similar"
   ],
   "metadata": {}
  },
  {
   "cell_type": "code",
   "execution_count": 4,
   "source": [
    "from difflib import get_close_matches\n",
    "from sklearn.neighbors import NearestNeighbors\n",
    "\n",
    "def similar(data, max_dist=1e3, n_neighbors=5, **kwargs):\n",
    "    \n",
    "    df = data.copy()\n",
    "    nbrs = NearestNeighbors(n_neighbors=n_neighbors, algorithm='ball_tree', n_jobs=-1)\n",
    "    nbrs.fit(df)\n",
    "    distances, indices = nbrs.kneighbors(df)\n",
    "\n",
    "    dist_cols = ['dist_'+str(x) for x in range(n_neighbors)]\n",
    "    distances = pd.DataFrame(distances,\n",
    "                             index=df.index,\n",
    "                             columns=dist_cols).iloc[:,1:]\n",
    "\n",
    "    distances = distances[distances['dist_1'] <= max_dist].copy()\n",
    "    \n",
    "    indices_cols = ['indice_'+str(x) for x in range(n_neighbors)]\n",
    "    indices = pd.DataFrame(indices,\n",
    "                           index=df.index,\n",
    "                           columns=indices_cols).iloc[:,1:]\n",
    "    \n",
    "    indices.replace(dict(enumerate(df.index)), inplace=True)\n",
    "    \n",
    "    neighbors = distances.join(indices)\n",
    "    \n",
    "    total_neighbors = []\n",
    "    for row in neighbors.index:\n",
    "        aux = []\n",
    "        for dist_col,id_col in zip(dist_cols[1:],indices_cols[1:]):\n",
    "            if neighbors.loc[row,dist_col] <= max_dist:\n",
    "                aux.append(neighbors.loc[row,id_col])\n",
    "        total_neighbors.append(aux)\n",
    "    \n",
    "    neighbors['neighbors'] = total_neighbors\n",
    "\n",
    "    sim = neighbors['neighbors'].reset_index()\n",
    "    sim['similar'] = sim.apply(lambda x: ','.join(get_close_matches(x[0],x[1], **kwargs)), axis=1)\n",
    "    sim = sim[sim['similar'].map(len)>0].copy()\n",
    "    sim = sim.set_index(sim.columns[0]).iloc[:,-1:]\n",
    "\n",
    "    melted = sim['similar'].str.split(',', expand=True).melt(ignore_index=False).dropna()\n",
    "    melted = melted.iloc[:,-1:].rename({'value':'neighbor'}, axis=1).reset_index()\n",
    "    melted = melted.sort_values(melted.columns.tolist())\n",
    "    return melted"
   ],
   "outputs": [],
   "metadata": {}
  },
  {
   "cell_type": "markdown",
   "source": [
    "## Transform"
   ],
   "metadata": {}
  },
  {
   "cell_type": "markdown",
   "source": [
    "### Date variables"
   ],
   "metadata": {}
  },
  {
   "cell_type": "code",
   "execution_count": 5,
   "source": [
    "df['monday_week'] = pd.to_datetime(df['monday_week'])\n",
    "df['year'] = df['monday_week'].dt.year\n",
    "df['week'] = df['monday_week'].dt.isocalendar().week\n",
    "df.head()"
   ],
   "outputs": [
    {
     "output_type": "execute_result",
     "data": {
      "text/plain": [
       "  monday_week              city      zone  store_id        store  branch_id  \\\n",
       "0  2021-07-19  Ciudad de México    Aragón        22     Chedraui       3087   \n",
       "1  2021-07-19  Ciudad de México    Aragón        22     Chedraui       3087   \n",
       "2  2021-07-19         Monterrey  Suroeste        25          HEB       1490   \n",
       "3  2021-07-19         Monterrey  Suroeste      3729      Soriana      10003   \n",
       "4  2021-07-19  Ciudad de México   Condesa         9  City Market         58   \n",
       "\n",
       "             branch   user_id                         query  year  week  \n",
       "0  Chedraui Tepeyac   1731928          salsa de ostion kiko  2021    29  \n",
       "1  Chedraui Tepeyac   1731928       salsa de ostion kikoman  2021    29  \n",
       "2   eFC Aaron Saenz     69587                  mini conchas  2021    29  \n",
       "3           Cumbres   3283006  ropa interior para caballero  2021    29  \n",
       "4           Pilares  11310037                  cero humedad  2021    29  "
      ],
      "text/html": [
       "<div>\n",
       "<style scoped>\n",
       "    .dataframe tbody tr th:only-of-type {\n",
       "        vertical-align: middle;\n",
       "    }\n",
       "\n",
       "    .dataframe tbody tr th {\n",
       "        vertical-align: top;\n",
       "    }\n",
       "\n",
       "    .dataframe thead th {\n",
       "        text-align: right;\n",
       "    }\n",
       "</style>\n",
       "<table border=\"1\" class=\"dataframe\">\n",
       "  <thead>\n",
       "    <tr style=\"text-align: right;\">\n",
       "      <th></th>\n",
       "      <th>monday_week</th>\n",
       "      <th>city</th>\n",
       "      <th>zone</th>\n",
       "      <th>store_id</th>\n",
       "      <th>store</th>\n",
       "      <th>branch_id</th>\n",
       "      <th>branch</th>\n",
       "      <th>user_id</th>\n",
       "      <th>query</th>\n",
       "      <th>year</th>\n",
       "      <th>week</th>\n",
       "    </tr>\n",
       "  </thead>\n",
       "  <tbody>\n",
       "    <tr>\n",
       "      <th>0</th>\n",
       "      <td>2021-07-19</td>\n",
       "      <td>Ciudad de México</td>\n",
       "      <td>Aragón</td>\n",
       "      <td>22</td>\n",
       "      <td>Chedraui</td>\n",
       "      <td>3087</td>\n",
       "      <td>Chedraui Tepeyac</td>\n",
       "      <td>1731928</td>\n",
       "      <td>salsa de ostion kiko</td>\n",
       "      <td>2021</td>\n",
       "      <td>29</td>\n",
       "    </tr>\n",
       "    <tr>\n",
       "      <th>1</th>\n",
       "      <td>2021-07-19</td>\n",
       "      <td>Ciudad de México</td>\n",
       "      <td>Aragón</td>\n",
       "      <td>22</td>\n",
       "      <td>Chedraui</td>\n",
       "      <td>3087</td>\n",
       "      <td>Chedraui Tepeyac</td>\n",
       "      <td>1731928</td>\n",
       "      <td>salsa de ostion kikoman</td>\n",
       "      <td>2021</td>\n",
       "      <td>29</td>\n",
       "    </tr>\n",
       "    <tr>\n",
       "      <th>2</th>\n",
       "      <td>2021-07-19</td>\n",
       "      <td>Monterrey</td>\n",
       "      <td>Suroeste</td>\n",
       "      <td>25</td>\n",
       "      <td>HEB</td>\n",
       "      <td>1490</td>\n",
       "      <td>eFC Aaron Saenz</td>\n",
       "      <td>69587</td>\n",
       "      <td>mini conchas</td>\n",
       "      <td>2021</td>\n",
       "      <td>29</td>\n",
       "    </tr>\n",
       "    <tr>\n",
       "      <th>3</th>\n",
       "      <td>2021-07-19</td>\n",
       "      <td>Monterrey</td>\n",
       "      <td>Suroeste</td>\n",
       "      <td>3729</td>\n",
       "      <td>Soriana</td>\n",
       "      <td>10003</td>\n",
       "      <td>Cumbres</td>\n",
       "      <td>3283006</td>\n",
       "      <td>ropa interior para caballero</td>\n",
       "      <td>2021</td>\n",
       "      <td>29</td>\n",
       "    </tr>\n",
       "    <tr>\n",
       "      <th>4</th>\n",
       "      <td>2021-07-19</td>\n",
       "      <td>Ciudad de México</td>\n",
       "      <td>Condesa</td>\n",
       "      <td>9</td>\n",
       "      <td>City Market</td>\n",
       "      <td>58</td>\n",
       "      <td>Pilares</td>\n",
       "      <td>11310037</td>\n",
       "      <td>cero humedad</td>\n",
       "      <td>2021</td>\n",
       "      <td>29</td>\n",
       "    </tr>\n",
       "  </tbody>\n",
       "</table>\n",
       "</div>"
      ]
     },
     "metadata": {},
     "execution_count": 5
    }
   ],
   "metadata": {}
  },
  {
   "cell_type": "markdown",
   "source": [
    "### Queries with more than two users"
   ],
   "metadata": {}
  },
  {
   "cell_type": "code",
   "execution_count": 6,
   "source": [
    "mto = df.groupby(COL_NAME)['user_id'].nunique().reset_index()\n",
    "mto = mto[mto['user_id']>2].rename({'user_id':'users_count'}, axis=1)\n",
    "print(mto['users_count'].describe())\n",
    "mto.shape"
   ],
   "outputs": [
    {
     "output_type": "stream",
     "name": "stdout",
     "text": [
      "count    28042.000000\n",
      "mean         9.227052\n",
      "std         20.210311\n",
      "min          3.000000\n",
      "25%          3.000000\n",
      "50%          5.000000\n",
      "75%          9.000000\n",
      "max       1491.000000\n",
      "Name: users_count, dtype: float64\n"
     ]
    },
    {
     "output_type": "execute_result",
     "data": {
      "text/plain": [
       "(28042, 2)"
      ]
     },
     "metadata": {},
     "execution_count": 6
    }
   ],
   "metadata": {}
  },
  {
   "cell_type": "code",
   "execution_count": 7,
   "source": [
    "df = df.merge(mto, on='query')\n",
    "print(df.shape)\n",
    "df.sample()"
   ],
   "outputs": [
    {
     "output_type": "stream",
     "name": "stdout",
     "text": [
      "(293845, 12)\n"
     ]
    },
    {
     "output_type": "execute_result",
     "data": {
      "text/plain": [
       "      monday_week       city       zone  store_id  store  branch_id  \\\n",
       "19662  2021-07-19  Chihuahua  Chihuahua      2712  Extra      25383   \n",
       "\n",
       "            branch   user_id       query  year  week  users_count  \n",
       "19662  Chapultepec  11276914  electrolit  2021    29          252  "
      ],
      "text/html": [
       "<div>\n",
       "<style scoped>\n",
       "    .dataframe tbody tr th:only-of-type {\n",
       "        vertical-align: middle;\n",
       "    }\n",
       "\n",
       "    .dataframe tbody tr th {\n",
       "        vertical-align: top;\n",
       "    }\n",
       "\n",
       "    .dataframe thead th {\n",
       "        text-align: right;\n",
       "    }\n",
       "</style>\n",
       "<table border=\"1\" class=\"dataframe\">\n",
       "  <thead>\n",
       "    <tr style=\"text-align: right;\">\n",
       "      <th></th>\n",
       "      <th>monday_week</th>\n",
       "      <th>city</th>\n",
       "      <th>zone</th>\n",
       "      <th>store_id</th>\n",
       "      <th>store</th>\n",
       "      <th>branch_id</th>\n",
       "      <th>branch</th>\n",
       "      <th>user_id</th>\n",
       "      <th>query</th>\n",
       "      <th>year</th>\n",
       "      <th>week</th>\n",
       "      <th>users_count</th>\n",
       "    </tr>\n",
       "  </thead>\n",
       "  <tbody>\n",
       "    <tr>\n",
       "      <th>19662</th>\n",
       "      <td>2021-07-19</td>\n",
       "      <td>Chihuahua</td>\n",
       "      <td>Chihuahua</td>\n",
       "      <td>2712</td>\n",
       "      <td>Extra</td>\n",
       "      <td>25383</td>\n",
       "      <td>Chapultepec</td>\n",
       "      <td>11276914</td>\n",
       "      <td>electrolit</td>\n",
       "      <td>2021</td>\n",
       "      <td>29</td>\n",
       "      <td>252</td>\n",
       "    </tr>\n",
       "  </tbody>\n",
       "</table>\n",
       "</div>"
      ]
     },
     "metadata": {},
     "execution_count": 7
    }
   ],
   "metadata": {}
  },
  {
   "cell_type": "markdown",
   "source": [
    "### CountVectorizer"
   ],
   "metadata": {}
  },
  {
   "cell_type": "code",
   "execution_count": 8,
   "source": [
    "from sklearn.feature_extraction.text import CountVectorizer, TfidfVectorizer\n",
    "\n",
    "to_vect = df[COL_NAME].drop_duplicates()\n",
    "cv_char = CountVectorizer(analyzer='char')\n",
    "cv_char.fit(to_vect.astype(str).apply(clean_text).str.lower())\n",
    "by_char = pd.DataFrame(cv_char.transform(df[COL_NAME]).todense(), columns=cv_char.get_feature_names(), index=df.index)\n",
    "by_char = by_char.join(df[[COL_NAME]]).set_index(COL_NAME).drop_duplicates()\n",
    "by_char = by_char[by_char.sum(axis=1)>2].copy()\n",
    "print(by_char.shape)\n",
    "by_char.sample()"
   ],
   "outputs": [
    {
     "output_type": "stream",
     "name": "stdout",
     "text": [
      "(26144, 27)\n"
     ]
    },
    {
     "output_type": "execute_result",
     "data": {
      "text/plain": [
       "                    a  b  c  d  e  f  g  h  i  ...  q  r  s  t  u  v  w  x  y  \\\n",
       "query                                          ...                              \n",
       "color corrector  1  0  0  3  0  1  0  0  0  0  ...  0  4  0  1  0  0  0  0  0   \n",
       "\n",
       "                 z  \n",
       "query               \n",
       "color corrector  0  \n",
       "\n",
       "[1 rows x 27 columns]"
      ],
      "text/html": [
       "<div>\n",
       "<style scoped>\n",
       "    .dataframe tbody tr th:only-of-type {\n",
       "        vertical-align: middle;\n",
       "    }\n",
       "\n",
       "    .dataframe tbody tr th {\n",
       "        vertical-align: top;\n",
       "    }\n",
       "\n",
       "    .dataframe thead th {\n",
       "        text-align: right;\n",
       "    }\n",
       "</style>\n",
       "<table border=\"1\" class=\"dataframe\">\n",
       "  <thead>\n",
       "    <tr style=\"text-align: right;\">\n",
       "      <th></th>\n",
       "      <th></th>\n",
       "      <th>a</th>\n",
       "      <th>b</th>\n",
       "      <th>c</th>\n",
       "      <th>d</th>\n",
       "      <th>e</th>\n",
       "      <th>f</th>\n",
       "      <th>g</th>\n",
       "      <th>h</th>\n",
       "      <th>i</th>\n",
       "      <th>...</th>\n",
       "      <th>q</th>\n",
       "      <th>r</th>\n",
       "      <th>s</th>\n",
       "      <th>t</th>\n",
       "      <th>u</th>\n",
       "      <th>v</th>\n",
       "      <th>w</th>\n",
       "      <th>x</th>\n",
       "      <th>y</th>\n",
       "      <th>z</th>\n",
       "    </tr>\n",
       "    <tr>\n",
       "      <th>query</th>\n",
       "      <th></th>\n",
       "      <th></th>\n",
       "      <th></th>\n",
       "      <th></th>\n",
       "      <th></th>\n",
       "      <th></th>\n",
       "      <th></th>\n",
       "      <th></th>\n",
       "      <th></th>\n",
       "      <th></th>\n",
       "      <th></th>\n",
       "      <th></th>\n",
       "      <th></th>\n",
       "      <th></th>\n",
       "      <th></th>\n",
       "      <th></th>\n",
       "      <th></th>\n",
       "      <th></th>\n",
       "      <th></th>\n",
       "      <th></th>\n",
       "      <th></th>\n",
       "    </tr>\n",
       "  </thead>\n",
       "  <tbody>\n",
       "    <tr>\n",
       "      <th>color corrector</th>\n",
       "      <td>1</td>\n",
       "      <td>0</td>\n",
       "      <td>0</td>\n",
       "      <td>3</td>\n",
       "      <td>0</td>\n",
       "      <td>1</td>\n",
       "      <td>0</td>\n",
       "      <td>0</td>\n",
       "      <td>0</td>\n",
       "      <td>0</td>\n",
       "      <td>...</td>\n",
       "      <td>0</td>\n",
       "      <td>4</td>\n",
       "      <td>0</td>\n",
       "      <td>1</td>\n",
       "      <td>0</td>\n",
       "      <td>0</td>\n",
       "      <td>0</td>\n",
       "      <td>0</td>\n",
       "      <td>0</td>\n",
       "      <td>0</td>\n",
       "    </tr>\n",
       "  </tbody>\n",
       "</table>\n",
       "<p>1 rows × 27 columns</p>\n",
       "</div>"
      ]
     },
     "metadata": {},
     "execution_count": 8
    }
   ],
   "metadata": {}
  },
  {
   "cell_type": "markdown",
   "source": [
    "### Similar"
   ],
   "metadata": {}
  },
  {
   "cell_type": "code",
   "execution_count": 9,
   "source": [
    "sim = similar(by_char, max_dist=3, cutoff=0.7, n=10)\n",
    "print(sim.shape)\n",
    "sim.head()"
   ],
   "outputs": [
    {
     "output_type": "stream",
     "name": "stdout",
     "text": [
      "(33410, 2)\n"
     ]
    },
    {
     "output_type": "execute_result",
     "data": {
      "text/plain": [
       "           query   neighbor\n",
       "29274  3 carrots   carritos\n",
       "21348  3 carrots     carros\n",
       "5860   3 carrots     carrot\n",
       "15871  3 tenchas   3tenchas\n",
       "14879   3tenchas  3 tenchas"
      ],
      "text/html": [
       "<div>\n",
       "<style scoped>\n",
       "    .dataframe tbody tr th:only-of-type {\n",
       "        vertical-align: middle;\n",
       "    }\n",
       "\n",
       "    .dataframe tbody tr th {\n",
       "        vertical-align: top;\n",
       "    }\n",
       "\n",
       "    .dataframe thead th {\n",
       "        text-align: right;\n",
       "    }\n",
       "</style>\n",
       "<table border=\"1\" class=\"dataframe\">\n",
       "  <thead>\n",
       "    <tr style=\"text-align: right;\">\n",
       "      <th></th>\n",
       "      <th>query</th>\n",
       "      <th>neighbor</th>\n",
       "    </tr>\n",
       "  </thead>\n",
       "  <tbody>\n",
       "    <tr>\n",
       "      <th>29274</th>\n",
       "      <td>3 carrots</td>\n",
       "      <td>carritos</td>\n",
       "    </tr>\n",
       "    <tr>\n",
       "      <th>21348</th>\n",
       "      <td>3 carrots</td>\n",
       "      <td>carros</td>\n",
       "    </tr>\n",
       "    <tr>\n",
       "      <th>5860</th>\n",
       "      <td>3 carrots</td>\n",
       "      <td>carrot</td>\n",
       "    </tr>\n",
       "    <tr>\n",
       "      <th>15871</th>\n",
       "      <td>3 tenchas</td>\n",
       "      <td>3tenchas</td>\n",
       "    </tr>\n",
       "    <tr>\n",
       "      <th>14879</th>\n",
       "      <td>3tenchas</td>\n",
       "      <td>3 tenchas</td>\n",
       "    </tr>\n",
       "  </tbody>\n",
       "</table>\n",
       "</div>"
      ]
     },
     "metadata": {},
     "execution_count": 9
    }
   ],
   "metadata": {}
  },
  {
   "cell_type": "markdown",
   "source": [
    "### Order by count"
   ],
   "metadata": {}
  },
  {
   "cell_type": "code",
   "execution_count": 10,
   "source": [
    "with_count = sim.merge(mto).merge(mto, left_on='neighbor', right_on='query', suffixes=('','_neigh')).drop('query_neigh', axis=1)\n",
    "with_count.head()"
   ],
   "outputs": [
    {
     "output_type": "execute_result",
     "data": {
      "text/plain": [
       "       query  neighbor  users_count  users_count_neigh\n",
       "0  3 carrots  carritos            9                  6\n",
       "1    carrito  carritos            4                  6\n",
       "2  coriatros  carritos            3                  6\n",
       "3  3 carrots    carros            9                 10\n",
       "4   cugarros    carros            9                 10"
      ],
      "text/html": [
       "<div>\n",
       "<style scoped>\n",
       "    .dataframe tbody tr th:only-of-type {\n",
       "        vertical-align: middle;\n",
       "    }\n",
       "\n",
       "    .dataframe tbody tr th {\n",
       "        vertical-align: top;\n",
       "    }\n",
       "\n",
       "    .dataframe thead th {\n",
       "        text-align: right;\n",
       "    }\n",
       "</style>\n",
       "<table border=\"1\" class=\"dataframe\">\n",
       "  <thead>\n",
       "    <tr style=\"text-align: right;\">\n",
       "      <th></th>\n",
       "      <th>query</th>\n",
       "      <th>neighbor</th>\n",
       "      <th>users_count</th>\n",
       "      <th>users_count_neigh</th>\n",
       "    </tr>\n",
       "  </thead>\n",
       "  <tbody>\n",
       "    <tr>\n",
       "      <th>0</th>\n",
       "      <td>3 carrots</td>\n",
       "      <td>carritos</td>\n",
       "      <td>9</td>\n",
       "      <td>6</td>\n",
       "    </tr>\n",
       "    <tr>\n",
       "      <th>1</th>\n",
       "      <td>carrito</td>\n",
       "      <td>carritos</td>\n",
       "      <td>4</td>\n",
       "      <td>6</td>\n",
       "    </tr>\n",
       "    <tr>\n",
       "      <th>2</th>\n",
       "      <td>coriatros</td>\n",
       "      <td>carritos</td>\n",
       "      <td>3</td>\n",
       "      <td>6</td>\n",
       "    </tr>\n",
       "    <tr>\n",
       "      <th>3</th>\n",
       "      <td>3 carrots</td>\n",
       "      <td>carros</td>\n",
       "      <td>9</td>\n",
       "      <td>10</td>\n",
       "    </tr>\n",
       "    <tr>\n",
       "      <th>4</th>\n",
       "      <td>cugarros</td>\n",
       "      <td>carros</td>\n",
       "      <td>9</td>\n",
       "      <td>10</td>\n",
       "    </tr>\n",
       "  </tbody>\n",
       "</table>\n",
       "</div>"
      ]
     },
     "metadata": {},
     "execution_count": 10
    }
   ],
   "metadata": {}
  },
  {
   "cell_type": "markdown",
   "source": [
    "### First the most used term"
   ],
   "metadata": {}
  },
  {
   "cell_type": "code",
   "execution_count": 11,
   "source": [
    "aux = []\n",
    "\n",
    "for query, neigh in zip(zip(with_count[COL_NAME],with_count['users_count']), zip(with_count['neighbor'],with_count['users_count_neigh'])):\n",
    "    if query[1] > neigh[1]: aux.append((query[0], neigh[0], max(query[1],neigh[1])))\n",
    "    else: aux.append((neigh[0], query[0], max(query[1],neigh[1])))\n",
    "\n",
    "\n",
    "to_omit = pd.DataFrame(aux, columns=[COL_NAME,'neigh','count']).sort_values(['count',COL_NAME], ascending=False).drop_duplicates().iloc[:,:-1].reset_index(drop=True)\n",
    "to_omit.head()"
   ],
   "outputs": [
    {
     "output_type": "execute_result",
     "data": {
      "text/plain": [
       "      query     neigh\n",
       "0  cigarros  cigarr9s\n",
       "1  cigarros   cigaros\n",
       "2  cigarros  cigarris\n",
       "3  cigarros   cigarro\n",
       "4  cigarros  cigarroa"
      ],
      "text/html": [
       "<div>\n",
       "<style scoped>\n",
       "    .dataframe tbody tr th:only-of-type {\n",
       "        vertical-align: middle;\n",
       "    }\n",
       "\n",
       "    .dataframe tbody tr th {\n",
       "        vertical-align: top;\n",
       "    }\n",
       "\n",
       "    .dataframe thead th {\n",
       "        text-align: right;\n",
       "    }\n",
       "</style>\n",
       "<table border=\"1\" class=\"dataframe\">\n",
       "  <thead>\n",
       "    <tr style=\"text-align: right;\">\n",
       "      <th></th>\n",
       "      <th>query</th>\n",
       "      <th>neigh</th>\n",
       "    </tr>\n",
       "  </thead>\n",
       "  <tbody>\n",
       "    <tr>\n",
       "      <th>0</th>\n",
       "      <td>cigarros</td>\n",
       "      <td>cigarr9s</td>\n",
       "    </tr>\n",
       "    <tr>\n",
       "      <th>1</th>\n",
       "      <td>cigarros</td>\n",
       "      <td>cigaros</td>\n",
       "    </tr>\n",
       "    <tr>\n",
       "      <th>2</th>\n",
       "      <td>cigarros</td>\n",
       "      <td>cigarris</td>\n",
       "    </tr>\n",
       "    <tr>\n",
       "      <th>3</th>\n",
       "      <td>cigarros</td>\n",
       "      <td>cigarro</td>\n",
       "    </tr>\n",
       "    <tr>\n",
       "      <th>4</th>\n",
       "      <td>cigarros</td>\n",
       "      <td>cigarroa</td>\n",
       "    </tr>\n",
       "  </tbody>\n",
       "</table>\n",
       "</div>"
      ]
     },
     "metadata": {},
     "execution_count": 11
    }
   ],
   "metadata": {}
  },
  {
   "cell_type": "markdown",
   "source": [
    "### Neighbors dict"
   ],
   "metadata": {}
  },
  {
   "cell_type": "code",
   "execution_count": 12,
   "source": [
    "omit_dict = {}\n",
    "for x,y in to_omit.apply(tuple, axis=1):\n",
    "    if y not in omit_dict.keys(): omit_dict[y]=x"
   ],
   "outputs": [],
   "metadata": {}
  },
  {
   "cell_type": "code",
   "execution_count": 13,
   "source": [
    "df['grouped'] = df['query'].map(lambda x: omit_dict[x] if x in omit_dict.keys() else x)\n",
    "print(len(df['query'].unique()),'\\n', len(df['grouped'].unique()),'\\n', len(df['grouped'].unique())/len(df['query'].unique()))"
   ],
   "outputs": [
    {
     "output_type": "stream",
     "name": "stdout",
     "text": [
      "28042 \n",
      " 17447 \n",
      " 0.6221738820340917\n"
     ]
    }
   ],
   "metadata": {}
  },
  {
   "cell_type": "markdown",
   "source": [
    "## Export"
   ],
   "metadata": {}
  },
  {
   "cell_type": "code",
   "execution_count": 14,
   "source": [
    "df.sample(4)"
   ],
   "outputs": [
    {
     "output_type": "execute_result",
     "data": {
      "text/plain": [
       "       monday_week         city         zone  store_id         store  \\\n",
       "267319  2021-08-02      Tijuana      Tijuana      3729       Soriana   \n",
       "259969  2021-07-19    Monterrey     Suroeste        25           HEB   \n",
       "41117   2021-07-26  Guadalajara  Guadalajara      3729       Soriana   \n",
       "192856  2021-08-09    Monterrey     Suroeste      3980  El más pollo   \n",
       "\n",
       "        branch_id             branch   user_id            query  year  week  \\\n",
       "267319      21780           Carrusel  12681997        palomilla  2021    31   \n",
       "259969        201         Valle alto   1290580  morrón semaforo  2021    29   \n",
       "41117       10523  Forum Tlaquepaque   1625541       chinchetas  2021    30   \n",
       "192856      11642        Suc. Madrid   5058343          tenders  2021    32   \n",
       "\n",
       "        users_count          grouped  \n",
       "267319            5         palillos  \n",
       "259969            4  morrón semaforo  \n",
       "41117             7       chinchetas  \n",
       "192856           17           tender  "
      ],
      "text/html": [
       "<div>\n",
       "<style scoped>\n",
       "    .dataframe tbody tr th:only-of-type {\n",
       "        vertical-align: middle;\n",
       "    }\n",
       "\n",
       "    .dataframe tbody tr th {\n",
       "        vertical-align: top;\n",
       "    }\n",
       "\n",
       "    .dataframe thead th {\n",
       "        text-align: right;\n",
       "    }\n",
       "</style>\n",
       "<table border=\"1\" class=\"dataframe\">\n",
       "  <thead>\n",
       "    <tr style=\"text-align: right;\">\n",
       "      <th></th>\n",
       "      <th>monday_week</th>\n",
       "      <th>city</th>\n",
       "      <th>zone</th>\n",
       "      <th>store_id</th>\n",
       "      <th>store</th>\n",
       "      <th>branch_id</th>\n",
       "      <th>branch</th>\n",
       "      <th>user_id</th>\n",
       "      <th>query</th>\n",
       "      <th>year</th>\n",
       "      <th>week</th>\n",
       "      <th>users_count</th>\n",
       "      <th>grouped</th>\n",
       "    </tr>\n",
       "  </thead>\n",
       "  <tbody>\n",
       "    <tr>\n",
       "      <th>267319</th>\n",
       "      <td>2021-08-02</td>\n",
       "      <td>Tijuana</td>\n",
       "      <td>Tijuana</td>\n",
       "      <td>3729</td>\n",
       "      <td>Soriana</td>\n",
       "      <td>21780</td>\n",
       "      <td>Carrusel</td>\n",
       "      <td>12681997</td>\n",
       "      <td>palomilla</td>\n",
       "      <td>2021</td>\n",
       "      <td>31</td>\n",
       "      <td>5</td>\n",
       "      <td>palillos</td>\n",
       "    </tr>\n",
       "    <tr>\n",
       "      <th>259969</th>\n",
       "      <td>2021-07-19</td>\n",
       "      <td>Monterrey</td>\n",
       "      <td>Suroeste</td>\n",
       "      <td>25</td>\n",
       "      <td>HEB</td>\n",
       "      <td>201</td>\n",
       "      <td>Valle alto</td>\n",
       "      <td>1290580</td>\n",
       "      <td>morrón semaforo</td>\n",
       "      <td>2021</td>\n",
       "      <td>29</td>\n",
       "      <td>4</td>\n",
       "      <td>morrón semaforo</td>\n",
       "    </tr>\n",
       "    <tr>\n",
       "      <th>41117</th>\n",
       "      <td>2021-07-26</td>\n",
       "      <td>Guadalajara</td>\n",
       "      <td>Guadalajara</td>\n",
       "      <td>3729</td>\n",
       "      <td>Soriana</td>\n",
       "      <td>10523</td>\n",
       "      <td>Forum Tlaquepaque</td>\n",
       "      <td>1625541</td>\n",
       "      <td>chinchetas</td>\n",
       "      <td>2021</td>\n",
       "      <td>30</td>\n",
       "      <td>7</td>\n",
       "      <td>chinchetas</td>\n",
       "    </tr>\n",
       "    <tr>\n",
       "      <th>192856</th>\n",
       "      <td>2021-08-09</td>\n",
       "      <td>Monterrey</td>\n",
       "      <td>Suroeste</td>\n",
       "      <td>3980</td>\n",
       "      <td>El más pollo</td>\n",
       "      <td>11642</td>\n",
       "      <td>Suc. Madrid</td>\n",
       "      <td>5058343</td>\n",
       "      <td>tenders</td>\n",
       "      <td>2021</td>\n",
       "      <td>32</td>\n",
       "      <td>17</td>\n",
       "      <td>tender</td>\n",
       "    </tr>\n",
       "  </tbody>\n",
       "</table>\n",
       "</div>"
      ]
     },
     "metadata": {},
     "execution_count": 14
    }
   ],
   "metadata": {}
  },
  {
   "cell_type": "code",
   "execution_count": 15,
   "source": [
    "to_omit.to_csv(BASE_DIR.joinpath('neighbors.csv'), index=False, sep='\\t', encoding='utf-16')\n",
    "df.to_csv(BASE_DIR.joinpath('grouped.csv'), index=False, sep='\\t', encoding='utf-16')"
   ],
   "outputs": [],
   "metadata": {}
  }
 ],
 "metadata": {
  "orig_nbformat": 4,
  "language_info": {
   "name": "python",
   "version": "3.9.1",
   "mimetype": "text/x-python",
   "codemirror_mode": {
    "name": "ipython",
    "version": 3
   },
   "pygments_lexer": "ipython3",
   "nbconvert_exporter": "python",
   "file_extension": ".py"
  },
  "kernelspec": {
   "name": "python3",
   "display_name": "Python 3.9.1 64-bit ('venv': venv)"
  },
  "interpreter": {
   "hash": "43c7e786f83339f88293178a498b997755bb834764969670e358492d0c4260ad"
  }
 },
 "nbformat": 4,
 "nbformat_minor": 2
}