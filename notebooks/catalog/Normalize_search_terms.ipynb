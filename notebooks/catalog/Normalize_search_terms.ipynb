{
 "cells": [
  {
   "cell_type": "markdown",
   "source": [
    "# Group similar search terms"
   ],
   "metadata": {}
  },
  {
   "cell_type": "markdown",
   "source": [
    "## Parameters"
   ],
   "metadata": {}
  },
  {
   "cell_type": "code",
   "execution_count": 1,
   "source": [
    "from pathlib import Path\n",
    "\n",
    "BASE_DIR = Path('/Users/efraflores/Desktop/EF/Corner/Catalog/Search_without_results')\n",
    "FILE_NAME = 'search_wr.csv'\n",
    "COL_NAME = 'query'"
   ],
   "outputs": [],
   "metadata": {}
  },
  {
   "cell_type": "markdown",
   "source": [
    "## Import"
   ],
   "metadata": {}
  },
  {
   "cell_type": "code",
   "execution_count": 2,
   "source": [
    "import pandas as pd\n",
    "\n",
    "df = pd.read_csv(BASE_DIR.joinpath(FILE_NAME)).dropna().reset_index(drop=True)\n",
    "print(df.info())\n",
    "df.sample()"
   ],
   "outputs": [
    {
     "output_type": "stream",
     "name": "stdout",
     "text": [
      "<class 'pandas.core.frame.DataFrame'>\n",
      "RangeIndex: 511703 entries, 0 to 511702\n",
      "Data columns (total 9 columns):\n",
      " #   Column       Non-Null Count   Dtype \n",
      "---  ------       --------------   ----- \n",
      " 0   monday_week  511703 non-null  object\n",
      " 1   city         511703 non-null  object\n",
      " 2   zone         511703 non-null  object\n",
      " 3   store_id     511703 non-null  int64 \n",
      " 4   store        511703 non-null  object\n",
      " 5   branch_id    511703 non-null  int64 \n",
      " 6   branch       511703 non-null  object\n",
      " 7   user_id      511703 non-null  int64 \n",
      " 8   query        511703 non-null  object\n",
      "dtypes: int64(3), object(6)\n",
      "memory usage: 35.1+ MB\n",
      "None\n"
     ]
    },
    {
     "output_type": "execute_result",
     "data": {
      "text/plain": [
       "      monday_week              city     zone  store_id        store  \\\n",
       "86605  2021-07-19  Ciudad de México  Bosques         9  City Market   \n",
       "\n",
       "       branch_id      branch  user_id     query  \n",
       "86605         38  Interlomas  2848973  chedraui  "
      ],
      "text/html": [
       "<div>\n",
       "<style scoped>\n",
       "    .dataframe tbody tr th:only-of-type {\n",
       "        vertical-align: middle;\n",
       "    }\n",
       "\n",
       "    .dataframe tbody tr th {\n",
       "        vertical-align: top;\n",
       "    }\n",
       "\n",
       "    .dataframe thead th {\n",
       "        text-align: right;\n",
       "    }\n",
       "</style>\n",
       "<table border=\"1\" class=\"dataframe\">\n",
       "  <thead>\n",
       "    <tr style=\"text-align: right;\">\n",
       "      <th></th>\n",
       "      <th>monday_week</th>\n",
       "      <th>city</th>\n",
       "      <th>zone</th>\n",
       "      <th>store_id</th>\n",
       "      <th>store</th>\n",
       "      <th>branch_id</th>\n",
       "      <th>branch</th>\n",
       "      <th>user_id</th>\n",
       "      <th>query</th>\n",
       "    </tr>\n",
       "  </thead>\n",
       "  <tbody>\n",
       "    <tr>\n",
       "      <th>86605</th>\n",
       "      <td>2021-07-19</td>\n",
       "      <td>Ciudad de México</td>\n",
       "      <td>Bosques</td>\n",
       "      <td>9</td>\n",
       "      <td>City Market</td>\n",
       "      <td>38</td>\n",
       "      <td>Interlomas</td>\n",
       "      <td>2848973</td>\n",
       "      <td>chedraui</td>\n",
       "    </tr>\n",
       "  </tbody>\n",
       "</table>\n",
       "</div>"
      ]
     },
     "metadata": {},
     "execution_count": 2
    }
   ],
   "metadata": {}
  },
  {
   "cell_type": "markdown",
   "source": [
    "## Functions"
   ],
   "metadata": {}
  },
  {
   "cell_type": "markdown",
   "source": [
    "### Clean text"
   ],
   "metadata": {}
  },
  {
   "cell_type": "code",
   "execution_count": 3,
   "source": [
    "import re\n",
    "import unicodedata\n",
    "\n",
    "def clean_text(text, pattern=\"[^a-zA-Z\\s]\", lower=False, unique=False):\n",
    "    cleaned_text = unicodedata.normalize('NFD',str(text).replace('\\n','')).encode('ascii', 'ignore')\n",
    "    cleaned_text = re.sub(pattern,' ',cleaned_text.decode('utf-8'),flags=re.UNICODE)\n",
    "    cleaned_text = [word for word in (cleaned_text.lower().split() if lower else cleaned_text.split())]\n",
    "    return ' '.join((set(cleaned_text) if unique else cleaned_text))"
   ],
   "outputs": [],
   "metadata": {}
  },
  {
   "cell_type": "markdown",
   "source": [
    "### Similar"
   ],
   "metadata": {}
  },
  {
   "cell_type": "code",
   "execution_count": 4,
   "source": [
    "from difflib import get_close_matches\n",
    "from sklearn.neighbors import NearestNeighbors\n",
    "\n",
    "def similar(data, max_dist=1e3, n_neighbors=5, **kwargs):\n",
    "    \n",
    "    df = data.copy()\n",
    "    nbrs = NearestNeighbors(n_neighbors=n_neighbors, algorithm='ball_tree', n_jobs=-1)\n",
    "    nbrs.fit(df)\n",
    "    distances, indices = nbrs.kneighbors(df)\n",
    "\n",
    "    dist_cols = ['dist_'+str(x) for x in range(n_neighbors)]\n",
    "    distances = pd.DataFrame(distances,\n",
    "                             index=df.index,\n",
    "                             columns=dist_cols).iloc[:,1:]\n",
    "\n",
    "    distances = distances[distances['dist_1'] <= max_dist].copy()\n",
    "    \n",
    "    indices_cols = ['indice_'+str(x) for x in range(n_neighbors)]\n",
    "    indices = pd.DataFrame(indices,\n",
    "                           index=df.index,\n",
    "                           columns=indices_cols).iloc[:,1:]\n",
    "    \n",
    "    indices.replace(dict(enumerate(df.index)), inplace=True)\n",
    "    \n",
    "    neighbors = distances.join(indices)\n",
    "    \n",
    "    total_neighbors = []\n",
    "    for row in neighbors.index:\n",
    "        aux = []\n",
    "        for dist_col,id_col in zip(dist_cols[1:],indices_cols[1:]):\n",
    "            if neighbors.loc[row,dist_col] <= max_dist:\n",
    "                aux.append(neighbors.loc[row,id_col])\n",
    "        total_neighbors.append(aux)\n",
    "    \n",
    "    neighbors['neighbors'] = total_neighbors\n",
    "\n",
    "    sim = neighbors['neighbors'].reset_index()\n",
    "    sim['similar'] = sim.apply(lambda x: ','.join(get_close_matches(x[0],x[1], **kwargs)), axis=1)\n",
    "    sim = sim[sim['similar'].map(len)>0].copy()\n",
    "    sim = sim.set_index(sim.columns[0]).iloc[:,-1:]\n",
    "\n",
    "    melted = sim['similar'].str.split(',', expand=True).melt(ignore_index=False).dropna()\n",
    "    melted = melted.iloc[:,-1:].rename({'value':'neighbor'}, axis=1).reset_index()\n",
    "    melted = melted.sort_values(melted.columns.tolist())\n",
    "    return melted"
   ],
   "outputs": [],
   "metadata": {}
  },
  {
   "cell_type": "markdown",
   "source": [
    "## Transform"
   ],
   "metadata": {}
  },
  {
   "cell_type": "markdown",
   "source": [
    "### Date variables"
   ],
   "metadata": {}
  },
  {
   "cell_type": "code",
   "execution_count": 5,
   "source": [
    "df['monday_week'] = pd.to_datetime(df['monday_week'])\n",
    "df['year'] = df['monday_week'].dt.year\n",
    "df['week'] = df['monday_week'].dt.isocalendar().week\n",
    "df.head()"
   ],
   "outputs": [
    {
     "output_type": "execute_result",
     "data": {
      "text/plain": [
       "  monday_week              city      zone  store_id        store  branch_id  \\\n",
       "0  2021-07-19  Ciudad de México    Aragón        22     Chedraui       3087   \n",
       "1  2021-07-19  Ciudad de México    Aragón        22     Chedraui       3087   \n",
       "2  2021-07-19         Monterrey  Suroeste        25          HEB       1490   \n",
       "3  2021-07-19         Monterrey  Suroeste      3729      Soriana      10003   \n",
       "4  2021-07-19  Ciudad de México   Condesa         9  City Market         58   \n",
       "\n",
       "             branch   user_id                         query  year  week  \n",
       "0  Chedraui Tepeyac   1731928          salsa de ostion kiko  2021    29  \n",
       "1  Chedraui Tepeyac   1731928       salsa de ostion kikoman  2021    29  \n",
       "2   eFC Aaron Saenz     69587                  mini conchas  2021    29  \n",
       "3           Cumbres   3283006  ropa interior para caballero  2021    29  \n",
       "4           Pilares  11310037                  cero humedad  2021    29  "
      ],
      "text/html": [
       "<div>\n",
       "<style scoped>\n",
       "    .dataframe tbody tr th:only-of-type {\n",
       "        vertical-align: middle;\n",
       "    }\n",
       "\n",
       "    .dataframe tbody tr th {\n",
       "        vertical-align: top;\n",
       "    }\n",
       "\n",
       "    .dataframe thead th {\n",
       "        text-align: right;\n",
       "    }\n",
       "</style>\n",
       "<table border=\"1\" class=\"dataframe\">\n",
       "  <thead>\n",
       "    <tr style=\"text-align: right;\">\n",
       "      <th></th>\n",
       "      <th>monday_week</th>\n",
       "      <th>city</th>\n",
       "      <th>zone</th>\n",
       "      <th>store_id</th>\n",
       "      <th>store</th>\n",
       "      <th>branch_id</th>\n",
       "      <th>branch</th>\n",
       "      <th>user_id</th>\n",
       "      <th>query</th>\n",
       "      <th>year</th>\n",
       "      <th>week</th>\n",
       "    </tr>\n",
       "  </thead>\n",
       "  <tbody>\n",
       "    <tr>\n",
       "      <th>0</th>\n",
       "      <td>2021-07-19</td>\n",
       "      <td>Ciudad de México</td>\n",
       "      <td>Aragón</td>\n",
       "      <td>22</td>\n",
       "      <td>Chedraui</td>\n",
       "      <td>3087</td>\n",
       "      <td>Chedraui Tepeyac</td>\n",
       "      <td>1731928</td>\n",
       "      <td>salsa de ostion kiko</td>\n",
       "      <td>2021</td>\n",
       "      <td>29</td>\n",
       "    </tr>\n",
       "    <tr>\n",
       "      <th>1</th>\n",
       "      <td>2021-07-19</td>\n",
       "      <td>Ciudad de México</td>\n",
       "      <td>Aragón</td>\n",
       "      <td>22</td>\n",
       "      <td>Chedraui</td>\n",
       "      <td>3087</td>\n",
       "      <td>Chedraui Tepeyac</td>\n",
       "      <td>1731928</td>\n",
       "      <td>salsa de ostion kikoman</td>\n",
       "      <td>2021</td>\n",
       "      <td>29</td>\n",
       "    </tr>\n",
       "    <tr>\n",
       "      <th>2</th>\n",
       "      <td>2021-07-19</td>\n",
       "      <td>Monterrey</td>\n",
       "      <td>Suroeste</td>\n",
       "      <td>25</td>\n",
       "      <td>HEB</td>\n",
       "      <td>1490</td>\n",
       "      <td>eFC Aaron Saenz</td>\n",
       "      <td>69587</td>\n",
       "      <td>mini conchas</td>\n",
       "      <td>2021</td>\n",
       "      <td>29</td>\n",
       "    </tr>\n",
       "    <tr>\n",
       "      <th>3</th>\n",
       "      <td>2021-07-19</td>\n",
       "      <td>Monterrey</td>\n",
       "      <td>Suroeste</td>\n",
       "      <td>3729</td>\n",
       "      <td>Soriana</td>\n",
       "      <td>10003</td>\n",
       "      <td>Cumbres</td>\n",
       "      <td>3283006</td>\n",
       "      <td>ropa interior para caballero</td>\n",
       "      <td>2021</td>\n",
       "      <td>29</td>\n",
       "    </tr>\n",
       "    <tr>\n",
       "      <th>4</th>\n",
       "      <td>2021-07-19</td>\n",
       "      <td>Ciudad de México</td>\n",
       "      <td>Condesa</td>\n",
       "      <td>9</td>\n",
       "      <td>City Market</td>\n",
       "      <td>58</td>\n",
       "      <td>Pilares</td>\n",
       "      <td>11310037</td>\n",
       "      <td>cero humedad</td>\n",
       "      <td>2021</td>\n",
       "      <td>29</td>\n",
       "    </tr>\n",
       "  </tbody>\n",
       "</table>\n",
       "</div>"
      ]
     },
     "metadata": {},
     "execution_count": 5
    }
   ],
   "metadata": {}
  },
  {
   "cell_type": "markdown",
   "source": [
    "### Queries with more than one user"
   ],
   "metadata": {}
  },
  {
   "cell_type": "code",
   "execution_count": 6,
   "source": [
    "import numpy as np\n",
    "\n",
    "mto = df.groupby(COL_NAME)['user_id'].nunique().reset_index()\n",
    "mto = mto[mto['user_id']>np.percentile(mto['user_id'], 80)].rename({'user_id':'users_count'}, axis=1)\n",
    "print(mto['users_count'].describe())\n",
    "mto.shape"
   ],
   "outputs": [
    {
     "output_type": "stream",
     "name": "stdout",
     "text": [
      "count    28042.000000\n",
      "mean         9.227052\n",
      "std         20.210311\n",
      "min          3.000000\n",
      "25%          3.000000\n",
      "50%          5.000000\n",
      "75%          9.000000\n",
      "max       1491.000000\n",
      "Name: users_count, dtype: float64\n"
     ]
    },
    {
     "output_type": "execute_result",
     "data": {
      "text/plain": [
       "(28042, 2)"
      ]
     },
     "metadata": {},
     "execution_count": 6
    }
   ],
   "metadata": {}
  },
  {
   "cell_type": "code",
   "execution_count": 7,
   "source": [
    "df = df.merge(mto, on='query')\n",
    "print(df.shape)\n",
    "df.sample()"
   ],
   "outputs": [
    {
     "output_type": "stream",
     "name": "stdout",
     "text": [
      "(293845, 12)\n"
     ]
    },
    {
     "output_type": "execute_result",
     "data": {
      "text/plain": [
       "      monday_week       city      zone  store_id   store  branch_id  \\\n",
       "26303  2021-07-19  Monterrey  Suroeste         7  Costco        217   \n",
       "\n",
       "                   branch  user_id      query  year  week  users_count  \n",
       "26303  Carretera Nacional  3584528  body wash  2021    29           35  "
      ],
      "text/html": [
       "<div>\n",
       "<style scoped>\n",
       "    .dataframe tbody tr th:only-of-type {\n",
       "        vertical-align: middle;\n",
       "    }\n",
       "\n",
       "    .dataframe tbody tr th {\n",
       "        vertical-align: top;\n",
       "    }\n",
       "\n",
       "    .dataframe thead th {\n",
       "        text-align: right;\n",
       "    }\n",
       "</style>\n",
       "<table border=\"1\" class=\"dataframe\">\n",
       "  <thead>\n",
       "    <tr style=\"text-align: right;\">\n",
       "      <th></th>\n",
       "      <th>monday_week</th>\n",
       "      <th>city</th>\n",
       "      <th>zone</th>\n",
       "      <th>store_id</th>\n",
       "      <th>store</th>\n",
       "      <th>branch_id</th>\n",
       "      <th>branch</th>\n",
       "      <th>user_id</th>\n",
       "      <th>query</th>\n",
       "      <th>year</th>\n",
       "      <th>week</th>\n",
       "      <th>users_count</th>\n",
       "    </tr>\n",
       "  </thead>\n",
       "  <tbody>\n",
       "    <tr>\n",
       "      <th>26303</th>\n",
       "      <td>2021-07-19</td>\n",
       "      <td>Monterrey</td>\n",
       "      <td>Suroeste</td>\n",
       "      <td>7</td>\n",
       "      <td>Costco</td>\n",
       "      <td>217</td>\n",
       "      <td>Carretera Nacional</td>\n",
       "      <td>3584528</td>\n",
       "      <td>body wash</td>\n",
       "      <td>2021</td>\n",
       "      <td>29</td>\n",
       "      <td>35</td>\n",
       "    </tr>\n",
       "  </tbody>\n",
       "</table>\n",
       "</div>"
      ]
     },
     "metadata": {},
     "execution_count": 7
    }
   ],
   "metadata": {}
  },
  {
   "cell_type": "markdown",
   "source": [
    "### CountVectorizer"
   ],
   "metadata": {}
  },
  {
   "cell_type": "code",
   "execution_count": 8,
   "source": [
    "from sklearn.feature_extraction.text import CountVectorizer, TfidfVectorizer\n",
    "\n",
    "to_vect = df[COL_NAME].drop_duplicates()\n",
    "cv_char = CountVectorizer(analyzer='char')\n",
    "cv_char.fit(to_vect.astype(str).apply(clean_text).str.lower())\n",
    "by_char = pd.DataFrame(cv_char.transform(df[COL_NAME]).todense(), columns=cv_char.get_feature_names(), index=df.index)\n",
    "by_char = by_char.join(df[[COL_NAME]]).set_index(COL_NAME).drop_duplicates()\n",
    "by_char = by_char[by_char.sum(axis=1)>2].copy()\n",
    "print(by_char.shape)\n",
    "by_char.sample()"
   ],
   "outputs": [
    {
     "output_type": "stream",
     "name": "stdout",
     "text": [
      "(26144, 27)\n"
     ]
    },
    {
     "output_type": "execute_result",
     "data": {
      "text/plain": [
       "          a  b  c  d  e  f  g  h  i  ...  q  r  s  t  u  v  w  x  y  z\n",
       "query                                ...                              \n",
       "velas  0  1  0  0  0  1  0  0  0  0  ...  0  0  1  0  0  1  0  0  0  0\n",
       "\n",
       "[1 rows x 27 columns]"
      ],
      "text/html": [
       "<div>\n",
       "<style scoped>\n",
       "    .dataframe tbody tr th:only-of-type {\n",
       "        vertical-align: middle;\n",
       "    }\n",
       "\n",
       "    .dataframe tbody tr th {\n",
       "        vertical-align: top;\n",
       "    }\n",
       "\n",
       "    .dataframe thead th {\n",
       "        text-align: right;\n",
       "    }\n",
       "</style>\n",
       "<table border=\"1\" class=\"dataframe\">\n",
       "  <thead>\n",
       "    <tr style=\"text-align: right;\">\n",
       "      <th></th>\n",
       "      <th></th>\n",
       "      <th>a</th>\n",
       "      <th>b</th>\n",
       "      <th>c</th>\n",
       "      <th>d</th>\n",
       "      <th>e</th>\n",
       "      <th>f</th>\n",
       "      <th>g</th>\n",
       "      <th>h</th>\n",
       "      <th>i</th>\n",
       "      <th>...</th>\n",
       "      <th>q</th>\n",
       "      <th>r</th>\n",
       "      <th>s</th>\n",
       "      <th>t</th>\n",
       "      <th>u</th>\n",
       "      <th>v</th>\n",
       "      <th>w</th>\n",
       "      <th>x</th>\n",
       "      <th>y</th>\n",
       "      <th>z</th>\n",
       "    </tr>\n",
       "    <tr>\n",
       "      <th>query</th>\n",
       "      <th></th>\n",
       "      <th></th>\n",
       "      <th></th>\n",
       "      <th></th>\n",
       "      <th></th>\n",
       "      <th></th>\n",
       "      <th></th>\n",
       "      <th></th>\n",
       "      <th></th>\n",
       "      <th></th>\n",
       "      <th></th>\n",
       "      <th></th>\n",
       "      <th></th>\n",
       "      <th></th>\n",
       "      <th></th>\n",
       "      <th></th>\n",
       "      <th></th>\n",
       "      <th></th>\n",
       "      <th></th>\n",
       "      <th></th>\n",
       "      <th></th>\n",
       "    </tr>\n",
       "  </thead>\n",
       "  <tbody>\n",
       "    <tr>\n",
       "      <th>velas</th>\n",
       "      <td>0</td>\n",
       "      <td>1</td>\n",
       "      <td>0</td>\n",
       "      <td>0</td>\n",
       "      <td>0</td>\n",
       "      <td>1</td>\n",
       "      <td>0</td>\n",
       "      <td>0</td>\n",
       "      <td>0</td>\n",
       "      <td>0</td>\n",
       "      <td>...</td>\n",
       "      <td>0</td>\n",
       "      <td>0</td>\n",
       "      <td>1</td>\n",
       "      <td>0</td>\n",
       "      <td>0</td>\n",
       "      <td>1</td>\n",
       "      <td>0</td>\n",
       "      <td>0</td>\n",
       "      <td>0</td>\n",
       "      <td>0</td>\n",
       "    </tr>\n",
       "  </tbody>\n",
       "</table>\n",
       "<p>1 rows × 27 columns</p>\n",
       "</div>"
      ]
     },
     "metadata": {},
     "execution_count": 8
    }
   ],
   "metadata": {}
  },
  {
   "cell_type": "markdown",
   "source": [
    "### Similar"
   ],
   "metadata": {}
  },
  {
   "cell_type": "code",
   "execution_count": 9,
   "source": [
    "sim = similar(by_char, max_dist=3, cutoff=0.7)\n",
    "print(sim.shape)\n",
    "sim.head()"
   ],
   "outputs": [
    {
     "output_type": "stream",
     "name": "stdout",
     "text": [
      "(32021, 2)\n"
     ]
    },
    {
     "output_type": "execute_result",
     "data": {
      "text/plain": [
       "           query   neighbor\n",
       "29274  3 carrots   carritos\n",
       "21348  3 carrots     carros\n",
       "5860   3 carrots     carrot\n",
       "15871  3 tenchas   3tenchas\n",
       "14879   3tenchas  3 tenchas"
      ],
      "text/html": [
       "<div>\n",
       "<style scoped>\n",
       "    .dataframe tbody tr th:only-of-type {\n",
       "        vertical-align: middle;\n",
       "    }\n",
       "\n",
       "    .dataframe tbody tr th {\n",
       "        vertical-align: top;\n",
       "    }\n",
       "\n",
       "    .dataframe thead th {\n",
       "        text-align: right;\n",
       "    }\n",
       "</style>\n",
       "<table border=\"1\" class=\"dataframe\">\n",
       "  <thead>\n",
       "    <tr style=\"text-align: right;\">\n",
       "      <th></th>\n",
       "      <th>query</th>\n",
       "      <th>neighbor</th>\n",
       "    </tr>\n",
       "  </thead>\n",
       "  <tbody>\n",
       "    <tr>\n",
       "      <th>29274</th>\n",
       "      <td>3 carrots</td>\n",
       "      <td>carritos</td>\n",
       "    </tr>\n",
       "    <tr>\n",
       "      <th>21348</th>\n",
       "      <td>3 carrots</td>\n",
       "      <td>carros</td>\n",
       "    </tr>\n",
       "    <tr>\n",
       "      <th>5860</th>\n",
       "      <td>3 carrots</td>\n",
       "      <td>carrot</td>\n",
       "    </tr>\n",
       "    <tr>\n",
       "      <th>15871</th>\n",
       "      <td>3 tenchas</td>\n",
       "      <td>3tenchas</td>\n",
       "    </tr>\n",
       "    <tr>\n",
       "      <th>14879</th>\n",
       "      <td>3tenchas</td>\n",
       "      <td>3 tenchas</td>\n",
       "    </tr>\n",
       "  </tbody>\n",
       "</table>\n",
       "</div>"
      ]
     },
     "metadata": {},
     "execution_count": 9
    }
   ],
   "metadata": {}
  },
  {
   "cell_type": "markdown",
   "source": [
    "### Order by count"
   ],
   "metadata": {}
  },
  {
   "cell_type": "code",
   "execution_count": 10,
   "source": [
    "with_count = sim.merge(mto).merge(mto, left_on='neighbor', right_on='query', suffixes=('','_neigh')).drop('query_neigh', axis=1)\n",
    "with_count.head()"
   ],
   "outputs": [
    {
     "output_type": "execute_result",
     "data": {
      "text/plain": [
       "       query  neighbor  users_count  users_count_neigh\n",
       "0  3 carrots  carritos            9                  6\n",
       "1    carrito  carritos            4                  6\n",
       "2  coriatros  carritos            3                  6\n",
       "3  3 carrots    carros            9                 10\n",
       "4   cugarros    carros            9                 10"
      ],
      "text/html": [
       "<div>\n",
       "<style scoped>\n",
       "    .dataframe tbody tr th:only-of-type {\n",
       "        vertical-align: middle;\n",
       "    }\n",
       "\n",
       "    .dataframe tbody tr th {\n",
       "        vertical-align: top;\n",
       "    }\n",
       "\n",
       "    .dataframe thead th {\n",
       "        text-align: right;\n",
       "    }\n",
       "</style>\n",
       "<table border=\"1\" class=\"dataframe\">\n",
       "  <thead>\n",
       "    <tr style=\"text-align: right;\">\n",
       "      <th></th>\n",
       "      <th>query</th>\n",
       "      <th>neighbor</th>\n",
       "      <th>users_count</th>\n",
       "      <th>users_count_neigh</th>\n",
       "    </tr>\n",
       "  </thead>\n",
       "  <tbody>\n",
       "    <tr>\n",
       "      <th>0</th>\n",
       "      <td>3 carrots</td>\n",
       "      <td>carritos</td>\n",
       "      <td>9</td>\n",
       "      <td>6</td>\n",
       "    </tr>\n",
       "    <tr>\n",
       "      <th>1</th>\n",
       "      <td>carrito</td>\n",
       "      <td>carritos</td>\n",
       "      <td>4</td>\n",
       "      <td>6</td>\n",
       "    </tr>\n",
       "    <tr>\n",
       "      <th>2</th>\n",
       "      <td>coriatros</td>\n",
       "      <td>carritos</td>\n",
       "      <td>3</td>\n",
       "      <td>6</td>\n",
       "    </tr>\n",
       "    <tr>\n",
       "      <th>3</th>\n",
       "      <td>3 carrots</td>\n",
       "      <td>carros</td>\n",
       "      <td>9</td>\n",
       "      <td>10</td>\n",
       "    </tr>\n",
       "    <tr>\n",
       "      <th>4</th>\n",
       "      <td>cugarros</td>\n",
       "      <td>carros</td>\n",
       "      <td>9</td>\n",
       "      <td>10</td>\n",
       "    </tr>\n",
       "  </tbody>\n",
       "</table>\n",
       "</div>"
      ]
     },
     "metadata": {},
     "execution_count": 10
    }
   ],
   "metadata": {}
  },
  {
   "cell_type": "markdown",
   "source": [
    "### First the most used term"
   ],
   "metadata": {}
  },
  {
   "cell_type": "code",
   "execution_count": 11,
   "source": [
    "aux = []\n",
    "\n",
    "for query, neigh in zip(zip(with_count[COL_NAME],with_count['users_count']), zip(with_count['neighbor'],with_count['users_count_neigh'])):\n",
    "    if query[1] > neigh[1]: aux.append((query[0], neigh[0], max(query[1],neigh[1])))\n",
    "    else: aux.append((neigh[0], query[0], max(query[1],neigh[1])))\n",
    "\n",
    "\n",
    "to_omit = pd.DataFrame(aux, columns=[COL_NAME,'neigh','count']).sort_values(['count',COL_NAME], ascending=False).drop_duplicates().iloc[:,:-1].reset_index(drop=True)\n",
    "to_omit.head()"
   ],
   "outputs": [
    {
     "output_type": "execute_result",
     "data": {
      "text/plain": [
       "      query     neigh\n",
       "0  cigarros   cigaros\n",
       "1  cigarros  cigarr9s\n",
       "2  cigarros  cigarris\n",
       "3  cigarros   cigarro\n",
       "4  cigarros  cigarroa"
      ],
      "text/html": [
       "<div>\n",
       "<style scoped>\n",
       "    .dataframe tbody tr th:only-of-type {\n",
       "        vertical-align: middle;\n",
       "    }\n",
       "\n",
       "    .dataframe tbody tr th {\n",
       "        vertical-align: top;\n",
       "    }\n",
       "\n",
       "    .dataframe thead th {\n",
       "        text-align: right;\n",
       "    }\n",
       "</style>\n",
       "<table border=\"1\" class=\"dataframe\">\n",
       "  <thead>\n",
       "    <tr style=\"text-align: right;\">\n",
       "      <th></th>\n",
       "      <th>query</th>\n",
       "      <th>neigh</th>\n",
       "    </tr>\n",
       "  </thead>\n",
       "  <tbody>\n",
       "    <tr>\n",
       "      <th>0</th>\n",
       "      <td>cigarros</td>\n",
       "      <td>cigaros</td>\n",
       "    </tr>\n",
       "    <tr>\n",
       "      <th>1</th>\n",
       "      <td>cigarros</td>\n",
       "      <td>cigarr9s</td>\n",
       "    </tr>\n",
       "    <tr>\n",
       "      <th>2</th>\n",
       "      <td>cigarros</td>\n",
       "      <td>cigarris</td>\n",
       "    </tr>\n",
       "    <tr>\n",
       "      <th>3</th>\n",
       "      <td>cigarros</td>\n",
       "      <td>cigarro</td>\n",
       "    </tr>\n",
       "    <tr>\n",
       "      <th>4</th>\n",
       "      <td>cigarros</td>\n",
       "      <td>cigarroa</td>\n",
       "    </tr>\n",
       "  </tbody>\n",
       "</table>\n",
       "</div>"
      ]
     },
     "metadata": {},
     "execution_count": 11
    }
   ],
   "metadata": {}
  },
  {
   "cell_type": "markdown",
   "source": [
    "### Neighbors dict"
   ],
   "metadata": {}
  },
  {
   "cell_type": "code",
   "execution_count": 12,
   "source": [
    "omit_dict = {}\n",
    "for x,y in to_omit.apply(tuple, axis=1):\n",
    "    if y not in omit_dict.keys(): omit_dict[y]=x"
   ],
   "outputs": [],
   "metadata": {}
  },
  {
   "cell_type": "code",
   "execution_count": 13,
   "source": [
    "df['grouped'] = df['query'].map(lambda x: omit_dict[x] if x in omit_dict.keys() else x)\n",
    "print(len(df['query'].unique()),'\\n', len(df['grouped'].unique()),'\\n', len(df['grouped'].unique())/len(df['query'].unique()))"
   ],
   "outputs": [
    {
     "output_type": "stream",
     "name": "stdout",
     "text": [
      "28042 \n",
      " 17520 \n",
      " 0.6247771200342344\n"
     ]
    }
   ],
   "metadata": {}
  },
  {
   "cell_type": "markdown",
   "source": [
    "## Export"
   ],
   "metadata": {}
  },
  {
   "cell_type": "code",
   "execution_count": 14,
   "source": [
    "df.sample(4)"
   ],
   "outputs": [
    {
     "output_type": "execute_result",
     "data": {
      "text/plain": [
       "       monday_week              city     zone  store_id        store  \\\n",
       "265911  2021-08-09  Ciudad de México  Polanco        22     Chedraui   \n",
       "160496  2021-07-26  Ciudad de México   Aragón         7       Costco   \n",
       "79203   2021-08-02  Ciudad de México  Condesa      7153     Parisina   \n",
       "100720  2021-08-02  Ciudad de México  Bosques      2449  Mora market   \n",
       "\n",
       "        branch_id                                             branch  user_id  \\\n",
       "265911        136                                            Polanco  1778422   \n",
       "160496        692                                         Lindavista   217640   \n",
       "79203       19449  TARANGO - ATENDIENDO A PUERTA CERRADA COMUNICA...   686642   \n",
       "100720      12535                           Mora Market (Interlomas)   113915   \n",
       "\n",
       "                    query  year  week  users_count            grouped  \n",
       "265911             greens  2021    32            7             greens  \n",
       "160496  mayonesa aguacate  2021    30           20  mayonesa aguacate  \n",
       "79203                tela  2021    31           40               tela  \n",
       "100720                nue  2021    31           22                nue  "
      ],
      "text/html": [
       "<div>\n",
       "<style scoped>\n",
       "    .dataframe tbody tr th:only-of-type {\n",
       "        vertical-align: middle;\n",
       "    }\n",
       "\n",
       "    .dataframe tbody tr th {\n",
       "        vertical-align: top;\n",
       "    }\n",
       "\n",
       "    .dataframe thead th {\n",
       "        text-align: right;\n",
       "    }\n",
       "</style>\n",
       "<table border=\"1\" class=\"dataframe\">\n",
       "  <thead>\n",
       "    <tr style=\"text-align: right;\">\n",
       "      <th></th>\n",
       "      <th>monday_week</th>\n",
       "      <th>city</th>\n",
       "      <th>zone</th>\n",
       "      <th>store_id</th>\n",
       "      <th>store</th>\n",
       "      <th>branch_id</th>\n",
       "      <th>branch</th>\n",
       "      <th>user_id</th>\n",
       "      <th>query</th>\n",
       "      <th>year</th>\n",
       "      <th>week</th>\n",
       "      <th>users_count</th>\n",
       "      <th>grouped</th>\n",
       "    </tr>\n",
       "  </thead>\n",
       "  <tbody>\n",
       "    <tr>\n",
       "      <th>265911</th>\n",
       "      <td>2021-08-09</td>\n",
       "      <td>Ciudad de México</td>\n",
       "      <td>Polanco</td>\n",
       "      <td>22</td>\n",
       "      <td>Chedraui</td>\n",
       "      <td>136</td>\n",
       "      <td>Polanco</td>\n",
       "      <td>1778422</td>\n",
       "      <td>greens</td>\n",
       "      <td>2021</td>\n",
       "      <td>32</td>\n",
       "      <td>7</td>\n",
       "      <td>greens</td>\n",
       "    </tr>\n",
       "    <tr>\n",
       "      <th>160496</th>\n",
       "      <td>2021-07-26</td>\n",
       "      <td>Ciudad de México</td>\n",
       "      <td>Aragón</td>\n",
       "      <td>7</td>\n",
       "      <td>Costco</td>\n",
       "      <td>692</td>\n",
       "      <td>Lindavista</td>\n",
       "      <td>217640</td>\n",
       "      <td>mayonesa aguacate</td>\n",
       "      <td>2021</td>\n",
       "      <td>30</td>\n",
       "      <td>20</td>\n",
       "      <td>mayonesa aguacate</td>\n",
       "    </tr>\n",
       "    <tr>\n",
       "      <th>79203</th>\n",
       "      <td>2021-08-02</td>\n",
       "      <td>Ciudad de México</td>\n",
       "      <td>Condesa</td>\n",
       "      <td>7153</td>\n",
       "      <td>Parisina</td>\n",
       "      <td>19449</td>\n",
       "      <td>TARANGO - ATENDIENDO A PUERTA CERRADA COMUNICA...</td>\n",
       "      <td>686642</td>\n",
       "      <td>tela</td>\n",
       "      <td>2021</td>\n",
       "      <td>31</td>\n",
       "      <td>40</td>\n",
       "      <td>tela</td>\n",
       "    </tr>\n",
       "    <tr>\n",
       "      <th>100720</th>\n",
       "      <td>2021-08-02</td>\n",
       "      <td>Ciudad de México</td>\n",
       "      <td>Bosques</td>\n",
       "      <td>2449</td>\n",
       "      <td>Mora market</td>\n",
       "      <td>12535</td>\n",
       "      <td>Mora Market (Interlomas)</td>\n",
       "      <td>113915</td>\n",
       "      <td>nue</td>\n",
       "      <td>2021</td>\n",
       "      <td>31</td>\n",
       "      <td>22</td>\n",
       "      <td>nue</td>\n",
       "    </tr>\n",
       "  </tbody>\n",
       "</table>\n",
       "</div>"
      ]
     },
     "metadata": {},
     "execution_count": 14
    }
   ],
   "metadata": {}
  },
  {
   "cell_type": "code",
   "execution_count": 27,
   "source": [
    "to_omit.to_csv(BASE_DIR.joinpath('neighbors.csv'), index=False, sep='\\t', encoding='utf-16')\n",
    "df.to_csv(BASE_DIR.joinpath('grouped.csv'), index=False, sep='\\t', encoding='utf-16')"
   ],
   "outputs": [],
   "metadata": {}
  }
 ],
 "metadata": {
  "orig_nbformat": 4,
  "language_info": {
   "name": "python",
   "version": "3.9.1",
   "mimetype": "text/x-python",
   "codemirror_mode": {
    "name": "ipython",
    "version": 3
   },
   "pygments_lexer": "ipython3",
   "nbconvert_exporter": "python",
   "file_extension": ".py"
  },
  "kernelspec": {
   "name": "python3",
   "display_name": "Python 3.9.1 64-bit ('venv': venv)"
  },
  "interpreter": {
   "hash": "43c7e786f83339f88293178a498b997755bb834764969670e358492d0c4260ad"
  }
 },
 "nbformat": 4,
 "nbformat_minor": 2
}