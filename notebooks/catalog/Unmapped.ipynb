{
 "cells": [
  {
   "cell_type": "markdown",
   "id": "8f3cedba",
   "metadata": {},
   "source": [
    "# Unmapped"
   ]
  },
  {
   "cell_type": "markdown",
   "id": "95ec1824",
   "metadata": {},
   "source": [
    "## Import"
   ]
  },
  {
   "cell_type": "code",
   "execution_count": 1,
   "id": "454969bf",
   "metadata": {
    "ExecuteTime": {
     "end_time": "2021-06-02T14:58:49.420516Z",
     "start_time": "2021-06-02T14:58:49.417195Z"
    }
   },
   "outputs": [],
   "source": [
    "import sys\n",
    "sys.path.append('/Users/efraflores/Desktop/hub/playground/venv/lib/python3.9/site-packages')"
   ]
  },
  {
   "cell_type": "code",
   "execution_count": 2,
   "id": "c5f6c122",
   "metadata": {
    "ExecuteTime": {
     "end_time": "2021-06-02T14:58:51.075520Z",
     "start_time": "2021-06-02T14:58:50.329212Z"
    }
   },
   "outputs": [
    {
     "data": {
      "text/html": [
       "<div>\n",
       "<style scoped>\n",
       "    .dataframe tbody tr th:only-of-type {\n",
       "        vertical-align: middle;\n",
       "    }\n",
       "\n",
       "    .dataframe tbody tr th {\n",
       "        vertical-align: top;\n",
       "    }\n",
       "\n",
       "    .dataframe thead th {\n",
       "        text-align: right;\n",
       "    }\n",
       "</style>\n",
       "<table border=\"1\" class=\"dataframe\">\n",
       "  <thead>\n",
       "    <tr style=\"text-align: right;\">\n",
       "      <th></th>\n",
       "      <th>supply_id</th>\n",
       "      <th>name</th>\n",
       "      <th>package</th>\n",
       "      <th>brand</th>\n",
       "      <th>sku</th>\n",
       "      <th>catalog_product_id</th>\n",
       "      <th>productbranches</th>\n",
       "    </tr>\n",
       "  </thead>\n",
       "  <tbody>\n",
       "    <tr>\n",
       "      <th>25763</th>\n",
       "      <td>1903683</td>\n",
       "      <td>Ace Cacahuate Ines BOT Ml</td>\n",
       "      <td>250</td>\n",
       "      <td>NaN</td>\n",
       "      <td>3162163</td>\n",
       "      <td>353098.0</td>\n",
       "      <td>31</td>\n",
       "    </tr>\n",
       "  </tbody>\n",
       "</table>\n",
       "</div>"
      ],
      "text/plain": [
       "       supply_id                       name package brand      sku  \\\n",
       "25763    1903683  Ace Cacahuate Ines BOT Ml     250   NaN  3162163   \n",
       "\n",
       "       catalog_product_id  productbranches  \n",
       "25763            353098.0               31  "
      ]
     },
     "execution_count": 2,
     "metadata": {},
     "output_type": "execute_result"
    }
   ],
   "source": [
    "import os\n",
    "import pandas as pd\n",
    "\n",
    "BASE_DIR = '/Users/efraflores/Desktop/EF/Corner/Catalog/data'\n",
    "FILE_NAME = 'unmapped_chedraui.csv'\n",
    "\n",
    "df = pd.read_csv(os.path.join(BASE_DIR,FILE_NAME))\n",
    "df.sample()"
   ]
  },
  {
   "cell_type": "markdown",
   "id": "d0844738",
   "metadata": {},
   "source": [
    "## Why is it unmapped?"
   ]
  },
  {
   "cell_type": "markdown",
   "id": "dcb78bf1",
   "metadata": {
    "ExecuteTime": {
     "end_time": "2021-06-02T14:59:10.531266Z",
     "start_time": "2021-06-02T14:59:10.438027Z"
    }
   },
   "source": [
    "for val in df.columns:\n",
    "    print(val,'\\n'*2,df[val].value_counts(1,dropna=False),'\\n'*2)"
   ]
  },
  {
   "cell_type": "code",
   "execution_count": 4,
   "id": "2269a09a",
   "metadata": {
    "ExecuteTime": {
     "end_time": "2021-06-02T14:59:26.055268Z",
     "start_time": "2021-06-02T14:59:26.027078Z"
    }
   },
   "outputs": [
    {
     "name": "stdout",
     "output_type": "stream",
     "text": [
      "<class 'pandas.core.frame.DataFrame'>\n",
      "RangeIndex: 52920 entries, 0 to 52919\n",
      "Data columns (total 7 columns):\n",
      " #   Column              Non-Null Count  Dtype  \n",
      "---  ------              --------------  -----  \n",
      " 0   supply_id           52920 non-null  int64  \n",
      " 1   name                52920 non-null  object \n",
      " 2   package             35401 non-null  object \n",
      " 3   brand               472 non-null    object \n",
      " 4   sku                 52920 non-null  int64  \n",
      " 5   catalog_product_id  43647 non-null  float64\n",
      " 6   productbranches     52920 non-null  int64  \n",
      "dtypes: float64(1), int64(3), object(3)\n",
      "memory usage: 2.8+ MB\n"
     ]
    }
   ],
   "source": [
    "df.info()"
   ]
  },
  {
   "cell_type": "code",
   "execution_count": 7,
   "id": "98db4922",
   "metadata": {
    "ExecuteTime": {
     "end_time": "2021-06-02T15:01:14.165858Z",
     "start_time": "2021-06-02T15:01:14.125077Z"
    }
   },
   "outputs": [
    {
     "data": {
      "text/plain": [
       "supply_id             0.000000\n",
       "name                  0.000000\n",
       "package               0.331047\n",
       "brand                 0.991081\n",
       "sku                   0.000000\n",
       "catalog_product_id    0.175227\n",
       "productbranches       0.000000\n",
       "dtype: float64"
      ]
     },
     "execution_count": 7,
     "metadata": {},
     "output_type": "execute_result"
    }
   ],
   "source": [
    "df.isnull().mean()"
   ]
  },
  {
   "cell_type": "code",
   "execution_count": 8,
   "id": "db45bc80",
   "metadata": {
    "ExecuteTime": {
     "end_time": "2021-06-02T15:01:30.925905Z",
     "start_time": "2021-06-02T15:01:30.900289Z"
    }
   },
   "outputs": [
    {
     "data": {
      "text/html": [
       "<div>\n",
       "<style scoped>\n",
       "    .dataframe tbody tr th:only-of-type {\n",
       "        vertical-align: middle;\n",
       "    }\n",
       "\n",
       "    .dataframe tbody tr th {\n",
       "        vertical-align: top;\n",
       "    }\n",
       "\n",
       "    .dataframe thead th {\n",
       "        text-align: right;\n",
       "    }\n",
       "</style>\n",
       "<table border=\"1\" class=\"dataframe\">\n",
       "  <thead>\n",
       "    <tr style=\"text-align: right;\">\n",
       "      <th></th>\n",
       "      <th>supply_id</th>\n",
       "      <th>name</th>\n",
       "      <th>package</th>\n",
       "      <th>brand</th>\n",
       "      <th>sku</th>\n",
       "      <th>catalog_product_id</th>\n",
       "      <th>productbranches</th>\n",
       "    </tr>\n",
       "  </thead>\n",
       "  <tbody>\n",
       "    <tr>\n",
       "      <th>0</th>\n",
       "      <td>37616784</td>\n",
       "      <td>Sazonador Pereg Kabab Gr</td>\n",
       "      <td>120</td>\n",
       "      <td>NaN</td>\n",
       "      <td>3693218</td>\n",
       "      <td>NaN</td>\n",
       "      <td>20</td>\n",
       "    </tr>\n",
       "    <tr>\n",
       "      <th>5</th>\n",
       "      <td>35431951</td>\n",
       "      <td>PGanga Machacador Hut Simple Kitchen</td>\n",
       "      <td>NaN</td>\n",
       "      <td>NaN</td>\n",
       "      <td>3684264</td>\n",
       "      <td>NaN</td>\n",
       "      <td>20</td>\n",
       "    </tr>\n",
       "    <tr>\n",
       "      <th>11</th>\n",
       "      <td>27889184</td>\n",
       "      <td>Flotadores Sporteam De brazos x cm</td>\n",
       "      <td>20 - 20</td>\n",
       "      <td>NaN</td>\n",
       "      <td>3675671</td>\n",
       "      <td>NaN</td>\n",
       "      <td>12</td>\n",
       "    </tr>\n",
       "    <tr>\n",
       "      <th>19</th>\n",
       "      <td>1921606</td>\n",
       "      <td>Candado Tru Lock Combina Digitos Pz</td>\n",
       "      <td>3 - 1</td>\n",
       "      <td>NaN</td>\n",
       "      <td>3357557</td>\n",
       "      <td>NaN</td>\n",
       "      <td>2</td>\n",
       "    </tr>\n",
       "    <tr>\n",
       "      <th>22</th>\n",
       "      <td>23578161</td>\n",
       "      <td>Maleta Plata Mediana ABS165-SLVR-24</td>\n",
       "      <td>NaN</td>\n",
       "      <td>NaN</td>\n",
       "      <td>3643544</td>\n",
       "      <td>NaN</td>\n",
       "      <td>4</td>\n",
       "    </tr>\n",
       "    <tr>\n",
       "      <th>...</th>\n",
       "      <td>...</td>\n",
       "      <td>...</td>\n",
       "      <td>...</td>\n",
       "      <td>...</td>\n",
       "      <td>...</td>\n",
       "      <td>...</td>\n",
       "      <td>...</td>\n",
       "    </tr>\n",
       "    <tr>\n",
       "      <th>52902</th>\n",
       "      <td>4475774</td>\n",
       "      <td>Hogaza con Ajonjolí</td>\n",
       "      <td>NaN</td>\n",
       "      <td>NaN</td>\n",
       "      <td>3612538</td>\n",
       "      <td>NaN</td>\n",
       "      <td>20</td>\n",
       "    </tr>\n",
       "    <tr>\n",
       "      <th>52903</th>\n",
       "      <td>27440299</td>\n",
       "      <td>Moto Italika ATV180 Verde</td>\n",
       "      <td>NaN</td>\n",
       "      <td>NaN</td>\n",
       "      <td>3674808</td>\n",
       "      <td>NaN</td>\n",
       "      <td>8</td>\n",
       "    </tr>\n",
       "    <tr>\n",
       "      <th>52907</th>\n",
       "      <td>35277813</td>\n",
       "      <td>Alegrías Arantto Barra Chocolate g</td>\n",
       "      <td>150</td>\n",
       "      <td>NaN</td>\n",
       "      <td>3678715</td>\n",
       "      <td>NaN</td>\n",
       "      <td>51</td>\n",
       "    </tr>\n",
       "    <tr>\n",
       "      <th>52911</th>\n",
       "      <td>20826214</td>\n",
       "      <td>Chile Relleno</td>\n",
       "      <td>NaN</td>\n",
       "      <td>NaN</td>\n",
       "      <td>3645531</td>\n",
       "      <td>NaN</td>\n",
       "      <td>24</td>\n",
       "    </tr>\n",
       "    <tr>\n",
       "      <th>52915</th>\n",
       "      <td>37911288</td>\n",
       "      <td>Snack Real Natural Higos Organ Gr</td>\n",
       "      <td>142</td>\n",
       "      <td>NaN</td>\n",
       "      <td>3695019</td>\n",
       "      <td>NaN</td>\n",
       "      <td>16</td>\n",
       "    </tr>\n",
       "  </tbody>\n",
       "</table>\n",
       "<p>9273 rows × 7 columns</p>\n",
       "</div>"
      ],
      "text/plain": [
       "       supply_id                                  name  package brand  \\\n",
       "0       37616784              Sazonador Pereg Kabab Gr      120   NaN   \n",
       "5       35431951  PGanga Machacador Hut Simple Kitchen      NaN   NaN   \n",
       "11      27889184    Flotadores Sporteam De brazos x cm  20 - 20   NaN   \n",
       "19       1921606   Candado Tru Lock Combina Digitos Pz    3 - 1   NaN   \n",
       "22      23578161   Maleta Plata Mediana ABS165-SLVR-24      NaN   NaN   \n",
       "...          ...                                   ...      ...   ...   \n",
       "52902    4475774                   Hogaza con Ajonjolí      NaN   NaN   \n",
       "52903   27440299             Moto Italika ATV180 Verde      NaN   NaN   \n",
       "52907   35277813    Alegrías Arantto Barra Chocolate g      150   NaN   \n",
       "52911   20826214                         Chile Relleno      NaN   NaN   \n",
       "52915   37911288     Snack Real Natural Higos Organ Gr      142   NaN   \n",
       "\n",
       "           sku  catalog_product_id  productbranches  \n",
       "0      3693218                 NaN               20  \n",
       "5      3684264                 NaN               20  \n",
       "11     3675671                 NaN               12  \n",
       "19     3357557                 NaN                2  \n",
       "22     3643544                 NaN                4  \n",
       "...        ...                 ...              ...  \n",
       "52902  3612538                 NaN               20  \n",
       "52903  3674808                 NaN                8  \n",
       "52907  3678715                 NaN               51  \n",
       "52911  3645531                 NaN               24  \n",
       "52915  3695019                 NaN               16  \n",
       "\n",
       "[9273 rows x 7 columns]"
      ]
     },
     "execution_count": 8,
     "metadata": {},
     "output_type": "execute_result"
    }
   ],
   "source": [
    "df[df['catalog_product_id'].isnull()]"
   ]
  }
 ],
 "metadata": {
  "kernelspec": {
   "display_name": "Python 3",
   "language": "python",
   "name": "python3"
  },
  "language_info": {
   "codemirror_mode": {
    "name": "ipython",
    "version": 3
   },
   "file_extension": ".py",
   "mimetype": "text/x-python",
   "name": "python",
   "nbconvert_exporter": "python",
   "pygments_lexer": "ipython3",
   "version": "3.9.1"
  },
  "toc": {
   "base_numbering": 1,
   "nav_menu": {},
   "number_sections": true,
   "sideBar": true,
   "skip_h1_title": true,
   "title_cell": "Table of Contents",
   "title_sidebar": "Contents",
   "toc_cell": false,
   "toc_position": {},
   "toc_section_display": true,
   "toc_window_display": false
  },
  "varInspector": {
   "cols": {
    "lenName": 16,
    "lenType": 16,
    "lenVar": 40
   },
   "kernels_config": {
    "python": {
     "delete_cmd_postfix": "",
     "delete_cmd_prefix": "del ",
     "library": "var_list.py",
     "varRefreshCmd": "print(var_dic_list())"
    },
    "r": {
     "delete_cmd_postfix": ") ",
     "delete_cmd_prefix": "rm(",
     "library": "var_list.r",
     "varRefreshCmd": "cat(var_dic_list()) "
    }
   },
   "types_to_exclude": [
    "module",
    "function",
    "builtin_function_or_method",
    "instance",
    "_Feature"
   ],
   "window_display": false
  }
 },
 "nbformat": 4,
 "nbformat_minor": 5
}
