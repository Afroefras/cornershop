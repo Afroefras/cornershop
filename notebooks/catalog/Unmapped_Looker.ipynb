{
 "cells": [
  {
   "cell_type": "markdown",
   "id": "f822ad9f",
   "metadata": {},
   "source": [
    "# Unmapped Looker"
   ]
  },
  {
   "cell_type": "markdown",
   "id": "d2568d76",
   "metadata": {},
   "source": [
    "## Import"
   ]
  },
  {
   "cell_type": "code",
   "execution_count": 40,
   "id": "97117c4f",
   "metadata": {
    "ExecuteTime": {
     "end_time": "2021-06-03T21:44:47.425081Z",
     "start_time": "2021-06-03T21:44:47.421014Z"
    }
   },
   "outputs": [],
   "source": [
    "import sys\n",
    "sys.path.append('/Users/efraflores/Desktop/hub/playground/venv/lib/python3.9/site-packages')"
   ]
  },
  {
   "cell_type": "code",
   "execution_count": 41,
   "id": "2bc938c2",
   "metadata": {
    "ExecuteTime": {
     "end_time": "2021-06-03T21:44:47.608897Z",
     "start_time": "2021-06-03T21:44:47.428700Z"
    },
    "scrolled": true
   },
   "outputs": [
    {
     "data": {
      "text/html": [
       "<div>\n",
       "<style scoped>\n",
       "    .dataframe tbody tr th:only-of-type {\n",
       "        vertical-align: middle;\n",
       "    }\n",
       "\n",
       "    .dataframe tbody tr th {\n",
       "        vertical-align: top;\n",
       "    }\n",
       "\n",
       "    .dataframe thead th {\n",
       "        text-align: right;\n",
       "    }\n",
       "</style>\n",
       "<table border=\"1\" class=\"dataframe\">\n",
       "  <thead>\n",
       "    <tr style=\"text-align: right;\">\n",
       "      <th></th>\n",
       "      <th>Catalog Store ID</th>\n",
       "      <th>Catalog Store Name</th>\n",
       "      <th>Catalog Branch ID</th>\n",
       "      <th>Catalog Internal Branch ID</th>\n",
       "      <th>Catalog Branch Name</th>\n",
       "      <th>Product ID</th>\n",
       "      <th>Catalog Productbranch ID</th>\n",
       "      <th>Catalog Product Name</th>\n",
       "      <th>Catalog Product Brand</th>\n",
       "      <th>Catalog Product Package</th>\n",
       "      <th>...</th>\n",
       "      <th>Catalog Productbranch Availability Status</th>\n",
       "      <th>last_visited &gt;= supply_source_date.finish (Yes / No)</th>\n",
       "      <th>Supply Product ID</th>\n",
       "      <th>Catalog Product ID</th>\n",
       "      <th>Supply Product SKU</th>\n",
       "      <th>Supply Category</th>\n",
       "      <th>Supply Productbranch Stock</th>\n",
       "      <th>Catalog Productbranch Price</th>\n",
       "      <th>Last Visited Date</th>\n",
       "      <th>Popularity</th>\n",
       "    </tr>\n",
       "  </thead>\n",
       "  <tbody>\n",
       "    <tr>\n",
       "      <th>21792</th>\n",
       "      <td>97</td>\n",
       "      <td>Vinoteca</td>\n",
       "      <td>903</td>\n",
       "      <td>NaN</td>\n",
       "      <td>San Agustín</td>\n",
       "      <td>338236</td>\n",
       "      <td>41569902</td>\n",
       "      <td>Jugo de tomate el original con almeja</td>\n",
       "      <td>Clamato</td>\n",
       "      <td>946 ml</td>\n",
       "      <td>...</td>\n",
       "      <td>AVAILABLE</td>\n",
       "      <td>Yes</td>\n",
       "      <td>14145379.0</td>\n",
       "      <td>338236.0</td>\n",
       "      <td>M18002</td>\n",
       "      <td>alimento y bebidas / jugos y nectares</td>\n",
       "      <td>6.0</td>\n",
       "      <td>33.03</td>\n",
       "      <td>2021-06-03</td>\n",
       "      <td>998</td>\n",
       "    </tr>\n",
       "  </tbody>\n",
       "</table>\n",
       "<p>1 rows × 26 columns</p>\n",
       "</div>"
      ],
      "text/plain": [
       "       Catalog Store ID Catalog Store Name  Catalog Branch ID  \\\n",
       "21792                97           Vinoteca                903   \n",
       "\n",
       "      Catalog Internal Branch ID Catalog Branch Name  Product ID  \\\n",
       "21792                        NaN         San Agustín      338236   \n",
       "\n",
       "       Catalog Productbranch ID                   Catalog Product Name  \\\n",
       "21792                  41569902  Jugo de tomate el original con almeja   \n",
       "\n",
       "      Catalog Product Brand Catalog Product Package  ...  \\\n",
       "21792               Clamato                  946 ml  ...   \n",
       "\n",
       "      Catalog Productbranch Availability Status  \\\n",
       "21792                                 AVAILABLE   \n",
       "\n",
       "       last_visited >= supply_source_date.finish (Yes / No) Supply Product ID  \\\n",
       "21792                                                Yes           14145379.0   \n",
       "\n",
       "       Catalog Product ID Supply Product SKU  \\\n",
       "21792            338236.0             M18002   \n",
       "\n",
       "                             Supply Category Supply Productbranch Stock  \\\n",
       "21792  alimento y bebidas / jugos y nectares                        6.0   \n",
       "\n",
       "      Catalog Productbranch Price  Last Visited Date  Popularity  \n",
       "21792                       33.03         2021-06-03         998  \n",
       "\n",
       "[1 rows x 26 columns]"
      ]
     },
     "execution_count": 41,
     "metadata": {},
     "output_type": "execute_result"
    }
   ],
   "source": [
    "import os\n",
    "import pandas as pd\n",
    "\n",
    "BASE_DIR = '/Users/efraflores/Desktop/EF/Corner/Catalog/data'\n",
    "STORE = 'vinoteca'\n",
    "\n",
    "df = pd.read_csv(os.path.join(BASE_DIR,'map_'+STORE+'.csv'))\n",
    "    \n",
    "df.columns = [str(x)[16:] for x in df.columns]\n",
    "df.sample()"
   ]
  },
  {
   "cell_type": "markdown",
   "id": "d83fb62e",
   "metadata": {},
   "source": [
    "## Null"
   ]
  },
  {
   "cell_type": "code",
   "execution_count": 42,
   "id": "f29c4731",
   "metadata": {
    "ExecuteTime": {
     "end_time": "2021-06-03T21:44:47.635923Z",
     "start_time": "2021-06-03T21:44:47.612293Z"
    }
   },
   "outputs": [
    {
     "data": {
      "text/plain": [
       "Catalog Store ID                                        0.000000\n",
       "Catalog Store Name                                      0.000000\n",
       "Catalog Branch ID                                       0.000000\n",
       "Catalog Internal Branch ID                              0.885010\n",
       "Catalog Branch Name                                     0.000000\n",
       "Product ID                                              0.000000\n",
       "Catalog Productbranch ID                                0.000000\n",
       "Catalog Product Name                                    0.000000\n",
       "Catalog Product Brand                                   0.054706\n",
       "Catalog Product Package                                 0.315084\n",
       "Catalog Product SKU                                     0.357742\n",
       "Category ID                                             0.000426\n",
       "Category Name                                           0.000426\n",
       "Parent Category ID                                      0.000426\n",
       "Parent Category Name                                    0.000426\n",
       "Catalog Product Barcodes                                0.005279\n",
       "Catalog Productbranch Availability Status               0.000000\n",
       "last_visited >= supply_source_date.finish (Yes / No)    0.000000\n",
       "Supply Product ID                                       0.384648\n",
       "Catalog Product ID                                      0.384648\n",
       "Supply Product SKU                                      0.384648\n",
       "Supply Category                                         0.384648\n",
       "Supply Productbranch Stock                              0.384648\n",
       "Catalog Productbranch Price                             0.000000\n",
       "Last Visited Date                                       0.384648\n",
       "Popularity                                              0.384648\n",
       "dtype: float64"
      ]
     },
     "execution_count": 42,
     "metadata": {},
     "output_type": "execute_result"
    }
   ],
   "source": [
    "df.isnull().mean()"
   ]
  },
  {
   "cell_type": "code",
   "execution_count": 43,
   "id": "d9cc34c3",
   "metadata": {
    "ExecuteTime": {
     "end_time": "2021-06-03T21:44:47.664687Z",
     "start_time": "2021-06-03T21:44:47.639932Z"
    }
   },
   "outputs": [
    {
     "data": {
      "text/html": [
       "<div>\n",
       "<style scoped>\n",
       "    .dataframe tbody tr th:only-of-type {\n",
       "        vertical-align: middle;\n",
       "    }\n",
       "\n",
       "    .dataframe tbody tr th {\n",
       "        vertical-align: top;\n",
       "    }\n",
       "\n",
       "    .dataframe thead th {\n",
       "        text-align: right;\n",
       "    }\n",
       "</style>\n",
       "<table border=\"1\" class=\"dataframe\">\n",
       "  <thead>\n",
       "    <tr style=\"text-align: right;\">\n",
       "      <th></th>\n",
       "      <th>Catalog Product SKU</th>\n",
       "      <th>Product ID</th>\n",
       "      <th>Catalog Product Name</th>\n",
       "    </tr>\n",
       "  </thead>\n",
       "  <tbody>\n",
       "    <tr>\n",
       "      <th>1912</th>\n",
       "      <td>VHT33215</td>\n",
       "      <td>384216</td>\n",
       "      <td>Punta Nogal Cabernet Sauvignon 750 ml</td>\n",
       "    </tr>\n",
       "  </tbody>\n",
       "</table>\n",
       "</div>"
      ],
      "text/plain": [
       "     Catalog Product SKU  Product ID                   Catalog Product Name\n",
       "1912            VHT33215      384216  Punta Nogal Cabernet Sauvignon 750 ml"
      ]
     },
     "execution_count": 43,
     "metadata": {},
     "output_type": "execute_result"
    }
   ],
   "source": [
    "df[df['Supply Product ID'].isnull()][['Catalog Product SKU','Product ID','Catalog Product Name']].sample()"
   ]
  },
  {
   "cell_type": "code",
   "execution_count": 44,
   "id": "a5ca28d7",
   "metadata": {
    "ExecuteTime": {
     "end_time": "2021-06-03T21:44:47.699886Z",
     "start_time": "2021-06-03T21:44:47.668637Z"
    }
   },
   "outputs": [
    {
     "data": {
      "text/plain": [
       "'601092,383861,383762,352928,384310,383819,598173,384071,1217172,383908,384216,383889,384279,1124178,384129,383854,323736,1603810,1993289,384058,383802,384080,384075,1216661,383862,384595,368277,594615,383952,1579801,383916,383779,384016,384054,383703,383746,383836,2408323,353229,384260,1149644,384143,383910,383895,1217385,361105,340517,356499,383933,313193,383909,493895,357317,384097,383929,422352,384093,280337,384055,383758,384035,383849,2408324,1155402,1155818,383877,355943,1155815,375340,384015,383780,362373,384140,605904,2279192,383947,2043400,1245639,384291,383869,383898,383878,274325,1603970,384094,383943,1245642,383851,353249,1008145,383833,1012021,384100,357153,1009515,1155632,383706,383689,383902,374966,384051,1159501,2161177,1004406,597804,384099,1604152,384107,1001762,383691,137643,384101,384121,320467,383742,356077,384061,384264,383857,368209,383828,1993264,384013,375291,383882,383906,384203,2161179,383793,383887,323718,383925,390583,94260,129848,389526,1871167,2407329,384311,384018,383622,384294,2224607,384193,384137,383890,139322,383296,384292,544010,2255908,383948,598176,324439,383770,383879,380342,384067,383471,1898114,357490,384280,384064,383658,1604151,313349,383863,384032,384052,1228263,383708,321375,594573,383825,602614,384041,344148,1217050,320464,384102,383777,384031,141675,383615,384025,384109,384154,384008,383803,384046,2060202,383859,1230746,2407327,354295,383816,383886,385216,374899,182471,1259716,383896,339807,383894,375796,383679,375066,384077,383764,346098,384038,383688,384314,384111,137620,344260,384024,384056,220847,383944,384082,344375,383937,383669,383867,383912,389157,383919,384040,383348,1129115,591566,3018258,383773,384085,366077,383705,390537,384036,384091,383945,2408561,384042,384053,383870,384063,1160121,384050,384148,384306,384313,384059,383698,383715,383844,365045,383738,383674,384124,384110,383914,383796,384108,137464,383942,383748,383873,384017,383904,384274,384204,383953,383931,1604567,2021245,383701,607112,383868,384005,383872,384145,383951,384123,1897939,383799,2043290,384023,383941,384084,384112,1499513,323640,598282,384012,1150186,191072,383692,383823,384116,384095,1155405,355526,605751,317838,342000,1152045,362382,384106,383815,383781,383831,383893,2408562,383620,257953,383826,384269,383888,384072,383853,383794,383891,383697,1155450,384062,323514,315878,129840,137533,384078,386827,352963,383254,384278,383745,383885,384288,384202,597444,2334719,383881,1217210,383940,1233777,281975,384142,383766,383949,1010754,384065,343770,141532,2065172,384293,383913,384092,597355,384211,383926,383763,383892,355389,383835,384259,384073,606218,604789,384026,390055,384150,210222,375179,384132,1010426,383950,374921,383845,383818,273803,320514,383778,384019,352948,281333,384029,383449,384049,383824,383875,390357,384027,140128,384207,2060196,170519,384155,2457798,383922,689865,383726,614376,606366,383837,363385,317836,362442,1216321,384074,383954,383721,384034,2161160,384022,384096,383817,383955,1245656,383693,384039,383695,341909,384033,383864,383915,339806,362683,384020,594908,383663,273774,312416,383720,1499489,375659,383390,134134,384011,383743,446841,384010,1604553,384272,384171,383545,384131,367441,384166,384069,384090,593224,1001777,384043,2407326,384146,383897,383364,592694,384271,384045,598383,487841,383924,384267,383704,384057,140496,1006811,383717,141491,544015,384175,323719,344896,368480,384083,384141,384103,166392,384174,383907,384115,384308,1240827,384021,384169,2113824,383673,334121,384167,384206,341570,314019,383814,129841,383830,383921,383927,383900,383934,383932,384159,1001769,383686,313182,598380,345766,384240,544002,317839,384081,384138,384098,383938,1499491,384305,367567,1604154,390265,383630,1603945,384200,383918,384028,383834,383880,383690,384249,384070,383685,384030,140071,383804,383847,597483,383676,384270,1245634,383876,384066,383860,383865,384233,384139,383684'"
      ]
     },
     "execution_count": 44,
     "metadata": {},
     "output_type": "execute_result"
    }
   ],
   "source": [
    "','.join(set(df[df['Supply Product ID'].isnull()]['Product ID'].dropna().astype(int).astype(str)))"
   ]
  },
  {
   "cell_type": "code",
   "execution_count": null,
   "id": "04ab1cd0",
   "metadata": {},
   "outputs": [],
   "source": []
  }
 ],
 "metadata": {
  "kernelspec": {
   "display_name": "Python 3",
   "language": "python",
   "name": "python3"
  },
  "language_info": {
   "codemirror_mode": {
    "name": "ipython",
    "version": 3
   },
   "file_extension": ".py",
   "mimetype": "text/x-python",
   "name": "python",
   "nbconvert_exporter": "python",
   "pygments_lexer": "ipython3",
   "version": "3.9.1"
  },
  "toc": {
   "base_numbering": 1,
   "nav_menu": {},
   "number_sections": true,
   "sideBar": true,
   "skip_h1_title": true,
   "title_cell": "Table of Contents",
   "title_sidebar": "Contents",
   "toc_cell": false,
   "toc_position": {},
   "toc_section_display": true,
   "toc_window_display": false
  },
  "varInspector": {
   "cols": {
    "lenName": 16,
    "lenType": 16,
    "lenVar": 40
   },
   "kernels_config": {
    "python": {
     "delete_cmd_postfix": "",
     "delete_cmd_prefix": "del ",
     "library": "var_list.py",
     "varRefreshCmd": "print(var_dic_list())"
    },
    "r": {
     "delete_cmd_postfix": ") ",
     "delete_cmd_prefix": "rm(",
     "library": "var_list.r",
     "varRefreshCmd": "cat(var_dic_list()) "
    }
   },
   "types_to_exclude": [
    "module",
    "function",
    "builtin_function_or_method",
    "instance",
    "_Feature"
   ],
   "window_display": false
  }
 },
 "nbformat": 4,
 "nbformat_minor": 5
}
