{
 "cells": [
  {
   "cell_type": "markdown",
   "id": "9f4aa819",
   "metadata": {},
   "source": [
    "# Unmapped Metabase"
   ]
  },
  {
   "cell_type": "code",
   "execution_count": 1,
   "id": "e88e8efb",
   "metadata": {
    "ExecuteTime": {
     "end_time": "2021-06-29T20:43:33.320240Z",
     "start_time": "2021-06-29T20:43:33.311271Z"
    }
   },
   "outputs": [],
   "source": [
    "BASE_DIR = '/Users/efraflores/Desktop/EF/Corner/Catalog/Unmapped/data'\n",
    "STORE = 'alianza'"
   ]
  },
  {
   "cell_type": "markdown",
   "id": "42e2f40c",
   "metadata": {
    "heading_collapsed": true
   },
   "source": [
    "## Import"
   ]
  },
  {
   "cell_type": "code",
   "execution_count": 2,
   "id": "83dd1a1d",
   "metadata": {
    "ExecuteTime": {
     "end_time": "2021-06-29T20:43:33.325248Z",
     "start_time": "2021-06-29T20:43:33.322686Z"
    },
    "hidden": true
   },
   "outputs": [],
   "source": [
    "import sys\n",
    "sys.path.append('/Users/efraflores/Desktop/hub/cornershop/venv/lib/python3.9/site-packages')"
   ]
  },
  {
   "cell_type": "code",
   "execution_count": 3,
   "id": "0030539d",
   "metadata": {
    "ExecuteTime": {
     "end_time": "2021-06-29T20:43:34.227648Z",
     "start_time": "2021-06-29T20:43:33.328822Z"
    },
    "hidden": true
   },
   "outputs": [
    {
     "data": {
      "text/html": [
       "<div>\n",
       "<style scoped>\n",
       "    .dataframe tbody tr th:only-of-type {\n",
       "        vertical-align: middle;\n",
       "    }\n",
       "\n",
       "    .dataframe tbody tr th {\n",
       "        vertical-align: top;\n",
       "    }\n",
       "\n",
       "    .dataframe thead th {\n",
       "        text-align: right;\n",
       "    }\n",
       "</style>\n",
       "<table border=\"1\" class=\"dataframe\">\n",
       "  <thead>\n",
       "    <tr style=\"text-align: right;\">\n",
       "      <th></th>\n",
       "      <th>store_id</th>\n",
       "      <th>catalog_product_id</th>\n",
       "      <th>branch</th>\n",
       "      <th>productbranch_id</th>\n",
       "      <th>price</th>\n",
       "    </tr>\n",
       "  </thead>\n",
       "  <tbody>\n",
       "    <tr>\n",
       "      <th>119197</th>\n",
       "      <td>98</td>\n",
       "      <td>1898031</td>\n",
       "      <td>941</td>\n",
       "      <td>58463445</td>\n",
       "      <td>131.0</td>\n",
       "    </tr>\n",
       "  </tbody>\n",
       "</table>\n",
       "</div>"
      ],
      "text/plain": [
       "        store_id  catalog_product_id  branch  productbranch_id  price\n",
       "119197        98             1898031     941          58463445  131.0"
      ]
     },
     "metadata": {},
     "output_type": "display_data"
    },
    {
     "data": {
      "text/html": [
       "<div>\n",
       "<style scoped>\n",
       "    .dataframe tbody tr th:only-of-type {\n",
       "        vertical-align: middle;\n",
       "    }\n",
       "\n",
       "    .dataframe tbody tr th {\n",
       "        vertical-align: top;\n",
       "    }\n",
       "\n",
       "    .dataframe thead th {\n",
       "        text-align: right;\n",
       "    }\n",
       "</style>\n",
       "<table border=\"1\" class=\"dataframe\">\n",
       "  <thead>\n",
       "    <tr style=\"text-align: right;\">\n",
       "      <th></th>\n",
       "      <th>sku_source</th>\n",
       "      <th>supply_product_id</th>\n",
       "      <th>catalog_product_id</th>\n",
       "      <th>name</th>\n",
       "      <th>barcode</th>\n",
       "      <th>branch</th>\n",
       "      <th>price_mode</th>\n",
       "      <th>stock</th>\n",
       "      <th>min_last_visit</th>\n",
       "    </tr>\n",
       "  </thead>\n",
       "  <tbody>\n",
       "    <tr>\n",
       "      <th>5390</th>\n",
       "      <td>mx-bodegasalianza-csv</td>\n",
       "      <td>14137653</td>\n",
       "      <td>4093829.0</td>\n",
       "      <td>Sidra alianza ambar</td>\n",
       "      <td>7.503009e+12</td>\n",
       "      <td>7657.0</td>\n",
       "      <td>62.0</td>\n",
       "      <td>52</td>\n",
       "      <td>2021-06-25T16:30:58.834762Z</td>\n",
       "    </tr>\n",
       "  </tbody>\n",
       "</table>\n",
       "</div>"
      ],
      "text/plain": [
       "                 sku_source  supply_product_id  catalog_product_id  \\\n",
       "5390  mx-bodegasalianza-csv           14137653           4093829.0   \n",
       "\n",
       "                     name       barcode  branch  price_mode  stock  \\\n",
       "5390  Sidra alianza ambar  7.503009e+12  7657.0        62.0     52   \n",
       "\n",
       "                   min_last_visit  \n",
       "5390  2021-06-25T16:30:58.834762Z  "
      ]
     },
     "metadata": {},
     "output_type": "display_data"
    }
   ],
   "source": [
    "import os\n",
    "import time\n",
    "import numpy as np\n",
    "import pandas as pd\n",
    "from IPython.lib.display import Audio\n",
    "\n",
    "prod = pd.read_csv(os.path.join(BASE_DIR,f'prod_{STORE}.csv')).drop_duplicates()\n",
    "supply = pd.read_csv(os.path.join(BASE_DIR,f'supply_{STORE}.csv')).drop_duplicates()\n",
    "\n",
    "display(prod.sample())\n",
    "display(supply.sample())"
   ]
  },
  {
   "cell_type": "markdown",
   "id": "aff6f2fc",
   "metadata": {
    "heading_collapsed": true
   },
   "source": [
    "## Functions"
   ]
  },
  {
   "cell_type": "markdown",
   "id": "21a8bba7",
   "metadata": {
    "heading_collapsed": true,
    "hidden": true
   },
   "source": [
    "### Timing and tone"
   ]
  },
  {
   "cell_type": "code",
   "execution_count": 4,
   "id": "b978950c",
   "metadata": {
    "ExecuteTime": {
     "end_time": "2021-06-29T20:43:34.237794Z",
     "start_time": "2021-06-29T20:43:34.230256Z"
    },
    "hidden": true
   },
   "outputs": [],
   "source": [
    "start = time.time()\n",
    "def time_exp(x):\n",
    "    minutes, seconds = np.floor(x/60), 60*(x/60-np.floor(x/60))\n",
    "    print(f\"{'{:.0f}'.format(minutes)} minutos con {'{:.2f}'.format(seconds)} segundos\")\n",
    "    \n",
    "def tono(a = 1000, b = 700, play_time_seconds = 1, framerate = 4410):\n",
    "    t = np.linspace(0, play_time_seconds, framerate*play_time_seconds)*np.pi\n",
    "    return Audio(np.sin(a*t) + np.sin(b*t), rate = framerate, autoplay=True)"
   ]
  },
  {
   "cell_type": "markdown",
   "id": "48d30082",
   "metadata": {
    "heading_collapsed": true,
    "hidden": true
   },
   "source": [
    "### Batches"
   ]
  },
  {
   "cell_type": "code",
   "execution_count": 5,
   "id": "9a59b262",
   "metadata": {
    "ExecuteTime": {
     "end_time": "2021-06-29T20:43:34.244839Z",
     "start_time": "2021-06-29T20:43:34.240519Z"
    },
    "hidden": true
   },
   "outputs": [],
   "source": [
    "def batches(base_dir,store,data,size=10000):\n",
    "    df = data.copy()\n",
    "    n = 0\n",
    "    for i in range(int(np.ceil(len(df)/size))):\n",
    "        batch = df.iloc[n:n+size-1,:]\n",
    "        batch.to_excel(os.path.join(base_dir,f'bulk_{store}_{str(i+1).zfill(2)}.xlsx'),index=False)\n",
    "        n += size\n",
    "    print(f'The file with {len(df)} rows has been split up into {i+1} batches of {size} rows each')"
   ]
  },
  {
   "cell_type": "markdown",
   "id": "8324cc7f",
   "metadata": {
    "heading_collapsed": true,
    "hidden": true
   },
   "source": [
    "### Summary"
   ]
  },
  {
   "cell_type": "code",
   "execution_count": 6,
   "id": "95b206a7",
   "metadata": {
    "ExecuteTime": {
     "end_time": "2021-06-29T20:43:34.251593Z",
     "start_time": "2021-06-29T20:43:34.247123Z"
    },
    "hidden": true
   },
   "outputs": [],
   "source": [
    "def summary():\n",
    "    print(f\"Para la tienda {STORE.title()}, los productbranch se distribuyen:\\\n",
    "    \\n-Catálogo\\t{len(prod)}\\\n",
    "    \\n-Supply\\t\\t{len(supply)}\\\n",
    "    \\n-Sin mapear\\t{len(unmapped)+len(brands)}\\t({'{:.1%}'.format((len(unmapped)+len(brands))/len(full))})\\\n",
    "    \\n -Brands\\t{len(branch_brands)}\\\n",
    "    \\n -Sin órdenes\\t{len(df[df['order_products']==0])}\\\n",
    "    \\n -Buen perform\\t{len(good_perf)}\\t(FR {'{:.1%}'.format(good_perf['fr'].mean())})\\\n",
    "    \\n -Mal perform\\t{len(bad_fr)}\\t(FR {'{:.1%}'.format(bad_fr['fr'].mean())})\\\n",
    "    \\n -Markup +-3%\\t{len(mk)}\\t(MK {int(mk['mk_tot'].sum())}, {'{:.1%}'.format(mk['mk_tot'].sum()/mk['sales'].sum())})\\\n",
    "    \\n\\n-Por desactivar\\t{len(bad_perf)}\\t({'{:.1%}'.format(len(bad_perf)/len(prod))})\\\n",
    "    \\n -Productos \\t{len(bad_perf.groupby('catalog_product_id')['store_id'].count())}\\\n",
    "    \\n -Orders_prod\\t{int(bad_perf['order_products'].sum())}\\t({'{:.1%}'.format(bad_perf['order_products'].sum()/total['order_products'].sum())})\\\n",
    "    \\n -Ventas $ \\t{int(bad_perf['sales'].sum())}\\t({'{:.1%}'.format(bad_perf['sales'].sum()/total['sales'].sum())})\")"
   ]
  },
  {
   "cell_type": "markdown",
   "id": "95ec3cbe",
   "metadata": {
    "heading_collapsed": true
   },
   "source": [
    "## Unmapped from prod"
   ]
  },
  {
   "cell_type": "code",
   "execution_count": 7,
   "id": "319df3fd",
   "metadata": {
    "ExecuteTime": {
     "end_time": "2021-06-29T20:43:34.410209Z",
     "start_time": "2021-06-29T20:43:34.256209Z"
    },
    "hidden": true
   },
   "outputs": [
    {
     "data": {
      "text/plain": [
       "store_id              0.000000\n",
       "catalog_product_id    0.000000\n",
       "branch                0.000000\n",
       "productbranch_id      0.000000\n",
       "price                 0.000000\n",
       "sku_source            0.591167\n",
       "supply_product_id     0.591167\n",
       "name                  0.591167\n",
       "barcode               0.591167\n",
       "price_mode            0.591167\n",
       "stock                 0.591167\n",
       "min_last_visit        0.591167\n",
       "dtype: float64"
      ]
     },
     "execution_count": 7,
     "metadata": {},
     "output_type": "execute_result"
    }
   ],
   "source": [
    "full = prod.merge(supply,how='left',on=['branch','catalog_product_id'])\n",
    "full.isnull().mean()"
   ]
  },
  {
   "cell_type": "code",
   "execution_count": 8,
   "id": "500efd6d",
   "metadata": {
    "ExecuteTime": {
     "end_time": "2021-06-29T20:43:34.454741Z",
     "start_time": "2021-06-29T20:43:34.412800Z"
    },
    "hidden": true,
    "scrolled": true
   },
   "outputs": [],
   "source": [
    "unmapped = full[full['supply_product_id'].isnull()].dropna(axis=1)\n",
    "#unmapped.to_csv(os.path.join(BASE_DIR,f'check_brands_{STORE}.csv'),index=False)"
   ]
  },
  {
   "cell_type": "markdown",
   "id": "c7662899",
   "metadata": {
    "heading_collapsed": true
   },
   "source": [
    "## Brands"
   ]
  },
  {
   "cell_type": "markdown",
   "id": "911d2111",
   "metadata": {
    "hidden": true
   },
   "source": [
    "Check with @Alan Sánchez Márquez if any product_id was created by Brands"
   ]
  },
  {
   "cell_type": "code",
   "execution_count": 9,
   "id": "a5570f7f",
   "metadata": {
    "ExecuteTime": {
     "end_time": "2021-06-29T20:43:34.506788Z",
     "start_time": "2021-06-29T20:43:34.456509Z"
    },
    "hidden": true
   },
   "outputs": [
    {
     "data": {
      "text/html": [
       "<div>\n",
       "<style scoped>\n",
       "    .dataframe tbody tr th:only-of-type {\n",
       "        vertical-align: middle;\n",
       "    }\n",
       "\n",
       "    .dataframe tbody tr th {\n",
       "        vertical-align: top;\n",
       "    }\n",
       "\n",
       "    .dataframe thead th {\n",
       "        text-align: right;\n",
       "    }\n",
       "</style>\n",
       "<table border=\"1\" class=\"dataframe\">\n",
       "  <thead>\n",
       "    <tr style=\"text-align: right;\">\n",
       "      <th></th>\n",
       "      <th>Product ID</th>\n",
       "      <th>Origen</th>\n",
       "      <th>Barcode (EAN)</th>\n",
       "      <th>Nombre del producto</th>\n",
       "      <th>Marca</th>\n",
       "      <th>Package (Gramaje)</th>\n",
       "      <th>Fecha de creación</th>\n",
       "      <th>Días de vida</th>\n",
       "      <th>Precio</th>\n",
       "      <th>Store</th>\n",
       "      <th>Integración</th>\n",
       "      <th>NOTAS</th>\n",
       "      <th>Gsheet KAM</th>\n",
       "      <th>Gsheet terminado</th>\n",
       "      <th>PBI</th>\n",
       "      <th>PBI2</th>\n",
       "      <th>Status Final</th>\n",
       "    </tr>\n",
       "  </thead>\n",
       "  <tbody>\n",
       "    <tr>\n",
       "      <th>1635</th>\n",
       "      <td>334700</td>\n",
       "      <td>Editado</td>\n",
       "      <td>7500435108249</td>\n",
       "      <td>Detergente lavatrastes limón</td>\n",
       "      <td>Salvo</td>\n",
       "      <td>1400 ml</td>\n",
       "      <td>15/12/2020</td>\n",
       "      <td>-196.0</td>\n",
       "      <td>$94.90</td>\n",
       "      <td>HEB</td>\n",
       "      <td>Sin mapear</td>\n",
       "      <td>REVISAR EL PRECIO, ya que en competencia el p...</td>\n",
       "      <td>NaN</td>\n",
       "      <td>NaN</td>\n",
       "      <td>NaN</td>\n",
       "      <td>NaN</td>\n",
       "      <td>Desactivado.</td>\n",
       "    </tr>\n",
       "    <tr>\n",
       "      <th>2951</th>\n",
       "      <td>1230473</td>\n",
       "      <td>Editado</td>\n",
       "      <td>7503017964318</td>\n",
       "      <td>Clusters de Granola con cobertura de Crema de ...</td>\n",
       "      <td>Berry Nuts</td>\n",
       "      <td>Bolsa 180g</td>\n",
       "      <td>5/2/2021</td>\n",
       "      <td>-144.0</td>\n",
       "      <td>$52.20</td>\n",
       "      <td>Fresko</td>\n",
       "      <td>Sin mapear</td>\n",
       "      <td>NaN</td>\n",
       "      <td>NaN</td>\n",
       "      <td>NaN</td>\n",
       "      <td>NaN</td>\n",
       "      <td>NaN</td>\n",
       "      <td>Desactivado.</td>\n",
       "    </tr>\n",
       "    <tr>\n",
       "      <th>6039</th>\n",
       "      <td>1246514</td>\n",
       "      <td>Editado</td>\n",
       "      <td>7501318626553</td>\n",
       "      <td>Solución nimotop</td>\n",
       "      <td>Bayer</td>\n",
       "      <td>1 Caja con 1 frasco de 50 ml</td>\n",
       "      <td>2/6/2021</td>\n",
       "      <td>-27.0</td>\n",
       "      <td>$657.00</td>\n",
       "      <td>Soriana</td>\n",
       "      <td>Sin mapear</td>\n",
       "      <td>NaN</td>\n",
       "      <td>https://docs.google.com/spreadsheets/d/1KGxhfo...</td>\n",
       "      <td>https://docs.google.com/spreadsheets/d/16-PqHF...</td>\n",
       "      <td>NaN</td>\n",
       "      <td>NaN</td>\n",
       "      <td>Desactivado.</td>\n",
       "    </tr>\n",
       "  </tbody>\n",
       "</table>\n",
       "</div>"
      ],
      "text/plain": [
       "     Product ID   Origen  Barcode (EAN)  \\\n",
       "1635     334700  Editado  7500435108249   \n",
       "2951    1230473  Editado  7503017964318   \n",
       "6039    1246514  Editado  7501318626553   \n",
       "\n",
       "                                    Nombre del producto       Marca  \\\n",
       "1635                       Detergente lavatrastes limón       Salvo   \n",
       "2951  Clusters de Granola con cobertura de Crema de ...  Berry Nuts   \n",
       "6039                                   Solución nimotop       Bayer   \n",
       "\n",
       "                 Package (Gramaje) Fecha de creación  Días de vida   Precio  \\\n",
       "1635                       1400 ml        15/12/2020        -196.0   $94.90   \n",
       "2951                    Bolsa 180g          5/2/2021        -144.0   $52.20   \n",
       "6039  1 Caja con 1 frasco de 50 ml          2/6/2021         -27.0  $657.00   \n",
       "\n",
       "        Store Integración                                             NOTAS   \\\n",
       "1635      HEB  Sin mapear   REVISAR EL PRECIO, ya que en competencia el p...   \n",
       "2951   Fresko  Sin mapear                                                NaN   \n",
       "6039  Soriana  Sin mapear                                                NaN   \n",
       "\n",
       "                                             Gsheet KAM  \\\n",
       "1635                                                NaN   \n",
       "2951                                                NaN   \n",
       "6039  https://docs.google.com/spreadsheets/d/1KGxhfo...   \n",
       "\n",
       "                                       Gsheet terminado  PBI PBI2  \\\n",
       "1635                                                NaN  NaN  NaN   \n",
       "2951                                                NaN  NaN  NaN   \n",
       "6039  https://docs.google.com/spreadsheets/d/16-PqHF...  NaN  NaN   \n",
       "\n",
       "      Status Final  \n",
       "1635  Desactivado.  \n",
       "2951  Desactivado.  \n",
       "6039  Desactivado.  "
      ]
     },
     "execution_count": 9,
     "metadata": {},
     "output_type": "execute_result"
    }
   ],
   "source": [
    "brands = pd.read_csv(os.path.join(BASE_DIR,f'brands.csv'))\n",
    "brands = brands[brands['Integración']=='Sin mapear'].copy()\n",
    "brands.sample(3)"
   ]
  },
  {
   "cell_type": "code",
   "execution_count": 10,
   "id": "54217aa1",
   "metadata": {
    "ExecuteTime": {
     "end_time": "2021-06-29T20:43:34.523681Z",
     "start_time": "2021-06-29T20:43:34.508494Z"
    },
    "hidden": true
   },
   "outputs": [
    {
     "data": {
      "text/html": [
       "<div>\n",
       "<style scoped>\n",
       "    .dataframe tbody tr th:only-of-type {\n",
       "        vertical-align: middle;\n",
       "    }\n",
       "\n",
       "    .dataframe tbody tr th {\n",
       "        vertical-align: top;\n",
       "    }\n",
       "\n",
       "    .dataframe thead th {\n",
       "        text-align: right;\n",
       "    }\n",
       "</style>\n",
       "<table border=\"1\" class=\"dataframe\">\n",
       "  <thead>\n",
       "    <tr style=\"text-align: right;\">\n",
       "      <th></th>\n",
       "      <th>catalog_product_id</th>\n",
       "      <th>inactive</th>\n",
       "    </tr>\n",
       "  </thead>\n",
       "  <tbody>\n",
       "    <tr>\n",
       "      <th>1114</th>\n",
       "      <td>1005347</td>\n",
       "      <td>0</td>\n",
       "    </tr>\n",
       "    <tr>\n",
       "      <th>2083</th>\n",
       "      <td>1456280</td>\n",
       "      <td>0</td>\n",
       "    </tr>\n",
       "    <tr>\n",
       "      <th>2030</th>\n",
       "      <td>1246057</td>\n",
       "      <td>0</td>\n",
       "    </tr>\n",
       "    <tr>\n",
       "      <th>2091</th>\n",
       "      <td>1144240</td>\n",
       "      <td>0</td>\n",
       "    </tr>\n",
       "  </tbody>\n",
       "</table>\n",
       "</div>"
      ],
      "text/plain": [
       "     catalog_product_id  inactive\n",
       "1114            1005347         0\n",
       "2083            1456280         0\n",
       "2030            1246057         0\n",
       "2091            1144240         0"
      ]
     },
     "execution_count": 10,
     "metadata": {},
     "output_type": "execute_result"
    }
   ],
   "source": [
    "import re\n",
    "brands['inactive'] = brands['Status Final'].apply(lambda x:re.search('desac',str(x),flags=re.I)!=None)*1\n",
    "brands.rename(columns={'Product ID':'catalog_product_id'},inplace=True)\n",
    "brands = brands[(brands['Status Final'].notnull())&(brands['inactive']==0)]\n",
    "brands[['catalog_product_id','inactive']].sample(4)"
   ]
  },
  {
   "cell_type": "code",
   "execution_count": 11,
   "id": "5c5c9bf2",
   "metadata": {
    "ExecuteTime": {
     "end_time": "2021-06-29T20:43:34.532258Z",
     "start_time": "2021-06-29T20:43:34.525744Z"
    },
    "hidden": true
   },
   "outputs": [
    {
     "data": {
      "text/plain": [
       "Activo (mapeado).    39\n",
       "Reactivado.           2\n",
       "Store.                1\n",
       "Buen FR.              1\n",
       "Name: Status Final, dtype: int64"
      ]
     },
     "execution_count": 11,
     "metadata": {},
     "output_type": "execute_result"
    }
   ],
   "source": [
    "brands[brands['inactive']==0]['Status Final'].value_counts(0,dropna=False)"
   ]
  },
  {
   "cell_type": "code",
   "execution_count": 12,
   "id": "f0c493b4",
   "metadata": {
    "ExecuteTime": {
     "end_time": "2021-06-29T20:43:34.562148Z",
     "start_time": "2021-06-29T20:43:34.534672Z"
    },
    "hidden": true,
    "scrolled": true
   },
   "outputs": [],
   "source": [
    "branch_brands = unmapped[unmapped['catalog_product_id'].isin(brands['catalog_product_id'])]\n",
    "unmapped = unmapped[~unmapped['catalog_product_id'].isin(brands['catalog_product_id'])].copy()\n",
    "#','.join(set(unmapped['catalog_product_id'].dropna().astype(int).astype(str)))"
   ]
  },
  {
   "cell_type": "markdown",
   "id": "3e694c6d",
   "metadata": {
    "heading_collapsed": true
   },
   "source": [
    "## Orders from unmapped"
   ]
  },
  {
   "cell_type": "code",
   "execution_count": 13,
   "id": "3e2cb5ad",
   "metadata": {
    "ExecuteTime": {
     "end_time": "2021-06-29T20:43:34.592053Z",
     "start_time": "2021-06-29T20:43:34.564426Z"
    },
    "hidden": true
   },
   "outputs": [
    {
     "data": {
      "text/html": [
       "<div>\n",
       "<style scoped>\n",
       "    .dataframe tbody tr th:only-of-type {\n",
       "        vertical-align: middle;\n",
       "    }\n",
       "\n",
       "    .dataframe tbody tr th {\n",
       "        vertical-align: top;\n",
       "    }\n",
       "\n",
       "    .dataframe thead th {\n",
       "        text-align: right;\n",
       "    }\n",
       "</style>\n",
       "<table border=\"1\" class=\"dataframe\">\n",
       "  <thead>\n",
       "    <tr style=\"text-align: right;\">\n",
       "      <th></th>\n",
       "      <th>level</th>\n",
       "      <th>date</th>\n",
       "      <th>catalog_product_id</th>\n",
       "      <th>branch</th>\n",
       "      <th>productbranch_id</th>\n",
       "      <th>min_branch_price</th>\n",
       "      <th>avg_branch_price</th>\n",
       "      <th>max_branch_price</th>\n",
       "      <th>min_shopper_price</th>\n",
       "      <th>avg_shopper_price</th>\n",
       "      <th>max_shopper_price</th>\n",
       "      <th>requested</th>\n",
       "      <th>found</th>\n",
       "      <th>order_products</th>\n",
       "      <th>sales</th>\n",
       "    </tr>\n",
       "  </thead>\n",
       "  <tbody>\n",
       "    <tr>\n",
       "      <th>0</th>\n",
       "      <td>TOTAL</td>\n",
       "      <td>2021-06-07</td>\n",
       "      <td>0</td>\n",
       "      <td>0</td>\n",
       "      <td>0</td>\n",
       "      <td>0.0</td>\n",
       "      <td>0.0</td>\n",
       "      <td>0.0</td>\n",
       "      <td>0.0</td>\n",
       "      <td>0.0</td>\n",
       "      <td>0.0</td>\n",
       "      <td>166.0</td>\n",
       "      <td>126.0</td>\n",
       "      <td>76</td>\n",
       "      <td>22355.00</td>\n",
       "    </tr>\n",
       "    <tr>\n",
       "      <th>1</th>\n",
       "      <td>TOTAL</td>\n",
       "      <td>2021-06-08</td>\n",
       "      <td>0</td>\n",
       "      <td>0</td>\n",
       "      <td>0</td>\n",
       "      <td>0.0</td>\n",
       "      <td>0.0</td>\n",
       "      <td>0.0</td>\n",
       "      <td>0.0</td>\n",
       "      <td>0.0</td>\n",
       "      <td>0.0</td>\n",
       "      <td>122.0</td>\n",
       "      <td>109.0</td>\n",
       "      <td>63</td>\n",
       "      <td>27850.50</td>\n",
       "    </tr>\n",
       "    <tr>\n",
       "      <th>2</th>\n",
       "      <td>TOTAL</td>\n",
       "      <td>2021-06-09</td>\n",
       "      <td>0</td>\n",
       "      <td>0</td>\n",
       "      <td>0</td>\n",
       "      <td>0.0</td>\n",
       "      <td>0.0</td>\n",
       "      <td>0.0</td>\n",
       "      <td>0.0</td>\n",
       "      <td>0.0</td>\n",
       "      <td>0.0</td>\n",
       "      <td>176.0</td>\n",
       "      <td>142.0</td>\n",
       "      <td>88</td>\n",
       "      <td>38453.90</td>\n",
       "    </tr>\n",
       "    <tr>\n",
       "      <th>3</th>\n",
       "      <td>TOTAL</td>\n",
       "      <td>2021-06-10</td>\n",
       "      <td>0</td>\n",
       "      <td>0</td>\n",
       "      <td>0</td>\n",
       "      <td>0.0</td>\n",
       "      <td>0.0</td>\n",
       "      <td>0.0</td>\n",
       "      <td>0.0</td>\n",
       "      <td>0.0</td>\n",
       "      <td>0.0</td>\n",
       "      <td>123.0</td>\n",
       "      <td>108.0</td>\n",
       "      <td>83</td>\n",
       "      <td>29211.79</td>\n",
       "    </tr>\n",
       "    <tr>\n",
       "      <th>4</th>\n",
       "      <td>TOTAL</td>\n",
       "      <td>2021-06-11</td>\n",
       "      <td>0</td>\n",
       "      <td>0</td>\n",
       "      <td>0</td>\n",
       "      <td>0.0</td>\n",
       "      <td>0.0</td>\n",
       "      <td>0.0</td>\n",
       "      <td>0.0</td>\n",
       "      <td>0.0</td>\n",
       "      <td>0.0</td>\n",
       "      <td>168.0</td>\n",
       "      <td>149.0</td>\n",
       "      <td>119</td>\n",
       "      <td>48469.79</td>\n",
       "    </tr>\n",
       "  </tbody>\n",
       "</table>\n",
       "</div>"
      ],
      "text/plain": [
       "   level        date  catalog_product_id  branch  productbranch_id  \\\n",
       "0  TOTAL  2021-06-07                   0       0                 0   \n",
       "1  TOTAL  2021-06-08                   0       0                 0   \n",
       "2  TOTAL  2021-06-09                   0       0                 0   \n",
       "3  TOTAL  2021-06-10                   0       0                 0   \n",
       "4  TOTAL  2021-06-11                   0       0                 0   \n",
       "\n",
       "   min_branch_price  avg_branch_price  max_branch_price  min_shopper_price  \\\n",
       "0               0.0               0.0               0.0                0.0   \n",
       "1               0.0               0.0               0.0                0.0   \n",
       "2               0.0               0.0               0.0                0.0   \n",
       "3               0.0               0.0               0.0                0.0   \n",
       "4               0.0               0.0               0.0                0.0   \n",
       "\n",
       "   avg_shopper_price  max_shopper_price  requested  found  order_products  \\\n",
       "0                0.0                0.0      166.0  126.0              76   \n",
       "1                0.0                0.0      122.0  109.0              63   \n",
       "2                0.0                0.0      176.0  142.0              88   \n",
       "3                0.0                0.0      123.0  108.0              83   \n",
       "4                0.0                0.0      168.0  149.0             119   \n",
       "\n",
       "      sales  \n",
       "0  22355.00  \n",
       "1  27850.50  \n",
       "2  38453.90  \n",
       "3  29211.79  \n",
       "4  48469.79  "
      ]
     },
     "execution_count": 13,
     "metadata": {},
     "output_type": "execute_result"
    }
   ],
   "source": [
    "orders = pd.read_csv(os.path.join(BASE_DIR,f'orders_{STORE}.csv'))\n",
    "orders.head()"
   ]
  },
  {
   "cell_type": "code",
   "execution_count": 14,
   "id": "5f6c6343",
   "metadata": {
    "ExecuteTime": {
     "end_time": "2021-06-29T20:43:34.620074Z",
     "start_time": "2021-06-29T20:43:34.595436Z"
    },
    "hidden": true
   },
   "outputs": [
    {
     "data": {
      "text/html": [
       "<div>\n",
       "<style scoped>\n",
       "    .dataframe tbody tr th:only-of-type {\n",
       "        vertical-align: middle;\n",
       "    }\n",
       "\n",
       "    .dataframe tbody tr th {\n",
       "        vertical-align: top;\n",
       "    }\n",
       "\n",
       "    .dataframe thead th {\n",
       "        text-align: right;\n",
       "    }\n",
       "</style>\n",
       "<table border=\"1\" class=\"dataframe\">\n",
       "  <thead>\n",
       "    <tr style=\"text-align: right;\">\n",
       "      <th></th>\n",
       "      <th>requested</th>\n",
       "      <th>found</th>\n",
       "      <th>order_products</th>\n",
       "      <th>sales</th>\n",
       "      <th>fr</th>\n",
       "    </tr>\n",
       "    <tr>\n",
       "      <th>date</th>\n",
       "      <th></th>\n",
       "      <th></th>\n",
       "      <th></th>\n",
       "      <th></th>\n",
       "      <th></th>\n",
       "    </tr>\n",
       "  </thead>\n",
       "  <tbody>\n",
       "    <tr>\n",
       "      <th>2021-06-07</th>\n",
       "      <td>166.0</td>\n",
       "      <td>126.0</td>\n",
       "      <td>76</td>\n",
       "      <td>22355.00</td>\n",
       "      <td>0.759036</td>\n",
       "    </tr>\n",
       "    <tr>\n",
       "      <th>2021-06-08</th>\n",
       "      <td>122.0</td>\n",
       "      <td>109.0</td>\n",
       "      <td>63</td>\n",
       "      <td>27850.50</td>\n",
       "      <td>0.893443</td>\n",
       "    </tr>\n",
       "    <tr>\n",
       "      <th>2021-06-09</th>\n",
       "      <td>176.0</td>\n",
       "      <td>142.0</td>\n",
       "      <td>88</td>\n",
       "      <td>38453.90</td>\n",
       "      <td>0.806818</td>\n",
       "    </tr>\n",
       "    <tr>\n",
       "      <th>2021-06-10</th>\n",
       "      <td>123.0</td>\n",
       "      <td>108.0</td>\n",
       "      <td>83</td>\n",
       "      <td>29211.79</td>\n",
       "      <td>0.878049</td>\n",
       "    </tr>\n",
       "    <tr>\n",
       "      <th>2021-06-11</th>\n",
       "      <td>168.0</td>\n",
       "      <td>149.0</td>\n",
       "      <td>119</td>\n",
       "      <td>48469.79</td>\n",
       "      <td>0.886905</td>\n",
       "    </tr>\n",
       "    <tr>\n",
       "      <th>2021-06-12</th>\n",
       "      <td>158.0</td>\n",
       "      <td>127.0</td>\n",
       "      <td>106</td>\n",
       "      <td>45692.30</td>\n",
       "      <td>0.803797</td>\n",
       "    </tr>\n",
       "    <tr>\n",
       "      <th>2021-06-13</th>\n",
       "      <td>28.0</td>\n",
       "      <td>24.0</td>\n",
       "      <td>23</td>\n",
       "      <td>8637.30</td>\n",
       "      <td>0.857143</td>\n",
       "    </tr>\n",
       "    <tr>\n",
       "      <th>2021-06-14</th>\n",
       "      <td>34.0</td>\n",
       "      <td>29.0</td>\n",
       "      <td>25</td>\n",
       "      <td>10713.00</td>\n",
       "      <td>0.852941</td>\n",
       "    </tr>\n",
       "    <tr>\n",
       "      <th>2021-06-15</th>\n",
       "      <td>256.0</td>\n",
       "      <td>183.0</td>\n",
       "      <td>77</td>\n",
       "      <td>47852.00</td>\n",
       "      <td>0.714844</td>\n",
       "    </tr>\n",
       "    <tr>\n",
       "      <th>2021-06-16</th>\n",
       "      <td>57.0</td>\n",
       "      <td>48.0</td>\n",
       "      <td>42</td>\n",
       "      <td>20252.00</td>\n",
       "      <td>0.842105</td>\n",
       "    </tr>\n",
       "    <tr>\n",
       "      <th>2021-06-17</th>\n",
       "      <td>97.0</td>\n",
       "      <td>81.0</td>\n",
       "      <td>50</td>\n",
       "      <td>26145.00</td>\n",
       "      <td>0.835052</td>\n",
       "    </tr>\n",
       "    <tr>\n",
       "      <th>2021-06-18</th>\n",
       "      <td>161.0</td>\n",
       "      <td>144.0</td>\n",
       "      <td>110</td>\n",
       "      <td>58932.58</td>\n",
       "      <td>0.894410</td>\n",
       "    </tr>\n",
       "    <tr>\n",
       "      <th>2021-06-19</th>\n",
       "      <td>207.0</td>\n",
       "      <td>177.0</td>\n",
       "      <td>148</td>\n",
       "      <td>69963.00</td>\n",
       "      <td>0.855072</td>\n",
       "    </tr>\n",
       "    <tr>\n",
       "      <th>2021-06-20</th>\n",
       "      <td>99.0</td>\n",
       "      <td>89.0</td>\n",
       "      <td>82</td>\n",
       "      <td>36847.24</td>\n",
       "      <td>0.898990</td>\n",
       "    </tr>\n",
       "    <tr>\n",
       "      <th>2021-06-21</th>\n",
       "      <td>134.0</td>\n",
       "      <td>128.0</td>\n",
       "      <td>36</td>\n",
       "      <td>56596.00</td>\n",
       "      <td>0.955224</td>\n",
       "    </tr>\n",
       "    <tr>\n",
       "      <th>2021-06-22</th>\n",
       "      <td>78.0</td>\n",
       "      <td>59.0</td>\n",
       "      <td>36</td>\n",
       "      <td>22406.00</td>\n",
       "      <td>0.756410</td>\n",
       "    </tr>\n",
       "    <tr>\n",
       "      <th>2021-06-23</th>\n",
       "      <td>74.0</td>\n",
       "      <td>58.0</td>\n",
       "      <td>50</td>\n",
       "      <td>23856.00</td>\n",
       "      <td>0.783784</td>\n",
       "    </tr>\n",
       "    <tr>\n",
       "      <th>2021-06-24</th>\n",
       "      <td>86.0</td>\n",
       "      <td>73.0</td>\n",
       "      <td>64</td>\n",
       "      <td>23238.30</td>\n",
       "      <td>0.848837</td>\n",
       "    </tr>\n",
       "    <tr>\n",
       "      <th>2021-06-25</th>\n",
       "      <td>152.0</td>\n",
       "      <td>131.0</td>\n",
       "      <td>100</td>\n",
       "      <td>48264.73</td>\n",
       "      <td>0.861842</td>\n",
       "    </tr>\n",
       "    <tr>\n",
       "      <th>2021-06-26</th>\n",
       "      <td>144.0</td>\n",
       "      <td>127.0</td>\n",
       "      <td>109</td>\n",
       "      <td>40370.00</td>\n",
       "      <td>0.881944</td>\n",
       "    </tr>\n",
       "    <tr>\n",
       "      <th>2021-06-27</th>\n",
       "      <td>53.0</td>\n",
       "      <td>43.0</td>\n",
       "      <td>32</td>\n",
       "      <td>15750.00</td>\n",
       "      <td>0.811321</td>\n",
       "    </tr>\n",
       "    <tr>\n",
       "      <th>2021-06-28</th>\n",
       "      <td>74.0</td>\n",
       "      <td>69.0</td>\n",
       "      <td>40</td>\n",
       "      <td>25067.37</td>\n",
       "      <td>0.932432</td>\n",
       "    </tr>\n",
       "  </tbody>\n",
       "</table>\n",
       "</div>"
      ],
      "text/plain": [
       "            requested  found  order_products     sales        fr\n",
       "date                                                            \n",
       "2021-06-07      166.0  126.0              76  22355.00  0.759036\n",
       "2021-06-08      122.0  109.0              63  27850.50  0.893443\n",
       "2021-06-09      176.0  142.0              88  38453.90  0.806818\n",
       "2021-06-10      123.0  108.0              83  29211.79  0.878049\n",
       "2021-06-11      168.0  149.0             119  48469.79  0.886905\n",
       "2021-06-12      158.0  127.0             106  45692.30  0.803797\n",
       "2021-06-13       28.0   24.0              23   8637.30  0.857143\n",
       "2021-06-14       34.0   29.0              25  10713.00  0.852941\n",
       "2021-06-15      256.0  183.0              77  47852.00  0.714844\n",
       "2021-06-16       57.0   48.0              42  20252.00  0.842105\n",
       "2021-06-17       97.0   81.0              50  26145.00  0.835052\n",
       "2021-06-18      161.0  144.0             110  58932.58  0.894410\n",
       "2021-06-19      207.0  177.0             148  69963.00  0.855072\n",
       "2021-06-20       99.0   89.0              82  36847.24  0.898990\n",
       "2021-06-21      134.0  128.0              36  56596.00  0.955224\n",
       "2021-06-22       78.0   59.0              36  22406.00  0.756410\n",
       "2021-06-23       74.0   58.0              50  23856.00  0.783784\n",
       "2021-06-24       86.0   73.0              64  23238.30  0.848837\n",
       "2021-06-25      152.0  131.0             100  48264.73  0.861842\n",
       "2021-06-26      144.0  127.0             109  40370.00  0.881944\n",
       "2021-06-27       53.0   43.0              32  15750.00  0.811321\n",
       "2021-06-28       74.0   69.0              40  25067.37  0.932432"
      ]
     },
     "execution_count": 14,
     "metadata": {},
     "output_type": "execute_result"
    }
   ],
   "source": [
    "total = orders[orders['level']=='TOTAL'].set_index('date').iloc[:,-4:].copy()\n",
    "total['fr'] = total['found']/total['requested']\n",
    "total"
   ]
  },
  {
   "cell_type": "markdown",
   "id": "b795b1ee",
   "metadata": {
    "heading_collapsed": true,
    "hidden": true
   },
   "source": [
    "### Total"
   ]
  },
  {
   "cell_type": "code",
   "execution_count": 15,
   "id": "b50dd9b9",
   "metadata": {
    "ExecuteTime": {
     "end_time": "2021-06-29T20:43:34.787883Z",
     "start_time": "2021-06-29T20:43:34.622543Z"
    },
    "hidden": true
   },
   "outputs": [
    {
     "name": "stdout",
     "output_type": "stream",
     "text": [
      "count    89096.000000\n",
      "mean         0.006054\n",
      "std          0.077492\n",
      "min          0.000000\n",
      "25%          0.000000\n",
      "50%          0.000000\n",
      "75%          0.000000\n",
      "max          1.000000\n",
      "Name: fr, dtype: float64\n"
     ]
    },
    {
     "data": {
      "text/html": [
       "<div>\n",
       "<style scoped>\n",
       "    .dataframe tbody tr th:only-of-type {\n",
       "        vertical-align: middle;\n",
       "    }\n",
       "\n",
       "    .dataframe tbody tr th {\n",
       "        vertical-align: top;\n",
       "    }\n",
       "\n",
       "    .dataframe thead th {\n",
       "        text-align: right;\n",
       "    }\n",
       "</style>\n",
       "<table border=\"1\" class=\"dataframe\">\n",
       "  <thead>\n",
       "    <tr style=\"text-align: right;\">\n",
       "      <th></th>\n",
       "      <th>store_id</th>\n",
       "      <th>branch_x</th>\n",
       "      <th>productbranch_id</th>\n",
       "      <th>price</th>\n",
       "      <th>date</th>\n",
       "      <th>catalog_product_id</th>\n",
       "      <th>branch_y</th>\n",
       "      <th>min_branch_price</th>\n",
       "      <th>avg_branch_price</th>\n",
       "      <th>max_branch_price</th>\n",
       "      <th>min_shopper_price</th>\n",
       "      <th>avg_shopper_price</th>\n",
       "      <th>max_shopper_price</th>\n",
       "      <th>requested</th>\n",
       "      <th>found</th>\n",
       "      <th>order_products</th>\n",
       "      <th>sales</th>\n",
       "      <th>fr</th>\n",
       "    </tr>\n",
       "  </thead>\n",
       "  <tbody>\n",
       "    <tr>\n",
       "      <th>0</th>\n",
       "      <td>98</td>\n",
       "      <td>7628</td>\n",
       "      <td>45769157</td>\n",
       "      <td>295.0</td>\n",
       "      <td>2021-06-10</td>\n",
       "      <td>1993298.0</td>\n",
       "      <td>7628.0</td>\n",
       "      <td>295.0</td>\n",
       "      <td>295.0</td>\n",
       "      <td>295.0</td>\n",
       "      <td>325.0</td>\n",
       "      <td>325.0</td>\n",
       "      <td>325.0</td>\n",
       "      <td>2.0</td>\n",
       "      <td>1.0</td>\n",
       "      <td>2.0</td>\n",
       "      <td>295.0</td>\n",
       "      <td>0.5</td>\n",
       "    </tr>\n",
       "    <tr>\n",
       "      <th>1</th>\n",
       "      <td>98</td>\n",
       "      <td>916</td>\n",
       "      <td>8284666</td>\n",
       "      <td>745.0</td>\n",
       "      <td>2021-06-19</td>\n",
       "      <td>384378.0</td>\n",
       "      <td>916.0</td>\n",
       "      <td>745.0</td>\n",
       "      <td>745.0</td>\n",
       "      <td>745.0</td>\n",
       "      <td>745.0</td>\n",
       "      <td>767.0</td>\n",
       "      <td>789.0</td>\n",
       "      <td>2.0</td>\n",
       "      <td>2.0</td>\n",
       "      <td>2.0</td>\n",
       "      <td>1490.0</td>\n",
       "      <td>1.0</td>\n",
       "    </tr>\n",
       "    <tr>\n",
       "      <th>2</th>\n",
       "      <td>98</td>\n",
       "      <td>916</td>\n",
       "      <td>8239069</td>\n",
       "      <td>635.0</td>\n",
       "      <td>2021-06-11</td>\n",
       "      <td>352963.0</td>\n",
       "      <td>916.0</td>\n",
       "      <td>635.0</td>\n",
       "      <td>635.0</td>\n",
       "      <td>635.0</td>\n",
       "      <td>610.0</td>\n",
       "      <td>610.0</td>\n",
       "      <td>610.0</td>\n",
       "      <td>2.0</td>\n",
       "      <td>2.0</td>\n",
       "      <td>2.0</td>\n",
       "      <td>1270.0</td>\n",
       "      <td>1.0</td>\n",
       "    </tr>\n",
       "    <tr>\n",
       "      <th>3</th>\n",
       "      <td>98</td>\n",
       "      <td>7651</td>\n",
       "      <td>38194797</td>\n",
       "      <td>69.0</td>\n",
       "      <td>2021-06-24</td>\n",
       "      <td>357346.0</td>\n",
       "      <td>7651.0</td>\n",
       "      <td>69.0</td>\n",
       "      <td>69.0</td>\n",
       "      <td>69.0</td>\n",
       "      <td>0.0</td>\n",
       "      <td>0.0</td>\n",
       "      <td>0.0</td>\n",
       "      <td>1.0</td>\n",
       "      <td>0.0</td>\n",
       "      <td>1.0</td>\n",
       "      <td>0.0</td>\n",
       "      <td>0.0</td>\n",
       "    </tr>\n",
       "    <tr>\n",
       "      <th>4</th>\n",
       "      <td>98</td>\n",
       "      <td>930</td>\n",
       "      <td>8229270</td>\n",
       "      <td>327.0</td>\n",
       "      <td>2021-06-27</td>\n",
       "      <td>352942.0</td>\n",
       "      <td>930.0</td>\n",
       "      <td>327.0</td>\n",
       "      <td>327.0</td>\n",
       "      <td>327.0</td>\n",
       "      <td>327.0</td>\n",
       "      <td>327.0</td>\n",
       "      <td>327.0</td>\n",
       "      <td>2.0</td>\n",
       "      <td>2.0</td>\n",
       "      <td>1.0</td>\n",
       "      <td>654.0</td>\n",
       "      <td>1.0</td>\n",
       "    </tr>\n",
       "  </tbody>\n",
       "</table>\n",
       "</div>"
      ],
      "text/plain": [
       "   store_id  branch_x  productbranch_id  price        date  \\\n",
       "0        98      7628          45769157  295.0  2021-06-10   \n",
       "1        98       916           8284666  745.0  2021-06-19   \n",
       "2        98       916           8239069  635.0  2021-06-11   \n",
       "3        98      7651          38194797   69.0  2021-06-24   \n",
       "4        98       930           8229270  327.0  2021-06-27   \n",
       "\n",
       "   catalog_product_id  branch_y  min_branch_price  avg_branch_price  \\\n",
       "0           1993298.0    7628.0             295.0             295.0   \n",
       "1            384378.0     916.0             745.0             745.0   \n",
       "2            352963.0     916.0             635.0             635.0   \n",
       "3            357346.0    7651.0              69.0              69.0   \n",
       "4            352942.0     930.0             327.0             327.0   \n",
       "\n",
       "   max_branch_price  min_shopper_price  avg_shopper_price  max_shopper_price  \\\n",
       "0             295.0              325.0              325.0              325.0   \n",
       "1             745.0              745.0              767.0              789.0   \n",
       "2             635.0              610.0              610.0              610.0   \n",
       "3              69.0                0.0                0.0                0.0   \n",
       "4             327.0              327.0              327.0              327.0   \n",
       "\n",
       "   requested  found  order_products   sales   fr  \n",
       "0        2.0    1.0             2.0   295.0  0.5  \n",
       "1        2.0    2.0             2.0  1490.0  1.0  \n",
       "2        2.0    2.0             2.0  1270.0  1.0  \n",
       "3        1.0    0.0             1.0     0.0  0.0  \n",
       "4        2.0    2.0             1.0   654.0  1.0  "
      ]
     },
     "execution_count": 15,
     "metadata": {},
     "output_type": "execute_result"
    }
   ],
   "source": [
    "df = unmapped.set_index('catalog_product_id').merge(orders.iloc[:,1:],on='productbranch_id',how='left').fillna(0)\n",
    "df = df[~df['catalog_product_id'].isin(brands['catalog_product_id'])].copy()\n",
    "df = df.sort_values('order_products',0,0).reset_index(drop=True)\n",
    "df['fr'] = (df['found']/(df['requested']+1e-10)).apply(lambda x: min(1,x))\n",
    "print(df['fr'].describe())\n",
    "df.head()"
   ]
  },
  {
   "cell_type": "markdown",
   "id": "2d6679ee",
   "metadata": {
    "ExecuteTime": {
     "end_time": "2021-06-08T16:35:09.822906Z",
     "start_time": "2021-06-08T16:35:09.809363Z"
    },
    "heading_collapsed": true,
    "hidden": true
   },
   "source": [
    "### Bad performance"
   ]
  },
  {
   "cell_type": "markdown",
   "id": "a9af711e",
   "metadata": {
    "hidden": true
   },
   "source": [
    "BULK TOOL\n",
    "\n",
    "<https://cornershopapp.com/catalog/dashboard/bulk_update/product_branches/>"
   ]
  },
  {
   "cell_type": "code",
   "execution_count": 16,
   "id": "af6aca7b",
   "metadata": {
    "ExecuteTime": {
     "end_time": "2021-06-29T20:43:34.963630Z",
     "start_time": "2021-06-29T20:43:34.790009Z"
    },
    "hidden": true
   },
   "outputs": [],
   "source": [
    "df['catalog_product_id'] = df['catalog_product_id'].astype(int).astype(str)\n",
    "df = df.groupby(['store_id','productbranch_id',\n",
    "                 'catalog_product_id']).agg({'price':'median','requested':sum,\n",
    "                                             'found':sum,'sales':sum,\n",
    "                                             'order_products':sum}).reset_index()"
   ]
  },
  {
   "cell_type": "code",
   "execution_count": 17,
   "id": "6dc470ed",
   "metadata": {
    "ExecuteTime": {
     "end_time": "2021-06-29T20:43:35.058542Z",
     "start_time": "2021-06-29T20:43:34.965825Z"
    },
    "hidden": true
   },
   "outputs": [
    {
     "name": "stdout",
     "output_type": "stream",
     "text": [
      "count    88559.000000\n",
      "mean         0.000137\n",
      "std          0.010096\n",
      "min          0.000000\n",
      "25%          0.000000\n",
      "50%          0.000000\n",
      "75%          0.000000\n",
      "max          1.000000\n",
      "Name: fr, dtype: float64\n"
     ]
    },
    {
     "data": {
      "text/html": [
       "<div>\n",
       "<style scoped>\n",
       "    .dataframe tbody tr th:only-of-type {\n",
       "        vertical-align: middle;\n",
       "    }\n",
       "\n",
       "    .dataframe tbody tr th {\n",
       "        vertical-align: top;\n",
       "    }\n",
       "\n",
       "    .dataframe thead th {\n",
       "        text-align: right;\n",
       "    }\n",
       "</style>\n",
       "<table border=\"1\" class=\"dataframe\">\n",
       "  <thead>\n",
       "    <tr style=\"text-align: right;\">\n",
       "      <th></th>\n",
       "      <th>store_id</th>\n",
       "      <th>productbranch_id</th>\n",
       "      <th>catalog_product_id</th>\n",
       "      <th>price</th>\n",
       "      <th>requested</th>\n",
       "      <th>found</th>\n",
       "      <th>sales</th>\n",
       "      <th>order_products</th>\n",
       "      <th>fr</th>\n",
       "      <th>avg_price</th>\n",
       "      <th>mk_un</th>\n",
       "      <th>mk_p</th>\n",
       "      <th>mk_tot</th>\n",
       "    </tr>\n",
       "  </thead>\n",
       "  <tbody>\n",
       "    <tr>\n",
       "      <th>0</th>\n",
       "      <td>98</td>\n",
       "      <td>8205112</td>\n",
       "      <td>0</td>\n",
       "      <td>77.0</td>\n",
       "      <td>0.0</td>\n",
       "      <td>0.0</td>\n",
       "      <td>0.0</td>\n",
       "      <td>0.0</td>\n",
       "      <td>0.0</td>\n",
       "      <td>NaN</td>\n",
       "      <td>NaN</td>\n",
       "      <td>NaN</td>\n",
       "      <td>0.0</td>\n",
       "    </tr>\n",
       "    <tr>\n",
       "      <th>1</th>\n",
       "      <td>98</td>\n",
       "      <td>8205114</td>\n",
       "      <td>0</td>\n",
       "      <td>54.0</td>\n",
       "      <td>0.0</td>\n",
       "      <td>0.0</td>\n",
       "      <td>0.0</td>\n",
       "      <td>0.0</td>\n",
       "      <td>0.0</td>\n",
       "      <td>NaN</td>\n",
       "      <td>NaN</td>\n",
       "      <td>NaN</td>\n",
       "      <td>0.0</td>\n",
       "    </tr>\n",
       "    <tr>\n",
       "      <th>2</th>\n",
       "      <td>98</td>\n",
       "      <td>8205116</td>\n",
       "      <td>0</td>\n",
       "      <td>54.0</td>\n",
       "      <td>0.0</td>\n",
       "      <td>0.0</td>\n",
       "      <td>0.0</td>\n",
       "      <td>0.0</td>\n",
       "      <td>0.0</td>\n",
       "      <td>NaN</td>\n",
       "      <td>NaN</td>\n",
       "      <td>NaN</td>\n",
       "      <td>0.0</td>\n",
       "    </tr>\n",
       "    <tr>\n",
       "      <th>3</th>\n",
       "      <td>98</td>\n",
       "      <td>8205117</td>\n",
       "      <td>0</td>\n",
       "      <td>36.0</td>\n",
       "      <td>0.0</td>\n",
       "      <td>0.0</td>\n",
       "      <td>0.0</td>\n",
       "      <td>0.0</td>\n",
       "      <td>0.0</td>\n",
       "      <td>NaN</td>\n",
       "      <td>NaN</td>\n",
       "      <td>NaN</td>\n",
       "      <td>0.0</td>\n",
       "    </tr>\n",
       "    <tr>\n",
       "      <th>4</th>\n",
       "      <td>98</td>\n",
       "      <td>8205118</td>\n",
       "      <td>340921</td>\n",
       "      <td>68.0</td>\n",
       "      <td>1.0</td>\n",
       "      <td>0.0</td>\n",
       "      <td>0.0</td>\n",
       "      <td>1.0</td>\n",
       "      <td>0.0</td>\n",
       "      <td>NaN</td>\n",
       "      <td>NaN</td>\n",
       "      <td>NaN</td>\n",
       "      <td>0.0</td>\n",
       "    </tr>\n",
       "  </tbody>\n",
       "</table>\n",
       "</div>"
      ],
      "text/plain": [
       "   store_id  productbranch_id catalog_product_id  price  requested  found  \\\n",
       "0        98           8205112                  0   77.0        0.0    0.0   \n",
       "1        98           8205114                  0   54.0        0.0    0.0   \n",
       "2        98           8205116                  0   54.0        0.0    0.0   \n",
       "3        98           8205117                  0   36.0        0.0    0.0   \n",
       "4        98           8205118             340921   68.0        1.0    0.0   \n",
       "\n",
       "   sales  order_products   fr  avg_price  mk_un  mk_p  mk_tot  \n",
       "0    0.0             0.0  0.0        NaN    NaN   NaN     0.0  \n",
       "1    0.0             0.0  0.0        NaN    NaN   NaN     0.0  \n",
       "2    0.0             0.0  0.0        NaN    NaN   NaN     0.0  \n",
       "3    0.0             0.0  0.0        NaN    NaN   NaN     0.0  \n",
       "4    0.0             1.0  0.0        NaN    NaN   NaN     0.0  "
      ]
     },
     "execution_count": 17,
     "metadata": {},
     "output_type": "execute_result"
    }
   ],
   "source": [
    "df['fr'] = (df['found'] / (df['requested']+1e-10)).apply(lambda x: min(x,1))\n",
    "df['avg_price'] = df['sales'] / df['found']\n",
    "df['mk_un'] = df['avg_price'] - df['price']\n",
    "df['mk_p'] = df['mk_un'] / df['avg_price']\n",
    "df['mk_tot'] = df['sales'] - df['price']*df['found']\n",
    "bad_fr = df[(df['fr']<=total['fr'][0]*.9)\n",
    "            #&(df['orders']>0)\n",
    "           ].copy()\n",
    "mk = df[(df['mk_p']<-.03)|(df['mk_p']>.03)].copy()\n",
    "bad_perf = bad_fr.append(mk)\n",
    "print(bad_perf['fr'].describe())\n",
    "bad_perf.head()"
   ]
  },
  {
   "cell_type": "markdown",
   "id": "acbb301d",
   "metadata": {
    "heading_collapsed": true,
    "hidden": true
   },
   "source": [
    "### Good performance"
   ]
  },
  {
   "cell_type": "markdown",
   "id": "4ef37c6d",
   "metadata": {
    "hidden": true
   },
   "source": [
    "Ask the KAM to talk to the partner in order to activate that product"
   ]
  },
  {
   "cell_type": "code",
   "execution_count": 18,
   "id": "87f5a6f9",
   "metadata": {
    "ExecuteTime": {
     "end_time": "2021-06-29T20:43:35.096805Z",
     "start_time": "2021-06-29T20:43:35.064044Z"
    },
    "hidden": true,
    "scrolled": true
   },
   "outputs": [
    {
     "name": "stdout",
     "output_type": "stream",
     "text": [
      "count    456.000000\n",
      "mean       0.999452\n",
      "std        0.011707\n",
      "min        0.750000\n",
      "25%        1.000000\n",
      "50%        1.000000\n",
      "75%        1.000000\n",
      "max        1.000000\n",
      "Name: fr, dtype: float64\n"
     ]
    },
    {
     "data": {
      "text/html": [
       "<div>\n",
       "<style scoped>\n",
       "    .dataframe tbody tr th:only-of-type {\n",
       "        vertical-align: middle;\n",
       "    }\n",
       "\n",
       "    .dataframe tbody tr th {\n",
       "        vertical-align: top;\n",
       "    }\n",
       "\n",
       "    .dataframe thead th {\n",
       "        text-align: right;\n",
       "    }\n",
       "</style>\n",
       "<table border=\"1\" class=\"dataframe\">\n",
       "  <thead>\n",
       "    <tr style=\"text-align: right;\">\n",
       "      <th></th>\n",
       "      <th>store_id</th>\n",
       "      <th>productbranch_id</th>\n",
       "      <th>catalog_product_id</th>\n",
       "      <th>price</th>\n",
       "      <th>requested</th>\n",
       "      <th>found</th>\n",
       "      <th>sales</th>\n",
       "      <th>order_products</th>\n",
       "      <th>fr</th>\n",
       "      <th>avg_price</th>\n",
       "      <th>mk_un</th>\n",
       "      <th>mk_p</th>\n",
       "      <th>mk_tot</th>\n",
       "    </tr>\n",
       "  </thead>\n",
       "  <tbody>\n",
       "    <tr>\n",
       "      <th>35</th>\n",
       "      <td>98</td>\n",
       "      <td>8205166</td>\n",
       "      <td>357712</td>\n",
       "      <td>323.0</td>\n",
       "      <td>1.0</td>\n",
       "      <td>1.0</td>\n",
       "      <td>323.0</td>\n",
       "      <td>1.0</td>\n",
       "      <td>1.0</td>\n",
       "      <td>323.0</td>\n",
       "      <td>0.0</td>\n",
       "      <td>0.0</td>\n",
       "      <td>0.0</td>\n",
       "    </tr>\n",
       "    <tr>\n",
       "      <th>87</th>\n",
       "      <td>98</td>\n",
       "      <td>8205242</td>\n",
       "      <td>355285</td>\n",
       "      <td>415.0</td>\n",
       "      <td>1.0</td>\n",
       "      <td>1.0</td>\n",
       "      <td>415.0</td>\n",
       "      <td>1.0</td>\n",
       "      <td>1.0</td>\n",
       "      <td>415.0</td>\n",
       "      <td>0.0</td>\n",
       "      <td>0.0</td>\n",
       "      <td>0.0</td>\n",
       "    </tr>\n",
       "    <tr>\n",
       "      <th>116</th>\n",
       "      <td>98</td>\n",
       "      <td>8205277</td>\n",
       "      <td>340772</td>\n",
       "      <td>190.0</td>\n",
       "      <td>2.0</td>\n",
       "      <td>2.0</td>\n",
       "      <td>380.0</td>\n",
       "      <td>1.0</td>\n",
       "      <td>1.0</td>\n",
       "      <td>190.0</td>\n",
       "      <td>0.0</td>\n",
       "      <td>0.0</td>\n",
       "      <td>0.0</td>\n",
       "    </tr>\n",
       "    <tr>\n",
       "      <th>118</th>\n",
       "      <td>98</td>\n",
       "      <td>8205279</td>\n",
       "      <td>333349</td>\n",
       "      <td>165.0</td>\n",
       "      <td>1.0</td>\n",
       "      <td>1.0</td>\n",
       "      <td>165.0</td>\n",
       "      <td>1.0</td>\n",
       "      <td>1.0</td>\n",
       "      <td>165.0</td>\n",
       "      <td>0.0</td>\n",
       "      <td>0.0</td>\n",
       "      <td>0.0</td>\n",
       "    </tr>\n",
       "    <tr>\n",
       "      <th>171</th>\n",
       "      <td>98</td>\n",
       "      <td>8205349</td>\n",
       "      <td>170519</td>\n",
       "      <td>644.0</td>\n",
       "      <td>1.0</td>\n",
       "      <td>1.0</td>\n",
       "      <td>644.0</td>\n",
       "      <td>1.0</td>\n",
       "      <td>1.0</td>\n",
       "      <td>644.0</td>\n",
       "      <td>0.0</td>\n",
       "      <td>0.0</td>\n",
       "      <td>0.0</td>\n",
       "    </tr>\n",
       "  </tbody>\n",
       "</table>\n",
       "</div>"
      ],
      "text/plain": [
       "     store_id  productbranch_id catalog_product_id  price  requested  found  \\\n",
       "35         98           8205166             357712  323.0        1.0    1.0   \n",
       "87         98           8205242             355285  415.0        1.0    1.0   \n",
       "116        98           8205277             340772  190.0        2.0    2.0   \n",
       "118        98           8205279             333349  165.0        1.0    1.0   \n",
       "171        98           8205349             170519  644.0        1.0    1.0   \n",
       "\n",
       "     sales  order_products   fr  avg_price  mk_un  mk_p  mk_tot  \n",
       "35   323.0             1.0  1.0      323.0    0.0   0.0     0.0  \n",
       "87   415.0             1.0  1.0      415.0    0.0   0.0     0.0  \n",
       "116  380.0             1.0  1.0      190.0    0.0   0.0     0.0  \n",
       "118  165.0             1.0  1.0      165.0    0.0   0.0     0.0  \n",
       "171  644.0             1.0  1.0      644.0    0.0   0.0     0.0  "
      ]
     },
     "execution_count": 18,
     "metadata": {},
     "output_type": "execute_result"
    }
   ],
   "source": [
    "good_perf = df[(~df['productbranch_id'].isin(bad_perf['productbranch_id']))&\n",
    "               (df['order_products']>0)].copy()\n",
    "good_perf.to_csv(os.path.join(BASE_DIR,f'good_perf_{STORE}.csv'),index=False)\n",
    "print(good_perf['fr'].describe())\n",
    "good_perf.head()"
   ]
  },
  {
   "cell_type": "markdown",
   "id": "d9cba972",
   "metadata": {
    "heading_collapsed": true
   },
   "source": [
    "## Bulk"
   ]
  },
  {
   "cell_type": "code",
   "execution_count": 19,
   "id": "8135aa8e",
   "metadata": {
    "ExecuteTime": {
     "end_time": "2021-06-29T20:43:35.568278Z",
     "start_time": "2021-06-29T20:43:35.101943Z"
    },
    "hidden": true
   },
   "outputs": [],
   "source": [
    "bad_perf.to_csv(os.path.join(BASE_DIR,f'bad_performance_{STORE}.csv'),index=False)"
   ]
  },
  {
   "cell_type": "code",
   "execution_count": 20,
   "id": "c14b2199",
   "metadata": {
    "ExecuteTime": {
     "end_time": "2021-06-29T20:43:35.592258Z",
     "start_time": "2021-06-29T20:43:35.570410Z"
    },
    "hidden": true
   },
   "outputs": [
    {
     "data": {
      "text/html": [
       "<div>\n",
       "<style scoped>\n",
       "    .dataframe tbody tr th:only-of-type {\n",
       "        vertical-align: middle;\n",
       "    }\n",
       "\n",
       "    .dataframe tbody tr th {\n",
       "        vertical-align: top;\n",
       "    }\n",
       "\n",
       "    .dataframe thead th {\n",
       "        text-align: right;\n",
       "    }\n",
       "</style>\n",
       "<table border=\"1\" class=\"dataframe\">\n",
       "  <thead>\n",
       "    <tr style=\"text-align: right;\">\n",
       "      <th></th>\n",
       "      <th>store_id</th>\n",
       "      <th>product_branch_id</th>\n",
       "      <th>price</th>\n",
       "      <th>availability</th>\n",
       "      <th>schedule</th>\n",
       "    </tr>\n",
       "  </thead>\n",
       "  <tbody>\n",
       "    <tr>\n",
       "      <th>0</th>\n",
       "      <td>98</td>\n",
       "      <td>8205112</td>\n",
       "      <td></td>\n",
       "      <td>UNAVAILABLE</td>\n",
       "      <td></td>\n",
       "    </tr>\n",
       "    <tr>\n",
       "      <th>1</th>\n",
       "      <td>98</td>\n",
       "      <td>8205114</td>\n",
       "      <td></td>\n",
       "      <td>UNAVAILABLE</td>\n",
       "      <td></td>\n",
       "    </tr>\n",
       "    <tr>\n",
       "      <th>2</th>\n",
       "      <td>98</td>\n",
       "      <td>8205116</td>\n",
       "      <td></td>\n",
       "      <td>UNAVAILABLE</td>\n",
       "      <td></td>\n",
       "    </tr>\n",
       "    <tr>\n",
       "      <th>3</th>\n",
       "      <td>98</td>\n",
       "      <td>8205117</td>\n",
       "      <td></td>\n",
       "      <td>UNAVAILABLE</td>\n",
       "      <td></td>\n",
       "    </tr>\n",
       "    <tr>\n",
       "      <th>4</th>\n",
       "      <td>98</td>\n",
       "      <td>8205118</td>\n",
       "      <td></td>\n",
       "      <td>UNAVAILABLE</td>\n",
       "      <td></td>\n",
       "    </tr>\n",
       "  </tbody>\n",
       "</table>\n",
       "</div>"
      ],
      "text/plain": [
       "   store_id  product_branch_id price availability schedule\n",
       "0        98            8205112        UNAVAILABLE         \n",
       "1        98            8205114        UNAVAILABLE         \n",
       "2        98            8205116        UNAVAILABLE         \n",
       "3        98            8205117        UNAVAILABLE         \n",
       "4        98            8205118        UNAVAILABLE         "
      ]
     },
     "execution_count": 20,
     "metadata": {},
     "output_type": "execute_result"
    }
   ],
   "source": [
    "export = bad_perf[['store_id','productbranch_id']].copy().drop_duplicates()\n",
    "export.rename(columns={'productbranch_id':'product_branch_id'},inplace=True)\n",
    "export['price'] = ''\n",
    "export['availability'] = 'UNAVAILABLE'\n",
    "export['schedule'] = ''\n",
    "export.head()"
   ]
  },
  {
   "cell_type": "markdown",
   "id": "dcdcd125",
   "metadata": {},
   "source": [
    "## Summary"
   ]
  },
  {
   "cell_type": "code",
   "execution_count": 21,
   "id": "5bee5327",
   "metadata": {
    "ExecuteTime": {
     "end_time": "2021-06-29T20:43:46.530354Z",
     "start_time": "2021-06-29T20:43:35.593828Z"
    }
   },
   "outputs": [
    {
     "name": "stdout",
     "output_type": "stream",
     "text": [
      "The file with 88559 rows has been split up into 9 batches of 10000 rows each\n"
     ]
    }
   ],
   "source": [
    "batches(BASE_DIR,STORE,export)"
   ]
  },
  {
   "cell_type": "code",
   "execution_count": 22,
   "id": "8cab033a",
   "metadata": {
    "ExecuteTime": {
     "end_time": "2021-06-29T20:43:46.549695Z",
     "start_time": "2021-06-29T20:43:46.532728Z"
    },
    "scrolled": true
   },
   "outputs": [
    {
     "name": "stdout",
     "output_type": "stream",
     "text": [
      "0 minutos con 12.30 segundos\n"
     ]
    },
    {
     "data": {
      "text/html": [
       "\n",
       "                <audio  controls=\"controls\" autoplay=\"autoplay\">\n",
       "                    <source src=\"data:audio/wav;base64,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\" type=\"audio/wav\" />\n",
       "                    Your browser does not support the audio element.\n",
       "                </audio>\n",
       "              "
      ],
      "text/plain": [
       "<IPython.lib.display.Audio object>"
      ]
     },
     "execution_count": 22,
     "metadata": {},
     "output_type": "execute_result"
    }
   ],
   "source": [
    "time_exp(time.time()-start)\n",
    "tono()"
   ]
  },
  {
   "cell_type": "code",
   "execution_count": 23,
   "id": "5a9bd943",
   "metadata": {
    "ExecuteTime": {
     "end_time": "2021-06-29T20:43:46.602458Z",
     "start_time": "2021-06-29T20:43:46.555453Z"
    },
    "scrolled": true
   },
   "outputs": [
    {
     "name": "stdout",
     "output_type": "stream",
     "text": [
      "Para la tienda Alianza, los productbranch se distribuyen:    \n",
      "-Catálogo\t148204    \n",
      "-Supply\t\t91395    \n",
      "-Sin mapear\t89058\t(59.1%)    \n",
      " -Brands\t0    \n",
      " -Sin órdenes\t88365    \n",
      " -Buen perform\t456\t(FR 99.9%)    \n",
      " -Mal perform\t88553\t(FR 0.0%)    \n",
      " -Markup +-3%\t6\t(MK -2365, -20.8%)    \n",
      "\n",
      "-Por desactivar\t88559\t(59.8%)    \n",
      " -Productos \t154    \n",
      " -Orders_prod\t210\t(13.5%)    \n",
      " -Ventas $ \t17499\t(2.3%)\n"
     ]
    }
   ],
   "source": [
    "summary()"
   ]
  }
 ],
 "metadata": {
  "kernelspec": {
   "display_name": "Python 3",
   "language": "python",
   "name": "python3"
  },
  "language_info": {
   "codemirror_mode": {
    "name": "ipython",
    "version": 3
   },
   "file_extension": ".py",
   "mimetype": "text/x-python",
   "name": "python",
   "nbconvert_exporter": "python",
   "pygments_lexer": "ipython3",
   "version": "3.9.1"
  },
  "toc": {
   "base_numbering": 1,
   "nav_menu": {},
   "number_sections": true,
   "sideBar": true,
   "skip_h1_title": true,
   "title_cell": "Table of Contents",
   "title_sidebar": "Contents",
   "toc_cell": false,
   "toc_position": {},
   "toc_section_display": true,
   "toc_window_display": true
  },
  "varInspector": {
   "cols": {
    "lenName": 16,
    "lenType": 16,
    "lenVar": 40
   },
   "kernels_config": {
    "python": {
     "delete_cmd_postfix": "",
     "delete_cmd_prefix": "del ",
     "library": "var_list.py",
     "varRefreshCmd": "print(var_dic_list())"
    },
    "r": {
     "delete_cmd_postfix": ") ",
     "delete_cmd_prefix": "rm(",
     "library": "var_list.r",
     "varRefreshCmd": "cat(var_dic_list()) "
    }
   },
   "types_to_exclude": [
    "module",
    "function",
    "builtin_function_or_method",
    "instance",
    "_Feature"
   ],
   "window_display": false
  }
 },
 "nbformat": 4,
 "nbformat_minor": 5
}
