{
  "nbformat": 4,
  "nbformat_minor": 0,
  "metadata": {
    "colab": {
      "name": "EF_DataTeamLeader_Proxy.ipynb",
      "provenance": [],
      "collapsed_sections": [
        "6iF4VHfGFvlZ",
        "u3ObKLTFGDMQ"
      ]
    },
    "kernelspec": {
      "name": "python3",
      "display_name": "Python 3"
    },
    "language_info": {
      "name": "python"
    }
  },
  "cells": [
    {
      "cell_type": "markdown",
      "source": [
        "# Selección de proxy 👏🏽👏🏽👏🏽"
      ],
      "metadata": {
        "id": "Iq3vUMsOrH94"
      }
    },
    {
      "cell_type": "markdown",
      "source": [
        "## Parámetros 🏥"
      ],
      "metadata": {
        "id": "rq08FkW1Fr6W"
      }
    },
    {
      "cell_type": "code",
      "execution_count": null,
      "metadata": {
        "id": "g1xmPywkrEog"
      },
      "outputs": [],
      "source": [
        "BASE_DIR = '/content/drive/MyDrive/Colab Notebooks/EF_DataTeamLeader'\n",
        "FILE_NAME = 'EF Data Team Leader'"
      ]
    },
    {
      "cell_type": "markdown",
      "source": [
        "## Entorno 🚀"
      ],
      "metadata": {
        "id": "6iF4VHfGFvlZ"
      }
    },
    {
      "cell_type": "code",
      "source": [
        "!pip install --upgrade -q gspread\n",
        "\n",
        "# Conectar con GSheets\n",
        "from gspread import authorize\n",
        "from google.colab.auth import authenticate_user\n",
        "from oauth2client.client import GoogleCredentials\n",
        "\n",
        "# Control de datos\n",
        "from pathlib import Path\n",
        "from pandas import DataFrame, ExcelFile\n",
        "\n",
        "# Modelos\n",
        "from sklearn.neighbors import NearestNeighbors\n",
        "from sklearn.preprocessing import RobustScaler"
      ],
      "metadata": {
        "id": "ziH-lUtqrRsG"
      },
      "execution_count": null,
      "outputs": []
    },
    {
      "cell_type": "markdown",
      "source": [
        "## Código 🧑🏾‍💻"
      ],
      "metadata": {
        "id": "u3ObKLTFGDMQ"
      }
    },
    {
      "cell_type": "code",
      "source": [
        "class GetProxy:\n",
        "    def __init__(self, base_dir: str, file_name: str) -> None:\n",
        "        self.base_dir = Path(BASE_DIR)\n",
        "        self.file_name = FILE_NAME\n",
        "        self.file_path = self.base_dir.joinpath(self.file_name+'.gsheet')\n",
        "        if not self.file_path.is_file():\n",
        "            print(f'No existe el archivo llamado: {self.file_name} en:\\n{self.base_dir}')\n",
        "    \n",
        "    \n",
        "    def read_file(self) -> None:\n",
        "        gc = authorize(GoogleCredentials.get_application_default())\n",
        "        read_worksheet = gc.open(self.file_name).worksheet('data_caso')\n",
        "        rows = read_worksheet.get_all_values()\n",
        "        df = DataFrame.from_records(rows)\n",
        "        df.columns = df.iloc[1,:]\n",
        "        self.data = df.drop([0,1]).reset_index(drop=True).iloc[:,1:]\n",
        "        self.new_cities = [x for x,y in dict(self.data.iloc[:,:2].values).items() if y=='Sí']\n",
        "    \n",
        "\n",
        "    def set_file(self, id_col: str='municipio', to_drop: list=['nueva','orders_nov','ueats_orders','supermarkets','pob_internet']) -> None:\n",
        "        df = self.data.copy()\n",
        "        df.drop(to_drop, axis=1, inplace=True)\n",
        "        df.set_index(id_col, inplace=True)\n",
        "        for col in df.columns: \n",
        "            df[col] = df[col].map(lambda x: str(x).replace('%','').replace(',','')).astype(float)\n",
        "        self.df = df.copy()\n",
        "\n",
        "\n",
        "    def get_closest(self, max_dist=1e10, n_closest=17, group_closest: bool=False):\n",
        "        df = self.df.copy()\n",
        "        scaler = RobustScaler()\n",
        "        df = DataFrame(scaler.fit_transform(df), index=df.index, columns=df.columns)\n",
        "\n",
        "        nbrs = NearestNeighbors(n_neighbors=n_closest, algorithm='ball_tree', n_jobs=-1)\n",
        "        nbrs.fit(df)\n",
        "        distances, indices = nbrs.kneighbors(df)\n",
        "\n",
        "        dist_cols = ['dist_'+str(x).zfill(2) for x in range(n_closest)]\n",
        "        distances = DataFrame(distances,\n",
        "                                index=df.index,\n",
        "                                columns=dist_cols).iloc[:,1:]\n",
        "        distances = distances[distances['dist_01'] <= max_dist].copy()\n",
        "        \n",
        "        indices_cols = ['indice_'+str(x).zfill(2) for x in range(n_closest)]\n",
        "        indices = DataFrame(indices,\n",
        "                            index=df.index,\n",
        "                            columns=indices_cols).iloc[:,1:]\n",
        "        \n",
        "        indices.replace(dict(enumerate(df.index)), inplace=True)\n",
        "        closest = distances.join(indices)\n",
        "        self.closest = closest.copy()\n",
        "\n",
        "        if group_closest:\n",
        "            total_closest = []\n",
        "            for row in closest.index:\n",
        "                aux = []\n",
        "                for dist_col,id_col in zip(dist_cols[1:],indices_cols[1:]):\n",
        "                    if closest.loc[row,dist_col] <= max_dist:\n",
        "                        aux.append(closest.loc[row,id_col])\n",
        "                total_closest.append(aux)\n",
        "            closest['closest'] = total_closest\n",
        "            closest['closest'] = closest['closest'].map(', '.join)\n",
        "            self.closest = closest.copy()\n",
        "\n",
        "\n",
        "    def split_new_cities(self, max_cities: int=3) -> None:\n",
        "        df = self.closest.copy()\n",
        "        df = df.filter(like='indice_')\n",
        "        new_ones = []\n",
        "        old_ones = []\n",
        "        for row in df.index:\n",
        "            aux_new = []\n",
        "            aux_old = []\n",
        "            for col in df.columns:\n",
        "                city = df.loc[row,col]\n",
        "                if city in self.new_cities: aux_new.append(city)\n",
        "                else: aux_old.append(city)\n",
        "            new_ones.append(aux_new[:max_cities])\n",
        "            old_ones.append(aux_old[:max_cities])\n",
        "        df['new_cities_proxy'] = new_ones\n",
        "        df['old_cities_proxy'] = old_ones\n",
        "        self.cols = ['old_cities_proxy','new_cities_proxy']\n",
        "        for col in self.cols: df[col] = df[col].map(', '.join)\n",
        "        self.result = df[self.cols].reset_index()\n",
        "\n",
        "\n",
        "    def split_proxies(self) -> None:\n",
        "        for col in self.cols:\n",
        "            aux = self.result[col].str.split(', ', expand=True)\n",
        "            aux.index = self.result.index\n",
        "            aux.columns = [f'{col}_{i+1}' for i,_ in enumerate(aux.columns)]\n",
        "            self.result = self.result.join(aux)\n",
        "\n",
        "\n",
        "    def edit_gsheets(self, sheet: str='PROXY') -> None:\n",
        "        rows, cols = self.result.shape\n",
        "        gc = authorize(GoogleCredentials.get_application_default())\n",
        "        edit_worksheet = gc.open(self.file_name).worksheet(sheet)\n",
        "        edit_worksheet.update([self.result.columns.values.tolist()] + self.result.values.tolist())\n",
        "        print(f'\\nEl archivo \"{self.file_name}\" pestaña \"{sheet}\", fue actualizado exitosamente en:\\n\"{self.base_dir}\"\\n')\n",
        "        \n",
        "\n",
        "    def get_proxy(self) -> DataFrame:\n",
        "        self.read_file()\n",
        "        self.set_file()\n",
        "        self.get_closest()\n",
        "        self.split_new_cities()\n",
        "        self.split_proxies()\n",
        "        self.edit_gsheets()\n",
        "        return self.result\n"
      ],
      "metadata": {
        "id": "fr2Omc48GEZl"
      },
      "execution_count": null,
      "outputs": []
    },
    {
      "cell_type": "markdown",
      "source": [
        "## Autenticar con Google 🌎"
      ],
      "metadata": {
        "id": "kyg1O7xIF5Ea"
      }
    },
    {
      "cell_type": "code",
      "source": [
        "authenticate_user()"
      ],
      "metadata": {
        "id": "bwW5VQ3oF9aJ"
      },
      "execution_count": null,
      "outputs": []
    },
    {
      "cell_type": "markdown",
      "source": [
        "## Donde ocurre la magia 🪄"
      ],
      "metadata": {
        "id": "W__f-bCBGgK3"
      }
    },
    {
      "cell_type": "code",
      "source": [
        "sp = GetProxy(BASE_DIR, FILE_NAME)\n",
        "df = sp.get_proxy()\n",
        "df.head()"
      ],
      "metadata": {
        "colab": {
          "base_uri": "https://localhost:8080/",
          "height": 444
        },
        "id": "66vy4W9Jr6_m",
        "outputId": "52557ed3-d562-4e7d-d9d0-b91a46dc0fa8"
      },
      "execution_count": null,
      "outputs": [
        {
          "output_type": "stream",
          "name": "stdout",
          "text": [
            "\n",
            "El archivo \"EF Data Team Leader\" pestaña \"PROXY\", fue actualizado exitosamente en:\n",
            "\"/content/drive/MyDrive/Colab Notebooks/EF_DataTeamLeader\"\n",
            "\n"
          ]
        },
        {
          "output_type": "execute_result",
          "data": {
            "text/html": [
              "\n",
              "  <div id=\"df-7ee9d77d-338e-40c2-a875-2826229428b1\">\n",
              "    <div class=\"colab-df-container\">\n",
              "      <div>\n",
              "<style scoped>\n",
              "    .dataframe tbody tr th:only-of-type {\n",
              "        vertical-align: middle;\n",
              "    }\n",
              "\n",
              "    .dataframe tbody tr th {\n",
              "        vertical-align: top;\n",
              "    }\n",
              "\n",
              "    .dataframe thead th {\n",
              "        text-align: right;\n",
              "    }\n",
              "</style>\n",
              "<table border=\"1\" class=\"dataframe\">\n",
              "  <thead>\n",
              "    <tr style=\"text-align: right;\">\n",
              "      <th></th>\n",
              "      <th>municipio</th>\n",
              "      <th>old_cities_proxy</th>\n",
              "      <th>new_cities_proxy</th>\n",
              "      <th>old_cities_proxy_1</th>\n",
              "      <th>old_cities_proxy_2</th>\n",
              "      <th>old_cities_proxy_3</th>\n",
              "      <th>new_cities_proxy_1</th>\n",
              "      <th>new_cities_proxy_2</th>\n",
              "      <th>new_cities_proxy_3</th>\n",
              "    </tr>\n",
              "  </thead>\n",
              "  <tbody>\n",
              "    <tr>\n",
              "      <th>0</th>\n",
              "      <td>Tijuana</td>\n",
              "      <td>León, Mérida, Querétaro</td>\n",
              "      <td>Culiacán, Mexicali, Hermosillo</td>\n",
              "      <td>León</td>\n",
              "      <td>Mérida</td>\n",
              "      <td>Querétaro</td>\n",
              "      <td>Culiacán</td>\n",
              "      <td>Mexicali</td>\n",
              "      <td>Hermosillo</td>\n",
              "    </tr>\n",
              "    <tr>\n",
              "      <th>1</th>\n",
              "      <td>Juárez</td>\n",
              "      <td>León, Toluca, Chihuahua</td>\n",
              "      <td>Hermosillo, Culiacán, Morelia</td>\n",
              "      <td>León</td>\n",
              "      <td>Toluca</td>\n",
              "      <td>Chihuahua</td>\n",
              "      <td>Hermosillo</td>\n",
              "      <td>Culiacán</td>\n",
              "      <td>Morelia</td>\n",
              "    </tr>\n",
              "    <tr>\n",
              "      <th>2</th>\n",
              "      <td>Hermosillo</td>\n",
              "      <td>Chihuahua, Toluca, León</td>\n",
              "      <td>Culiacán, Mexicali, Juárez</td>\n",
              "      <td>Chihuahua</td>\n",
              "      <td>Toluca</td>\n",
              "      <td>León</td>\n",
              "      <td>Culiacán</td>\n",
              "      <td>Mexicali</td>\n",
              "      <td>Juárez</td>\n",
              "    </tr>\n",
              "    <tr>\n",
              "      <th>3</th>\n",
              "      <td>Mexicali</td>\n",
              "      <td>Cancún, Mérida, Chihuahua</td>\n",
              "      <td>Culiacán, Cuernavaca, Hermosillo</td>\n",
              "      <td>Cancún</td>\n",
              "      <td>Mérida</td>\n",
              "      <td>Chihuahua</td>\n",
              "      <td>Culiacán</td>\n",
              "      <td>Cuernavaca</td>\n",
              "      <td>Hermosillo</td>\n",
              "    </tr>\n",
              "    <tr>\n",
              "      <th>4</th>\n",
              "      <td>Morelia</td>\n",
              "      <td>Chihuahua, Cancún, León</td>\n",
              "      <td>Hermosillo, Culiacán, Mexicali</td>\n",
              "      <td>Chihuahua</td>\n",
              "      <td>Cancún</td>\n",
              "      <td>León</td>\n",
              "      <td>Hermosillo</td>\n",
              "      <td>Culiacán</td>\n",
              "      <td>Mexicali</td>\n",
              "    </tr>\n",
              "  </tbody>\n",
              "</table>\n",
              "</div>\n",
              "      <button class=\"colab-df-convert\" onclick=\"convertToInteractive('df-7ee9d77d-338e-40c2-a875-2826229428b1')\"\n",
              "              title=\"Convert this dataframe to an interactive table.\"\n",
              "              style=\"display:none;\">\n",
              "        \n",
              "  <svg xmlns=\"http://www.w3.org/2000/svg\" height=\"24px\"viewBox=\"0 0 24 24\"\n",
              "       width=\"24px\">\n",
              "    <path d=\"M0 0h24v24H0V0z\" fill=\"none\"/>\n",
              "    <path d=\"M18.56 5.44l.94 2.06.94-2.06 2.06-.94-2.06-.94-.94-2.06-.94 2.06-2.06.94zm-11 1L8.5 8.5l.94-2.06 2.06-.94-2.06-.94L8.5 2.5l-.94 2.06-2.06.94zm10 10l.94 2.06.94-2.06 2.06-.94-2.06-.94-.94-2.06-.94 2.06-2.06.94z\"/><path d=\"M17.41 7.96l-1.37-1.37c-.4-.4-.92-.59-1.43-.59-.52 0-1.04.2-1.43.59L10.3 9.45l-7.72 7.72c-.78.78-.78 2.05 0 2.83L4 21.41c.39.39.9.59 1.41.59.51 0 1.02-.2 1.41-.59l7.78-7.78 2.81-2.81c.8-.78.8-2.07 0-2.86zM5.41 20L4 18.59l7.72-7.72 1.47 1.35L5.41 20z\"/>\n",
              "  </svg>\n",
              "      </button>\n",
              "      \n",
              "  <style>\n",
              "    .colab-df-container {\n",
              "      display:flex;\n",
              "      flex-wrap:wrap;\n",
              "      gap: 12px;\n",
              "    }\n",
              "\n",
              "    .colab-df-convert {\n",
              "      background-color: #E8F0FE;\n",
              "      border: none;\n",
              "      border-radius: 50%;\n",
              "      cursor: pointer;\n",
              "      display: none;\n",
              "      fill: #1967D2;\n",
              "      height: 32px;\n",
              "      padding: 0 0 0 0;\n",
              "      width: 32px;\n",
              "    }\n",
              "\n",
              "    .colab-df-convert:hover {\n",
              "      background-color: #E2EBFA;\n",
              "      box-shadow: 0px 1px 2px rgba(60, 64, 67, 0.3), 0px 1px 3px 1px rgba(60, 64, 67, 0.15);\n",
              "      fill: #174EA6;\n",
              "    }\n",
              "\n",
              "    [theme=dark] .colab-df-convert {\n",
              "      background-color: #3B4455;\n",
              "      fill: #D2E3FC;\n",
              "    }\n",
              "\n",
              "    [theme=dark] .colab-df-convert:hover {\n",
              "      background-color: #434B5C;\n",
              "      box-shadow: 0px 1px 3px 1px rgba(0, 0, 0, 0.15);\n",
              "      filter: drop-shadow(0px 1px 2px rgba(0, 0, 0, 0.3));\n",
              "      fill: #FFFFFF;\n",
              "    }\n",
              "  </style>\n",
              "\n",
              "      <script>\n",
              "        const buttonEl =\n",
              "          document.querySelector('#df-7ee9d77d-338e-40c2-a875-2826229428b1 button.colab-df-convert');\n",
              "        buttonEl.style.display =\n",
              "          google.colab.kernel.accessAllowed ? 'block' : 'none';\n",
              "\n",
              "        async function convertToInteractive(key) {\n",
              "          const element = document.querySelector('#df-7ee9d77d-338e-40c2-a875-2826229428b1');\n",
              "          const dataTable =\n",
              "            await google.colab.kernel.invokeFunction('convertToInteractive',\n",
              "                                                     [key], {});\n",
              "          if (!dataTable) return;\n",
              "\n",
              "          const docLinkHtml = 'Like what you see? Visit the ' +\n",
              "            '<a target=\"_blank\" href=https://colab.research.google.com/notebooks/data_table.ipynb>data table notebook</a>'\n",
              "            + ' to learn more about interactive tables.';\n",
              "          element.innerHTML = '';\n",
              "          dataTable['output_type'] = 'display_data';\n",
              "          await google.colab.output.renderOutput(dataTable, element);\n",
              "          const docLink = document.createElement('div');\n",
              "          docLink.innerHTML = docLinkHtml;\n",
              "          element.appendChild(docLink);\n",
              "        }\n",
              "      </script>\n",
              "    </div>\n",
              "  </div>\n",
              "  "
            ],
            "text/plain": [
              "    municipio           old_cities_proxy  ... new_cities_proxy_2 new_cities_proxy_3\n",
              "0     Tijuana    León, Mérida, Querétaro  ...           Mexicali         Hermosillo\n",
              "1      Juárez    León, Toluca, Chihuahua  ...           Culiacán            Morelia\n",
              "2  Hermosillo    Chihuahua, Toluca, León  ...           Mexicali             Juárez\n",
              "3    Mexicali  Cancún, Mérida, Chihuahua  ...         Cuernavaca         Hermosillo\n",
              "4     Morelia    Chihuahua, Cancún, León  ...           Culiacán           Mexicali\n",
              "\n",
              "[5 rows x 9 columns]"
            ]
          },
          "metadata": {},
          "execution_count": 6
        }
      ]
    }
  ]
}